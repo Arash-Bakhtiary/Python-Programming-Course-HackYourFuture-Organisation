{
 "cells": [
  {
   "cell_type": "markdown",
   "id": "dbee02f3",
   "metadata": {},
   "source": [
    "# Assignments - W3 (The Break Statement)"
   ]
  },
  {
   "cell_type": "markdown",
   "id": "bb95fe9e",
   "metadata": {},
   "source": [
    "Assignment 1: Find the Nth Prime Number"
   ]
  },
  {
   "cell_type": "markdown",
   "id": "8f2542e9",
   "metadata": {},
   "source": [
    "Task: Write a Python program to find the Nth prime number using a while loop and the break statement."
   ]
  },
  {
   "cell_type": "markdown",
   "id": "99ccd96f",
   "metadata": {},
   "source": [
    "Answer: "
   ]
  },
  {
   "cell_type": "code",
   "execution_count": 12,
   "id": "23bfceac",
   "metadata": {},
   "outputs": [
    {
     "name": "stdout",
     "output_type": "stream",
     "text": [
      "The 5th prime number is 11\n"
     ]
    }
   ],
   "source": [
    "def is_prime(num):\n",
    "    if num <= 1:\n",
    "        return False\n",
    "    for i in range(2, int(num ** 0.5) + 1):\n",
    "        if num % i == 0:\n",
    "            return False\n",
    "    return True\n",
    "\n",
    "n = 5\n",
    "count = 0\n",
    "num = 2\n",
    "while True:\n",
    "    if is_prime(num):\n",
    "        count += 1\n",
    "    if count == n:\n",
    "        break\n",
    "    num += 1\n",
    "print(f\"The {n}th prime number is {num}\")"
   ]
  },
  {
   "cell_type": "markdown",
   "id": "88bdd140",
   "metadata": {},
   "source": [
    "Assignment 2: Find the Longest Consecutive Sequence"
   ]
  },
  {
   "cell_type": "markdown",
   "id": "75f21a28",
   "metadata": {},
   "source": [
    "Task: Write a Python program to find the longest consecutive sequence of elements in a list using a for loop and the break statement."
   ]
  },
  {
   "cell_type": "markdown",
   "id": "01eeb0c8",
   "metadata": {},
   "source": [
    "Answer: "
   ]
  },
  {
   "cell_type": "code",
   "execution_count": 11,
   "id": "d82012a3",
   "metadata": {},
   "outputs": [
    {
     "name": "stdout",
     "output_type": "stream",
     "text": [
      "Longest consecutive sequence: [1, 2, 3, 4]\n"
     ]
    }
   ],
   "source": [
    "def longest_consecutive_sequence(arr):\n",
    "    arr_set = set(arr)\n",
    "    longest_sequence = []\n",
    "    current_sequence = []\n",
    "\n",
    "    for num in arr:\n",
    "        if num - 1 not in arr_set:\n",
    "            current_sequence = [num]\n",
    "\n",
    "            while num + 1 in arr_set:\n",
    "                num += 1\n",
    "                current_sequence.append(num)\n",
    "\n",
    "            if len(current_sequence) > len(longest_sequence):\n",
    "                longest_sequence = current_sequence\n",
    "\n",
    "    return longest_sequence\n",
    "\n",
    "numbers = [100, 4, 200, 1, 3, 2]\n",
    "sequence = longest_consecutive_sequence(numbers)\n",
    "print(\"Longest consecutive sequence:\", sequence)"
   ]
  },
  {
   "cell_type": "markdown",
   "id": "37095431",
   "metadata": {},
   "source": [
    "Assignment 3: Find the Median of Two Sorted Arrays"
   ]
  },
  {
   "cell_type": "markdown",
   "id": "1433b40b",
   "metadata": {},
   "source": [
    "Task: Write a Python program to find the median of two sorted arrays using a while loop and the break statement."
   ]
  },
  {
   "cell_type": "markdown",
   "id": "7e3c5dbd",
   "metadata": {},
   "source": [
    "Answer: "
   ]
  },
  {
   "cell_type": "code",
   "execution_count": 10,
   "id": "97d3bab4",
   "metadata": {},
   "outputs": [
    {
     "name": "stdout",
     "output_type": "stream",
     "text": [
      "Median: 2\n"
     ]
    }
   ],
   "source": [
    "def find_median_sorted_arrays(nums1, nums2):\n",
    "    nums1.extend(nums2)\n",
    "    nums1.sort()\n",
    "    length = len(nums1)\n",
    "\n",
    "    if length % 2 == 0:\n",
    "        mid1 = nums1[length // 2]\n",
    "        mid2 = nums1[length // 2 - 1]\n",
    "        median = (mid1 + mid2) / 2\n",
    "    else:\n",
    "        median = nums1[length // 2]\n",
    "\n",
    "    return median\n",
    "\n",
    "array1 = [1, 3]\n",
    "array2 = [2]\n",
    "median = find_median_sorted_arrays(array1, array2)\n",
    "print(\"Median:\", median)"
   ]
  },
  {
   "cell_type": "markdown",
   "id": "09dfc6c6",
   "metadata": {},
   "source": [
    "Assignment 4: Find the Longest Substring Without Repeating Characters"
   ]
  },
  {
   "cell_type": "markdown",
   "id": "3e201eb0",
   "metadata": {},
   "source": [
    "Task: Write a Python program to find the length of the longest substring without repeating characters in a given string using a for loop and the break statement."
   ]
  },
  {
   "cell_type": "markdown",
   "id": "7b41ca07",
   "metadata": {},
   "source": [
    "Answer: "
   ]
  },
  {
   "cell_type": "code",
   "execution_count": 9,
   "id": "631e4c6d",
   "metadata": {},
   "outputs": [
    {
     "name": "stdout",
     "output_type": "stream",
     "text": [
      "Length of the longest substring without repeating characters: 3\n"
     ]
    }
   ],
   "source": [
    "def length_of_longest_substring(s):\n",
    "    char_set = set()\n",
    "    max_length = 0\n",
    "    left = 0\n",
    "\n",
    "    for right in range(len(s)):\n",
    "        while s[right] in char_set:\n",
    "            char_set.remove(s[left])\n",
    "            left += 1\n",
    "        char_set.add(s[right])\n",
    "        max_length = max(max_length, right - left + 1)\n",
    "\n",
    "    return max_length\n",
    "\n",
    "input_string = \"abcabcbb\"\n",
    "length = length_of_longest_substring(input_string)\n",
    "print(\"Length of the longest substring without repeating characters:\", length)"
   ]
  },
  {
   "cell_type": "markdown",
   "id": "cbcbb425",
   "metadata": {},
   "source": [
    "Assignment 5: Find the Longest Palindromic Substring"
   ]
  },
  {
   "cell_type": "markdown",
   "id": "f84a7d76",
   "metadata": {},
   "source": [
    "Task: Write a Python program to find the longest palindromic substring in a given string using a for loop and the break statement."
   ]
  },
  {
   "cell_type": "markdown",
   "id": "6fe275e7",
   "metadata": {},
   "source": [
    "Answer: "
   ]
  },
  {
   "cell_type": "code",
   "execution_count": 8,
   "id": "73b483f7",
   "metadata": {},
   "outputs": [
    {
     "name": "stdout",
     "output_type": "stream",
     "text": [
      "Longest palindromic substring: bab\n"
     ]
    }
   ],
   "source": [
    "def longest_palindromic_substring(s):\n",
    "    def expand_around_center(left, right):\n",
    "        while left >= 0 and right < len(s) and s[left] == s[right]:\n",
    "            left -= 1\n",
    "            right += 1\n",
    "        return s[left + 1:right]\n",
    "\n",
    "    longest = \"\"\n",
    "    for i in range(len(s)):\n",
    "        # Odd length palindrome\n",
    "        palindrome1 = expand_around_center(i, i)\n",
    "        if len(palindrome1) > len(longest):\n",
    "            longest = palindrome1\n",
    "\n",
    "        # Even length palindrome\n",
    "        palindrome2 = expand_around_center(i, i + 1)\n",
    "        if len(palindrome2) > len(longest):\n",
    "            longest = palindrome2\n",
    "\n",
    "    return longest\n",
    "\n",
    "input_string = \"babad\"\n",
    "substring = longest_palindromic_substring(input_string)\n",
    "print(\"Longest palindromic substring:\", substring)"
   ]
  },
  {
   "cell_type": "markdown",
   "id": "2db5a6f5",
   "metadata": {},
   "source": [
    "Assignment 6: Find the Longest Common Prefix"
   ]
  },
  {
   "cell_type": "markdown",
   "id": "83cfe4ad",
   "metadata": {},
   "source": [
    "Task: Write a Python program to find the longest common prefix of an array of strings using a for loop and the break statement."
   ]
  },
  {
   "cell_type": "markdown",
   "id": "cd7a0da9",
   "metadata": {},
   "source": [
    "Answer: "
   ]
  },
  {
   "cell_type": "code",
   "execution_count": 7,
   "id": "f40f5807",
   "metadata": {},
   "outputs": [
    {
     "name": "stdout",
     "output_type": "stream",
     "text": [
      "Longest common prefix: fl\n"
     ]
    }
   ],
   "source": [
    "def longest_common_prefix(strings):\n",
    "    if not strings:\n",
    "        return \"\"\n",
    "\n",
    "    prefix = strings[0]\n",
    "    for string in strings[1:]:\n",
    "        while string.find(prefix) != 0:\n",
    "            prefix = prefix[:-1]\n",
    "            if not prefix:\n",
    "                break\n",
    "    return prefix\n",
    "\n",
    "array = [\"flower\", \"flour\", \"flight\"]\n",
    "common_prefix = longest_common_prefix(array)\n",
    "print(\"Longest common prefix:\", common_prefix)"
   ]
  },
  {
   "cell_type": "markdown",
   "id": "11c25cf0",
   "metadata": {},
   "source": [
    "Assignment 7: Find the Smallest Missing Positive Integer"
   ]
  },
  {
   "cell_type": "markdown",
   "id": "cb2f2fe5",
   "metadata": {},
   "source": [
    "Task: Write a Python program to find the smallest missing positive integer in an unsorted list using a for loop and the break statement."
   ]
  },
  {
   "cell_type": "markdown",
   "id": "cf6aa719",
   "metadata": {},
   "source": [
    "Answer: "
   ]
  },
  {
   "cell_type": "code",
   "execution_count": 6,
   "id": "c033dcde",
   "metadata": {},
   "outputs": [
    {
     "name": "stdout",
     "output_type": "stream",
     "text": [
      "Smallest missing positive integer: 2\n"
     ]
    }
   ],
   "source": [
    "def first_missing_positive(nums):\n",
    "    n = len(nums)\n",
    "    for i in range(n):\n",
    "        while 1 <= nums[i] <= n and nums[nums[i] - 1] != nums[i]:\n",
    "            nums[nums[i] - 1], nums[i] = nums[i], nums[nums[i] - 1]\n",
    "\n",
    "    for i in range(n):\n",
    "        if nums[i] != i + 1:\n",
    "            return i + 1\n",
    "\n",
    "    return n + 1\n",
    "\n",
    "numbers = [3, 4, -1, 1]\n",
    "missing_positive = first_missing_positive(numbers)\n",
    "print(\"Smallest missing positive integer:\", missing_positive)"
   ]
  },
  {
   "cell_type": "markdown",
   "id": "cdc4ddf2",
   "metadata": {},
   "source": [
    "Assignment 8: Find the Longest Increasing Subsequence"
   ]
  },
  {
   "cell_type": "markdown",
   "id": "3bac4af1",
   "metadata": {},
   "source": [
    "Task: Write a Python program to find the length of the longest increasing subsequence in an unsorted array using a for loop and the break statement."
   ]
  },
  {
   "cell_type": "markdown",
   "id": "9df6be8c",
   "metadata": {},
   "source": [
    "Answer: "
   ]
  },
  {
   "cell_type": "code",
   "execution_count": 5,
   "id": "8c9aaab4",
   "metadata": {},
   "outputs": [
    {
     "name": "stdout",
     "output_type": "stream",
     "text": [
      "Length of the longest increasing subsequence: 4\n"
     ]
    }
   ],
   "source": [
    "def length_of_lis(nums):\n",
    "    if not nums:\n",
    "        return 0\n",
    "    n = len(nums)\n",
    "    dp = [1] * n\n",
    "\n",
    "    for i in range(1, n):\n",
    "        for j in range(i):\n",
    "            if nums[i] > nums[j]:\n",
    "                dp[i] = max(dp[i], dp[j] + 1)\n",
    "\n",
    "    return max(dp)\n",
    "\n",
    "sequence = [10, 9, 2, 5, 3, 7, 101, 18]\n",
    "length = length_of_lis(sequence)\n",
    "print(\"Length of the longest increasing subsequence:\", length)"
   ]
  },
  {
   "cell_type": "markdown",
   "id": "e43e041d",
   "metadata": {},
   "source": [
    "Assignment 9: Find the Intersection of Two Arrays"
   ]
  },
  {
   "cell_type": "markdown",
   "id": "3abf243f",
   "metadata": {},
   "source": [
    "Task: Write a Python program to find the intersection of two arrays using a for loop and the break statement."
   ]
  },
  {
   "cell_type": "markdown",
   "id": "eb634cfb",
   "metadata": {},
   "source": [
    "Answer: "
   ]
  },
  {
   "cell_type": "code",
   "execution_count": 4,
   "id": "f3678f70",
   "metadata": {},
   "outputs": [
    {
     "name": "stdout",
     "output_type": "stream",
     "text": [
      "Intersection of two arrays: [2]\n"
     ]
    }
   ],
   "source": [
    "def intersection(nums1, nums2):\n",
    "    set1 = set(nums1)\n",
    "    set2 = set(nums2)\n",
    "    result = []\n",
    "\n",
    "    for num in set1:\n",
    "        if num in set2:\n",
    "            result.append(num)\n",
    "\n",
    "    return result\n",
    "\n",
    "array1 = [1, 2, 2, 1]\n",
    "array2 = [2, 2]\n",
    "common_elements = intersection(array1, array2)\n",
    "print(\"Intersection of two arrays:\", common_elements)"
   ]
  },
  {
   "cell_type": "markdown",
   "id": "9a09b603",
   "metadata": {},
   "source": [
    "Assignment 10: Find the Longest Word in a Dictionary"
   ]
  },
  {
   "cell_type": "markdown",
   "id": "d5165bcf",
   "metadata": {},
   "source": [
    "Task: Write a Python program to find the longest word in a dictionary that can be formed by deleting some characters of another string using a for loop and the break statement."
   ]
  },
  {
   "cell_type": "markdown",
   "id": "0fbc0b8c",
   "metadata": {},
   "source": [
    "Answer: "
   ]
  },
  {
   "cell_type": "code",
   "execution_count": 3,
   "id": "0cdeaedb",
   "metadata": {},
   "outputs": [
    {
     "name": "stdout",
     "output_type": "stream",
     "text": [
      "Longest word: apple\n"
     ]
    }
   ],
   "source": [
    "def find_longest_word(s, d):\n",
    "    d.sort(key=lambda x: (-len(x), x))\n",
    "    for word in d:\n",
    "        i, j = 0, 0\n",
    "        while i < len(word) and j < len(s):\n",
    "            if word[i] == s[j]:\n",
    "                i += 1\n",
    "            j += 1\n",
    "        if i == len(word):\n",
    "            return word\n",
    "    return \"\"\n",
    "\n",
    "dictionary = [\"ale\", \"apple\", \"monkey\", \"plea\"]\n",
    "string = \"abpcleamnoplkley\"\n",
    "longest_word = find_longest_word(string, dictionary)\n",
    "print(\"Longest word:\", longest_word)"
   ]
  }
 ],
 "metadata": {
  "kernelspec": {
   "display_name": "Python 3 (ipykernel)",
   "language": "python",
   "name": "python3"
  },
  "language_info": {
   "codemirror_mode": {
    "name": "ipython",
    "version": 3
   },
   "file_extension": ".py",
   "mimetype": "text/x-python",
   "name": "python",
   "nbconvert_exporter": "python",
   "pygments_lexer": "ipython3",
   "version": "3.9.13"
  },
  "toc": {
   "base_numbering": 1,
   "nav_menu": {},
   "number_sections": true,
   "sideBar": true,
   "skip_h1_title": false,
   "title_cell": "Table of Contents",
   "title_sidebar": "Contents",
   "toc_cell": false,
   "toc_position": {},
   "toc_section_display": true,
   "toc_window_display": false
  }
 },
 "nbformat": 4,
 "nbformat_minor": 5
}
