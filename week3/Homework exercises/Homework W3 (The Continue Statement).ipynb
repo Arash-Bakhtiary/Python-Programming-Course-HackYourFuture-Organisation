{
 "cells": [
  {
   "cell_type": "markdown",
   "id": "dbee02f3",
   "metadata": {},
   "source": [
    "# Assignments - W3 (The Continue Statement)"
   ]
  },
  {
   "cell_type": "markdown",
   "id": "bb95fe9e",
   "metadata": {},
   "source": [
    "Assignment 1: Find the Sum of Prime Numbers"
   ]
  },
  {
   "cell_type": "markdown",
   "id": "8f2542e9",
   "metadata": {},
   "source": [
    "Task: Write a Python program to find and print the sum of all prime numbers up to 100, skipping multiples of 2 and 3."
   ]
  },
  {
   "cell_type": "markdown",
   "id": "99ccd96f",
   "metadata": {},
   "source": [
    "Answer: "
   ]
  },
  {
   "cell_type": "code",
   "execution_count": 1,
   "id": "23bfceac",
   "metadata": {},
   "outputs": [
    {
     "name": "stdout",
     "output_type": "stream",
     "text": [
      "Sum of prime numbers: 1057\n"
     ]
    }
   ],
   "source": [
    "total = 2  # Initialize with the first prime number, 2\n",
    "for num in range(5, 101, 2):  # Start from 5, skipping multiples of 2\n",
    "    if num % 3 == 0:\n",
    "        continue  # Skip multiples of 3\n",
    "    prime = True\n",
    "    for i in range(5, int(num ** 0.5) + 1, 6):\n",
    "        if num % i == 0 or num % (i + 2) == 0:\n",
    "            prime = False\n",
    "            break\n",
    "    if prime:\n",
    "        total += num\n",
    "print(\"Sum of prime numbers:\", total)"
   ]
  },
  {
   "cell_type": "markdown",
   "id": "88bdd140",
   "metadata": {},
   "source": [
    "Assignment 2: Find the Longest Word"
   ]
  },
  {
   "cell_type": "markdown",
   "id": "75f21a28",
   "metadata": {},
   "source": [
    "Task: Write a Python program that finds and prints the longest word in a list of words, skipping words that contain the letter 'e'."
   ]
  },
  {
   "cell_type": "markdown",
   "id": "01eeb0c8",
   "metadata": {},
   "source": [
    "Answer: "
   ]
  },
  {
   "cell_type": "code",
   "execution_count": 2,
   "id": "d82012a3",
   "metadata": {},
   "outputs": [
    {
     "name": "stdout",
     "output_type": "stream",
     "text": [
      "Longest word without 'e': banana\n"
     ]
    }
   ],
   "source": [
    "words = [\"apple\", \"banana\", \"cherry\", \"date\", \"fig\"]\n",
    "longest_word = \"\"\n",
    "for word in words:\n",
    "    if 'e' in word:\n",
    "        continue  # Skip words containing 'e'\n",
    "    if len(word) > len(longest_word):\n",
    "        longest_word = word\n",
    "print(\"Longest word without 'e':\", longest_word)"
   ]
  },
  {
   "cell_type": "markdown",
   "id": "37095431",
   "metadata": {},
   "source": [
    "Assignment 3: Generate a List of Fibonacci Numbers"
   ]
  },
  {
   "cell_type": "markdown",
   "id": "1433b40b",
   "metadata": {},
   "source": [
    "Task: Write a Python program to generate a list of Fibonacci numbers up to the nth term, but skip any number that is divisible by 2."
   ]
  },
  {
   "cell_type": "markdown",
   "id": "7e3c5dbd",
   "metadata": {},
   "source": [
    "Answer: "
   ]
  },
  {
   "cell_type": "code",
   "execution_count": null,
   "id": "97d3bab4",
   "metadata": {},
   "outputs": [],
   "source": [
    "def generate_fibonacci(n):\n",
    "    fibonacci = [0, 1]\n",
    "    while len(fibonacci) < n:\n",
    "        next_term = fibonacci[-1] + fibonacci[-2]\n",
    "        if next_term % 2 == 0:\n",
    "            continue  # Skip even numbers\n",
    "        fibonacci.append(next_term)\n",
    "    return fibonacci\n",
    "\n",
    "print(generate_fibonacci(10))"
   ]
  },
  {
   "cell_type": "markdown",
   "id": "09dfc6c6",
   "metadata": {},
   "source": [
    "Assignment 4: Print Numbers with Alternate Signs"
   ]
  },
  {
   "cell_type": "markdown",
   "id": "3e201eb0",
   "metadata": {},
   "source": [
    "Task: Write a Python program to print numbers from 1 to 100, but alternate the sign (positive or negative) for each number. Skip numbers that are divisible by 3."
   ]
  },
  {
   "cell_type": "markdown",
   "id": "7b41ca07",
   "metadata": {},
   "source": [
    "Answer: "
   ]
  },
  {
   "cell_type": "code",
   "execution_count": 7,
   "id": "631e4c6d",
   "metadata": {},
   "outputs": [
    {
     "name": "stdout",
     "output_type": "stream",
     "text": [
      "1\n",
      "-2\n",
      "-4\n",
      "5\n",
      "7\n",
      "-8\n",
      "-10\n",
      "11\n",
      "13\n",
      "-14\n",
      "-16\n",
      "17\n",
      "19\n",
      "-20\n",
      "-22\n",
      "23\n",
      "25\n",
      "-26\n",
      "-28\n",
      "29\n",
      "31\n",
      "-32\n",
      "-34\n",
      "35\n",
      "37\n",
      "-38\n",
      "-40\n",
      "41\n",
      "43\n",
      "-44\n",
      "-46\n",
      "47\n",
      "49\n",
      "-50\n",
      "-52\n",
      "53\n",
      "55\n",
      "-56\n",
      "-58\n",
      "59\n",
      "61\n",
      "-62\n",
      "-64\n",
      "65\n",
      "67\n",
      "-68\n",
      "-70\n",
      "71\n",
      "73\n",
      "-74\n",
      "-76\n",
      "77\n",
      "79\n",
      "-80\n",
      "-82\n",
      "83\n",
      "85\n",
      "-86\n",
      "-88\n",
      "89\n",
      "91\n",
      "-92\n",
      "-94\n",
      "95\n",
      "97\n",
      "-98\n",
      "-100\n"
     ]
    }
   ],
   "source": [
    "for num in range(1, 101):\n",
    "    if num % 3 == 0:\n",
    "        continue  # Skip multiples of 3\n",
    "    if num % 2 == 0:\n",
    "        print(-num)\n",
    "    else:\n",
    "        print(num)"
   ]
  },
  {
   "cell_type": "markdown",
   "id": "cbcbb425",
   "metadata": {},
   "source": [
    "Assignment 5: Calculate the Sum of Factorials"
   ]
  },
  {
   "cell_type": "markdown",
   "id": "f84a7d76",
   "metadata": {},
   "source": [
    "Task: Create a program that calculates the sum of factorials for numbers from 1 to 10, but skip numbers that are divisible by 4."
   ]
  },
  {
   "cell_type": "markdown",
   "id": "6fe275e7",
   "metadata": {},
   "source": [
    "Answer: "
   ]
  },
  {
   "cell_type": "code",
   "execution_count": 6,
   "id": "73b483f7",
   "metadata": {},
   "outputs": [
    {
     "name": "stdout",
     "output_type": "stream",
     "text": [
      "Sum of factorials (excluding multiples of 4): 127485\n"
     ]
    }
   ],
   "source": [
    "def factorial(n):\n",
    "    result = 1\n",
    "    for num in range(1, n + 1):\n",
    "        if num % 4 == 0:\n",
    "            continue  # Skip multiples of 4\n",
    "        result *= num\n",
    "    return result\n",
    "\n",
    "total = sum(factorial(num) for num in range(1, 11))\n",
    "print(\"Sum of factorials (excluding multiples of 4):\", total)"
   ]
  },
  {
   "cell_type": "markdown",
   "id": "2db5a6f5",
   "metadata": {},
   "source": [
    "Assignment 6: Find the Second Smallest Element"
   ]
  },
  {
   "cell_type": "markdown",
   "id": "83cfe4ad",
   "metadata": {},
   "source": [
    "Task: Write a Python program to find and print the second smallest element in a list of numbers, skipping duplicates."
   ]
  },
  {
   "cell_type": "markdown",
   "id": "cd7a0da9",
   "metadata": {},
   "source": [
    "Answer: "
   ]
  },
  {
   "cell_type": "code",
   "execution_count": 5,
   "id": "f40f5807",
   "metadata": {},
   "outputs": [
    {
     "name": "stdout",
     "output_type": "stream",
     "text": [
      "Second smallest element (excluding duplicates): 2\n"
     ]
    }
   ],
   "source": [
    "numbers = [5, 2, 8, 2, 3, 9, 1, 7]\n",
    "unique_numbers = set(numbers)\n",
    "sorted_numbers = sorted(unique_numbers)\n",
    "second_smallest = sorted_numbers[1] if len(sorted_numbers) > 1 else None\n",
    "print(\"Second smallest element (excluding duplicates):\", second_smallest)"
   ]
  },
  {
   "cell_type": "markdown",
   "id": "11c25cf0",
   "metadata": {},
   "source": [
    "Assignment 7: Calculate the Sum of Digits"
   ]
  },
  {
   "cell_type": "markdown",
   "id": "cb2f2fe5",
   "metadata": {},
   "source": [
    "Task: Write a Python program to calculate the sum of digits for numbers from 1 to 100, but skip numbers that are multiples of 5."
   ]
  },
  {
   "cell_type": "markdown",
   "id": "cf6aa719",
   "metadata": {},
   "source": [
    "Answer: "
   ]
  },
  {
   "cell_type": "code",
   "execution_count": 4,
   "id": "c033dcde",
   "metadata": {},
   "outputs": [
    {
     "name": "stdout",
     "output_type": "stream",
     "text": [
      "Sum of digits (excluding multiples of 5): 760\n"
     ]
    }
   ],
   "source": [
    "def sum_digits(n):\n",
    "    return sum(int(digit) for digit in str(n))\n",
    "\n",
    "total = 0\n",
    "for num in range(1, 101):\n",
    "    if num % 5 == 0:\n",
    "        continue  # Skip multiples of 5\n",
    "    total += sum_digits(num)\n",
    "print(\"Sum of digits (excluding multiples of 5):\", total)"
   ]
  },
  {
   "cell_type": "markdown",
   "id": "cdc4ddf2",
   "metadata": {},
   "source": [
    "Assignment 8: Find the Palindromic Prime Numbers"
   ]
  },
  {
   "cell_type": "markdown",
   "id": "3bac4af1",
   "metadata": {},
   "source": [
    "Task: Write a Python program to find and print all palindromic prime numbers between 1 and 1000."
   ]
  },
  {
   "cell_type": "markdown",
   "id": "9df6be8c",
   "metadata": {},
   "source": [
    "Answer: "
   ]
  },
  {
   "cell_type": "code",
   "execution_count": 3,
   "id": "8c9aaab4",
   "metadata": {},
   "outputs": [
    {
     "name": "stdout",
     "output_type": "stream",
     "text": [
      "2\n",
      "3\n",
      "5\n",
      "7\n",
      "11\n",
      "101\n",
      "131\n",
      "151\n",
      "181\n",
      "191\n",
      "313\n",
      "353\n",
      "373\n",
      "383\n",
      "727\n",
      "757\n",
      "787\n",
      "797\n",
      "919\n",
      "929\n"
     ]
    }
   ],
   "source": [
    "def is_palindrome(s):\n",
    "    return s == s[::-1]\n",
    "\n",
    "def is_prime(num):\n",
    "    if num < 2:\n",
    "        return False\n",
    "    for i in range(2, int(num ** 0.5) + 1):\n",
    "        if num % i == 0:\n",
    "            return False\n",
    "    return True\n",
    "\n",
    "for num in range(1, 1001):\n",
    "    if not is_palindrome(str(num)) or not is_prime(num):\n",
    "        continue  # Skip non-palindromic or non-prime numbers\n",
    "    print(num)"
   ]
  },
  {
   "cell_type": "markdown",
   "id": "e43e041d",
   "metadata": {},
   "source": [
    "Assignment 9: Generate a List of Powers"
   ]
  },
  {
   "cell_type": "markdown",
   "id": "3abf243f",
   "metadata": {},
   "source": [
    "Task: Write a Python program to generate a list of numbers raised to powers from 1 to 5, but skip numbers that are perfect squares."
   ]
  },
  {
   "cell_type": "markdown",
   "id": "eb634cfb",
   "metadata": {},
   "source": [
    "Answer: "
   ]
  },
  {
   "cell_type": "code",
   "execution_count": 2,
   "id": "f3678f70",
   "metadata": {},
   "outputs": [
    {
     "name": "stdout",
     "output_type": "stream",
     "text": [
      "List of powers (excluding perfect squares): [[2, 4, 8, 16, 32], [3, 9, 27, 81, 243], [5, 25, 125, 625, 3125], [6, 36, 216, 1296, 7776], [7, 49, 343, 2401, 16807], [8, 64, 512, 4096, 32768], [10, 100, 1000, 10000, 100000]]\n"
     ]
    }
   ],
   "source": [
    "def is_perfect_square(n):\n",
    "    root = int(n ** 0.5)\n",
    "    return root * root == n\n",
    "\n",
    "powers = []\n",
    "for num in range(1, 11):\n",
    "    if is_perfect_square(num):\n",
    "        continue  # Skip perfect squares\n",
    "    power_values = [num ** i for i in range(1, 6)]\n",
    "    powers.append(power_values)\n",
    "print(\"List of powers (excluding perfect squares):\", powers)"
   ]
  },
  {
   "cell_type": "markdown",
   "id": "9a09b603",
   "metadata": {},
   "source": [
    "Assignment 10: Calculate the Product of Unique Numbers"
   ]
  },
  {
   "cell_type": "markdown",
   "id": "d5165bcf",
   "metadata": {},
   "source": [
    "Task: Write a Python program that calculates the product of unique numbers in a list, but skip numbers that are multiples of 3."
   ]
  },
  {
   "cell_type": "markdown",
   "id": "0fbc0b8c",
   "metadata": {},
   "source": [
    "Answer: "
   ]
  },
  {
   "cell_type": "code",
   "execution_count": 1,
   "id": "0cdeaedb",
   "metadata": {},
   "outputs": [
    {
     "name": "stdout",
     "output_type": "stream",
     "text": [
      "Product of unique numbers (excluding multiples of 3): 2240\n"
     ]
    }
   ],
   "source": [
    "numbers = [3, 5, 2, 6, 4, 9, 5, 8, 12, 7]\n",
    "unique_numbers = set(numbers)\n",
    "product = 1\n",
    "for num in unique_numbers:\n",
    "    if num % 3 == 0:\n",
    "        continue  # Skip multiples of 3\n",
    "    product *= num\n",
    "print(\"Product of unique numbers (excluding multiples of 3):\", product)"
   ]
  }
 ],
 "metadata": {
  "kernelspec": {
   "display_name": "Python 3 (ipykernel)",
   "language": "python",
   "name": "python3"
  },
  "language_info": {
   "codemirror_mode": {
    "name": "ipython",
    "version": 3
   },
   "file_extension": ".py",
   "mimetype": "text/x-python",
   "name": "python",
   "nbconvert_exporter": "python",
   "pygments_lexer": "ipython3",
   "version": "3.9.13"
  },
  "toc": {
   "base_numbering": 1,
   "nav_menu": {},
   "number_sections": true,
   "sideBar": true,
   "skip_h1_title": false,
   "title_cell": "Table of Contents",
   "title_sidebar": "Contents",
   "toc_cell": false,
   "toc_position": {},
   "toc_section_display": true,
   "toc_window_display": false
  }
 },
 "nbformat": 4,
 "nbformat_minor": 5
}
