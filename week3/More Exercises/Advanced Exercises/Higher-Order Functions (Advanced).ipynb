{
 "cells": [
  {
   "cell_type": "markdown",
   "id": "dbee02f3",
   "metadata": {},
   "source": [
    "# Higher-Order Functions (Advanced)"
   ]
  },
  {
   "cell_type": "markdown",
   "id": "ca9ffa6b",
   "metadata": {},
   "source": [
    "Question: Use map() to find the length of each word in a list of strings."
   ]
  },
  {
   "cell_type": "code",
   "execution_count": 1,
   "id": "43092534",
   "metadata": {},
   "outputs": [
    {
     "data": {
      "text/plain": [
       "[5, 6, 6, 4, 3]"
      ]
     },
     "execution_count": 1,
     "metadata": {},
     "output_type": "execute_result"
    }
   ],
   "source": [
    "words = [\"apple\", \"banana\", \"cherry\", \"date\", \"fig\"]\n",
    "word_lengths = list(map(lambda x: len(x), words))\n",
    "word_lengths"
   ]
  },
  {
   "cell_type": "markdown",
   "id": "33670643",
   "metadata": {},
   "source": [
    "Question: Use filter() to find all palindromes in a list of words."
   ]
  },
  {
   "cell_type": "code",
   "execution_count": 2,
   "id": "8c8e6f0b",
   "metadata": {},
   "outputs": [
    {
     "data": {
      "text/plain": [
       "['racecar', 'level', 'deified']"
      ]
     },
     "execution_count": 2,
     "metadata": {},
     "output_type": "execute_result"
    }
   ],
   "source": [
    "def is_palindrome(word):\n",
    "    return word == word[::-1]\n",
    "\n",
    "words = [\"racecar\", \"apple\", \"level\", \"python\", \"deified\"]\n",
    "palindromes = list(filter(is_palindrome, words))\n",
    "palindromes"
   ]
  },
  {
   "cell_type": "markdown",
   "id": "e35b3419",
   "metadata": {},
   "source": [
    "Question: Calculate the factorial of each number in a list using map()."
   ]
  },
  {
   "cell_type": "code",
   "execution_count": 3,
   "id": "f09395b8",
   "metadata": {},
   "outputs": [
    {
     "data": {
      "text/plain": [
       "[1, 2, 6, 24, 120]"
      ]
     },
     "execution_count": 3,
     "metadata": {},
     "output_type": "execute_result"
    }
   ],
   "source": [
    "def factorial(n):\n",
    "    if n == 0:\n",
    "        return 1\n",
    "    return n * factorial(n - 1)\n",
    "\n",
    "numbers = [1, 2, 3, 4, 5]\n",
    "factorials = list(map(factorial, numbers))\n",
    "factorials"
   ]
  },
  {
   "cell_type": "markdown",
   "id": "29491ec2",
   "metadata": {},
   "source": [
    "Question: Use filter() to find all words containing the letter 'a' in a list of strings."
   ]
  },
  {
   "cell_type": "code",
   "execution_count": 5,
   "id": "653aedc6",
   "metadata": {},
   "outputs": [
    {
     "data": {
      "text/plain": [
       "['apple', 'banana', 'date']"
      ]
     },
     "execution_count": 5,
     "metadata": {},
     "output_type": "execute_result"
    }
   ],
   "source": [
    "words = [\"apple\", \"banana\", \"cherry\", \"date\", \"fig\"]\n",
    "contains_a = list(filter(lambda x: 'a' in x, words))\n",
    "contains_a"
   ]
  },
  {
   "cell_type": "markdown",
   "id": "b52c54fd",
   "metadata": {},
   "source": [
    "Question: Calculate the cumulative sum of a list of numbers using reduce()."
   ]
  },
  {
   "cell_type": "code",
   "execution_count": 6,
   "id": "b2f19175",
   "metadata": {},
   "outputs": [
    {
     "data": {
      "text/plain": [
       "[1, 3, 6, 10, 15]"
      ]
     },
     "execution_count": 6,
     "metadata": {},
     "output_type": "execute_result"
    }
   ],
   "source": [
    "from functools import reduce\n",
    "numbers = [1, 2, 3, 4, 5]\n",
    "cumulative_sum = reduce(lambda x, y: x + [x[-1] + y], numbers, [0])[1:]\n",
    "cumulative_sum"
   ]
  },
  {
   "cell_type": "markdown",
   "id": "08b359fe",
   "metadata": {},
   "source": [
    "Question: Sort a list of dictionaries by multiple keys using sorted()."
   ]
  },
  {
   "cell_type": "code",
   "execution_count": 7,
   "id": "91b05154",
   "metadata": {},
   "outputs": [
    {
     "data": {
      "text/plain": [
       "[{'name': 'Bob', 'age': 25},\n",
       " {'name': 'David', 'age': 25},\n",
       " {'name': 'Alice', 'age': 30},\n",
       " {'name': 'Charlie', 'age': 35}]"
      ]
     },
     "execution_count": 7,
     "metadata": {},
     "output_type": "execute_result"
    }
   ],
   "source": [
    "data = [\n",
    "    {\"name\": \"Alice\", \"age\": 30},\n",
    "    {\"name\": \"Bob\", \"age\": 25},\n",
    "    {\"name\": \"Charlie\", \"age\": 35},\n",
    "    {\"name\": \"David\", \"age\": 25}\n",
    "]\n",
    "\n",
    "sorted_data = sorted(data, key=lambda x: (x[\"age\"], x[\"name\"]))\n",
    "sorted_data"
   ]
  },
  {
   "cell_type": "markdown",
   "id": "f8a1444f",
   "metadata": {},
   "source": [
    "Question: Use map() to convert a list of words to uppercase."
   ]
  },
  {
   "cell_type": "code",
   "execution_count": 8,
   "id": "e46fe3de",
   "metadata": {},
   "outputs": [
    {
     "data": {
      "text/plain": [
       "['APPLE', 'BANANA', 'CHERRY', 'DATE', 'FIG']"
      ]
     },
     "execution_count": 8,
     "metadata": {},
     "output_type": "execute_result"
    }
   ],
   "source": [
    "words = [\"apple\", \"banana\", \"cherry\", \"date\", \"fig\"]\n",
    "uppercase_words = list(map(lambda x: x.upper(), words))\n",
    "uppercase_words"
   ]
  },
  {
   "cell_type": "markdown",
   "id": "1cfd4c7d",
   "metadata": {},
   "source": [
    "Question: Use filter() to find all leap years in a list of years (considering leap year rules)."
   ]
  },
  {
   "cell_type": "code",
   "execution_count": 9,
   "id": "e3c8ccb6",
   "metadata": {},
   "outputs": [
    {
     "data": {
      "text/plain": [
       "[1996, 2000, 2004, 2020, 2024]"
      ]
     },
     "execution_count": 9,
     "metadata": {},
     "output_type": "execute_result"
    }
   ],
   "source": [
    "years = [1996, 2000, 2004, 2007, 2020, 2024]\n",
    "leap_years = list(filter(lambda x: (x % 4 == 0 and x % 100 != 0) or (x % 400 == 0), years))\n",
    "leap_years"
   ]
  },
  {
   "cell_type": "markdown",
   "id": "d35322b4",
   "metadata": {},
   "source": [
    "Question: Calculate the cumulative product of a list of numbers using reduce()."
   ]
  },
  {
   "cell_type": "code",
   "execution_count": 10,
   "id": "463f23ce",
   "metadata": {},
   "outputs": [
    {
     "data": {
      "text/plain": [
       "[1, 2, 6, 24, 120]"
      ]
     },
     "execution_count": 10,
     "metadata": {},
     "output_type": "execute_result"
    }
   ],
   "source": [
    "from functools import reduce\n",
    "numbers = [1, 2, 3, 4, 5]\n",
    "cumulative_product = reduce(lambda x, y: x + [x[-1] * y], numbers, [1])[1:]\n",
    "cumulative_product"
   ]
  },
  {
   "cell_type": "markdown",
   "id": "c2c8cc94",
   "metadata": {},
   "source": [
    "Question: Sort a list of strings by their length in descending order using sorted()."
   ]
  },
  {
   "cell_type": "code",
   "execution_count": 11,
   "id": "21c101e2",
   "metadata": {},
   "outputs": [
    {
     "data": {
      "text/plain": [
       "['banana', 'cherry', 'apple', 'date', 'fig']"
      ]
     },
     "execution_count": 11,
     "metadata": {},
     "output_type": "execute_result"
    }
   ],
   "source": [
    "words = [\"apple\", \"banana\", \"cherry\", \"date\", \"fig\"]\n",
    "sorted_words = sorted(words, key=lambda x: len(x), reverse=True)\n",
    "sorted_words"
   ]
  },
  {
   "cell_type": "markdown",
   "id": "9b73c398",
   "metadata": {},
   "source": [
    "Question: Given a list of dictionaries representing people with names and ages, sort the list by age in descending order using sorted() and a custom key function."
   ]
  },
  {
   "cell_type": "code",
   "execution_count": 1,
   "id": "67ede5bc",
   "metadata": {},
   "outputs": [
    {
     "name": "stdout",
     "output_type": "stream",
     "text": [
      "[{'name': 'Charlie', 'age': 35}, {'name': 'Alice', 'age': 30}, {'name': 'Bob', 'age': 25}]\n"
     ]
    }
   ],
   "source": [
    "people = [{'name': 'Alice', 'age': 30}, {'name': 'Bob', 'age': 25}, {'name': 'Charlie', 'age': 35}]\n",
    "sorted_people = sorted(people, key=lambda x: x['age'], reverse=True)\n",
    "print(sorted_people)"
   ]
  },
  {
   "cell_type": "markdown",
   "id": "ba1f22cc",
   "metadata": {},
   "source": [
    "Question: Implement a function that takes an integer as input and returns its prime factors using filter() and a custom function."
   ]
  },
  {
   "cell_type": "code",
   "execution_count": 2,
   "id": "4530de26",
   "metadata": {},
   "outputs": [
    {
     "name": "stdout",
     "output_type": "stream",
     "text": [
      "[2, 3]\n"
     ]
    }
   ],
   "source": [
    "def is_prime(n):\n",
    "    if n <= 1:\n",
    "        return False\n",
    "    for i in range(2, int(n ** 0.5) + 1):\n",
    "        if n % i == 0:\n",
    "            return False\n",
    "    return True\n",
    "\n",
    "def prime_factors(n):\n",
    "    factors = filter(lambda x: n % x == 0 and is_prime(x), range(1, n + 1))\n",
    "    return list(factors)\n",
    "\n",
    "print(prime_factors(36)) "
   ]
  },
  {
   "cell_type": "markdown",
   "id": "1988a1cd",
   "metadata": {},
   "source": [
    "Question: Given a list of text documents, calculate the frequency of each word using reduce() and return a dictionary with word frequencies."
   ]
  },
  {
   "cell_type": "code",
   "execution_count": 4,
   "id": "3567d4fd",
   "metadata": {},
   "outputs": [
    {
     "name": "stdout",
     "output_type": "stream",
     "text": [
      "{'a': 1, 'document': 3, 'another': 2, 'is': 2, 'this': 2}\n"
     ]
    }
   ],
   "source": [
    "from functools import reduce\n",
    "import re\n",
    "from collections import Counter\n",
    "\n",
    "documents = [\"This is a document.\", \"Another document.\", \"This is another document.\"]\n",
    "word_freq = reduce(lambda x, y: {k: x.get(k, 0) + y.get(k, 0) for k in set(x) | set(y)},\n",
    "                   [Counter(re.findall(r'\\w+', doc.lower())) for doc in documents])\n",
    "print(word_freq)"
   ]
  }
 ],
 "metadata": {
  "kernelspec": {
   "display_name": "Python 3 (ipykernel)",
   "language": "python",
   "name": "python3"
  },
  "language_info": {
   "codemirror_mode": {
    "name": "ipython",
    "version": 3
   },
   "file_extension": ".py",
   "mimetype": "text/x-python",
   "name": "python",
   "nbconvert_exporter": "python",
   "pygments_lexer": "ipython3",
   "version": "3.9.13"
  },
  "toc": {
   "base_numbering": 1,
   "nav_menu": {},
   "number_sections": true,
   "sideBar": true,
   "skip_h1_title": false,
   "title_cell": "Table of Contents",
   "title_sidebar": "Contents",
   "toc_cell": false,
   "toc_position": {},
   "toc_section_display": true,
   "toc_window_display": false
  }
 },
 "nbformat": 4,
 "nbformat_minor": 5
}
