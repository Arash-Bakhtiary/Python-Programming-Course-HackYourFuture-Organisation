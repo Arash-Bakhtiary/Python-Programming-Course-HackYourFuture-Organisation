{
 "cells": [
  {
   "cell_type": "markdown",
   "id": "dbee02f3",
   "metadata": {},
   "source": [
    "# For Loops (Basic)"
   ]
  },
  {
   "cell_type": "markdown",
   "id": "ca9ffa6b",
   "metadata": {},
   "source": [
    "Question: Write a Python program to find the longest substring without repeating characters in a given string using a for loop and a set."
   ]
  },
  {
   "cell_type": "code",
   "execution_count": 1,
   "id": "c45cc514",
   "metadata": {},
   "outputs": [
    {
     "name": "stdout",
     "output_type": "stream",
     "text": [
      "Longest substring without repeating: 3\n"
     ]
    }
   ],
   "source": [
    "def longest_substring_without_repeating(s):\n",
    "    max_length = 0\n",
    "    start = 0\n",
    "    char_index = {}\n",
    "    for end, char in enumerate(s):\n",
    "        if char in char_index and char_index[char] >= start:\n",
    "            start = char_index[char] + 1\n",
    "        max_length = max(max_length, end - start + 1)\n",
    "        char_index[char] = end\n",
    "    return max_length\n",
    "\n",
    "input_string = \"abcabcbb\"\n",
    "print(\"Longest substring without repeating:\", longest_substring_without_repeating(input_string))"
   ]
  },
  {
   "cell_type": "markdown",
   "id": "45d4fcc3",
   "metadata": {},
   "source": [
    "Question: Write a Python program to implement a binary search algorithm to find an element in a sorted list using a for loop."
   ]
  },
  {
   "cell_type": "code",
   "execution_count": 2,
   "id": "30f7fd02",
   "metadata": {},
   "outputs": [
    {
     "name": "stdout",
     "output_type": "stream",
     "text": [
      "Element 11 found at index: 5\n"
     ]
    }
   ],
   "source": [
    "def binary_search(arr, target):\n",
    "    left, right = 0, len(arr) - 1\n",
    "    while left <= right:\n",
    "        mid = (left + right) // 2\n",
    "        if arr[mid] == target:\n",
    "            return mid\n",
    "        elif arr[mid] < target:\n",
    "            left = mid + 1\n",
    "        else:\n",
    "            right = mid - 1\n",
    "    return -1\n",
    "\n",
    "sorted_list = [1, 3, 5, 7, 9, 11, 13, 15, 17]\n",
    "target = 11\n",
    "index = binary_search(sorted_list, target)\n",
    "print(\"Element\", target, \"found at index:\", index)"
   ]
  },
  {
   "cell_type": "markdown",
   "id": "5a1e7b34",
   "metadata": {},
   "source": [
    "Question: Write a Python program to find the first non-repeating character in a string using a for loop and a dictionary."
   ]
  },
  {
   "cell_type": "code",
   "execution_count": 3,
   "id": "62a9dad2",
   "metadata": {},
   "outputs": [
    {
     "name": "stdout",
     "output_type": "stream",
     "text": [
      "First non-repeating character: p\n"
     ]
    }
   ],
   "source": [
    "def first_non_repeating_char(s):\n",
    "    char_count = {}\n",
    "    for char in s:\n",
    "        char_count[char] = char_count.get(char, 0) + 1\n",
    "    for char in s:\n",
    "        if char_count[char] == 1:\n",
    "            return char\n",
    "    return None\n",
    "\n",
    "input_string = \"programming\"\n",
    "result = first_non_repeating_char(input_string)\n",
    "print(\"First non-repeating character:\", result)"
   ]
  },
  {
   "cell_type": "markdown",
   "id": "bdd0cd64",
   "metadata": {},
   "source": [
    "Question: Write a Python program to implement a bubble sort algorithm to sort a list using a  Python program to implement a bubble sort algorithm to sort a list using afor loop."
   ]
  },
  {
   "cell_type": "code",
   "execution_count": 4,
   "id": "838388db",
   "metadata": {},
   "outputs": [
    {
     "name": "stdout",
     "output_type": "stream",
     "text": [
      "Sorted list: [1, 2, 5, 5, 6, 9]\n"
     ]
    }
   ],
   "source": [
    "def bubble_sort(arr):\n",
    "    n = len(arr)\n",
    "    for i in range(n - 1):\n",
    "        for j in range(0, n - i - 1):\n",
    "            if arr[j] > arr[j + 1]:\n",
    "                arr[j], arr[j + 1] = arr[j + 1], arr[j]\n",
    "\n",
    "numbers = [5, 2, 9, 1, 5, 6]\n",
    "bubble_sort(numbers)\n",
    "print(\"Sorted list:\", numbers)"
   ]
  },
  {
   "cell_type": "markdown",
   "id": "f97d404c",
   "metadata": {},
   "source": [
    "Question: Write a Python program to find the second largest element in a list using a for loop."
   ]
  },
  {
   "cell_type": "code",
   "execution_count": 5,
   "id": "ffb4b98d",
   "metadata": {},
   "outputs": [
    {
     "name": "stdout",
     "output_type": "stream",
     "text": [
      "Second largest element: 67\n"
     ]
    }
   ],
   "source": [
    "numbers = [12, 34, 5, 67, 2, 87, 23]\n",
    "first_max = float('-inf')\n",
    "second_max = float('-inf')\n",
    "\n",
    "for num in numbers:\n",
    "    if num > first_max:\n",
    "        second_max = first_max\n",
    "        first_max = num\n",
    "    elif num > second_max and num != first_max:\n",
    "        second_max = num\n",
    "\n",
    "print(\"Second largest element:\", second_max)"
   ]
  },
  {
   "cell_type": "markdown",
   "id": "cf179d35",
   "metadata": {},
   "source": [
    "Question: Write a Python program to generate a list of prime numbers using the Sieve of Eratosthenes algorithm with a for loop."
   ]
  },
  {
   "cell_type": "code",
   "execution_count": 6,
   "id": "5e0ce9b3",
   "metadata": {},
   "outputs": [
    {
     "name": "stdout",
     "output_type": "stream",
     "text": [
      "Prime numbers: [2, 3, 5, 7, 11, 13, 17, 19, 23, 29, 31, 37, 41, 43, 47]\n"
     ]
    }
   ],
   "source": [
    "def sieve_of_eratosthenes(n):\n",
    "    primes = [True] * (n + 1)\n",
    "    p = 2\n",
    "    while p ** 2 <= n:\n",
    "        if primes[p]:\n",
    "            for i in range(p ** 2, n + 1, p):\n",
    "                primes[i] = False\n",
    "        p += 1\n",
    "    return [x for x in range(2, n + 1) if primes[x]]\n",
    "\n",
    "limit = 50\n",
    "prime_list = sieve_of_eratosthenes(limit)\n",
    "print(\"Prime numbers:\", prime_list)"
   ]
  },
  {
   "cell_type": "markdown",
   "id": "df18004b",
   "metadata": {},
   "source": [
    "Question: Write a Python program to calculate the sum of the series 1 + 1/2 + 1/3 + ... + 1/n using a  Python program. "
   ]
  },
  {
   "cell_type": "code",
   "execution_count": 7,
   "id": "d08bdc44",
   "metadata": {},
   "outputs": [
    {
     "name": "stdout",
     "output_type": "stream",
     "text": [
      "Sum of the series: 2.9289682539682538\n"
     ]
    }
   ],
   "source": [
    "n = 10\n",
    "sum_series = 0.0\n",
    "for i in range(1, n + 1):\n",
    "    sum_series += 1 / i\n",
    "\n",
    "print(\"Sum of the series:\", sum_series)"
   ]
  },
  {
   "cell_type": "markdown",
   "id": "549dbded",
   "metadata": {},
   "source": [
    "Question: Write a Python program to implement a stack using a list and perform basic stack operations using a for loop."
   ]
  },
  {
   "cell_type": "code",
   "execution_count": 8,
   "id": "51165c4d",
   "metadata": {},
   "outputs": [
    {
     "name": "stdout",
     "output_type": "stream",
     "text": [
      "Popped item: 30\n",
      "Is stack empty? False\n"
     ]
    }
   ],
   "source": [
    "stack = []\n",
    "\n",
    "def push(item):\n",
    "    stack.append(item)\n",
    "\n",
    "def pop():\n",
    "    if not is_empty():\n",
    "        return stack.pop()\n",
    "    else:\n",
    "        return None\n",
    "\n",
    "def is_empty():\n",
    "    return len(stack) == 0\n",
    "\n",
    "push(10)\n",
    "push(20)\n",
    "push(30)\n",
    "print(\"Popped item:\", pop())\n",
    "print(\"Is stack empty?\", is_empty())"
   ]
  },
  {
   "cell_type": "markdown",
   "id": "5b9f2161",
   "metadata": {},
   "source": [
    "Question: Write a Python program to implement a queue using a list and perform basic queue operations using a for loop."
   ]
  },
  {
   "cell_type": "code",
   "execution_count": 9,
   "id": "a6a53d22",
   "metadata": {},
   "outputs": [
    {
     "name": "stdout",
     "output_type": "stream",
     "text": [
      "Dequeued item: 10\n",
      "Is queue empty? False\n"
     ]
    }
   ],
   "source": [
    "queue = []\n",
    "\n",
    "def enqueue(item):\n",
    "    queue.append(item)\n",
    "\n",
    "def dequeue():\n",
    "    if not is_empty():\n",
    "        return queue.pop(0)\n",
    "    else:\n",
    "        return None\n",
    "\n",
    "def is_empty():\n",
    "    return len(queue) == 0\n",
    "\n",
    "enqueue(10)\n",
    "enqueue(20)\n",
    "enqueue(30)\n",
    "print(\"Dequeued item:\", dequeue())\n",
    "print(\"Is queue empty?\", is_empty())"
   ]
  },
  {
   "cell_type": "markdown",
   "id": "10d0b095",
   "metadata": {},
   "source": [
    "Question: Write a Python program to implement a binary to decimal converter using a for loop."
   ]
  },
  {
   "cell_type": "code",
   "execution_count": 10,
   "id": "9297fbb7",
   "metadata": {},
   "outputs": [
    {
     "name": "stdout",
     "output_type": "stream",
     "text": [
      "Decimal equivalent: 13\n"
     ]
    }
   ],
   "source": [
    "binary_string = \"1101\"\n",
    "decimal = 0\n",
    "for i in range(len(binary_string)):\n",
    "    decimal += int(binary_string[i]) * 2 ** (len(binary_string) - i - 1)\n",
    "\n",
    "print(\"Decimal equivalent:\", decimal)"
   ]
  },
  {
   "cell_type": "markdown",
   "id": "f646e3ce",
   "metadata": {},
   "source": [
    "Question: Write a Python program to find the prime factors of a given number using a for loop."
   ]
  },
  {
   "cell_type": "code",
   "execution_count": 11,
   "id": "1f634646",
   "metadata": {},
   "outputs": [
    {
     "name": "stdout",
     "output_type": "stream",
     "text": [
      "Prime factors of 84 : [2, 2, 3, 7]\n"
     ]
    }
   ],
   "source": [
    "def prime_factors(n):\n",
    "    factors = []\n",
    "    while n % 2 == 0:\n",
    "        factors.append(2)\n",
    "        n //= 2\n",
    "    for i in range(3, int(n ** 0.5) + 1, 2):\n",
    "        while n % i == 0:\n",
    "            factors.append(i)\n",
    "            n //= i\n",
    "    if n > 2:\n",
    "        factors.append(n)\n",
    "    return factors\n",
    "\n",
    "number = 84\n",
    "prime_factor_list = prime_factors(number)\n",
    "print(\"Prime factors of\", number, \":\", prime_factor_list)"
   ]
  },
  {
   "cell_type": "markdown",
   "id": "9b67db53",
   "metadata": {},
   "source": [
    "Question: Write a Python program to implement a selection sort algorithm to sort a list using a  Python program to implement afor loop."
   ]
  },
  {
   "cell_type": "code",
   "execution_count": 12,
   "id": "09abc0f4",
   "metadata": {},
   "outputs": [
    {
     "name": "stdout",
     "output_type": "stream",
     "text": [
      "Sorted list: [1, 2, 3, 5, 7, 8, 9]\n"
     ]
    }
   ],
   "source": [
    "def selection_sort(arr):\n",
    "    n = len(arr)\n",
    "    for i in range(n):\n",
    "        min_index = i\n",
    "        for j in range(i + 1, n):\n",
    "            if arr[j] < arr[min_index]:\n",
    "                min_index = j\n",
    "        arr[i], arr[min_index] = arr[min_index], arr[i]\n",
    "\n",
    "numbers = [9, 3, 7, 1, 8, 2, 5]\n",
    "selection_sort(numbers)\n",
    "print(\"Sorted list:\", numbers)"
   ]
  },
  {
   "cell_type": "markdown",
   "id": "b1d784bc",
   "metadata": {},
   "source": [
    "Question: Write a Python program to find the longest common subsequence of two strings using a for loop and dynamic programming."
   ]
  },
  {
   "cell_type": "code",
   "execution_count": 13,
   "id": "cad8eafe",
   "metadata": {},
   "outputs": [
    {
     "name": "stdout",
     "output_type": "stream",
     "text": [
      "Length of longest common subsequence: 3\n"
     ]
    }
   ],
   "source": [
    "def longest_common_subsequence(str1, str2):\n",
    "    m, n = len(str1), len(str2)\n",
    "    dp = [[0] * (n + 1) for _ in range(m + 1)]\n",
    "    for i in range(1, m + 1):\n",
    "        for j in range(1, n + 1):\n",
    "            if str1[i - 1] == str2[j - 1]:\n",
    "                dp[i][j] = dp[i - 1][j - 1] + 1\n",
    "            else:\n",
    "                dp[i][j] = max(dp[i - 1][j], dp[i][j - 1])\n",
    "    lcs_length = dp[m][n]\n",
    "    return lcs_length\n",
    "\n",
    "string1 = \"ABCDGH\"\n",
    "string2 = \"AEDFHR\"\n",
    "lcs_length = longest_common_subsequence(string1, string2)\n",
    "print(\"Length of longest common subsequence:\", lcs_length)"
   ]
  },
  {
   "cell_type": "markdown",
   "id": "1507b1c5",
   "metadata": {},
   "source": [
    "Question: Write a Python program to implement a quicksort algorithm to sort a list using a for loop."
   ]
  },
  {
   "cell_type": "code",
   "execution_count": 14,
   "id": "797794ad",
   "metadata": {},
   "outputs": [
    {
     "name": "stdout",
     "output_type": "stream",
     "text": [
      "Sorted list: [1, 2, 5, 5, 6, 9]\n"
     ]
    }
   ],
   "source": [
    "def quicksort(arr):\n",
    "    if len(arr) <= 1:\n",
    "        return arr\n",
    "    pivot = arr[len(arr) // 2]\n",
    "    left = [x for x in arr if x < pivot]\n",
    "    middle = [x for x in arr if x == pivot]\n",
    "    right = [x for x in arr if x > pivot]\n",
    "    return quicksort(left) + middle + quicksort(right)\n",
    "\n",
    "numbers = [5, 2, 9, 1, 5, 6]\n",
    "sorted_list = quicksort(numbers)\n",
    "print(\"Sorted list:\", sorted_list)"
   ]
  },
  {
   "cell_type": "markdown",
   "id": "6c4105af",
   "metadata": {},
   "source": [
    "Question: Write a Python program to check if a given number is a palindrome using a for loop."
   ]
  },
  {
   "cell_type": "code",
   "execution_count": 15,
   "id": "ed97b3b1",
   "metadata": {},
   "outputs": [
    {
     "name": "stdout",
     "output_type": "stream",
     "text": [
      "12321 is a palindrome\n"
     ]
    }
   ],
   "source": [
    "def is_palindrome(n):\n",
    "    num_str = str(n)\n",
    "    return num_str == num_str[::-1]\n",
    "\n",
    "number = 12321\n",
    "if is_palindrome(number):\n",
    "    print(number, \"is a palindrome\")\n",
    "else:\n",
    "    print(number, \"is not a palindrome\")"
   ]
  },
  {
   "cell_type": "markdown",
   "id": "53b15d0f",
   "metadata": {},
   "source": [
    "Question: Write a Python program to generate the nth Fibonacci number using a for loop and memoization."
   ]
  },
  {
   "cell_type": "code",
   "execution_count": 16,
   "id": "359aef25",
   "metadata": {},
   "outputs": [
    {
     "name": "stdout",
     "output_type": "stream",
     "text": [
      "Fibonacci number at position 10 : 55\n"
     ]
    }
   ],
   "source": [
    "def fibonacci(n):\n",
    "    fib = [0, 1]\n",
    "    for i in range(2, n + 1):\n",
    "        fib.append(fib[i - 1] + fib[i - 2])\n",
    "    return fib[n]\n",
    "\n",
    "n = 10\n",
    "nth_fibonacci = fibonacci(n)\n",
    "print(\"Fibonacci number at position\", n, \":\", nth_fibonacci)"
   ]
  }
 ],
 "metadata": {
  "kernelspec": {
   "display_name": "Python 3 (ipykernel)",
   "language": "python",
   "name": "python3"
  },
  "language_info": {
   "codemirror_mode": {
    "name": "ipython",
    "version": 3
   },
   "file_extension": ".py",
   "mimetype": "text/x-python",
   "name": "python",
   "nbconvert_exporter": "python",
   "pygments_lexer": "ipython3",
   "version": "3.9.13"
  },
  "toc": {
   "base_numbering": 1,
   "nav_menu": {},
   "number_sections": true,
   "sideBar": true,
   "skip_h1_title": false,
   "title_cell": "Table of Contents",
   "title_sidebar": "Contents",
   "toc_cell": false,
   "toc_position": {},
   "toc_section_display": true,
   "toc_window_display": false
  }
 },
 "nbformat": 4,
 "nbformat_minor": 5
}
