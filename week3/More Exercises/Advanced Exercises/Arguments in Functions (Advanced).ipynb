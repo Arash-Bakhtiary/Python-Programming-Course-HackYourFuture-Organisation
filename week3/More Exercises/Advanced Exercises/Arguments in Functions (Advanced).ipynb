{
 "cells": [
  {
   "cell_type": "markdown",
   "id": "dbee02f3",
   "metadata": {},
   "source": [
    "# Arguments in Functions (Advanced)"
   ]
  },
  {
   "cell_type": "markdown",
   "id": "ca9ffa6b",
   "metadata": {},
   "source": [
    "Question: Create a function that accepts a list of strings and a keyword argument for a minimum word length. It should return a list of words longer than the specified length."
   ]
  },
  {
   "cell_type": "code",
   "execution_count": 4,
   "id": "0f92becc",
   "metadata": {},
   "outputs": [
    {
     "data": {
      "text/plain": [
       "['bakhtiary']"
      ]
     },
     "execution_count": 4,
     "metadata": {},
     "output_type": "execute_result"
    }
   ],
   "source": [
    "def filter_words_by_length(words, min_length=5):\n",
    "    return [word for word in words if len(word) > min_length]\n",
    "filter_words_by_length([\"arash\",\"bakhtiary\"])"
   ]
  },
  {
   "cell_type": "markdown",
   "id": "a1367f34",
   "metadata": {},
   "source": [
    "Question: Write a function that accepts a dictionary and a keyword argument for a key prefix. It should return a new dictionary with keys that have the specified prefix removed."
   ]
  },
  {
   "cell_type": "code",
   "execution_count": 9,
   "id": "1bad204d",
   "metadata": {},
   "outputs": [
    {
     "data": {
      "text/plain": [
       "{' sam': 2, 'sam': 3}"
      ]
     },
     "execution_count": 9,
     "metadata": {},
     "output_type": "execute_result"
    }
   ],
   "source": [
    "def remove_key_prefix(data, prefix='yes'):\n",
    "    return {key.replace(prefix, ''): value for key, value in data.items() if key.startswith(prefix)}\n",
    "remove_key_prefix ({\"yes sam\":2, \"yessam\":3,\"hi\":3}, prefix='yes')"
   ]
  },
  {
   "cell_type": "markdown",
   "id": "98f9e5ea",
   "metadata": {},
   "source": [
    "Question: Create a function that accepts a list of numbers and a keyword argument for a filter function. It should return a list of numbers that pass the filter function."
   ]
  },
  {
   "cell_type": "code",
   "execution_count": 11,
   "id": "5c801a9a",
   "metadata": {},
   "outputs": [
    {
     "data": {
      "text/plain": [
       "[2, 4]"
      ]
     },
     "execution_count": 11,
     "metadata": {},
     "output_type": "execute_result"
    }
   ],
   "source": [
    "def filter_numbers(numbers, filter_func=lambda x: x % 2 == 0):\n",
    "    return [num for num in numbers if filter_func(num)]\n",
    "filter_numbers([1,2,3,4,5])"
   ]
  },
  {
   "cell_type": "markdown",
   "id": "dfa20e88",
   "metadata": {},
   "source": [
    "Question: Write a function that accepts a list of dictionaries and a keyword argument for a filtering key and value. It should return a list of dictionaries that match the filter."
   ]
  },
  {
   "cell_type": "code",
   "execution_count": 17,
   "id": "4f7ec2c9",
   "metadata": {},
   "outputs": [
    {
     "name": "stdout",
     "output_type": "stream",
     "text": [
      "[{'c': 3, 'd': 4}]\n",
      "[{'e': 3, 'f': 4}]\n",
      "[]\n"
     ]
    }
   ],
   "source": [
    "def filter_dicts(dict_list, filter_key=\"c\", filter_value=3):\n",
    "    if filter_key is not None and filter_value is not None:\n",
    "        return [d for d in dict_list if d.get(filter_key) == filter_value]\n",
    "    else:\n",
    "        return dict_list\n",
    "print(filter_dicts([{\"a\":3,\"b\":4},{\"c\":3,\"d\":4},{\"e\":3,\"f\":4}]))\n",
    "print(filter_dicts([{\"a\":3,\"b\":4},{\"c\":3,\"d\":4},{\"e\":3,\"f\":4}], filter_key=\"e\", filter_value=3))\n",
    "print(filter_dicts([{\"a\":3,\"b\":4},{\"c\":3,\"d\":4},{\"e\":3,\"f\":4}], filter_key=\"e\", filter_value=5))"
   ]
  },
  {
   "cell_type": "markdown",
   "id": "fa12f9ad",
   "metadata": {},
   "source": [
    "Question: Create a function that accepts a string and a keyword argument for a list of forbidden words. It should censor the forbidden words in the string with asterisks."
   ]
  },
  {
   "cell_type": "code",
   "execution_count": 18,
   "id": "5dbe6338",
   "metadata": {},
   "outputs": [
    {
     "data": {
      "text/plain": [
       "'hello how *** you'"
      ]
     },
     "execution_count": 18,
     "metadata": {},
     "output_type": "execute_result"
    }
   ],
   "source": [
    "def censor_text(text, forbidden_words=[\"are\"]):\n",
    "    for word in forbidden_words:\n",
    "        text = text.replace(word, '*' * len(word))\n",
    "    return text\n",
    "censor_text(\"hello how are you\")"
   ]
  },
  {
   "cell_type": "markdown",
   "id": "fabd6401",
   "metadata": {},
   "source": [
    "Question: Write a function that accepts a list of numbers and a keyword argument to specify a threshold value. It should return a list of numbers that are greater than or equal to the threshold."
   ]
  },
  {
   "cell_type": "code",
   "execution_count": 19,
   "id": "9068a2b4",
   "metadata": {},
   "outputs": [
    {
     "data": {
      "text/plain": [
       "[5, 6, 7]"
      ]
     },
     "execution_count": 19,
     "metadata": {},
     "output_type": "execute_result"
    }
   ],
   "source": [
    "def filter_numbers_above_threshold(numbers, threshold=5):\n",
    "    return [num for num in numbers if num >= threshold]\n",
    "filter_numbers_above_threshold([1,2,3,4,5,6,7])"
   ]
  },
  {
   "cell_type": "markdown",
   "id": "543abf9b",
   "metadata": {},
   "source": [
    "Question: Create a function that accepts a list of words and a keyword argument to specify a target word. The function should return a list of words that contain the target word."
   ]
  },
  {
   "cell_type": "code",
   "execution_count": 22,
   "id": "af1dc407",
   "metadata": {},
   "outputs": [
    {
     "data": {
      "text/plain": [
       "['how are']"
      ]
     },
     "execution_count": 22,
     "metadata": {},
     "output_type": "execute_result"
    }
   ],
   "source": [
    "def find_words_containing_target(words, target):\n",
    "    return [word for word in words if target in word]\n",
    "find_words_containing_target([\"hello\", \"how\",\"how are\",\"you\"], \"are\")"
   ]
  },
  {
   "cell_type": "markdown",
   "id": "3c80307c",
   "metadata": {},
   "source": [
    "Question: Write a function that accepts a list of dictionaries and a keyword argument for sorting by a specific key in the dictionaries. It should return a sorted list of dictionaries."
   ]
  },
  {
   "cell_type": "code",
   "execution_count": 29,
   "id": "2fc9e58c",
   "metadata": {},
   "outputs": [
    {
     "data": {
      "text/plain": [
       "[{'a': 3, 'd': 6}, {'a': 5, 'b': 4}, {'a': 7, 'f': 8}]"
      ]
     },
     "execution_count": 29,
     "metadata": {},
     "output_type": "execute_result"
    }
   ],
   "source": [
    "def sort_dicts_by_key(dict_list, key='a'):\n",
    "    return sorted(dict_list, key=lambda x: x[key])\n",
    "sort_dicts_by_key([{\"a\":5,\"b\":4},{\"a\":3,\"d\":6},{\"a\":7,\"f\":8}])"
   ]
  },
  {
   "cell_type": "markdown",
   "id": "d69f04d8",
   "metadata": {},
   "source": [
    "Question: Create a function that accepts a list of numbers and a keyword argument for a custom sorting key function. It should sort the numbers based on the specified key function."
   ]
  },
  {
   "cell_type": "code",
   "execution_count": 35,
   "id": "0629aef3",
   "metadata": {},
   "outputs": [
    {
     "data": {
      "text/plain": [
       "[1, 2, 3, 4, 5]"
      ]
     },
     "execution_count": 35,
     "metadata": {},
     "output_type": "execute_result"
    }
   ],
   "source": [
    "def custom_sort(numbers, key_function=lambda x: x):\n",
    "    return sorted(numbers, key=key_function)\n",
    "custom_sort([1,2,3,4,5])"
   ]
  },
  {
   "cell_type": "markdown",
   "id": "07410c07",
   "metadata": {},
   "source": [
    "Question: Write a function that accepts a function as an argument and returns a new function that logs the execution time of the original function."
   ]
  },
  {
   "cell_type": "code",
   "execution_count": 37,
   "id": "899d1662",
   "metadata": {},
   "outputs": [
    {
     "data": {
      "text/plain": [
       "<function __main__.time_it.<locals>.wrapper(*args, **kwargs)>"
      ]
     },
     "execution_count": 37,
     "metadata": {},
     "output_type": "execute_result"
    }
   ],
   "source": [
    "import time\n",
    "\n",
    "def time_it(func):\n",
    "    def wrapper(*args, **kwargs):\n",
    "        start_time = time.time()\n",
    "        result = func(*args, **kwargs)\n",
    "        end_time = time.time()\n",
    "        print(f\"{func.__name__} took {end_time - start_time:.2f} seconds to execute.\")\n",
    "        return result\n",
    "    return wrapper\n",
    "time_it(custom_sort([1,2,3,4,5]))"
   ]
  },
  {
   "cell_type": "markdown",
   "id": "04591869",
   "metadata": {},
   "source": [
    "Question: Create a function that accepts a string and returns a new string with all vowels replaced by a default character, such as '*'."
   ]
  },
  {
   "cell_type": "code",
   "execution_count": 38,
   "id": "a807cd8f",
   "metadata": {},
   "outputs": [
    {
     "data": {
      "text/plain": [
       "'t**l*r fr*nk'"
      ]
     },
     "execution_count": 38,
     "metadata": {},
     "output_type": "execute_result"
    }
   ],
   "source": [
    "def replace_vowels(text, replacement='*'):\n",
    "    vowels = 'aeiouAEIOU'\n",
    "    return ''.join([c if c not in vowels else replacement for c in text])\n",
    "replace_vowels(\"tailor frank\", replacement='*')"
   ]
  }
 ],
 "metadata": {
  "kernelspec": {
   "display_name": "Python 3 (ipykernel)",
   "language": "python",
   "name": "python3"
  },
  "language_info": {
   "codemirror_mode": {
    "name": "ipython",
    "version": 3
   },
   "file_extension": ".py",
   "mimetype": "text/x-python",
   "name": "python",
   "nbconvert_exporter": "python",
   "pygments_lexer": "ipython3",
   "version": "3.9.13"
  },
  "toc": {
   "base_numbering": 1,
   "nav_menu": {},
   "number_sections": true,
   "sideBar": true,
   "skip_h1_title": false,
   "title_cell": "Table of Contents",
   "title_sidebar": "Contents",
   "toc_cell": false,
   "toc_position": {},
   "toc_section_display": true,
   "toc_window_display": false
  }
 },
 "nbformat": 4,
 "nbformat_minor": 5
}
