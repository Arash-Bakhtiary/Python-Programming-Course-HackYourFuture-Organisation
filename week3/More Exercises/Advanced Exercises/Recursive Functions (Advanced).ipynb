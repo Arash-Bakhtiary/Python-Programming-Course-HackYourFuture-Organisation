{
 "cells": [
  {
   "cell_type": "markdown",
   "id": "dbee02f3",
   "metadata": {},
   "source": [
    "# Recursive Functions (Advanced)"
   ]
  },
  {
   "cell_type": "markdown",
   "id": "6e77cf23",
   "metadata": {},
   "source": [
    "Question: Write a recursive function to solve the Tower of Hanoi puzzle for n disks."
   ]
  },
  {
   "cell_type": "code",
   "execution_count": 1,
   "id": "df43bee9",
   "metadata": {},
   "outputs": [
    {
     "name": "stdout",
     "output_type": "stream",
     "text": [
      "Move disk 1 from A to C\n",
      "Move disk 2 from A to B\n",
      "Move disk 1 from C to B\n",
      "Move disk 3 from A to C\n",
      "Move disk 1 from B to A\n",
      "Move disk 2 from B to C\n",
      "Move disk 1 from A to C\n"
     ]
    }
   ],
   "source": [
    "def tower_of_hanoi(n, source, auxiliary, target):\n",
    "    if n == 1:\n",
    "        print(f\"Move disk 1 from {source} to {target}\")\n",
    "        return\n",
    "    tower_of_hanoi(n - 1, source, target, auxiliary)\n",
    "    print(f\"Move disk {n} from {source} to {target}\")\n",
    "    tower_of_hanoi(n - 1, auxiliary, source, target)\n",
    "tower_of_hanoi(3, \"A\", \"B\", \"C\")"
   ]
  },
  {
   "cell_type": "markdown",
   "id": "d35fafff",
   "metadata": {},
   "source": [
    "Question: Create a recursive function to find all subsets of a given set."
   ]
  },
  {
   "cell_type": "code",
   "execution_count": 3,
   "id": "37b99033",
   "metadata": {},
   "outputs": [
    {
     "data": {
      "text/plain": [
       "[[], [3], [2], [2, 3], [1], [1, 3], [1, 2], [1, 2, 3]]"
      ]
     },
     "execution_count": 3,
     "metadata": {},
     "output_type": "execute_result"
    }
   ],
   "source": [
    "def subsets(arr):\n",
    "    if len(arr) == 0:\n",
    "        return [[]]\n",
    "    subsets_without_first = subsets(arr[1:])\n",
    "    subsets_with_first = [[arr[0]] + s for s in subsets_without_first]\n",
    "    return subsets_without_first + subsets_with_first\n",
    "subsets([1, 2, 3])"
   ]
  },
  {
   "cell_type": "markdown",
   "id": "07142c18",
   "metadata": {},
   "source": [
    "Question: Create a recursive function to find the least common multiple (LCM) of two integers."
   ]
  },
  {
   "cell_type": "code",
   "execution_count": 4,
   "id": "43a2079f",
   "metadata": {},
   "outputs": [
    {
     "data": {
      "text/plain": [
       "12"
      ]
     },
     "execution_count": 4,
     "metadata": {},
     "output_type": "execute_result"
    }
   ],
   "source": [
    "def lcm(a, b):\n",
    "    if a > b:\n",
    "        greater = a\n",
    "    else:\n",
    "        greater = b\n",
    "    while True:\n",
    "        if greater % a == 0 and greater % b == 0:\n",
    "            return greater\n",
    "        greater += 1\n",
    "lcm(4, 12)"
   ]
  },
  {
   "cell_type": "markdown",
   "id": "da5b4e5d",
   "metadata": {},
   "source": [
    "Question: Create a recursive function to generate all valid parentheses combinations for a given number of pairs."
   ]
  },
  {
   "cell_type": "code",
   "execution_count": 6,
   "id": "18b781c1",
   "metadata": {},
   "outputs": [
    {
     "data": {
      "text/plain": [
       "['()()', '(())']"
      ]
     },
     "execution_count": 6,
     "metadata": {},
     "output_type": "execute_result"
    }
   ],
   "source": [
    "def generate_parentheses(n):\n",
    "    if n == 0:\n",
    "        return [\"\"]\n",
    "    result = []\n",
    "    for i in range(n):\n",
    "        for left in generate_parentheses(i):\n",
    "            for right in generate_parentheses(n - i - 1):\n",
    "                result.append(\"({}){}\".format(left, right))\n",
    "    return result\n",
    "generate_parentheses(2)"
   ]
  },
  {
   "cell_type": "markdown",
   "id": "09a265f4",
   "metadata": {},
   "source": [
    "Question: Write a recursive function to find the nth term of the sequence: 2, 7, 15, 26, 40, ..."
   ]
  },
  {
   "cell_type": "code",
   "execution_count": 7,
   "id": "5d2abc94",
   "metadata": {},
   "outputs": [
    {
     "data": {
      "text/plain": [
       "5"
      ]
     },
     "execution_count": 7,
     "metadata": {},
     "output_type": "execute_result"
    }
   ],
   "source": [
    "def custom_sequence_2(n):\n",
    "    if n == 1:\n",
    "        return 2\n",
    "    else:\n",
    "        return custom_sequence_2(n - 1) + 2 * n - 1\n",
    "custom_sequence_2(2)"
   ]
  },
  {
   "cell_type": "markdown",
   "id": "b4d367ee",
   "metadata": {},
   "source": [
    "Question: Create a recursive function to calculate the sum of a list of numbers using the divide-and-conquer approach."
   ]
  },
  {
   "cell_type": "code",
   "execution_count": 8,
   "id": "654444c8",
   "metadata": {},
   "outputs": [
    {
     "data": {
      "text/plain": [
       "15"
      ]
     },
     "execution_count": 8,
     "metadata": {},
     "output_type": "execute_result"
    }
   ],
   "source": [
    "def divide_and_conquer_sum(lst):\n",
    "    if len(lst) == 1:\n",
    "        return lst[0]\n",
    "    mid = len(lst) // 2\n",
    "    left_sum = divide_and_conquer_sum(lst[:mid])\n",
    "    right_sum = divide_and_conquer_sum(lst[mid:])\n",
    "    return left_sum + right_sum\n",
    "divide_and_conquer_sum([1,2,3,4,5])"
   ]
  },
  {
   "cell_type": "markdown",
   "id": "18b5ca2c",
   "metadata": {},
   "source": [
    "Question: Write a recursive function to find the nth term of the sequence: 1, 2, 4, 8, 16, 32, ..."
   ]
  },
  {
   "cell_type": "code",
   "execution_count": 9,
   "id": "775c5b0c",
   "metadata": {},
   "outputs": [
    {
     "data": {
      "text/plain": [
       "4"
      ]
     },
     "execution_count": 9,
     "metadata": {},
     "output_type": "execute_result"
    }
   ],
   "source": [
    "def custom_sequence_3(n):\n",
    "    if n == 1:\n",
    "        return 1\n",
    "    else:\n",
    "        return 2 * custom_sequence_3(n - 1)\n",
    "custom_sequence_3(3)"
   ]
  },
  {
   "cell_type": "markdown",
   "id": "d26d8858",
   "metadata": {},
   "source": [
    "Question: Create a recursive function to calculate the binomial coefficient C(n, k) using Pascal's Triangle."
   ]
  },
  {
   "cell_type": "code",
   "execution_count": 10,
   "id": "de325ddf",
   "metadata": {},
   "outputs": [
    {
     "data": {
      "text/plain": [
       "21"
      ]
     },
     "execution_count": 10,
     "metadata": {},
     "output_type": "execute_result"
    }
   ],
   "source": [
    "def binomial_coefficient(n, k):\n",
    "    if k == 0 or k == n:\n",
    "        return 1\n",
    "    else:\n",
    "        return binomial_coefficient(n - 1, k - 1) + binomial_coefficient(n - 1, k)\n",
    "binomial_coefficient(7, 2)"
   ]
  }
 ],
 "metadata": {
  "kernelspec": {
   "display_name": "Python 3 (ipykernel)",
   "language": "python",
   "name": "python3"
  },
  "language_info": {
   "codemirror_mode": {
    "name": "ipython",
    "version": 3
   },
   "file_extension": ".py",
   "mimetype": "text/x-python",
   "name": "python",
   "nbconvert_exporter": "python",
   "pygments_lexer": "ipython3",
   "version": "3.9.13"
  },
  "toc": {
   "base_numbering": 1,
   "nav_menu": {},
   "number_sections": true,
   "sideBar": true,
   "skip_h1_title": false,
   "title_cell": "Table of Contents",
   "title_sidebar": "Contents",
   "toc_cell": false,
   "toc_position": {},
   "toc_section_display": true,
   "toc_window_display": false
  }
 },
 "nbformat": 4,
 "nbformat_minor": 5
}
