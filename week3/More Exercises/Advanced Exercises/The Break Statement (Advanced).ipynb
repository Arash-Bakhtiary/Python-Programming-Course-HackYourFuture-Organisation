{
 "cells": [
  {
   "cell_type": "markdown",
   "id": "dbee02f3",
   "metadata": {},
   "source": [
    "# The Break Statement (Basic)"
   ]
  },
  {
   "cell_type": "markdown",
   "id": "ca9ffa6b",
   "metadata": {},
   "source": [
    "Question: Write a Python program to find the first prime number in a given range using a for loop and the break statement."
   ]
  },
  {
   "cell_type": "code",
   "execution_count": 1,
   "id": "34537333",
   "metadata": {},
   "outputs": [
    {
     "name": "stdout",
     "output_type": "stream",
     "text": [
      "First prime number in range: 11\n"
     ]
    }
   ],
   "source": [
    "start = 10\n",
    "end = 50\n",
    "for num in range(start, end + 1):\n",
    "    if num > 1:\n",
    "        for i in range(2, int(num ** 0.5) + 1):\n",
    "            if num % i == 0:\n",
    "                break\n",
    "        else:\n",
    "            print(\"First prime number in range:\", num)\n",
    "            break\n"
   ]
  },
  {
   "cell_type": "markdown",
   "id": "d8b99949",
   "metadata": {},
   "source": [
    "Question: Write a Python program to find the smallest positive integer that is evenly divisible by all numbers from 1 to 10 using a while loop and the break statement."
   ]
  },
  {
   "cell_type": "code",
   "execution_count": 2,
   "id": "3e7bb922",
   "metadata": {},
   "outputs": [
    {
     "name": "stdout",
     "output_type": "stream",
     "text": [
      "Smallest multiple: 2520\n"
     ]
    }
   ],
   "source": [
    "num = 2520\n",
    "while True:\n",
    "    for i in range(1, 11):\n",
    "        if num % i != 0:\n",
    "            break\n",
    "    else:\n",
    "        print(\"Smallest multiple:\", num)\n",
    "        break\n",
    "    num += 1"
   ]
  },
  {
   "cell_type": "markdown",
   "id": "5fe8dbae",
   "metadata": {},
   "source": [
    "Question: Write a Python program to simulate a guessing game. The computer generates a random number between 1 and 100, and the user tries to guess the number. The program provides hints such as \"Higher\" or \"Lower\" based on the user's input. "
   ]
  },
  {
   "cell_type": "code",
   "execution_count": 2,
   "id": "3d3b8e6f",
   "metadata": {},
   "outputs": [
    {
     "name": "stdout",
     "output_type": "stream",
     "text": [
      "Guess a number between 1 and 100: 50\n",
      "Higher\n",
      "Guess a number between 1 and 100: 70\n",
      "Higher\n",
      "Guess a number between 1 and 100: 80\n",
      "Lower\n",
      "Guess a number between 1 and 100: 75\n",
      "Higher\n",
      "Guess a number between 1 and 100: 78\n",
      "Lower\n",
      "Guess a number between 1 and 100: 76\n",
      "Higher\n",
      "Guess a number between 1 and 100: 75\n",
      "Higher\n",
      "Guess a number between 1 and 100: 77\n",
      "Congratulations! You guessed the correct number.\n"
     ]
    }
   ],
   "source": [
    "import random\n",
    "\n",
    "target_number = random.randint(1, 100)\n",
    "while True:\n",
    "    guess = int(input(\"Guess a number between 1 and 100: \"))\n",
    "    if guess == target_number:\n",
    "        print(\"Congratulations! You guessed the correct number.\")\n",
    "        break\n",
    "    elif guess < target_number:\n",
    "        print(\"Higher\")\n",
    "    else:\n",
    "        print(\"Lower\")"
   ]
  },
  {
   "cell_type": "markdown",
   "id": "bf68fad1",
   "metadata": {},
   "source": [
    "Question: Write a Python program to find the longest subsequence of increasing numbers in a list using a for loop and the break statement."
   ]
  },
  {
   "cell_type": "code",
   "execution_count": 3,
   "id": "1d16d433",
   "metadata": {},
   "outputs": [
    {
     "name": "stdout",
     "output_type": "stream",
     "text": [
      "Longest increasing subsequence: [1, 2, 3, 5]\n"
     ]
    }
   ],
   "source": [
    "numbers = [1, 2, 3, 5, 4, 7, 8, 9]\n",
    "longest_subsequence = []\n",
    "current_subsequence = []\n",
    "for i in range(len(numbers) - 1):\n",
    "    current_subsequence.append(numbers[i])\n",
    "    if numbers[i] >= numbers[i + 1]:\n",
    "        if len(current_subsequence) > len(longest_subsequence):\n",
    "            longest_subsequence = current_subsequence\n",
    "        current_subsequence = []\n",
    "    if i == len(numbers) - 2:\n",
    "        current_subsequence.append(numbers[-1])\n",
    "print(\"Longest increasing subsequence:\", longest_subsequence)"
   ]
  },
  {
   "cell_type": "markdown",
   "id": "6ed3d931",
   "metadata": {},
   "source": [
    "Question: Write a Python program to find the largest palindrome number from a list of numbers using a for loop and the break statement."
   ]
  },
  {
   "cell_type": "code",
   "execution_count": 5,
   "id": "aff9fb8e",
   "metadata": {},
   "outputs": [
    {
     "name": "stdout",
     "output_type": "stream",
     "text": [
      "Largest palindrome number: 454\n"
     ]
    }
   ],
   "source": [
    "numbers = [123, 454, 121, 789, 595]\n",
    "largest_palindrome = 0\n",
    "for num in numbers:\n",
    "    if str(num) == str(num)[::-1]:\n",
    "        largest_palindrome = max(largest_palindrome, num)\n",
    "        break\n",
    "print(\"Largest palindrome number:\", largest_palindrome)"
   ]
  },
  {
   "cell_type": "markdown",
   "id": "869d697a",
   "metadata": {},
   "source": [
    "Question: Write a Python program to perform a binary search in a sorted list using a while loop and the break statement."
   ]
  },
  {
   "cell_type": "code",
   "execution_count": 6,
   "id": "e056e45d",
   "metadata": {},
   "outputs": [
    {
     "name": "stdout",
     "output_type": "stream",
     "text": [
      "Element found at index 4\n"
     ]
    }
   ],
   "source": [
    "sorted_list = [1, 3, 5, 7, 9, 11, 13, 15, 17, 19]\n",
    "target = 9\n",
    "low = 0\n",
    "high = len(sorted_list) - 1\n",
    "while low <= high:\n",
    "    mid = (low + high) // 2\n",
    "    if sorted_list[mid] == target:\n",
    "        print(\"Element found at index\", mid)\n",
    "        break\n",
    "    elif sorted_list[mid] < target:\n",
    "        low = mid + 1\n",
    "    else:\n",
    "        high = mid - 1"
   ]
  }
 ],
 "metadata": {
  "kernelspec": {
   "display_name": "Python 3 (ipykernel)",
   "language": "python",
   "name": "python3"
  },
  "language_info": {
   "codemirror_mode": {
    "name": "ipython",
    "version": 3
   },
   "file_extension": ".py",
   "mimetype": "text/x-python",
   "name": "python",
   "nbconvert_exporter": "python",
   "pygments_lexer": "ipython3",
   "version": "3.9.13"
  },
  "toc": {
   "base_numbering": 1,
   "nav_menu": {},
   "number_sections": true,
   "sideBar": true,
   "skip_h1_title": false,
   "title_cell": "Table of Contents",
   "title_sidebar": "Contents",
   "toc_cell": false,
   "toc_position": {},
   "toc_section_display": true,
   "toc_window_display": false
  }
 },
 "nbformat": 4,
 "nbformat_minor": 5
}
