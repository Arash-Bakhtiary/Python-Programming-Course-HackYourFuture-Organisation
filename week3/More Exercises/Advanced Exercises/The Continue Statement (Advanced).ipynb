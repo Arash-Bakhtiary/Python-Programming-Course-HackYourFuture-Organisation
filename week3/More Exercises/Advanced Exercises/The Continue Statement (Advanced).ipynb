{
 "cells": [
  {
   "cell_type": "markdown",
   "id": "dbee02f3",
   "metadata": {},
   "source": [
    "# The Continue Statement (Advanced)"
   ]
  },
  {
   "cell_type": "markdown",
   "id": "ca9ffa6b",
   "metadata": {},
   "source": [
    "Question: Create a program that calculates the sum of all prime numbers between 1 and 1000, excluding 2."
   ]
  },
  {
   "cell_type": "code",
   "execution_count": 1,
   "id": "c278d3cc",
   "metadata": {},
   "outputs": [
    {
     "name": "stdout",
     "output_type": "stream",
     "text": [
      "76125\n"
     ]
    }
   ],
   "source": [
    "total = 0\n",
    "for num in range(3, 1001):\n",
    "    if num % 2 == 0:\n",
    "        continue\n",
    "    prime = True\n",
    "    for i in range(3, int(num ** 0.5) + 1, 2):\n",
    "        if num % i == 0:\n",
    "            prime = False\n",
    "            break\n",
    "    if prime:\n",
    "        total += num\n",
    "print(total)"
   ]
  },
  {
   "cell_type": "markdown",
   "id": "d02dcef0",
   "metadata": {},
   "source": [
    "Question: Create a program that calculates the sum of all squares of numbers between 1 and 200, but skip squares that are perfect squares."
   ]
  },
  {
   "cell_type": "code",
   "execution_count": null,
   "id": "311f3c77",
   "metadata": {},
   "outputs": [],
   "source": [
    "total = 0\n",
    "for num in range(1, 201):\n",
    "    square = num ** 2\n",
    "    root = int(square ** 0.5)\n",
    "    if root * root == square:\n",
    "        continue\n",
    "    total += square\n",
    "print(total)"
   ]
  },
  {
   "cell_type": "markdown",
   "id": "6bceef8f",
   "metadata": {},
   "source": [
    "Question: Write a program to generate a list of all two-digit numbers that are palindromes, excluding numbers ending in 0."
   ]
  },
  {
   "cell_type": "code",
   "execution_count": 1,
   "id": "996ac54d",
   "metadata": {},
   "outputs": [
    {
     "name": "stdout",
     "output_type": "stream",
     "text": [
      "[11, 22, 33, 44, 55, 66, 77, 88, 99]\n"
     ]
    }
   ],
   "source": [
    "palindromes = []\n",
    "for num in range(10, 100):\n",
    "    if str(num) == str(num)[::-1] and num % 10 != 0:\n",
    "        palindromes.append(num)\n",
    "print(palindromes)"
   ]
  },
  {
   "cell_type": "markdown",
   "id": "9466f92d",
   "metadata": {},
   "source": [
    "Question: Write a Python program to print all the prime numbers between 1 and 100, but skip prime numbers that are also perfect squares."
   ]
  },
  {
   "cell_type": "code",
   "execution_count": 2,
   "id": "d554fd5e",
   "metadata": {},
   "outputs": [
    {
     "name": "stdout",
     "output_type": "stream",
     "text": [
      "2\n",
      "3\n",
      "5\n",
      "7\n",
      "11\n",
      "13\n",
      "17\n",
      "19\n",
      "23\n",
      "29\n",
      "31\n",
      "37\n",
      "41\n",
      "43\n",
      "47\n",
      "53\n",
      "59\n",
      "61\n",
      "67\n",
      "71\n",
      "73\n",
      "79\n",
      "83\n",
      "89\n",
      "97\n"
     ]
    }
   ],
   "source": [
    "for num in range(2, 101):\n",
    "    prime = True\n",
    "    for i in range(2, int(num ** 0.5) + 1):\n",
    "        if num % i == 0:\n",
    "            prime = False\n",
    "            break\n",
    "    if prime:\n",
    "        root = int(num ** 0.5)\n",
    "        if root * root == num:\n",
    "            continue\n",
    "        print(num)"
   ]
  },
  {
   "cell_type": "markdown",
   "id": "44a628b7",
   "metadata": {},
   "source": [
    "Question: Create a program that generates a list of all prime numbers less than 100, but skip numbers divisible by 3."
   ]
  },
  {
   "cell_type": "code",
   "execution_count": 4,
   "id": "b6c86329",
   "metadata": {},
   "outputs": [
    {
     "name": "stdout",
     "output_type": "stream",
     "text": [
      "[2, 5, 7, 11, 13, 17, 19, 23, 29, 31, 37, 41, 43, 47, 53, 59, 61, 67, 71, 73, 79, 83, 89, 97]\n"
     ]
    }
   ],
   "source": [
    "prime_numbers = []\n",
    "for num in range(2, 100):\n",
    "    if num % 3 == 0:\n",
    "        continue\n",
    "    prime = True\n",
    "    for i in range(2, int(num ** 0.5) + 1):\n",
    "        if num % i == 0:\n",
    "            prime = False\n",
    "            break\n",
    "    if prime:\n",
    "        prime_numbers.append(num)\n",
    "print(prime_numbers)"
   ]
  },
  {
   "cell_type": "markdown",
   "id": "55435e6f",
   "metadata": {},
   "source": [
    "Question: Create a program that calculates the sum of all multiples of 3 or 5 from 1 to 1000, excluding multiples of 15."
   ]
  },
  {
   "cell_type": "code",
   "execution_count": 5,
   "id": "407d6f2e",
   "metadata": {},
   "outputs": [
    {
     "name": "stdout",
     "output_type": "stream",
     "text": [
      "201003\n"
     ]
    }
   ],
   "source": [
    "total = 0\n",
    "for num in range(1, 1001):\n",
    "    if num % 15 == 0:\n",
    "        continue\n",
    "    if num % 3 == 0 or num % 5 == 0:\n",
    "        total += num\n",
    "print(total)"
   ]
  },
  {
   "cell_type": "markdown",
   "id": "352fab75",
   "metadata": {},
   "source": [
    "Question: Create a program that prints the first 15 positive integers, except for those that are divisible by both 2 and 3."
   ]
  },
  {
   "cell_type": "code",
   "execution_count": 6,
   "id": "ee7e29c9",
   "metadata": {},
   "outputs": [
    {
     "name": "stdout",
     "output_type": "stream",
     "text": [
      "1\n",
      "2\n",
      "3\n",
      "4\n",
      "5\n",
      "7\n",
      "8\n",
      "9\n",
      "10\n",
      "11\n",
      "13\n",
      "14\n",
      "15\n",
      "16\n",
      "17\n"
     ]
    }
   ],
   "source": [
    "count = 0\n",
    "num = 1\n",
    "while count < 15:\n",
    "    if num % 2 == 0 and num % 3 == 0:\n",
    "        num += 1\n",
    "        continue\n",
    "    print(num)\n",
    "    num += 1\n",
    "    count += 1"
   ]
  },
  {
   "cell_type": "markdown",
   "id": "1da900d8",
   "metadata": {},
   "source": [
    "Question: Write a program that calculates the sum of all cubes of numbers from 1 to 200, but skip cubes that are multiples of 7."
   ]
  },
  {
   "cell_type": "code",
   "execution_count": 7,
   "id": "52df32ad",
   "metadata": {},
   "outputs": [
    {
     "name": "stdout",
     "output_type": "stream",
     "text": [
      "347471252\n"
     ]
    }
   ],
   "source": [
    "total = 0\n",
    "for num in range(1, 201):\n",
    "    cube = num ** 3\n",
    "    if cube % 7 == 0:\n",
    "        continue\n",
    "    total += cube\n",
    "print(total)"
   ]
  },
  {
   "cell_type": "markdown",
   "id": "0468fbe9",
   "metadata": {},
   "source": [
    "Question: Write a Python program to find and print all numbers between 1 and 1000 that are palindromes, excluding numbers that contain the digit 7."
   ]
  },
  {
   "cell_type": "code",
   "execution_count": 8,
   "id": "14a97212",
   "metadata": {},
   "outputs": [
    {
     "name": "stdout",
     "output_type": "stream",
     "text": [
      "[1, 2, 3, 4, 5, 6, 8, 9, 11, 22, 33, 44, 55, 66, 88, 99, 101, 111, 121, 131, 141, 151, 161, 181, 191, 202, 212, 222, 232, 242, 252, 262, 282, 292, 303, 313, 323, 333, 343, 353, 363, 383, 393, 404, 414, 424, 434, 444, 454, 464, 484, 494, 505, 515, 525, 535, 545, 555, 565, 585, 595, 606, 616, 626, 636, 646, 656, 666, 686, 696, 808, 818, 828, 838, 848, 858, 868, 888, 898, 909, 919, 929, 939, 949, 959, 969, 989, 999]\n"
     ]
    }
   ],
   "source": [
    "palindromes = []\n",
    "for num in range(1, 1001):\n",
    "    if str(num) != str(num)[::-1] or '7' in str(num):\n",
    "        continue\n",
    "    palindromes.append(num)\n",
    "print(palindromes)"
   ]
  },
  {
   "cell_type": "markdown",
   "id": "b9415ab6",
   "metadata": {},
   "source": [
    "Question: Write a Python program to find and print all prime numbers between 100 and 200, excluding prime numbers that are also multiples of 3."
   ]
  },
  {
   "cell_type": "code",
   "execution_count": 9,
   "id": "969320d8",
   "metadata": {},
   "outputs": [
    {
     "name": "stdout",
     "output_type": "stream",
     "text": [
      "101\n",
      "103\n",
      "107\n",
      "109\n",
      "113\n",
      "127\n",
      "131\n",
      "137\n",
      "139\n",
      "149\n",
      "151\n",
      "157\n",
      "163\n",
      "167\n",
      "173\n",
      "179\n",
      "181\n",
      "191\n",
      "193\n",
      "197\n",
      "199\n"
     ]
    }
   ],
   "source": [
    "for num in range(100, 201):\n",
    "    prime = True\n",
    "    if num % 3 == 0:\n",
    "        continue\n",
    "    for i in range(2, int(num ** 0.5) + 1):\n",
    "        if num % i == 0:\n",
    "            prime = False\n",
    "            break\n",
    "    if prime:\n",
    "        print(num)"
   ]
  },
  {
   "cell_type": "markdown",
   "id": "68fb543d",
   "metadata": {},
   "source": [
    "Question: Create a program that iterates through a list of words and prints the longest word in the list, skipping words that contain the letter 'a'."
   ]
  },
  {
   "cell_type": "code",
   "execution_count": 10,
   "id": "5ff31b5b",
   "metadata": {},
   "outputs": [
    {
     "name": "stdout",
     "output_type": "stream",
     "text": [
      "cherry\n"
     ]
    }
   ],
   "source": [
    "words = [\"apple\", \"banana\", \"cherry\", \"date\", \"fig\"]\n",
    "longest_word = \"\"\n",
    "for word in words:\n",
    "    if 'a' in word:\n",
    "        continue\n",
    "    if len(word) > len(longest_word):\n",
    "        longest_word = word\n",
    "print(longest_word)"
   ]
  }
 ],
 "metadata": {
  "kernelspec": {
   "display_name": "Python 3 (ipykernel)",
   "language": "python",
   "name": "python3"
  },
  "language_info": {
   "codemirror_mode": {
    "name": "ipython",
    "version": 3
   },
   "file_extension": ".py",
   "mimetype": "text/x-python",
   "name": "python",
   "nbconvert_exporter": "python",
   "pygments_lexer": "ipython3",
   "version": "3.9.13"
  },
  "toc": {
   "base_numbering": 1,
   "nav_menu": {},
   "number_sections": true,
   "sideBar": true,
   "skip_h1_title": false,
   "title_cell": "Table of Contents",
   "title_sidebar": "Contents",
   "toc_cell": false,
   "toc_position": {},
   "toc_section_display": true,
   "toc_window_display": false
  }
 },
 "nbformat": 4,
 "nbformat_minor": 5
}
