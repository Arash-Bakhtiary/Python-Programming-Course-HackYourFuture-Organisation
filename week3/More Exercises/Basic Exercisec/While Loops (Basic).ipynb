{
 "cells": [
  {
   "cell_type": "markdown",
   "id": "dbee02f3",
   "metadata": {},
   "source": [
    "# While Loops (Basic)"
   ]
  },
  {
   "cell_type": "markdown",
   "id": "ca9ffa6b",
   "metadata": {},
   "source": [
    "Question: Write a Python program to print numbers from 1 to 10 using a while loop."
   ]
  },
  {
   "cell_type": "code",
   "execution_count": 1,
   "id": "6dd5a984",
   "metadata": {},
   "outputs": [
    {
     "name": "stdout",
     "output_type": "stream",
     "text": [
      "1\n",
      "2\n",
      "3\n",
      "4\n",
      "5\n",
      "6\n",
      "7\n",
      "8\n",
      "9\n",
      "10\n"
     ]
    }
   ],
   "source": [
    "num = 1\n",
    "while num <= 10:\n",
    "    print(num)\n",
    "    num += 1"
   ]
  },
  {
   "cell_type": "markdown",
   "id": "3969dc48",
   "metadata": {},
   "source": [
    "Question: Write a Python program to calculate the sum of numbers from 1 to 100 using a while loop."
   ]
  },
  {
   "cell_type": "code",
   "execution_count": 2,
   "id": "0b513ab2",
   "metadata": {},
   "outputs": [
    {
     "name": "stdout",
     "output_type": "stream",
     "text": [
      "Sum: 5050\n"
     ]
    }
   ],
   "source": [
    "total = 0\n",
    "num = 1\n",
    "while num <= 100:\n",
    "    total += num\n",
    "    num += 1\n",
    "print(\"Sum:\", total)"
   ]
  },
  {
   "cell_type": "markdown",
   "id": "92fd6e21",
   "metadata": {},
   "source": [
    "Question: Write a Python program to find the factorial of a given number using a while loop."
   ]
  },
  {
   "cell_type": "code",
   "execution_count": 3,
   "id": "91504a58",
   "metadata": {},
   "outputs": [
    {
     "name": "stdout",
     "output_type": "stream",
     "text": [
      "Enter a number: 7\n",
      "Factorial: 5040\n"
     ]
    }
   ],
   "source": [
    "num = int(input(\"Enter a number: \"))\n",
    "factorial = 1\n",
    "while num > 0:\n",
    "    factorial *= num\n",
    "    num -= 1\n",
    "print(\"Factorial:\", factorial)"
   ]
  },
  {
   "cell_type": "markdown",
   "id": "9a0407f9",
   "metadata": {},
   "source": [
    "Question: Write a Python program to find the greatest common divisor (GCD) of two numbers using a while loop. Python program to find the Python program to find"
   ]
  },
  {
   "cell_type": "code",
   "execution_count": 4,
   "id": "8d17ed3f",
   "metadata": {},
   "outputs": [
    {
     "name": "stdout",
     "output_type": "stream",
     "text": [
      "Enter first number: 7\n",
      "Enter second number: 70\n",
      "GCD: 7\n"
     ]
    }
   ],
   "source": [
    "num1 = int(input(\"Enter first number: \"))\n",
    "num2 = int(input(\"Enter second number: \"))\n",
    "while num2 != 0:\n",
    "    num1, num2 = num2, num1 % num2\n",
    "print(\"GCD:\", num1)"
   ]
  },
  {
   "cell_type": "markdown",
   "id": "2a98c615",
   "metadata": {},
   "source": [
    "Question: Write a Python program to check if a given number is prime using a while loop."
   ]
  },
  {
   "cell_type": "code",
   "execution_count": 5,
   "id": "8b58bfbe",
   "metadata": {},
   "outputs": [
    {
     "name": "stdout",
     "output_type": "stream",
     "text": [
      "Enter a number: 7\n",
      "Prime\n"
     ]
    }
   ],
   "source": [
    "num = int(input(\"Enter a number: \"))\n",
    "is_prime = True\n",
    "divisor = 2\n",
    "while divisor <= num // 2:\n",
    "    if num % divisor == 0:\n",
    "        is_prime = False\n",
    "        break\n",
    "    divisor += 1\n",
    "if is_prime:\n",
    "    print(\"Prime\")\n",
    "else:\n",
    "    print(\"Not prime\")\n"
   ]
  },
  {
   "cell_type": "markdown",
   "id": "b1b1bd37",
   "metadata": {},
   "source": [
    "Question: Write a Python program to print a pattern of stars using a while loop. Python program to print a pattern of stars"
   ]
  },
  {
   "cell_type": "code",
   "execution_count": 6,
   "id": "29fee713",
   "metadata": {},
   "outputs": [
    {
     "name": "stdout",
     "output_type": "stream",
     "text": [
      "Enter number of rows: 10\n",
      "*\n",
      "**\n",
      "***\n",
      "****\n",
      "*****\n",
      "******\n",
      "*******\n",
      "********\n",
      "*********\n",
      "**********\n"
     ]
    }
   ],
   "source": [
    "rows = int(input(\"Enter number of rows: \"))\n",
    "i = 1\n",
    "while i <= rows:\n",
    "    print(\"*\" * i)\n",
    "    i += 1"
   ]
  },
  {
   "cell_type": "markdown",
   "id": "254247e3",
   "metadata": {},
   "source": [
    "Question: Write a Python program to generate the Fibonacci sequence using a while loop. "
   ]
  },
  {
   "cell_type": "code",
   "execution_count": 7,
   "id": "cdb6947d",
   "metadata": {},
   "outputs": [
    {
     "name": "stdout",
     "output_type": "stream",
     "text": [
      "Enter the limit: 5\n",
      "0 1 1 2 3 5 "
     ]
    }
   ],
   "source": [
    "limit = int(input(\"Enter the limit: \"))\n",
    "a, b = 0, 1\n",
    "while a <= limit:\n",
    "    print(a, end=\" \")\n",
    "    a, b = b, a + b"
   ]
  },
  {
   "cell_type": "markdown",
   "id": "74214292",
   "metadata": {},
   "source": [
    "Question: Write a Python program to reverse a given number using a while loop."
   ]
  },
  {
   "cell_type": "code",
   "execution_count": 8,
   "id": "2261e786",
   "metadata": {},
   "outputs": [
    {
     "name": "stdout",
     "output_type": "stream",
     "text": [
      "Enter a number: 10\n",
      "Reversed number: 1\n"
     ]
    }
   ],
   "source": [
    "num = int(input(\"Enter a number: \"))\n",
    "reversed_num = 0\n",
    "while num > 0:\n",
    "    digit = num % 10\n",
    "    reversed_num = reversed_num * 10 + digit\n",
    "    num //= 10\n",
    "print(\"Reversed number:\", reversed_num)"
   ]
  },
  {
   "cell_type": "markdown",
   "id": "9aecd383",
   "metadata": {},
   "source": [
    "Question: Write a Python program to find the sum of digits of a given number using a while loop."
   ]
  },
  {
   "cell_type": "code",
   "execution_count": 9,
   "id": "82a75074",
   "metadata": {},
   "outputs": [
    {
     "name": "stdout",
     "output_type": "stream",
     "text": [
      "Enter a number: 10\n",
      "Sum of digits: 1\n"
     ]
    }
   ],
   "source": [
    "num = int(input(\"Enter a number: \"))\n",
    "sum_of_digits = 0\n",
    "while num > 0:\n",
    "    digit = num % 10\n",
    "    sum_of_digits += digit\n",
    "    num //= 10\n",
    "print(\"Sum of digits:\", sum_of_digits)"
   ]
  },
  {
   "cell_type": "markdown",
   "id": "9e3723e9",
   "metadata": {},
   "source": [
    "Question: Write a Python program to count the number of digits in a given number using a while loop."
   ]
  },
  {
   "cell_type": "code",
   "execution_count": 10,
   "id": "c88e6a3c",
   "metadata": {},
   "outputs": [
    {
     "name": "stdout",
     "output_type": "stream",
     "text": [
      "Enter a number: 7\n",
      "Number of digits: 1\n"
     ]
    }
   ],
   "source": [
    "num = int(input(\"Enter a number: \"))\n",
    "count = 0\n",
    "while num > 0:\n",
    "    num //= 10\n",
    "    count += 1\n",
    "print(\"Number of digits:\", count)"
   ]
  },
  {
   "cell_type": "markdown",
   "id": "02767083",
   "metadata": {},
   "source": [
    "Question: Write a Python program to find the factorial of a number using a while loop and a user-defined function."
   ]
  },
  {
   "cell_type": "code",
   "execution_count": 11,
   "id": "b7200f0a",
   "metadata": {},
   "outputs": [
    {
     "name": "stdout",
     "output_type": "stream",
     "text": [
      "Enter a number: 12\n",
      "Factorial: 479001600\n"
     ]
    }
   ],
   "source": [
    "def factorial(n):\n",
    "    result = 1\n",
    "    while n > 0:\n",
    "        result *= n\n",
    "        n -= 1\n",
    "    return result\n",
    "\n",
    "num = int(input(\"Enter a number: \"))\n",
    "print(\"Factorial:\", factorial(num))"
   ]
  },
  {
   "cell_type": "markdown",
   "id": "87197930",
   "metadata": {},
   "source": [
    "Question: Write a Python program to generate the first N terms of the arithmetic progression using a while loop."
   ]
  },
  {
   "cell_type": "code",
   "execution_count": 12,
   "id": "9db04d19",
   "metadata": {},
   "outputs": [
    {
     "name": "stdout",
     "output_type": "stream",
     "text": [
      "Enter the first term: 12\n",
      "Enter the common difference: 3\n",
      "Enter the number of terms: 5\n",
      "12 15 18 21 24 "
     ]
    }
   ],
   "source": [
    "first_term = int(input(\"Enter the first term: \"))\n",
    "common_difference = int(input(\"Enter the common difference: \"))\n",
    "N = int(input(\"Enter the number of terms: \"))\n",
    "i = 0\n",
    "while i < N:\n",
    "    term = first_term + i * common_difference\n",
    "    print(term, end=\" \")\n",
    "    i += 1"
   ]
  },
  {
   "cell_type": "markdown",
   "id": "6bf58ce0",
   "metadata": {},
   "source": [
    "Question: Write a Python program to find the sum of the first N terms of the arithmetic progression using a while loop."
   ]
  },
  {
   "cell_type": "code",
   "execution_count": 13,
   "id": "cf84a8c4",
   "metadata": {},
   "outputs": [
    {
     "name": "stdout",
     "output_type": "stream",
     "text": [
      "Enter the first term: 10\n",
      "Enter the common difference: 5\n",
      "Enter the number of terms: 5\n",
      "Sum of terms: 100\n"
     ]
    }
   ],
   "source": [
    "first_term = int(input(\"Enter the first term: \"))\n",
    "common_difference = int(input(\"Enter the common difference: \"))\n",
    "N = int(input(\"Enter the number of terms: \"))\n",
    "sum_of_terms = 0\n",
    "i = 0\n",
    "while i < N:\n",
    "    term = first_term + i * common_difference\n",
    "    sum_of_terms += term\n",
    "    i += 1\n",
    "print(\"Sum of terms:\", sum_of_terms)"
   ]
  },
  {
   "cell_type": "markdown",
   "id": "6e1e49c7",
   "metadata": {},
   "source": [
    "Question: Write a Python program to print the multiplication table of a given number using a while loop."
   ]
  },
  {
   "cell_type": "code",
   "execution_count": 14,
   "id": "1e3cf943",
   "metadata": {},
   "outputs": [
    {
     "name": "stdout",
     "output_type": "stream",
     "text": [
      "Enter a number: 7\n",
      "7 * 1 = 7\n",
      "7 * 2 = 14\n",
      "7 * 3 = 21\n",
      "7 * 4 = 28\n",
      "7 * 5 = 35\n",
      "7 * 6 = 42\n",
      "7 * 7 = 49\n",
      "7 * 8 = 56\n",
      "7 * 9 = 63\n",
      "7 * 10 = 70\n"
     ]
    }
   ],
   "source": [
    "num = int(input(\"Enter a number: \"))\n",
    "i = 1\n",
    "while i <= 10:\n",
    "    product = num * i\n",
    "    print(f\"{num} * {i} = {product}\")\n",
    "    i += 1"
   ]
  },
  {
   "cell_type": "markdown",
   "id": "447841ed",
   "metadata": {},
   "source": [
    "Question: Write a Python program to find the sum of all even numbers between 1 and 100 using a while loop."
   ]
  },
  {
   "cell_type": "code",
   "execution_count": 15,
   "id": "3b62db59",
   "metadata": {},
   "outputs": [
    {
     "name": "stdout",
     "output_type": "stream",
     "text": [
      "Sum of even numbers: 2550\n"
     ]
    }
   ],
   "source": [
    "total = 0\n",
    "num = 2\n",
    "while num <= 100:\n",
    "    total += num\n",
    "    num += 2\n",
    "print(\"Sum of even numbers:\", total)"
   ]
  },
  {
   "cell_type": "markdown",
   "id": "2027f283",
   "metadata": {},
   "source": [
    "Question: Write a Python program to generate the first N terms of the geometric progression using a while loop."
   ]
  },
  {
   "cell_type": "code",
   "execution_count": 16,
   "id": "da0d9f26",
   "metadata": {},
   "outputs": [
    {
     "name": "stdout",
     "output_type": "stream",
     "text": [
      "Enter the first term: 10\n",
      "Enter the common ratio: 2\n",
      "Enter the number of terms: 4\n",
      "10 20 40 80 "
     ]
    }
   ],
   "source": [
    "first_term = int(input(\"Enter the first term: \"))\n",
    "common_ratio = int(input(\"Enter the common ratio: \"))\n",
    "N = int(input(\"Enter the number of terms: \"))\n",
    "i = 0\n",
    "while i < N:\n",
    "    term = first_term * (common_ratio ** i)\n",
    "    print(term, end=\" \")\n",
    "    i += 1"
   ]
  },
  {
   "cell_type": "markdown",
   "id": "f5e9e49c",
   "metadata": {},
   "source": [
    "Question: Write a Python program to find the sum of the first N terms of the geometric progression using a while loop."
   ]
  },
  {
   "cell_type": "code",
   "execution_count": 17,
   "id": "2df69f1d",
   "metadata": {},
   "outputs": [
    {
     "name": "stdout",
     "output_type": "stream",
     "text": [
      "Enter the first term: 10\n",
      "Enter the common ratio: 12\n",
      "Enter the number of terms: 4\n",
      "Sum of terms: 18850\n"
     ]
    }
   ],
   "source": [
    "first_term = int(input(\"Enter the first term: \"))\n",
    "common_ratio = int(input(\"Enter the common ratio: \"))\n",
    "N = int(input(\"Enter the number of terms: \"))\n",
    "sum_of_terms = 0\n",
    "i = 0\n",
    "while i < N:\n",
    "    term = first_term * (common_ratio ** i)\n",
    "    sum_of_terms += term\n",
    "    i += 1\n",
    "print(\"Sum of terms:\", sum_of_terms)"
   ]
  }
 ],
 "metadata": {
  "kernelspec": {
   "display_name": "Python 3 (ipykernel)",
   "language": "python",
   "name": "python3"
  },
  "language_info": {
   "codemirror_mode": {
    "name": "ipython",
    "version": 3
   },
   "file_extension": ".py",
   "mimetype": "text/x-python",
   "name": "python",
   "nbconvert_exporter": "python",
   "pygments_lexer": "ipython3",
   "version": "3.9.13"
  },
  "toc": {
   "base_numbering": 1,
   "nav_menu": {},
   "number_sections": true,
   "sideBar": true,
   "skip_h1_title": false,
   "title_cell": "Table of Contents",
   "title_sidebar": "Contents",
   "toc_cell": false,
   "toc_position": {},
   "toc_section_display": true,
   "toc_window_display": false
  }
 },
 "nbformat": 4,
 "nbformat_minor": 5
}
