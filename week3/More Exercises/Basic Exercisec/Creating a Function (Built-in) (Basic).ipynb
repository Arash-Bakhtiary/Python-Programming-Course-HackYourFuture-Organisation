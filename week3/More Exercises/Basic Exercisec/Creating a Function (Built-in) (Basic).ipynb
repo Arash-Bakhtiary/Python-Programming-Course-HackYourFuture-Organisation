{
 "cells": [
  {
   "cell_type": "markdown",
   "id": "dbee02f3",
   "metadata": {},
   "source": [
    "# Creating a Function (Built-in) (Basic)"
   ]
  },
  {
   "cell_type": "markdown",
   "id": "ca9ffa6b",
   "metadata": {},
   "source": [
    "Question: Write a Python function that calculates the factorial of a given positive integer."
   ]
  },
  {
   "cell_type": "code",
   "execution_count": 2,
   "id": "d706c4e5",
   "metadata": {},
   "outputs": [],
   "source": [
    "def factorial(n):\n",
    "    if n == 0:\n",
    "        return 1\n",
    "    else:\n",
    "        return n * factorial(n-1)"
   ]
  },
  {
   "cell_type": "markdown",
   "id": "1307ed61",
   "metadata": {},
   "source": [
    "Question: Create a function that checks if a given string is a palindrome (reads the same forwards and backwards)."
   ]
  },
  {
   "cell_type": "code",
   "execution_count": 4,
   "id": "366f5049",
   "metadata": {},
   "outputs": [],
   "source": [
    "def is_palindrome(s):\n",
    "    s = s.lower().replace(\" \", \"\")\n",
    "    return s == s[::-1]"
   ]
  },
  {
   "cell_type": "markdown",
   "id": "0957a02e",
   "metadata": {},
   "source": [
    "Question: Write a function that returns the average of a list of numbers."
   ]
  },
  {
   "cell_type": "code",
   "execution_count": 7,
   "id": "ee5c8ef1",
   "metadata": {},
   "outputs": [
    {
     "data": {
      "text/plain": [
       "2.5"
      ]
     },
     "execution_count": 7,
     "metadata": {},
     "output_type": "execute_result"
    }
   ],
   "source": [
    "def average(numbers):\n",
    "    return sum(numbers) / len(numbers)\n",
    "average([1,2,3,4])"
   ]
  },
  {
   "cell_type": "markdown",
   "id": "1be4891e",
   "metadata": {},
   "source": [
    "Question: Create a function that finds and returns the maximum element in a list."
   ]
  },
  {
   "cell_type": "code",
   "execution_count": 9,
   "id": "196f44f4",
   "metadata": {},
   "outputs": [
    {
     "data": {
      "text/plain": [
       "12"
      ]
     },
     "execution_count": 9,
     "metadata": {},
     "output_type": "execute_result"
    }
   ],
   "source": [
    "def find_max(numbers):\n",
    "    return max(numbers)\n",
    "find_max([1,2,8,9,0,12,3])"
   ]
  },
  {
   "cell_type": "markdown",
   "id": "370444e3",
   "metadata": {},
   "source": [
    "Question: Write a function that counts the number of vowels in a string."
   ]
  },
  {
   "cell_type": "code",
   "execution_count": 10,
   "id": "98f6cab5",
   "metadata": {},
   "outputs": [
    {
     "data": {
      "text/plain": [
       "4"
      ]
     },
     "execution_count": 10,
     "metadata": {},
     "output_type": "execute_result"
    }
   ],
   "source": [
    "def count_vowels(s):\n",
    "    vowels = \"AEIOUaeiou\"\n",
    "    return len([char for char in s if char in vowels])\n",
    "count_vowels(\"hello Arash\")"
   ]
  },
  {
   "cell_type": "markdown",
   "id": "a601a722",
   "metadata": {},
   "source": [
    "Question: Create a function that reverses a list in-place (without using the reverse() method)."
   ]
  },
  {
   "cell_type": "code",
   "execution_count": 12,
   "id": "f785e4a4",
   "metadata": {},
   "outputs": [
    {
     "data": {
      "text/plain": [
       "[4, 3, 2, 1]"
      ]
     },
     "execution_count": 12,
     "metadata": {},
     "output_type": "execute_result"
    }
   ],
   "source": [
    "def reverse_list(lst):\n",
    "    lst[:] = lst[::-1]\n",
    "    return  lst\n",
    "reverse_list([1,2,3,4])"
   ]
  },
  {
   "cell_type": "markdown",
   "id": "fd1ca9bf",
   "metadata": {},
   "source": [
    "Question: Write a function that finds the first non-repeated character in a string."
   ]
  },
  {
   "cell_type": "code",
   "execution_count": 14,
   "id": "b3355c16",
   "metadata": {},
   "outputs": [
    {
     "data": {
      "text/plain": [
       "'s'"
      ]
     },
     "execution_count": 14,
     "metadata": {},
     "output_type": "execute_result"
    }
   ],
   "source": [
    "def first_non_repeated_char(s):\n",
    "    char_count = {}\n",
    "    for char in s:\n",
    "        if char in char_count:\n",
    "            char_count[char] += 1\n",
    "        else:\n",
    "            char_count[char] = 1\n",
    "    for char in s:\n",
    "        if char_count[char] == 1:\n",
    "            return char\n",
    "first_non_repeated_char (\"hello arash how are you\")"
   ]
  },
  {
   "cell_type": "markdown",
   "id": "7059da70",
   "metadata": {},
   "source": [
    "Question: Create a function that calculates the area of a triangle given its base and height."
   ]
  },
  {
   "cell_type": "code",
   "execution_count": 15,
   "id": "01ba611d",
   "metadata": {},
   "outputs": [
    {
     "data": {
      "text/plain": [
       "3.0"
      ]
     },
     "execution_count": 15,
     "metadata": {},
     "output_type": "execute_result"
    }
   ],
   "source": [
    "def triangle_area(base, height):\n",
    "    return 0.5 * base * height\n",
    "triangle_area (2,3)"
   ]
  },
  {
   "cell_type": "markdown",
   "id": "099a04c2",
   "metadata": {},
   "source": [
    "Question: Write a function that finds and returns the common elements between two lists."
   ]
  },
  {
   "cell_type": "code",
   "execution_count": 17,
   "id": "c8cdee89",
   "metadata": {},
   "outputs": [
    {
     "data": {
      "text/plain": [
       "[3]"
      ]
     },
     "execution_count": 17,
     "metadata": {},
     "output_type": "execute_result"
    }
   ],
   "source": [
    "def common_elements(list1, list2):\n",
    "    return list(set(list1) & set(list2))\n",
    "common_elements([1,2,3,4,5], [3,6,7,8,9,10])"
   ]
  },
  {
   "cell_type": "markdown",
   "id": "4c7d8f5e",
   "metadata": {},
   "source": [
    "Question: Create a function that checks if a number is prime."
   ]
  },
  {
   "cell_type": "code",
   "execution_count": 20,
   "id": "65b66035",
   "metadata": {},
   "outputs": [
    {
     "data": {
      "text/plain": [
       "False"
      ]
     },
     "execution_count": 20,
     "metadata": {},
     "output_type": "execute_result"
    }
   ],
   "source": [
    "def is_prime(n):\n",
    "    if n <= 1:\n",
    "        return False\n",
    "    if n <= 3:\n",
    "        return True\n",
    "    if n % 2 == 0 or n % 3 == 0:\n",
    "        return False\n",
    "    i = 5\n",
    "    while i * i <= n:\n",
    "        if n % i == 0 or n % (i + 2) == 0:\n",
    "            return False\n",
    "        i += 6\n",
    "    return True\n",
    "is_prime(10)"
   ]
  },
  {
   "cell_type": "markdown",
   "id": "51eb04cc",
   "metadata": {},
   "source": [
    "Question: Write a function that counts the number of words in a sentence."
   ]
  },
  {
   "cell_type": "code",
   "execution_count": 21,
   "id": "8405ac79",
   "metadata": {},
   "outputs": [
    {
     "data": {
      "text/plain": [
       "4"
      ]
     },
     "execution_count": 21,
     "metadata": {},
     "output_type": "execute_result"
    }
   ],
   "source": [
    "def word_count(sentence):\n",
    "    words = sentence.split()\n",
    "    return len(words)\n",
    "word_count(\"hi how are you?\")"
   ]
  },
  {
   "cell_type": "markdown",
   "id": "c38deaec",
   "metadata": {},
   "source": [
    "Question: Write a function that removes duplicates from a list while preserving the order of elements."
   ]
  },
  {
   "cell_type": "code",
   "execution_count": 22,
   "id": "f3ac7a65",
   "metadata": {},
   "outputs": [
    {
     "data": {
      "text/plain": [
       "[1, 2, 3, 5, 8, 6, 9, 7]"
      ]
     },
     "execution_count": 22,
     "metadata": {},
     "output_type": "execute_result"
    }
   ],
   "source": [
    "def remove_duplicates(lst):\n",
    "    seen = set()\n",
    "    result = []\n",
    "    for item in lst:\n",
    "        if item not in seen:\n",
    "            seen.add(item)\n",
    "            result.append(item)\n",
    "    return result\n",
    "remove_duplicates([1,2,3,3,5,8,6,9,7])"
   ]
  },
  {
   "cell_type": "markdown",
   "id": "a5275740",
   "metadata": {},
   "source": [
    "Question: Create a function that calculates the LCM (Least Common Multiple) of two integers."
   ]
  },
  {
   "cell_type": "code",
   "execution_count": 26,
   "id": "126efcea",
   "metadata": {},
   "outputs": [
    {
     "name": "stdout",
     "output_type": "stream",
     "text": [
      "6\n",
      "14\n"
     ]
    }
   ],
   "source": [
    "def lcm(x, y):\n",
    "    from math import gcd\n",
    "    return (x * y) // gcd(x, y)\n",
    "print(lcm(2, 6))\n",
    "print(lcm(2, 7))"
   ]
  },
  {
   "cell_type": "markdown",
   "id": "71058ea6",
   "metadata": {},
   "source": [
    "Question: Write a function that checks if a given year is a leap year."
   ]
  },
  {
   "cell_type": "code",
   "execution_count": 27,
   "id": "db670720",
   "metadata": {},
   "outputs": [
    {
     "data": {
      "text/plain": [
       "False"
      ]
     },
     "execution_count": 27,
     "metadata": {},
     "output_type": "execute_result"
    }
   ],
   "source": [
    "def is_leap_year(year):\n",
    "    if (year % 4 == 0 and year % 100 != 0) or (year % 400 == 0):\n",
    "        return True\n",
    "    else:\n",
    "        return False\n",
    "is_leap_year(1987)"
   ]
  },
  {
   "cell_type": "markdown",
   "id": "234d5ef0",
   "metadata": {},
   "source": [
    "Question: Write a function that calculates the Fibonacci sequence up to a given number of terms and returns it as a list."
   ]
  },
  {
   "cell_type": "code",
   "execution_count": 28,
   "id": "723822e6",
   "metadata": {},
   "outputs": [
    {
     "data": {
      "text/plain": [
       "[0, 1, 1, 2, 3]"
      ]
     },
     "execution_count": 28,
     "metadata": {},
     "output_type": "execute_result"
    }
   ],
   "source": [
    "def fibonacci(n):\n",
    "    sequence = [0, 1]\n",
    "    while sequence[-1] + sequence[-2] <= n:\n",
    "        sequence.append(sequence[-1] + sequence[-2])\n",
    "    return sequence\n",
    "fibonacci(3)"
   ]
  },
  {
   "cell_type": "markdown",
   "id": "4c4cc0fa",
   "metadata": {},
   "source": [
    "Question: Create a function that generates and returns a list of prime numbers up to a specified limit."
   ]
  },
  {
   "cell_type": "code",
   "execution_count": 29,
   "id": "835b8968",
   "metadata": {},
   "outputs": [
    {
     "data": {
      "text/plain": [
       "[2, 3, 5, 7, 11, 13, 17, 19, 23, 29]"
      ]
     },
     "execution_count": 29,
     "metadata": {},
     "output_type": "execute_result"
    }
   ],
   "source": [
    "def generate_primes(limit):\n",
    "    primes = []\n",
    "    for num in range(2, limit + 1):\n",
    "        is_prime = True\n",
    "        for i in range(2, int(num ** 0.5) + 1):\n",
    "            if num % i == 0:\n",
    "                is_prime = False\n",
    "                break\n",
    "        if is_prime:\n",
    "            primes.append(num)\n",
    "    return primes\n",
    "generate_primes(30)"
   ]
  },
  {
   "cell_type": "markdown",
   "id": "fd8e4e73",
   "metadata": {},
   "source": [
    "Question: Create a function that calculates the greatest common divisor (GCD) of two numbers using the Euclidean algorithm."
   ]
  },
  {
   "cell_type": "code",
   "execution_count": 31,
   "id": "ce507ae7",
   "metadata": {},
   "outputs": [
    {
     "data": {
      "text/plain": [
       "12"
      ]
     },
     "execution_count": 31,
     "metadata": {},
     "output_type": "execute_result"
    }
   ],
   "source": [
    "def gcd(a, b):\n",
    "    while b:\n",
    "        a, b = b, a % b\n",
    "    return a\n",
    "gcd(12, 24)"
   ]
  },
  {
   "cell_type": "markdown",
   "id": "b4a8ae5c",
   "metadata": {},
   "source": [
    "Question: Write a function that determines if a given number is a perfect square (e.g., 9, 16, 25)."
   ]
  },
  {
   "cell_type": "code",
   "execution_count": 32,
   "id": "3b850b7d",
   "metadata": {},
   "outputs": [
    {
     "data": {
      "text/plain": [
       "True"
      ]
     },
     "execution_count": 32,
     "metadata": {},
     "output_type": "execute_result"
    }
   ],
   "source": [
    "def is_perfect_square(n):\n",
    "    root = int(n ** 0.5)\n",
    "    return root * root == n\n",
    "is_perfect_square(36)"
   ]
  },
  {
   "cell_type": "markdown",
   "id": "378311d8",
   "metadata": {},
   "source": [
    "Question: Create a function that determines if a given number is a palindrome in both decimal and binary representations."
   ]
  },
  {
   "cell_type": "code",
   "execution_count": 33,
   "id": "c8af547d",
   "metadata": {},
   "outputs": [
    {
     "data": {
      "text/plain": [
       "False"
      ]
     },
     "execution_count": 33,
     "metadata": {},
     "output_type": "execute_result"
    }
   ],
   "source": [
    "def is_decimal_binary_palindrome(n):\n",
    "    decimal_str = str(n)\n",
    "    binary_str = bin(n)[2:]\n",
    "    return decimal_str == decimal_str[::-1] and binary_str == binary_str[::-1]\n",
    "is_decimal_binary_palindrome(121)"
   ]
  },
  {
   "cell_type": "markdown",
   "id": "cf3d0434",
   "metadata": {},
   "source": [
    "Question: Write a function that calculates the sum of digits in a given number using recursion."
   ]
  },
  {
   "cell_type": "code",
   "execution_count": 34,
   "id": "c7005e19",
   "metadata": {},
   "outputs": [
    {
     "data": {
      "text/plain": [
       "6"
      ]
     },
     "execution_count": 34,
     "metadata": {},
     "output_type": "execute_result"
    }
   ],
   "source": [
    "def sum_of_digits(n):\n",
    "    if n < 10:\n",
    "        return n\n",
    "    return n % 10 + sum_of_digits(n // 10)\n",
    "sum_of_digits(123)"
   ]
  },
  {
   "cell_type": "markdown",
   "id": "b309fc40",
   "metadata": {},
   "source": [
    "Question: Create a function that generates all permutations of a list."
   ]
  },
  {
   "cell_type": "code",
   "execution_count": null,
   "id": "7ce70553",
   "metadata": {},
   "outputs": [],
   "source": [
    "from itertools import permutations\n",
    "\n",
    "def all_permutations(lst):\n",
    "    return list(permutations(lst))\n",
    "all_permutations(lst)"
   ]
  }
 ],
 "metadata": {
  "kernelspec": {
   "display_name": "Python 3 (ipykernel)",
   "language": "python",
   "name": "python3"
  },
  "language_info": {
   "codemirror_mode": {
    "name": "ipython",
    "version": 3
   },
   "file_extension": ".py",
   "mimetype": "text/x-python",
   "name": "python",
   "nbconvert_exporter": "python",
   "pygments_lexer": "ipython3",
   "version": "3.9.13"
  },
  "toc": {
   "base_numbering": 1,
   "nav_menu": {},
   "number_sections": true,
   "sideBar": true,
   "skip_h1_title": false,
   "title_cell": "Table of Contents",
   "title_sidebar": "Contents",
   "toc_cell": false,
   "toc_position": {},
   "toc_section_display": true,
   "toc_window_display": false
  }
 },
 "nbformat": 4,
 "nbformat_minor": 5
}
