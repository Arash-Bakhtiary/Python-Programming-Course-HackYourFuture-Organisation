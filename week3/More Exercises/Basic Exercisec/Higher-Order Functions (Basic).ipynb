{
 "cells": [
  {
   "cell_type": "markdown",
   "id": "dbee02f3",
   "metadata": {},
   "source": [
    "# Higher-Order Functions (Basic)"
   ]
  },
  {
   "cell_type": "markdown",
   "id": "ca9ffa6b",
   "metadata": {},
   "source": [
    "Question: Use map() to square each element in a list of numbers."
   ]
  },
  {
   "cell_type": "code",
   "execution_count": 2,
   "id": "ad69d6da",
   "metadata": {},
   "outputs": [
    {
     "data": {
      "text/plain": [
       "[1, 4, 9, 16, 25]"
      ]
     },
     "execution_count": 2,
     "metadata": {},
     "output_type": "execute_result"
    }
   ],
   "source": [
    "numbers = [1, 2, 3, 4, 5]\n",
    "squared = list(map(lambda x: x ** 2, numbers))\n",
    "squared"
   ]
  },
  {
   "cell_type": "markdown",
   "id": "51e0944b",
   "metadata": {},
   "source": [
    "Question: Use filter() to find all even numbers in a list."
   ]
  },
  {
   "cell_type": "code",
   "execution_count": 3,
   "id": "ba259943",
   "metadata": {},
   "outputs": [
    {
     "data": {
      "text/plain": [
       "[2, 4, 6, 8]"
      ]
     },
     "execution_count": 3,
     "metadata": {},
     "output_type": "execute_result"
    }
   ],
   "source": [
    "numbers = [1, 2, 3, 4, 5, 6, 7, 8, 9]\n",
    "even_numbers = list(filter(lambda x: x % 2 == 0, numbers))\n",
    "even_numbers"
   ]
  },
  {
   "cell_type": "markdown",
   "id": "f86ac9cc",
   "metadata": {},
   "source": [
    "Question: Calculate the sum of all elements in a list using reduce()."
   ]
  },
  {
   "cell_type": "code",
   "execution_count": 4,
   "id": "36aa2061",
   "metadata": {},
   "outputs": [
    {
     "data": {
      "text/plain": [
       "15"
      ]
     },
     "execution_count": 4,
     "metadata": {},
     "output_type": "execute_result"
    }
   ],
   "source": [
    "from functools import reduce\n",
    "numbers = [1, 2, 3, 4, 5]\n",
    "total = reduce(lambda x, y: x + y, numbers)\n",
    "total"
   ]
  },
  {
   "cell_type": "markdown",
   "id": "8d514d75",
   "metadata": {},
   "source": [
    "Question: Sort a list of strings alphabetically using sorted()."
   ]
  },
  {
   "cell_type": "code",
   "execution_count": 5,
   "id": "a71e4aaf",
   "metadata": {},
   "outputs": [
    {
     "data": {
      "text/plain": [
       "['apple', 'banana', 'cherry', 'date', 'fig']"
      ]
     },
     "execution_count": 5,
     "metadata": {},
     "output_type": "execute_result"
    }
   ],
   "source": [
    "fruits = [\"apple\", \"banana\", \"cherry\", \"date\", \"fig\"]\n",
    "sorted_fruits = sorted(fruits)\n",
    "sorted_fruits"
   ]
  },
  {
   "cell_type": "markdown",
   "id": "2434ec37",
   "metadata": {},
   "source": [
    "Question: Use map() to convert a list of Celsius temperatures to Fahrenheit."
   ]
  },
  {
   "cell_type": "code",
   "execution_count": 6,
   "id": "6b78b9dc",
   "metadata": {},
   "outputs": [
    {
     "data": {
      "text/plain": [
       "[32.0, 77.0, 122.0, 212.0]"
      ]
     },
     "execution_count": 6,
     "metadata": {},
     "output_type": "execute_result"
    }
   ],
   "source": [
    "celsius_temperatures = [0, 25, 50, 100]\n",
    "fahrenheit_temperatures = list(map(lambda x: (x * 9/5) + 32, celsius_temperatures))\n",
    "fahrenheit_temperatures"
   ]
  },
  {
   "cell_type": "markdown",
   "id": "d862135d",
   "metadata": {},
   "source": [
    "Question: Use filter() to find all prime numbers in a list of integers."
   ]
  },
  {
   "cell_type": "code",
   "execution_count": 7,
   "id": "88f20c83",
   "metadata": {},
   "outputs": [
    {
     "data": {
      "text/plain": [
       "[2, 3, 5, 7, 11]"
      ]
     },
     "execution_count": 7,
     "metadata": {},
     "output_type": "execute_result"
    }
   ],
   "source": [
    "def is_prime(n):\n",
    "    if n <= 1:\n",
    "        return False\n",
    "    for i in range(2, int(n ** 0.5) + 1):\n",
    "        if n % i == 0:\n",
    "            return False\n",
    "    return True\n",
    "\n",
    "numbers = [2, 3, 4, 5, 6, 7, 8, 9, 10, 11]\n",
    "prime_numbers = list(filter(is_prime, numbers))\n",
    "prime_numbers"
   ]
  },
  {
   "cell_type": "markdown",
   "id": "279fc698",
   "metadata": {},
   "source": [
    "Question: Calculate the product of all elements in a list using reduce()."
   ]
  },
  {
   "cell_type": "code",
   "execution_count": 8,
   "id": "1559b36e",
   "metadata": {},
   "outputs": [
    {
     "data": {
      "text/plain": [
       "120"
      ]
     },
     "execution_count": 8,
     "metadata": {},
     "output_type": "execute_result"
    }
   ],
   "source": [
    "from functools import reduce\n",
    "numbers = [1, 2, 3, 4, 5]\n",
    "product = reduce(lambda x, y: x * y, numbers)\n",
    "product"
   ]
  },
  {
   "cell_type": "markdown",
   "id": "5719a78a",
   "metadata": {},
   "source": [
    "Question: Sort a list of dictionaries by a specific key using sorted()."
   ]
  },
  {
   "cell_type": "code",
   "execution_count": 9,
   "id": "de6745f1",
   "metadata": {},
   "outputs": [
    {
     "data": {
      "text/plain": [
       "[{'name': 'Bob', 'age': 25},\n",
       " {'name': 'Alice', 'age': 30},\n",
       " {'name': 'Charlie', 'age': 35}]"
      ]
     },
     "execution_count": 9,
     "metadata": {},
     "output_type": "execute_result"
    }
   ],
   "source": [
    "data = [\n",
    "    {\"name\": \"Alice\", \"age\": 30},\n",
    "    {\"name\": \"Bob\", \"age\": 25},\n",
    "    {\"name\": \"Charlie\", \"age\": 35}\n",
    "]\n",
    "\n",
    "sorted_data = sorted(data, key=lambda x: x[\"age\"])\n",
    "sorted_data"
   ]
  },
  {
   "cell_type": "markdown",
   "id": "36ec9b24",
   "metadata": {},
   "source": [
    "Question: Use map() to calculate the square root of each element in a list of numbers."
   ]
  },
  {
   "cell_type": "code",
   "execution_count": 10,
   "id": "4ab04fa0",
   "metadata": {},
   "outputs": [
    {
     "data": {
      "text/plain": [
       "[1.0, 2.0, 3.0, 4.0, 5.0]"
      ]
     },
     "execution_count": 10,
     "metadata": {},
     "output_type": "execute_result"
    }
   ],
   "source": [
    "import math\n",
    "numbers = [1, 4, 9, 16, 25]\n",
    "square_roots = list(map(lambda x: math.sqrt(x), numbers))\n",
    "square_roots"
   ]
  },
  {
   "cell_type": "markdown",
   "id": "2b08924e",
   "metadata": {},
   "source": [
    "Question: Use filter() to find all uppercase words in a list of strings."
   ]
  },
  {
   "cell_type": "code",
   "execution_count": 11,
   "id": "ca316848",
   "metadata": {},
   "outputs": [
    {
     "data": {
      "text/plain": [
       "['PYTHON']"
      ]
     },
     "execution_count": 11,
     "metadata": {},
     "output_type": "execute_result"
    }
   ],
   "source": [
    "words = [\"Hello\", \"world\", \"PYTHON\", \"Programming\"]\n",
    "uppercase_words = list(filter(lambda x: x.isupper(), words))\n",
    "uppercase_words"
   ]
  },
  {
   "cell_type": "markdown",
   "id": "9b488f0c",
   "metadata": {},
   "source": [
    "Question: Use map() to apply two different functions to two different lists element-wise and return a list of tuples containing the results."
   ]
  },
  {
   "cell_type": "code",
   "execution_count": 1,
   "id": "58444041",
   "metadata": {},
   "outputs": [
    {
     "name": "stdout",
     "output_type": "stream",
     "text": [
      "[(2, 30), (4, 60), (6, 90), (8, 120)]\n"
     ]
    }
   ],
   "source": [
    "list1 = [1, 2, 3, 4]\n",
    "list2 = [10, 20, 30, 40]\n",
    "result = list(map(lambda x, y: (x * 2, y * 3), list1, list2))\n",
    "print(result)"
   ]
  },
  {
   "cell_type": "markdown",
   "id": "8cd1c726",
   "metadata": {},
   "source": [
    "Question: Given two lists of numbers, filter out the even numbers from both lists using filter() and then find the product of the remaining numbers from each list using reduce()."
   ]
  },
  {
   "cell_type": "code",
   "execution_count": 6,
   "id": "45ad906b",
   "metadata": {},
   "outputs": [
    {
     "name": "stdout",
     "output_type": "stream",
     "text": [
      "Product of odd numbers in list1: 15\n",
      "Product of odd numbers in list2: 1\n"
     ]
    }
   ],
   "source": [
    "from functools import reduce\n",
    "\n",
    "# Function to calculate the product of numbers in a list\n",
    "def product_of_odd_numbers(lst):\n",
    "    # Filter out the even numbers and then calculate the product\n",
    "    return reduce(lambda x, y: x * y, filter(lambda x: x % 2 != 0, lst), 1)\n",
    "\n",
    "# Given two lists\n",
    "list1 = [1, 2, 3, 4, 5]\n",
    "list2 = [10, 20, 30, 40, 50]\n",
    "\n",
    "# Calculate the product of odd numbers in both lists\n",
    "product1 = product_of_odd_numbers(list1)\n",
    "product2 = product_of_odd_numbers(list2)\n",
    "\n",
    "# Print the results\n",
    "print(\"Product of odd numbers in list1:\", product1)\n",
    "print(\"Product of odd numbers in list2:\", product2)"
   ]
  }
 ],
 "metadata": {
  "kernelspec": {
   "display_name": "Python 3 (ipykernel)",
   "language": "python",
   "name": "python3"
  },
  "language_info": {
   "codemirror_mode": {
    "name": "ipython",
    "version": 3
   },
   "file_extension": ".py",
   "mimetype": "text/x-python",
   "name": "python",
   "nbconvert_exporter": "python",
   "pygments_lexer": "ipython3",
   "version": "3.9.13"
  },
  "toc": {
   "base_numbering": 1,
   "nav_menu": {},
   "number_sections": true,
   "sideBar": true,
   "skip_h1_title": false,
   "title_cell": "Table of Contents",
   "title_sidebar": "Contents",
   "toc_cell": false,
   "toc_position": {},
   "toc_section_display": true,
   "toc_window_display": false
  }
 },
 "nbformat": 4,
 "nbformat_minor": 5
}
