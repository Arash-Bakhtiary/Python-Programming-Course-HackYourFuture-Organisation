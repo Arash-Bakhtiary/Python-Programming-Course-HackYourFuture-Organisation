{
 "cells": [
  {
   "cell_type": "markdown",
   "id": "dbee02f3",
   "metadata": {},
   "source": [
    "# The Break Statement (Basic)"
   ]
  },
  {
   "cell_type": "markdown",
   "id": "ca9ffa6b",
   "metadata": {},
   "source": [
    "Question: Write a Python program to find the sum of the first n natural numbers using a while loop and the break statement."
   ]
  },
  {
   "cell_type": "code",
   "execution_count": 1,
   "id": "1374e31f",
   "metadata": {},
   "outputs": [
    {
     "name": "stdout",
     "output_type": "stream",
     "text": [
      "Sum of first 5 natural numbers: 15\n"
     ]
    }
   ],
   "source": [
    "n = 5\n",
    "sum_natural = 0\n",
    "num = 1\n",
    "while True:\n",
    "    sum_natural += num\n",
    "    num += 1\n",
    "    if num > n:\n",
    "        break\n",
    "print(\"Sum of first\", n, \"natural numbers:\", sum_natural)"
   ]
  },
  {
   "cell_type": "markdown",
   "id": "71dd75dd",
   "metadata": {},
   "source": [
    "Question: Write a Python program to search for an element in a list using a for loop and the break statement."
   ]
  },
  {
   "cell_type": "code",
   "execution_count": 2,
   "id": "d0b55343",
   "metadata": {},
   "outputs": [
    {
     "name": "stdout",
     "output_type": "stream",
     "text": [
      "Element 5 found\n"
     ]
    }
   ],
   "source": [
    "numbers = [3, 7, 2, 9, 5, 1, 8]\n",
    "search_element = 5\n",
    "found = False\n",
    "for num in numbers:\n",
    "    if num == search_element:\n",
    "        print(\"Element\", search_element, \"found\")\n",
    "        found = True\n",
    "        break\n",
    "if not found:\n",
    "    print(\"Element\", search_element, \"not found\")"
   ]
  },
  {
   "cell_type": "markdown",
   "id": "6827ed62",
   "metadata": {},
   "source": [
    "Question: Write a Python program to find the factorial of a given number using a for loop and the break statement."
   ]
  },
  {
   "cell_type": "code",
   "execution_count": 3,
   "id": "b8450624",
   "metadata": {},
   "outputs": [
    {
     "name": "stdout",
     "output_type": "stream",
     "text": [
      "Factorial of 5 : 120\n"
     ]
    }
   ],
   "source": [
    "n = 5\n",
    "factorial = 1\n",
    "for num in range(1, n + 1):\n",
    "    factorial *= num\n",
    "    if num == n:\n",
    "        break\n",
    "print(\"Factorial of\", n, \":\", factorial)"
   ]
  },
  {
   "cell_type": "markdown",
   "id": "5ddfdcd6",
   "metadata": {},
   "source": [
    "Question: Write a Python program to print the prime numbers from 1 to 100 using a for loop and the break statement."
   ]
  },
  {
   "cell_type": "code",
   "execution_count": 4,
   "id": "e4acb3dc",
   "metadata": {},
   "outputs": [
    {
     "name": "stdout",
     "output_type": "stream",
     "text": [
      "2 3 5 7 11 13 17 19 23 29 31 37 41 43 47 53 59 61 67 71 73 79 83 89 97 "
     ]
    }
   ],
   "source": [
    "for num in range(2, 101):\n",
    "    for i in range(2, int(num ** 0.5) + 1):\n",
    "        if num % i == 0:\n",
    "            break\n",
    "    else:\n",
    "        print(num, end=\" \")"
   ]
  },
  {
   "cell_type": "markdown",
   "id": "404842fa",
   "metadata": {},
   "source": [
    "Question: Write a Python program to find the largest element in a list using a for loop and the break statement."
   ]
  },
  {
   "cell_type": "code",
   "execution_count": 5,
   "id": "bdb4a650",
   "metadata": {},
   "outputs": [
    {
     "name": "stdout",
     "output_type": "stream",
     "text": [
      "Largest element: 22\n"
     ]
    }
   ],
   "source": [
    "numbers = [17, 8, 12, 22, 10, 14]\n",
    "largest = numbers[0]\n",
    "for num in numbers:\n",
    "    if num > largest:\n",
    "        largest = num\n",
    "    if num == numbers[-1]:\n",
    "        break\n",
    "print(\"Largest element:\", largest)"
   ]
  },
  {
   "cell_type": "markdown",
   "id": "c07679c5",
   "metadata": {},
   "source": [
    "Question: Write a Python program to find the second largest element in a list using a for loop and the break statement."
   ]
  },
  {
   "cell_type": "code",
   "execution_count": 6,
   "id": "95714a64",
   "metadata": {},
   "outputs": [
    {
     "name": "stdout",
     "output_type": "stream",
     "text": [
      "Second largest element: 8\n"
     ]
    }
   ],
   "source": [
    "numbers = [9, 3, 7, 1, 8, 2, 5]\n",
    "largest = max(numbers)\n",
    "second_largest = float('-inf')\n",
    "for num in numbers:\n",
    "    if num < largest and num > second_largest:\n",
    "        second_largest = num\n",
    "    if num == numbers[-1]:\n",
    "        break\n",
    "print(\"Second largest element:\", second_largest)"
   ]
  },
  {
   "cell_type": "markdown",
   "id": "bf184f07",
   "metadata": {},
   "source": [
    "Question: Write a Python program to find the common elements between two lists using a for loop and the break statement."
   ]
  },
  {
   "cell_type": "code",
   "execution_count": 7,
   "id": "68f577b8",
   "metadata": {},
   "outputs": [
    {
     "name": "stdout",
     "output_type": "stream",
     "text": [
      "Common elements: [7]\n"
     ]
    }
   ],
   "source": [
    "list1 = [3, 7, 2, 9, 5]\n",
    "list2 = [5, 2, 1, 6, 7]\n",
    "common_elements = []\n",
    "for num in list1:\n",
    "    if num in list2:\n",
    "        common_elements.append(num)\n",
    "        break\n",
    "print(\"Common elements:\", common_elements)"
   ]
  },
  {
   "cell_type": "markdown",
   "id": "6aa91da9",
   "metadata": {},
   "source": [
    "Question: Write a Python program to find the first non-repeated character in a string using a for loop and the break statement."
   ]
  },
  {
   "cell_type": "code",
   "execution_count": 8,
   "id": "4fe34017",
   "metadata": {},
   "outputs": [
    {
     "name": "stdout",
     "output_type": "stream",
     "text": [
      "First non-repeated character: b\n"
     ]
    }
   ],
   "source": [
    "string = \"abaccded\"\n",
    "for char in string:\n",
    "    if string.count(char) == 1:\n",
    "        print(\"First non-repeated character:\", char)\n",
    "        break"
   ]
  },
  {
   "cell_type": "markdown",
   "id": "539113ce",
   "metadata": {},
   "source": [
    "Question: Write a Python program to print the ASCII values of uppercase letters using a for loop and the break statement."
   ]
  },
  {
   "cell_type": "code",
   "execution_count": 9,
   "id": "2c2651f6",
   "metadata": {},
   "outputs": [
    {
     "name": "stdout",
     "output_type": "stream",
     "text": [
      "Character: A, ASCII Value: 65\n",
      "Character: B, ASCII Value: 66\n",
      "Character: C, ASCII Value: 67\n"
     ]
    }
   ],
   "source": [
    "for char in range(ord('A'), ord('Z') + 1):\n",
    "    print(f\"Character: {chr(char)}, ASCII Value: {char}\")\n",
    "    if chr(char) == 'C':  # Breaks the loop after printing up to 'C'\n",
    "        break"
   ]
  }
 ],
 "metadata": {
  "kernelspec": {
   "display_name": "Python 3 (ipykernel)",
   "language": "python",
   "name": "python3"
  },
  "language_info": {
   "codemirror_mode": {
    "name": "ipython",
    "version": 3
   },
   "file_extension": ".py",
   "mimetype": "text/x-python",
   "name": "python",
   "nbconvert_exporter": "python",
   "pygments_lexer": "ipython3",
   "version": "3.9.13"
  },
  "toc": {
   "base_numbering": 1,
   "nav_menu": {},
   "number_sections": true,
   "sideBar": true,
   "skip_h1_title": false,
   "title_cell": "Table of Contents",
   "title_sidebar": "Contents",
   "toc_cell": false,
   "toc_position": {},
   "toc_section_display": true,
   "toc_window_display": false
  }
 },
 "nbformat": 4,
 "nbformat_minor": 5
}
