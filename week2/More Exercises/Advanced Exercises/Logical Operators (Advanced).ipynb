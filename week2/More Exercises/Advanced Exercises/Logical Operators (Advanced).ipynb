{
 "cells": [
  {
   "cell_type": "markdown",
   "id": "dbee02f3",
   "metadata": {},
   "source": [
    "# Logical Operators (Advanced)"
   ]
  },
  {
   "cell_type": "markdown",
   "id": "ca9ffa6b",
   "metadata": {},
   "source": [
    "Question: Check if a list contains both strings longer than 5 characters and strings shorter than 3 characters."
   ]
  },
  {
   "cell_type": "code",
   "execution_count": 1,
   "id": "0ab9a55a",
   "metadata": {},
   "outputs": [
    {
     "name": "stdout",
     "output_type": "stream",
     "text": [
      "False\n"
     ]
    }
   ],
   "source": [
    "strings = [\"apple\", \"banana\", \"pear\", \"grape\"]\n",
    "result = any(len(s) > 5 for s in strings) and any(len(s) < 3 for s in strings)\n",
    "print(result)"
   ]
  },
  {
   "cell_type": "markdown",
   "id": "770d43ad",
   "metadata": {},
   "source": [
    "Question: Check if a string contains either a digit or a special character."
   ]
  },
  {
   "cell_type": "code",
   "execution_count": 2,
   "id": "cc80afc8",
   "metadata": {},
   "outputs": [
    {
     "name": "stdout",
     "output_type": "stream",
     "text": [
      "True\n"
     ]
    }
   ],
   "source": [
    "text = \"Hello123!\"\n",
    "result = any(char.isdigit() for char in text) or any(not char.isalnum() for char in text)\n",
    "print(result)"
   ]
  },
  {
   "cell_type": "markdown",
   "id": "85e3e5c0",
   "metadata": {},
   "source": [
    "Question: Check if a number is not a prime number."
   ]
  },
  {
   "cell_type": "code",
   "execution_count": 3,
   "id": "10ca6770",
   "metadata": {},
   "outputs": [
    {
     "name": "stdout",
     "output_type": "stream",
     "text": [
      "True\n"
     ]
    }
   ],
   "source": [
    "def is_prime(n):\n",
    "    if n <= 1:\n",
    "        return False\n",
    "    for i in range(2, int(n ** 0.5) + 1):\n",
    "        if n % i == 0:\n",
    "            return False\n",
    "    return True\n",
    "\n",
    "number = 27\n",
    "result = not is_prime(number)\n",
    "print(result)"
   ]
  },
  {
   "cell_type": "markdown",
   "id": "898ce262",
   "metadata": {},
   "source": [
    "Question: Check if a list contains at least one positive and one negative number."
   ]
  },
  {
   "cell_type": "code",
   "execution_count": 4,
   "id": "c13fbb25",
   "metadata": {},
   "outputs": [
    {
     "name": "stdout",
     "output_type": "stream",
     "text": [
      "True\n"
     ]
    }
   ],
   "source": [
    "numbers = [-5, 10, 15, -20]\n",
    "result = any(num > 0 for num in numbers) and any(num < 0 for num in numbers)\n",
    "print(result)"
   ]
  },
  {
   "cell_type": "markdown",
   "id": "e8776178",
   "metadata": {},
   "source": [
    "Question: Check if a password contains both uppercase and lowercase letters."
   ]
  },
  {
   "cell_type": "code",
   "execution_count": 5,
   "id": "f889ff04",
   "metadata": {},
   "outputs": [
    {
     "name": "stdout",
     "output_type": "stream",
     "text": [
      "True\n"
     ]
    }
   ],
   "source": [
    "password = \"PassWord123\"\n",
    "result = any(char.islower() for char in password) and any(char.isupper() for char in password)\n",
    "print(result)"
   ]
  },
  {
   "cell_type": "markdown",
   "id": "3e0dcc0d",
   "metadata": {},
   "source": [
    "Question: Check if a list contains both even and odd numbers."
   ]
  },
  {
   "cell_type": "code",
   "execution_count": 6,
   "id": "b047db0b",
   "metadata": {},
   "outputs": [
    {
     "name": "stdout",
     "output_type": "stream",
     "text": [
      "True\n"
     ]
    }
   ],
   "source": [
    "numbers = [2, 5, 8, 11, 14]\n",
    "result = any(num % 2 == 0 for num in numbers) and any(num % 2 != 0 for num in numbers)\n",
    "print(result)"
   ]
  },
  {
   "cell_type": "markdown",
   "id": "ed5f1953",
   "metadata": {},
   "source": [
    "Question: Check if a user's input is a palindrome and contains at least one uppercase letter."
   ]
  },
  {
   "cell_type": "code",
   "execution_count": 10,
   "id": "b33268ea",
   "metadata": {},
   "outputs": [
    {
     "name": "stdout",
     "output_type": "stream",
     "text": [
      "Enter a string: aLa\n",
      "True\n"
     ]
    }
   ],
   "source": [
    "text = input(\"Enter a string: \")\n",
    "result = text == text[::-1] and any(char.isupper() for char in text)\n",
    "print(result)"
   ]
  },
  {
   "cell_type": "markdown",
   "id": "48c9bcc6",
   "metadata": {},
   "source": [
    "Question: Check if a list of integers contains both even numbers that are divisible by 4 and odd numbers greater than 15."
   ]
  },
  {
   "cell_type": "code",
   "execution_count": 11,
   "id": "716a9ca2",
   "metadata": {},
   "outputs": [
    {
     "name": "stdout",
     "output_type": "stream",
     "text": [
      "True\n"
     ]
    }
   ],
   "source": [
    "numbers = [8, 21, 16, 30, 13]\n",
    "result = any(num % 2 == 0 and num % 4 == 0 for num in numbers) and any(num % 2 != 0 and num > 15 for num in numbers)\n",
    "print(result)"
   ]
  },
  {
   "cell_type": "markdown",
   "id": "eca2a779",
   "metadata": {},
   "source": [
    "Question: Check if a password is strong if it contains at least one uppercase letter, one lowercase letter, one digit, and one special character."
   ]
  },
  {
   "cell_type": "code",
   "execution_count": 12,
   "id": "41b4b0db",
   "metadata": {},
   "outputs": [
    {
     "name": "stdout",
     "output_type": "stream",
     "text": [
      "True\n"
     ]
    }
   ],
   "source": [
    "import re\n",
    "\n",
    "password = \"P@ssw0rd\"\n",
    "uppercase = any(char.isupper() for char in password)\n",
    "lowercase = any(char.islower() for char in password)\n",
    "digit = any(char.isdigit() for char in password)\n",
    "special_char = re.search(r\"[!@#$%^&*()_+{}\\[\\]:;<>,.?~]\", password) is not None\n",
    "result = uppercase and lowercase and digit and special_char\n",
    "print(result)"
   ]
  },
  {
   "cell_type": "markdown",
   "id": "8af3b4a0",
   "metadata": {},
   "source": [
    "Question: Check if a list contains at least one prime number and at least one perfect square."
   ]
  },
  {
   "cell_type": "code",
   "execution_count": 13,
   "id": "7513670b",
   "metadata": {},
   "outputs": [
    {
     "name": "stdout",
     "output_type": "stream",
     "text": [
      "True\n"
     ]
    }
   ],
   "source": [
    "def is_prime(n):\n",
    "    if n <= 1:\n",
    "        return False\n",
    "    for i in range(2, int(n ** 0.5) + 1):\n",
    "        if n % i == 0:\n",
    "            return False\n",
    "    return True\n",
    "\n",
    "def is_perfect_square(n):\n",
    "    return int(n ** 0.5) ** 2 == n\n",
    "\n",
    "numbers = [14, 25, 8, 17, 16]\n",
    "result = any(is_prime(num) for num in numbers) and any(is_perfect_square(num) for num in numbers)\n",
    "print(result)"
   ]
  },
  {
   "cell_type": "markdown",
   "id": "dcc23b3e",
   "metadata": {},
   "source": [
    "Question: Check if a string contains both alphabetic characters and numeric digits."
   ]
  },
  {
   "cell_type": "code",
   "execution_count": 14,
   "id": "264e4750",
   "metadata": {},
   "outputs": [
    {
     "name": "stdout",
     "output_type": "stream",
     "text": [
      "True\n"
     ]
    }
   ],
   "source": [
    "text = \"Hello123\"\n",
    "result = any(char.isalpha() for char in text) and any(char.isdigit() for char in text)\n",
    "print(result)\n"
   ]
  },
  {
   "cell_type": "markdown",
   "id": "4d93d93d",
   "metadata": {},
   "source": [
    "Question: Check if a sentence contains at least three words, each of which starts with an uppercase letter."
   ]
  },
  {
   "cell_type": "code",
   "execution_count": 15,
   "id": "63eebe14",
   "metadata": {},
   "outputs": [
    {
     "name": "stdout",
     "output_type": "stream",
     "text": [
      "True\n"
     ]
    }
   ],
   "source": [
    "sentence = \"Python Is An Amazing Programming Language\"\n",
    "words = sentence.split()\n",
    "result = sum(1 for word in words if word[0].isupper()) >= 3\n",
    "print(result)\n"
   ]
  },
  {
   "cell_type": "markdown",
   "id": "d1ba6e6b",
   "metadata": {},
   "source": [
    "Question: Check if a list of strings contains at least one string that is a palindrome and one string with all lowercase letters."
   ]
  },
  {
   "cell_type": "code",
   "execution_count": 16,
   "id": "c82f6d7a",
   "metadata": {},
   "outputs": [
    {
     "name": "stdout",
     "output_type": "stream",
     "text": [
      "True\n"
     ]
    }
   ],
   "source": [
    "strings = [\"radar\", \"Python\", \"level\", \"programming\"]\n",
    "result = any(word == word[::-1] for word in strings) and any(word.islower() for word in strings)\n",
    "print(result)"
   ]
  },
  {
   "cell_type": "markdown",
   "id": "dff28e8a",
   "metadata": {},
   "source": [
    "Question: Check if a given number is both a prime number and a palindrome."
   ]
  },
  {
   "cell_type": "code",
   "execution_count": 18,
   "id": "827b081b",
   "metadata": {},
   "outputs": [
    {
     "name": "stdout",
     "output_type": "stream",
     "text": [
      "True\n"
     ]
    }
   ],
   "source": [
    "def is_prime(n):\n",
    "    if n <= 1:\n",
    "        return False\n",
    "    for i in range(2, int(n ** 0.5) + 1):\n",
    "        if n % i == 0:\n",
    "            return False\n",
    "    return True\n",
    "\n",
    "def is_palindrome(n):\n",
    "    return str(n) == str(n)[::-1]\n",
    "\n",
    "number = 131\n",
    "result = is_prime(number) and is_palindrome(number)\n",
    "print(result)"
   ]
  },
  {
   "cell_type": "markdown",
   "id": "98c75a36",
   "metadata": {},
   "source": [
    "Question: Check if a list of strings contains at least one string that has a length greater than 10 and one string that has a length less than 5."
   ]
  },
  {
   "cell_type": "code",
   "execution_count": 19,
   "id": "f6c609e5",
   "metadata": {},
   "outputs": [
    {
     "name": "stdout",
     "output_type": "stream",
     "text": [
      "True\n"
     ]
    }
   ],
   "source": [
    "strings = [\"programming\", \"Python\", \"data science\", \"AI\", \"machine learning\"]\n",
    "result = any(len(word) > 10 for word in strings) and any(len(word) < 5 for word in strings)\n",
    "print(result)"
   ]
  },
  {
   "cell_type": "markdown",
   "id": "740d56fc",
   "metadata": {},
   "source": [
    "Question: Check if a given string is an anagram of another string and contains at least one digit."
   ]
  },
  {
   "cell_type": "code",
   "execution_count": 20,
   "id": "6f78b719",
   "metadata": {},
   "outputs": [
    {
     "name": "stdout",
     "output_type": "stream",
     "text": [
      "False\n"
     ]
    }
   ],
   "source": [
    "def is_anagram(str1, str2):\n",
    "    return sorted(str1) == sorted(str2)\n",
    "\n",
    "text1 = \"listen\"\n",
    "text2 = \"silent\"\n",
    "result = is_anagram(text1, text2) and any(char.isdigit() for char in text1)\n",
    "print(result)"
   ]
  }
 ],
 "metadata": {
  "kernelspec": {
   "display_name": "Python 3 (ipykernel)",
   "language": "python",
   "name": "python3"
  },
  "language_info": {
   "codemirror_mode": {
    "name": "ipython",
    "version": 3
   },
   "file_extension": ".py",
   "mimetype": "text/x-python",
   "name": "python",
   "nbconvert_exporter": "python",
   "pygments_lexer": "ipython3",
   "version": "3.9.13"
  },
  "toc": {
   "base_numbering": 1,
   "nav_menu": {},
   "number_sections": true,
   "sideBar": true,
   "skip_h1_title": false,
   "title_cell": "Table of Contents",
   "title_sidebar": "Contents",
   "toc_cell": false,
   "toc_position": {},
   "toc_section_display": true,
   "toc_window_display": false
  }
 },
 "nbformat": 4,
 "nbformat_minor": 5
}
