{
 "cells": [
  {
   "cell_type": "markdown",
   "id": "dbee02f3",
   "metadata": {},
   "source": [
    "# Comparison Operators (Advanced)"
   ]
  },
  {
   "cell_type": "markdown",
   "id": "ca9ffa6b",
   "metadata": {},
   "source": [
    "Question: Check if a list is strictly increasing (each element is greater than the previous one)."
   ]
  },
  {
   "cell_type": "code",
   "execution_count": 1,
   "id": "e7aeea65",
   "metadata": {},
   "outputs": [
    {
     "name": "stdout",
     "output_type": "stream",
     "text": [
      "True\n"
     ]
    }
   ],
   "source": [
    "numbers = [2, 5, 7, 10, 15]\n",
    "\n",
    "result = all(numbers[i] < numbers[i + 1] for i in range(len(numbers) - 1))\n",
    "print(result)"
   ]
  },
  {
   "cell_type": "markdown",
   "id": "91fa16eb",
   "metadata": {},
   "source": [
    "Question: Check if a given string is an anagram of another string."
   ]
  },
  {
   "cell_type": "code",
   "execution_count": 2,
   "id": "a242746d",
   "metadata": {},
   "outputs": [
    {
     "name": "stdout",
     "output_type": "stream",
     "text": [
      "True\n"
     ]
    }
   ],
   "source": [
    "def is_anagram(str1, str2):\n",
    "    return sorted(str1) == sorted(str2)\n",
    "\n",
    "word1 = \"listen\"\n",
    "word2 = \"silent\"\n",
    "\n",
    "result = is_anagram(word1, word2)\n",
    "print(result)"
   ]
  },
  {
   "cell_type": "markdown",
   "id": "b8720a75",
   "metadata": {},
   "source": [
    "Question: Check if a list of words is sorted lexicographically."
   ]
  },
  {
   "cell_type": "code",
   "execution_count": 4,
   "id": "6459227d",
   "metadata": {},
   "outputs": [
    {
     "name": "stdout",
     "output_type": "stream",
     "text": [
      "True\n"
     ]
    }
   ],
   "source": [
    "words = [\"apple\", \"banana\", \"cherry\", \"grape\"]\n",
    "result = words == sorted(words)\n",
    "print(result)"
   ]
  },
  {
   "cell_type": "markdown",
   "id": "338bb6ce",
   "metadata": {},
   "source": [
    "Question: Check if a given date is before today's date."
   ]
  },
  {
   "cell_type": "code",
   "execution_count": 6,
   "id": "678a3b7b",
   "metadata": {},
   "outputs": [
    {
     "name": "stdout",
     "output_type": "stream",
     "text": [
      "True\n"
     ]
    }
   ],
   "source": [
    "from datetime import datetime\n",
    "\n",
    "given_date = datetime(2022, 5, 15)\n",
    "today = datetime.today()\n",
    "\n",
    "result = given_date < today\n",
    "print(result)"
   ]
  },
  {
   "cell_type": "markdown",
   "id": "810f7cb0",
   "metadata": {},
   "source": [
    "Question: Check if a given string represents a valid email address."
   ]
  },
  {
   "cell_type": "code",
   "execution_count": 7,
   "id": "3bfe5bb8",
   "metadata": {},
   "outputs": [
    {
     "name": "stdout",
     "output_type": "stream",
     "text": [
      "True\n"
     ]
    }
   ],
   "source": [
    "import re\n",
    "\n",
    "email = \"user@example.com\"\n",
    "\n",
    "result = re.match(r'^[\\w\\.-]+@[\\w\\.-]+\\.\\w+$', email) is not None\n",
    "print(result)"
   ]
  },
  {
   "cell_type": "markdown",
   "id": "2abc3c5f",
   "metadata": {},
   "source": [
    "Question: Check if a list of numbers is in a geometric progression."
   ]
  },
  {
   "cell_type": "code",
   "execution_count": 8,
   "id": "037932c2",
   "metadata": {},
   "outputs": [
    {
     "name": "stdout",
     "output_type": "stream",
     "text": [
      "True\n"
     ]
    }
   ],
   "source": [
    "def is_geometric(numbers):\n",
    "    ratio = numbers[1] / numbers[0]\n",
    "    return all(numbers[i] * ratio == numbers[i + 1] for i in range(len(numbers) - 1))\n",
    "\n",
    "sequence = [2, 6, 18, 54]\n",
    "\n",
    "result = is_geometric(sequence)\n",
    "print(result)"
   ]
  },
  {
   "cell_type": "markdown",
   "id": "da8003d1",
   "metadata": {},
   "source": [
    "Question: Check if a given sentence contains at least one noun and one verb."
   ]
  },
  {
   "cell_type": "code",
   "execution_count": 10,
   "id": "5291879e",
   "metadata": {},
   "outputs": [
    {
     "name": "stdout",
     "output_type": "stream",
     "text": [
      "True\n"
     ]
    },
    {
     "name": "stderr",
     "output_type": "stream",
     "text": [
      "[nltk_data] Downloading package punkt to\n",
      "[nltk_data]     C:\\Users\\Arash\\AppData\\Roaming\\nltk_data...\n",
      "[nltk_data]   Package punkt is already up-to-date!\n",
      "[nltk_data] Downloading package averaged_perceptron_tagger to\n",
      "[nltk_data]     C:\\Users\\Arash\\AppData\\Roaming\\nltk_data...\n",
      "[nltk_data]   Package averaged_perceptron_tagger is already up-to-\n",
      "[nltk_data]       date!\n"
     ]
    }
   ],
   "source": [
    "import nltk\n",
    "from nltk.tag import pos_tag\n",
    "\n",
    "nltk.download('punkt')\n",
    "nltk.download('averaged_perceptron_tagger')\n",
    "\n",
    "sentence = \"The cat runs fast.\"\n",
    "\n",
    "tokens = nltk.word_tokenize(sentence)\n",
    "tags = pos_tag(tokens)\n",
    "\n",
    "nouns = any(tag.startswith('N') for word, tag in tags)\n",
    "verbs = any(tag.startswith('V') for word, tag in tags)\n",
    "\n",
    "result = nouns and verbs\n",
    "print(result)"
   ]
  },
  {
   "cell_type": "markdown",
   "id": "8ba55a66",
   "metadata": {},
   "source": [
    "Question: Check if a list of numbers contains both even and odd numbers using set operations."
   ]
  },
  {
   "cell_type": "code",
   "execution_count": 11,
   "id": "598a48dc",
   "metadata": {},
   "outputs": [
    {
     "name": "stdout",
     "output_type": "stream",
     "text": [
      "False\n"
     ]
    }
   ],
   "source": [
    "numbers = [2, 4, 5, 8, 11]\n",
    "\n",
    "evens = set(filter(lambda x: x % 2 == 0, numbers))\n",
    "odds = set(filter(lambda x: x % 2 != 0, numbers))\n",
    "\n",
    "result = bool(evens & odds)\n",
    "print(result)"
   ]
  },
  {
   "cell_type": "markdown",
   "id": "4b5e17d3",
   "metadata": {},
   "source": [
    "Question: Check if a given number is a Fibonacci number."
   ]
  },
  {
   "cell_type": "code",
   "execution_count": 12,
   "id": "05ae3f9f",
   "metadata": {},
   "outputs": [
    {
     "name": "stdout",
     "output_type": "stream",
     "text": [
      "True\n"
     ]
    }
   ],
   "source": [
    "def is_perfect_square(number):\n",
    "    return int(number ** 0.5) ** 2 == number\n",
    "\n",
    "def is_fibonacci(number):\n",
    "    return is_perfect_square(5 * number * number + 4) or is_perfect_square(5 * number * number - 4)\n",
    "\n",
    "num = 21\n",
    "\n",
    "result = is_fibonacci(num)\n",
    "print(result)\n"
   ]
  },
  {
   "cell_type": "markdown",
   "id": "bfad8dde",
   "metadata": {},
   "source": [
    "Question: Check if a string follows the naming convention of snake_case."
   ]
  },
  {
   "cell_type": "code",
   "execution_count": 13,
   "id": "f5ae01c5",
   "metadata": {},
   "outputs": [
    {
     "name": "stdout",
     "output_type": "stream",
     "text": [
      "True\n"
     ]
    }
   ],
   "source": [
    "identifier = \"user_name_input\"\n",
    "\n",
    "result = identifier == identifier.lower() and '_' in identifier\n",
    "print(result)"
   ]
  },
  {
   "cell_type": "code",
   "execution_count": null,
   "id": "5e82b87f",
   "metadata": {},
   "outputs": [],
   "source": [
    "Question: Check if a list of strings is sorted by the length of the strings."
   ]
  },
  {
   "cell_type": "code",
   "execution_count": 14,
   "id": "613d4fe6",
   "metadata": {},
   "outputs": [
    {
     "name": "stdout",
     "output_type": "stream",
     "text": [
      "False\n"
     ]
    }
   ],
   "source": [
    "words = [\"apple\", \"banana\", \"cherry\", \"grape\"]\n",
    "\n",
    "result = all(len(words[i]) <= len(words[i + 1]) for i in range(len(words) - 1))\n",
    "print(result)"
   ]
  },
  {
   "cell_type": "markdown",
   "id": "07fdff51",
   "metadata": {},
   "source": [
    "Question: Check if a given matrix is a magic square (the sum of every row, column, and diagonal is the same)."
   ]
  },
  {
   "cell_type": "code",
   "execution_count": 15,
   "id": "89c4352d",
   "metadata": {},
   "outputs": [
    {
     "name": "stdout",
     "output_type": "stream",
     "text": [
      "False\n"
     ]
    }
   ],
   "source": [
    "def is_magic_square(matrix):\n",
    "    n = len(matrix)\n",
    "    target_sum = sum(matrix[0])\n",
    "    return all(sum(row) == target_sum for row in matrix) and \\\n",
    "           all(sum(matrix[i][j] for i in range(n)) == target_sum for j in range(n)) and \\\n",
    "           sum(matrix[i][i] for i in range(n)) == target_sum and \\\n",
    "           sum(matrix[i][n - i - 1] for i in range(n)) == target_sum\n",
    "\n",
    "magic_square = [\n",
    "    [16, 23, 17],\n",
    "    [78, 32, 21],\n",
    "    [17, 16, 15]\n",
    "]\n",
    "\n",
    "result = is_magic_square(magic_square)\n",
    "print(result)\n"
   ]
  },
  {
   "cell_type": "markdown",
   "id": "19edff8b",
   "metadata": {},
   "source": [
    "Question: Check if a given sentence contains at least one palindrome word."
   ]
  },
  {
   "cell_type": "code",
   "execution_count": 16,
   "id": "dab07b00",
   "metadata": {},
   "outputs": [
    {
     "name": "stdout",
     "output_type": "stream",
     "text": [
      "True\n"
     ]
    }
   ],
   "source": [
    "sentence = \"The radar on the racecar is not working.\"\n",
    "\n",
    "def is_palindrome(word):\n",
    "    return word == word[::-1]\n",
    "\n",
    "words = sentence.split()\n",
    "result = any(is_palindrome(word.lower()) for word in words)\n",
    "print(result)\n"
   ]
  },
  {
   "cell_type": "markdown",
   "id": "c2f96927",
   "metadata": {},
   "source": [
    "Question: Check if a list of strings contains anagrams of a specific word."
   ]
  },
  {
   "cell_type": "code",
   "execution_count": 17,
   "id": "1661839d",
   "metadata": {},
   "outputs": [
    {
     "name": "stdout",
     "output_type": "stream",
     "text": [
      "True\n"
     ]
    }
   ],
   "source": [
    "def contains_anagrams(words, target):\n",
    "    return any(sorted(word) == sorted(target) for word in words)\n",
    "\n",
    "word_list = [\"listen\", \"silent\", \"stone\", \"onset\"]\n",
    "target_word = \"silent\"\n",
    "\n",
    "result = contains_anagrams(word_list, target_word)\n",
    "print(result)\n"
   ]
  },
  {
   "cell_type": "markdown",
   "id": "fcd7411d",
   "metadata": {},
   "source": [
    "Question: Check if a given year is a leap year."
   ]
  },
  {
   "cell_type": "code",
   "execution_count": 18,
   "id": "0c5edb5b",
   "metadata": {},
   "outputs": [
    {
     "name": "stdout",
     "output_type": "stream",
     "text": [
      "True\n"
     ]
    }
   ],
   "source": [
    "year = 2024\n",
    "\n",
    "result = (year % 4 == 0 and year % 100 != 0) or (year % 400 == 0)\n",
    "print(result)\n"
   ]
  },
  {
   "cell_type": "markdown",
   "id": "c9c560ac",
   "metadata": {},
   "source": [
    "Question: Check if a given list of numbers is a palindrome."
   ]
  },
  {
   "cell_type": "code",
   "execution_count": 19,
   "id": "7b0144b2",
   "metadata": {},
   "outputs": [
    {
     "name": "stdout",
     "output_type": "stream",
     "text": [
      "True\n"
     ]
    }
   ],
   "source": [
    "numbers = [1, 2, 3, 2, 1]\n",
    "\n",
    "result = numbers == numbers[::-1]\n",
    "print(result)\n"
   ]
  },
  {
   "cell_type": "markdown",
   "id": "ec589b40",
   "metadata": {},
   "source": [
    "Question: Check if a given number is a prime number using the Fermat primality test."
   ]
  },
  {
   "cell_type": "code",
   "execution_count": 20,
   "id": "26bb8c4a",
   "metadata": {},
   "outputs": [
    {
     "name": "stdout",
     "output_type": "stream",
     "text": [
      "True\n"
     ]
    }
   ],
   "source": [
    "import random\n",
    "\n",
    "def is_prime_fermat(n, k=5):\n",
    "    if n <= 1:\n",
    "        return False\n",
    "    if n <= 3:\n",
    "        return True\n",
    "    for _ in range(k):\n",
    "        a = random.randint(2, n - 2)\n",
    "        if pow(a, n - 1, n) != 1:\n",
    "            return False\n",
    "    return True\n",
    "\n",
    "number = 17\n",
    "\n",
    "result = is_prime_fermat(number)\n",
    "print(result)\n"
   ]
  },
  {
   "cell_type": "markdown",
   "id": "91a3c2ad",
   "metadata": {},
   "source": [
    "Question: Check if a given string represents a valid IPv4 address."
   ]
  },
  {
   "cell_type": "code",
   "execution_count": 21,
   "id": "9147ed1d",
   "metadata": {},
   "outputs": [
    {
     "name": "stdout",
     "output_type": "stream",
     "text": [
      "True\n"
     ]
    }
   ],
   "source": [
    "import ipaddress\n",
    "\n",
    "ip = \"192.168.0.1\"\n",
    "\n",
    "try:\n",
    "    ipaddress.IPv4Address(ip)\n",
    "    result = True\n",
    "except ipaddress.AddressValueError:\n",
    "    result = False\n",
    "\n",
    "print(result)\n"
   ]
  },
  {
   "cell_type": "markdown",
   "id": "1f7d0a69",
   "metadata": {},
   "source": [
    "Question: Check if a list of numbers is in strictly decreasing order."
   ]
  },
  {
   "cell_type": "code",
   "execution_count": 22,
   "id": "1b040364",
   "metadata": {},
   "outputs": [
    {
     "name": "stdout",
     "output_type": "stream",
     "text": [
      "True\n"
     ]
    }
   ],
   "source": [
    "numbers = [10, 8, 5, 2, 1]\n",
    "\n",
    "result = all(numbers[i] > numbers[i + 1] for i in range(len(numbers) - 1))\n",
    "print(result)"
   ]
  },
  {
   "cell_type": "markdown",
   "id": "5b57fb08",
   "metadata": {},
   "source": [
    "Question: Check if a given number is a perfect number (sum of its proper divisors equals the number)."
   ]
  },
  {
   "cell_type": "code",
   "execution_count": 23,
   "id": "25321bb2",
   "metadata": {},
   "outputs": [
    {
     "name": "stdout",
     "output_type": "stream",
     "text": [
      "True\n"
     ]
    }
   ],
   "source": [
    "def sum_of_divisors(n):\n",
    "    return sum(i for i in range(1, n) if n % i == 0)\n",
    "\n",
    "number = 28\n",
    "\n",
    "result = sum_of_divisors(number) == number\n",
    "print(result)\n"
   ]
  }
 ],
 "metadata": {
  "kernelspec": {
   "display_name": "Python 3 (ipykernel)",
   "language": "python",
   "name": "python3"
  },
  "language_info": {
   "codemirror_mode": {
    "name": "ipython",
    "version": 3
   },
   "file_extension": ".py",
   "mimetype": "text/x-python",
   "name": "python",
   "nbconvert_exporter": "python",
   "pygments_lexer": "ipython3",
   "version": "3.9.13"
  },
  "toc": {
   "base_numbering": 1,
   "nav_menu": {},
   "number_sections": true,
   "sideBar": true,
   "skip_h1_title": false,
   "title_cell": "Table of Contents",
   "title_sidebar": "Contents",
   "toc_cell": false,
   "toc_position": {},
   "toc_section_display": true,
   "toc_window_display": false
  }
 },
 "nbformat": 4,
 "nbformat_minor": 5
}
