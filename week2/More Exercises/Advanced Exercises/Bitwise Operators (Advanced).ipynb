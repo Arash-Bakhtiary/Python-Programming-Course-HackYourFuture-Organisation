{
 "cells": [
  {
   "cell_type": "markdown",
   "id": "dbee02f3",
   "metadata": {},
   "source": [
    "# Bitwise Operators (Advanced)"
   ]
  },
  {
   "cell_type": "markdown",
   "id": "ca9ffa6b",
   "metadata": {},
   "source": [
    "Question: Given an array of integers, find two numbers that appear only once while all other numbers appear twice."
   ]
  },
  {
   "cell_type": "code",
   "execution_count": 2,
   "id": "93a8b6c9",
   "metadata": {},
   "outputs": [
    {
     "name": "stdout",
     "output_type": "stream",
     "text": [
      "(6, 3)\n"
     ]
    }
   ],
   "source": [
    "def find_single_numbers(nums):\n",
    "    xor_result = 0\n",
    "    for num in nums:\n",
    "        xor_result ^= num\n",
    "\n",
    "    # Find the rightmost set bit in xor_result\n",
    "    mask = 1\n",
    "    while xor_result & mask == 0:\n",
    "        mask <<= 1\n",
    "\n",
    "    num1, num2 = 0, 0\n",
    "    for num in nums:\n",
    "        if num & mask == 0:\n",
    "            num1 ^= num\n",
    "        else:\n",
    "            num2 ^= num\n",
    "\n",
    "    return num1, num2\n",
    "\n",
    "nums = [4, 2, 6, 2, 3, 4]\n",
    "print(find_single_numbers(nums))  \n"
   ]
  },
  {
   "cell_type": "markdown",
   "id": "dfe7158f",
   "metadata": {},
   "source": [
    "Question: Find the single number in an array that appears only once while all other numbers appear twice."
   ]
  },
  {
   "cell_type": "code",
   "execution_count": 3,
   "id": "cc26116d",
   "metadata": {},
   "outputs": [
    {
     "name": "stdout",
     "output_type": "stream",
     "text": [
      "3\n"
     ]
    }
   ],
   "source": [
    "def find_single_number(nums):\n",
    "    result = 0\n",
    "    for num in nums:\n",
    "        result ^= num\n",
    "    return result\n",
    "\n",
    "nums = [4, 2, 2, 4, 3]\n",
    "print(find_single_number(nums))  "
   ]
  },
  {
   "cell_type": "markdown",
   "id": "48926f88",
   "metadata": {},
   "source": [
    "Question: Calculate the sum of two integers without using the + or - operators."
   ]
  },
  {
   "cell_type": "code",
   "execution_count": 4,
   "id": "7b8797d9",
   "metadata": {},
   "outputs": [
    {
     "name": "stdout",
     "output_type": "stream",
     "text": [
      "22\n"
     ]
    }
   ],
   "source": [
    "def add(a, b):\n",
    "    while b != 0:\n",
    "        carry = a & b\n",
    "        a = a ^ b\n",
    "        b = carry << 1\n",
    "    return a\n",
    "\n",
    "num1 = 15\n",
    "num2 = 7\n",
    "print(add(num1, num2))  "
   ]
  },
  {
   "cell_type": "markdown",
   "id": "02db72b0",
   "metadata": {},
   "source": [
    "Question: Check if a number is a palindrome in binary representation."
   ]
  },
  {
   "cell_type": "code",
   "execution_count": 5,
   "id": "ec0a8fda",
   "metadata": {},
   "outputs": [
    {
     "name": "stdout",
     "output_type": "stream",
     "text": [
      "True\n"
     ]
    }
   ],
   "source": [
    "def is_binary_palindrome(num):\n",
    "    binary = bin(num)[2:]\n",
    "    return binary == binary[::-1]\n",
    "\n",
    "num = 9\n",
    "print(is_binary_palindrome(num))  \n"
   ]
  },
  {
   "cell_type": "markdown",
   "id": "bd2883dd",
   "metadata": {},
   "source": [
    "Question: Find the maximum XOR value of two numbers in an array."
   ]
  },
  {
   "cell_type": "code",
   "execution_count": 6,
   "id": "12da4c50",
   "metadata": {},
   "outputs": [
    {
     "name": "stdout",
     "output_type": "stream",
     "text": [
      "28\n"
     ]
    }
   ],
   "source": [
    "def find_max_xor(nums):\n",
    "    max_xor = 0\n",
    "    mask = 0\n",
    "    for i in range(31, -1, -1):\n",
    "        mask |= (1 << i)\n",
    "        prefixes = set()\n",
    "        for num in nums:\n",
    "            prefixes.add(num & mask)\n",
    "        candidate = max_xor | (1 << i)\n",
    "        for prefix in prefixes:\n",
    "            if candidate ^ prefix in prefixes:\n",
    "                max_xor = candidate\n",
    "                break\n",
    "    return max_xor\n",
    "\n",
    "nums = [3, 10, 5, 25, 2, 8]\n",
    "print(find_max_xor(nums)) "
   ]
  },
  {
   "cell_type": "markdown",
   "id": "8d7504fd",
   "metadata": {},
   "source": [
    "Question: Generate all possible subsets of a set using bitwise operators."
   ]
  },
  {
   "cell_type": "code",
   "execution_count": 7,
   "id": "0e3a18a1",
   "metadata": {},
   "outputs": [
    {
     "name": "stdout",
     "output_type": "stream",
     "text": [
      "[[], [1], [2], [1, 2], [3], [1, 3], [2, 3], [1, 2, 3]]\n"
     ]
    }
   ],
   "source": [
    "def generate_subsets(s):\n",
    "    n = len(s)\n",
    "    result = []\n",
    "    for i in range(1 << n):\n",
    "        subset = [s[j] for j in range(n) if i & (1 << j)]\n",
    "        result.append(subset)\n",
    "    return result\n",
    "\n",
    "my_set = [1, 2, 3]\n",
    "subsets = generate_subsets(my_set)\n",
    "print(subsets)"
   ]
  },
  {
   "cell_type": "markdown",
   "id": "747f2a88",
   "metadata": {},
   "source": [
    "Question: Write a function to count the number of set bits (1s) in a given integer."
   ]
  },
  {
   "cell_type": "code",
   "execution_count": 8,
   "id": "1b4658cd",
   "metadata": {},
   "outputs": [
    {
     "name": "stdout",
     "output_type": "stream",
     "text": [
      "3\n"
     ]
    }
   ],
   "source": [
    "def count_set_bits(num):\n",
    "    count = 0\n",
    "    while num:\n",
    "        count += num & 1\n",
    "        num >>= 1\n",
    "    return count\n",
    "\n",
    "num = 25\n",
    "print(count_set_bits(num))  "
   ]
  },
  {
   "cell_type": "markdown",
   "id": "e36bb35c",
   "metadata": {},
   "source": [
    "Question: Given an integer n, find the largest power of 2 that is less than or equal to n."
   ]
  },
  {
   "cell_type": "code",
   "execution_count": 10,
   "id": "c9a40bc7",
   "metadata": {},
   "outputs": [
    {
     "name": "stdout",
     "output_type": "stream",
     "text": [
      "16\n"
     ]
    }
   ],
   "source": [
    "def largest_power_of_two(n):\n",
    "    power = 1\n",
    "    while power * 2 <= n:\n",
    "        power *= 2\n",
    "    return power\n",
    "\n",
    "num = 25\n",
    "print(largest_power_of_two(num))  "
   ]
  },
  {
   "cell_type": "markdown",
   "id": "0de87fdb",
   "metadata": {},
   "source": [
    "Question: Write a function to find the closest power of 2 to a given integer n."
   ]
  },
  {
   "cell_type": "code",
   "execution_count": 11,
   "id": "9e825cbf",
   "metadata": {},
   "outputs": [
    {
     "name": "stdout",
     "output_type": "stream",
     "text": [
      "16\n"
     ]
    }
   ],
   "source": [
    "def closest_power_of_two(n):\n",
    "    power = 1\n",
    "    while power * 2 <= n:\n",
    "        power *= 2\n",
    "    return power if abs(n - power) < abs(n - power * 2) else power * 2\n",
    "\n",
    "num = 20\n",
    "print(closest_power_of_two(num))  "
   ]
  },
  {
   "cell_type": "markdown",
   "id": "8737c275",
   "metadata": {},
   "source": [
    "Question: Given two integers m and n, find the position of the rightmost set bit that is different in the binary representations of m and n."
   ]
  },
  {
   "cell_type": "code",
   "execution_count": 12,
   "id": "b5d3c72a",
   "metadata": {},
   "outputs": [
    {
     "name": "stdout",
     "output_type": "stream",
     "text": [
      "2\n"
     ]
    }
   ],
   "source": [
    "def position_of_different_bit(m, n):\n",
    "    xor_result = m ^ n\n",
    "    position = 0\n",
    "    while xor_result & 1 == 0:\n",
    "        xor_result >>= 1\n",
    "        position += 1\n",
    "    return position\n",
    "\n",
    "m = 10\n",
    "n = 14\n",
    "print(position_of_different_bit(m, n)) "
   ]
  },
  {
   "cell_type": "markdown",
   "id": "ebd546cc",
   "metadata": {},
   "source": [
    "Question: Check if a given number is a palindrome in decimal and binary representations simultaneously."
   ]
  },
  {
   "cell_type": "code",
   "execution_count": 13,
   "id": "82953059",
   "metadata": {},
   "outputs": [
    {
     "name": "stdout",
     "output_type": "stream",
     "text": [
      "True\n"
     ]
    }
   ],
   "source": [
    "def is_decimal_binary_palindrome(num):\n",
    "    decimal_str = str(num)\n",
    "    binary_str = bin(num)[2:]\n",
    "    return decimal_str == decimal_str[::-1] and binary_str == binary_str[::-1]\n",
    "\n",
    "num = 9\n",
    "print(is_decimal_binary_palindrome(num))\n"
   ]
  },
  {
   "cell_type": "markdown",
   "id": "35004348",
   "metadata": {},
   "source": [
    "Question: Write a function to count the number of bits needed to convert one integer to another."
   ]
  },
  {
   "cell_type": "code",
   "execution_count": 15,
   "id": "a0313c81",
   "metadata": {},
   "outputs": [
    {
     "name": "stdout",
     "output_type": "stream",
     "text": [
      "3\n"
     ]
    }
   ],
   "source": [
    "def bits_to_convert(a, b):\n",
    "    xor_result = a ^ b\n",
    "    count = 0\n",
    "    while xor_result:\n",
    "        count += xor_result & 1\n",
    "        xor_result >>= 1\n",
    "    return count\n",
    "\n",
    "num1 = 10\n",
    "num2 = 7\n",
    "print(bits_to_convert(num1, num2)) "
   ]
  },
  {
   "cell_type": "markdown",
   "id": "ed9b684b",
   "metadata": {},
   "source": [
    "Question: Implement a function to multiply two integers without using the * operator or multiplication function."
   ]
  },
  {
   "cell_type": "code",
   "execution_count": 16,
   "id": "a569b538",
   "metadata": {},
   "outputs": [
    {
     "name": "stdout",
     "output_type": "stream",
     "text": [
      "40\n"
     ]
    }
   ],
   "source": [
    "def multiply(a, b):\n",
    "    result = 0\n",
    "    while b:\n",
    "        if b & 1:\n",
    "            result += a\n",
    "        a <<= 1\n",
    "        b >>= 1\n",
    "    return result\n",
    "\n",
    "num1 = 8\n",
    "num2 = 5\n",
    "print(multiply(num1, num2)) "
   ]
  }
 ],
 "metadata": {
  "kernelspec": {
   "display_name": "Python 3 (ipykernel)",
   "language": "python",
   "name": "python3"
  },
  "language_info": {
   "codemirror_mode": {
    "name": "ipython",
    "version": 3
   },
   "file_extension": ".py",
   "mimetype": "text/x-python",
   "name": "python",
   "nbconvert_exporter": "python",
   "pygments_lexer": "ipython3",
   "version": "3.9.13"
  },
  "toc": {
   "base_numbering": 1,
   "nav_menu": {},
   "number_sections": true,
   "sideBar": true,
   "skip_h1_title": false,
   "title_cell": "Table of Contents",
   "title_sidebar": "Contents",
   "toc_cell": false,
   "toc_position": {},
   "toc_section_display": true,
   "toc_window_display": false
  }
 },
 "nbformat": 4,
 "nbformat_minor": 5
}
