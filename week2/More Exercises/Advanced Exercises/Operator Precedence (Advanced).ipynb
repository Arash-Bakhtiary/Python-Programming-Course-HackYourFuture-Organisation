{
 "cells": [
  {
   "cell_type": "markdown",
   "id": "dbee02f3",
   "metadata": {},
   "source": [
    "# Operator Precedence (Advanced)"
   ]
  },
  {
   "cell_type": "markdown",
   "id": "ca9ffa6b",
   "metadata": {},
   "source": [
    "Question: Determine the output of the code snippet:"
   ]
  },
  {
   "cell_type": "code",
   "execution_count": 1,
   "id": "e6e9857b",
   "metadata": {},
   "outputs": [
    {
     "name": "stdout",
     "output_type": "stream",
     "text": [
      "5\n"
     ]
    }
   ],
   "source": [
    "x = 3\n",
    "y = 2\n",
    "z = 5\n",
    "result = x + y ** z // (z * y) - x % y\n",
    "print(result)  "
   ]
  },
  {
   "cell_type": "markdown",
   "id": "631f337b",
   "metadata": {},
   "source": [
    "Question: Calculate the value of output"
   ]
  },
  {
   "cell_type": "code",
   "execution_count": 3,
   "id": "68b9c3c4",
   "metadata": {},
   "outputs": [
    {
     "name": "stdout",
     "output_type": "stream",
     "text": [
      "1096.5198921978786\n"
     ]
    }
   ],
   "source": [
    "from math import sqrt\n",
    "\n",
    "a = 16\n",
    "b = 3\n",
    "c = 2\n",
    "output = (a ** b) / (c + sqrt(b)) - (a % b)\n",
    "print(output) \n"
   ]
  },
  {
   "cell_type": "markdown",
   "id": "9a6ebd5a",
   "metadata": {},
   "source": [
    "Question: Determine the output of the code snippet:"
   ]
  },
  {
   "cell_type": "code",
   "execution_count": 5,
   "id": "bc9e208b",
   "metadata": {},
   "outputs": [
    {
     "name": "stdout",
     "output_type": "stream",
     "text": [
      "4\n"
     ]
    }
   ],
   "source": [
    "x = 5\n",
    "y = 2\n",
    "z = 3\n",
    "result = (x ** y) // (z * x) + y - (x % y)\n",
    "result = abs(result) * 2\n",
    "print(result)  \n"
   ]
  },
  {
   "cell_type": "markdown",
   "id": "14b0c754",
   "metadata": {},
   "source": [
    "Question: Create a list of prime numbers between 1 and 50 using list comprehension"
   ]
  },
  {
   "cell_type": "code",
   "execution_count": 8,
   "id": "a1bf51e2",
   "metadata": {},
   "outputs": [
    {
     "name": "stdout",
     "output_type": "stream",
     "text": [
      "[2, 3, 5, 7, 11, 13, 17, 19, 23, 29, 31, 37, 41, 43, 47]\n"
     ]
    }
   ],
   "source": [
    "import math\n",
    "primes = [x for x in range(2, 51) if all(x % d != 0 for d in range(2, int(math.sqrt(x)) + 1))]\n",
    "print(primes) "
   ]
  },
  {
   "cell_type": "markdown",
   "id": "4a3d4f97",
   "metadata": {},
   "source": [
    "Question: Generate a list of numbers and their cubes using a loop and list comprehension"
   ]
  },
  {
   "cell_type": "code",
   "execution_count": 10,
   "id": "375a0f3f",
   "metadata": {},
   "outputs": [
    {
     "name": "stdout",
     "output_type": "stream",
     "text": [
      "[(2, 8), (5, 125), (8, 512), (11, 1331)]\n"
     ]
    }
   ],
   "source": [
    "numbers = [2, 5, 8, 11]\n",
    "cubes = [(x, x ** 3) for x in numbers]\n",
    "print(cubes)  \n"
   ]
  },
  {
   "cell_type": "markdown",
   "id": "1897b6cd",
   "metadata": {},
   "source": [
    "Question: Create a program that simulates a simple calculator. Prompt the user for two numbers and an operator (+, -, *, /). Perform the calculation and display the result."
   ]
  },
  {
   "cell_type": "code",
   "execution_count": 11,
   "id": "59eea0c3",
   "metadata": {},
   "outputs": [
    {
     "name": "stdout",
     "output_type": "stream",
     "text": [
      "Enter the first number: 2\n",
      "Enter an operator (+, -, *, /): +\n",
      "Enter the second number: 4\n",
      "Result: 6.0\n"
     ]
    }
   ],
   "source": [
    "def calculator():\n",
    "    num1 = float(input(\"Enter the first number: \"))\n",
    "    operator = input(\"Enter an operator (+, -, *, /): \")\n",
    "    num2 = float(input(\"Enter the second number: \"))\n",
    "\n",
    "    if operator == '+':\n",
    "        result = num1 + num2\n",
    "    elif operator == '-':\n",
    "        result = num1 - num2\n",
    "    elif operator == '*':\n",
    "        result = num1 * num2\n",
    "    elif operator == '/':\n",
    "        result = num1 / num2\n",
    "    else:\n",
    "        print(\"Invalid operator\")\n",
    "        return\n",
    "\n",
    "    print(\"Result:\", result)\n",
    "\n",
    "calculator()"
   ]
  },
  {
   "cell_type": "markdown",
   "id": "4b74ed88",
   "metadata": {},
   "source": [
    "Question: Write a program that generates a pattern of asterisks in the form of a right-angled triangle:"
   ]
  },
  {
   "cell_type": "code",
   "execution_count": 14,
   "id": "bb9b1dae",
   "metadata": {},
   "outputs": [],
   "source": [
    "%%capture\n",
    "%%markdown\n",
    "*\n",
    "**\n",
    "***\n",
    "****\n",
    "*****"
   ]
  },
  {
   "cell_type": "code",
   "execution_count": 15,
   "id": "214dabb8",
   "metadata": {},
   "outputs": [
    {
     "name": "stdout",
     "output_type": "stream",
     "text": [
      "*\n",
      "**\n",
      "***\n",
      "****\n",
      "*****\n"
     ]
    }
   ],
   "source": [
    "def print_triangle(rows):\n",
    "    for i in range(1, rows + 1):\n",
    "        print('*' * i)\n",
    "\n",
    "print_triangle(5)"
   ]
  }
 ],
 "metadata": {
  "kernelspec": {
   "display_name": "Python 3 (ipykernel)",
   "language": "python",
   "name": "python3"
  },
  "language_info": {
   "codemirror_mode": {
    "name": "ipython",
    "version": 3
   },
   "file_extension": ".py",
   "mimetype": "text/x-python",
   "name": "python",
   "nbconvert_exporter": "python",
   "pygments_lexer": "ipython3",
   "version": "3.9.13"
  },
  "toc": {
   "base_numbering": 1,
   "nav_menu": {},
   "number_sections": true,
   "sideBar": true,
   "skip_h1_title": false,
   "title_cell": "Table of Contents",
   "title_sidebar": "Contents",
   "toc_cell": false,
   "toc_position": {},
   "toc_section_display": true,
   "toc_window_display": false
  }
 },
 "nbformat": 4,
 "nbformat_minor": 5
}
