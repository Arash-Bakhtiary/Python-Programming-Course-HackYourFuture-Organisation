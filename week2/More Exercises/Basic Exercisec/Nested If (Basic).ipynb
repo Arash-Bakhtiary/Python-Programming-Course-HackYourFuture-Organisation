{
 "cells": [
  {
   "cell_type": "markdown",
   "id": "dbee02f3",
   "metadata": {},
   "source": [
    "# Nested If  (Basic)"
   ]
  },
  {
   "cell_type": "markdown",
   "id": "767f1dc4",
   "metadata": {},
   "source": [
    "Question: Create a program that checks if a given year is a leap year, and if so, whether it falls on a Sunday or not."
   ]
  },
  {
   "cell_type": "code",
   "execution_count": 9,
   "id": "e3b5c76c",
   "metadata": {},
   "outputs": [
    {
     "name": "stdout",
     "output_type": "stream",
     "text": [
      "Enter a year: 1986\n",
      "1986 is a leap year: False\n",
      "First day of the year: N/A\n"
     ]
    }
   ],
   "source": [
    "import calendar\n",
    "\n",
    "year = int(input(\"Enter a year: \"))\n",
    "\n",
    "if (year % 4 == 0 and year % 100 != 0) or (year % 400 == 0):\n",
    "    leap_year = True\n",
    "    day = calendar.weekday(year, 1, 1)  # 0 for Monday, 6 for Sunday\n",
    "    if day == 6:\n",
    "        day_name = \"Sunday\"\n",
    "    else:\n",
    "        day_name = \"not Sunday\"\n",
    "else:\n",
    "    leap_year = False\n",
    "    day_name = \"N/A\"\n",
    "\n",
    "print(f\"{year} is a leap year: {leap_year}\")\n",
    "print(f\"First day of the year: {day_name}\")\n"
   ]
  },
  {
   "cell_type": "markdown",
   "id": "1c7fd8a0",
   "metadata": {},
   "source": [
    "Question: Write a program that calculates the cost of a movie ticket based on age and day of the week."
   ]
  },
  {
   "cell_type": "code",
   "execution_count": 10,
   "id": "654506ca",
   "metadata": {},
   "outputs": [
    {
     "name": "stdout",
     "output_type": "stream",
     "text": [
      "Enter your age: 37\n",
      "Enter the day of the week: sunday\n",
      "Ticket cost: 10\n"
     ]
    }
   ],
   "source": [
    "age = int(input(\"Enter your age: \"))\n",
    "day = input(\"Enter the day of the week: \").lower()\n",
    "\n",
    "if age < 18:\n",
    "    if day == \"saturday\" or day == \"sunday\":\n",
    "        cost = 5\n",
    "    else:\n",
    "        cost = 4\n",
    "else:\n",
    "    if day == \"wednesday\":\n",
    "        cost = 8\n",
    "    else:\n",
    "        cost = 10\n",
    "\n",
    "print(\"Ticket cost:\", cost)\n"
   ]
  },
  {
   "cell_type": "markdown",
   "id": "a924b816",
   "metadata": {},
   "source": [
    "Question: Write a program that determines the type of quadrilateral based on the angles."
   ]
  },
  {
   "cell_type": "code",
   "execution_count": 13,
   "id": "000cb89c",
   "metadata": {},
   "outputs": [
    {
     "name": "stdout",
     "output_type": "stream",
     "text": [
      "Enter the first angle: 36\n",
      "Enter the second angle: 39\n",
      "Enter the third angle: 46\n",
      "Enter the fourth angle: 50\n",
      "Quadrilateral type: Invalid\n"
     ]
    }
   ],
   "source": [
    "angle1 = int(input(\"Enter the first angle: \"))\n",
    "angle2 = int(input(\"Enter the second angle: \"))\n",
    "angle3 = int(input(\"Enter the third angle: \"))\n",
    "angle4 = int(input(\"Enter the fourth angle: \"))\n",
    "\n",
    "if angle1 == angle2 == angle3 == angle4 == 90:\n",
    "    quadrilateral_type = \"Rectangle\"\n",
    "elif angle1 + angle2 + angle3 + angle4 == 360:\n",
    "    if angle1 == angle2 == angle3 == angle4:\n",
    "        quadrilateral_type = \"Square\"\n",
    "    else:\n",
    "        quadrilateral_type = \"Quadrilateral\"\n",
    "else:\n",
    "    quadrilateral_type = \"Invalid\"\n",
    "\n",
    "print(\"Quadrilateral type:\", quadrilateral_type)\n"
   ]
  },
  {
   "cell_type": "markdown",
   "id": "9067b806",
   "metadata": {},
   "source": [
    "Question: Write a program that checks if a given year is a leap year and if the next year is also a leap year."
   ]
  },
  {
   "cell_type": "code",
   "execution_count": 1,
   "id": "2772d393",
   "metadata": {},
   "outputs": [
    {
     "name": "stdout",
     "output_type": "stream",
     "text": [
      "Enter a year: 1987\n",
      "1987 is a leap year: second year only\n"
     ]
    }
   ],
   "source": [
    "year = int(input(\"Enter a year: \"))\n",
    "\n",
    "if (year % 4 == 0 and year % 100 != 0) or (year % 400 == 0):\n",
    "    next_year = year + 1\n",
    "    if (next_year % 4 == 0 and next_year % 100 != 0) or (next_year % 400 == 0):\n",
    "        leap_status = \"both\"\n",
    "    else:\n",
    "        leap_status = \"first year only\"\n",
    "else:\n",
    "    next_year = year + 1\n",
    "    if (next_year % 4 == 0 and next_year % 100 != 0) or (next_year % 400 == 0):\n",
    "        leap_status = \"second year only\"\n",
    "    else:\n",
    "        leap_status = \"neither\"\n",
    "\n",
    "print(f\"{year} is a leap year: {leap_status}\")\n"
   ]
  },
  {
   "cell_type": "markdown",
   "id": "bc8711a2",
   "metadata": {},
   "source": [
    "Question: Write a program that checks if a given number is a perfect number."
   ]
  },
  {
   "cell_type": "code",
   "execution_count": 2,
   "id": "7db99d20",
   "metadata": {},
   "outputs": [
    {
     "name": "stdout",
     "output_type": "stream",
     "text": [
      "Enter a number: 12\n",
      "Perfect number: False\n"
     ]
    }
   ],
   "source": [
    "number = int(input(\"Enter a number: \"))\n",
    "divisors = [1]\n",
    "\n",
    "for i in range(2, number):\n",
    "    if number % i == 0:\n",
    "        divisors.append(i)\n",
    "\n",
    "if sum(divisors) == number:\n",
    "    perfect_number = True\n",
    "else:\n",
    "    perfect_number = False\n",
    "\n",
    "print(\"Perfect number:\", perfect_number)"
   ]
  },
  {
   "cell_type": "markdown",
   "id": "3769bdcf",
   "metadata": {},
   "source": [
    "Question: Write a program that determines if a given year is a leap year and if it is also a \"double leap year\" (leap year after the next year)."
   ]
  },
  {
   "cell_type": "code",
   "execution_count": 3,
   "id": "04ead8e9",
   "metadata": {},
   "outputs": [
    {
     "name": "stdout",
     "output_type": "stream",
     "text": [
      "Enter a year: 1987\n",
      "1987 is a double leap year: False\n"
     ]
    }
   ],
   "source": [
    "year = int(input(\"Enter a year: \"))\n",
    "\n",
    "if (year % 4 == 0 and year % 100 != 0) or (year % 400 == 0):\n",
    "    next_year = year + 1\n",
    "    if (next_year % 4 == 0 and next_year % 100 != 0) or (next_year % 400 == 0):\n",
    "        double_leap_year = True\n",
    "    else:\n",
    "        double_leap_year = False\n",
    "else:\n",
    "    double_leap_year = False\n",
    "\n",
    "print(f\"{year} is a double leap year: {double_leap_year}\")"
   ]
  },
  {
   "cell_type": "markdown",
   "id": "cfebc994",
   "metadata": {},
   "source": [
    "Question: Create a program that determines if a given number is a prime number."
   ]
  },
  {
   "cell_type": "code",
   "execution_count": 4,
   "id": "90d1f067",
   "metadata": {},
   "outputs": [
    {
     "name": "stdout",
     "output_type": "stream",
     "text": [
      "Enter a number: 34\n",
      "Prime number: False\n"
     ]
    }
   ],
   "source": [
    "number = int(input(\"Enter a number: \"))\n",
    "is_prime = True\n",
    "\n",
    "if number <= 1:\n",
    "    is_prime = False\n",
    "else:\n",
    "    for i in range(2, int(number**0.5) + 1):\n",
    "        if number % i == 0:\n",
    "            is_prime = False\n",
    "            break\n",
    "\n",
    "print(\"Prime number:\", is_prime)"
   ]
  }
 ],
 "metadata": {
  "kernelspec": {
   "display_name": "Python 3 (ipykernel)",
   "language": "python",
   "name": "python3"
  },
  "language_info": {
   "codemirror_mode": {
    "name": "ipython",
    "version": 3
   },
   "file_extension": ".py",
   "mimetype": "text/x-python",
   "name": "python",
   "nbconvert_exporter": "python",
   "pygments_lexer": "ipython3",
   "version": "3.9.13"
  },
  "toc": {
   "base_numbering": 1,
   "nav_menu": {},
   "number_sections": true,
   "sideBar": true,
   "skip_h1_title": false,
   "title_cell": "Table of Contents",
   "title_sidebar": "Contents",
   "toc_cell": false,
   "toc_position": {},
   "toc_section_display": true,
   "toc_window_display": false
  }
 },
 "nbformat": 4,
 "nbformat_minor": 5
}
