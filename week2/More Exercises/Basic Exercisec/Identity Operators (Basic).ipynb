{
 "cells": [
  {
   "cell_type": "markdown",
   "id": "dbee02f3",
   "metadata": {},
   "source": [
    "# Identity Operators (Basic)"
   ]
  },
  {
   "cell_type": "markdown",
   "id": "ca9ffa6b",
   "metadata": {},
   "source": [
    "Question: Check if two variables reference the same object."
   ]
  },
  {
   "cell_type": "code",
   "execution_count": 1,
   "id": "e814b2f3",
   "metadata": {},
   "outputs": [
    {
     "name": "stdout",
     "output_type": "stream",
     "text": [
      "True\n"
     ]
    }
   ],
   "source": [
    "x = [1, 2, 3]\n",
    "y = x\n",
    "result = x is y\n",
    "print(result)"
   ]
  },
  {
   "cell_type": "markdown",
   "id": "0f13fe35",
   "metadata": {},
   "source": [
    "Question: Check if two variables reference different objects."
   ]
  },
  {
   "cell_type": "code",
   "execution_count": 2,
   "id": "56505d94",
   "metadata": {},
   "outputs": [
    {
     "name": "stdout",
     "output_type": "stream",
     "text": [
      "True\n"
     ]
    }
   ],
   "source": [
    "a = [4, 5, 6]\n",
    "b = [4, 5, 6]\n",
    "result = a is not b\n",
    "print(result)"
   ]
  },
  {
   "cell_type": "markdown",
   "id": "672698f6",
   "metadata": {},
   "source": [
    "Question: Check if two strings are not the same object."
   ]
  },
  {
   "cell_type": "code",
   "execution_count": 6,
   "id": "04fea501",
   "metadata": {},
   "outputs": [
    {
     "name": "stdout",
     "output_type": "stream",
     "text": [
      "False\n"
     ]
    }
   ],
   "source": [
    "str1 = \"hello\"\n",
    "str2 = \"hello\"\n",
    "result = str1 is not str2\n",
    "print(result)"
   ]
  },
  {
   "cell_type": "markdown",
   "id": "b4f8001d",
   "metadata": {},
   "source": [
    "Question: Check if a given element is in a list and also a part of another list."
   ]
  },
  {
   "cell_type": "code",
   "execution_count": 3,
   "id": "9098d5c5",
   "metadata": {},
   "outputs": [
    {
     "name": "stdout",
     "output_type": "stream",
     "text": [
      "False\n"
     ]
    }
   ],
   "source": [
    "element = 3\n",
    "list1 = [1, 2, 3, 4, 5]\n",
    "list2 = [2, 4, 6, 8, 10]\n",
    "result = element in list1 and element in list2\n",
    "print(result)"
   ]
  },
  {
   "cell_type": "markdown",
   "id": "974356ed",
   "metadata": {},
   "source": [
    "Question: Check if two numbers have the same value but are not the same object."
   ]
  },
  {
   "cell_type": "code",
   "execution_count": 7,
   "id": "ded4ca25",
   "metadata": {},
   "outputs": [
    {
     "name": "stdout",
     "output_type": "stream",
     "text": [
      "False\n"
     ]
    }
   ],
   "source": [
    "num1 = 42\n",
    "num2 = int(42)\n",
    "result = num1 is not num2\n",
    "print(result)"
   ]
  },
  {
   "cell_type": "markdown",
   "id": "7b2933f5",
   "metadata": {},
   "source": [
    "Question: Check if a given element is not in a set."
   ]
  },
  {
   "cell_type": "code",
   "execution_count": 8,
   "id": "407d5e43",
   "metadata": {},
   "outputs": [
    {
     "name": "stdout",
     "output_type": "stream",
     "text": [
      "True\n"
     ]
    }
   ],
   "source": [
    "element = \"apple\"\n",
    "my_set = {\"banana\", \"orange\", \"grape\"}\n",
    "result = element not in my_set\n",
    "print(result)"
   ]
  },
  {
   "cell_type": "markdown",
   "id": "756ed795",
   "metadata": {},
   "source": [
    "Question: Check if two dictionaries are the same object."
   ]
  },
  {
   "cell_type": "code",
   "execution_count": 9,
   "id": "60925ea5",
   "metadata": {},
   "outputs": [
    {
     "name": "stdout",
     "output_type": "stream",
     "text": [
      "True\n"
     ]
    }
   ],
   "source": [
    "dict1 = {\"a\": 1, \"b\": 2}\n",
    "dict2 = dict1\n",
    "result = dict1 is dict2\n",
    "print(result)"
   ]
  },
  {
   "cell_type": "markdown",
   "id": "8a01ac96",
   "metadata": {},
   "source": [
    "Question: Check if a variable references an empty list."
   ]
  },
  {
   "cell_type": "code",
   "execution_count": 10,
   "id": "b716fc10",
   "metadata": {},
   "outputs": [
    {
     "name": "stdout",
     "output_type": "stream",
     "text": [
      "False\n"
     ]
    }
   ],
   "source": [
    "my_list = []\n",
    "result = my_list is []\n",
    "print(result)"
   ]
  },
  {
   "cell_type": "markdown",
   "id": "f10feac8",
   "metadata": {},
   "source": [
    "Question: Check if a variable references an empty string."
   ]
  },
  {
   "cell_type": "code",
   "execution_count": 12,
   "id": "4a9ced79",
   "metadata": {},
   "outputs": [
    {
     "name": "stdout",
     "output_type": "stream",
     "text": [
      "True\n"
     ]
    },
    {
     "name": "stderr",
     "output_type": "stream",
     "text": [
      "<>:2: SyntaxWarning: \"is\" with a literal. Did you mean \"==\"?\n",
      "<>:2: SyntaxWarning: \"is\" with a literal. Did you mean \"==\"?\n",
      "C:\\Users\\Arash\\AppData\\Local\\Temp\\ipykernel_7908\\3534252624.py:2: SyntaxWarning: \"is\" with a literal. Did you mean \"==\"?\n",
      "  result = empty_str is \"\"\n"
     ]
    }
   ],
   "source": [
    "empty_str = \"\"\n",
    "result = empty_str is \"\"\n",
    "print(result)"
   ]
  },
  {
   "cell_type": "markdown",
   "id": "6402c658",
   "metadata": {},
   "source": [
    "Question: Check if a value is not None and is also a string."
   ]
  },
  {
   "cell_type": "code",
   "execution_count": 14,
   "id": "23f3412f",
   "metadata": {},
   "outputs": [
    {
     "name": "stdout",
     "output_type": "stream",
     "text": [
      "True\n"
     ]
    }
   ],
   "source": [
    "value = \"hello\"\n",
    "result = value is not None and isinstance(value, str)\n",
    "print(result)"
   ]
  },
  {
   "cell_type": "markdown",
   "id": "97dc27cb",
   "metadata": {},
   "source": [
    "Question: Check if an object is a list and is not empty."
   ]
  },
  {
   "cell_type": "code",
   "execution_count": 15,
   "id": "2cd0a096",
   "metadata": {},
   "outputs": [
    {
     "name": "stdout",
     "output_type": "stream",
     "text": [
      "True\n"
     ]
    }
   ],
   "source": [
    "my_list = [1, 2, 3]\n",
    "result = isinstance(my_list, list) and my_list is not []\n",
    "print(result)"
   ]
  },
  {
   "cell_type": "markdown",
   "id": "49761431",
   "metadata": {},
   "source": [
    "Question: Check if a variable references a float number."
   ]
  },
  {
   "cell_type": "code",
   "execution_count": 16,
   "id": "541384e9",
   "metadata": {},
   "outputs": [
    {
     "name": "stdout",
     "output_type": "stream",
     "text": [
      "True\n"
     ]
    }
   ],
   "source": [
    "my_number = 3.14\n",
    "result = isinstance(my_number, float)\n",
    "print(result)"
   ]
  },
  {
   "cell_type": "markdown",
   "id": "2da41a08",
   "metadata": {},
   "source": [
    "Question: Check if a given string is not the same as another string."
   ]
  },
  {
   "cell_type": "code",
   "execution_count": 17,
   "id": "0a37e7a6",
   "metadata": {},
   "outputs": [
    {
     "name": "stdout",
     "output_type": "stream",
     "text": [
      "True\n"
     ]
    }
   ],
   "source": [
    "str1 = \"hello\"\n",
    "str2 = \"world\"\n",
    "result = str1 is not str2\n",
    "print(result)"
   ]
  },
  {
   "cell_type": "markdown",
   "id": "8affc37d",
   "metadata": {},
   "source": [
    "Question: Check if a variable references a string and is not an empty string."
   ]
  },
  {
   "cell_type": "code",
   "execution_count": 18,
   "id": "3823d7b4",
   "metadata": {},
   "outputs": [
    {
     "name": "stdout",
     "output_type": "stream",
     "text": [
      "True\n"
     ]
    }
   ],
   "source": [
    "my_string = \"python\"\n",
    "result = isinstance(my_string, str) and my_string != \"\"\n",
    "print(result)"
   ]
  },
  {
   "cell_type": "markdown",
   "id": "4f4af26d",
   "metadata": {},
   "source": [
    "Question: Check if two objects are different and not the same object."
   ]
  },
  {
   "cell_type": "code",
   "execution_count": 19,
   "id": "992cd5e1",
   "metadata": {},
   "outputs": [
    {
     "name": "stdout",
     "output_type": "stream",
     "text": [
      "False\n"
     ]
    }
   ],
   "source": [
    "obj1 = [1, 2, 3]\n",
    "obj2 = [1, 2, 3]\n",
    "result = obj1 != obj2 and obj1 is not obj2\n",
    "print(result)"
   ]
  },
  {
   "cell_type": "markdown",
   "id": "ad498773",
   "metadata": {},
   "source": [
    "Question: Check if a variable is not None and is an instance of a certain class."
   ]
  },
  {
   "cell_type": "code",
   "execution_count": 20,
   "id": "e52d7bca",
   "metadata": {},
   "outputs": [
    {
     "name": "stdout",
     "output_type": "stream",
     "text": [
      "True\n"
     ]
    }
   ],
   "source": [
    "my_variable = \"hello\"\n",
    "result = my_variable is not None and isinstance(my_variable, str)\n",
    "print(result)"
   ]
  },
  {
   "cell_type": "markdown",
   "id": "92ef6277",
   "metadata": {},
   "source": [
    "Question: Check if two variables reference the same object."
   ]
  },
  {
   "cell_type": "code",
   "execution_count": 21,
   "id": "2defff3d",
   "metadata": {},
   "outputs": [
    {
     "name": "stdout",
     "output_type": "stream",
     "text": [
      "True\n"
     ]
    }
   ],
   "source": [
    "x = [4, 5, 6]\n",
    "y = x\n",
    "result = x is y\n",
    "print(result)"
   ]
  },
  {
   "cell_type": "markdown",
   "id": "1ed7d17b",
   "metadata": {},
   "source": [
    "Question: Check if a given element is in a list and also a part of a set."
   ]
  },
  {
   "cell_type": "code",
   "execution_count": 22,
   "id": "be2cc331",
   "metadata": {},
   "outputs": [
    {
     "name": "stdout",
     "output_type": "stream",
     "text": [
      "False\n"
     ]
    }
   ],
   "source": [
    "element = \"apple\"\n",
    "my_list = [\"banana\", \"orange\", \"grape\", \"apple\"]\n",
    "my_set = {\"banana\", \"orange\", \"grape\"}\n",
    "result = element in my_list and element in my_set\n",
    "print(result)"
   ]
  },
  {
   "cell_type": "markdown",
   "id": "609ff513",
   "metadata": {},
   "source": [
    "Question: Check if two strings are not the same object."
   ]
  },
  {
   "cell_type": "code",
   "execution_count": 24,
   "id": "eaf3aed8",
   "metadata": {},
   "outputs": [
    {
     "name": "stdout",
     "output_type": "stream",
     "text": [
      "True\n"
     ]
    }
   ],
   "source": [
    "str1 = \"hello\"\n",
    "str2 = \"world\"\n",
    "result = str1 is not str2\n",
    "print(result)"
   ]
  },
  {
   "cell_type": "markdown",
   "id": "bf1fde6d",
   "metadata": {},
   "source": [
    "Question: Check if two instances of a built-in class are the same using the is operator."
   ]
  },
  {
   "cell_type": "code",
   "execution_count": 1,
   "id": "c8410f0b",
   "metadata": {},
   "outputs": [
    {
     "name": "stdout",
     "output_type": "stream",
     "text": [
      "False\n"
     ]
    }
   ],
   "source": [
    "list1 = []\n",
    "list2 = []\n",
    "result = list1 is list2\n",
    "print(result)"
   ]
  },
  {
   "cell_type": "markdown",
   "id": "533affaf",
   "metadata": {},
   "source": [
    "Question: Check if two slices of the same list are the same object reference."
   ]
  },
  {
   "cell_type": "code",
   "execution_count": 4,
   "id": "09966552",
   "metadata": {},
   "outputs": [
    {
     "name": "stdout",
     "output_type": "stream",
     "text": [
      "False\n"
     ]
    }
   ],
   "source": [
    "my_list = [1, 2, 3, 4, 5]\n",
    "slice1 = my_list[1:3]\n",
    "slice2 = my_list[1:3]\n",
    "result = slice1 is slice2\n",
    "print(result)"
   ]
  },
  {
   "cell_type": "markdown",
   "id": "fd98edf6",
   "metadata": {},
   "source": [
    "Question: Check if two variables referencing the same tuple are still the same after modifying one element."
   ]
  },
  {
   "cell_type": "code",
   "execution_count": 5,
   "id": "150ed81f",
   "metadata": {},
   "outputs": [
    {
     "name": "stdout",
     "output_type": "stream",
     "text": [
      "False\n"
     ]
    }
   ],
   "source": [
    "tuple1 = (1, 2, 3)\n",
    "tuple2 = tuple1\n",
    "tuple1 = tuple1 + (4,)\n",
    "result = tuple1 is tuple2\n",
    "print(result)"
   ]
  }
 ],
 "metadata": {
  "kernelspec": {
   "display_name": "Python 3 (ipykernel)",
   "language": "python",
   "name": "python3"
  },
  "language_info": {
   "codemirror_mode": {
    "name": "ipython",
    "version": 3
   },
   "file_extension": ".py",
   "mimetype": "text/x-python",
   "name": "python",
   "nbconvert_exporter": "python",
   "pygments_lexer": "ipython3",
   "version": "3.9.13"
  },
  "toc": {
   "base_numbering": 1,
   "nav_menu": {},
   "number_sections": true,
   "sideBar": true,
   "skip_h1_title": false,
   "title_cell": "Table of Contents",
   "title_sidebar": "Contents",
   "toc_cell": false,
   "toc_position": {},
   "toc_section_display": true,
   "toc_window_display": false
  }
 },
 "nbformat": 4,
 "nbformat_minor": 5
}
