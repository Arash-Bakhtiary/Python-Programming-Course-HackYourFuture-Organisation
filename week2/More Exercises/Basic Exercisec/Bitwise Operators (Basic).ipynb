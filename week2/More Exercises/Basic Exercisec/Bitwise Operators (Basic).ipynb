{
 "cells": [
  {
   "cell_type": "markdown",
   "id": "dbee02f3",
   "metadata": {},
   "source": [
    "# Bitwise Operators (Basic)"
   ]
  },
  {
   "cell_type": "markdown",
   "id": "ca9ffa6b",
   "metadata": {},
   "source": [
    "Question: Write a Python program to perform bitwise AND operation on two integers: 5 and 3."
   ]
  },
  {
   "cell_type": "code",
   "execution_count": 1,
   "id": "c07c0cda",
   "metadata": {},
   "outputs": [
    {
     "name": "stdout",
     "output_type": "stream",
     "text": [
      "1\n"
     ]
    }
   ],
   "source": [
    "a = 5\n",
    "b = 3\n",
    "result = a & b\n",
    "print(result)  "
   ]
  },
  {
   "cell_type": "markdown",
   "id": "f8ca327c",
   "metadata": {},
   "source": [
    "Question: Perform bitwise OR operation on the integers 10 and 6."
   ]
  },
  {
   "cell_type": "code",
   "execution_count": 3,
   "id": "c2d68ec0",
   "metadata": {},
   "outputs": [
    {
     "name": "stdout",
     "output_type": "stream",
     "text": [
      "14\n"
     ]
    }
   ],
   "source": [
    "a = 10\n",
    "b = 6\n",
    "result = a | b\n",
    "print(result) "
   ]
  },
  {
   "cell_type": "markdown",
   "id": "dd996ce4",
   "metadata": {},
   "source": [
    "Question: Calculate the result of bitwise XOR between 15 and 7."
   ]
  },
  {
   "cell_type": "code",
   "execution_count": 4,
   "id": "5edb367d",
   "metadata": {},
   "outputs": [
    {
     "name": "stdout",
     "output_type": "stream",
     "text": [
      "8\n"
     ]
    }
   ],
   "source": [
    "a = 15\n",
    "b = 7\n",
    "result = a ^ b\n",
    "print(result)  "
   ]
  },
  {
   "cell_type": "markdown",
   "id": "405c3899",
   "metadata": {},
   "source": [
    "Question: Apply bitwise NOT operation on the integer 25."
   ]
  },
  {
   "cell_type": "code",
   "execution_count": 5,
   "id": "760ae85f",
   "metadata": {},
   "outputs": [
    {
     "name": "stdout",
     "output_type": "stream",
     "text": [
      "-26\n"
     ]
    }
   ],
   "source": [
    "a = 25\n",
    "result = ~a\n",
    "print(result) \n"
   ]
  },
  {
   "cell_type": "markdown",
   "id": "a5cc5e2b",
   "metadata": {},
   "source": [
    "Question: Perform left shift operation on the integer 12 by 2 positions."
   ]
  },
  {
   "cell_type": "code",
   "execution_count": 7,
   "id": "1b6e86f7",
   "metadata": {},
   "outputs": [
    {
     "name": "stdout",
     "output_type": "stream",
     "text": [
      "48\n"
     ]
    }
   ],
   "source": [
    "a = 12\n",
    "result = a << 2\n",
    "print(result)  "
   ]
  },
  {
   "cell_type": "markdown",
   "id": "82bef559",
   "metadata": {},
   "source": [
    "Question: Perform right shift operation on the integer 30 by 3 positions."
   ]
  },
  {
   "cell_type": "code",
   "execution_count": 8,
   "id": "a47eb518",
   "metadata": {},
   "outputs": [
    {
     "name": "stdout",
     "output_type": "stream",
     "text": [
      "3\n"
     ]
    }
   ],
   "source": [
    "a = 30\n",
    "result = a >> 3\n",
    "print(result)  # Output: 3"
   ]
  },
  {
   "cell_type": "markdown",
   "id": "815eabcf",
   "metadata": {},
   "source": [
    "Question: Check if the 4th bit of the integer 9 is set (1) or not (0)."
   ]
  },
  {
   "cell_type": "code",
   "execution_count": 10,
   "id": "98741d40",
   "metadata": {},
   "outputs": [
    {
     "name": "stdout",
     "output_type": "stream",
     "text": [
      "0\n"
     ]
    }
   ],
   "source": [
    "a = 9\n",
    "bit_position = 4\n",
    "result = (a >> bit_position) & 1\n",
    "print(result) "
   ]
  },
  {
   "cell_type": "markdown",
   "id": "7cf0b696",
   "metadata": {},
   "source": [
    "Question: Swap the values of two variables x and y without using a temporary variable using bitwise operators."
   ]
  },
  {
   "cell_type": "code",
   "execution_count": 11,
   "id": "7fae6f37",
   "metadata": {},
   "outputs": [
    {
     "name": "stdout",
     "output_type": "stream",
     "text": [
      "x: 10 y: 5\n"
     ]
    }
   ],
   "source": [
    "x = 5\n",
    "y = 10\n",
    "x = x ^ y\n",
    "y = x ^ y\n",
    "x = x ^ y\n",
    "print(\"x:\", x, \"y:\", y)"
   ]
  },
  {
   "cell_type": "markdown",
   "id": "9d08ab3e",
   "metadata": {},
   "source": [
    "Question: Create a mask to set the 3rd and 5th bits of a number to 1."
   ]
  },
  {
   "cell_type": "code",
   "execution_count": 13,
   "id": "3159abe3",
   "metadata": {},
   "outputs": [
    {
     "name": "stdout",
     "output_type": "stream",
     "text": [
      "0b11111\n"
     ]
    }
   ],
   "source": [
    "num = 0b010101  # 21 in decimal\n",
    "mask = 0b001010  # Mask to set 3rd and 5th bits\n",
    "result = num | mask\n",
    "print(bin(result))  # Output: 0b101111"
   ]
  }
 ],
 "metadata": {
  "kernelspec": {
   "display_name": "Python 3 (ipykernel)",
   "language": "python",
   "name": "python3"
  },
  "language_info": {
   "codemirror_mode": {
    "name": "ipython",
    "version": 3
   },
   "file_extension": ".py",
   "mimetype": "text/x-python",
   "name": "python",
   "nbconvert_exporter": "python",
   "pygments_lexer": "ipython3",
   "version": "3.9.13"
  },
  "toc": {
   "base_numbering": 1,
   "nav_menu": {},
   "number_sections": true,
   "sideBar": true,
   "skip_h1_title": false,
   "title_cell": "Table of Contents",
   "title_sidebar": "Contents",
   "toc_cell": false,
   "toc_position": {},
   "toc_section_display": true,
   "toc_window_display": false
  }
 },
 "nbformat": 4,
 "nbformat_minor": 5
}
