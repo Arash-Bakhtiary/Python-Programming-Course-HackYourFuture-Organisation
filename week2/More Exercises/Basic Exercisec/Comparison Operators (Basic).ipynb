{
 "cells": [
  {
   "cell_type": "markdown",
   "id": "dbee02f3",
   "metadata": {},
   "source": [
    "# Comparison Operators (Basic)"
   ]
  },
  {
   "cell_type": "markdown",
   "id": "ca9ffa6b",
   "metadata": {},
   "source": [
    "Question: Check if two numbers are equal."
   ]
  },
  {
   "cell_type": "code",
   "execution_count": 2,
   "id": "7c3350ab",
   "metadata": {},
   "outputs": [
    {
     "name": "stdout",
     "output_type": "stream",
     "text": [
      "False\n"
     ]
    }
   ],
   "source": [
    "num1 = 10\n",
    "num2 = 15\n",
    "\n",
    "result = num1 == num2\n",
    "print(result)\n"
   ]
  },
  {
   "cell_type": "markdown",
   "id": "91fa16eb",
   "metadata": {},
   "source": [
    "Question: Check if a number is greater than another number."
   ]
  },
  {
   "cell_type": "code",
   "execution_count": 4,
   "id": "eff8a393",
   "metadata": {},
   "outputs": [
    {
     "name": "stdout",
     "output_type": "stream",
     "text": [
      "True\n"
     ]
    }
   ],
   "source": [
    "num1 = 25\n",
    "num2 = 18\n",
    "\n",
    "result = num1 > num2\n",
    "print(result)"
   ]
  },
  {
   "cell_type": "markdown",
   "id": "b8720a75",
   "metadata": {},
   "source": [
    "Question: Check if a given string has more characters than another string."
   ]
  },
  {
   "cell_type": "code",
   "execution_count": 5,
   "id": "74ed6691",
   "metadata": {},
   "outputs": [
    {
     "name": "stdout",
     "output_type": "stream",
     "text": [
      "True\n"
     ]
    }
   ],
   "source": [
    "string1 = \"programming\"\n",
    "string2 = \"python\"\n",
    "\n",
    "result = len(string1) > len(string2)\n",
    "print(result)"
   ]
  },
  {
   "cell_type": "markdown",
   "id": "338bb6ce",
   "metadata": {},
   "source": [
    "Question: Check if a list has more elements than another list."
   ]
  },
  {
   "cell_type": "code",
   "execution_count": 6,
   "id": "b4a4e1c5",
   "metadata": {},
   "outputs": [
    {
     "name": "stdout",
     "output_type": "stream",
     "text": [
      "True\n"
     ]
    }
   ],
   "source": [
    "list1 = [1, 2, 3, 4, 5]\n",
    "list2 = [10, 20, 30]\n",
    "\n",
    "result = len(list1) > len(list2)\n",
    "print(result)"
   ]
  },
  {
   "cell_type": "markdown",
   "id": "810f7cb0",
   "metadata": {},
   "source": [
    "Question: Check if a given year is a leap year."
   ]
  },
  {
   "cell_type": "code",
   "execution_count": 7,
   "id": "549cb043",
   "metadata": {},
   "outputs": [
    {
     "name": "stdout",
     "output_type": "stream",
     "text": [
      "True\n"
     ]
    }
   ],
   "source": [
    "year = 2024\n",
    "\n",
    "result = (year % 4 == 0 and year % 100 != 0) or (year % 400 == 0)\n",
    "print(result)"
   ]
  },
  {
   "cell_type": "markdown",
   "id": "2abc3c5f",
   "metadata": {},
   "source": [
    "Question: Check if a number is within a specified range."
   ]
  },
  {
   "cell_type": "code",
   "execution_count": 8,
   "id": "e5b4cabb",
   "metadata": {},
   "outputs": [
    {
     "name": "stdout",
     "output_type": "stream",
     "text": [
      "True\n"
     ]
    }
   ],
   "source": [
    "number = 25\n",
    "lower_limit = 10\n",
    "upper_limit = 30\n",
    "\n",
    "result = lower_limit <= number <= upper_limit\n",
    "print(result)"
   ]
  }
 ],
 "metadata": {
  "kernelspec": {
   "display_name": "Python 3 (ipykernel)",
   "language": "python",
   "name": "python3"
  },
  "language_info": {
   "codemirror_mode": {
    "name": "ipython",
    "version": 3
   },
   "file_extension": ".py",
   "mimetype": "text/x-python",
   "name": "python",
   "nbconvert_exporter": "python",
   "pygments_lexer": "ipython3",
   "version": "3.9.13"
  },
  "toc": {
   "base_numbering": 1,
   "nav_menu": {},
   "number_sections": true,
   "sideBar": true,
   "skip_h1_title": false,
   "title_cell": "Table of Contents",
   "title_sidebar": "Contents",
   "toc_cell": false,
   "toc_position": {},
   "toc_section_display": true,
   "toc_window_display": false
  }
 },
 "nbformat": 4,
 "nbformat_minor": 5
}
