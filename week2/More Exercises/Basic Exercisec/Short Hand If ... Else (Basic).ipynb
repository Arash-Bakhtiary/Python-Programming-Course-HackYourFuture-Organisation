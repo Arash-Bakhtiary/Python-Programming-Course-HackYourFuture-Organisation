{
 "cells": [
  {
   "cell_type": "markdown",
   "id": "dbee02f3",
   "metadata": {},
   "source": [
    "# Short Hand If ... Else (Basic)"
   ]
  },
  {
   "cell_type": "markdown",
   "id": "ca9ffa6b",
   "metadata": {},
   "source": [
    "Question: Write a program that checks if a given number is positive or negative using a short-hand if statement."
   ]
  },
  {
   "cell_type": "code",
   "execution_count": 1,
   "id": "c8871ccc",
   "metadata": {},
   "outputs": [
    {
     "name": "stdout",
     "output_type": "stream",
     "text": [
      "Enter a number: 23\n",
      "Positive\n"
     ]
    }
   ],
   "source": [
    "number = int(input(\"Enter a number: \"))\n",
    "result = \"Positive\" if number > 0 else \"Negative\"\n",
    "print(result)"
   ]
  },
  {
   "cell_type": "markdown",
   "id": "4d4ff71c",
   "metadata": {},
   "source": [
    "Question: Create a program that determines whether a given year is a leap year using a short-hand if statement."
   ]
  },
  {
   "cell_type": "code",
   "execution_count": 2,
   "id": "ccb971f3",
   "metadata": {},
   "outputs": [
    {
     "name": "stdout",
     "output_type": "stream",
     "text": [
      "Enter a year: 1986\n",
      "Not Leap\n"
     ]
    }
   ],
   "source": [
    "year = int(input(\"Enter a year: \"))\n",
    "leap = \"Leap\" if (year % 4 == 0 and year % 100 != 0) or (year % 400 == 0) else \"Not Leap\"\n",
    "print(leap)"
   ]
  },
  {
   "cell_type": "markdown",
   "id": "6bee8c96",
   "metadata": {},
   "source": [
    "Question: Write a program that determines the maximum of two numbers using a short-hand if statement."
   ]
  },
  {
   "cell_type": "code",
   "execution_count": 3,
   "id": "d5e45855",
   "metadata": {},
   "outputs": [
    {
     "name": "stdout",
     "output_type": "stream",
     "text": [
      "Enter the first number: 2\n",
      "Enter the second number: 3\n",
      "Maximum: 3.0\n"
     ]
    }
   ],
   "source": [
    "num1 = float(input(\"Enter the first number: \"))\n",
    "num2 = float(input(\"Enter the second number: \"))\n",
    "maximum = num1 if num1 > num2 else num2\n",
    "print(\"Maximum:\", maximum)"
   ]
  },
  {
   "cell_type": "markdown",
   "id": "c17913ad",
   "metadata": {},
   "source": [
    "Question: Create a program that checks whether a given string is empty or not using a short-hand if statement."
   ]
  },
  {
   "cell_type": "code",
   "execution_count": 4,
   "id": "10e7625a",
   "metadata": {},
   "outputs": [
    {
     "name": "stdout",
     "output_type": "stream",
     "text": [
      "Enter a string: arash\n",
      "Not Empty\n"
     ]
    }
   ],
   "source": [
    "text = input(\"Enter a string: \")\n",
    "status = \"Empty\" if not text else \"Not Empty\"\n",
    "print(status)"
   ]
  },
  {
   "cell_type": "markdown",
   "id": "4f839325",
   "metadata": {},
   "source": [
    "Question: Write a program that calculates the absolute value of a given number using a short-hand if statement."
   ]
  },
  {
   "cell_type": "code",
   "execution_count": 5,
   "id": "4e6fd04f",
   "metadata": {},
   "outputs": [
    {
     "name": "stdout",
     "output_type": "stream",
     "text": [
      "Enter a number: 7\n",
      "Absolute Value: 7.0\n"
     ]
    }
   ],
   "source": [
    "number = float(input(\"Enter a number: \"))\n",
    "absolute_value = number if number >= 0 else -number\n",
    "print(\"Absolute Value:\", absolute_value)"
   ]
  },
  {
   "cell_type": "markdown",
   "id": "2ef1578d",
   "metadata": {},
   "source": [
    "Question: Create a program that checks if a given character is a vowel or a consonant using a short-hand if statement."
   ]
  },
  {
   "cell_type": "code",
   "execution_count": 6,
   "id": "5ae0fc50",
   "metadata": {},
   "outputs": [
    {
     "name": "stdout",
     "output_type": "stream",
     "text": [
      "Enter a character: a\n",
      "Type: Vowel\n"
     ]
    }
   ],
   "source": [
    "character = input(\"Enter a character: \").lower()\n",
    "type = \"Vowel\" if character in 'aeiou' else \"Consonant\"\n",
    "print(\"Type:\", type)"
   ]
  },
  {
   "cell_type": "markdown",
   "id": "87f0adc4",
   "metadata": {},
   "source": [
    "Question: Write a program that categorizes a given age into \"Child\", \"Teenager\", or \"Adult\" using a short-hand if statement."
   ]
  },
  {
   "cell_type": "code",
   "execution_count": 7,
   "id": "967513d8",
   "metadata": {},
   "outputs": [
    {
     "name": "stdout",
     "output_type": "stream",
     "text": [
      "Enter your age: 37\n",
      "Category: Adult\n"
     ]
    }
   ],
   "source": [
    "age = int(input(\"Enter your age: \"))\n",
    "category = \"Child\" if age < 18 else \"Teenager\" if age < 20 else \"Adult\"\n",
    "print(\"Category:\", category)"
   ]
  },
  {
   "cell_type": "markdown",
   "id": "d16c3314",
   "metadata": {},
   "source": [
    "Question: Create a program that determines if a given number is even or odd using a short-hand if statement."
   ]
  },
  {
   "cell_type": "code",
   "execution_count": 8,
   "id": "70e06dab",
   "metadata": {},
   "outputs": [
    {
     "name": "stdout",
     "output_type": "stream",
     "text": [
      "Enter a number: 7\n",
      "Parity: Odd\n"
     ]
    }
   ],
   "source": [
    "number = int(input(\"Enter a number: \"))\n",
    "parity = \"Even\" if number % 2 == 0 else \"Odd\"\n",
    "print(\"Parity:\", parity)"
   ]
  },
  {
   "cell_type": "markdown",
   "id": "212682aa",
   "metadata": {},
   "source": [
    "Question: Write a program that checks if a given year is a leap year using a short-hand if statement."
   ]
  },
  {
   "cell_type": "code",
   "execution_count": 9,
   "id": "f613d257",
   "metadata": {},
   "outputs": [
    {
     "name": "stdout",
     "output_type": "stream",
     "text": [
      "Enter a year: 1986\n",
      "Not Leap\n"
     ]
    }
   ],
   "source": [
    "year = int(input(\"Enter a year: \"))\n",
    "leap = \"Leap\" if year % 4 == 0 and (year % 100 != 0 or year % 400 == 0) else \"Not Leap\"\n",
    "print(leap)"
   ]
  },
  {
   "cell_type": "markdown",
   "id": "cc2871e1",
   "metadata": {},
   "source": [
    "Question: Create a program that calculates the square of a number using a short-hand if statement."
   ]
  },
  {
   "cell_type": "code",
   "execution_count": 10,
   "id": "98da87f2",
   "metadata": {},
   "outputs": [
    {
     "name": "stdout",
     "output_type": "stream",
     "text": [
      "Enter a number: 56\n",
      "Square: 3136.0\n"
     ]
    }
   ],
   "source": [
    "number = float(input(\"Enter a number: \"))\n",
    "square = number ** 2 if number > 0 else 0\n",
    "print(\"Square:\", square)"
   ]
  },
  {
   "cell_type": "markdown",
   "id": "4b697952",
   "metadata": {},
   "source": [
    "Question: Write a program that checks if a given number is divisible by both 3 and 5 using a short-hand if statement."
   ]
  },
  {
   "cell_type": "code",
   "execution_count": 11,
   "id": "7018570c",
   "metadata": {},
   "outputs": [
    {
     "name": "stdout",
     "output_type": "stream",
     "text": [
      "Enter a number: 34\n",
      "Not Divisible\n"
     ]
    }
   ],
   "source": [
    "number = int(input(\"Enter a number: \"))\n",
    "result = \"Divisible\" if number % 3 == 0 and number % 5 == 0 else \"Not Divisible\"\n",
    "print(result)"
   ]
  },
  {
   "cell_type": "markdown",
   "id": "5afbd433",
   "metadata": {},
   "source": [
    "Question: Create a program that categorizes a given temperature into \"Hot\", \"Moderate\", or \"Cold\" using a short-hand if statement."
   ]
  },
  {
   "cell_type": "code",
   "execution_count": 12,
   "id": "a2935d6e",
   "metadata": {},
   "outputs": [
    {
     "name": "stdout",
     "output_type": "stream",
     "text": [
      "Enter the temperature: 37\n",
      "Category: Hot\n"
     ]
    }
   ],
   "source": [
    "temperature = float(input(\"Enter the temperature: \"))\n",
    "category = \"Hot\" if temperature > 30 else \"Moderate\" if temperature > 15 else \"Cold\"\n",
    "print(\"Category:\", category)"
   ]
  },
  {
   "cell_type": "markdown",
   "id": "80adc024",
   "metadata": {},
   "source": [
    "Question: Write a program that determines the sign of a given number using a short-hand if statement."
   ]
  },
  {
   "cell_type": "code",
   "execution_count": 13,
   "id": "a10624ff",
   "metadata": {},
   "outputs": [
    {
     "name": "stdout",
     "output_type": "stream",
     "text": [
      "Enter a number: 23\n",
      "Sign: Positive\n"
     ]
    }
   ],
   "source": [
    "number = float(input(\"Enter a number: \"))\n",
    "sign = \"Positive\" if number > 0 else \"Negative\" if number < 0 else \"Zero\"\n",
    "print(\"Sign:\", sign)"
   ]
  },
  {
   "cell_type": "markdown",
   "id": "810feef0",
   "metadata": {},
   "source": [
    "Question: Create a program that checks if a given string is a palindrome using a short-hand if statement."
   ]
  },
  {
   "cell_type": "code",
   "execution_count": 14,
   "id": "17389881",
   "metadata": {},
   "outputs": [
    {
     "name": "stdout",
     "output_type": "stream",
     "text": [
      "Enter a string: arash\n",
      "Not Palindrome\n"
     ]
    }
   ],
   "source": [
    "text = input(\"Enter a string: \").lower()\n",
    "is_palindrome = text == text[::-1]\n",
    "result = \"Palindrome\" if is_palindrome else \"Not Palindrome\"\n",
    "print(result)"
   ]
  },
  {
   "cell_type": "markdown",
   "id": "ac13291e",
   "metadata": {},
   "source": [
    "Question: Write a program that determines whether a given number is prime or not using a short-hand if statement."
   ]
  },
  {
   "cell_type": "code",
   "execution_count": 15,
   "id": "df4d79fb",
   "metadata": {},
   "outputs": [
    {
     "name": "stdout",
     "output_type": "stream",
     "text": [
      "Enter a number: 7\n",
      "Prime\n"
     ]
    }
   ],
   "source": [
    "number = int(input(\"Enter a number: \"))\n",
    "is_prime = all(number % i != 0 for i in range(2, int(number ** 0.5) + 1))\n",
    "result = \"Prime\" if is_prime and number > 1 else \"Not Prime\"\n",
    "print(result)"
   ]
  },
  {
   "cell_type": "markdown",
   "id": "625590d2",
   "metadata": {},
   "source": [
    "Question: Create a program that calculates the sum of even numbers from 1 to a given limit using a short-hand if statement."
   ]
  },
  {
   "cell_type": "code",
   "execution_count": 16,
   "id": "342ad898",
   "metadata": {},
   "outputs": [
    {
     "name": "stdout",
     "output_type": "stream",
     "text": [
      "Enter the limit: 23\n",
      "Sum of Even Numbers: 132\n"
     ]
    }
   ],
   "source": [
    "limit = int(input(\"Enter the limit: \"))\n",
    "sum_even = sum(i for i in range(2, limit + 1, 2))\n",
    "print(\"Sum of Even Numbers:\", sum_even)"
   ]
  },
  {
   "cell_type": "markdown",
   "id": "9ffe046c",
   "metadata": {},
   "source": [
    "Question: Create a program that checks if a given number is a perfect square using a short-hand if statement."
   ]
  },
  {
   "cell_type": "code",
   "execution_count": 17,
   "id": "74d31753",
   "metadata": {},
   "outputs": [
    {
     "name": "stdout",
     "output_type": "stream",
     "text": [
      "Enter a number: 8\n",
      "Not Perfect Square\n"
     ]
    }
   ],
   "source": [
    "number = int(input(\"Enter a number: \"))\n",
    "is_perfect_square = int(number ** 0.5) ** 2 == number\n",
    "result = \"Perfect Square\" if is_perfect_square else \"Not Perfect Square\"\n",
    "print(result)"
   ]
  },
  {
   "cell_type": "markdown",
   "id": "293a1a8c",
   "metadata": {},
   "source": [
    "Question: Write a program that determines the largest of three numbers using a short-hand if statement."
   ]
  },
  {
   "cell_type": "code",
   "execution_count": 18,
   "id": "0f1daaa9",
   "metadata": {},
   "outputs": [
    {
     "name": "stdout",
     "output_type": "stream",
     "text": [
      "Enter the first number: 2\n",
      "Enter the second number: 3\n",
      "Enter the third number: 5\n",
      "Largest Number: 5.0\n"
     ]
    }
   ],
   "source": [
    "num1 = float(input(\"Enter the first number: \"))\n",
    "num2 = float(input(\"Enter the second number: \"))\n",
    "num3 = float(input(\"Enter the third number: \"))\n",
    "largest = num1 if num1 > num2 and num1 > num3 else num2 if num2 > num3 else num3\n",
    "print(\"Largest Number:\", largest)"
   ]
  },
  {
   "cell_type": "markdown",
   "id": "2422a944",
   "metadata": {},
   "source": [
    "Question: Create a program that categorizes a given score into letter grades using a short-hand if statement."
   ]
  },
  {
   "cell_type": "code",
   "execution_count": 20,
   "id": "06d6d783",
   "metadata": {},
   "outputs": [
    {
     "name": "stdout",
     "output_type": "stream",
     "text": [
      "Enter your score: 23\n",
      "F\n"
     ]
    }
   ],
   "source": [
    "score = int(input(\"Enter your score: \"))\n",
    "grade = \"A\" if score >= 90 else \"B\" if score >= 80 else \"C\" if score >= 70 else \"D\" if score >= 60 else \"F\"\n",
    "print(grade)"
   ]
  }
 ],
 "metadata": {
  "kernelspec": {
   "display_name": "Python 3 (ipykernel)",
   "language": "python",
   "name": "python3"
  },
  "language_info": {
   "codemirror_mode": {
    "name": "ipython",
    "version": 3
   },
   "file_extension": ".py",
   "mimetype": "text/x-python",
   "name": "python",
   "nbconvert_exporter": "python",
   "pygments_lexer": "ipython3",
   "version": "3.9.13"
  },
  "toc": {
   "base_numbering": 1,
   "nav_menu": {},
   "number_sections": true,
   "sideBar": true,
   "skip_h1_title": false,
   "title_cell": "Table of Contents",
   "title_sidebar": "Contents",
   "toc_cell": false,
   "toc_position": {},
   "toc_section_display": true,
   "toc_window_display": false
  }
 },
 "nbformat": 4,
 "nbformat_minor": 5
}
