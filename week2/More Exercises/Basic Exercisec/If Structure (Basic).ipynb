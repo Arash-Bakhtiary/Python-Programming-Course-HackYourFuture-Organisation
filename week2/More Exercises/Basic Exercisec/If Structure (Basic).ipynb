{
 "cells": [
  {
   "cell_type": "markdown",
   "id": "dbee02f3",
   "metadata": {},
   "source": [
    "# If Structure (Basic)"
   ]
  },
  {
   "cell_type": "markdown",
   "id": "ca9ffa6b",
   "metadata": {},
   "source": [
    "Question: Write a program that checks if a given number is positive, negative, or zero."
   ]
  },
  {
   "cell_type": "code",
   "execution_count": 1,
   "id": "41d41032",
   "metadata": {},
   "outputs": [
    {
     "name": "stdout",
     "output_type": "stream",
     "text": [
      "Enter a number: 12\n",
      "Positive\n"
     ]
    }
   ],
   "source": [
    "number = int(input(\"Enter a number: \"))\n",
    "\n",
    "if number > 0:\n",
    "    print(\"Positive\")\n",
    "elif number < 0:\n",
    "    print(\"Negative\")\n",
    "else:\n",
    "    print(\"Zero\")\n"
   ]
  },
  {
   "cell_type": "markdown",
   "id": "d0bf482c",
   "metadata": {},
   "source": [
    "Question: Create a program that determines if a given year is a leap year or not."
   ]
  },
  {
   "cell_type": "code",
   "execution_count": 3,
   "id": "98ec1598",
   "metadata": {},
   "outputs": [
    {
     "name": "stdout",
     "output_type": "stream",
     "text": [
      "Enter a year: 34\n",
      "Not a leap year\n"
     ]
    }
   ],
   "source": [
    "year = int(input(\"Enter a year: \"))\n",
    "\n",
    "if (year % 4 == 0 and year % 100 != 0) or (year % 400 == 0):\n",
    "    print(\"Leap year\")\n",
    "else:\n",
    "    print(\"Not a leap year\")"
   ]
  },
  {
   "cell_type": "markdown",
   "id": "8f93c73f",
   "metadata": {},
   "source": [
    "Question: Write a program that checks if a given string is a palindrome."
   ]
  },
  {
   "cell_type": "code",
   "execution_count": 4,
   "id": "01a0ec7e",
   "metadata": {},
   "outputs": [
    {
     "name": "stdout",
     "output_type": "stream",
     "text": [
      "Enter a string: asi\n",
      "Not a palindrome\n"
     ]
    }
   ],
   "source": [
    "string = input(\"Enter a string: \")\n",
    "\n",
    "if string == string[::-1]:\n",
    "    print(\"Palindrome\")\n",
    "else:\n",
    "    print(\"Not a palindrome\")"
   ]
  },
  {
   "cell_type": "markdown",
   "id": "9862b51a",
   "metadata": {},
   "source": [
    "Question: Create a program that determines the largest among three given numbers."
   ]
  },
  {
   "cell_type": "code",
   "execution_count": 5,
   "id": "41a33cea",
   "metadata": {},
   "outputs": [
    {
     "name": "stdout",
     "output_type": "stream",
     "text": [
      "Enter the first number: 1\n",
      "Enter the second number: 2\n",
      "Enter the third number: 4\n",
      "The largest number is: 4.0\n"
     ]
    }
   ],
   "source": [
    "num1 = float(input(\"Enter the first number: \"))\n",
    "num2 = float(input(\"Enter the second number: \"))\n",
    "num3 = float(input(\"Enter the third number: \"))\n",
    "\n",
    "if num1 >= num2 and num1 >= num3:\n",
    "    largest = num1\n",
    "elif num2 >= num1 and num2 >= num3:\n",
    "    largest = num2\n",
    "else:\n",
    "    largest = num3\n",
    "\n",
    "print(\"The largest number is:\", largest)"
   ]
  },
  {
   "cell_type": "markdown",
   "id": "1947a7b8",
   "metadata": {},
   "source": [
    "Question: Write a program that categorizes a person's BMI into different categories based on the BMI value."
   ]
  },
  {
   "cell_type": "code",
   "execution_count": 6,
   "id": "d4fbce30",
   "metadata": {},
   "outputs": [
    {
     "name": "stdout",
     "output_type": "stream",
     "text": [
      "Enter your weight (kg): 80\n",
      "Enter your height (m): 1.8\n",
      "Your BMI is: 24.691358024691358\n",
      "Category: Normal weight\n"
     ]
    }
   ],
   "source": [
    "weight = float(input(\"Enter your weight (kg): \"))\n",
    "height = float(input(\"Enter your height (m): \"))\n",
    "\n",
    "bmi = weight / (height ** 2)\n",
    "\n",
    "if bmi < 18.5:\n",
    "    category = \"Underweight\"\n",
    "elif 18.5 <= bmi < 24.9:\n",
    "    category = \"Normal weight\"\n",
    "elif 25 <= bmi < 29.9:\n",
    "    category = \"Overweight\"\n",
    "else:\n",
    "    category = \"Obese\"\n",
    "\n",
    "print(\"Your BMI is:\", bmi)\n",
    "print(\"Category:\", category)\n"
   ]
  },
  {
   "cell_type": "markdown",
   "id": "8a1f49a1",
   "metadata": {},
   "source": [
    "Question: Create a program that checks if a given year is a leap year, and if so, whether it falls on a Sunday or not."
   ]
  },
  {
   "cell_type": "code",
   "execution_count": 9,
   "id": "0d64cf66",
   "metadata": {},
   "outputs": [
    {
     "name": "stdout",
     "output_type": "stream",
     "text": [
      "Enter a year: 1986\n",
      "1986 is a leap year: False\n",
      "First day of the year: N/A\n"
     ]
    }
   ],
   "source": [
    "import calendar\n",
    "\n",
    "year = int(input(\"Enter a year: \"))\n",
    "\n",
    "if (year % 4 == 0 and year % 100 != 0) or (year % 400 == 0):\n",
    "    leap_year = True\n",
    "    day = calendar.weekday(year, 1, 1)  # 0 for Monday, 6 for Sunday\n",
    "    if day == 6:\n",
    "        day_name = \"Sunday\"\n",
    "    else:\n",
    "        day_name = \"not Sunday\"\n",
    "else:\n",
    "    leap_year = False\n",
    "    day_name = \"N/A\"\n",
    "\n",
    "print(f\"{year} is a leap year: {leap_year}\")\n",
    "print(f\"First day of the year: {day_name}\")\n"
   ]
  },
  {
   "cell_type": "markdown",
   "id": "f25692f5",
   "metadata": {},
   "source": [
    "Question: Write a program that calculates the cost of a movie ticket based on age and day of the week."
   ]
  },
  {
   "cell_type": "code",
   "execution_count": 10,
   "id": "2c36e5bd",
   "metadata": {},
   "outputs": [
    {
     "name": "stdout",
     "output_type": "stream",
     "text": [
      "Enter your age: 37\n",
      "Enter the day of the week: sunday\n",
      "Ticket cost: 10\n"
     ]
    }
   ],
   "source": [
    "age = int(input(\"Enter your age: \"))\n",
    "day = input(\"Enter the day of the week: \").lower()\n",
    "\n",
    "if age < 18:\n",
    "    if day == \"saturday\" or day == \"sunday\":\n",
    "        cost = 5\n",
    "    else:\n",
    "        cost = 4\n",
    "else:\n",
    "    if day == \"wednesday\":\n",
    "        cost = 8\n",
    "    else:\n",
    "        cost = 10\n",
    "\n",
    "print(\"Ticket cost:\", cost)\n"
   ]
  },
  {
   "cell_type": "markdown",
   "id": "dc5b2fb0",
   "metadata": {},
   "source": [
    "Question: Create a program that determines the type of triangle based on the lengths of its sides."
   ]
  },
  {
   "cell_type": "code",
   "execution_count": 11,
   "id": "e8875ebb",
   "metadata": {},
   "outputs": [
    {
     "name": "stdout",
     "output_type": "stream",
     "text": [
      "Enter the length of side 1: 10\n",
      "Enter the length of side 2: 10\n",
      "Enter the length of side 3: 10\n",
      "Triangle type: Equilateral\n"
     ]
    }
   ],
   "source": [
    "side1 = float(input(\"Enter the length of side 1: \"))\n",
    "side2 = float(input(\"Enter the length of side 2: \"))\n",
    "side3 = float(input(\"Enter the length of side 3: \"))\n",
    "\n",
    "if side1 == side2 == side3:\n",
    "    triangle_type = \"Equilateral\"\n",
    "elif side1 == side2 or side1 == side3 or side2 == side3:\n",
    "    triangle_type = \"Isosceles\"\n",
    "else:\n",
    "    triangle_type = \"Scalene\"\n",
    "\n",
    "print(\"Triangle type:\", triangle_type)"
   ]
  },
  {
   "cell_type": "markdown",
   "id": "2bc7195a",
   "metadata": {},
   "source": [
    "Question: Create a program that calculates the discount for an online store based on the total purchase amount."
   ]
  },
  {
   "cell_type": "code",
   "execution_count": 12,
   "id": "8710a9fb",
   "metadata": {},
   "outputs": [
    {
     "name": "stdout",
     "output_type": "stream",
     "text": [
      "Enter the total purchase amount: 1200\n",
      "Discount: 120.0\n",
      "Final amount: 1080.0\n"
     ]
    }
   ],
   "source": [
    "purchase_amount = float(input(\"Enter the total purchase amount: \"))\n",
    "\n",
    "if purchase_amount >= 1000:\n",
    "    discount = 0.1 * purchase_amount\n",
    "elif purchase_amount >= 500:\n",
    "    discount = 0.05 * purchase_amount\n",
    "else:\n",
    "    discount = 0\n",
    "\n",
    "final_amount = purchase_amount - discount\n",
    "print(\"Discount:\", discount)\n",
    "print(\"Final amount:\", final_amount)"
   ]
  },
  {
   "cell_type": "markdown",
   "id": "69586e1b",
   "metadata": {},
   "source": [
    "Question: Write a program that determines the type of quadrilateral based on the angles."
   ]
  },
  {
   "cell_type": "code",
   "execution_count": 13,
   "id": "3d75fbd9",
   "metadata": {},
   "outputs": [
    {
     "name": "stdout",
     "output_type": "stream",
     "text": [
      "Enter the first angle: 36\n",
      "Enter the second angle: 39\n",
      "Enter the third angle: 46\n",
      "Enter the fourth angle: 50\n",
      "Quadrilateral type: Invalid\n"
     ]
    }
   ],
   "source": [
    "angle1 = int(input(\"Enter the first angle: \"))\n",
    "angle2 = int(input(\"Enter the second angle: \"))\n",
    "angle3 = int(input(\"Enter the third angle: \"))\n",
    "angle4 = int(input(\"Enter the fourth angle: \"))\n",
    "\n",
    "if angle1 == angle2 == angle3 == angle4 == 90:\n",
    "    quadrilateral_type = \"Rectangle\"\n",
    "elif angle1 + angle2 + angle3 + angle4 == 360:\n",
    "    if angle1 == angle2 == angle3 == angle4:\n",
    "        quadrilateral_type = \"Square\"\n",
    "    else:\n",
    "        quadrilateral_type = \"Quadrilateral\"\n",
    "else:\n",
    "    quadrilateral_type = \"Invalid\"\n",
    "\n",
    "print(\"Quadrilateral type:\", quadrilateral_type)\n"
   ]
  },
  {
   "cell_type": "markdown",
   "id": "3627e22f",
   "metadata": {},
   "source": [
    "Question: Create a program that determines the grade for a student based on their score."
   ]
  },
  {
   "cell_type": "code",
   "execution_count": 14,
   "id": "4ce172b8",
   "metadata": {},
   "outputs": [
    {
     "name": "stdout",
     "output_type": "stream",
     "text": [
      "Enter the student's score: 20\n",
      "Grade: F\n"
     ]
    }
   ],
   "source": [
    "score = int(input(\"Enter the student's score: \"))\n",
    "\n",
    "if 90 <= score <= 100:\n",
    "    grade = \"A\"\n",
    "elif 80 <= score < 90:\n",
    "    grade = \"B\"\n",
    "elif 70 <= score < 80:\n",
    "    grade = \"C\"\n",
    "elif 60 <= score < 70:\n",
    "    grade = \"D\"\n",
    "else:\n",
    "    grade = \"F\"\n",
    "\n",
    "print(\"Grade:\", grade)"
   ]
  },
  {
   "cell_type": "markdown",
   "id": "daef804a",
   "metadata": {},
   "source": [
    "Question: Create a program that determines if a given string is a pangram (contains all the letters of the alphabet)."
   ]
  },
  {
   "cell_type": "code",
   "execution_count": 18,
   "id": "fd14c233",
   "metadata": {},
   "outputs": [
    {
     "name": "stdout",
     "output_type": "stream",
     "text": [
      "Enter a sentence: abcdefghijklmnopqrstuvwxyz\n",
      "Pangram: True\n"
     ]
    }
   ],
   "source": [
    "import string\n",
    "\n",
    "sentence = input(\"Enter a sentence: \").lower()\n",
    "alphabet = set(string.ascii_lowercase)\n",
    "\n",
    "if set(sentence).issuperset(alphabet):\n",
    "    pangram = True\n",
    "else:\n",
    "    pangram = False\n",
    "\n",
    "print(\"Pangram:\", pangram)\n"
   ]
  },
  {
   "cell_type": "markdown",
   "id": "e313ce59",
   "metadata": {},
   "source": [
    "Question: Create a program that determines whether a given point lies inside a rectangle or not."
   ]
  },
  {
   "cell_type": "code",
   "execution_count": 19,
   "id": "c7bfb24b",
   "metadata": {},
   "outputs": [
    {
     "name": "stdout",
     "output_type": "stream",
     "text": [
      "Enter the x-coordinate of the point: 12\n",
      "Enter the y-coordinate of the point: 34\n",
      "Point lies inside rectangle: False\n"
     ]
    }
   ],
   "source": [
    "x = float(input(\"Enter the x-coordinate of the point: \"))\n",
    "y = float(input(\"Enter the y-coordinate of the point: \"))\n",
    "\n",
    "if 1 <= x <= 5 and 1 <= y <= 4:\n",
    "    inside_rectangle = True\n",
    "else:\n",
    "    inside_rectangle = False\n",
    "\n",
    "print(\"Point lies inside rectangle:\", inside_rectangle)\n"
   ]
  },
  {
   "cell_type": "markdown",
   "id": "0f27da46",
   "metadata": {},
   "source": [
    "Question: Write a program that calculates the roots of a quadratic equation and handles complex roots."
   ]
  },
  {
   "cell_type": "code",
   "execution_count": 21,
   "id": "a65b29c2",
   "metadata": {},
   "outputs": [
    {
     "name": "stdout",
     "output_type": "stream",
     "text": [
      "Enter the coefficient of x^2: 2\n",
      "Enter the coefficient of x: 3\n",
      "Enter the constant term: 23\n",
      "Roots: ((-0.75+3.307189138830738j), (-0.75-3.307189138830738j))\n"
     ]
    }
   ],
   "source": [
    "import cmath\n",
    "\n",
    "a = float(input(\"Enter the coefficient of x^2: \"))\n",
    "b = float(input(\"Enter the coefficient of x: \"))\n",
    "c = float(input(\"Enter the constant term: \"))\n",
    "\n",
    "discriminant = b**2 - 4*a*c\n",
    "\n",
    "if discriminant >= 0:\n",
    "    root1 = (-b + discriminant**0.5) / (2*a)\n",
    "    root2 = (-b - discriminant**0.5) / (2*a)\n",
    "    roots = (root1, root2)\n",
    "else:\n",
    "    real_part = -b / (2*a)\n",
    "    imaginary_part = (abs(discriminant)**0.5) / (2*a)\n",
    "    roots = (complex(real_part, imaginary_part), complex(real_part, -imaginary_part))\n",
    "\n",
    "print(\"Roots:\", roots)"
   ]
  },
  {
   "cell_type": "markdown",
   "id": "97d1f228",
   "metadata": {},
   "source": [
    "Question: Create a program that determines if a given year is a leap year and if it is a palindrome year (reads the same forward and backward)."
   ]
  },
  {
   "cell_type": "code",
   "execution_count": 22,
   "id": "593a9a66",
   "metadata": {},
   "outputs": [
    {
     "name": "stdout",
     "output_type": "stream",
     "text": [
      "Enter a year: 1987\n",
      "1987 is a leap year: False\n",
      "1987 is a palindrome year: False\n"
     ]
    }
   ],
   "source": [
    "year = int(input(\"Enter a year: \"))\n",
    "\n",
    "if (year % 4 == 0 and year % 100 != 0) or (year % 400 == 0):\n",
    "    leap_year = True\n",
    "else:\n",
    "    leap_year = False\n",
    "\n",
    "if str(year) == str(year)[::-1]:\n",
    "    palindrome_year = True\n",
    "else:\n",
    "    palindrome_year = False\n",
    "\n",
    "print(f\"{year} is a leap year: {leap_year}\")\n",
    "print(f\"{year} is a palindrome year: {palindrome_year}\")"
   ]
  }
 ],
 "metadata": {
  "kernelspec": {
   "display_name": "Python 3 (ipykernel)",
   "language": "python",
   "name": "python3"
  },
  "language_info": {
   "codemirror_mode": {
    "name": "ipython",
    "version": 3
   },
   "file_extension": ".py",
   "mimetype": "text/x-python",
   "name": "python",
   "nbconvert_exporter": "python",
   "pygments_lexer": "ipython3",
   "version": "3.9.13"
  },
  "toc": {
   "base_numbering": 1,
   "nav_menu": {},
   "number_sections": true,
   "sideBar": true,
   "skip_h1_title": false,
   "title_cell": "Table of Contents",
   "title_sidebar": "Contents",
   "toc_cell": false,
   "toc_position": {},
   "toc_section_display": true,
   "toc_window_display": false
  }
 },
 "nbformat": 4,
 "nbformat_minor": 5
}
