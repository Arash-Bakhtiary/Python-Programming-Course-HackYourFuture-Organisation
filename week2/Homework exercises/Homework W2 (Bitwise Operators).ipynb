{
 "cells": [
  {
   "cell_type": "markdown",
   "id": "dbee02f3",
   "metadata": {},
   "source": [
    "# Assignments - W2 (Bitwise Operators)"
   ]
  },
  {
   "cell_type": "markdown",
   "id": "bb95fe9e",
   "metadata": {},
   "source": [
    "Assignment 1: Using Bitwise Operators with Lists"
   ]
  },
  {
   "cell_type": "markdown",
   "id": "8f2542e9",
   "metadata": {},
   "source": [
    "Task: Write a program that performs a bitwise XOR operation on two lists of integers element-wise."
   ]
  },
  {
   "cell_type": "markdown",
   "id": "88bdd140",
   "metadata": {},
   "source": [
    "Assignment 2: Using Bitwise Operators with Sets"
   ]
  },
  {
   "cell_type": "markdown",
   "id": "75f21a28",
   "metadata": {},
   "source": [
    "Task: Create a program that checks if two sets have any common elements using bitwise AND."
   ]
  },
  {
   "cell_type": "markdown",
   "id": "37095431",
   "metadata": {},
   "source": [
    "Assignment 3: Using Bitwise Operators with Dictionaries"
   ]
  },
  {
   "cell_type": "markdown",
   "id": "1433b40b",
   "metadata": {},
   "source": [
    "Task: Write a program that performs a bitwise OR operation between two dictionaries of integers with the same keys."
   ]
  },
  {
   "cell_type": "markdown",
   "id": "09dfc6c6",
   "metadata": {},
   "source": [
    "Assignment 4: Using Bitwise Operators with Strings"
   ]
  },
  {
   "cell_type": "markdown",
   "id": "3e201eb0",
   "metadata": {},
   "source": [
    "Task: Create a program that performs a bitwise XOR operation on two strings character-wise."
   ]
  },
  {
   "cell_type": "markdown",
   "id": "cbcbb425",
   "metadata": {},
   "source": [
    "Assignment 5: Using Bitwise Operators with NumPy Arrays"
   ]
  },
  {
   "cell_type": "markdown",
   "id": "f84a7d76",
   "metadata": {},
   "source": [
    "Task: Write a program that applies a custom bitwise operation (e.g., element-wise addition and bitwise AND) on two NumPy arrays."
   ]
  },
  {
   "cell_type": "markdown",
   "id": "2db5a6f5",
   "metadata": {},
   "source": [
    "Assignment 6: Using Bitwise Operators with Custom Data Structures"
   ]
  },
  {
   "cell_type": "markdown",
   "id": "83cfe4ad",
   "metadata": {},
   "source": [
    "Task: Create a custom class that overloads bitwise operators and write a program that demonstrates their usage."
   ]
  },
  {
   "cell_type": "markdown",
   "id": "11c25cf0",
   "metadata": {},
   "source": [
    "Assignment 7: Bit Manipulation for Flags"
   ]
  },
  {
   "cell_type": "markdown",
   "id": "cb2f2fe5",
   "metadata": {},
   "source": [
    "Task: Create a program that sets and checks individual flags within an integer to represent different states."
   ]
  },
  {
   "cell_type": "markdown",
   "id": "e43e041d",
   "metadata": {},
   "source": [
    "Assignment 8: Using Bitwise Operators for Access Control"
   ]
  },
  {
   "cell_type": "markdown",
   "id": "3abf243f",
   "metadata": {},
   "source": [
    "Task: Create a program that simulates access control using bitwise operators to grant or deny access based on permission flags."
   ]
  },
  {
   "cell_type": "markdown",
   "id": "9a09b603",
   "metadata": {},
   "source": [
    "Assignment 9: Bitwise Operations for Encryption"
   ]
  },
  {
   "cell_type": "markdown",
   "id": "d5165bcf",
   "metadata": {},
   "source": [
    "Task: Write a program that uses bitwise operations for a basic encryption/decryption scheme."
   ]
  }
 ],
 "metadata": {
  "kernelspec": {
   "display_name": "Python 3 (ipykernel)",
   "language": "python",
   "name": "python3"
  },
  "language_info": {
   "codemirror_mode": {
    "name": "ipython",
    "version": 3
   },
   "file_extension": ".py",
   "mimetype": "text/x-python",
   "name": "python",
   "nbconvert_exporter": "python",
   "pygments_lexer": "ipython3",
   "version": "3.9.13"
  },
  "toc": {
   "base_numbering": 1,
   "nav_menu": {},
   "number_sections": true,
   "sideBar": true,
   "skip_h1_title": false,
   "title_cell": "Table of Contents",
   "title_sidebar": "Contents",
   "toc_cell": false,
   "toc_position": {},
   "toc_section_display": true,
   "toc_window_display": false
  }
 },
 "nbformat": 4,
 "nbformat_minor": 5
}
