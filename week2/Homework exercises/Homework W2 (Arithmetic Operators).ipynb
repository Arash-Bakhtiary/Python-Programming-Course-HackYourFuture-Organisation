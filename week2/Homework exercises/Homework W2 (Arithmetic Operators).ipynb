{
 "cells": [
  {
   "cell_type": "markdown",
   "id": "dbee02f3",
   "metadata": {},
   "source": [
    "# Assignments - W2 (Arithmetic Operators)"
   ]
  },
  {
   "cell_type": "markdown",
   "id": "bb95fe9e",
   "metadata": {},
   "source": [
    "Assignment 1: Calculate the Factorial Using Recursion"
   ]
  },
  {
   "cell_type": "markdown",
   "id": "8f2542e9",
   "metadata": {},
   "source": [
    "Task: Write a Python program to calculate the factorial of a given number using recursion."
   ]
  },
  {
   "cell_type": "markdown",
   "id": "88bdd140",
   "metadata": {},
   "source": [
    "Assignment 2: Calculate the Exponential Series"
   ]
  },
  {
   "cell_type": "markdown",
   "id": "75f21a28",
   "metadata": {},
   "source": [
    "Task: Write a Python program to calculate the sum of the first n terms of the exponential series using a loop."
   ]
  },
  {
   "cell_type": "markdown",
   "id": "37095431",
   "metadata": {},
   "source": [
    "Assignment 3: Implement a Stack Using a List"
   ]
  },
  {
   "cell_type": "markdown",
   "id": "1433b40b",
   "metadata": {},
   "source": [
    "Task: Create a Python class that implements a stack data structure using a list, and add methods for push, pop, and checking if the stack is empty."
   ]
  },
  {
   "cell_type": "markdown",
   "id": "09dfc6c6",
   "metadata": {},
   "source": [
    "Assignment 4: Implement a Queue Using a List"
   ]
  },
  {
   "cell_type": "markdown",
   "id": "3e201eb0",
   "metadata": {},
   "source": [
    "Task: Create a Python class that implements a queue data structure using a list, and add methods for enqueue, dequeue, and checking if the queue is empty."
   ]
  },
  {
   "cell_type": "markdown",
   "id": "cbcbb425",
   "metadata": {},
   "source": [
    "Assignment 5: Implement a Priority Queue Using a List"
   ]
  },
  {
   "cell_type": "markdown",
   "id": "f84a7d76",
   "metadata": {},
   "source": [
    "Task: Create a Python class that implements a priority queue data structure using a list, where each element has a priority, and add methods for enqueue and dequeue based on priority."
   ]
  },
  {
   "cell_type": "markdown",
   "id": "2db5a6f5",
   "metadata": {},
   "source": [
    "Assignment 6: Implement a Linked List"
   ]
  },
  {
   "cell_type": "markdown",
   "id": "83cfe4ad",
   "metadata": {},
   "source": [
    "Task: Create a Python class that implements a singly linked list with methods for insertion, deletion, and traversal."
   ]
  },
  {
   "cell_type": "markdown",
   "id": "11c25cf0",
   "metadata": {},
   "source": [
    "Assignment 7: Implement a Doubly Linked List"
   ]
  },
  {
   "cell_type": "markdown",
   "id": "cb2f2fe5",
   "metadata": {},
   "source": [
    "Task: Create a Python class that implements a doubly linked list with methods for insertion, deletion, and traversal in both directions."
   ]
  },
  {
   "cell_type": "markdown",
   "id": "cdc4ddf2",
   "metadata": {},
   "source": [
    "Assignment 8: Implement a Binary Search Tree (BST)"
   ]
  },
  {
   "cell_type": "markdown",
   "id": "3bac4af1",
   "metadata": {},
   "source": [
    "Task: Create a Python class that implements a binary search tree with methods for insertion, deletion, and traversal."
   ]
  },
  {
   "cell_type": "markdown",
   "id": "e43e041d",
   "metadata": {},
   "source": [
    "Assignment 9: Implement a Hash Map"
   ]
  },
  {
   "cell_type": "markdown",
   "id": "3abf243f",
   "metadata": {},
   "source": [
    "Task: Create a Python class that implements a hash map (dictionary) with methods for insertion, deletion, and retrieval."
   ]
  },
  {
   "cell_type": "markdown",
   "id": "9a09b603",
   "metadata": {},
   "source": [
    "Assignment 10: Calculate Compound Interest"
   ]
  },
  {
   "cell_type": "markdown",
   "id": "d5165bcf",
   "metadata": {},
   "source": [
    "Task: Write a program that calculates the compound interest for a given principal amount, interest rate (compounded annually), and time period in years. Ensure the interest rate is entered as a percentage."
   ]
  }
 ],
 "metadata": {
  "kernelspec": {
   "display_name": "Python 3 (ipykernel)",
   "language": "python",
   "name": "python3"
  },
  "language_info": {
   "codemirror_mode": {
    "name": "ipython",
    "version": 3
   },
   "file_extension": ".py",
   "mimetype": "text/x-python",
   "name": "python",
   "nbconvert_exporter": "python",
   "pygments_lexer": "ipython3",
   "version": "3.9.13"
  },
  "toc": {
   "base_numbering": 1,
   "nav_menu": {},
   "number_sections": true,
   "sideBar": true,
   "skip_h1_title": false,
   "title_cell": "Table of Contents",
   "title_sidebar": "Contents",
   "toc_cell": false,
   "toc_position": {},
   "toc_section_display": true,
   "toc_window_display": false
  }
 },
 "nbformat": 4,
 "nbformat_minor": 5
}
