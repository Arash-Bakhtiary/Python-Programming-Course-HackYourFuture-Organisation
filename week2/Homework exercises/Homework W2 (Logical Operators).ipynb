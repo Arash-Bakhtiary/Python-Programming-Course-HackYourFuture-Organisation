{
 "cells": [
  {
   "cell_type": "markdown",
   "id": "dbee02f3",
   "metadata": {},
   "source": [
    "# Assignments - W2 (Logical Operators)"
   ]
  },
  {
   "cell_type": "markdown",
   "id": "bb95fe9e",
   "metadata": {},
   "source": [
    "Assignment 1: Advanced Divisibility Check"
   ]
  },
  {
   "cell_type": "markdown",
   "id": "8f2542e9",
   "metadata": {},
   "source": [
    "Task: Write a program that checks if a given number is divisible by both 3 and 7."
   ]
  },
  {
   "cell_type": "markdown",
   "id": "88bdd140",
   "metadata": {},
   "source": [
    "Assignment 2: Advanced Age Range Check"
   ]
  },
  {
   "cell_type": "markdown",
   "id": "75f21a28",
   "metadata": {},
   "source": [
    "Task: Create a program that determines if a person's age is either between 18 and 30 (inclusive) or above 65."
   ]
  },
  {
   "cell_type": "markdown",
   "id": "37095431",
   "metadata": {},
   "source": [
    "Assignment 3: Advanced String Matching"
   ]
  },
  {
   "cell_type": "markdown",
   "id": "1433b40b",
   "metadata": {},
   "source": [
    "Task: Modify the string matching program to check if the string contains either \"python\" or \"programming,\" and if both are present, determine which one occurs first."
   ]
  },
  {
   "cell_type": "markdown",
   "id": "09dfc6c6",
   "metadata": {},
   "source": [
    "Assignment 4: Advanced Leap Year Check"
   ]
  },
  {
   "cell_type": "markdown",
   "id": "3e201eb0",
   "metadata": {},
   "source": [
    "Task: Extend the leap year program to check if a year is a leap year and not a century year."
   ]
  },
  {
   "cell_type": "markdown",
   "id": "cbcbb425",
   "metadata": {},
   "source": [
    "Assignment 5: Advanced List Check"
   ]
  },
  {
   "cell_type": "markdown",
   "id": "f84a7d76",
   "metadata": {},
   "source": [
    "Task: Create a program that checks if a list of numbers contains both even and odd numbers."
   ]
  },
  {
   "cell_type": "markdown",
   "id": "2db5a6f5",
   "metadata": {},
   "source": [
    "Assignment 6: Advanced String Prefix-Suffix Check"
   ]
  },
  {
   "cell_type": "markdown",
   "id": "83cfe4ad",
   "metadata": {},
   "source": [
    "Task: Modify the string check program to verify if a string starts with \"Hello\" and ends with \"World\" but doesn't contain \"Python.\""
   ]
  },
  {
   "cell_type": "markdown",
   "id": "11c25cf0",
   "metadata": {},
   "source": [
    "Assignment 7: Advanced Number Range Check"
   ]
  },
  {
   "cell_type": "markdown",
   "id": "cb2f2fe5",
   "metadata": {},
   "source": [
    "Task: Extend the number range program to check if a given number is outside the range of 20 to 50 and not divisible by 3."
   ]
  },
  {
   "cell_type": "markdown",
   "id": "cdc4ddf2",
   "metadata": {},
   "source": [
    "Assignment 8: Advanced List Element Check"
   ]
  },
  {
   "cell_type": "markdown",
   "id": "3bac4af1",
   "metadata": {},
   "source": [
    "Task: Write a program that checks if a list of names contains both \"Alice\" and \"Bob\" but not \"Charlie.\""
   ]
  },
  {
   "cell_type": "markdown",
   "id": "e43e041d",
   "metadata": {},
   "source": [
    "Assignment 9: Advanced Prime Number Check"
   ]
  },
  {
   "cell_type": "markdown",
   "id": "3abf243f",
   "metadata": {},
   "source": [
    "Task: Create a program that checks if a given number is a prime number or a perfect square (but not both)."
   ]
  },
  {
   "cell_type": "markdown",
   "id": "9a09b603",
   "metadata": {},
   "source": [
    "Assignment 10: Advanced List Intersection"
   ]
  },
  {
   "cell_type": "markdown",
   "id": "d5165bcf",
   "metadata": {},
   "source": [
    "Task: Write a program that checks if two lists share at least one common element."
   ]
  }
 ],
 "metadata": {
  "kernelspec": {
   "display_name": "Python 3 (ipykernel)",
   "language": "python",
   "name": "python3"
  },
  "language_info": {
   "codemirror_mode": {
    "name": "ipython",
    "version": 3
   },
   "file_extension": ".py",
   "mimetype": "text/x-python",
   "name": "python",
   "nbconvert_exporter": "python",
   "pygments_lexer": "ipython3",
   "version": "3.9.13"
  },
  "toc": {
   "base_numbering": 1,
   "nav_menu": {},
   "number_sections": true,
   "sideBar": true,
   "skip_h1_title": false,
   "title_cell": "Table of Contents",
   "title_sidebar": "Contents",
   "toc_cell": false,
   "toc_position": {},
   "toc_section_display": true,
   "toc_window_display": false
  }
 },
 "nbformat": 4,
 "nbformat_minor": 5
}
