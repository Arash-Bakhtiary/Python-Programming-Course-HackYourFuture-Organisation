{
 "cells": [
  {
   "cell_type": "markdown",
   "id": "dbee02f3",
   "metadata": {},
   "source": [
    "# Assignments - W2 (Nested If)"
   ]
  },
  {
   "cell_type": "markdown",
   "id": "bb95fe9e",
   "metadata": {},
   "source": [
    "Assignment 1: Advanced Leap Year Analysis"
   ]
  },
  {
   "cell_type": "markdown",
   "id": "8f2542e9",
   "metadata": {},
   "source": [
    "Task: Write a program that checks if a given year is a leap year and, if so, whether it's a leap year in the Gregorian calendar or Julian calendar."
   ]
  },
  {
   "cell_type": "markdown",
   "id": "99ccd96f",
   "metadata": {},
   "source": [
    "Answer: "
   ]
  },
  {
   "cell_type": "code",
   "execution_count": 10,
   "id": "23bfceac",
   "metadata": {},
   "outputs": [
    {
     "name": "stdout",
     "output_type": "stream",
     "text": [
      "Enter a year: 34\n",
      "34 is a leap year in Gregorian calendar: False\n",
      "34 is a leap year in Julian calendar: False\n"
     ]
    }
   ],
   "source": [
    "year = int(input(\"Enter a year: \"))\n",
    "\n",
    "if (year % 4 == 0 and year % 100 != 0) or (year % 400 == 0):\n",
    "    is_leap_gregorian = True\n",
    "    if (year % 4 == 0):\n",
    "        is_leap_julian = True\n",
    "    else:\n",
    "        is_leap_julian = False\n",
    "else:\n",
    "    is_leap_gregorian = False\n",
    "    is_leap_julian = False\n",
    "\n",
    "print(f\"{year} is a leap year in Gregorian calendar: {is_leap_gregorian}\")\n",
    "print(f\"{year} is a leap year in Julian calendar: {is_leap_julian}\")"
   ]
  },
  {
   "cell_type": "markdown",
   "id": "88bdd140",
   "metadata": {},
   "source": [
    "Assignment 2: Advanced Movie Ticket Pricing"
   ]
  },
  {
   "cell_type": "markdown",
   "id": "75f21a28",
   "metadata": {},
   "source": [
    "Task: Create a program that calculates the cost of a movie ticket based on age, day of the week, and movie type (regular or 3D)."
   ]
  },
  {
   "cell_type": "markdown",
   "id": "01eeb0c8",
   "metadata": {},
   "source": [
    "Answer: "
   ]
  },
  {
   "cell_type": "code",
   "execution_count": 9,
   "id": "d82012a3",
   "metadata": {},
   "outputs": [
    {
     "name": "stdout",
     "output_type": "stream",
     "text": [
      "Enter your age: 34\n",
      "Enter the day of the week: 4\n",
      "Is it a 3D movie? (yes/no): yes\n",
      "Ticket cost: 10\n"
     ]
    }
   ],
   "source": [
    "age = int(input(\"Enter your age: \"))\n",
    "day = input(\"Enter the day of the week: \").lower()\n",
    "is_3d_movie = input(\"Is it a 3D movie? (yes/no): \").lower() == \"yes\"\n",
    "\n",
    "if age < 18:\n",
    "    if day in [\"saturday\", \"sunday\"]:\n",
    "        cost = 7 if is_3d_movie else 5\n",
    "    else:\n",
    "        cost = 6 if is_3d_movie else 4\n",
    "else:\n",
    "    cost = 10 if is_3d_movie else 8\n",
    "\n",
    "print(\"Ticket cost:\", cost)"
   ]
  },
  {
   "cell_type": "markdown",
   "id": "37095431",
   "metadata": {},
   "source": [
    "Assignment 3: Advanced Quadrilateral Classification"
   ]
  },
  {
   "cell_type": "markdown",
   "id": "1433b40b",
   "metadata": {},
   "source": [
    "Task: Write a program that determines the type of quadrilateral based on the angles, and if it's a parallelogram, check if it's a rectangle or a square."
   ]
  },
  {
   "cell_type": "markdown",
   "id": "7e3c5dbd",
   "metadata": {},
   "source": [
    "Answer: "
   ]
  },
  {
   "cell_type": "code",
   "execution_count": 8,
   "id": "97d3bab4",
   "metadata": {},
   "outputs": [
    {
     "name": "stdout",
     "output_type": "stream",
     "text": [
      "Enter the first angle: 20\n",
      "Enter the second angle: 30\n",
      "Enter the third angle: 40\n",
      "Enter the fourth angle: 50\n",
      "Quadrilateral type: Quadrilateral\n"
     ]
    }
   ],
   "source": [
    "angle1 = int(input(\"Enter the first angle: \"))\n",
    "angle2 = int(input(\"Enter the second angle: \"))\n",
    "angle3 = int(input(\"Enter the third angle: \"))\n",
    "angle4 = int(input(\"Enter the fourth angle: \"))\n",
    "\n",
    "if angle1 == angle2 == angle3 == angle4 == 90:\n",
    "    quadrilateral_type = \"Rectangle\" if angle1 == 90 else \"Square\"\n",
    "elif angle1 == angle3 and angle2 == angle4:\n",
    "    quadrilateral_type = \"Parallelogram\"\n",
    "else:\n",
    "    quadrilateral_type = \"Quadrilateral\"\n",
    "\n",
    "print(\"Quadrilateral type:\", quadrilateral_type)"
   ]
  },
  {
   "cell_type": "markdown",
   "id": "09dfc6c6",
   "metadata": {},
   "source": [
    "Assignment 4: Advanced Leap Year Analysis with Days"
   ]
  },
  {
   "cell_type": "markdown",
   "id": "3e201eb0",
   "metadata": {},
   "source": [
    "Task: Create a program that checks if a given year is a leap year and, if so, whether it has 366 or 365 days."
   ]
  },
  {
   "cell_type": "markdown",
   "id": "7b41ca07",
   "metadata": {},
   "source": [
    "Answer: "
   ]
  },
  {
   "cell_type": "code",
   "execution_count": 7,
   "id": "631e4c6d",
   "metadata": {},
   "outputs": [
    {
     "name": "stdout",
     "output_type": "stream",
     "text": [
      "Enter a year: 34\n",
      "34 is a leap year: False\n",
      "Number of days in 34: 365\n"
     ]
    }
   ],
   "source": [
    "year = int(input(\"Enter a year: \"))\n",
    "\n",
    "if (year % 4 == 0 and year % 100 != 0) or (year % 400 == 0):\n",
    "    is_leap = True\n",
    "    days_in_year = 366\n",
    "else:\n",
    "    is_leap = False\n",
    "    days_in_year = 365\n",
    "\n",
    "print(f\"{year} is a leap year: {is_leap}\")\n",
    "print(f\"Number of days in {year}: {days_in_year}\")"
   ]
  },
  {
   "cell_type": "markdown",
   "id": "cbcbb425",
   "metadata": {},
   "source": [
    "Assignment 5: Advanced Perfect Number Check"
   ]
  },
  {
   "cell_type": "markdown",
   "id": "f84a7d76",
   "metadata": {},
   "source": [
    "Task: Write a program that checks if a given number is a perfect number and, if so, list its divisors."
   ]
  },
  {
   "cell_type": "markdown",
   "id": "6fe275e7",
   "metadata": {},
   "source": [
    "Answer: "
   ]
  },
  {
   "cell_type": "code",
   "execution_count": 6,
   "id": "73b483f7",
   "metadata": {},
   "outputs": [
    {
     "name": "stdout",
     "output_type": "stream",
     "text": [
      "Enter a number: 37\n",
      "Perfect number: False\n"
     ]
    }
   ],
   "source": [
    "number = int(input(\"Enter a number: \"))\n",
    "divisors = [1]\n",
    "\n",
    "for i in range(2, number):\n",
    "    if number % i == 0:\n",
    "        divisors.append(i)\n",
    "\n",
    "if sum(divisors) == number:\n",
    "    is_perfect = True\n",
    "else:\n",
    "    is_perfect = False\n",
    "\n",
    "print(\"Perfect number:\", is_perfect)\n",
    "if is_perfect:\n",
    "    print(\"Divisors:\", divisors)"
   ]
  },
  {
   "cell_type": "markdown",
   "id": "2db5a6f5",
   "metadata": {},
   "source": [
    "Assignment 6: Advanced Leap Year Analysis with Month Calculation"
   ]
  },
  {
   "cell_type": "markdown",
   "id": "83cfe4ad",
   "metadata": {},
   "source": [
    "Task: Check if a given year is a leap year and calculate the number of days in February accordingly."
   ]
  },
  {
   "cell_type": "markdown",
   "id": "cd7a0da9",
   "metadata": {},
   "source": [
    "Answer: "
   ]
  },
  {
   "cell_type": "code",
   "execution_count": 5,
   "id": "f40f5807",
   "metadata": {},
   "outputs": [
    {
     "name": "stdout",
     "output_type": "stream",
     "text": [
      "Enter a year: 34\n",
      "34 is a leap year: False\n",
      "February has 28 days in 34\n"
     ]
    }
   ],
   "source": [
    "year = int(input(\"Enter a year: \"))\n",
    "\n",
    "if (year % 4 == 0 and year % 100 != 0) or (year % 400 == 0):\n",
    "    is_leap = True\n",
    "    feb_days = 29\n",
    "else:\n",
    "    is_leap = False\n",
    "    feb_days = 28\n",
    "\n",
    "print(f\"{year} is a leap year: {is_leap}\")\n",
    "print(f\"February has {feb_days} days in {year}\")"
   ]
  },
  {
   "cell_type": "markdown",
   "id": "11c25cf0",
   "metadata": {},
   "source": [
    "Assignment 7: Advanced Prime Number Check with Factors"
   ]
  },
  {
   "cell_type": "markdown",
   "id": "cb2f2fe5",
   "metadata": {},
   "source": [
    "Task: Create a program that checks if a given number is prime and, if not, list its factors."
   ]
  },
  {
   "cell_type": "markdown",
   "id": "cf6aa719",
   "metadata": {},
   "source": [
    "Answer: "
   ]
  },
  {
   "cell_type": "code",
   "execution_count": 4,
   "id": "c033dcde",
   "metadata": {},
   "outputs": [
    {
     "name": "stdout",
     "output_type": "stream",
     "text": [
      "Enter a number: 23\n",
      "Prime number: True\n"
     ]
    }
   ],
   "source": [
    "number = int(input(\"Enter a number: \"))\n",
    "is_prime = True\n",
    "factors = []\n",
    "\n",
    "if number <= 1:\n",
    "    is_prime = False\n",
    "else:\n",
    "    for i in range(2, number):\n",
    "        if number % i == 0:\n",
    "            is_prime = False\n",
    "            factors.append(i)\n",
    "\n",
    "print(\"Prime number:\", is_prime)\n",
    "if not is_prime:\n",
    "    print(\"Factors:\", factors)"
   ]
  },
  {
   "cell_type": "markdown",
   "id": "cdc4ddf2",
   "metadata": {},
   "source": [
    "Assignment 8: Advanced Leap Year Analysis with Next Leap Year"
   ]
  },
  {
   "cell_type": "markdown",
   "id": "3bac4af1",
   "metadata": {},
   "source": [
    "Task: Check if a given year is a leap year and find the next leap year."
   ]
  },
  {
   "cell_type": "markdown",
   "id": "9df6be8c",
   "metadata": {},
   "source": [
    "Answer: "
   ]
  },
  {
   "cell_type": "code",
   "execution_count": 3,
   "id": "8c9aaab4",
   "metadata": {},
   "outputs": [
    {
     "name": "stdout",
     "output_type": "stream",
     "text": [
      "Enter a year: 23\n",
      "23 is a leap year: False\n",
      "The next leap year after 23 is: 28\n"
     ]
    }
   ],
   "source": [
    "year = int(input(\"Enter a year: \"))\n",
    "\n",
    "if (year % 4 == 0 and year % 100 != 0) or (year % 400 == 0):\n",
    "    is_leap = True\n",
    "else:\n",
    "    is_leap = False\n",
    "\n",
    "next_leap_year = year + 4 - (year % 4)\n",
    "if not is_leap:\n",
    "    next_leap_year += 4\n",
    "\n",
    "print(f\"{year} is a leap year: {is_leap}\")\n",
    "print(f\"The next leap year after {year} is: {next_leap_year}\")"
   ]
  },
  {
   "cell_type": "markdown",
   "id": "e43e041d",
   "metadata": {},
   "source": [
    "Assignment 9: Advanced Quadrilateral Classification with Sides"
   ]
  },
  {
   "cell_type": "markdown",
   "id": "3abf243f",
   "metadata": {},
   "source": [
    "Task: Write a program that classifies a quadrilateral based on both angles and side lengths."
   ]
  },
  {
   "cell_type": "markdown",
   "id": "eb634cfb",
   "metadata": {},
   "source": [
    "Answer: "
   ]
  },
  {
   "cell_type": "code",
   "execution_count": 2,
   "id": "f3678f70",
   "metadata": {},
   "outputs": [
    {
     "name": "stdout",
     "output_type": "stream",
     "text": [
      "Enter the first angle: 20\n",
      "Enter the second angle: 30\n",
      "Enter the third angle: 40\n",
      "Enter the fourth angle: 50\n",
      "Enter the length of side 1: 20\n",
      "Enter the length of side 2: 10\n",
      "Enter the length of side 3: 15\n",
      "Enter the length of side 4: 30\n",
      "Quadrilateral type: Quadrilateral\n"
     ]
    }
   ],
   "source": [
    "angle1 = int(input(\"Enter the first angle: \"))\n",
    "angle2 = int(input(\"Enter the second angle: \"))\n",
    "angle3 = int(input(\"Enter the third angle: \"))\n",
    "angle4 = int(input(\"Enter the fourth angle: \"))\n",
    "\n",
    "side1 = float(input(\"Enter the length of side 1: \"))\n",
    "side2 = float(input(\"Enter the length of side 2: \"))\n",
    "side3 = float(input(\"Enter the length of side 3: \"))\n",
    "side4 = float(input(\"Enter the length of side 4: \"))\n",
    "\n",
    "if angle1 == angle2 == angle3 == angle4 == 90:\n",
    "    if side1 == side2 == side3 == side4:\n",
    "        quadrilateral_type = \"Square\"\n",
    "    else:\n",
    "        quadrilateral_type = \"Rectangle\"\n",
    "elif side1 == side2 == side3 == side4:\n",
    "    if angle1 == angle2 == angle3 == angle4:\n",
    "        quadrilateral_type = \"Rhombus\"\n",
    "    else:\n",
    "        quadrilateral_type = \"Parallelogram\"\n",
    "else:\n",
    "    quadrilateral_type = \"Quadrilateral\"\n",
    "\n",
    "print(\"Quadrilateral type:\", quadrilateral_type)"
   ]
  },
  {
   "cell_type": "markdown",
   "id": "9a09b603",
   "metadata": {},
   "source": [
    "Assignment 10: Advanced Nested Leap Year Analysis"
   ]
  },
  {
   "cell_type": "markdown",
   "id": "d5165bcf",
   "metadata": {},
   "source": [
    "Task: Create a program that checks if a given year is a leap year, and if so, check if the next leap year is also a leap year."
   ]
  },
  {
   "cell_type": "markdown",
   "id": "0fbc0b8c",
   "metadata": {},
   "source": [
    "Answer: "
   ]
  },
  {
   "cell_type": "code",
   "execution_count": 1,
   "id": "0cdeaedb",
   "metadata": {},
   "outputs": [
    {
     "name": "stdout",
     "output_type": "stream",
     "text": [
      "Enter a year: 26\n",
      "26 is a leap year: False\n"
     ]
    }
   ],
   "source": [
    "year = int(input(\"Enter a year: \"))\n",
    "\n",
    "if (year % 4 == 0 and year % 100 != 0) or (year % 400 == 0):\n",
    "    is_leap_year = True\n",
    "    next_year = year + 1\n",
    "    if (next_year % 4 == 0 and next_year % 100 != 0) or (next_year % 400 == 0):\n",
    "        next_is_leap_year = True\n",
    "    else:\n",
    "        next_is_leap_year = False\n",
    "else:\n",
    "    is_leap_year = False\n",
    "    next_is_leap_year = False\n",
    "\n",
    "print(f\"{year} is a leap year: {is_leap_year}\")\n",
    "if is_leap_year:\n",
    "    print(f\"The next leap year after {year} is also a leap year: {next_is_leap_year}\")"
   ]
  }
 ],
 "metadata": {
  "kernelspec": {
   "display_name": "Python 3 (ipykernel)",
   "language": "python",
   "name": "python3"
  },
  "language_info": {
   "codemirror_mode": {
    "name": "ipython",
    "version": 3
   },
   "file_extension": ".py",
   "mimetype": "text/x-python",
   "name": "python",
   "nbconvert_exporter": "python",
   "pygments_lexer": "ipython3",
   "version": "3.9.13"
  },
  "toc": {
   "base_numbering": 1,
   "nav_menu": {},
   "number_sections": true,
   "sideBar": true,
   "skip_h1_title": false,
   "title_cell": "Table of Contents",
   "title_sidebar": "Contents",
   "toc_cell": false,
   "toc_position": {},
   "toc_section_display": true,
   "toc_window_display": false
  }
 },
 "nbformat": 4,
 "nbformat_minor": 5
}
