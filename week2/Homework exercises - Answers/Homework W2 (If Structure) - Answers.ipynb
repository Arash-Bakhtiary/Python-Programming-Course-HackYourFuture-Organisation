{
 "cells": [
  {
   "cell_type": "markdown",
   "id": "dbee02f3",
   "metadata": {},
   "source": [
    "# Assignments - W2 (If Structure)"
   ]
  },
  {
   "cell_type": "markdown",
   "id": "bb95fe9e",
   "metadata": {},
   "source": [
    "Assignment 1: Advanced BMI Categorization"
   ]
  },
  {
   "cell_type": "markdown",
   "id": "8f2542e9",
   "metadata": {},
   "source": [
    "Task: Create a program that not only calculates BMI but also categorizes it based on age and BMI value."
   ]
  },
  {
   "cell_type": "markdown",
   "id": "99ccd96f",
   "metadata": {},
   "source": [
    "Answer: "
   ]
  },
  {
   "cell_type": "code",
   "execution_count": 1,
   "id": "23bfceac",
   "metadata": {},
   "outputs": [
    {
     "name": "stdout",
     "output_type": "stream",
     "text": [
      "Enter your age: 37\n",
      "Enter your weight (kg): 80\n",
      "Enter your height (m): 1.79\n",
      "Your BMI is: 24.968009737523797\n",
      "Category: Normal weight\n"
     ]
    }
   ],
   "source": [
    "age = int(input(\"Enter your age: \"))\n",
    "weight = float(input(\"Enter your weight (kg): \"))\n",
    "height = float(input(\"Enter your height (m): \"))\n",
    "\n",
    "bmi = weight / (height ** 2)\n",
    "\n",
    "if age < 18:\n",
    "    if bmi < 18.5:\n",
    "        category = \"Underweight\"\n",
    "    elif 18.5 <= bmi < 24.9:\n",
    "        category = \"Normal weight\"\n",
    "    elif 25 <= bmi < 29.9:\n",
    "        category = \"Overweight\"\n",
    "    else:\n",
    "        category = \"Obese\"\n",
    "else:\n",
    "    if bmi < 20:\n",
    "        category = \"Underweight\"\n",
    "    elif 20 <= bmi < 25:\n",
    "        category = \"Normal weight\"\n",
    "    elif 25 <= bmi < 30:\n",
    "        category = \"Overweight\"\n",
    "    else:\n",
    "        category = \"Obese\"\n",
    "\n",
    "print(\"Your BMI is:\", bmi)\n",
    "print(\"Category:\", category)"
   ]
  },
  {
   "cell_type": "markdown",
   "id": "88bdd140",
   "metadata": {},
   "source": [
    "Assignment 2: Advanced Leap Year Calculation"
   ]
  },
  {
   "cell_type": "markdown",
   "id": "75f21a28",
   "metadata": {},
   "source": [
    "Task: Write a program that checks if a given year is a leap year and, if so, finds the next leap year."
   ]
  },
  {
   "cell_type": "markdown",
   "id": "01eeb0c8",
   "metadata": {},
   "source": [
    "Answer: "
   ]
  },
  {
   "cell_type": "code",
   "execution_count": 2,
   "id": "d82012a3",
   "metadata": {},
   "outputs": [
    {
     "name": "stdout",
     "output_type": "stream",
     "text": [
      "Enter a year: 37\n",
      "37 is a leap year: False\n"
     ]
    }
   ],
   "source": [
    "year = int(input(\"Enter a year: \"))\n",
    "\n",
    "if (year % 4 == 0 and year % 100 != 0) or (year % 400 == 0):\n",
    "    leap_year = True\n",
    "    next_leap_year = year\n",
    "    while True:\n",
    "        next_leap_year += 4\n",
    "        if (next_leap_year % 4 == 0 and next_leap_year % 100 != 0) or (next_leap_year % 400 == 0):\n",
    "            break\n",
    "else:\n",
    "    leap_year = False\n",
    "    next_leap_year = None\n",
    "\n",
    "print(f\"{year} is a leap year: {leap_year}\")\n",
    "if leap_year:\n",
    "    print(f\"The next leap year after {year} is {next_leap_year}\")"
   ]
  },
  {
   "cell_type": "markdown",
   "id": "37095431",
   "metadata": {},
   "source": [
    "Assignment 3: Advanced Triangle Classification"
   ]
  },
  {
   "cell_type": "markdown",
   "id": "1433b40b",
   "metadata": {},
   "source": [
    "Task: Extend the triangle type program to determine if the triangle is also acute, obtuse, or right-angled."
   ]
  },
  {
   "cell_type": "markdown",
   "id": "7e3c5dbd",
   "metadata": {},
   "source": [
    "Answer: "
   ]
  },
  {
   "cell_type": "code",
   "execution_count": 3,
   "id": "97d3bab4",
   "metadata": {},
   "outputs": [
    {
     "name": "stdout",
     "output_type": "stream",
     "text": [
      "Enter the length of side 1: 20\n",
      "Enter the length of side 2: 30\n",
      "Enter the length of side 3: 40\n",
      "Triangle type: Scalene, Obtuse\n"
     ]
    }
   ],
   "source": [
    "import math\n",
    "\n",
    "side1 = float(input(\"Enter the length of side 1: \"))\n",
    "side2 = float(input(\"Enter the length of side 2: \"))\n",
    "side3 = float(input(\"Enter the length of side 3: \"))\n",
    "\n",
    "if side1 == side2 == side3:\n",
    "    triangle_type = \"Equilateral\"\n",
    "elif side1 == side2 or side1 == side3 or side2 == side3:\n",
    "    triangle_type = \"Isosceles\"\n",
    "else:\n",
    "    triangle_type = \"Scalene\"\n",
    "\n",
    "# Calculate angles using Law of Cosines\n",
    "angle1 = math.degrees(math.acos((side2 ** 2 + side3 ** 2 - side1 ** 2) / (2 * side2 * side3)))\n",
    "angle2 = math.degrees(math.acos((side3 ** 2 + side1 ** 2 - side2 ** 2) / (2 * side3 * side1)))\n",
    "angle3 = 180 - angle1 - angle2\n",
    "\n",
    "if angle1 < 90 and angle2 < 90 and angle3 < 90:\n",
    "    triangle_type += \", Acute\"\n",
    "elif angle1 == 90 or angle2 == 90 or angle3 == 90:\n",
    "    triangle_type += \", Right-Angled\"\n",
    "else:\n",
    "    triangle_type += \", Obtuse\"\n",
    "\n",
    "print(\"Triangle type:\", triangle_type)"
   ]
  },
  {
   "cell_type": "markdown",
   "id": "09dfc6c6",
   "metadata": {},
   "source": [
    "Assignment 4: Advanced Movie Ticket Pricing"
   ]
  },
  {
   "cell_type": "markdown",
   "id": "3e201eb0",
   "metadata": {},
   "source": [
    "Task: Modify the movie ticket program to include discounts for students and seniors."
   ]
  },
  {
   "cell_type": "markdown",
   "id": "7b41ca07",
   "metadata": {},
   "source": [
    "Answer: "
   ]
  },
  {
   "cell_type": "code",
   "execution_count": 4,
   "id": "631e4c6d",
   "metadata": {},
   "outputs": [
    {
     "name": "stdout",
     "output_type": "stream",
     "text": [
      "Enter your age: 37\n",
      "Enter the day of the week: 3\n",
      "Ticket cost: 10\n"
     ]
    }
   ],
   "source": [
    "age = int(input(\"Enter your age: \"))\n",
    "day = input(\"Enter the day of the week: \").lower()\n",
    "\n",
    "if age < 18 or age >= 65:\n",
    "    if day == \"saturday\" or day == \"sunday\":\n",
    "        cost = 5\n",
    "    else:\n",
    "        cost = 4\n",
    "else:\n",
    "    if day == \"wednesday\":\n",
    "        cost = 8\n",
    "    else:\n",
    "        cost = 10\n",
    "\n",
    "print(\"Ticket cost:\", cost)"
   ]
  },
  {
   "cell_type": "markdown",
   "id": "cbcbb425",
   "metadata": {},
   "source": [
    "Assignment 5: Advanced Quadrilateral Identification"
   ]
  },
  {
   "cell_type": "markdown",
   "id": "f84a7d76",
   "metadata": {},
   "source": [
    "Task: Extend the quadrilateral program to identify special quadrilaterals like squares, rectangles, parallelograms, or rhombuses."
   ]
  },
  {
   "cell_type": "markdown",
   "id": "6fe275e7",
   "metadata": {},
   "source": [
    "Answer: "
   ]
  },
  {
   "cell_type": "code",
   "execution_count": 5,
   "id": "73b483f7",
   "metadata": {},
   "outputs": [
    {
     "name": "stdout",
     "output_type": "stream",
     "text": [
      "Enter the first angle: 20\n",
      "Enter the second angle: 30\n",
      "Enter the third angle: 40\n",
      "Enter the fourth angle: 60\n",
      "Quadrilateral type: Quadrilateral\n"
     ]
    }
   ],
   "source": [
    "angle1 = int(input(\"Enter the first angle: \"))\n",
    "angle2 = int(input(\"Enter the second angle: \"))\n",
    "angle3 = int(input(\"Enter the third angle: \"))\n",
    "angle4 = int(input(\"Enter the fourth angle: \"))\n",
    "\n",
    "if angle1 == angle2 == angle3 == angle4 == 90:\n",
    "    quadrilateral_type = \"Rectangle or Square\"\n",
    "elif angle1 == angle3 == 90 and angle2 == angle4 == 90:\n",
    "    quadrilateral_type = \"Rectangle\"\n",
    "elif angle1 == angle2 == angle3 == angle4:\n",
    "    quadrilateral_type = \"Square\"\n",
    "elif angle1 == angle3 and angle2 == angle4:\n",
    "    quadrilateral_type = \"Parallelogram or Rhombus\"\n",
    "else:\n",
    "    quadrilateral_type = \"Quadrilateral\"\n",
    "\n",
    "print(\"Quadrilateral type:\", quadrilateral_type)"
   ]
  },
  {
   "cell_type": "markdown",
   "id": "2db5a6f5",
   "metadata": {},
   "source": [
    "Assignment 6: Advanced Student Grading"
   ]
  },
  {
   "cell_type": "markdown",
   "id": "83cfe4ad",
   "metadata": {},
   "source": [
    "Task: Enhance the student grading program to include handling invalid input."
   ]
  },
  {
   "cell_type": "markdown",
   "id": "cd7a0da9",
   "metadata": {},
   "source": [
    "Answer: "
   ]
  },
  {
   "cell_type": "code",
   "execution_count": 6,
   "id": "f40f5807",
   "metadata": {},
   "outputs": [
    {
     "name": "stdout",
     "output_type": "stream",
     "text": [
      "Enter the student's score: 85\n",
      "Grade: B\n"
     ]
    }
   ],
   "source": [
    "try:\n",
    "    score = int(input(\"Enter the student's score: \"))\n",
    "    if 90 <= score <= 100:\n",
    "        grade = \"A\"\n",
    "    elif 80 <= score < 90:\n",
    "        grade = \"B\"\n",
    "    elif 70 <= score < 80:\n",
    "        grade = \"C\"\n",
    "    elif 60 <= score < 70:\n",
    "        grade = \"D\"\n",
    "    elif 0 <= score < 60:\n",
    "        grade = \"F\"\n",
    "    else:\n",
    "        grade = \"Invalid input\"\n",
    "    print(\"Grade:\", grade)\n",
    "except ValueError:\n",
    "    print(\"Invalid input. Please enter a valid score.\")"
   ]
  },
  {
   "cell_type": "markdown",
   "id": "11c25cf0",
   "metadata": {},
   "source": [
    "Assignment 7: Advanced Pangram Check"
   ]
  },
  {
   "cell_type": "markdown",
   "id": "cb2f2fe5",
   "metadata": {},
   "source": [
    "Task: Modify the pangram program to display the missing letters if the sentence is not a pangram."
   ]
  },
  {
   "cell_type": "markdown",
   "id": "cf6aa719",
   "metadata": {},
   "source": [
    "Answer: "
   ]
  },
  {
   "cell_type": "code",
   "execution_count": 7,
   "id": "c033dcde",
   "metadata": {},
   "outputs": [
    {
     "name": "stdout",
     "output_type": "stream",
     "text": [
      "Enter a sentence: hello how are you?\n",
      "Not a pangram. Missing letters: j, v, n, p, d, s, q, i, x, z, t, m, g, c, f, k, b\n",
      "Pangram: False\n"
     ]
    }
   ],
   "source": [
    "import string\n",
    "\n",
    "sentence = input(\"Enter a sentence: \").lower()\n",
    "alphabet = set(string.ascii_lowercase)\n",
    "missing_letters = alphabet.difference(set(sentence))\n",
    "\n",
    "if missing_letters:\n",
    "    pangram = False\n",
    "    print(\"Not a pangram. Missing letters:\", ', '.join(missing_letters))\n",
    "else:\n",
    "    pangram = True\n",
    "\n",
    "print(\"Pangram:\", pangram)"
   ]
  },
  {
   "cell_type": "markdown",
   "id": "cdc4ddf2",
   "metadata": {},
   "source": [
    "Assignment 8: Advanced Point-Rectangle Relationship"
   ]
  },
  {
   "cell_type": "markdown",
   "id": "3bac4af1",
   "metadata": {},
   "source": [
    "Task: Extend the point-rectangle program to also find the closest side of the rectangle to the point."
   ]
  },
  {
   "cell_type": "markdown",
   "id": "9df6be8c",
   "metadata": {},
   "source": [
    "Answer: "
   ]
  },
  {
   "cell_type": "code",
   "execution_count": 8,
   "id": "8c9aaab4",
   "metadata": {},
   "outputs": [
    {
     "name": "stdout",
     "output_type": "stream",
     "text": [
      "Enter the x-coordinate of the point: 2\n",
      "Enter the y-coordinate of the point: 4\n"
     ]
    }
   ],
   "source": [
    "x = float(input(\"Enter the x-coordinate of the point: \"))\n",
    "y = float(input(\"Enter the y-coordinate of the point: \"))\n",
    "\n",
    "if 1 <= x <= 5 and 1 <= y <= 4:\n",
    "    inside_rectangle = True\n",
    "    closest_side = min(x - 1, 5 - x, y - 1, 4 - y)\n",
    "else:\n",
    "    inside_rectangle = False"
   ]
  }
 ],
 "metadata": {
  "kernelspec": {
   "display_name": "Python 3 (ipykernel)",
   "language": "python",
   "name": "python3"
  },
  "language_info": {
   "codemirror_mode": {
    "name": "ipython",
    "version": 3
   },
   "file_extension": ".py",
   "mimetype": "text/x-python",
   "name": "python",
   "nbconvert_exporter": "python",
   "pygments_lexer": "ipython3",
   "version": "3.9.13"
  },
  "toc": {
   "base_numbering": 1,
   "nav_menu": {},
   "number_sections": true,
   "sideBar": true,
   "skip_h1_title": false,
   "title_cell": "Table of Contents",
   "title_sidebar": "Contents",
   "toc_cell": false,
   "toc_position": {},
   "toc_section_display": true,
   "toc_window_display": false
  }
 },
 "nbformat": 4,
 "nbformat_minor": 5
}
