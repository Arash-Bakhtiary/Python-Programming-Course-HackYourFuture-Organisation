{
 "cells": [
  {
   "cell_type": "markdown",
   "id": "dbee02f3",
   "metadata": {},
   "source": [
    "# Assignments - W2 (Arithmetic Operators)"
   ]
  },
  {
   "cell_type": "markdown",
   "id": "bb95fe9e",
   "metadata": {},
   "source": [
    "Assignment 1: Calculate the Factorial Using Recursion"
   ]
  },
  {
   "cell_type": "markdown",
   "id": "8f2542e9",
   "metadata": {},
   "source": [
    "Task: Write a Python program to calculate the factorial of a given number using recursion."
   ]
  },
  {
   "cell_type": "markdown",
   "id": "99ccd96f",
   "metadata": {},
   "source": [
    "Answer: "
   ]
  },
  {
   "cell_type": "code",
   "execution_count": null,
   "id": "23bfceac",
   "metadata": {},
   "outputs": [],
   "source": [
    "def factorial(n):\n",
    "    if n == 0:\n",
    "        return 1\n",
    "    else:\n",
    "        return n * factorial(n - 1)\n",
    "\n",
    "num = int(input(\"Enter a number: \"))\n",
    "print(\"Factorial:\", factorial(num))"
   ]
  },
  {
   "cell_type": "markdown",
   "id": "88bdd140",
   "metadata": {},
   "source": [
    "Assignment 2: Calculate the Exponential Series"
   ]
  },
  {
   "cell_type": "markdown",
   "id": "75f21a28",
   "metadata": {},
   "source": [
    "Task: Write a Python program to calculate the sum of the first n terms of the exponential series using a loop."
   ]
  },
  {
   "cell_type": "markdown",
   "id": "01eeb0c8",
   "metadata": {},
   "source": [
    "Answer: "
   ]
  },
  {
   "cell_type": "code",
   "execution_count": 1,
   "id": "d82012a3",
   "metadata": {},
   "outputs": [
    {
     "name": "stdout",
     "output_type": "stream",
     "text": [
      "Enter the number of terms: 2\n",
      "Enter the value of x: 2\n",
      "Exponential series sum: 3.0\n"
     ]
    }
   ],
   "source": [
    "def exponential_series(n, x):\n",
    "    result = 1\n",
    "    term = 1\n",
    "\n",
    "    for i in range(1, n):\n",
    "        term *= x / i\n",
    "        result += term\n",
    "\n",
    "    return result\n",
    "\n",
    "n = int(input(\"Enter the number of terms: \"))\n",
    "x = float(input(\"Enter the value of x: \"))\n",
    "print(\"Exponential series sum:\", exponential_series(n, x))"
   ]
  },
  {
   "cell_type": "markdown",
   "id": "37095431",
   "metadata": {},
   "source": [
    "Assignment 3: Implement a Stack Using a List"
   ]
  },
  {
   "cell_type": "markdown",
   "id": "1433b40b",
   "metadata": {},
   "source": [
    "Task: Create a Python class that implements a stack data structure using a list, and add methods for push, pop, and checking if the stack is empty."
   ]
  },
  {
   "cell_type": "markdown",
   "id": "7e3c5dbd",
   "metadata": {},
   "source": [
    "Answer: "
   ]
  },
  {
   "cell_type": "code",
   "execution_count": 2,
   "id": "97d3bab4",
   "metadata": {},
   "outputs": [
    {
     "name": "stdout",
     "output_type": "stream",
     "text": [
      "Popped: 2\n",
      "Is empty? False\n"
     ]
    }
   ],
   "source": [
    "class Stack:\n",
    "    def __init__(self):\n",
    "        self.items = []\n",
    "\n",
    "    def push(self, item):\n",
    "        self.items.append(item)\n",
    "\n",
    "    def pop(self):\n",
    "        if not self.is_empty():\n",
    "            return self.items.pop()\n",
    "\n",
    "    def is_empty(self):\n",
    "        return len(self.items) == 0\n",
    "\n",
    "# Example usage\n",
    "stack = Stack()\n",
    "stack.push(1)\n",
    "stack.push(2)\n",
    "print(\"Popped:\", stack.pop())\n",
    "print(\"Is empty?\", stack.is_empty())"
   ]
  },
  {
   "cell_type": "markdown",
   "id": "09dfc6c6",
   "metadata": {},
   "source": [
    "Assignment 4: Implement a Queue Using a List"
   ]
  },
  {
   "cell_type": "markdown",
   "id": "3e201eb0",
   "metadata": {},
   "source": [
    "Task: Create a Python class that implements a queue data structure using a list, and add methods for enqueue, dequeue, and checking if the queue is empty."
   ]
  },
  {
   "cell_type": "markdown",
   "id": "7b41ca07",
   "metadata": {},
   "source": [
    "Answer: "
   ]
  },
  {
   "cell_type": "code",
   "execution_count": 3,
   "id": "631e4c6d",
   "metadata": {},
   "outputs": [
    {
     "name": "stdout",
     "output_type": "stream",
     "text": [
      "Dequeued: 1\n",
      "Is empty? False\n"
     ]
    }
   ],
   "source": [
    "class Queue:\n",
    "    def __init__(self):\n",
    "        self.items = []\n",
    "\n",
    "    def enqueue(self, item):\n",
    "        self.items.insert(0, item)\n",
    "\n",
    "    def dequeue(self):\n",
    "        if not self.is_empty():\n",
    "            return self.items.pop()\n",
    "\n",
    "    def is_empty(self):\n",
    "        return len(self.items) == 0\n",
    "\n",
    "# Example usage\n",
    "queue = Queue()\n",
    "queue.enqueue(1)\n",
    "queue.enqueue(2)\n",
    "print(\"Dequeued:\", queue.dequeue())\n",
    "print(\"Is empty?\", queue.is_empty())"
   ]
  },
  {
   "cell_type": "markdown",
   "id": "cbcbb425",
   "metadata": {},
   "source": [
    "Assignment 5: Implement a Priority Queue Using a List"
   ]
  },
  {
   "cell_type": "markdown",
   "id": "f84a7d76",
   "metadata": {},
   "source": [
    "Task: Create a Python class that implements a priority queue data structure using a list, where each element has a priority, and add methods for enqueue and dequeue based on priority."
   ]
  },
  {
   "cell_type": "markdown",
   "id": "6fe275e7",
   "metadata": {},
   "source": [
    "Answer: "
   ]
  },
  {
   "cell_type": "code",
   "execution_count": 4,
   "id": "73b483f7",
   "metadata": {},
   "outputs": [
    {
     "name": "stdout",
     "output_type": "stream",
     "text": [
      "Dequeued: Task 2\n",
      "Dequeued: Task 1\n"
     ]
    }
   ],
   "source": [
    "class PriorityQueue:\n",
    "    def __init__(self):\n",
    "        self.items = []\n",
    "\n",
    "    def enqueue(self, item, priority):\n",
    "        self.items.append((item, priority))\n",
    "        self.items.sort(key=lambda x: x[1])\n",
    "\n",
    "    def dequeue(self):\n",
    "        if not self.is_empty():\n",
    "            return self.items.pop(0)[0]\n",
    "\n",
    "    def is_empty(self):\n",
    "        return len(self.items) == 0\n",
    "\n",
    "# Example usage\n",
    "priority_queue = PriorityQueue()\n",
    "priority_queue.enqueue(\"Task 1\", 3)\n",
    "priority_queue.enqueue(\"Task 2\", 1)\n",
    "print(\"Dequeued:\", priority_queue.dequeue())\n",
    "print(\"Dequeued:\", priority_queue.dequeue())"
   ]
  },
  {
   "cell_type": "markdown",
   "id": "2db5a6f5",
   "metadata": {},
   "source": [
    "Assignment 6: Implement a Linked List"
   ]
  },
  {
   "cell_type": "markdown",
   "id": "83cfe4ad",
   "metadata": {},
   "source": [
    "Task: Create a Python class that implements a singly linked list with methods for insertion, deletion, and traversal."
   ]
  },
  {
   "cell_type": "markdown",
   "id": "cd7a0da9",
   "metadata": {},
   "source": [
    "Answer: "
   ]
  },
  {
   "cell_type": "code",
   "execution_count": 5,
   "id": "f40f5807",
   "metadata": {},
   "outputs": [
    {
     "name": "stdout",
     "output_type": "stream",
     "text": [
      "1 -> 2 -> 3 -> None\n",
      "1 -> 3 -> None\n"
     ]
    }
   ],
   "source": [
    "class Node:\n",
    "    def __init__(self, data):\n",
    "        self.data = data\n",
    "        self.next = None\n",
    "\n",
    "class LinkedList:\n",
    "    def __init__(self):\n",
    "        self.head = None\n",
    "\n",
    "    def insert(self, data):\n",
    "        new_node = Node(data)\n",
    "        if not self.head:\n",
    "            self.head = new_node\n",
    "        else:\n",
    "            current = self.head\n",
    "            while current.next:\n",
    "                current = current.next\n",
    "            current.next = new_node\n",
    "\n",
    "    def delete(self, data):\n",
    "        if not self.head:\n",
    "            return\n",
    "        \n",
    "        if self.head.data == data:\n",
    "            self.head = self.head.next\n",
    "            return\n",
    "        \n",
    "        current = self.head\n",
    "        while current.next:\n",
    "            if current.next.data == data:\n",
    "                current.next = current.next.next\n",
    "                return\n",
    "            current = current.next\n",
    "\n",
    "    def display(self):\n",
    "        current = self.head\n",
    "        while current:\n",
    "            print(current.data, end=\" -> \")\n",
    "            current = current.next\n",
    "        print(\"None\")\n",
    "\n",
    "# Example usage\n",
    "linked_list = LinkedList()\n",
    "linked_list.insert(1)\n",
    "linked_list.insert(2)\n",
    "linked_list.insert(3)\n",
    "linked_list.display()\n",
    "linked_list.delete(2)\n",
    "linked_list.display()"
   ]
  },
  {
   "cell_type": "markdown",
   "id": "11c25cf0",
   "metadata": {},
   "source": [
    "Assignment 7: Implement a Doubly Linked List"
   ]
  },
  {
   "cell_type": "markdown",
   "id": "cb2f2fe5",
   "metadata": {},
   "source": [
    "Task: Create a Python class that implements a doubly linked list with methods for insertion, deletion, and traversal in both directions."
   ]
  },
  {
   "cell_type": "markdown",
   "id": "cf6aa719",
   "metadata": {},
   "source": [
    "Answer: "
   ]
  },
  {
   "cell_type": "code",
   "execution_count": 6,
   "id": "c033dcde",
   "metadata": {},
   "outputs": [
    {
     "name": "stdout",
     "output_type": "stream",
     "text": [
      "Forward:\n",
      "1 -> 2 -> 3 -> None\n",
      "Backward:\n",
      "3 -> 2 -> 1 -> None\n",
      "Forward after deletion:\n",
      "1 -> 3 -> None\n"
     ]
    }
   ],
   "source": [
    "class Node:\n",
    "    def __init__(self, data):\n",
    "        self.data = data\n",
    "        self.prev = None\n",
    "        self.next = None\n",
    "\n",
    "class DoublyLinkedList:\n",
    "    def __init__(self):\n",
    "        self.head = None\n",
    "\n",
    "    def insert(self, data):\n",
    "        new_node = Node(data)\n",
    "        if not self.head:\n",
    "            self.head = new_node\n",
    "        else:\n",
    "            current = self.head\n",
    "            while current.next:\n",
    "                current = current.next\n",
    "            current.next = new_node\n",
    "            new_node.prev = current\n",
    "\n",
    "    def delete(self, data):\n",
    "        if not self.head:\n",
    "            return\n",
    "        \n",
    "        if self.head.data == data:\n",
    "            self.head = self.head.next\n",
    "            if self.head:\n",
    "                self.head.prev = None\n",
    "            return\n",
    "        \n",
    "        current = self.head\n",
    "        while current.next:\n",
    "            if current.next.data == data:\n",
    "                current.next = current.next.next\n",
    "                if current.next:\n",
    "                    current.next.prev = current\n",
    "                return\n",
    "            current = current.next\n",
    "\n",
    "    def display_forward(self):\n",
    "        current = self.head\n",
    "        while current:\n",
    "            print(current.data, end=\" -> \")\n",
    "            current = current.next\n",
    "        print(\"None\")\n",
    "\n",
    "    def display_backward(self):\n",
    "        current = self.head\n",
    "        while current and current.next:\n",
    "            current = current.next\n",
    "        while current:\n",
    "            print(current.data, end=\" -> \")\n",
    "            current = current.prev\n",
    "        print(\"None\")\n",
    "\n",
    "# Example usage\n",
    "doubly_linked_list = DoublyLinkedList()\n",
    "doubly_linked_list.insert(1)\n",
    "doubly_linked_list.insert(2)\n",
    "doubly_linked_list.insert(3)\n",
    "print(\"Forward:\")\n",
    "doubly_linked_list.display_forward()\n",
    "print(\"Backward:\")\n",
    "doubly_linked_list.display_backward()\n",
    "doubly_linked_list.delete(2)\n",
    "print(\"Forward after deletion:\")\n",
    "doubly_linked_list.display_forward()"
   ]
  },
  {
   "cell_type": "markdown",
   "id": "cdc4ddf2",
   "metadata": {},
   "source": [
    "Assignment 8: Implement a Binary Search Tree (BST)"
   ]
  },
  {
   "cell_type": "markdown",
   "id": "3bac4af1",
   "metadata": {},
   "source": [
    "Task: Create a Python class that implements a binary search tree with methods for insertion, deletion, and traversal."
   ]
  },
  {
   "cell_type": "markdown",
   "id": "9df6be8c",
   "metadata": {},
   "source": [
    "Answer: "
   ]
  },
  {
   "cell_type": "code",
   "execution_count": 7,
   "id": "8c9aaab4",
   "metadata": {},
   "outputs": [
    {
     "name": "stdout",
     "output_type": "stream",
     "text": [
      "Inorder traversal: [2, 3, 4, 5, 7, 8, 9]\n",
      "Inorder traversal after deletion: [2, 3, 5, 7, 8, 9]\n"
     ]
    }
   ],
   "source": [
    "class TreeNode:\n",
    "    def __init__(self, key):\n",
    "        self.key = key\n",
    "        self.left = None\n",
    "        self.right = None\n",
    "\n",
    "class BinarySearchTree:\n",
    "    def __init__(self):\n",
    "        self.root = None\n",
    "\n",
    "    def insert(self, key):\n",
    "        self.root = self._insert(self.root, key)\n",
    "\n",
    "    def _insert(self, node, key):\n",
    "        if not node:\n",
    "            return TreeNode(key)\n",
    "        if key < node.key:\n",
    "            node.left = self._insert(node.left, key)\n",
    "        elif key > node.key:\n",
    "            node.right = self._insert(node.right, key)\n",
    "        return node\n",
    "\n",
    "    def delete(self, key):\n",
    "        self.root = self._delete(self.root, key)\n",
    "\n",
    "    def _delete(self, node, key):\n",
    "        if not node:\n",
    "            return node\n",
    "\n",
    "        if key < node.key:\n",
    "            node.left = self._delete(node.left, key)\n",
    "        elif key > node.key:\n",
    "            node.right = self._delete(node.right, key)\n",
    "        else:\n",
    "            if not node.left:\n",
    "                return node.right\n",
    "            elif not node.right:\n",
    "                return node.left\n",
    "\n",
    "            min_key = self._find_min(node.right)\n",
    "            node.key = min_key\n",
    "            node.right = self._delete(node.right, min_key)\n",
    "        \n",
    "        return node\n",
    "\n",
    "    def _find_min(self, node):\n",
    "        while node.left:\n",
    "            node = node.left\n",
    "        return node.key\n",
    "\n",
    "    def inorder_traversal(self):\n",
    "        result = []\n",
    "        self._inorder(self.root, result)\n",
    "        return result\n",
    "\n",
    "    def _inorder(self, node, result):\n",
    "        if node:\n",
    "            self._inorder(node.left, result)\n",
    "            result.append(node.key)\n",
    "            self._inorder(node.right, result)\n",
    "\n",
    "# Example usage\n",
    "bst = BinarySearchTree()\n",
    "bst.insert(5)\n",
    "bst.insert(3)\n",
    "bst.insert(8)\n",
    "bst.insert(2)\n",
    "bst.insert(4)\n",
    "bst.insert(7)\n",
    "bst.insert(9)\n",
    "print(\"Inorder traversal:\", bst.inorder_traversal())\n",
    "bst.delete(4)\n",
    "print(\"Inorder traversal after deletion:\", bst.inorder_traversal())"
   ]
  },
  {
   "cell_type": "markdown",
   "id": "e43e041d",
   "metadata": {},
   "source": [
    "Assignment 9: Implement a Hash Map"
   ]
  },
  {
   "cell_type": "markdown",
   "id": "3abf243f",
   "metadata": {},
   "source": [
    "Task: Create a Python class that implements a hash map (dictionary) with methods for insertion, deletion, and retrieval."
   ]
  },
  {
   "cell_type": "markdown",
   "id": "eb634cfb",
   "metadata": {},
   "source": [
    "Answer: "
   ]
  },
  {
   "cell_type": "code",
   "execution_count": 8,
   "id": "f3678f70",
   "metadata": {},
   "outputs": [
    {
     "name": "stdout",
     "output_type": "stream",
     "text": [
      "Name: Alice\n",
      "Age: 30\n"
     ]
    }
   ],
   "source": [
    "class HashMap:\n",
    "    def __init__(self):\n",
    "        self.table = [None] * 1000\n",
    "\n",
    "    def _hash(self, key):\n",
    "        return hash(key) % 1000\n",
    "\n",
    "    def insert(self, key, value):\n",
    "        index = self._hash(key)\n",
    "        if not self.table[index]:\n",
    "            self.table[index] = []\n",
    "        self.table[index].append((key, value))\n",
    "\n",
    "    def get(self, key):\n",
    "        index = self._hash(key)\n",
    "        if not self.table[index]:\n",
    "            raise KeyError(f\"Key '{key}' not found in the hash table.\")\n",
    "        for k, v in self.table[index]:\n",
    "            if k == key:\n",
    "                return v\n",
    "        raise KeyError(f\"Key '{key}' not found in the hash table.\")\n",
    "\n",
    "    def delete(self, key):\n",
    "        index = self._hash(key)\n",
    "        if not self.table[index]:\n",
    "            raise KeyError(f\"Key '{key}' not found in the hash table.\")\n",
    "        for i, (k, v) in enumerate(self.table[index]):\n",
    "            if k == key:\n",
    "                del self.table[index][i]\n",
    "                return\n",
    "        raise KeyError(f\"Key '{key}' not found in the hash table.\")\n",
    "\n",
    "# Example usage\n",
    "hash_map = HashMap()\n",
    "hash_map.insert(\"name\", \"Alice\")\n",
    "hash_map.insert(\"age\", 30)\n",
    "print(\"Name:\", hash_map.get(\"name\"))\n",
    "print(\"Age:\", hash_map.get(\"age\"))\n",
    "hash_map.delete(\"age\")"
   ]
  },
  {
   "cell_type": "markdown",
   "id": "9a09b603",
   "metadata": {},
   "source": [
    "Assignment 10: Calculate Compound Interest"
   ]
  },
  {
   "cell_type": "markdown",
   "id": "d5165bcf",
   "metadata": {},
   "source": [
    "Task: Write a program that calculates the compound interest for a given principal amount, interest rate (compounded annually), and time period in years. Ensure the interest rate is entered as a percentage."
   ]
  },
  {
   "cell_type": "markdown",
   "id": "0fbc0b8c",
   "metadata": {},
   "source": [
    "Answer: "
   ]
  },
  {
   "cell_type": "code",
   "execution_count": 11,
   "id": "0cdeaedb",
   "metadata": {},
   "outputs": [
    {
     "name": "stdout",
     "output_type": "stream",
     "text": [
      "Enter the principal amount: 2\n",
      "Enter the annual interest rate (in percentage): 4\n",
      "Enter the time period (in years): 5\n",
      "Compound Interest: 0.43330580480000025\n"
     ]
    }
   ],
   "source": [
    "principal = float(input(\"Enter the principal amount: \"))\n",
    "annual_rate_percentage = float(input(\"Enter the annual interest rate (in percentage): \"))\n",
    "time_years = int(input(\"Enter the time period (in years): \"))\n",
    "\n",
    "rate = annual_rate_percentage / 100\n",
    "compound_interest = principal * (1 + rate) ** time_years - principal\n",
    "\n",
    "print(\"Compound Interest:\", compound_interest)"
   ]
  }
 ],
 "metadata": {
  "kernelspec": {
   "display_name": "Python 3 (ipykernel)",
   "language": "python",
   "name": "python3"
  },
  "language_info": {
   "codemirror_mode": {
    "name": "ipython",
    "version": 3
   },
   "file_extension": ".py",
   "mimetype": "text/x-python",
   "name": "python",
   "nbconvert_exporter": "python",
   "pygments_lexer": "ipython3",
   "version": "3.9.13"
  },
  "toc": {
   "base_numbering": 1,
   "nav_menu": {},
   "number_sections": true,
   "sideBar": true,
   "skip_h1_title": false,
   "title_cell": "Table of Contents",
   "title_sidebar": "Contents",
   "toc_cell": false,
   "toc_position": {},
   "toc_section_display": true,
   "toc_window_display": false
  }
 },
 "nbformat": 4,
 "nbformat_minor": 5
}
