{
 "cells": [
  {
   "cell_type": "markdown",
   "id": "dbee02f3",
   "metadata": {},
   "source": [
    "# Assignments - W2 (Comparison Operators)"
   ]
  },
  {
   "cell_type": "markdown",
   "id": "bb95fe9e",
   "metadata": {},
   "source": [
    "Assignment 1: Comparing Lists of Tuples"
   ]
  },
  {
   "cell_type": "markdown",
   "id": "8f2542e9",
   "metadata": {},
   "source": [
    "Task: Write a program that checks if two lists of tuples have the same elements."
   ]
  },
  {
   "cell_type": "markdown",
   "id": "99ccd96f",
   "metadata": {},
   "source": [
    "Answer: "
   ]
  },
  {
   "cell_type": "code",
   "execution_count": 10,
   "id": "23bfceac",
   "metadata": {},
   "outputs": [
    {
     "name": "stdout",
     "output_type": "stream",
     "text": [
      "True\n"
     ]
    }
   ],
   "source": [
    "list1 = [(1, 'apple'), (2, 'banana'), (3, 'cherry')]\n",
    "list2 = [(3, 'cherry'), (1, 'apple'), (2, 'banana')]\n",
    "\n",
    "result = sorted(list1) == sorted(list2)\n",
    "print(result)"
   ]
  },
  {
   "cell_type": "markdown",
   "id": "88bdd140",
   "metadata": {},
   "source": [
    "Assignment 2: Comparing Sets of Sets"
   ]
  },
  {
   "cell_type": "markdown",
   "id": "75f21a28",
   "metadata": {},
   "source": [
    "Task: Create a program that compares two sets of sets and checks if they have at least one element in common."
   ]
  },
  {
   "cell_type": "markdown",
   "id": "01eeb0c8",
   "metadata": {},
   "source": [
    "Answer: "
   ]
  },
  {
   "cell_type": "code",
   "execution_count": 9,
   "id": "d82012a3",
   "metadata": {},
   "outputs": [
    {
     "name": "stdout",
     "output_type": "stream",
     "text": [
      "True\n"
     ]
    }
   ],
   "source": [
    "set1 = {frozenset({1, 2}), frozenset({3, 4})}\n",
    "set2 = {frozenset({3, 4}), frozenset({5, 6})}\n",
    "\n",
    "have_common_element = any(s1 & s2 for s1 in set1 for s2 in set2)\n",
    "print(have_common_element)"
   ]
  },
  {
   "cell_type": "markdown",
   "id": "37095431",
   "metadata": {},
   "source": [
    "Assignment 3: Comparing Dictionaries"
   ]
  },
  {
   "cell_type": "markdown",
   "id": "1433b40b",
   "metadata": {},
   "source": [
    "Task: Write a program that compares two dictionaries and checks if they have the same keys and values."
   ]
  },
  {
   "cell_type": "markdown",
   "id": "7e3c5dbd",
   "metadata": {},
   "source": [
    "Answer: "
   ]
  },
  {
   "cell_type": "code",
   "execution_count": 8,
   "id": "97d3bab4",
   "metadata": {},
   "outputs": [
    {
     "name": "stdout",
     "output_type": "stream",
     "text": [
      "True\n"
     ]
    }
   ],
   "source": [
    "dict1 = {'a': 5, 'b': 3, 'c': 6}\n",
    "dict2 = {'a': 5, 'b': 3, 'c': 6}\n",
    "\n",
    "result = dict1 == dict2\n",
    "print(result)"
   ]
  },
  {
   "cell_type": "markdown",
   "id": "09dfc6c6",
   "metadata": {},
   "source": [
    "Assignment 4: Comparing Nested Lists"
   ]
  },
  {
   "cell_type": "markdown",
   "id": "3e201eb0",
   "metadata": {},
   "source": [
    "Task: Create a program that checks if two nested lists have the same structure and elements."
   ]
  },
  {
   "cell_type": "markdown",
   "id": "7b41ca07",
   "metadata": {},
   "source": [
    "Answer: "
   ]
  },
  {
   "cell_type": "code",
   "execution_count": 7,
   "id": "631e4c6d",
   "metadata": {},
   "outputs": [
    {
     "name": "stdout",
     "output_type": "stream",
     "text": [
      "True\n"
     ]
    }
   ],
   "source": [
    "list1 = [[1, 2], [3, 4], [5, 6]]\n",
    "list2 = [[1, 2], [3, 4], [5, 6]]\n",
    "\n",
    "def deep_equal(list1, list2):\n",
    "    if len(list1) != len(list2):\n",
    "        return False\n",
    "    for a, b in zip(list1, list2):\n",
    "        if type(a) == list and type(b) == list:\n",
    "            if not deep_equal(a, b):\n",
    "                return False\n",
    "        elif a != b:\n",
    "            return False\n",
    "    return True\n",
    "\n",
    "result = deep_equal(list1, list2)\n",
    "print(result)"
   ]
  },
  {
   "cell_type": "markdown",
   "id": "cbcbb425",
   "metadata": {},
   "source": [
    "Assignment 5: Comparing Custom Objects"
   ]
  },
  {
   "cell_type": "markdown",
   "id": "f84a7d76",
   "metadata": {},
   "source": [
    "Task: Write a program that compares two instances of a custom class based on their attributes."
   ]
  },
  {
   "cell_type": "markdown",
   "id": "6fe275e7",
   "metadata": {},
   "source": [
    "Answer: "
   ]
  },
  {
   "cell_type": "code",
   "execution_count": 6,
   "id": "73b483f7",
   "metadata": {},
   "outputs": [
    {
     "name": "stdout",
     "output_type": "stream",
     "text": [
      "False\n"
     ]
    }
   ],
   "source": [
    "class Student:\n",
    "    def __init__(self, name, age):\n",
    "        self.name = name\n",
    "        self.age = age\n",
    "\n",
    "student1 = Student('Alice', 20)\n",
    "student2 = Student('Bob', 22)\n",
    "\n",
    "result = student1.__dict__ == student2.__dict__\n",
    "print(result)"
   ]
  },
  {
   "cell_type": "markdown",
   "id": "2db5a6f5",
   "metadata": {},
   "source": [
    "Assignment 6: Comparing Bit Patterns"
   ]
  },
  {
   "cell_type": "markdown",
   "id": "83cfe4ad",
   "metadata": {},
   "source": [
    "Task: Create a program that checks if two integers have at least 4 bits in common (both set to 1)."
   ]
  },
  {
   "cell_type": "markdown",
   "id": "cd7a0da9",
   "metadata": {},
   "source": [
    "Answer: "
   ]
  },
  {
   "cell_type": "code",
   "execution_count": 5,
   "id": "f40f5807",
   "metadata": {},
   "outputs": [
    {
     "name": "stdout",
     "output_type": "stream",
     "text": [
      "False\n"
     ]
    }
   ],
   "source": [
    "int1 = 0b11011010\n",
    "int2 = 0b10110101\n",
    "\n",
    "result = bin(int1 & int2).count('1') >= 4\n",
    "print(result)"
   ]
  },
  {
   "cell_type": "markdown",
   "id": "11c25cf0",
   "metadata": {},
   "source": [
    "Assignment 7: Comparing Dates"
   ]
  },
  {
   "cell_type": "markdown",
   "id": "cb2f2fe5",
   "metadata": {},
   "source": [
    "Task: Write a program that compares two dates represented as tuples (year, month, day) and checks if one is earlier than the other."
   ]
  },
  {
   "cell_type": "markdown",
   "id": "cf6aa719",
   "metadata": {},
   "source": [
    "Answer: "
   ]
  },
  {
   "cell_type": "code",
   "execution_count": 4,
   "id": "c033dcde",
   "metadata": {},
   "outputs": [
    {
     "name": "stdout",
     "output_type": "stream",
     "text": [
      "True\n"
     ]
    }
   ],
   "source": [
    "date1 = (2022, 9, 1)\n",
    "date2 = (2023, 3, 15)\n",
    "\n",
    "result = date1 < date2\n",
    "print(result)"
   ]
  },
  {
   "cell_type": "markdown",
   "id": "cdc4ddf2",
   "metadata": {},
   "source": [
    "Assignment 8: Comparing Matrices"
   ]
  },
  {
   "cell_type": "markdown",
   "id": "3bac4af1",
   "metadata": {},
   "source": [
    "Task: Create a program that compares two matrices (lists of lists) and checks if they have the same dimensions and elements."
   ]
  },
  {
   "cell_type": "markdown",
   "id": "9df6be8c",
   "metadata": {},
   "source": [
    "Answer: "
   ]
  },
  {
   "cell_type": "code",
   "execution_count": 3,
   "id": "8c9aaab4",
   "metadata": {},
   "outputs": [
    {
     "name": "stdout",
     "output_type": "stream",
     "text": [
      "True\n"
     ]
    }
   ],
   "source": [
    "matrix1 = [[1, 2], [3, 4]]\n",
    "matrix2 = [[1, 2], [3, 4]]\n",
    "\n",
    "result = all(row1 == row2 for row1, row2 in zip(matrix1, matrix2))\n",
    "print(result)"
   ]
  },
  {
   "cell_type": "markdown",
   "id": "e43e041d",
   "metadata": {},
   "source": [
    "Assignment 9: Comparing JSON Data"
   ]
  },
  {
   "cell_type": "markdown",
   "id": "3abf243f",
   "metadata": {},
   "source": [
    "Task: Write a program that compares two JSON objects and checks if they have the same structure and values."
   ]
  },
  {
   "cell_type": "markdown",
   "id": "eb634cfb",
   "metadata": {},
   "source": [
    "Answer: "
   ]
  },
  {
   "cell_type": "code",
   "execution_count": 2,
   "id": "f3678f70",
   "metadata": {},
   "outputs": [
    {
     "name": "stdout",
     "output_type": "stream",
     "text": [
      "True\n"
     ]
    }
   ],
   "source": [
    "import json\n",
    "\n",
    "json_str1 = '{\"name\": \"Alice\", \"age\": 25}'\n",
    "json_str2 = '{\"age\": 25, \"name\": \"Alice\"}'\n",
    "\n",
    "data1 = json.loads(json_str1)\n",
    "data2 = json.loads(json_str2)\n",
    "\n",
    "result = data1 == data2\n",
    "print(result)"
   ]
  },
  {
   "cell_type": "markdown",
   "id": "9a09b603",
   "metadata": {},
   "source": [
    "Assignment 10: Comparing Strings with Wildcards"
   ]
  },
  {
   "cell_type": "markdown",
   "id": "d5165bcf",
   "metadata": {},
   "source": [
    "Task: Create a program that compares two strings with wildcard characters (*) and checks if they match."
   ]
  },
  {
   "cell_type": "markdown",
   "id": "0fbc0b8c",
   "metadata": {},
   "source": [
    "Answer: "
   ]
  },
  {
   "cell_type": "code",
   "execution_count": 1,
   "id": "0cdeaedb",
   "metadata": {},
   "outputs": [
    {
     "name": "stdout",
     "output_type": "stream",
     "text": [
      "True True\n"
     ]
    }
   ],
   "source": [
    "def wildcard_match(pattern, text):\n",
    "    if pattern == text:\n",
    "        return True\n",
    "    if '*' not in pattern:\n",
    "        return False\n",
    "    parts = pattern.split('*')\n",
    "    if len(parts) != 2:\n",
    "        return False\n",
    "    return text.startswith(parts[0]) and text.endswith(parts[1])\n",
    "\n",
    "pattern = \"abc*def\"\n",
    "text1 = \"abcdef\"\n",
    "text2 = \"abcxyzdef\"\n",
    "\n",
    "result1 = wildcard_match(pattern, text1)\n",
    "result2 = wildcard_match(pattern, text2)\n",
    "\n",
    "print(result1, result2)"
   ]
  }
 ],
 "metadata": {
  "kernelspec": {
   "display_name": "Python 3 (ipykernel)",
   "language": "python",
   "name": "python3"
  },
  "language_info": {
   "codemirror_mode": {
    "name": "ipython",
    "version": 3
   },
   "file_extension": ".py",
   "mimetype": "text/x-python",
   "name": "python",
   "nbconvert_exporter": "python",
   "pygments_lexer": "ipython3",
   "version": "3.9.13"
  },
  "toc": {
   "base_numbering": 1,
   "nav_menu": {},
   "number_sections": true,
   "sideBar": true,
   "skip_h1_title": false,
   "title_cell": "Table of Contents",
   "title_sidebar": "Contents",
   "toc_cell": false,
   "toc_position": {},
   "toc_section_display": true,
   "toc_window_display": false
  }
 },
 "nbformat": 4,
 "nbformat_minor": 5
}
