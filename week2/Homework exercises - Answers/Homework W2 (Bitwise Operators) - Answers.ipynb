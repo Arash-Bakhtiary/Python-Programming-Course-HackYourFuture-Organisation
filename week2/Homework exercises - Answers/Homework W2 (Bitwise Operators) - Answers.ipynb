{
 "cells": [
  {
   "cell_type": "markdown",
   "id": "dbee02f3",
   "metadata": {},
   "source": [
    "# Assignments - W2 (Bitwise Operators)"
   ]
  },
  {
   "cell_type": "markdown",
   "id": "bb95fe9e",
   "metadata": {},
   "source": [
    "Assignment 1: Using Bitwise Operators with Lists"
   ]
  },
  {
   "cell_type": "markdown",
   "id": "8f2542e9",
   "metadata": {},
   "source": [
    "Task: Write a program that performs a bitwise XOR operation on two lists of integers element-wise."
   ]
  },
  {
   "cell_type": "markdown",
   "id": "99ccd96f",
   "metadata": {},
   "source": [
    "Answer: "
   ]
  },
  {
   "cell_type": "code",
   "execution_count": 8,
   "id": "23bfceac",
   "metadata": {},
   "outputs": [
    {
     "name": "stdout",
     "output_type": "stream",
     "text": [
      "[6, 6, 15, 15]\n"
     ]
    }
   ],
   "source": [
    "list1 = [5, 3, 6, 9]\n",
    "list2 = [3, 5, 9, 6]\n",
    "result = [a ^ b for a, b in zip(list1, list2)]\n",
    "print(result)"
   ]
  },
  {
   "cell_type": "markdown",
   "id": "88bdd140",
   "metadata": {},
   "source": [
    "Assignment 2: Using Bitwise Operators with Sets"
   ]
  },
  {
   "cell_type": "markdown",
   "id": "75f21a28",
   "metadata": {},
   "source": [
    "Task: Create a program that checks if two sets have any common elements using bitwise AND."
   ]
  },
  {
   "cell_type": "markdown",
   "id": "01eeb0c8",
   "metadata": {},
   "source": [
    "Answer: "
   ]
  },
  {
   "cell_type": "code",
   "execution_count": 9,
   "id": "d82012a3",
   "metadata": {},
   "outputs": [
    {
     "name": "stdout",
     "output_type": "stream",
     "text": [
      "True\n"
     ]
    }
   ],
   "source": [
    "set1 = {1, 2, 3, 4}\n",
    "set2 = {3, 4, 5, 6}\n",
    "have_common_elements = not set1.isdisjoint(set2)\n",
    "print(have_common_elements)"
   ]
  },
  {
   "cell_type": "markdown",
   "id": "37095431",
   "metadata": {},
   "source": [
    "Assignment 3: Using Bitwise Operators with Dictionaries"
   ]
  },
  {
   "cell_type": "markdown",
   "id": "1433b40b",
   "metadata": {},
   "source": [
    "Task: Write a program that performs a bitwise OR operation between two dictionaries of integers with the same keys."
   ]
  },
  {
   "cell_type": "markdown",
   "id": "7e3c5dbd",
   "metadata": {},
   "source": [
    "Answer: "
   ]
  },
  {
   "cell_type": "code",
   "execution_count": 10,
   "id": "97d3bab4",
   "metadata": {},
   "outputs": [
    {
     "name": "stdout",
     "output_type": "stream",
     "text": [
      "{'a': 7, 'b': 7, 'c': 15}\n"
     ]
    }
   ],
   "source": [
    "dict1 = {'a': 5, 'b': 3, 'c': 6}\n",
    "dict2 = {'a': 3, 'b': 5, 'c': 9}\n",
    "result = {key: dict1[key] | dict2[key] for key in dict1}\n",
    "print(result)"
   ]
  },
  {
   "cell_type": "markdown",
   "id": "09dfc6c6",
   "metadata": {},
   "source": [
    "Assignment 4: Using Bitwise Operators with Strings"
   ]
  },
  {
   "cell_type": "markdown",
   "id": "3e201eb0",
   "metadata": {},
   "source": [
    "Task: Create a program that performs a bitwise XOR operation on two strings character-wise."
   ]
  },
  {
   "cell_type": "markdown",
   "id": "7b41ca07",
   "metadata": {},
   "source": [
    "Answer: "
   ]
  },
  {
   "cell_type": "code",
   "execution_count": 12,
   "id": "631e4c6d",
   "metadata": {},
   "outputs": [
    {
     "name": "stdout",
     "output_type": "stream",
     "text": [
      "\u001f\n",
      "\u001e",
      "\u0000\u000b",
      "\n"
     ]
    }
   ],
   "source": [
    "string1 = \"Hello\"\n",
    "string2 = \"World\"\n",
    "result = ''.join(chr(ord(a) ^ ord(b)) for a, b in zip(string1, string2))\n",
    "print(result)"
   ]
  },
  {
   "cell_type": "markdown",
   "id": "cbcbb425",
   "metadata": {},
   "source": [
    "Assignment 5: Using Bitwise Operators with NumPy Arrays"
   ]
  },
  {
   "cell_type": "markdown",
   "id": "f84a7d76",
   "metadata": {},
   "source": [
    "Task: Write a program that applies a custom bitwise operation (e.g., element-wise addition and bitwise AND) on two NumPy arrays."
   ]
  },
  {
   "cell_type": "markdown",
   "id": "6fe275e7",
   "metadata": {},
   "source": [
    "Answer: "
   ]
  },
  {
   "cell_type": "code",
   "execution_count": 13,
   "id": "73b483f7",
   "metadata": {},
   "outputs": [
    {
     "name": "stdout",
     "output_type": "stream",
     "text": [
      "[ 8  8 15 15]\n"
     ]
    }
   ],
   "source": [
    "import numpy as np\n",
    "\n",
    "array1 = np.array([5, 3, 6, 9])\n",
    "array2 = np.array([3, 5, 9, 6])\n",
    "result = (array1 + array2) & 0b1111  # Custom bitwise operation\n",
    "print(result)"
   ]
  },
  {
   "cell_type": "markdown",
   "id": "2db5a6f5",
   "metadata": {},
   "source": [
    "Assignment 6: Using Bitwise Operators with Custom Data Structures"
   ]
  },
  {
   "cell_type": "markdown",
   "id": "83cfe4ad",
   "metadata": {},
   "source": [
    "Task: Create a custom class that overloads bitwise operators and write a program that demonstrates their usage."
   ]
  },
  {
   "cell_type": "markdown",
   "id": "cd7a0da9",
   "metadata": {},
   "source": [
    "Answer: "
   ]
  },
  {
   "cell_type": "code",
   "execution_count": 14,
   "id": "f40f5807",
   "metadata": {},
   "outputs": [
    {
     "name": "stdout",
     "output_type": "stream",
     "text": [
      "1 7\n"
     ]
    }
   ],
   "source": [
    "class MyBitwiseClass:\n",
    "    def __init__(self, value):\n",
    "        self.value = value\n",
    "\n",
    "    def __and__(self, other):\n",
    "        return self.value & other\n",
    "\n",
    "    def __or__(self, other):\n",
    "        return self.value | other\n",
    "\n",
    "x = MyBitwiseClass(5)\n",
    "y = MyBitwiseClass(3)\n",
    "result1 = x & 3\n",
    "result2 = x | y.value\n",
    "print(result1, result2)"
   ]
  },
  {
   "cell_type": "markdown",
   "id": "11c25cf0",
   "metadata": {},
   "source": [
    "Assignment 7: Bit Manipulation for Flags"
   ]
  },
  {
   "cell_type": "markdown",
   "id": "cb2f2fe5",
   "metadata": {},
   "source": [
    "Task: Create a program that sets and checks individual flags within an integer to represent different states."
   ]
  },
  {
   "cell_type": "markdown",
   "id": "cf6aa719",
   "metadata": {},
   "source": [
    "Answer: "
   ]
  },
  {
   "cell_type": "code",
   "execution_count": 15,
   "id": "c033dcde",
   "metadata": {},
   "outputs": [
    {
     "name": "stdout",
     "output_type": "stream",
     "text": [
      "False\n"
     ]
    }
   ],
   "source": [
    "# Constants for flags\n",
    "FLAG_A = 0b0001  # Bit 0 represents Flag A\n",
    "FLAG_B = 0b0010  # Bit 1 represents Flag B\n",
    "FLAG_C = 0b0100  # Bit 2 represents Flag C\n",
    "FLAG_D = 0b1000  # Bit 3 represents Flag D\n",
    "\n",
    "# Set Flag A and Flag C\n",
    "state = 0\n",
    "state |= FLAG_A\n",
    "state |= FLAG_C\n",
    "\n",
    "# Check if Flag B is set\n",
    "is_flag_b_set = state & FLAG_B != 0\n",
    "print(is_flag_b_set)"
   ]
  },
  {
   "cell_type": "markdown",
   "id": "e43e041d",
   "metadata": {},
   "source": [
    "Assignment 8: Using Bitwise Operators for Access Control"
   ]
  },
  {
   "cell_type": "markdown",
   "id": "3abf243f",
   "metadata": {},
   "source": [
    "Task: Create a program that simulates access control using bitwise operators to grant or deny access based on permission flags."
   ]
  },
  {
   "cell_type": "markdown",
   "id": "eb634cfb",
   "metadata": {},
   "source": [
    "Answer: "
   ]
  },
  {
   "cell_type": "code",
   "execution_count": 3,
   "id": "f3678f70",
   "metadata": {},
   "outputs": [
    {
     "name": "stdout",
     "output_type": "stream",
     "text": [
      "True\n"
     ]
    }
   ],
   "source": [
    "READ_PERMISSION = 0b0001\n",
    "WRITE_PERMISSION = 0b0010\n",
    "EXECUTE_PERMISSION = 0b0100\n",
    "\n",
    "user_permissions = 0b0110  # User has read and write permissions\n",
    "\n",
    "# Check if user has write permission\n",
    "can_write = user_permissions & WRITE_PERMISSION != 0\n",
    "print(can_write)"
   ]
  },
  {
   "cell_type": "markdown",
   "id": "9a09b603",
   "metadata": {},
   "source": [
    "Assignment 9: Bitwise Operations for Encryption"
   ]
  },
  {
   "cell_type": "markdown",
   "id": "d5165bcf",
   "metadata": {},
   "source": [
    "Task: Write a program that uses bitwise operations for a basic encryption/decryption scheme."
   ]
  },
  {
   "cell_type": "markdown",
   "id": "0fbc0b8c",
   "metadata": {},
   "source": [
    "Answer: "
   ]
  },
  {
   "cell_type": "code",
   "execution_count": 2,
   "id": "0cdeaedb",
   "metadata": {},
   "outputs": [
    {
     "name": "stdout",
     "output_type": "stream",
     "text": [
      "Original Text: Hello, World!\n",
      "Encrypted Text: bOFFE\u0006\n",
      "}EXFN\u000b",
      "\n",
      "Decrypted Text: Hello, World!\n"
     ]
    }
   ],
   "source": [
    "def encrypt(text, key):\n",
    "    encrypted_text = ''.join(chr(ord(char) ^ key) for char in text)\n",
    "    return encrypted_text\n",
    "\n",
    "def decrypt(encrypted_text, key):\n",
    "    decrypted_text = ''.join(chr(ord(char) ^ key) for char in encrypted_text)\n",
    "    return decrypted_text\n",
    "\n",
    "original_text = \"Hello, World!\"\n",
    "encryption_key = 42\n",
    "\n",
    "encrypted_message = encrypt(original_text, encryption_key)\n",
    "decrypted_message = decrypt(encrypted_message, encryption_key)\n",
    "\n",
    "print(\"Original Text:\", original_text)\n",
    "print(\"Encrypted Text:\", encrypted_message)\n",
    "print(\"Decrypted Text:\", decrypted_message)"
   ]
  }
 ],
 "metadata": {
  "kernelspec": {
   "display_name": "Python 3 (ipykernel)",
   "language": "python",
   "name": "python3"
  },
  "language_info": {
   "codemirror_mode": {
    "name": "ipython",
    "version": 3
   },
   "file_extension": ".py",
   "mimetype": "text/x-python",
   "name": "python",
   "nbconvert_exporter": "python",
   "pygments_lexer": "ipython3",
   "version": "3.9.13"
  },
  "toc": {
   "base_numbering": 1,
   "nav_menu": {},
   "number_sections": true,
   "sideBar": true,
   "skip_h1_title": false,
   "title_cell": "Table of Contents",
   "title_sidebar": "Contents",
   "toc_cell": false,
   "toc_position": {},
   "toc_section_display": true,
   "toc_window_display": false
  }
 },
 "nbformat": 4,
 "nbformat_minor": 5
}
