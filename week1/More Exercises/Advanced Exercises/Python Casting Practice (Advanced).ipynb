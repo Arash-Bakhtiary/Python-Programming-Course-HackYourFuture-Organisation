{
 "cells": [
  {
   "cell_type": "markdown",
   "id": "2bed22f6",
   "metadata": {},
   "source": [
    "# Python Casting (Advanced)"
   ]
  },
  {
   "cell_type": "markdown",
   "id": "30229b89",
   "metadata": {},
   "source": [
    "Question: Convert a list [1, 2, 3] of integers to a list of strings."
   ]
  },
  {
   "cell_type": "code",
   "execution_count": 1,
   "id": "9907e139",
   "metadata": {},
   "outputs": [
    {
     "name": "stdout",
     "output_type": "stream",
     "text": [
      "['1', '2', '3']\n"
     ]
    }
   ],
   "source": [
    "integer_list = [1, 2, 3]\n",
    "string_list = [str(num) for num in integer_list]\n",
    "print(string_list)"
   ]
  },
  {
   "cell_type": "markdown",
   "id": "91603a9b",
   "metadata": {},
   "source": [
    "Question: Convert a dictionary {\"a\": 1, \"b\": 2, \"c\": 3} of integer values to a dictionary of strings."
   ]
  },
  {
   "cell_type": "code",
   "execution_count": 2,
   "id": "f77549d7",
   "metadata": {},
   "outputs": [
    {
     "name": "stdout",
     "output_type": "stream",
     "text": [
      "{'a': '1', 'b': '2', 'c': '3'}\n"
     ]
    }
   ],
   "source": [
    "integer_dict = {\"a\": 1, \"b\": 2, \"c\": 3}\n",
    "string_dict = {key: str(value) for key, value in integer_dict.items()}\n",
    "print(string_dict)"
   ]
  },
  {
   "cell_type": "markdown",
   "id": "7913c1cf",
   "metadata": {},
   "source": [
    "Question: Convert a list of tuples [(1, \"one\"), (2, \"two\"), (3, \"three\")] to a dictionary."
   ]
  },
  {
   "cell_type": "code",
   "execution_count": 3,
   "id": "334ce7e2",
   "metadata": {},
   "outputs": [
    {
     "name": "stdout",
     "output_type": "stream",
     "text": [
      "{1: 'one', 2: 'two', 3: 'three'}\n"
     ]
    }
   ],
   "source": [
    "tuple_list = [(1, \"one\"), (2, \"two\"), (3, \"three\")]\n",
    "dict_result = {key: value for key, value in tuple_list}\n",
    "print(dict_result)"
   ]
  },
  {
   "cell_type": "markdown",
   "id": "0260b4c9",
   "metadata": {},
   "source": [
    "Question: Convert a list [True, False, True] of booleans to an integer representing the binary value."
   ]
  },
  {
   "cell_type": "code",
   "execution_count": 18,
   "id": "44699b0e",
   "metadata": {},
   "outputs": [
    {
     "name": "stdout",
     "output_type": "stream",
     "text": [
      "5\n"
     ]
    }
   ],
   "source": [
    "boolean_list = [True, False, True]\n",
    "binary_string = \"\".join(\"1\" if val else \"0\" for val in boolean_list)\n",
    "integer_value = int(binary_string,2)\n",
    "print(integer_value)"
   ]
  },
  {
   "cell_type": "markdown",
   "id": "a0827d52",
   "metadata": {},
   "source": [
    "Question: Convert a list [1, 2, 3, 4] of integers to a hexadecimal string."
   ]
  },
  {
   "cell_type": "code",
   "execution_count": 22,
   "id": "13a42ece",
   "metadata": {},
   "outputs": [
    {
     "name": "stdout",
     "output_type": "stream",
     "text": [
      "1234\n"
     ]
    }
   ],
   "source": [
    "integer_list = [1, 2, 3, 4]\n",
    "hex_string = \"\".join(hex(num)[2:] for num in integer_list)\n",
    "print(hex_string)"
   ]
  },
  {
   "cell_type": "markdown",
   "id": "c88f2424",
   "metadata": {},
   "source": [
    "Question: Convert a list [\"A\", \"B\", \"C\"] of uppercase strings to a list of lowercase strings."
   ]
  },
  {
   "cell_type": "code",
   "execution_count": 23,
   "id": "3ef53659",
   "metadata": {},
   "outputs": [
    {
     "name": "stdout",
     "output_type": "stream",
     "text": [
      "['a', 'b', 'c']\n"
     ]
    }
   ],
   "source": [
    "uppercase_list = [\"A\", \"B\", \"C\"]\n",
    "lowercase_list = [string.lower() for string in uppercase_list]\n",
    "print(lowercase_list)"
   ]
  },
  {
   "cell_type": "markdown",
   "id": "3d364360",
   "metadata": {},
   "source": [
    "Question: Convert a list of tuples [(1, \"one\"), (2, \"two\"), (3, \"three\")] to a list of strings in the format \"Number: Word\"."
   ]
  },
  {
   "cell_type": "code",
   "execution_count": 24,
   "id": "77ee62e5",
   "metadata": {},
   "outputs": [
    {
     "name": "stdout",
     "output_type": "stream",
     "text": [
      "['Number: 1 - one', 'Number: 2 - two', 'Number: 3 - three']\n"
     ]
    }
   ],
   "source": [
    "tuple_list = [(1, \"one\"), (2, \"two\"), (3, \"three\")]\n",
    "formatted_list = [f\"Number: {num} - {word}\" for num, word in tuple_list]\n",
    "print(formatted_list)"
   ]
  },
  {
   "cell_type": "markdown",
   "id": "14accbf3",
   "metadata": {},
   "source": [
    "Question: Convert a list of hexadecimal strings [\"1A\", \"2B\", \"3C\"] to a list of decimal integers."
   ]
  },
  {
   "cell_type": "code",
   "execution_count": 29,
   "id": "ee1cb71a",
   "metadata": {},
   "outputs": [
    {
     "name": "stdout",
     "output_type": "stream",
     "text": [
      "[26, 43, 60]\n"
     ]
    }
   ],
   "source": [
    "hex_string_list = [\"1A\", \"2B\", \"3C\"]\n",
    "decimal_list = [int(hex_string, 16) for hex_string in hex_string_list]\n",
    "print(decimal_list)"
   ]
  },
  {
   "cell_type": "markdown",
   "id": "722e537a",
   "metadata": {},
   "source": [
    "Question: Convert a list of strings [\"2\", \"3\", \"4\"] to a list of integers and then find the sum of the integers."
   ]
  },
  {
   "cell_type": "code",
   "execution_count": 32,
   "id": "b0ef6b6e",
   "metadata": {},
   "outputs": [
    {
     "name": "stdout",
     "output_type": "stream",
     "text": [
      "9\n"
     ]
    }
   ],
   "source": [
    "string_list = [\"2\", \"3\", \"4\"]\n",
    "integer_list = [int(num) for num in string_list]\n",
    "sum_of_integers = sum(integer_list)\n",
    "print(sum_of_integers)"
   ]
  },
  {
   "cell_type": "markdown",
   "id": "3fa5cfd6",
   "metadata": {},
   "source": [
    "Question: Given a list of strings [\"3\", \"6\", \"9\"], convert each string element to an integer, filter out even numbers, and then calculate the sum of the remaining integers."
   ]
  },
  {
   "cell_type": "code",
   "execution_count": 33,
   "id": "2f053f7a",
   "metadata": {},
   "outputs": [
    {
     "name": "stdout",
     "output_type": "stream",
     "text": [
      "12\n"
     ]
    }
   ],
   "source": [
    "string_list = [\"3\", \"6\", \"9\"]\n",
    "integer_list = [int(num) for num in string_list]\n",
    "filtered_list = [num for num in integer_list if num % 2 != 0]\n",
    "sum_of_filtered = sum(filtered_list)\n",
    "print(sum_of_filtered)"
   ]
  },
  {
   "cell_type": "markdown",
   "id": "2331d090",
   "metadata": {},
   "source": [
    "Question: Given a list of strings [\"True\", \"False\", \"True\"], convert each string element to a boolean and then count the number of True values."
   ]
  },
  {
   "cell_type": "code",
   "execution_count": 34,
   "id": "cd8cbf5b",
   "metadata": {},
   "outputs": [
    {
     "name": "stdout",
     "output_type": "stream",
     "text": [
      "3\n"
     ]
    }
   ],
   "source": [
    "string_list = [\"True\", \"False\", \"True\"]\n",
    "boolean_list = [bool(value) for value in string_list]\n",
    "count_of_true = boolean_list.count(True)\n",
    "print(count_of_true)"
   ]
  },
  {
   "cell_type": "markdown",
   "id": "9c926af9",
   "metadata": {},
   "source": [
    "Question: Given a list of integers [123, 456, 789], convert each integer to its Roman numeral representation."
   ]
  },
  {
   "cell_type": "code",
   "execution_count": 35,
   "id": "23b8386c",
   "metadata": {},
   "outputs": [
    {
     "name": "stdout",
     "output_type": "stream",
     "text": [
      "['CXXIII', 'CDLVI', 'DCCLXXXIX']\n"
     ]
    }
   ],
   "source": [
    "def int_to_roman(num):\n",
    "    val = [\n",
    "        1000, 900, 500, 400,\n",
    "        100, 90, 50, 40,\n",
    "        10, 9, 5, 4,\n",
    "        1\n",
    "    ]\n",
    "    syb = [\n",
    "        \"M\", \"CM\", \"D\", \"CD\",\n",
    "        \"C\", \"XC\", \"L\", \"XL\",\n",
    "        \"X\", \"IX\", \"V\", \"IV\",\n",
    "        \"I\"\n",
    "    ]\n",
    "    roman_num = ''\n",
    "    i = 0\n",
    "    while  num > 0:\n",
    "        for _ in range(num // val[i]):\n",
    "            roman_num += syb[i]\n",
    "            num -= val[i]\n",
    "        i += 1\n",
    "    return roman_num\n",
    "\n",
    "integer_list = [123, 456, 789]\n",
    "roman_list = [int_to_roman(num) for num in integer_list]\n",
    "print(roman_list)"
   ]
  },
  {
   "cell_type": "markdown",
   "id": "b9a99a8e",
   "metadata": {},
   "source": [
    "Question: Convert a list of strings [\"5\", \"10\", \"15\"] to a dictionary where the keys are the integers and the values are their binary representations."
   ]
  },
  {
   "cell_type": "code",
   "execution_count": 36,
   "id": "c8d5a7ef",
   "metadata": {},
   "outputs": [
    {
     "name": "stdout",
     "output_type": "stream",
     "text": [
      "{5: '101', 10: '1010', 15: '1111'}\n"
     ]
    }
   ],
   "source": [
    "string_list = [\"5\", \"10\", \"15\"]\n",
    "binary_dict = {int(num): bin(int(num))[2:] for num in string_list}\n",
    "print(binary_dict)"
   ]
  },
  {
   "cell_type": "markdown",
   "id": "421133c6",
   "metadata": {},
   "source": [
    "Question: Given a list of tuples [(1, \"one\"), (2, \"two\"), (3, \"three\")], convert each tuple to a dictionary where the first element is the key and the second element is the value."
   ]
  },
  {
   "cell_type": "code",
   "execution_count": 37,
   "id": "6ea81bea",
   "metadata": {},
   "outputs": [
    {
     "name": "stdout",
     "output_type": "stream",
     "text": [
      "[{1: 'one'}, {2: 'two'}, {3: 'three'}]\n"
     ]
    }
   ],
   "source": [
    "tuple_list = [(1, \"one\"), (2, \"two\"), (3, \"three\")]\n",
    "dict_list = [{key: value} for key, value in tuple_list]\n",
    "print(dict_list)"
   ]
  },
  {
   "cell_type": "markdown",
   "id": "86711285",
   "metadata": {},
   "source": [
    "Question: Convert a list of integers [5, 10, 15] to a dictionary where the keys are the integers and the values are lists containing the integer's divisors."
   ]
  },
  {
   "cell_type": "code",
   "execution_count": 38,
   "id": "8095dbf3",
   "metadata": {},
   "outputs": [
    {
     "name": "stdout",
     "output_type": "stream",
     "text": [
      "{5: [1, 5], 10: [1, 2, 5, 10], 15: [1, 3, 5, 15]}\n"
     ]
    }
   ],
   "source": [
    "def find_divisors(num):\n",
    "    return [i for i in range(1, num + 1) if num % i == 0]\n",
    "\n",
    "integer_list = [5, 10, 15]\n",
    "divisor_dict = {num: find_divisors(num) for num in integer_list}\n",
    "print(divisor_dict)"
   ]
  },
  {
   "cell_type": "markdown",
   "id": "0b855143",
   "metadata": {},
   "source": [
    "Question: Given a list of strings [\"3.14\", \"2.71\", \"1.41\"], convert each string element to a float, sort them in ascending order, and then format each float with 2 decimal places."
   ]
  },
  {
   "cell_type": "code",
   "execution_count": 39,
   "id": "95bbeda2",
   "metadata": {},
   "outputs": [
    {
     "name": "stdout",
     "output_type": "stream",
     "text": [
      "['1.41', '2.71', '3.14']\n"
     ]
    }
   ],
   "source": [
    "string_list = [\"3.14\", \"2.71\", \"1.41\"]\n",
    "float_list = [float(num) for num in string_list]\n",
    "sorted_floats = sorted(float_list)\n",
    "formatted_floats = [f\"{num:.2f}\" for num in sorted_floats]\n",
    "print(formatted_floats)"
   ]
  }
 ],
 "metadata": {
  "kernelspec": {
   "display_name": "Python 3 (ipykernel)",
   "language": "python",
   "name": "python3"
  },
  "language_info": {
   "codemirror_mode": {
    "name": "ipython",
    "version": 3
   },
   "file_extension": ".py",
   "mimetype": "text/x-python",
   "name": "python",
   "nbconvert_exporter": "python",
   "pygments_lexer": "ipython3",
   "version": "3.9.13"
  },
  "toc": {
   "base_numbering": 1,
   "nav_menu": {},
   "number_sections": true,
   "sideBar": true,
   "skip_h1_title": false,
   "title_cell": "Table of Contents",
   "title_sidebar": "Contents",
   "toc_cell": false,
   "toc_position": {},
   "toc_section_display": true,
   "toc_window_display": false
  }
 },
 "nbformat": 4,
 "nbformat_minor": 5
}
