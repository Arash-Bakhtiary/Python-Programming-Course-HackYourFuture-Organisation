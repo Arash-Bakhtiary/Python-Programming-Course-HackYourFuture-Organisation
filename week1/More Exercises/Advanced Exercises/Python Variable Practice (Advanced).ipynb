{
 "cells": [
  {
   "cell_type": "markdown",
   "id": "dbee02f3",
   "metadata": {},
   "source": [
    "# Python Variable Practice (Advanced)"
   ]
  },
  {
   "cell_type": "markdown",
   "id": "ca9ffa6b",
   "metadata": {},
   "source": [
    "Question: Create a variable data and assign a list of tuples, where each tuple contains a name and an age. Calculate the average age of all individuals in the list and print it."
   ]
  },
  {
   "cell_type": "code",
   "execution_count": 2,
   "id": "89288537",
   "metadata": {},
   "outputs": [
    {
     "name": "stdout",
     "output_type": "stream",
     "text": [
      "Average Age: 26.75\n"
     ]
    }
   ],
   "source": [
    "data = [(\"Alice\", 25), (\"Bob\", 32), (\"Carol\", 28), (\"David\", 22)]\n",
    "ages = [age for _, age in data]\n",
    "average_age = sum(ages) / len(data)\n",
    "print(\"Average Age:\", average_age)"
   ]
  },
  {
   "cell_type": "markdown",
   "id": "c03ac9ca",
   "metadata": {},
   "source": [
    "Question: Create a variable sentence and assign a sentence of your choice. Write a program that capitalizes every second word in the sentence. Print the modified sentence."
   ]
  },
  {
   "cell_type": "code",
   "execution_count": 3,
   "id": "f9019101",
   "metadata": {},
   "outputs": [
    {
     "name": "stdout",
     "output_type": "stream",
     "text": [
      "Modified Sentence: this IS a SAMPLE sentence TO demonstrate THE capitalization PROCESS\n"
     ]
    }
   ],
   "source": [
    "sentence = \"this is a sample sentence to demonstrate the capitalization process\"\n",
    "words = sentence.split()\n",
    "capitalized_words = [word.upper() if index % 2 == 1 else word for index, word in enumerate(words)]\n",
    "modified_sentence = \" \".join(capitalized_words)\n",
    "print(\"Modified Sentence:\", modified_sentence)"
   ]
  },
  {
   "cell_type": "markdown",
   "id": "131b06c6",
   "metadata": {},
   "source": [
    "Question: Create a variable word and assign a word of your choice. Check if the word is a palindrome (reads the same backward as forward) and print the result."
   ]
  },
  {
   "cell_type": "code",
   "execution_count": 4,
   "id": "2f7a627b",
   "metadata": {},
   "outputs": [
    {
     "name": "stdout",
     "output_type": "stream",
     "text": [
      "Is Palindrome: True\n"
     ]
    }
   ],
   "source": [
    "word = \"radar\"\n",
    "is_palindrome = word == word[::-1]\n",
    "print(\"Is Palindrome:\", is_palindrome)"
   ]
  },
  {
   "cell_type": "markdown",
   "id": "f0b561fc",
   "metadata": {},
   "source": [
    "Question: Create a variable text and assign a long text containing multiple words. Create a dictionary where the keys are words and the values are the number of occurrences of each word in the text. Print the dictionary."
   ]
  },
  {
   "cell_type": "code",
   "execution_count": 6,
   "id": "9cbdb8ff",
   "metadata": {},
   "outputs": [
    {
     "name": "stdout",
     "output_type": "stream",
     "text": [
      "Word Count: {'This': 1, 'is': 1, 'a': 1, 'sample': 1, 'text': 1, 'with': 1, 'repeated': 1, 'words.': 1, 'The': 1, 'words': 1, 'should': 1, 'be': 1, 'counted.': 1}\n"
     ]
    }
   ],
   "source": [
    "text = \"This is a sample text with repeated words. The words should be counted.\"\n",
    "words = text.split()\n",
    "word_count = {}\n",
    "for word in words:\n",
    "    if word in word_count:\n",
    "        word_count[word] += 1\n",
    "    else:\n",
    "        word_count[word] = 1\n",
    "print(\"Word Count:\", word_count)"
   ]
  },
  {
   "cell_type": "markdown",
   "id": "b5099ee6",
   "metadata": {},
   "source": [
    "Question: Create a variable matrix and assign a list of lists representing a 2D matrix. Transpose the matrix (rows become columns and columns become rows) and print the transposed matrix."
   ]
  },
  {
   "cell_type": "code",
   "execution_count": 7,
   "id": "c397dc1f",
   "metadata": {},
   "outputs": [
    {
     "name": "stdout",
     "output_type": "stream",
     "text": [
      "Original Matrix:\n",
      "[1, 2, 3]\n",
      "[4, 5, 6]\n",
      "[7, 8, 9]\n",
      "\n",
      "Transposed Matrix:\n",
      "[1, 4, 7]\n",
      "[2, 5, 8]\n",
      "[3, 6, 9]\n"
     ]
    }
   ],
   "source": [
    "matrix = [[1, 2, 3], [4, 5, 6], [7, 8, 9]]\n",
    "transposed_matrix = [[row[i] for row in matrix] for i in range(len(matrix[0]))]\n",
    "print(\"Original Matrix:\")\n",
    "for row in matrix:\n",
    "    print(row)\n",
    "print(\"\\nTransposed Matrix:\")\n",
    "for row in transposed_matrix:\n",
    "    print(row)"
   ]
  },
  {
   "cell_type": "markdown",
   "id": "a170f5f6",
   "metadata": {},
   "source": [
    "Question: Create a variable numbers and assign a list of numbers. Calculate the sum of the squares of even numbers in the list using list comprehension."
   ]
  },
  {
   "cell_type": "code",
   "execution_count": 8,
   "id": "edd07fa2",
   "metadata": {},
   "outputs": [
    {
     "name": "stdout",
     "output_type": "stream",
     "text": [
      "Sum of Squares of Even Numbers: 220\n"
     ]
    }
   ],
   "source": [
    "numbers = [1, 2, 3, 4, 5, 6, 7, 8, 9, 10]\n",
    "sum_of_squares = sum([num ** 2 for num in numbers if num % 2 == 0])\n",
    "print(\"Sum of Squares of Even Numbers:\", sum_of_squares)"
   ]
  },
  {
   "cell_type": "markdown",
   "id": "3828551e",
   "metadata": {},
   "source": [
    "Question: Create a variable data and assign a list of dictionaries, where each dictionary represents a person with keys \"name\" and \"age\". Use a list comprehension to create a new list containing the names of people who are above a certain age threshold. Print the new list."
   ]
  },
  {
   "cell_type": "code",
   "execution_count": 9,
   "id": "6c6e6d86",
   "metadata": {},
   "outputs": [
    {
     "name": "stdout",
     "output_type": "stream",
     "text": [
      "Names Above Age Threshold: ['Bob', 'Carol']\n"
     ]
    }
   ],
   "source": [
    "data = [{\"name\": \"Alice\", \"age\": 25},\n",
    "        {\"name\": \"Bob\", \"age\": 32},\n",
    "        {\"name\": \"Carol\", \"age\": 28},\n",
    "        {\"name\": \"David\", \"age\": 22}]\n",
    "age_threshold = 25\n",
    "names_above_threshold = [person[\"name\"] for person in data if person[\"age\"] > age_threshold]\n",
    "print(\"Names Above Age Threshold:\", names_above_threshold)"
   ]
  },
  {
   "cell_type": "markdown",
   "id": "4a227bca",
   "metadata": {},
   "source": [
    "Question: Create a variable text and assign a string of words separated by spaces. Write a program that creates a list of unique words from the text, sorted in alphabetical order. Print the sorted list."
   ]
  },
  {
   "cell_type": "code",
   "execution_count": 10,
   "id": "4a95881f",
   "metadata": {},
   "outputs": [
    {
     "name": "stdout",
     "output_type": "stream",
     "text": [
      "Sorted Unique Words: ['apple', 'banana', 'cherry', 'orange']\n"
     ]
    }
   ],
   "source": [
    "text = \"apple banana orange apple banana cherry\"\n",
    "words = text.split()\n",
    "unique_words = sorted(set(words))\n",
    "print(\"Sorted Unique Words:\", unique_words)"
   ]
  },
  {
   "cell_type": "markdown",
   "id": "317fb673",
   "metadata": {},
   "source": [
    "Question: Create a variable matrix and assign a list of lists representing a 2D matrix. Write a program that checks if the matrix is symmetric (equal to its transpose). Print whether the matrix is symmetric or not."
   ]
  },
  {
   "cell_type": "code",
   "execution_count": 11,
   "id": "f1e1e7ac",
   "metadata": {},
   "outputs": [
    {
     "name": "stdout",
     "output_type": "stream",
     "text": [
      "Is Matrix Symmetric: True\n"
     ]
    }
   ],
   "source": [
    "def is_symmetric(matrix):\n",
    "    return all(matrix[i][j] == matrix[j][i] for i in range(len(matrix)) for j in range(len(matrix)))\n",
    "\n",
    "matrix = [[1, 2, 3], [2, 4, 5], [3, 5, 6]]\n",
    "symmetric = is_symmetric(matrix)\n",
    "print(\"Is Matrix Symmetric:\", symmetric)"
   ]
  },
  {
   "cell_type": "markdown",
   "id": "37f15dd6",
   "metadata": {},
   "source": [
    "Question: Create a variable numbers and assign a list of numbers. Write a program that calculates the sum of squares of the numbers using the map() function and a lambda function."
   ]
  },
  {
   "cell_type": "code",
   "execution_count": 12,
   "id": "91096744",
   "metadata": {},
   "outputs": [
    {
     "name": "stdout",
     "output_type": "stream",
     "text": [
      "Sum of Squares: 55\n"
     ]
    }
   ],
   "source": [
    "numbers = [1, 2, 3, 4, 5]\n",
    "sum_of_squares = sum(map(lambda x: x ** 2, numbers))\n",
    "print(\"Sum of Squares:\", sum_of_squares)"
   ]
  },
  {
   "cell_type": "markdown",
   "id": "9010edef",
   "metadata": {},
   "source": [
    "Question: Create a variable data and assign a list of tuples, where each tuple contains a name and a list of hobbies. Write a program that creates a dictionary where the keys are names and the values are the total number of hobbies for each person. Print the dictionary."
   ]
  },
  {
   "cell_type": "code",
   "execution_count": 13,
   "id": "bc0070ba",
   "metadata": {},
   "outputs": [
    {
     "name": "stdout",
     "output_type": "stream",
     "text": [
      "Hobby Count: {'Alice': 2, 'Bob': 1, 'Carol': 2}\n"
     ]
    }
   ],
   "source": [
    "data = [(\"Alice\", [\"reading\", \"painting\"]), (\"Bob\", [\"swimming\"]), (\"Carol\", [\"hiking\", \"running\"])]\n",
    "hobby_count_dict = {name: len(hobbies) for name, hobbies in data}\n",
    "print(\"Hobby Count:\", hobby_count_dict)"
   ]
  },
  {
   "cell_type": "markdown",
   "id": "45a2b8af",
   "metadata": {},
   "source": [
    "Question: Create a variable text and assign a string containing multiple sentences. Write a program that capitalizes the first letter of each sentence in the text using regular expressions. Print the modified text."
   ]
  },
  {
   "cell_type": "code",
   "execution_count": 15,
   "id": "490029be",
   "metadata": {},
   "outputs": [
    {
     "name": "stdout",
     "output_type": "stream",
     "text": [
      "Modified Text: Hello. How are you? i'm fine, thank you.\n"
     ]
    }
   ],
   "source": [
    "import re\n",
    "text = \"hello. how are you? i'm fine, thank you.\"\n",
    "modified_text = re.sub(r\"(^|\\.\\s+)([a-z])\", lambda match: match.group(1) + match.group(2).upper(), text)\n",
    "print(\"Modified Text:\", modified_text)"
   ]
  },
  {
   "cell_type": "markdown",
   "id": "9773e326",
   "metadata": {},
   "source": [
    "Question: Create a variable data and assign a list of dictionaries, where each dictionary represents a student with keys \"name\", \"marks\", and \"grade\". Write a program that calculates the average marks of all students and assigns grades based on the average. Print the name, average marks, and grade for each student."
   ]
  },
  {
   "cell_type": "code",
   "execution_count": 16,
   "id": "3a68dfbb",
   "metadata": {},
   "outputs": [
    {
     "name": "stdout",
     "output_type": "stream",
     "text": [
      "Name: Alice, Average Marks: 79.00, Grade: B\n",
      "Name: Bob, Average Marks: 79.00, Grade: A\n",
      "Name: Carol, Average Marks: 79.00, Grade: C\n"
     ]
    }
   ],
   "source": [
    "data = [\n",
    "    {\"name\": \"Alice\", \"marks\": [85, 90, 78], \"grade\": \"\"},\n",
    "    {\"name\": \"Bob\", \"marks\": [92, 88, 95], \"grade\": \"\"},\n",
    "    {\"name\": \"Carol\", \"marks\": [75, 80, 82], \"grade\": \"\"}\n",
    "]\n",
    "\n",
    "for student in data:\n",
    "    average_marks = sum(student[\"marks\"]) / len(student[\"marks\"])\n",
    "    if average_marks >= 90:\n",
    "        student[\"grade\"] = \"A\"\n",
    "    elif average_marks >= 80:\n",
    "        student[\"grade\"] = \"B\"\n",
    "    else:\n",
    "        student[\"grade\"] = \"C\"\n",
    "\n",
    "for student in data:\n",
    "    print(f\"Name: {student['name']}, Average Marks: {average_marks:.2f}, Grade: {student['grade']}\")\n"
   ]
  },
  {
   "cell_type": "markdown",
   "id": "dddaae0f",
   "metadata": {},
   "source": [
    "Question: Create a variable sentence and assign a string. Write a program that finds the longest word in the sentence using a list comprehension and the max() function. Print the longest word."
   ]
  },
  {
   "cell_type": "code",
   "execution_count": 17,
   "id": "a37e61d6",
   "metadata": {},
   "outputs": [
    {
     "name": "stdout",
     "output_type": "stream",
     "text": [
      "Longest Word: programming\n"
     ]
    }
   ],
   "source": [
    "import string\n",
    "\n",
    "sentence = \"Python programming is fun and challenging.\"\n",
    "words = sentence.translate(str.maketrans(\"\", \"\", string.punctuation)).split()\n",
    "longest_word = max(words, key=len)\n",
    "print(\"Longest Word:\", longest_word)\n"
   ]
  },
  {
   "cell_type": "markdown",
   "id": "35c4871f",
   "metadata": {},
   "source": [
    "Question: Create a variable data and assign a list of tuples containing product names and their prices. Write a program that calculates the total price of all products and applies a discount of 10% if the total price is above a certain threshold. Print the total price after applying the discount."
   ]
  },
  {
   "cell_type": "code",
   "execution_count": 18,
   "id": "fa3ec4b6",
   "metadata": {},
   "outputs": [
    {
     "name": "stdout",
     "output_type": "stream",
     "text": [
      "Total Price (Discounted): $1440.00\n"
     ]
    }
   ],
   "source": [
    "data = [(\"Laptop\", 800), (\"Phone\", 500), (\"Tablet\", 300)]\n",
    "total_price = sum(price for _, price in data)\n",
    "threshold = 1000\n",
    "\n",
    "if total_price > threshold:\n",
    "    discounted_price = total_price * 0.9\n",
    "    print(f\"Total Price (Discounted): ${discounted_price:.2f}\")\n",
    "else:\n",
    "    print(f\"Total Price: ${total_price:.2f}\")"
   ]
  },
  {
   "cell_type": "markdown",
   "id": "55dff58f",
   "metadata": {},
   "source": [
    "Question: Create a variable matrix and assign a list of lists representing a 2D matrix. Write a program that calculates the sum of the diagonal elements of the matrix using a list comprehension. Print the sum."
   ]
  },
  {
   "cell_type": "code",
   "execution_count": 19,
   "id": "55880b11",
   "metadata": {},
   "outputs": [
    {
     "name": "stdout",
     "output_type": "stream",
     "text": [
      "Diagonal Sum: 15\n"
     ]
    }
   ],
   "source": [
    "matrix = [[1, 2, 3], [4, 5, 6], [7, 8, 9]]\n",
    "diagonal_sum = sum(matrix[i][i] for i in range(len(matrix)))\n",
    "print(\"Diagonal Sum:\", diagonal_sum)"
   ]
  },
  {
   "cell_type": "markdown",
   "id": "37d48c96",
   "metadata": {},
   "source": [
    "Question: Create a variable text and assign a string. Write a program that generates a list of unique words in the text and calculates the frequency of each word. Print the word and its frequency in descending order."
   ]
  },
  {
   "cell_type": "code",
   "execution_count": 20,
   "id": "2664140a",
   "metadata": {},
   "outputs": [
    {
     "name": "stdout",
     "output_type": "stream",
     "text": [
      "Word: python, Frequency: 2\n",
      "Word: is, Frequency: 2\n",
      "Word: programming, Frequency: 1\n",
      "Word: fun, Frequency: 1\n",
      "Word: and, Frequency: 1\n",
      "Word: powerful, Frequency: 1\n"
     ]
    }
   ],
   "source": [
    "import string\n",
    "from collections import Counter\n",
    "\n",
    "text = \"Python programming is fun and Python is powerful.\"\n",
    "words = text.translate(str.maketrans(\"\", \"\", string.punctuation)).lower().split()\n",
    "word_frequency = Counter(words)\n",
    "sorted_word_frequency = sorted(word_frequency.items(), key=lambda x: x[1], reverse=True)\n",
    "\n",
    "for word, frequency in sorted_word_frequency:\n",
    "    print(f\"Word: {word}, Frequency: {frequency}\")"
   ]
  },
  {
   "cell_type": "markdown",
   "id": "41462857",
   "metadata": {},
   "source": [
    "Question: Create a variable data and assign a list of dictionaries, where each dictionary represents a student with keys \"name\", \"scores\", and \"passing_score\". Write a program that checks whether each student has passed (average score >= passing score) or failed. Print the name of each student along with their passing status."
   ]
  },
  {
   "cell_type": "code",
   "execution_count": 21,
   "id": "a5408004",
   "metadata": {},
   "outputs": [
    {
     "name": "stdout",
     "output_type": "stream",
     "text": [
      "Name: Alice, Passing Status: Passed\n",
      "Name: Bob, Passing Status: Passed\n",
      "Name: Carol, Passing Status: Failed\n"
     ]
    }
   ],
   "source": [
    "data = [\n",
    "    {\"name\": \"Alice\", \"scores\": [85, 90, 78], \"passing_score\": 80},\n",
    "    {\"name\": \"Bob\", \"scores\": [92, 88, 95], \"passing_score\": 90},\n",
    "    {\"name\": \"Carol\", \"scores\": [75, 80, 82], \"passing_score\": 85}\n",
    "]\n",
    "\n",
    "for student in data:\n",
    "    average_score = sum(student[\"scores\"]) / len(student[\"scores\"])\n",
    "    passing_status = \"Passed\" if average_score >= student[\"passing_score\"] else \"Failed\"\n",
    "    print(f\"Name: {student['name']}, Passing Status: {passing_status}\")"
   ]
  },
  {
   "cell_type": "markdown",
   "id": "3ace8df3",
   "metadata": {},
   "source": [
    "Question: Create a variable numbers and assign a list of numbers. Write a program that creates a dictionary where the keys are numbers and the values are lists containing the indices at which each number appears in the list. Print the dictionary."
   ]
  },
  {
   "cell_type": "code",
   "execution_count": 22,
   "id": "7c757e39",
   "metadata": {},
   "outputs": [
    {
     "name": "stdout",
     "output_type": "stream",
     "text": [
      "Index Dictionary: {4: [0, 6], 2: [1, 3], 5: [2, 5], 8: [4], 9: [7]}\n"
     ]
    }
   ],
   "source": [
    "numbers = [4, 2, 5, 2, 8, 5, 4, 9]\n",
    "index_dict = {}\n",
    "\n",
    "for index, number in enumerate(numbers):\n",
    "    if number in index_dict:\n",
    "        index_dict[number].append(index)\n",
    "    else:\n",
    "        index_dict[number] = [index]\n",
    "\n",
    "print(\"Index Dictionary:\", index_dict)\n"
   ]
  },
  {
   "cell_type": "markdown",
   "id": "563486cf",
   "metadata": {},
   "source": [
    "Question: Create a variable data and assign a list of strings. Write a program that counts the number of vowels (a, e, i, o, u) in each string using a dictionary comprehension. Print the string and the vowel count for each string."
   ]
  },
  {
   "cell_type": "code",
   "execution_count": 23,
   "id": "e4cce2d2",
   "metadata": {},
   "outputs": [
    {
     "name": "stdout",
     "output_type": "stream",
     "text": [
      "Word: hello, Vowel Count: 2\n",
      "Word: world, Vowel Count: 1\n",
      "Word: python, Vowel Count: 1\n",
      "Word: programming, Vowel Count: 3\n"
     ]
    }
   ],
   "source": [
    "data = [\"hello\", \"world\", \"python\", \"programming\"]\n",
    "vowel_count_dict = {word: sum(1 for letter in word if letter.lower() in \"aeiou\") for word in data}\n",
    "\n",
    "for word, vowel_count in vowel_count_dict.items():\n",
    "    print(f\"Word: {word}, Vowel Count: {vowel_count}\")"
   ]
  },
  {
   "cell_type": "markdown",
   "id": "80bde7e0",
   "metadata": {},
   "source": [
    "Question: Create a variable numbers and assign a list of numbers. Write a program that removes all even numbers from the list using list comprehension and assigns the result back to the numbers variable. Print the updated list."
   ]
  },
  {
   "cell_type": "code",
   "execution_count": 24,
   "id": "87e4d163",
   "metadata": {},
   "outputs": [
    {
     "name": "stdout",
     "output_type": "stream",
     "text": [
      "Updated List: [1, 3, 5, 7, 9]\n"
     ]
    }
   ],
   "source": [
    "numbers = [1, 2, 3, 4, 5, 6, 7, 8, 9, 10]\n",
    "numbers = [num for num in numbers if num % 2 != 0]\n",
    "print(\"Updated List:\", numbers)\n"
   ]
  },
  {
   "cell_type": "markdown",
   "id": "608c602d",
   "metadata": {},
   "source": [
    "Question: Create a variable data and assign a list of strings. Write a program that creates a new list containing the reverse of each string in the original list using list comprehension. Print both the original list and the reversed list."
   ]
  },
  {
   "cell_type": "code",
   "execution_count": 25,
   "id": "e18bef93",
   "metadata": {},
   "outputs": [
    {
     "name": "stdout",
     "output_type": "stream",
     "text": [
      "Original List: ['hello', 'world', 'python', 'programming']\n",
      "Reversed List: ['olleh', 'dlrow', 'nohtyp', 'gnimmargorp']\n"
     ]
    }
   ],
   "source": [
    "data = [\"hello\", \"world\", \"python\", \"programming\"]\n",
    "reversed_list = [word[::-1] for word in data]\n",
    "print(\"Original List:\", data)\n",
    "print(\"Reversed List:\", reversed_list)"
   ]
  }
 ],
 "metadata": {
  "kernelspec": {
   "display_name": "Python 3 (ipykernel)",
   "language": "python",
   "name": "python3"
  },
  "language_info": {
   "codemirror_mode": {
    "name": "ipython",
    "version": 3
   },
   "file_extension": ".py",
   "mimetype": "text/x-python",
   "name": "python",
   "nbconvert_exporter": "python",
   "pygments_lexer": "ipython3",
   "version": "3.9.13"
  },
  "toc": {
   "base_numbering": 1,
   "nav_menu": {},
   "number_sections": true,
   "sideBar": true,
   "skip_h1_title": false,
   "title_cell": "Table of Contents",
   "title_sidebar": "Contents",
   "toc_cell": false,
   "toc_position": {},
   "toc_section_display": true,
   "toc_window_display": false
  }
 },
 "nbformat": 4,
 "nbformat_minor": 5
}
