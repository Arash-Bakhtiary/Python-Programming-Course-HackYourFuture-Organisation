{
 "cells": [
  {
   "cell_type": "markdown",
   "id": "dbee02f3",
   "metadata": {},
   "source": [
    "# Assignments - W1 (Python Casting)"
   ]
  },
  {
   "cell_type": "markdown",
   "id": "23cddca7",
   "metadata": {},
   "source": [
    "Assignment 1: Temperature Conversion"
   ]
  },
  {
   "cell_type": "markdown",
   "id": "d5d036bb",
   "metadata": {},
   "source": [
    "Task: Write a program that converts a temperature in degrees Celsius to degrees Fahrenheit. Prompt the user for input in Celsius and then perform the conversion."
   ]
  },
  {
   "cell_type": "markdown",
   "id": "6b3b9fc9",
   "metadata": {},
   "source": [
    "Answer:"
   ]
  },
  {
   "cell_type": "code",
   "execution_count": 12,
   "id": "2cd9b098",
   "metadata": {},
   "outputs": [
    {
     "name": "stdout",
     "output_type": "stream",
     "text": [
      "Enter temperature in Celsius: 37\n",
      "37.0 degrees Celsius is equal to 98.6 degrees Fahrenheit.\n"
     ]
    }
   ],
   "source": [
    "celsius = float(input(\"Enter temperature in Celsius: \"))\n",
    "fahrenheit = (celsius * 9/5) + 32\n",
    "print(f\"{celsius} degrees Celsius is equal to {fahrenheit} degrees Fahrenheit.\")"
   ]
  },
  {
   "cell_type": "markdown",
   "id": "0f0fafd4",
   "metadata": {},
   "source": [
    "Assignment 2: Length Conversion"
   ]
  },
  {
   "cell_type": "markdown",
   "id": "e158d047",
   "metadata": {},
   "source": [
    "Task: Create a program that converts a length in meters to feet. Prompt the user for input in meters and then perform the conversion."
   ]
  },
  {
   "cell_type": "markdown",
   "id": "8228ee38",
   "metadata": {},
   "source": [
    "Answer:"
   ]
  },
  {
   "cell_type": "code",
   "execution_count": 11,
   "id": "f989d8be",
   "metadata": {},
   "outputs": [
    {
     "name": "stdout",
     "output_type": "stream",
     "text": [
      "Enter length in meters: 10\n",
      "10.0 meters is equal to 32.8084 feet.\n"
     ]
    }
   ],
   "source": [
    "meters = float(input(\"Enter length in meters: \"))\n",
    "feet = meters * 3.28084\n",
    "print(f\"{meters} meters is equal to {feet} feet.\")"
   ]
  },
  {
   "cell_type": "markdown",
   "id": "7c5258b1",
   "metadata": {},
   "source": [
    "Assignment 3: Currency Conversion"
   ]
  },
  {
   "cell_type": "markdown",
   "id": "309101af",
   "metadata": {},
   "source": [
    "Task: Write a program that converts an amount in one currency to another currency. Prompt the user for an amount in USD and then convert it to EUR using the current exchange rate."
   ]
  },
  {
   "cell_type": "markdown",
   "id": "fb2d0194",
   "metadata": {},
   "source": [
    "Answer:"
   ]
  },
  {
   "cell_type": "code",
   "execution_count": 10,
   "id": "cae2cd8e",
   "metadata": {},
   "outputs": [
    {
     "name": "stdout",
     "output_type": "stream",
     "text": [
      "Enter amount in USD: 1000\n",
      "1000.0 USD is equal to 850.0 EUR.\n"
     ]
    }
   ],
   "source": [
    "usd_amount = float(input(\"Enter amount in USD: \"))\n",
    "exchange_rate = 0.85  # 1 USD to EUR\n",
    "eur_amount = usd_amount * exchange_rate\n",
    "print(f\"{usd_amount} USD is equal to {eur_amount} EUR.\")"
   ]
  },
  {
   "cell_type": "markdown",
   "id": "dcdbf199",
   "metadata": {},
   "source": [
    "Assignment 4: Data Type Detection"
   ]
  },
  {
   "cell_type": "markdown",
   "id": "98a7a1d7",
   "metadata": {},
   "source": [
    "Task: Create a program that detects and prints the data type of a given input. Prompt the user to enter a value, and then use type casting to identify its data type."
   ]
  },
  {
   "cell_type": "markdown",
   "id": "bb2f2d21",
   "metadata": {},
   "source": [
    "Answer:"
   ]
  },
  {
   "cell_type": "code",
   "execution_count": 9,
   "id": "c385e1d7",
   "metadata": {},
   "outputs": [
    {
     "name": "stdout",
     "output_type": "stream",
     "text": [
      "Enter a value: 12\n",
      "The data type of 12 is <class 'int'>.\n"
     ]
    }
   ],
   "source": [
    "value = input(\"Enter a value: \")\n",
    "data_type = type(eval(value))\n",
    "print(f\"The data type of {value} is {data_type}.\")"
   ]
  },
  {
   "cell_type": "markdown",
   "id": "2c92bd4e",
   "metadata": {},
   "source": [
    "Assignment 5: Numeric Operations"
   ]
  },
  {
   "cell_type": "markdown",
   "id": "c9c825f4",
   "metadata": {},
   "source": [
    "Task: Write a program that calculates the area of a rectangle given its length and width. Prompt the user for input and ensure that the length and width are treated as floating-point numbers."
   ]
  },
  {
   "cell_type": "markdown",
   "id": "95e08c38",
   "metadata": {},
   "source": [
    "Answer:"
   ]
  },
  {
   "cell_type": "code",
   "execution_count": 8,
   "id": "4fa7d3b2",
   "metadata": {},
   "outputs": [
    {
     "name": "stdout",
     "output_type": "stream",
     "text": [
      "Enter the length of the rectangle: 12\n",
      "Enter the width of the rectangle: 10\n",
      "The area of the rectangle is 120.0.\n"
     ]
    }
   ],
   "source": [
    "length = float(input(\"Enter the length of the rectangle: \"))\n",
    "width = float(input(\"Enter the width of the rectangle: \"))\n",
    "area = length * width\n",
    "print(f\"The area of the rectangle is {area}.\")"
   ]
  },
  {
   "cell_type": "markdown",
   "id": "878846b8",
   "metadata": {},
   "source": [
    "Assignment 6: User Authentication"
   ]
  },
  {
   "cell_type": "markdown",
   "id": "60cdb655",
   "metadata": {},
   "source": [
    "Task: Create a program that simulates user authentication. Prompt the user to enter their username and password. Compare the input with predefined username and password values (stored as strings) using type casting to convert input to the appropriate data type."
   ]
  },
  {
   "cell_type": "markdown",
   "id": "468d0065",
   "metadata": {},
   "source": [
    "Answer:"
   ]
  },
  {
   "cell_type": "code",
   "execution_count": 7,
   "id": "12c45644",
   "metadata": {},
   "outputs": [
    {
     "name": "stdout",
     "output_type": "stream",
     "text": [
      "Enter your username: arash\n",
      "Enter your password: 1234\n",
      "Login failed. Please check your credentials.\n"
     ]
    }
   ],
   "source": [
    "username = input(\"Enter your username: \")\n",
    "password = input(\"Enter your password: \")\n",
    "\n",
    "if username == \"admin\" and password == \"1234\":\n",
    "    print(\"Login successful!\")\n",
    "else:\n",
    "    print(\"Login failed. Please check your credentials.\")"
   ]
  },
  {
   "cell_type": "markdown",
   "id": "dfee9ac2",
   "metadata": {},
   "source": [
    "Assignment 7: Number Sequence Sum"
   ]
  },
  {
   "cell_type": "markdown",
   "id": "a9fbb5a3",
   "metadata": {},
   "source": [
    "Task: Write a program that calculates the sum of an arithmetic sequence. Prompt the user to enter the first term, common difference, and the number of terms. Ensure that the user inputs are treated as integers."
   ]
  },
  {
   "cell_type": "markdown",
   "id": "d5edf91f",
   "metadata": {},
   "source": [
    "Answer:"
   ]
  },
  {
   "cell_type": "code",
   "execution_count": 6,
   "id": "3ced4664",
   "metadata": {},
   "outputs": [
    {
     "name": "stdout",
     "output_type": "stream",
     "text": [
      "Enter the first term: 20\n",
      "Enter the common difference: 10\n",
      "Enter the number of terms: 23\n",
      "The sum of the sequence is 2990.0.\n"
     ]
    }
   ],
   "source": [
    "first_term = int(input(\"Enter the first term: \"))\n",
    "common_difference = int(input(\"Enter the common difference: \"))\n",
    "num_terms = int(input(\"Enter the number of terms: \"))\n",
    "\n",
    "sum_sequence = (num_terms / 2) * (2 * first_term + (num_terms - 1) * common_difference)\n",
    "print(f\"The sum of the sequence is {sum_sequence}.\")"
   ]
  },
  {
   "cell_type": "markdown",
   "id": "f31c0326",
   "metadata": {},
   "source": [
    "Assignment 8: Age Comparison"
   ]
  },
  {
   "cell_type": "markdown",
   "id": "7f8a7765",
   "metadata": {},
   "source": [
    "Task: Create a program that compares the ages of two people. Prompt the user to enter their ages, and then determine who is older using type casting to convert input to integers."
   ]
  },
  {
   "cell_type": "markdown",
   "id": "7085b68c",
   "metadata": {},
   "source": [
    "Answer:"
   ]
  },
  {
   "cell_type": "code",
   "execution_count": 5,
   "id": "0d5ccec2",
   "metadata": {},
   "outputs": [
    {
     "name": "stdout",
     "output_type": "stream",
     "text": [
      "Enter the age of the first person: 25\n",
      "Enter the age of the second person: 37\n",
      "The second person is older.\n"
     ]
    }
   ],
   "source": [
    "age1 = int(input(\"Enter the age of the first person: \"))\n",
    "age2 = int(input(\"Enter the age of the second person: \"))\n",
    "\n",
    "if age1 > age2:\n",
    "    print(\"The first person is older.\")\n",
    "elif age2 > age1:\n",
    "    print(\"The second person is older.\")\n",
    "else:\n",
    "    print(\"Both people are the same age.\")"
   ]
  },
  {
   "cell_type": "markdown",
   "id": "e4d4ae9e",
   "metadata": {},
   "source": [
    "Assignment 9: Speed Calculation"
   ]
  },
  {
   "cell_type": "markdown",
   "id": "29b16150",
   "metadata": {},
   "source": [
    "Task: Write a program that calculates the speed of an object. Prompt the user to enter the distance (in meters) and the time (in seconds) it took to cover that distance. Ensure that the user inputs are treated as floating-point numbers."
   ]
  },
  {
   "cell_type": "markdown",
   "id": "44b3a391",
   "metadata": {},
   "source": [
    "Answer:"
   ]
  },
  {
   "cell_type": "code",
   "execution_count": 4,
   "id": "cc47a3c3",
   "metadata": {},
   "outputs": [
    {
     "name": "stdout",
     "output_type": "stream",
     "text": [
      "Enter the distance (in meters): 20\n",
      "Enter the time (in seconds): 30\n",
      "The speed of the object is 0.6666666666666666 m/s.\n"
     ]
    }
   ],
   "source": [
    "distance = float(input(\"Enter the distance (in meters): \"))\n",
    "time = float(input(\"Enter the time (in seconds): \"))\n",
    "speed = distance / time\n",
    "print(f\"The speed of the object is {speed} m/s.\")"
   ]
  },
  {
   "cell_type": "markdown",
   "id": "b31b5600",
   "metadata": {},
   "source": [
    "Assignment 10: Binary to Decimal Conversion"
   ]
  },
  {
   "cell_type": "markdown",
   "id": "bd3e6f7b",
   "metadata": {},
   "source": [
    "Task: Create a program that converts a binary number to its decimal equivalent. Prompt the user to enter a binary number (as a string) and use type casting to perform the conversion."
   ]
  },
  {
   "cell_type": "markdown",
   "id": "b50ae4ef",
   "metadata": {},
   "source": [
    "Answer:"
   ]
  },
  {
   "cell_type": "code",
   "execution_count": 3,
   "id": "89841f0b",
   "metadata": {},
   "outputs": [
    {
     "name": "stdout",
     "output_type": "stream",
     "text": [
      "Enter a binary number: 0b1101\n",
      "The decimal equivalent of 0b1101 is 13.\n"
     ]
    }
   ],
   "source": [
    "binary_number = input(\"Enter a binary number: \")\n",
    "decimal_number = int(binary_number, 2)\n",
    "print(f\"The decimal equivalent of {binary_number} is {decimal_number}.\")"
   ]
  }
 ],
 "metadata": {
  "kernelspec": {
   "display_name": "Python 3 (ipykernel)",
   "language": "python",
   "name": "python3"
  },
  "language_info": {
   "codemirror_mode": {
    "name": "ipython",
    "version": 3
   },
   "file_extension": ".py",
   "mimetype": "text/x-python",
   "name": "python",
   "nbconvert_exporter": "python",
   "pygments_lexer": "ipython3",
   "version": "3.9.13"
  },
  "toc": {
   "base_numbering": 1,
   "nav_menu": {},
   "number_sections": true,
   "sideBar": true,
   "skip_h1_title": false,
   "title_cell": "Table of Contents",
   "title_sidebar": "Contents",
   "toc_cell": false,
   "toc_position": {},
   "toc_section_display": true,
   "toc_window_display": false
  }
 },
 "nbformat": 4,
 "nbformat_minor": 5
}
