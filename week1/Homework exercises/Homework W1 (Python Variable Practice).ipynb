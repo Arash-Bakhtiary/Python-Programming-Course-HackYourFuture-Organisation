{
 "cells": [
  {
   "cell_type": "markdown",
   "id": "dbee02f3",
   "metadata": {},
   "source": [
    "# Assignments - W1 (Python Variable Practice)"
   ]
  },
  {
   "cell_type": "markdown",
   "id": "3671de93",
   "metadata": {},
   "source": [
    "Assignment 1: Temperature Conversion"
   ]
  },
  {
   "cell_type": "markdown",
   "id": "1e915636",
   "metadata": {},
   "source": [
    "Task: Create two variables, temperature_celsius and temperature_fahrenheit. Assign a temperature in Celsius to temperature_celsius, and then calculate and assign its equivalent temperature in Fahrenheit to temperature_fahrenheit. Print both temperatures."
   ]
  },
  {
   "cell_type": "markdown",
   "id": "a287b124",
   "metadata": {},
   "source": [
    "Assignment 2: Currency Conversion"
   ]
  },
  {
   "cell_type": "markdown",
   "id": "d38d075e",
   "metadata": {},
   "source": [
    "Task: Create variables usd_amount and exchange_rate. Assign an amount in USD to usd_amount and the current exchange rate to exchange_rate. Calculate and print the equivalent amount in EUR."
   ]
  },
  {
   "cell_type": "markdown",
   "id": "7f4a572d",
   "metadata": {},
   "source": [
    "Assignment 3: User Input and Computation"
   ]
  },
  {
   "cell_type": "markdown",
   "id": "33b37cdf",
   "metadata": {},
   "source": [
    "Task: Create a variable user_input and assign a numeric value entered by the user. Calculate the square of the user's input and assign it to a variable result. Print the result."
   ]
  },
  {
   "cell_type": "markdown",
   "id": "0a4681f9",
   "metadata": {},
   "source": [
    "Assignment 4: Character Count"
   ]
  },
  {
   "cell_type": "markdown",
   "id": "ba329f64",
   "metadata": {},
   "source": [
    "Task: Create a variable text and assign a sentence to it. Count and assign the number of characters in the sentence to a variable char_count. Print the character count."
   ]
  },
  {
   "cell_type": "markdown",
   "id": "d686f19a",
   "metadata": {},
   "source": [
    "Assignment 5: Discount Calculation"
   ]
  },
  {
   "cell_type": "markdown",
   "id": "c9b12a6c",
   "metadata": {},
   "source": [
    "Task: Create variables original_price and discount_percentage. Assign an original price and a discount percentage. Calculate and print the discounted price."
   ]
  },
  {
   "cell_type": "markdown",
   "id": "8db5508c",
   "metadata": {},
   "source": [
    "Assignment 6: BMI Calculation"
   ]
  },
  {
   "cell_type": "markdown",
   "id": "8996f774",
   "metadata": {},
   "source": [
    "Task: Create variables weight_kg and height_m. Assign a weight in kilograms and height in meters. Calculate and print the BMI (Body Mass Index)."
   ]
  },
  {
   "cell_type": "markdown",
   "id": "269f5d79",
   "metadata": {},
   "source": [
    "Assignment 7: Time Conversion"
   ]
  },
  {
   "cell_type": "markdown",
   "id": "30bc4594",
   "metadata": {},
   "source": [
    "Task: Create a variable hours and assign the number of hours. Convert this value into minutes and seconds, then print the result."
   ]
  },
  {
   "cell_type": "markdown",
   "id": "4f43f6d7",
   "metadata": {},
   "source": [
    "Assignment 8: Area Calculation"
   ]
  },
  {
   "cell_type": "markdown",
   "id": "ab7b1033",
   "metadata": {},
   "source": [
    "Task: Create a variable base and height representing the base and height of a triangle. Calculate and print the area of the triangle."
   ]
  },
  {
   "cell_type": "markdown",
   "id": "195b8cfe",
   "metadata": {},
   "source": [
    "Assignment 9: Interest Calculation"
   ]
  },
  {
   "cell_type": "markdown",
   "id": "be40cf6e",
   "metadata": {},
   "source": [
    "Task: Create variables principal, rate, and time. Assign values to represent a principal amount, interest rate, and time (in years). Calculate and print the simple interest."
   ]
  },
  {
   "cell_type": "markdown",
   "id": "57fa13de",
   "metadata": {},
   "source": [
    "Assignment 10: String Concatenation"
   ]
  },
  {
   "cell_type": "markdown",
   "id": "2bd141d8",
   "metadata": {},
   "source": [
    "Task: Create variables first_name and last_name. Assign your first name and last name to these variables. Concatenate them and print a greeting message."
   ]
  }
 ],
 "metadata": {
  "kernelspec": {
   "display_name": "Python 3 (ipykernel)",
   "language": "python",
   "name": "python3"
  },
  "language_info": {
   "codemirror_mode": {
    "name": "ipython",
    "version": 3
   },
   "file_extension": ".py",
   "mimetype": "text/x-python",
   "name": "python",
   "nbconvert_exporter": "python",
   "pygments_lexer": "ipython3",
   "version": "3.9.13"
  },
  "toc": {
   "base_numbering": 1,
   "nav_menu": {},
   "number_sections": true,
   "sideBar": true,
   "skip_h1_title": false,
   "title_cell": "Table of Contents",
   "title_sidebar": "Contents",
   "toc_cell": false,
   "toc_position": {},
   "toc_section_display": true,
   "toc_window_display": false
  }
 },
 "nbformat": 4,
 "nbformat_minor": 5
}
