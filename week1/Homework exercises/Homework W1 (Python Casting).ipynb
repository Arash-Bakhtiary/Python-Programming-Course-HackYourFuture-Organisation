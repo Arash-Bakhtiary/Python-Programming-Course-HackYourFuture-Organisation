{
 "cells": [
  {
   "cell_type": "markdown",
   "id": "dbee02f3",
   "metadata": {},
   "source": [
    "# Assignments - W1 (Python Casting)"
   ]
  },
  {
   "cell_type": "markdown",
   "id": "23cddca7",
   "metadata": {},
   "source": [
    "Assignment 1: Temperature Conversion"
   ]
  },
  {
   "cell_type": "markdown",
   "id": "d5d036bb",
   "metadata": {},
   "source": [
    "Task: Write a program that converts a temperature in degrees Celsius to degrees Fahrenheit. Prompt the user for input in Celsius and then perform the conversion."
   ]
  },
  {
   "cell_type": "markdown",
   "id": "0f0fafd4",
   "metadata": {},
   "source": [
    "Assignment 2: Length Conversion"
   ]
  },
  {
   "cell_type": "markdown",
   "id": "e158d047",
   "metadata": {},
   "source": [
    "Task: Create a program that converts a length in meters to feet. Prompt the user for input in meters and then perform the conversion."
   ]
  },
  {
   "cell_type": "markdown",
   "id": "7c5258b1",
   "metadata": {},
   "source": [
    "Assignment 3: Currency Conversion"
   ]
  },
  {
   "cell_type": "markdown",
   "id": "309101af",
   "metadata": {},
   "source": [
    "Task: Write a program that converts an amount in one currency to another currency. Prompt the user for an amount in USD and then convert it to EUR using the current exchange rate."
   ]
  },
  {
   "cell_type": "markdown",
   "id": "dcdbf199",
   "metadata": {},
   "source": [
    "Assignment 4: Data Type Detection"
   ]
  },
  {
   "cell_type": "markdown",
   "id": "98a7a1d7",
   "metadata": {},
   "source": [
    "Task: Create a program that detects and prints the data type of a given input. Prompt the user to enter a value, and then use type casting to identify its data type."
   ]
  },
  {
   "cell_type": "markdown",
   "id": "2c92bd4e",
   "metadata": {},
   "source": [
    "Assignment 5: Numeric Operations"
   ]
  },
  {
   "cell_type": "markdown",
   "id": "c9c825f4",
   "metadata": {},
   "source": [
    "Task: Write a program that calculates the area of a rectangle given its length and width. Prompt the user for input and ensure that the length and width are treated as floating-point numbers."
   ]
  },
  {
   "cell_type": "markdown",
   "id": "878846b8",
   "metadata": {},
   "source": [
    "Assignment 6: User Authentication"
   ]
  },
  {
   "cell_type": "markdown",
   "id": "60cdb655",
   "metadata": {},
   "source": [
    "Task: Create a program that simulates user authentication. Prompt the user to enter their username and password. Compare the input with predefined username and password values (stored as strings) using type casting to convert input to the appropriate data type."
   ]
  },
  {
   "cell_type": "markdown",
   "id": "dfee9ac2",
   "metadata": {},
   "source": [
    "Assignment 7: Number Sequence Sum"
   ]
  },
  {
   "cell_type": "markdown",
   "id": "a9fbb5a3",
   "metadata": {},
   "source": [
    "Task: Write a program that calculates the sum of an arithmetic sequence. Prompt the user to enter the first term, common difference, and the number of terms. Ensure that the user inputs are treated as integers."
   ]
  },
  {
   "cell_type": "markdown",
   "id": "f31c0326",
   "metadata": {},
   "source": [
    "Assignment 8: Age Comparison"
   ]
  },
  {
   "cell_type": "markdown",
   "id": "7f8a7765",
   "metadata": {},
   "source": [
    "Task: Create a program that compares the ages of two people. Prompt the user to enter their ages, and then determine who is older using type casting to convert input to integers."
   ]
  },
  {
   "cell_type": "markdown",
   "id": "e4d4ae9e",
   "metadata": {},
   "source": [
    "Assignment 9: Speed Calculation"
   ]
  },
  {
   "cell_type": "markdown",
   "id": "29b16150",
   "metadata": {},
   "source": [
    "Task: Write a program that calculates the speed of an object. Prompt the user to enter the distance (in meters) and the time (in seconds) it took to cover that distance. Ensure that the user inputs are treated as floating-point numbers."
   ]
  },
  {
   "cell_type": "markdown",
   "id": "b31b5600",
   "metadata": {},
   "source": [
    "Assignment 10: Binary to Decimal Conversion"
   ]
  },
  {
   "cell_type": "markdown",
   "id": "bd3e6f7b",
   "metadata": {},
   "source": [
    "Task: Create a program that converts a binary number to its decimal equivalent. Prompt the user to enter a binary number (as a string) and use type casting to perform the conversion."
   ]
  }
 ],
 "metadata": {
  "kernelspec": {
   "display_name": "Python 3 (ipykernel)",
   "language": "python",
   "name": "python3"
  },
  "language_info": {
   "codemirror_mode": {
    "name": "ipython",
    "version": 3
   },
   "file_extension": ".py",
   "mimetype": "text/x-python",
   "name": "python",
   "nbconvert_exporter": "python",
   "pygments_lexer": "ipython3",
   "version": "3.9.13"
  },
  "toc": {
   "base_numbering": 1,
   "nav_menu": {},
   "number_sections": true,
   "sideBar": true,
   "skip_h1_title": false,
   "title_cell": "Table of Contents",
   "title_sidebar": "Contents",
   "toc_cell": false,
   "toc_position": {},
   "toc_section_display": true,
   "toc_window_display": false
  }
 },
 "nbformat": 4,
 "nbformat_minor": 5
}
