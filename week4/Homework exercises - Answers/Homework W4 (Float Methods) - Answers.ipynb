{
 "cells": [
  {
   "cell_type": "markdown",
   "id": "dbee02f3",
   "metadata": {},
   "source": [
    "# Assignments - W4 (Float Methods)"
   ]
  },
  {
   "cell_type": "markdown",
   "id": "4ebe6a92",
   "metadata": {},
   "source": [
    "Assignment 1: Handling Precision in Financial Calculations"
   ]
  },
  {
   "cell_type": "markdown",
   "id": "a9e8dfde",
   "metadata": {},
   "source": [
    "Task: Create a Python program that simulates a financial calculation involving floating-point numbers and then introduces the decimal module to handle precision issues that might arise in financial applications.\n",
    "\n",
    "1) Start by performing a simple interest calculation using regular floats.\n",
    "\n",
    "2) Calculate the interest for a principal amount of $1000 at an annual interest rate of 5 percent for one year. Use regular floats.\n",
    "\n",
    "3) Then, implement the same calculation using the decimal module with a precision of 4 decimal places.\n",
    "\n",
    "4) Compare the results and discuss any differences, emphasizing the importance of precision in financial calculations."
   ]
  },
  {
   "cell_type": "markdown",
   "id": "e0cb4b0f",
   "metadata": {},
   "source": [
    "Answer:"
   ]
  },
  {
   "cell_type": "code",
   "execution_count": 12,
   "id": "b00b3ef5",
   "metadata": {},
   "outputs": [
    {
     "name": "stdout",
     "output_type": "stream",
     "text": [
      "Interest (Float): 50.0\n",
      "Interest (Decimal): 50.00\n"
     ]
    }
   ],
   "source": [
    "# Homework 1: Handling Precision in Financial Calculations\n",
    "\n",
    "# Using regular floats\n",
    "principal_float = 1000.0\n",
    "rate_float = 0.05\n",
    "time = 1\n",
    "interest_float = principal_float * rate_float * time\n",
    "\n",
    "print(\"Interest (Float):\", interest_float)\n",
    "\n",
    "# Using the decimal module with precision\n",
    "from decimal import Decimal, getcontext\n",
    "\n",
    "getcontext().prec = 4  # Set precision to 4 decimal places\n",
    "\n",
    "principal_decimal = Decimal('1000')\n",
    "rate_decimal = Decimal('0.05')\n",
    "interest_decimal = principal_decimal * rate_decimal * Decimal(time)\n",
    "\n",
    "print(\"Interest (Decimal):\", interest_decimal)"
   ]
  },
  {
   "cell_type": "markdown",
   "id": "1413f1a2",
   "metadata": {},
   "source": [
    "Assignment 2: Precision Loss Analysis"
   ]
  },
  {
   "cell_type": "markdown",
   "id": "20f13b3e",
   "metadata": {},
   "source": [
    "Task: Write a Python program that demonstrates precision loss when converting a large float to a hexadecimal representation using the hex() method. Discuss the reasons behind the precision loss."
   ]
  },
  {
   "cell_type": "markdown",
   "id": "3ace8704",
   "metadata": {},
   "source": [
    "Answer:"
   ]
  },
  {
   "cell_type": "code",
   "execution_count": 1,
   "id": "7f926ceb",
   "metadata": {},
   "outputs": [
    {
     "name": "stdout",
     "output_type": "stream",
     "text": [
      "Original Float: 1e+23\n",
      "Hexadecimal Representation: 0x1.52d02c7e14af6p+76\n"
     ]
    }
   ],
   "source": [
    "# Homework 2: Precision Loss Analysis\n",
    "\n",
    "large_float = 1e23\n",
    "hex_representation = large_float.hex()\n",
    "\n",
    "print(\"Original Float:\", large_float)\n",
    "print(\"Hexadecimal Representation:\", hex_representation)"
   ]
  },
  {
   "cell_type": "markdown",
   "id": "dc84f808",
   "metadata": {},
   "source": [
    "Assignment 3: Float to Integer Conversion"
   ]
  },
  {
   "cell_type": "markdown",
   "id": "1b20b626",
   "metadata": {},
   "source": [
    "Task: Create a Python program that converts a floating-point number to an integer using the float.as_integer_ratio() method and mathematically analyzes the potential loss of precision."
   ]
  },
  {
   "cell_type": "markdown",
   "id": "b6612d69",
   "metadata": {},
   "source": [
    "Answer:"
   ]
  },
  {
   "cell_type": "code",
   "execution_count": 2,
   "id": "a3b4a856",
   "metadata": {},
   "outputs": [
    {
     "name": "stdout",
     "output_type": "stream",
     "text": [
      "Original Float: 3.14159265359\n",
      "Converted Integer: 3\n"
     ]
    }
   ],
   "source": [
    "# Homework 3: Float to Integer Conversion\n",
    "\n",
    "float_value = 3.14159265359\n",
    "ratio = float_value.as_integer_ratio()\n",
    "integer_value = int(ratio[0] / ratio[1])\n",
    "\n",
    "print(\"Original Float:\", float_value)\n",
    "print(\"Converted Integer:\", integer_value)"
   ]
  },
  {
   "cell_type": "markdown",
   "id": "a4e156d2",
   "metadata": {},
   "source": [
    "Assignment 4: Rounding Analysis"
   ]
  },
  {
   "cell_type": "markdown",
   "id": "bb3ea7cf",
   "metadata": {},
   "source": [
    "Task: Write a Python program that explores different rounding methods for floats, including rounding up, rounding down, and rounding to the nearest integer. Discuss when each method is appropriate."
   ]
  },
  {
   "cell_type": "markdown",
   "id": "a2c271c0",
   "metadata": {},
   "source": [
    "Answer:"
   ]
  },
  {
   "cell_type": "code",
   "execution_count": 3,
   "id": "2f36243d",
   "metadata": {},
   "outputs": [
    {
     "name": "stdout",
     "output_type": "stream",
     "text": [
      "Original Float: 4.5\n",
      "Rounded Up: 5\n",
      "Rounded Down: 4\n",
      "Rounded to Nearest: 4\n"
     ]
    }
   ],
   "source": [
    "# Homework 4: Rounding Analysis\n",
    "\n",
    "import math\n",
    "\n",
    "float_value = 4.5\n",
    "\n",
    "rounded_up = math.ceil(float_value)\n",
    "rounded_down = math.floor(float_value)\n",
    "rounded_nearest = round(float_value)\n",
    "\n",
    "print(\"Original Float:\", float_value)\n",
    "print(\"Rounded Up:\", rounded_up)\n",
    "print(\"Rounded Down:\", rounded_down)\n",
    "print(\"Rounded to Nearest:\", rounded_nearest)"
   ]
  },
  {
   "cell_type": "markdown",
   "id": "1c555461",
   "metadata": {},
   "source": [
    "Assignment 5: Floating-Point Comparison"
   ]
  },
  {
   "cell_type": "markdown",
   "id": "6eaa2ade",
   "metadata": {},
   "source": [
    "Task: Create a Python program that demonstrates the challenges of comparing floating-point numbers for equality using the == operator. Discuss the use of epsilon values for tolerance."
   ]
  },
  {
   "cell_type": "markdown",
   "id": "b0c8bc72",
   "metadata": {},
   "source": [
    "Answer:"
   ]
  },
  {
   "cell_type": "code",
   "execution_count": 4,
   "id": "60418e66",
   "metadata": {},
   "outputs": [
    {
     "name": "stdout",
     "output_type": "stream",
     "text": [
      "Float1 is approximately equal to Float2.\n"
     ]
    }
   ],
   "source": [
    "# Homework 5: Floating-Point Comparison\n",
    "\n",
    "float1 = 0.1 + 0.2\n",
    "float2 = 0.3\n",
    "\n",
    "epsilon = 1e-10  # Small tolerance for comparison\n",
    "\n",
    "if abs(float1 - float2) < epsilon:\n",
    "    print(\"Float1 is approximately equal to Float2.\")\n",
    "else:\n",
    "    print(\"Float1 is not equal to Float2.\")"
   ]
  },
  {
   "cell_type": "markdown",
   "id": "1ae25779",
   "metadata": {},
   "source": [
    "Assignment 6: Floating-Point Arithmetic"
   ]
  },
  {
   "cell_type": "markdown",
   "id": "495d4c78",
   "metadata": {},
   "source": [
    "Task: Write a Python program that demonstrates floating-point arithmetic issues, such as loss of significance, by performing subtraction between two nearly equal numbers."
   ]
  },
  {
   "cell_type": "markdown",
   "id": "44ee2bcc",
   "metadata": {},
   "source": [
    "Answer:"
   ]
  },
  {
   "cell_type": "code",
   "execution_count": 5,
   "id": "941554ce",
   "metadata": {},
   "outputs": [
    {
     "name": "stdout",
     "output_type": "stream",
     "text": [
      "Float1 - Float2 = 0.09999999997671694\n"
     ]
    }
   ],
   "source": [
    "# Homework 6: Floating-Point Arithmetic\n",
    "\n",
    "float1 = 1000000.1\n",
    "float2 = 1000000.0\n",
    "\n",
    "result = float1 - float2\n",
    "\n",
    "print(\"Float1 - Float2 =\", result)"
   ]
  },
  {
   "cell_type": "markdown",
   "id": "8ede4e7e",
   "metadata": {},
   "source": [
    "Assignment 7: Decimal Precision"
   ]
  },
  {
   "cell_type": "markdown",
   "id": "0dc1f4cd",
   "metadata": {},
   "source": [
    "Task: Create a Python program that showcases the advantages of using the decimal module for precise decimal calculations as opposed to using regular floats. Perform a calculation with high precision."
   ]
  },
  {
   "cell_type": "markdown",
   "id": "b4d78312",
   "metadata": {},
   "source": [
    "Answer:"
   ]
  },
  {
   "cell_type": "code",
   "execution_count": 6,
   "id": "855ab94e",
   "metadata": {},
   "outputs": [
    {
     "name": "stdout",
     "output_type": "stream",
     "text": [
      "Decimal Result: 0.3\n"
     ]
    }
   ],
   "source": [
    "# Homework 7: Decimal Precision\n",
    "\n",
    "from decimal import Decimal, getcontext\n",
    "\n",
    "getcontext().prec = 50  # Set precision to 50 decimal places\n",
    "\n",
    "decimal1 = Decimal('0.1')\n",
    "decimal2 = Decimal('0.2')\n",
    "decimal_result = decimal1 + decimal2\n",
    "\n",
    "print(\"Decimal Result:\", decimal_result)"
   ]
  },
  {
   "cell_type": "markdown",
   "id": "1127e235",
   "metadata": {},
   "source": [
    "Assignment 8: Overflow and Underflow"
   ]
  },
  {
   "cell_type": "markdown",
   "id": "cfb915a2",
   "metadata": {},
   "source": [
    "Task: Write a Python program that demonstrates the concepts of overflow and underflow in floating-point numbers. Calculate a large exponent to showcase overflow and a very small exponent to showcase underflow."
   ]
  },
  {
   "cell_type": "markdown",
   "id": "92fd5d1a",
   "metadata": {},
   "source": [
    "Answer:"
   ]
  },
  {
   "cell_type": "code",
   "execution_count": 7,
   "id": "08af5fbc",
   "metadata": {},
   "outputs": [
    {
     "name": "stdout",
     "output_type": "stream",
     "text": [
      "Overflow: inf\n",
      "Underflow: 5e-309\n"
     ]
    }
   ],
   "source": [
    "# Homework 8: Overflow and Underflow\n",
    "\n",
    "overflow = 1.0e308 * 2  # Overflow example\n",
    "underflow = 1.0e-308 / 2  # Underflow example\n",
    "\n",
    "print(\"Overflow:\", overflow)\n",
    "print(\"Underflow:\", underflow)"
   ]
  },
  {
   "cell_type": "markdown",
   "id": "cd4ba72e",
   "metadata": {},
   "source": [
    "Assignment 9: NaN and Infinity Handling"
   ]
  },
  {
   "cell_type": "markdown",
   "id": "ff8b8a7e",
   "metadata": {},
   "source": [
    "Task: Create a Python program that shows how to handle NaN (Not-a-Number) and Infinity values in floating-point arithmetic. Perform operations that result in these special values and demonstrate proper checks."
   ]
  },
  {
   "cell_type": "markdown",
   "id": "64090e04",
   "metadata": {},
   "source": [
    "Answer:"
   ]
  },
  {
   "cell_type": "code",
   "execution_count": 1,
   "id": "d52c3d5e",
   "metadata": {},
   "outputs": [
    {
     "name": "stdout",
     "output_type": "stream",
     "text": [
      "Result1 is NaN.\n",
      "Result2 is Infinity.\n",
      "Result3 is Negative Infinity.\n"
     ]
    }
   ],
   "source": [
    "# Homework 9: NaN and Infinity Handling\n",
    "\n",
    "import math\n",
    "\n",
    "try:\n",
    "    result1 = math.sqrt(-1.0)  # Attempts to calculate the square root\n",
    "except ValueError:\n",
    "    result1 = float('nan')  # Sets result1 to NaN\n",
    "\n",
    "try:\n",
    "    result2 = 1.0 / 0.0  # Raises a ZeroDivisionError\n",
    "except ZeroDivisionError:\n",
    "    result2 = float('inf')  # Sets result2 to Infinity\n",
    "\n",
    "try:\n",
    "    result3 = -1.0 / 0.0  # Raises a ZeroDivisionError\n",
    "except ZeroDivisionError:\n",
    "    result3 = float('-inf')  # Sets result3 to Negative Infinity\n",
    "\n",
    "if math.isnan(result1):\n",
    "    print(\"Result1 is NaN.\")\n",
    "else:\n",
    "    print(\"Result1:\", result1)\n",
    "\n",
    "if math.isinf(result2):\n",
    "    print(\"Result2 is Infinity.\")\n",
    "else:\n",
    "    print(\"Result2:\", result2)\n",
    "\n",
    "if math.isinf(result3):\n",
    "    print(\"Result3 is Negative Infinity.\")\n",
    "else:\n",
    "    print(\"Result3:\", result3)"
   ]
  },
  {
   "cell_type": "markdown",
   "id": "8d4e9b39",
   "metadata": {},
   "source": [
    "Assignment 10: Floating-Point Exceptions"
   ]
  },
  {
   "cell_type": "markdown",
   "id": "cc45cec4",
   "metadata": {},
   "source": [
    "Task: Write a Python program that demonstrates how to handle floating-point exceptions, such as division by zero and invalid operations, using the try and except statements."
   ]
  },
  {
   "cell_type": "markdown",
   "id": "ca1a311a",
   "metadata": {},
   "source": [
    "Answer:"
   ]
  },
  {
   "cell_type": "code",
   "execution_count": 9,
   "id": "4c17ba43",
   "metadata": {},
   "outputs": [
    {
     "name": "stdout",
     "output_type": "stream",
     "text": [
      "Error: Division by zero.\n",
      "Program continues after exceptions.\n"
     ]
    }
   ],
   "source": [
    "# Homework 10: Floating-Point Exceptions\n",
    "\n",
    "try:\n",
    "    result1 = 1.0 / 0.0  # Division by zero\n",
    "except ZeroDivisionError:\n",
    "    print(\"Error: Division by zero.\")\n",
    "\n",
    "try:\n",
    "    result2 = float('inf') - float('inf')  # Invalid operation\n",
    "except ValueError:\n",
    "    print(\"Error: Invalid operation.\")\n",
    "\n",
    "print(\"Program continues after exceptions.\")"
   ]
  }
 ],
 "metadata": {
  "kernelspec": {
   "display_name": "Python 3 (ipykernel)",
   "language": "python",
   "name": "python3"
  },
  "language_info": {
   "codemirror_mode": {
    "name": "ipython",
    "version": 3
   },
   "file_extension": ".py",
   "mimetype": "text/x-python",
   "name": "python",
   "nbconvert_exporter": "python",
   "pygments_lexer": "ipython3",
   "version": "3.9.13"
  },
  "toc": {
   "base_numbering": 1,
   "nav_menu": {},
   "number_sections": true,
   "sideBar": true,
   "skip_h1_title": false,
   "title_cell": "Table of Contents",
   "title_sidebar": "Contents",
   "toc_cell": false,
   "toc_position": {},
   "toc_section_display": true,
   "toc_window_display": false
  }
 },
 "nbformat": 4,
 "nbformat_minor": 5
}
