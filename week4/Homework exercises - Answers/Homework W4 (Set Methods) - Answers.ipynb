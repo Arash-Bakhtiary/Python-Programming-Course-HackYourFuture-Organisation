{
 "cells": [
  {
   "cell_type": "markdown",
   "id": "dbee02f3",
   "metadata": {},
   "source": [
    "# Assignments - W4 (Set Methods)"
   ]
  },
  {
   "cell_type": "markdown",
   "id": "19705614",
   "metadata": {},
   "source": [
    "Assignment 1: Symmetric Difference with Multiple Sets"
   ]
  },
  {
   "cell_type": "markdown",
   "id": "c262d171",
   "metadata": {},
   "source": [
    "Task: Create four sets, set1, set2, set3, and set4, with various elements. Find the symmetric difference of all four sets and store the result in a new set, symmetric_result."
   ]
  },
  {
   "cell_type": "markdown",
   "id": "79ec0957",
   "metadata": {},
   "source": [
    "Answer:"
   ]
  },
  {
   "cell_type": "code",
   "execution_count": 1,
   "id": "6acf710b",
   "metadata": {},
   "outputs": [
    {
     "name": "stdout",
     "output_type": "stream",
     "text": [
      "{1, 2, 5, 7, 10, 11}\n"
     ]
    }
   ],
   "source": [
    "set1 = {1, 2, 3, 4, 5}\n",
    "set2 = {3, 4, 5, 6, 7}\n",
    "set3 = {5, 6, 7, 8, 9}\n",
    "set4 = {7, 8, 9, 10, 11}\n",
    "\n",
    "symmetric_result = set1 ^ set2 ^ set3 ^ set4\n",
    "print(symmetric_result)"
   ]
  },
  {
   "cell_type": "markdown",
   "id": "b9d7e5ee",
   "metadata": {},
   "source": [
    "Assignment 2: Complex Set Operations"
   ]
  },
  {
   "cell_type": "markdown",
   "id": "04345813",
   "metadata": {},
   "source": [
    "Task: Create two sets, setA and setB, with a substantial number of elements. Perform various set operations (union, intersection, difference, and finding unique elements) between these sets."
   ]
  },
  {
   "cell_type": "markdown",
   "id": "61426414",
   "metadata": {},
   "source": [
    "Answer:"
   ]
  },
  {
   "cell_type": "code",
   "execution_count": 2,
   "id": "a1bf328b",
   "metadata": {},
   "outputs": [
    {
     "name": "stdout",
     "output_type": "stream",
     "text": [
      "Union: {1, 2, 3, 4, 5, 6, 7}\n",
      "Intersection: {3, 4, 5}\n",
      "Elements in A but not in B: {1, 2}\n",
      "Elements in B but not in A: {6, 7}\n",
      "Unique elements in both sets: {1, 2, 6, 7}\n"
     ]
    }
   ],
   "source": [
    "setA = {1, 2, 3, 4, 5}\n",
    "setB = {3, 4, 5, 6, 7}\n",
    "\n",
    "union_result = setA.union(setB)\n",
    "intersection_result = setA.intersection(setB)\n",
    "elements_in_A_not_in_B = setA.difference(setB)\n",
    "elements_in_B_not_in_A = setB.difference(setA)\n",
    "unique_elements_in_both = elements_in_A_not_in_B.union(elements_in_B_not_in_A)\n",
    "\n",
    "print(\"Union:\", union_result)\n",
    "print(\"Intersection:\", intersection_result)\n",
    "print(\"Elements in A but not in B:\", elements_in_A_not_in_B)\n",
    "print(\"Elements in B but not in A:\", elements_in_B_not_in_A)\n",
    "print(\"Unique elements in both sets:\", unique_elements_in_both)"
   ]
  },
  {
   "cell_type": "markdown",
   "id": "bb4f0f3e",
   "metadata": {},
   "source": [
    "Assignment 3: Set Comprehensions"
   ]
  },
  {
   "cell_type": "markdown",
   "id": "6f8f94b8",
   "metadata": {},
   "source": [
    "Task: Given a list of integers, create a set comprehension to generate a new set containing only the even numbers from the list."
   ]
  },
  {
   "cell_type": "markdown",
   "id": "5e9836a6",
   "metadata": {},
   "source": [
    "Answer:"
   ]
  },
  {
   "cell_type": "code",
   "execution_count": 3,
   "id": "0631ee0d",
   "metadata": {},
   "outputs": [
    {
     "name": "stdout",
     "output_type": "stream",
     "text": [
      "{2, 4, 6, 8, 10}\n"
     ]
    }
   ],
   "source": [
    "numbers = [1, 2, 3, 4, 5, 6, 7, 8, 9, 10]\n",
    "even_numbers = {x for x in numbers if x % 2 == 0}\n",
    "print(even_numbers)"
   ]
  },
  {
   "cell_type": "markdown",
   "id": "e4666890",
   "metadata": {},
   "source": [
    "Assignment 4: Set Operations with Subsets"
   ]
  },
  {
   "cell_type": "markdown",
   "id": "005e2058",
   "metadata": {},
   "source": [
    "Task: Create three sets: setX, setY, and setZ. Check if setX is a proper subset of setY and if setY is a proper subset of setZ. Explain the difference between proper and non-proper subsets."
   ]
  },
  {
   "cell_type": "markdown",
   "id": "f4561a84",
   "metadata": {},
   "source": [
    "Answer:"
   ]
  },
  {
   "cell_type": "code",
   "execution_count": 5,
   "id": "aa081028",
   "metadata": {},
   "outputs": [
    {
     "name": "stdout",
     "output_type": "stream",
     "text": [
      "Is setX a proper subset of setY? True\n",
      "Is setY a proper subset of setZ? True\n"
     ]
    }
   ],
   "source": [
    "setX = {1, 2, 3}\n",
    "setY = {1, 2, 3, 4, 5}\n",
    "setZ = {1, 2, 3, 4, 5, 6}\n",
    "\n",
    "is_proper_subset_X_Y = setX.issubset(setY) and setX != setY\n",
    "is_proper_subset_Y_Z = setY.issubset(setZ) and setY != setZ\n",
    "\n",
    "print(\"Is setX a proper subset of setY?\", is_proper_subset_X_Y)\n",
    "print(\"Is setY a proper subset of setZ?\", is_proper_subset_Y_Z)"
   ]
  },
  {
   "cell_type": "markdown",
   "id": "8a19ed3b",
   "metadata": {},
   "source": [
    "Assignment 5: Set Operations with Strings"
   ]
  },
  {
   "cell_type": "markdown",
   "id": "fbc4c3a8",
   "metadata": {},
   "source": [
    "Task: Create two sets, setWords1 and setWords2, containing words. Find the common letters (characters) between all the words in each set and store them in separate sets, commonLetters1 and commonLetters2."
   ]
  },
  {
   "cell_type": "markdown",
   "id": "18058fd2",
   "metadata": {},
   "source": [
    "Answer:"
   ]
  },
  {
   "cell_type": "code",
   "execution_count": 6,
   "id": "53c4d706",
   "metadata": {},
   "outputs": [
    {
     "name": "stdout",
     "output_type": "stream",
     "text": [
      "Common letters in setWords1: {'l', 'n', 'h', 'y', 'c', 'r', 'e', 'b', 'a', 'p'}\n",
      "Common letters in setWords2: {'n', 'd', 'h', 'y', 'c', 'r', 'e', 'b', 'a', 't'}\n"
     ]
    }
   ],
   "source": [
    "setWords1 = {\"apple\", \"banana\", \"cherry\"}\n",
    "setWords2 = {\"banana\", \"date\", \"cherry\"}\n",
    "\n",
    "commonLetters1 = {letter for word in setWords1 for letter in word}\n",
    "commonLetters2 = {letter for word in setWords2 for letter in word}\n",
    "\n",
    "print(\"Common letters in setWords1:\", commonLetters1)\n",
    "print(\"Common letters in setWords2:\", commonLetters2)"
   ]
  },
  {
   "cell_type": "markdown",
   "id": "4c1de10c",
   "metadata": {},
   "source": [
    "Assignment 6: Set Intersection with Lists"
   ]
  },
  {
   "cell_type": "markdown",
   "id": "550a22da",
   "metadata": {},
   "source": [
    "Task: Create a set of prime numbers between 1 and 50. Then, create a list of numbers between 20 and 60. Find the intersection of the set of primes and the list of numbers."
   ]
  },
  {
   "cell_type": "markdown",
   "id": "1354d7f8",
   "metadata": {},
   "source": [
    "Answer:"
   ]
  },
  {
   "cell_type": "code",
   "execution_count": 7,
   "id": "bb1497d2",
   "metadata": {},
   "outputs": [
    {
     "name": "stdout",
     "output_type": "stream",
     "text": [
      "Intersection of prime_numbers and numbers_list: {37, 41, 43, 47, 23, 29, 31}\n"
     ]
    }
   ],
   "source": [
    "prime_numbers = {2, 3, 5, 7, 11, 13, 17, 19, 23, 29, 31, 37, 41, 43, 47}\n",
    "numbers_list = list(range(20, 61))\n",
    "intersection_result = prime_numbers.intersection(numbers_list)\n",
    "\n",
    "print(\"Intersection of prime_numbers and numbers_list:\", intersection_result)"
   ]
  },
  {
   "cell_type": "markdown",
   "id": "1f9c9aae",
   "metadata": {},
   "source": [
    "Assignment 7: Set Operations with Dictionaries"
   ]
  },
  {
   "cell_type": "markdown",
   "id": "ac477032",
   "metadata": {},
   "source": [
    "Task: Create two dictionaries, dict1 and dict2, where keys represent names, and values represent ages. Convert the keys of both dictionaries into sets and find the common names in both sets."
   ]
  },
  {
   "cell_type": "markdown",
   "id": "495c0845",
   "metadata": {},
   "source": [
    "Answer: "
   ]
  },
  {
   "cell_type": "code",
   "execution_count": 8,
   "id": "2e6a9193",
   "metadata": {},
   "outputs": [
    {
     "name": "stdout",
     "output_type": "stream",
     "text": [
      "Common names: {'Bob'}\n"
     ]
    }
   ],
   "source": [
    "dict1 = {\"Alice\": 25, \"Bob\": 30, \"Charlie\": 35}\n",
    "dict2 = {\"Bob\": 30, \"David\": 40, \"Eve\": 25}\n",
    "\n",
    "setNames1 = set(dict1.keys())\n",
    "setNames2 = set(dict2.keys())\n",
    "common_names = setNames1.intersection(setNames2)\n",
    "\n",
    "print(\"Common names:\", common_names)\n"
   ]
  },
  {
   "cell_type": "markdown",
   "id": "c1d89cdd",
   "metadata": {},
   "source": [
    "Assignment 8: Set Operations with Nested Sets"
   ]
  },
  {
   "cell_type": "markdown",
   "id": "b5b85190",
   "metadata": {},
   "source": [
    "Task: Create a set of sets (a set of frozensets) where each inner set represents a group of people. Find the union of all the groups and store the result as a single set containing all unique people."
   ]
  },
  {
   "cell_type": "markdown",
   "id": "47b10757",
   "metadata": {},
   "source": [
    "Answer:"
   ]
  },
  {
   "cell_type": "code",
   "execution_count": 13,
   "id": "aa41830f",
   "metadata": {},
   "outputs": [
    {
     "name": "stdout",
     "output_type": "stream",
     "text": [
      "All unique people: {'Frank', 'Bob', 'Grace', 'David', 'Alice', 'Charlie', 'Eve'}\n"
     ]
    }
   ],
   "source": [
    "group1 = frozenset({\"Alice\", \"Bob\", \"Charlie\"})\n",
    "group2 = frozenset({\"Bob\", \"David\", \"Eve\"})\n",
    "group3 = frozenset({\"Charlie\", \"Frank\", \"Grace\"})\n",
    "\n",
    "all_people = set()  # Create an empty set to store all unique people\n",
    "\n",
    "# Iterate through the groups and add their elements to the all_people set\n",
    "for group in [group1, group2, group3]:\n",
    "    all_people.update(group)\n",
    "\n",
    "print(\"All unique people:\", all_people)"
   ]
  },
  {
   "cell_type": "markdown",
   "id": "203cb12f",
   "metadata": {},
   "source": [
    "Assignment 9: Set Operations with Complex Types"
   ]
  },
  {
   "cell_type": "markdown",
   "id": "979bf824",
   "metadata": {},
   "source": [
    "Task: Create two sets, setComplex1 and setComplex2, containing tuples of (name, age) pairs. Find the intersection of the two sets based on the age of individuals."
   ]
  },
  {
   "cell_type": "markdown",
   "id": "5776bb7b",
   "metadata": {},
   "source": [
    "Answer:"
   ]
  },
  {
   "cell_type": "code",
   "execution_count": 10,
   "id": "57248adc",
   "metadata": {},
   "outputs": [
    {
     "name": "stdout",
     "output_type": "stream",
     "text": [
      "Intersection based on age: {('Bob', 30)}\n"
     ]
    }
   ],
   "source": [
    "setComplex1 = {(\"Alice\", 25), (\"Bob\", 30), (\"Charlie\", 35)}\n",
    "setComplex2 = {(\"Bob\", 30), (\"David\", 40), (\"Eve\", 25)}\n",
    "\n",
    "intersection_result = {item for item in setComplex1 if item in setComplex2}\n",
    "\n",
    "print(\"Intersection based on age:\", intersection_result)"
   ]
  },
  {
   "cell_type": "markdown",
   "id": "3bce1390",
   "metadata": {},
   "source": [
    "Assignment 10: Set Mutations with User Input"
   ]
  },
  {
   "cell_type": "markdown",
   "id": "9d53c13a",
   "metadata": {},
   "source": [
    "Task: Create an empty set and ask the user to input a series of numbers. Allow the user to add or remove numbers from the set based on their input until they decide to stop. Finally, calculate and display the sum of the numbers in the set."
   ]
  },
  {
   "cell_type": "markdown",
   "id": "efd746c1",
   "metadata": {},
   "source": [
    "Answer:"
   ]
  },
  {
   "cell_type": "code",
   "execution_count": 11,
   "id": "5bbdb1c3",
   "metadata": {},
   "outputs": [
    {
     "name": "stdout",
     "output_type": "stream",
     "text": [
      "Enter a number (or 'stop' to finish): 2\n",
      "Enter a number (or 'stop' to finish): 5\n",
      "Enter a number (or 'stop' to finish): 2\n",
      "Enter a number (or 'stop' to finish): stop\n",
      "Sum of numbers in the set: 7\n"
     ]
    }
   ],
   "source": [
    "num_set = set()\n",
    "while True:\n",
    "    user_input = input(\"Enter a number (or 'stop' to finish): \")\n",
    "    if user_input == 'stop':\n",
    "        break\n",
    "    try:\n",
    "        num = int(user_input)\n",
    "        num_set.add(num)\n",
    "    except ValueError:\n",
    "        print(\"Invalid input. Please enter a number.\")\n",
    "\n",
    "sum_of_numbers = sum(num_set)\n",
    "print(\"Sum of numbers in the set:\", sum_of_numbers)"
   ]
  }
 ],
 "metadata": {
  "kernelspec": {
   "display_name": "Python 3 (ipykernel)",
   "language": "python",
   "name": "python3"
  },
  "language_info": {
   "codemirror_mode": {
    "name": "ipython",
    "version": 3
   },
   "file_extension": ".py",
   "mimetype": "text/x-python",
   "name": "python",
   "nbconvert_exporter": "python",
   "pygments_lexer": "ipython3",
   "version": "3.9.13"
  },
  "toc": {
   "base_numbering": 1,
   "nav_menu": {},
   "number_sections": true,
   "sideBar": true,
   "skip_h1_title": false,
   "title_cell": "Table of Contents",
   "title_sidebar": "Contents",
   "toc_cell": false,
   "toc_position": {},
   "toc_section_display": true,
   "toc_window_display": false
  }
 },
 "nbformat": 4,
 "nbformat_minor": 5
}
