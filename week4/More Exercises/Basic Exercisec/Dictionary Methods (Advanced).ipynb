{
 "cells": [
  {
   "cell_type": "markdown",
   "id": "dbee02f3",
   "metadata": {},
   "source": [
    "# Dictionary Methods (Advanced)"
   ]
  },
  {
   "cell_type": "markdown",
   "id": "ca9ffa6b",
   "metadata": {},
   "source": [
    "Question: Create a new dictionary with keys from an existing dictionary and default values"
   ]
  },
  {
   "cell_type": "code",
   "execution_count": 1,
   "id": "a8531223",
   "metadata": {},
   "outputs": [
    {
     "data": {
      "text/plain": [
       "{'name': 'N/A', 'age': 'N/A'}"
      ]
     },
     "execution_count": 1,
     "metadata": {},
     "output_type": "execute_result"
    }
   ],
   "source": [
    "my_dict = {'name': 'John', 'age': 30}\n",
    "default_value = 'N/A'\n",
    "new_dict = {key: default_value for key in my_dict}\n",
    "new_dict"
   ]
  },
  {
   "cell_type": "markdown",
   "id": "21f46469",
   "metadata": {},
   "source": [
    "Question: Use a dictionary comprehension to create a new dictionary by filtering the key-value pairs based on a condition"
   ]
  },
  {
   "cell_type": "code",
   "execution_count": 2,
   "id": "20e6967a",
   "metadata": {},
   "outputs": [
    {
     "data": {
      "text/plain": [
       "{'b': 2, 'd': 4}"
      ]
     },
     "execution_count": 2,
     "metadata": {},
     "output_type": "execute_result"
    }
   ],
   "source": [
    "my_dict = {'a': 1, 'b': 2, 'c': 3, 'd': 4}\n",
    "filtered_dict = {key: value for key, value in my_dict.items() if value % 2 == 0}\n",
    "filtered_dict"
   ]
  },
  {
   "cell_type": "markdown",
   "id": "113e3482",
   "metadata": {},
   "source": [
    "Question: Merge two dictionaries and prioritize values from the second dictionary"
   ]
  },
  {
   "cell_type": "code",
   "execution_count": 3,
   "id": "2181ab25",
   "metadata": {},
   "outputs": [
    {
     "data": {
      "text/plain": [
       "{'a': 1, 'b': 4, 'c': 3, 'd': 5}"
      ]
     },
     "execution_count": 3,
     "metadata": {},
     "output_type": "execute_result"
    }
   ],
   "source": [
    "dict1 = {'a': 1, 'b': 2, 'c': 3}\n",
    "dict2 = {'b': 4, 'd': 5}\n",
    "merged_dict = {**dict1, **dict2}\n",
    "merged_dict"
   ]
  },
  {
   "cell_type": "markdown",
   "id": "068d6296",
   "metadata": {},
   "source": [
    "Question: Use the setdefault() method to create a nested dictionary"
   ]
  },
  {
   "cell_type": "code",
   "execution_count": 4,
   "id": "903ebbf1",
   "metadata": {},
   "outputs": [
    {
     "data": {
      "text/plain": [
       "{'a': {}, 'b': {}, 'c': {}}"
      ]
     },
     "execution_count": 4,
     "metadata": {},
     "output_type": "execute_result"
    }
   ],
   "source": [
    "my_dict = {}\n",
    "keys = ['a', 'b', 'c']\n",
    "default_value = {}\n",
    "for key in keys:\n",
    "    my_dict.setdefault(key, default_value)\n",
    "my_dict"
   ]
  },
  {
   "cell_type": "markdown",
   "id": "87c999bd",
   "metadata": {},
   "source": [
    "Question: Merge two dictionaries into a new one and specify a custom function to resolve conflicts"
   ]
  },
  {
   "cell_type": "code",
   "execution_count": 5,
   "id": "ddf5d986",
   "metadata": {},
   "outputs": [
    {
     "data": {
      "text/plain": [
       "defaultdict(int, {'a': 1, 'b': 6, 'c': 3, 'd': 5})"
      ]
     },
     "execution_count": 5,
     "metadata": {},
     "output_type": "execute_result"
    }
   ],
   "source": [
    "from collections import defaultdict\n",
    "\n",
    "dict1 = {'a': 1, 'b': 2, 'c': 3}\n",
    "dict2 = {'b': 4, 'd': 5}\n",
    "\n",
    "result_dict = defaultdict(int, dict1)\n",
    "for key, value in dict2.items():\n",
    "    result_dict[key] += value\n",
    "result_dict"
   ]
  },
  {
   "cell_type": "markdown",
   "id": "2bd19e04",
   "metadata": {},
   "source": [
    "Question: Group a list of items into a dictionary of lists based on a common attribute"
   ]
  },
  {
   "cell_type": "code",
   "execution_count": 6,
   "id": "44c4be25",
   "metadata": {},
   "outputs": [
    {
     "data": {
      "text/plain": [
       "{30: ['Alice', 'Charlie'], 25: ['Bob']}"
      ]
     },
     "execution_count": 6,
     "metadata": {},
     "output_type": "execute_result"
    }
   ],
   "source": [
    "class Person:\n",
    "    def __init__(self, name, age):\n",
    "        self.name = name\n",
    "        self.age = age\n",
    "\n",
    "people = [\n",
    "    Person(\"Alice\", 30),\n",
    "    Person(\"Bob\", 25),\n",
    "    Person(\"Charlie\", 30)\n",
    "]\n",
    "\n",
    "grouped_by_age = {}\n",
    "for person in people:\n",
    "    grouped_by_age.setdefault(person.age, []).append(person.name)\n",
    "grouped_by_age"
   ]
  },
  {
   "cell_type": "markdown",
   "id": "506f20b7",
   "metadata": {},
   "source": [
    "Question: Create a dictionary of word frequencies from a given text"
   ]
  },
  {
   "cell_type": "code",
   "execution_count": 7,
   "id": "b5d378b8",
   "metadata": {},
   "outputs": [
    {
     "data": {
      "text/plain": [
       "{'This': 2,\n",
       " 'is': 1,\n",
       " 'a': 1,\n",
       " 'sample': 2,\n",
       " 'text.': 1,\n",
       " 'text': 1,\n",
       " 'contains': 1,\n",
       " 'words.': 1}"
      ]
     },
     "execution_count": 7,
     "metadata": {},
     "output_type": "execute_result"
    }
   ],
   "source": [
    "text = \"This is a sample text. This text contains sample words.\"\n",
    "words = text.split()\n",
    "word_freq = {}\n",
    "for word in words:\n",
    "    word_freq[word] = word_freq.get(word, 0) + 1\n",
    "word_freq"
   ]
  },
  {
   "cell_type": "markdown",
   "id": "36a0ca79",
   "metadata": {},
   "source": [
    "Question: Use a dictionary to count occurrences of characters in a string"
   ]
  },
  {
   "cell_type": "code",
   "execution_count": 8,
   "id": "4fd74c4f",
   "metadata": {},
   "outputs": [
    {
     "data": {
      "text/plain": [
       "{'h': 1, 'e': 1, 'l': 3, 'o': 2, 'w': 1, 'r': 1, 'd': 1}"
      ]
     },
     "execution_count": 8,
     "metadata": {},
     "output_type": "execute_result"
    }
   ],
   "source": [
    "text = \"Hello, World!\"\n",
    "char_count = {}\n",
    "for char in text:\n",
    "    if char.isalpha():\n",
    "        char_count[char.lower()] = char_count.get(char.lower(), 0) + 1\n",
    "char_count"
   ]
  },
  {
   "cell_type": "markdown",
   "id": "07c0675e",
   "metadata": {},
   "source": [
    "Question: Create a dictionary with a default value factory function"
   ]
  },
  {
   "cell_type": "code",
   "execution_count": 9,
   "id": "995c9954",
   "metadata": {},
   "outputs": [
    {
     "data": {
      "text/plain": [
       "'Not Found'"
      ]
     },
     "execution_count": 9,
     "metadata": {},
     "output_type": "execute_result"
    }
   ],
   "source": [
    "from collections import defaultdict\n",
    "\n",
    "def default_value():\n",
    "    return \"Not Found\"\n",
    "\n",
    "my_dict = defaultdict(default_value)\n",
    "my_dict['a'] = 1\n",
    "value = my_dict['b']\n",
    "value"
   ]
  },
  {
   "cell_type": "markdown",
   "id": "964d553f",
   "metadata": {},
   "source": [
    "Question: Create a dictionary using dictionary comprehension and nested loops"
   ]
  },
  {
   "cell_type": "code",
   "execution_count": 10,
   "id": "16b91163",
   "metadata": {},
   "outputs": [
    {
     "data": {
      "text/plain": [
       "{'a': 3, 'b': 3, 'c': 3}"
      ]
     },
     "execution_count": 10,
     "metadata": {},
     "output_type": "execute_result"
    }
   ],
   "source": [
    "keys = ['a', 'b', 'c']\n",
    "values = [1, 2, 3]\n",
    "my_dict = {key: value for key in keys for value in values}\n",
    "my_dict"
   ]
  },
  {
   "cell_type": "markdown",
   "id": "fb74b271",
   "metadata": {},
   "source": [
    "Question: Count the frequency of unique elements in a list using a dictionary"
   ]
  },
  {
   "cell_type": "code",
   "execution_count": 11,
   "id": "d8c3db2e",
   "metadata": {},
   "outputs": [
    {
     "data": {
      "text/plain": [
       "{1: 1, 2: 2, 3: 3, 4: 4}"
      ]
     },
     "execution_count": 11,
     "metadata": {},
     "output_type": "execute_result"
    }
   ],
   "source": [
    "my_list = [1, 2, 2, 3, 3, 3, 4, 4, 4, 4]\n",
    "element_count = {}\n",
    "for item in my_list:\n",
    "    element_count[item] = element_count.get(item, 0) + 1\n",
    "element_count"
   ]
  },
  {
   "cell_type": "markdown",
   "id": "173ddfec",
   "metadata": {},
   "source": [
    "Question: Create a function that finds the key with the maximum value in a dictionary"
   ]
  },
  {
   "cell_type": "code",
   "execution_count": 12,
   "id": "e9f36c02",
   "metadata": {},
   "outputs": [
    {
     "data": {
      "text/plain": [
       "'c'"
      ]
     },
     "execution_count": 12,
     "metadata": {},
     "output_type": "execute_result"
    }
   ],
   "source": [
    "def find_max_key(input_dict):\n",
    "    if not input_dict:\n",
    "        return None\n",
    "    return max(input_dict, key=input_dict.get)\n",
    "\n",
    "my_dict = {'a': 10, 'b': 5, 'c': 15}\n",
    "max_key = find_max_key(my_dict)\n",
    "max_key"
   ]
  },
  {
   "cell_type": "markdown",
   "id": "b3c71956",
   "metadata": {},
   "source": [
    "Question: Implement a dictionary with case-insensitive keys"
   ]
  },
  {
   "cell_type": "code",
   "execution_count": 13,
   "id": "f059625c",
   "metadata": {},
   "outputs": [
    {
     "name": "stdout",
     "output_type": "stream",
     "text": [
      "Alice\n"
     ]
    }
   ],
   "source": [
    "class CaseInsensitiveDict(dict):\n",
    "    def __init__(self, *args, **kwargs):\n",
    "        super().__init__(*args, **kwargs)\n",
    "        self._keymap = {}\n",
    "\n",
    "    def __setitem__(self, key, value):\n",
    "        lower_key = key.lower()\n",
    "        self._keymap[lower_key] = key\n",
    "        super().__setitem__(lower_key, value)\n",
    "\n",
    "    def __getitem__(self, key):\n",
    "        return super().__getitem__(key.lower())\n",
    "\n",
    "    def __delitem__(self, key):\n",
    "        lower_key = key.lower()\n",
    "        super().__delitem__(lower_key)\n",
    "        del self._keymap[lower_key]\n",
    "\n",
    "my_dict = CaseInsensitiveDict()\n",
    "my_dict['Name'] = 'Alice'\n",
    "print(my_dict['name'])  # Outputs 'Alice'"
   ]
  },
  {
   "cell_type": "markdown",
   "id": "0363c17d",
   "metadata": {},
   "source": [
    "Question: Merge dictionaries and concatenate values if keys are the same"
   ]
  },
  {
   "cell_type": "code",
   "execution_count": 14,
   "id": "bfd4372e",
   "metadata": {},
   "outputs": [
    {
     "data": {
      "text/plain": [
       "defaultdict(str, {'a': 'Hello', 'b': 'World there', 'c': '!'})"
      ]
     },
     "execution_count": 14,
     "metadata": {},
     "output_type": "execute_result"
    }
   ],
   "source": [
    "from collections import defaultdict\n",
    "\n",
    "dict1 = {'a': 'Hello', 'b': 'World'}\n",
    "dict2 = {'b': ' there', 'c': '!'}\n",
    "merged_dict = defaultdict(str)\n",
    "\n",
    "for d in (dict1, dict2):\n",
    "    for key, value in d.items():\n",
    "        merged_dict[key] += value\n",
    "\n",
    "merged_dict"
   ]
  },
  {
   "cell_type": "markdown",
   "id": "403b3477",
   "metadata": {},
   "source": [
    "Question: Create a nested dictionary using a list of keys"
   ]
  },
  {
   "cell_type": "code",
   "execution_count": 15,
   "id": "d6b66bcc",
   "metadata": {},
   "outputs": [
    {
     "data": {
      "text/plain": [
       "{'x': {'y': {'z': 42}}}"
      ]
     },
     "execution_count": 15,
     "metadata": {},
     "output_type": "execute_result"
    }
   ],
   "source": [
    "keys = ['x', 'y', 'z']\n",
    "value = 42\n",
    "nested_dict = {}\n",
    "current_level = nested_dict\n",
    "\n",
    "for key in keys[:-1]:\n",
    "    current_level[key] = {}\n",
    "    current_level = current_level[key]\n",
    "\n",
    "current_level[keys[-1]] = value\n",
    "nested_dict"
   ]
  },
  {
   "cell_type": "markdown",
   "id": "bb267d0c",
   "metadata": {},
   "source": [
    "Question: Calculate the frequency of each character in a string while ignoring spaces"
   ]
  },
  {
   "cell_type": "code",
   "execution_count": 16,
   "id": "b46ffa0c",
   "metadata": {},
   "outputs": [
    {
     "data": {
      "text/plain": [
       "{'H': 1, 'e': 1, 'l': 3, 'o': 2, 'W': 1, 'r': 1, 'd': 1}"
      ]
     },
     "execution_count": 16,
     "metadata": {},
     "output_type": "execute_result"
    }
   ],
   "source": [
    "text = \"Hello World\"\n",
    "char_frequency = {}\n",
    "for char in text:\n",
    "    if char != ' ':\n",
    "        char_frequency[char] = char_frequency.get(char, 0) + 1\n",
    "char_frequency"
   ]
  },
  {
   "cell_type": "markdown",
   "id": "6b60a1e3",
   "metadata": {},
   "source": [
    "Question: Create a dictionary with nested dictionaries using dictionary comprehension"
   ]
  },
  {
   "cell_type": "code",
   "execution_count": 17,
   "id": "f06c9606",
   "metadata": {},
   "outputs": [
    {
     "data": {
      "text/plain": [
       "{'a': {'x': None, 'y': None, 'z': None},\n",
       " 'b': {'x': None, 'y': None, 'z': None},\n",
       " 'c': {'x': None, 'y': None, 'z': None}}"
      ]
     },
     "execution_count": 17,
     "metadata": {},
     "output_type": "execute_result"
    }
   ],
   "source": [
    "keys = ['a', 'b', 'c']\n",
    "nested_dict = {key: {sub_key: None for sub_key in ['x', 'y', 'z']} for key in keys}\n",
    "nested_dict"
   ]
  },
  {
   "cell_type": "markdown",
   "id": "0b0701fc",
   "metadata": {},
   "source": [
    "Question: Create a dictionary by splitting a string into key-value pairs"
   ]
  },
  {
   "cell_type": "code",
   "execution_count": 18,
   "id": "b20de82d",
   "metadata": {},
   "outputs": [
    {
     "data": {
      "text/plain": [
       "{'name': 'Alice', 'age': '30', 'city': 'NewYork'}"
      ]
     },
     "execution_count": 18,
     "metadata": {},
     "output_type": "execute_result"
    }
   ],
   "source": [
    "data = \"name=Alice&age=30&city=NewYork\"\n",
    "key_value_pairs = data.split('&')\n",
    "result_dict = {}\n",
    "\n",
    "for pair in key_value_pairs:\n",
    "    key, value = pair.split('=')\n",
    "    result_dict[key] = value\n",
    "result_dict"
   ]
  },
  {
   "cell_type": "markdown",
   "id": "94f3ab76",
   "metadata": {},
   "source": [
    "Question: Sort a dictionary by its values in descending order"
   ]
  },
  {
   "cell_type": "code",
   "execution_count": 19,
   "id": "11146c23",
   "metadata": {},
   "outputs": [
    {
     "data": {
      "text/plain": [
       "{'c': 15, 'a': 10, 'b': 5}"
      ]
     },
     "execution_count": 19,
     "metadata": {},
     "output_type": "execute_result"
    }
   ],
   "source": [
    "my_dict = {'a': 10, 'b': 5, 'c': 15}\n",
    "sorted_dict = {k: v for k, v in sorted(my_dict.items(), key=lambda item: item[1], reverse=True)}\n",
    "sorted_dict"
   ]
  },
  {
   "cell_type": "markdown",
   "id": "cd5fa9b7",
   "metadata": {},
   "source": [
    "Question: Find common keys in two dictionaries"
   ]
  },
  {
   "cell_type": "code",
   "execution_count": 20,
   "id": "990177f1",
   "metadata": {},
   "outputs": [
    {
     "data": {
      "text/plain": [
       "{'b'}"
      ]
     },
     "execution_count": 20,
     "metadata": {},
     "output_type": "execute_result"
    }
   ],
   "source": [
    "dict1 = {'a': 1, 'b': 2, 'c': 3}\n",
    "dict2 = {'b': 4, 'd': 5}\n",
    "common_keys = set(dict1.keys()) & set(dict2.keys())\n",
    "common_keys"
   ]
  },
  {
   "cell_type": "markdown",
   "id": "95efe404",
   "metadata": {},
   "source": [
    "Question: Calculate the total number of dictionary keys with values greater than a certain threshold"
   ]
  },
  {
   "cell_type": "code",
   "execution_count": 21,
   "id": "a545ccdf",
   "metadata": {},
   "outputs": [
    {
     "data": {
      "text/plain": [
       "2"
      ]
     },
     "execution_count": 21,
     "metadata": {},
     "output_type": "execute_result"
    }
   ],
   "source": [
    "my_dict = {'a': 10, 'b': 5, 'c': 15}\n",
    "threshold = 8\n",
    "count = sum(1 for value in my_dict.values() if value > threshold)\n",
    "count"
   ]
  },
  {
   "cell_type": "markdown",
   "id": "09de8c1b",
   "metadata": {},
   "source": [
    "Question: Find the top N keys with the highest values in a dictionary"
   ]
  },
  {
   "cell_type": "code",
   "execution_count": 23,
   "id": "df48f18f",
   "metadata": {},
   "outputs": [
    {
     "data": {
      "text/plain": [
       "{'d': 20, 'c': 15}"
      ]
     },
     "execution_count": 23,
     "metadata": {},
     "output_type": "execute_result"
    }
   ],
   "source": [
    "def top_n_keys(dictionary, n):\n",
    "    sorted_items = sorted(dictionary.items(), key=lambda item: item[1], reverse=True)\n",
    "    return dict(sorted_items[:n])\n",
    "\n",
    "my_dict = {'a': 10, 'b': 5, 'c': 15, 'd': 20}\n",
    "top_2_keys = top_n_keys(my_dict, 2)\n",
    "top_2_keys"
   ]
  },
  {
   "cell_type": "markdown",
   "id": "fc3da6d0",
   "metadata": {},
   "source": [
    "Question: Merge two dictionaries, adding values for common keys"
   ]
  },
  {
   "cell_type": "code",
   "execution_count": 24,
   "id": "975f7511",
   "metadata": {},
   "outputs": [
    {
     "data": {
      "text/plain": [
       "{'a': 10, 'b': 9, 'c': 15, 'd': 20}"
      ]
     },
     "execution_count": 24,
     "metadata": {},
     "output_type": "execute_result"
    }
   ],
   "source": [
    "def merge_dicts(dict1, dict2):\n",
    "    result_dict = dict1.copy()\n",
    "    for key, value in dict2.items():\n",
    "        if key in result_dict:\n",
    "            result_dict[key] += value\n",
    "        else:\n",
    "            result_dict[key] = value\n",
    "    return result_dict\n",
    "\n",
    "dict1 = {'a': 10, 'b': 5, 'c': 15}\n",
    "dict2 = {'b': 4, 'd': 20}\n",
    "merged_dict = merge_dicts(dict1, dict2)\n",
    "merged_dict"
   ]
  },
  {
   "cell_type": "markdown",
   "id": "3a061451",
   "metadata": {},
   "source": [
    "Question: Create a dictionary of word frequencies from a text"
   ]
  },
  {
   "cell_type": "code",
   "execution_count": 25,
   "id": "01baffa5",
   "metadata": {},
   "outputs": [
    {
     "data": {
      "text/plain": [
       "{'this': 2,\n",
       " 'is': 2,\n",
       " 'a': 1,\n",
       " 'sample': 1,\n",
       " 'text': 2,\n",
       " 'used': 1,\n",
       " 'for': 1,\n",
       " 'testing': 1}"
      ]
     },
     "execution_count": 25,
     "metadata": {},
     "output_type": "execute_result"
    }
   ],
   "source": [
    "def word_frequencies(text):\n",
    "    words = text.split()\n",
    "    freq_dict = {}\n",
    "    for word in words:\n",
    "        word = word.strip('.,!?()[]{}\"\\'').lower()\n",
    "        freq_dict[word] = freq_dict.get(word, 0) + 1\n",
    "    return freq_dict\n",
    "\n",
    "text = \"This is a sample text. This text is used for testing.\"\n",
    "freq = word_frequencies(text)\n",
    "freq"
   ]
  },
  {
   "cell_type": "markdown",
   "id": "112e372f",
   "metadata": {},
   "source": [
    "Question:  Invert a dictionary where values become keys and vice versa"
   ]
  },
  {
   "cell_type": "code",
   "execution_count": 26,
   "id": "4ad8a2ed",
   "metadata": {},
   "outputs": [
    {
     "data": {
      "text/plain": [
       "{10: 'a', 5: 'b', 15: 'c'}"
      ]
     },
     "execution_count": 26,
     "metadata": {},
     "output_type": "execute_result"
    }
   ],
   "source": [
    "def invert_dict(input_dict):\n",
    "    inverted_dict = {value: key for key, value in input_dict.items()}\n",
    "    return inverted_dict\n",
    "\n",
    "my_dict = {'a': 10, 'b': 5, 'c': 15}\n",
    "inverted_dict = invert_dict(my_dict)\n",
    "inverted_dict"
   ]
  },
  {
   "cell_type": "markdown",
   "id": "41aade36",
   "metadata": {},
   "source": [
    "Question: Find the longest key in a dictionary"
   ]
  },
  {
   "cell_type": "code",
   "execution_count": 27,
   "id": "b270f781",
   "metadata": {},
   "outputs": [
    {
     "data": {
      "text/plain": [
       "'strawberry'"
      ]
     },
     "execution_count": 27,
     "metadata": {},
     "output_type": "execute_result"
    }
   ],
   "source": [
    "def longest_key(input_dict):\n",
    "    return max(input_dict, key=len)\n",
    "\n",
    "my_dict = {'apple': 5, 'banana': 3, 'kiwi': 4, 'strawberry': 9}\n",
    "longest = longest_key(my_dict)\n",
    "longest"
   ]
  },
  {
   "cell_type": "markdown",
   "id": "89c0996e",
   "metadata": {},
   "source": [
    "Question: Remove duplicate values from a dictionary"
   ]
  },
  {
   "cell_type": "code",
   "execution_count": 28,
   "id": "3d66f134",
   "metadata": {},
   "outputs": [
    {
     "data": {
      "text/plain": [
       "{'b': 5, 'd': 15}"
      ]
     },
     "execution_count": 28,
     "metadata": {},
     "output_type": "execute_result"
    }
   ],
   "source": [
    "def remove_duplicates(input_dict):\n",
    "    unique_dict = {}\n",
    "    for key, value in input_dict.items():\n",
    "        if list(input_dict.values()).count(value) == 1:\n",
    "            unique_dict[key] = value\n",
    "    return unique_dict\n",
    "\n",
    "my_dict = {'a': 10, 'b': 5, 'c': 10, 'd': 15}\n",
    "unique_dict = remove_duplicates(my_dict)\n",
    "unique_dict"
   ]
  },
  {
   "cell_type": "markdown",
   "id": "7fca82d3",
   "metadata": {},
   "source": [
    "Question: Group a list of items into a dictionary by a common property"
   ]
  },
  {
   "cell_type": "code",
   "execution_count": 29,
   "id": "efdec6e6",
   "metadata": {},
   "outputs": [
    {
     "data": {
      "text/plain": [
       "{25: [{'name': 'Alice', 'age': 25}, {'name': 'Bob', 'age': 25}],\n",
       " 30: [{'name': 'Charlie', 'age': 30}, {'name': 'David', 'age': 30}]}"
      ]
     },
     "execution_count": 29,
     "metadata": {},
     "output_type": "execute_result"
    }
   ],
   "source": [
    "from itertools import groupby\n",
    "\n",
    "data = [{'name': 'Alice', 'age': 25},\n",
    "        {'name': 'Bob', 'age': 25},\n",
    "        {'name': 'Charlie', 'age': 30},\n",
    "        {'name': 'David', 'age': 30}]\n",
    "\n",
    "grouped_dict = {key: list(group) for key, group in groupby(data, key=lambda x: x['age'])}\n",
    "grouped_dict"
   ]
  },
  {
   "cell_type": "markdown",
   "id": "23c5a619",
   "metadata": {},
   "source": [
    "Question: Create a dictionary from two lists, one for keys and one for values"
   ]
  },
  {
   "cell_type": "code",
   "execution_count": 30,
   "id": "fcaf8f9b",
   "metadata": {},
   "outputs": [
    {
     "data": {
      "text/plain": [
       "{'name': 'Alice', 'age': 25, 'city': 'New York'}"
      ]
     },
     "execution_count": 30,
     "metadata": {},
     "output_type": "execute_result"
    }
   ],
   "source": [
    "keys = ['name', 'age', 'city']\n",
    "values = ['Alice', 25, 'New York']\n",
    "result_dict = dict(zip(keys, values))\n",
    "result_dict"
   ]
  },
  {
   "cell_type": "markdown",
   "id": "9199a03c",
   "metadata": {},
   "source": [
    "Question: Combine two dictionaries and sum values for common keys"
   ]
  },
  {
   "cell_type": "code",
   "execution_count": 31,
   "id": "268c84f1",
   "metadata": {},
   "outputs": [
    {
     "data": {
      "text/plain": [
       "{'c': 15, 'a': 10, 'b': 9, 'd': 20}"
      ]
     },
     "execution_count": 31,
     "metadata": {},
     "output_type": "execute_result"
    }
   ],
   "source": [
    "dict1 = {'a': 10, 'b': 5, 'c': 15}\n",
    "dict2 = {'b': 4, 'd': 20}\n",
    "combined_dict = {k: dict1.get(k, 0) + dict2.get(k, 0) for k in set(dict1) | set(dict2)}\n",
    "combined_dict"
   ]
  },
  {
   "cell_type": "markdown",
   "id": "1f04e366",
   "metadata": {},
   "source": [
    "Question: Create a dictionary of dictionaries with default values"
   ]
  },
  {
   "cell_type": "code",
   "execution_count": 32,
   "id": "cd621e40",
   "metadata": {},
   "outputs": [
    {
     "data": {
      "text/plain": [
       "defaultdict(<function __main__.default_dict()>,\n",
       "            {'a': defaultdict(int, {'x': 1}), 'b': defaultdict(int, {'y': 2})})"
      ]
     },
     "execution_count": 32,
     "metadata": {},
     "output_type": "execute_result"
    }
   ],
   "source": [
    "from collections import defaultdict\n",
    "\n",
    "def default_dict():\n",
    "    return defaultdict(int)\n",
    "\n",
    "my_dict = defaultdict(default_dict)\n",
    "my_dict['a']['x'] = 1\n",
    "my_dict['b']['y'] = 2\n",
    "my_dict"
   ]
  },
  {
   "cell_type": "markdown",
   "id": "494a75bd",
   "metadata": {},
   "source": [
    "Question: Create a function that returns the intersection of two dictionaries (common keys and their values)"
   ]
  },
  {
   "cell_type": "code",
   "execution_count": 33,
   "id": "82a20bc9",
   "metadata": {},
   "outputs": [
    {
     "data": {
      "text/plain": [
       "{'b': 5}"
      ]
     },
     "execution_count": 33,
     "metadata": {},
     "output_type": "execute_result"
    }
   ],
   "source": [
    "def intersection_dicts(dict1, dict2):\n",
    "    common_keys = set(dict1.keys()) & set(dict2.keys())\n",
    "    return {key: dict1[key] for key in common_keys}\n",
    "\n",
    "dict1 = {'a': 10, 'b': 5, 'c': 15}\n",
    "dict2 = {'b': 4, 'd': 20}\n",
    "intersection = intersection_dicts(dict1, dict2)\n",
    "intersection"
   ]
  },
  {
   "cell_type": "markdown",
   "id": "5cf54092",
   "metadata": {},
   "source": [
    "Question: Check if two dictionaries have the same set of keys"
   ]
  },
  {
   "cell_type": "code",
   "execution_count": 34,
   "id": "ee5ef0ee",
   "metadata": {},
   "outputs": [
    {
     "data": {
      "text/plain": [
       "True"
      ]
     },
     "execution_count": 34,
     "metadata": {},
     "output_type": "execute_result"
    }
   ],
   "source": [
    "def same_keys(dict1, dict2):\n",
    "    return set(dict1.keys()) == set(dict2.keys())\n",
    "\n",
    "dict1 = {'a': 10, 'b': 5, 'c': 15}\n",
    "dict2 = {'b': 4, 'a': 20, 'c': 15}\n",
    "have_same_keys = same_keys(dict1, dict2)\n",
    "have_same_keys"
   ]
  },
  {
   "cell_type": "markdown",
   "id": "00870b72",
   "metadata": {},
   "source": [
    "Question: Merge dictionaries recursively"
   ]
  },
  {
   "cell_type": "code",
   "execution_count": 35,
   "id": "cd7eedf0",
   "metadata": {},
   "outputs": [
    {
     "data": {
      "text/plain": [
       "{'a': {'x': 1, 'y': 2, 'z': 3}, 'b': 3, 'c': 4}"
      ]
     },
     "execution_count": 35,
     "metadata": {},
     "output_type": "execute_result"
    }
   ],
   "source": [
    "def merge_dicts_recursive(dict1, dict2):\n",
    "    result = dict1.copy()\n",
    "    for key, value in dict2.items():\n",
    "        if key in result and isinstance(result[key], dict) and isinstance(value, dict):\n",
    "            result[key] = merge_dicts_recursive(result[key], value)\n",
    "        else:\n",
    "            result[key] = value\n",
    "    return result\n",
    "\n",
    "dict1 = {'a': {'x': 1, 'y': 2}, 'b': 3}\n",
    "dict2 = {'a': {'z': 3}, 'c': 4}\n",
    "merged_dict = merge_dicts_recursive(dict1, dict2)\n",
    "merged_dict"
   ]
  },
  {
   "cell_type": "markdown",
   "id": "7a905239",
   "metadata": {},
   "source": [
    "Question: Find the difference between two dictionaries"
   ]
  },
  {
   "cell_type": "code",
   "execution_count": 36,
   "id": "1bd4bf92",
   "metadata": {},
   "outputs": [
    {
     "data": {
      "text/plain": [
       "{'a': 10, 'c': 15}"
      ]
     },
     "execution_count": 36,
     "metadata": {},
     "output_type": "execute_result"
    }
   ],
   "source": [
    "def difference_dicts(dict1, dict2):\n",
    "    return {key: dict1[key] for key in dict1 if key not in dict2}\n",
    "\n",
    "dict1 = {'a': 10, 'b': 5, 'c': 15}\n",
    "dict2 = {'b': 4, 'd': 20}\n",
    "difference = difference_dicts(dict1, dict2)\n",
    "difference"
   ]
  },
  {
   "cell_type": "markdown",
   "id": "4ce2327f",
   "metadata": {},
   "source": [
    "Question: Flatten a dictionary with nested keys"
   ]
  },
  {
   "cell_type": "code",
   "execution_count": 37,
   "id": "5fdd9df1",
   "metadata": {},
   "outputs": [
    {
     "data": {
      "text/plain": [
       "{'a': 1, 'b_c': 2, 'b_d_e': 3}"
      ]
     },
     "execution_count": 37,
     "metadata": {},
     "output_type": "execute_result"
    }
   ],
   "source": [
    "def flatten_dict(d, parent_key='', sep='_'):\n",
    "    items = {}\n",
    "    for k, v in d.items():\n",
    "        new_key = f'{parent_key}{sep}{k}' if parent_key else k\n",
    "        if isinstance(v, dict):\n",
    "            items.update(flatten_dict(v, new_key, sep=sep))\n",
    "        else:\n",
    "            items[new_key] = v\n",
    "    return items\n",
    "\n",
    "nested_dict = {'a': 1, 'b': {'c': 2, 'd': {'e': 3}}}\n",
    "flattened = flatten_dict(nested_dict)\n",
    "flattened"
   ]
  },
  {
   "cell_type": "markdown",
   "id": "6ffb6063",
   "metadata": {},
   "source": [
    "Question: Check if a dictionary is a subset of another dictionary"
   ]
  },
  {
   "cell_type": "code",
   "execution_count": 38,
   "id": "8088570f",
   "metadata": {},
   "outputs": [
    {
     "data": {
      "text/plain": [
       "True"
      ]
     },
     "execution_count": 38,
     "metadata": {},
     "output_type": "execute_result"
    }
   ],
   "source": [
    "def is_subset(sub_dict, super_dict):\n",
    "    return all(super_dict.get(key) == value for key, value in sub_dict.items())\n",
    "\n",
    "dict1 = {'a': 1, 'b': 2}\n",
    "dict2 = {'a': 1, 'b': 2, 'c': 3}\n",
    "is_sub = is_subset(dict1, dict2)\n",
    "is_sub"
   ]
  },
  {
   "cell_type": "markdown",
   "id": "f8f13336",
   "metadata": {},
   "source": [
    "Question: Calculate the dot product of two dictionaries"
   ]
  },
  {
   "cell_type": "code",
   "execution_count": 39,
   "id": "704c442b",
   "metadata": {},
   "outputs": [
    {
     "data": {
      "text/plain": [
       "12"
      ]
     },
     "execution_count": 39,
     "metadata": {},
     "output_type": "execute_result"
    }
   ],
   "source": [
    "def dot_product(dict1, dict2):\n",
    "    common_keys = set(dict1.keys()) & set(dict2.keys())\n",
    "    return sum(dict1[key] * dict2[key] for key in common_keys)\n",
    "\n",
    "dict1 = {'a': 2, 'b': 3, 'c': 4}\n",
    "dict2 = {'a': 1, 'b': 2, 'c': 1}\n",
    "dot_result = dot_product(dict1, dict2)\n",
    "dot_result"
   ]
  },
  {
   "cell_type": "markdown",
   "id": "f46985d7",
   "metadata": {},
   "source": [
    "Question: Find the keys with the highest values in a dictionary"
   ]
  },
  {
   "cell_type": "code",
   "execution_count": 40,
   "id": "81e8070a",
   "metadata": {},
   "outputs": [
    {
     "data": {
      "text/plain": [
       "['b', 'c']"
      ]
     },
     "execution_count": 40,
     "metadata": {},
     "output_type": "execute_result"
    }
   ],
   "source": [
    "def keys_with_highest_values(d):\n",
    "    max_value = max(d.values())\n",
    "    return [key for key, value in d.items() if value == max_value]\n",
    "\n",
    "my_dict = {'a': 10, 'b': 15, 'c': 15, 'd': 5}\n",
    "highest_value_keys = keys_with_highest_values(my_dict)\n",
    "highest_value_keys"
   ]
  },
  {
   "cell_type": "markdown",
   "id": "13b3efe2",
   "metadata": {},
   "source": [
    "Question: Group a list of dictionaries by a common key"
   ]
  },
  {
   "cell_type": "code",
   "execution_count": 41,
   "id": "258df716",
   "metadata": {},
   "outputs": [
    {
     "data": {
      "text/plain": [
       "defaultdict(list,\n",
       "            {'Alice': [{'name': 'Alice', 'age': 30},\n",
       "              {'name': 'Alice', 'age': 28}],\n",
       "             'Bob': [{'name': 'Bob', 'age': 25}, {'name': 'Bob', 'age': 27}]})"
      ]
     },
     "execution_count": 41,
     "metadata": {},
     "output_type": "execute_result"
    }
   ],
   "source": [
    "data = [{'name': 'Alice', 'age': 30},\n",
    "        {'name': 'Bob', 'age': 25},\n",
    "        {'name': 'Alice', 'age': 28},\n",
    "        {'name': 'Bob', 'age': 27}]\n",
    "\n",
    "from collections import defaultdict\n",
    "\n",
    "grouped_data = defaultdict(list)\n",
    "\n",
    "for item in data:\n",
    "    grouped_data[item['name']].append(item)\n",
    "\n",
    "grouped_data"
   ]
  },
  {
   "cell_type": "markdown",
   "id": "3355052c",
   "metadata": {},
   "source": [
    "Question: Find the frequency of words in a list of strings and store it in a dictionary"
   ]
  },
  {
   "cell_type": "code",
   "execution_count": 42,
   "id": "5d87a959",
   "metadata": {},
   "outputs": [
    {
     "data": {
      "text/plain": [
       "Counter({'apple': 2, 'banana': 2, 'cherry': 1, 'date': 1})"
      ]
     },
     "execution_count": 42,
     "metadata": {},
     "output_type": "execute_result"
    }
   ],
   "source": [
    "from collections import Counter\n",
    "\n",
    "words = [\"apple\", \"banana\", \"cherry\", \"banana\", \"apple\", \"date\"]\n",
    "word_frequency = Counter(words)\n",
    "word_frequency"
   ]
  },
  {
   "cell_type": "markdown",
   "id": "145a8130",
   "metadata": {},
   "source": [
    "Question: Merge dictionaries and sum values for common keys"
   ]
  },
  {
   "cell_type": "code",
   "execution_count": 43,
   "id": "248be89b",
   "metadata": {},
   "outputs": [
    {
     "data": {
      "text/plain": [
       "{'a': 10, 'b': 9, 'c': 35, 'd': 7}"
      ]
     },
     "execution_count": 43,
     "metadata": {},
     "output_type": "execute_result"
    }
   ],
   "source": [
    "dict1 = {'a': 10, 'b': 5, 'c': 15}\n",
    "dict2 = {'b': 4, 'c': 20, 'd': 7}\n",
    "\n",
    "merged_dict = {}\n",
    "for d in [dict1, dict2]:\n",
    "    for key, value in d.items():\n",
    "        if key in merged_dict:\n",
    "            merged_dict[key] += value\n",
    "        else:\n",
    "            merged_dict[key] = value\n",
    "\n",
    "merged_dict"
   ]
  },
  {
   "cell_type": "markdown",
   "id": "998214b6",
   "metadata": {},
   "source": [
    "Question: Calculate the Euclidean distance between two dictionaries as vectors"
   ]
  },
  {
   "cell_type": "code",
   "execution_count": 44,
   "id": "cf10b069",
   "metadata": {},
   "outputs": [
    {
     "data": {
      "text/plain": [
       "4.898979485566356"
      ]
     },
     "execution_count": 44,
     "metadata": {},
     "output_type": "execute_result"
    }
   ],
   "source": [
    "from math import sqrt\n",
    "\n",
    "dict1 = {'x': 3, 'y': 4, 'z': 5}\n",
    "dict2 = {'x': 1, 'y': 2, 'z': 1}\n",
    "\n",
    "euclidean_distance = sqrt(sum((dict1[key] - dict2[key]) ** 2 for key in dict1))\n",
    "euclidean_distance"
   ]
  },
  {
   "cell_type": "markdown",
   "id": "6466d1db",
   "metadata": {},
   "source": [
    "Question: Create a dictionary with sorted keys from another dictionary"
   ]
  },
  {
   "cell_type": "code",
   "execution_count": 45,
   "id": "32c3c471",
   "metadata": {},
   "outputs": [
    {
     "data": {
      "text/plain": [
       "{'a': 1, 'b': 2, 'c': 3}"
      ]
     },
     "execution_count": 45,
     "metadata": {},
     "output_type": "execute_result"
    }
   ],
   "source": [
    "original_dict = {'c': 3, 'a': 1, 'b': 2}\n",
    "sorted_dict = {key: original_dict[key] for key in sorted(original_dict)}\n",
    "sorted_dict"
   ]
  },
  {
   "cell_type": "markdown",
   "id": "7722fc9f",
   "metadata": {},
   "source": [
    "Question: Calculate the cosine similarity between two dictionaries"
   ]
  },
  {
   "cell_type": "code",
   "execution_count": 46,
   "id": "35f39be5",
   "metadata": {},
   "outputs": [
    {
     "data": {
      "text/plain": [
       "1.0"
      ]
     },
     "execution_count": 46,
     "metadata": {},
     "output_type": "execute_result"
    }
   ],
   "source": [
    "from math import sqrt\n",
    "\n",
    "dict1 = {'a': 1, 'b': 2, 'c': 3}\n",
    "dict2 = {'a': 2, 'b': 4, 'c': 6}\n",
    "\n",
    "dot_product = sum(dict1[key] * dict2[key] for key in dict1)\n",
    "magnitude1 = sqrt(sum(val ** 2 for val in dict1.values()))\n",
    "magnitude2 = sqrt(sum(val ** 2 for val in dict2.values()))\n",
    "\n",
    "cosine_similarity = dot_product / (magnitude1 * magnitude2)\n",
    "cosine_similarity"
   ]
  },
  {
   "cell_type": "markdown",
   "id": "64e7b7f8",
   "metadata": {},
   "source": [
    "Question: Create a dictionary with keys from one list and values from another"
   ]
  },
  {
   "cell_type": "code",
   "execution_count": 47,
   "id": "2ed9a209",
   "metadata": {},
   "outputs": [
    {
     "data": {
      "text/plain": [
       "{'name': 'Alice', 'age': 30, 'city': 'New York'}"
      ]
     },
     "execution_count": 47,
     "metadata": {},
     "output_type": "execute_result"
    }
   ],
   "source": [
    "keys = ['name', 'age', 'city']\n",
    "values = ['Alice', 30, 'New York']\n",
    "result_dict = dict(zip(keys, values))\n",
    "result_dict"
   ]
  },
  {
   "cell_type": "markdown",
   "id": "e1306f62",
   "metadata": {},
   "source": [
    "Question: Find the key with the longest value (list or string) in a dictionary"
   ]
  },
  {
   "cell_type": "code",
   "execution_count": 48,
   "id": "43e150a9",
   "metadata": {},
   "outputs": [
    {
     "data": {
      "text/plain": [
       "'cherry'"
      ]
     },
     "execution_count": 48,
     "metadata": {},
     "output_type": "execute_result"
    }
   ],
   "source": [
    "data = {'apple': [1, 2, 3], 'banana': [1, 2], 'cherry': [1, 2, 3, 4, 5]}\n",
    "key_with_longest_value = max(data, key=lambda k: len(data[k]))\n",
    "key_with_longest_value"
   ]
  },
  {
   "cell_type": "markdown",
   "id": "51f62d72",
   "metadata": {},
   "source": [
    "Question: Convert a dictionary into a JSON string"
   ]
  },
  {
   "cell_type": "code",
   "execution_count": 49,
   "id": "9fea95db",
   "metadata": {},
   "outputs": [
    {
     "data": {
      "text/plain": [
       "'{\"name\": \"Alice\", \"age\": 30}'"
      ]
     },
     "execution_count": 49,
     "metadata": {},
     "output_type": "execute_result"
    }
   ],
   "source": [
    "import json\n",
    "\n",
    "data = {'name': 'Alice', 'age': 30}\n",
    "json_string = json.dumps(data)\n",
    "json_string"
   ]
  },
  {
   "cell_type": "markdown",
   "id": "1ea52633",
   "metadata": {},
   "source": [
    "Question: Find the most common value in a dictionary"
   ]
  },
  {
   "cell_type": "code",
   "execution_count": 50,
   "id": "33cee1a5",
   "metadata": {},
   "outputs": [
    {
     "data": {
      "text/plain": [
       "'date'"
      ]
     },
     "execution_count": 50,
     "metadata": {},
     "output_type": "execute_result"
    }
   ],
   "source": [
    "from collections import Counter\n",
    "\n",
    "data = {'apple': 3, 'banana': 5, 'cherry': 3, 'date': 7}\n",
    "most_common_value = max(data, key=data.get)\n",
    "most_common_value"
   ]
  },
  {
   "cell_type": "markdown",
   "id": "eeae8aed",
   "metadata": {},
   "source": [
    "Question: Merge dictionaries recursively"
   ]
  },
  {
   "cell_type": "code",
   "execution_count": 51,
   "id": "74a7a7c2",
   "metadata": {},
   "outputs": [
    {
     "data": {
      "text/plain": [
       "{'a': {'b': 4, 'c': 2, 'd': 5}, 'd': 3, 'e': 6}"
      ]
     },
     "execution_count": 51,
     "metadata": {},
     "output_type": "execute_result"
    }
   ],
   "source": [
    "def merge_dicts(dict1, dict2):\n",
    "    for key, value in dict2.items():\n",
    "        if isinstance(value, dict):\n",
    "            dict1[key] = merge_dicts(dict1.get(key, {}), value)\n",
    "        else:\n",
    "            dict1[key] = value\n",
    "    return dict1\n",
    "\n",
    "dict1 = {'a': {'b': 1, 'c': 2}, 'd': 3}\n",
    "dict2 = {'a': {'b': 4, 'd': 5}, 'e': 6}\n",
    "\n",
    "merged_dict = merge_dicts(dict1, dict2)\n",
    "merged_dict"
   ]
  },
  {
   "cell_type": "markdown",
   "id": "3d07c4b1",
   "metadata": {},
   "source": [
    "Question: Create a function to find the key with the lowest value in a dictionary"
   ]
  },
  {
   "cell_type": "code",
   "execution_count": 52,
   "id": "5cb6f236",
   "metadata": {},
   "outputs": [
    {
     "data": {
      "text/plain": [
       "'apple'"
      ]
     },
     "execution_count": 52,
     "metadata": {},
     "output_type": "execute_result"
    }
   ],
   "source": [
    "def key_with_lowest_value(data):\n",
    "    return min(data, key=data.get)\n",
    "\n",
    "data = {'apple': 3, 'banana': 5, 'cherry': 3, 'date': 7}\n",
    "lowest_value_key = key_with_lowest_value(data)\n",
    "lowest_value_key"
   ]
  },
  {
   "cell_type": "markdown",
   "id": "2b974e0f",
   "metadata": {},
   "source": [
    "Question: Create a function to flatten a nested dictionary"
   ]
  },
  {
   "cell_type": "code",
   "execution_count": 53,
   "id": "866f28c3",
   "metadata": {},
   "outputs": [
    {
     "data": {
      "text/plain": [
       "{'a': 1, 'b_c': 2, 'b_d_e': 3}"
      ]
     },
     "execution_count": 53,
     "metadata": {},
     "output_type": "execute_result"
    }
   ],
   "source": [
    "def flatten_dictionary(dct, parent_key='', sep='_'):\n",
    "    items = {}\n",
    "    for key, value in dct.items():\n",
    "        new_key = f\"{parent_key}{sep}{key}\" if parent_key else key\n",
    "        if isinstance(value, dict):\n",
    "            items.update(flatten_dictionary(value, new_key, sep=sep))\n",
    "        else:\n",
    "            items[new_key] = value\n",
    "    return items\n",
    "\n",
    "nested_dict = {'a': 1, 'b': {'c': 2, 'd': {'e': 3}}}\n",
    "flat_dict = flatten_dictionary(nested_dict)\n",
    "flat_dict"
   ]
  },
  {
   "cell_type": "markdown",
   "id": "ff957c3a",
   "metadata": {},
   "source": [
    "Question: Create a function to convert a dictionary with list values into a list of dictionaries"
   ]
  },
  {
   "cell_type": "code",
   "execution_count": 54,
   "id": "b4ef639a",
   "metadata": {},
   "outputs": [
    {
     "data": {
      "text/plain": [
       "[{'name': 'Alice', 'age': 30},\n",
       " {'name': 'Bob', 'age': 25},\n",
       " {'name': 'Charlie', 'age': 35}]"
      ]
     },
     "execution_count": 54,
     "metadata": {},
     "output_type": "execute_result"
    }
   ],
   "source": [
    "def dict_with_list_to_list_of_dicts(dct):\n",
    "    keys = dct.keys()\n",
    "    values = zip(*dct.values())\n",
    "    return [{k: v for k, v in zip(keys, vals)} for vals in values]\n",
    "\n",
    "data_dict = {'name': ['Alice', 'Bob', 'Charlie'], 'age': [30, 25, 35]}\n",
    "list_of_dicts = dict_with_list_to_list_of_dicts(data_dict)\n",
    "list_of_dicts"
   ]
  },
  {
   "cell_type": "markdown",
   "id": "60213345",
   "metadata": {},
   "source": [
    "Question: Create a function to count the number of occurrences of nested keys in a dictionary"
   ]
  },
  {
   "cell_type": "code",
   "execution_count": 59,
   "id": "193890d9",
   "metadata": {},
   "outputs": [
    {
     "data": {
      "text/plain": [
       "4"
      ]
     },
     "execution_count": 59,
     "metadata": {},
     "output_type": "execute_result"
    }
   ],
   "source": [
    "def count_nested_keys(dct, search_key):\n",
    "    count = 0\n",
    "    for key, value in dct.items():\n",
    "        if key == search_key:\n",
    "            count += 1\n",
    "        if isinstance(value, dict):\n",
    "            count += count_nested_keys(value, search_key)\n",
    "    return count\n",
    "\n",
    "nested_dict = {'a': 1, 'b': {'a': 2, 'c': {'a': 3, 'd': 4}}, 'd': {'a': 5}}\n",
    "occurrences = count_nested_keys(nested_dict, 'a')\n",
    "occurrences"
   ]
  },
  {
   "cell_type": "markdown",
   "id": "5a5cd8dc",
   "metadata": {},
   "source": [
    "Question: Create a function to filter a dictionary by keys based on a list"
   ]
  },
  {
   "cell_type": "code",
   "execution_count": 60,
   "id": "f5191390",
   "metadata": {},
   "outputs": [
    {
     "data": {
      "text/plain": [
       "{'a': 1, 'c': 3}"
      ]
     },
     "execution_count": 60,
     "metadata": {},
     "output_type": "execute_result"
    }
   ],
   "source": [
    "def filter_dict_by_keys(dct, keys_to_keep):\n",
    "    return {k: v for k, v in dct.items() if k in keys_to_keep}\n",
    "\n",
    "original_dict = {'a': 1, 'b': 2, 'c': 3, 'd': 4}\n",
    "keys_to_keep = ['a', 'c']\n",
    "filtered_dict = filter_dict_by_keys(original_dict, keys_to_keep)\n",
    "filtered_dict"
   ]
  },
  {
   "cell_type": "markdown",
   "id": "dc6a00e6",
   "metadata": {},
   "source": [
    "Question: Create a function to calculate the Jaccard similarity between two dictionaries"
   ]
  },
  {
   "cell_type": "code",
   "execution_count": 62,
   "id": "2b415f65",
   "metadata": {},
   "outputs": [
    {
     "data": {
      "text/plain": [
       "0.5"
      ]
     },
     "execution_count": 62,
     "metadata": {},
     "output_type": "execute_result"
    }
   ],
   "source": [
    "def jaccard_similarity(dict1, dict2):\n",
    "    keys1 = set(dict1.keys())\n",
    "    keys2 = set(dict2.keys())\n",
    "    intersection = len(keys1 & keys2)\n",
    "    union = len(keys1 | keys2)\n",
    "    return intersection / union if union != 0 else 0\n",
    "\n",
    "dict1 = {'a': 1, 'b': 2, 'c': 3}\n",
    "dict2 = {'b': 4, 'c': 5, 'd': 6}\n",
    "jaccard = jaccard_similarity(dict1, dict2)\n",
    "jaccard"
   ]
  },
  {
   "cell_type": "markdown",
   "id": "5adf6798",
   "metadata": {},
   "source": [
    "Question: Create a function to generate a nested dictionary from a list of keys and a value"
   ]
  },
  {
   "cell_type": "code",
   "execution_count": 63,
   "id": "4f1f00c0",
   "metadata": {},
   "outputs": [
    {
     "data": {
      "text/plain": [
       "{'a': {'b': {'c': 42}}}"
      ]
     },
     "execution_count": 63,
     "metadata": {},
     "output_type": "execute_result"
    }
   ],
   "source": [
    "def nested_dict_from_keys(keys, value):\n",
    "    if not keys:\n",
    "        return value\n",
    "    return {keys[0]: nested_dict_from_keys(keys[1:], value)}\n",
    "\n",
    "keys = ['a', 'b', 'c']\n",
    "nested = nested_dict_from_keys(keys, 42)\n",
    "nested"
   ]
  },
  {
   "cell_type": "markdown",
   "id": "3fde2041",
   "metadata": {},
   "source": [
    "Question: Create a function to find the key with the maximum value in a dictionary"
   ]
  },
  {
   "cell_type": "code",
   "execution_count": 64,
   "id": "0863684b",
   "metadata": {},
   "outputs": [
    {
     "data": {
      "text/plain": [
       "'date'"
      ]
     },
     "execution_count": 64,
     "metadata": {},
     "output_type": "execute_result"
    }
   ],
   "source": [
    "def key_with_maximum_value(data):\n",
    "    return max(data, key=data.get)\n",
    "\n",
    "data = {'apple': 3, 'banana': 5, 'cherry': 3, 'date': 7}\n",
    "maximum_value_key = key_with_maximum_value(data)\n",
    "maximum_value_key"
   ]
  },
  {
   "cell_type": "markdown",
   "id": "56de0263",
   "metadata": {},
   "source": [
    "Question: Merge two dictionaries, and in case of key conflicts, prioritize values from the second dictionary."
   ]
  },
  {
   "cell_type": "code",
   "execution_count": 65,
   "id": "d60eecdb",
   "metadata": {},
   "outputs": [
    {
     "name": "stdout",
     "output_type": "stream",
     "text": [
      "{'name': 'John', 'age': 32, 'city': 'New York'}\n"
     ]
    }
   ],
   "source": [
    "dict1 = {'name': 'John', 'age': 30, 'city': 'New York'}\n",
    "dict2 = {'age': 32, 'job': 'Engineer'}\n",
    "\n",
    "# Using a dictionary comprehension to merge the dictionaries, giving priority to dict2 values\n",
    "merged_dict = {k: dict2[k] if k in dict2 else v for k, v in dict1.items()}\n",
    "\n",
    "print(merged_dict)"
   ]
  },
  {
   "cell_type": "markdown",
   "id": "87bee351",
   "metadata": {},
   "source": [
    "Question: Count the occurrences of each value in a dictionary."
   ]
  },
  {
   "cell_type": "code",
   "execution_count": 67,
   "id": "938afa79",
   "metadata": {},
   "outputs": [
    {
     "name": "stdout",
     "output_type": "stream",
     "text": [
      "{'John': 1, 30: 1, 'New York': 2, 'Engineer': 1}\n"
     ]
    }
   ],
   "source": [
    "my_dict = {'name': 'John', 'age': 30, 'city': 'New York', 'job': 'Engineer', 'state': 'New York'}\n",
    "\n",
    "# Using a dictionary to count the occurrences of each value\n",
    "value_counts = {}\n",
    "for key, value in my_dict.items():\n",
    "    if value in value_counts:\n",
    "        value_counts[value] += 1\n",
    "    else:\n",
    "        value_counts[value] = 1\n",
    "\n",
    "print(value_counts)"
   ]
  },
  {
   "cell_type": "markdown",
   "id": "7498bc56",
   "metadata": {},
   "source": [
    "Question: Merge two dictionaries, but only include key-value pairs that have keys in common."
   ]
  },
  {
   "cell_type": "code",
   "execution_count": 69,
   "id": "378d17d5",
   "metadata": {},
   "outputs": [
    {
     "name": "stdout",
     "output_type": "stream",
     "text": [
      "{'age': 32}\n"
     ]
    }
   ],
   "source": [
    "dict1 = {'name': 'John', 'age': 30, 'city': 'New York'}\n",
    "dict2 = {'age': 32, 'job': 'Engineer', 'state': 'New York'}\n",
    "\n",
    "# Using a dictionary comprehension to merge dictionaries with common keys\n",
    "merged_dict = {k: dict2[k] for k in dict1.keys() & dict2.keys()}\n",
    "\n",
    "print(merged_dict)"
   ]
  },
  {
   "cell_type": "markdown",
   "id": "05dcb53e",
   "metadata": {},
   "source": [
    "Question: Merge two dictionaries, but only include key-value pairs from dict1 where the keys are not present in dict2."
   ]
  },
  {
   "cell_type": "code",
   "execution_count": 70,
   "id": "8b09fdfb",
   "metadata": {},
   "outputs": [
    {
     "name": "stdout",
     "output_type": "stream",
     "text": [
      "{'name': 'John', 'city': 'New York'}\n"
     ]
    }
   ],
   "source": [
    "dict1 = {'name': 'John', 'age': 30, 'city': 'New York'}\n",
    "dict2 = {'age': 32, 'job': 'Engineer'}\n",
    "\n",
    "# Using a dictionary comprehension to merge dictionaries, excluding keys from dict2\n",
    "merged_dict = {k: v for k, v in dict1.items() if k not in dict2}\n",
    "\n",
    "print(merged_dict)"
   ]
  }
 ],
 "metadata": {
  "kernelspec": {
   "display_name": "Python 3 (ipykernel)",
   "language": "python",
   "name": "python3"
  },
  "language_info": {
   "codemirror_mode": {
    "name": "ipython",
    "version": 3
   },
   "file_extension": ".py",
   "mimetype": "text/x-python",
   "name": "python",
   "nbconvert_exporter": "python",
   "pygments_lexer": "ipython3",
   "version": "3.9.13"
  },
  "toc": {
   "base_numbering": 1,
   "nav_menu": {},
   "number_sections": true,
   "sideBar": true,
   "skip_h1_title": false,
   "title_cell": "Table of Contents",
   "title_sidebar": "Contents",
   "toc_cell": false,
   "toc_position": {},
   "toc_section_display": true,
   "toc_window_display": false
  }
 },
 "nbformat": 4,
 "nbformat_minor": 5
}
