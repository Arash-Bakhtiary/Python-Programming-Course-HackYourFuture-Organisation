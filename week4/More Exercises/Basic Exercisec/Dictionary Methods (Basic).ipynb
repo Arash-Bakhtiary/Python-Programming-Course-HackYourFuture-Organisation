{
 "cells": [
  {
   "cell_type": "markdown",
   "id": "dbee02f3",
   "metadata": {},
   "source": [
    "# Dictionary Methods (Basic)"
   ]
  },
  {
   "cell_type": "markdown",
   "id": "8cf09218",
   "metadata": {},
   "source": [
    " Question: Get the keys of a dictionary as a list:"
   ]
  },
  {
   "cell_type": "code",
   "execution_count": 3,
   "id": "20e6967a",
   "metadata": {},
   "outputs": [
    {
     "data": {
      "text/plain": [
       "['name', 'age', 'city']"
      ]
     },
     "execution_count": 3,
     "metadata": {},
     "output_type": "execute_result"
    }
   ],
   "source": [
    "my_dict = {'name': 'John', 'age': 30, 'city': 'New York'}\n",
    "key_list = list(my_dict.keys())\n",
    "key_list"
   ]
  },
  {
   "cell_type": "markdown",
   "id": "113e3482",
   "metadata": {},
   "source": [
    "Question: Remove and return an item with the given key:"
   ]
  },
  {
   "cell_type": "code",
   "execution_count": 4,
   "id": "2181ab25",
   "metadata": {},
   "outputs": [
    {
     "data": {
      "text/plain": [
       "30"
      ]
     },
     "execution_count": 4,
     "metadata": {},
     "output_type": "execute_result"
    }
   ],
   "source": [
    "my_dict = {'name': 'John', 'age': 30, 'city': 'New York'}\n",
    "value = my_dict.pop('age')\n",
    "value\n"
   ]
  },
  {
   "cell_type": "markdown",
   "id": "068d6296",
   "metadata": {},
   "source": [
    "Question: Remove and return the last key-value pair:"
   ]
  },
  {
   "cell_type": "code",
   "execution_count": 6,
   "id": "903ebbf1",
   "metadata": {},
   "outputs": [
    {
     "name": "stdout",
     "output_type": "stream",
     "text": [
      "city + New York\n"
     ]
    }
   ],
   "source": [
    "my_dict = {'name': 'John', 'age': 30, 'city': 'New York'}\n",
    "key, value = my_dict.popitem()\n",
    "print(key, \"+\" , value)"
   ]
  },
  {
   "cell_type": "markdown",
   "id": "2bd19e04",
   "metadata": {},
   "source": [
    "Question: Add key-value pairs from another dictionary:"
   ]
  },
  {
   "cell_type": "code",
   "execution_count": 1,
   "id": "44c4be25",
   "metadata": {},
   "outputs": [
    {
     "data": {
      "text/plain": [
       "{'name': 'John', 'age': 30, 'city': 'New York', 'job': 'Engineer'}"
      ]
     },
     "execution_count": 1,
     "metadata": {},
     "output_type": "execute_result"
    }
   ],
   "source": [
    "my_dict = {'name': 'John', 'age': 30}\n",
    "other_dict = {'city': 'New York', 'job': 'Engineer'}\n",
    "my_dict.update(other_dict)\n",
    "my_dict"
   ]
  },
  {
   "cell_type": "markdown",
   "id": "506f20b7",
   "metadata": {},
   "source": [
    "Question: Return the value for a specific key with a default value"
   ]
  },
  {
   "cell_type": "code",
   "execution_count": 2,
   "id": "b5d378b8",
   "metadata": {},
   "outputs": [
    {
     "data": {
      "text/plain": [
       "'Unknown'"
      ]
     },
     "execution_count": 2,
     "metadata": {},
     "output_type": "execute_result"
    }
   ],
   "source": [
    "my_dict = {'name': 'John', 'age': 30}\n",
    "value = my_dict.get('city', 'Unknown')\n",
    "value"
   ]
  },
  {
   "cell_type": "markdown",
   "id": "36a0ca79",
   "metadata": {},
   "source": [
    "Question: Create a dictionary with keys from a list and a default value"
   ]
  },
  {
   "cell_type": "code",
   "execution_count": 3,
   "id": "4fd74c4f",
   "metadata": {},
   "outputs": [
    {
     "data": {
      "text/plain": [
       "{'name': 'N/A', 'age': 'N/A', 'city': 'N/A'}"
      ]
     },
     "execution_count": 3,
     "metadata": {},
     "output_type": "execute_result"
    }
   ],
   "source": [
    "key_list = ['name', 'age', 'city']\n",
    "default_value = 'N/A'\n",
    "my_dict = dict.fromkeys(key_list, default_value)\n",
    "my_dict"
   ]
  },
  {
   "cell_type": "markdown",
   "id": "07c0675e",
   "metadata": {},
   "source": [
    "Question: Get a list of all values in a dictionary"
   ]
  },
  {
   "cell_type": "code",
   "execution_count": 4,
   "id": "995c9954",
   "metadata": {},
   "outputs": [
    {
     "data": {
      "text/plain": [
       "['John', 30, 'New York']"
      ]
     },
     "execution_count": 4,
     "metadata": {},
     "output_type": "execute_result"
    }
   ],
   "source": [
    "my_dict = {'name': 'John', 'age': 30, 'city': 'New York'}\n",
    "value_list = list(my_dict.values())\n",
    "value_list"
   ]
  },
  {
   "cell_type": "markdown",
   "id": "964d553f",
   "metadata": {},
   "source": [
    "Question: Test if a key exists in a dictionary"
   ]
  },
  {
   "cell_type": "code",
   "execution_count": 9,
   "id": "16b91163",
   "metadata": {},
   "outputs": [
    {
     "name": "stdout",
     "output_type": "stream",
     "text": [
      "Yes\n"
     ]
    }
   ],
   "source": [
    "my_dict = {'name': 'John', 'age': 30, 'city': 'New York'}\n",
    "if 'age' in my_dict:\n",
    "    print(\"Yes\")"
   ]
  },
  {
   "cell_type": "markdown",
   "id": "fb74b271",
   "metadata": {},
   "source": [
    "Question: Remove a specific key-value pair from a dictionary by key"
   ]
  },
  {
   "cell_type": "code",
   "execution_count": 6,
   "id": "d8c3db2e",
   "metadata": {},
   "outputs": [
    {
     "data": {
      "text/plain": [
       "{'name': 'John', 'city': 'New York'}"
      ]
     },
     "execution_count": 6,
     "metadata": {},
     "output_type": "execute_result"
    }
   ],
   "source": [
    "my_dict = {'name': 'John', 'age': 30, 'city': 'New York'}\n",
    "del my_dict['age']\n",
    "my_dict"
   ]
  },
  {
   "cell_type": "markdown",
   "id": "173ddfec",
   "metadata": {},
   "source": [
    "Question: Test if two dictionaries have the same key-value pairs"
   ]
  },
  {
   "cell_type": "code",
   "execution_count": 8,
   "id": "e9f36c02",
   "metadata": {},
   "outputs": [
    {
     "name": "stdout",
     "output_type": "stream",
     "text": [
      "Yes\n"
     ]
    }
   ],
   "source": [
    "dict1 = {'name': 'John', 'age': 30}\n",
    "dict2 = {'age': 30, 'name': 'John'}\n",
    "if dict1 == dict2:\n",
    "    # Dictionaries have the same key-value pairs, order doesn't matter\n",
    "    print(\"Yes\")"
   ]
  },
  {
   "cell_type": "markdown",
   "id": "b3c71956",
   "metadata": {},
   "source": [
    "Question: Return the value for a specific key, and if the key doesn't exist, add it with a default value"
   ]
  },
  {
   "cell_type": "code",
   "execution_count": 11,
   "id": "f059625c",
   "metadata": {},
   "outputs": [
    {
     "data": {
      "text/plain": [
       "{'name': 'John', 'age': 30, 'city': 'New York'}"
      ]
     },
     "execution_count": 11,
     "metadata": {},
     "output_type": "execute_result"
    }
   ],
   "source": [
    "my_dict = {'name': 'John', 'age': 30}\n",
    "value = my_dict.setdefault('city', 'New York')\n",
    "my_dict"
   ]
  },
  {
   "cell_type": "markdown",
   "id": "0363c17d",
   "metadata": {},
   "source": [
    "Question: Clear all key-value pairs in a dictionary"
   ]
  },
  {
   "cell_type": "code",
   "execution_count": 12,
   "id": "bfd4372e",
   "metadata": {},
   "outputs": [
    {
     "data": {
      "text/plain": [
       "{}"
      ]
     },
     "execution_count": 12,
     "metadata": {},
     "output_type": "execute_result"
    }
   ],
   "source": [
    "my_dict = {'name': 'John', 'age': 30}\n",
    "my_dict.clear()\n",
    "my_dict"
   ]
  },
  {
   "cell_type": "markdown",
   "id": "403b3477",
   "metadata": {},
   "source": [
    "Question: Return the number of key-value pairs in a dictionary"
   ]
  },
  {
   "cell_type": "code",
   "execution_count": 13,
   "id": "d6b66bcc",
   "metadata": {},
   "outputs": [
    {
     "data": {
      "text/plain": [
       "3"
      ]
     },
     "execution_count": 13,
     "metadata": {},
     "output_type": "execute_result"
    }
   ],
   "source": [
    "my_dict = {'name': 'John', 'age': 30, 'city': 'New York'}\n",
    "count = len(my_dict)\n",
    "count"
   ]
  },
  {
   "cell_type": "markdown",
   "id": "bb267d0c",
   "metadata": {},
   "source": [
    "Question: Return a list of all keys in a dictionary"
   ]
  },
  {
   "cell_type": "code",
   "execution_count": 14,
   "id": "b46ffa0c",
   "metadata": {},
   "outputs": [
    {
     "data": {
      "text/plain": [
       "['name', 'age', 'city']"
      ]
     },
     "execution_count": 14,
     "metadata": {},
     "output_type": "execute_result"
    }
   ],
   "source": [
    "my_dict = {'name': 'John', 'age': 30, 'city': 'New York'}\n",
    "key_list = list(my_dict.keys())\n",
    "key_list"
   ]
  },
  {
   "cell_type": "markdown",
   "id": "6b60a1e3",
   "metadata": {},
   "source": [
    "Question: Return a list of all values in a dictionary"
   ]
  },
  {
   "cell_type": "code",
   "execution_count": 15,
   "id": "f06c9606",
   "metadata": {},
   "outputs": [
    {
     "data": {
      "text/plain": [
       "['John', 30, 'New York']"
      ]
     },
     "execution_count": 15,
     "metadata": {},
     "output_type": "execute_result"
    }
   ],
   "source": [
    "my_dict = {'name': 'John', 'age': 30, 'city': 'New York'}\n",
    "value_list = list(my_dict.values())\n",
    "value_list"
   ]
  },
  {
   "cell_type": "markdown",
   "id": "94f3ab76",
   "metadata": {},
   "source": [
    "Question: Remove and return an item with the given key using the pop() method with a default value"
   ]
  },
  {
   "cell_type": "code",
   "execution_count": 18,
   "id": "11146c23",
   "metadata": {},
   "outputs": [
    {
     "name": "stdout",
     "output_type": "stream",
     "text": [
      "USA\n",
      "30\n"
     ]
    },
    {
     "data": {
      "text/plain": [
       "{'name': 'John', 'city': 'New York'}"
      ]
     },
     "execution_count": 18,
     "metadata": {},
     "output_type": "execute_result"
    }
   ],
   "source": [
    "my_dict = {'name': 'John', 'age': 30, 'city': 'New York'}\n",
    "value = my_dict.pop('country', 'USA')\n",
    "value1 = my_dict.pop('country', 'USA')\n",
    "print(value1)\n",
    "value2 = my_dict.pop('age', 'USA')\n",
    "print(value2)\n",
    "my_dict"
   ]
  },
  {
   "cell_type": "markdown",
   "id": "cd5fa9b7",
   "metadata": {},
   "source": [
    "Question: Update a dictionary with key-value pairs from another dictionary"
   ]
  },
  {
   "cell_type": "code",
   "execution_count": 19,
   "id": "990177f1",
   "metadata": {},
   "outputs": [
    {
     "data": {
      "text/plain": [
       "{'name': 'John', 'age': 30, 'city': 'New York', 'job': 'Engineer'}"
      ]
     },
     "execution_count": 19,
     "metadata": {},
     "output_type": "execute_result"
    }
   ],
   "source": [
    "my_dict = {'name': 'John', 'age': 30}\n",
    "other_dict = {'city': 'New York', 'job': 'Engineer'}\n",
    "my_dict.update(other_dict)\n",
    "my_dict"
   ]
  },
  {
   "cell_type": "markdown",
   "id": "4af45267",
   "metadata": {},
   "source": [
    "Question: Get a list of all key-value pairs in a dictionary as tuples"
   ]
  },
  {
   "cell_type": "code",
   "execution_count": 20,
   "id": "a02670f1",
   "metadata": {},
   "outputs": [
    {
     "data": {
      "text/plain": [
       "[('name', 'John'), ('age', 30), ('city', 'New York')]"
      ]
     },
     "execution_count": 20,
     "metadata": {},
     "output_type": "execute_result"
    }
   ],
   "source": [
    "my_dict = {'name': 'John', 'age': 30, 'city': 'New York'}\n",
    "pair_list = list(my_dict.items())\n",
    "pair_list"
   ]
  },
  {
   "cell_type": "markdown",
   "id": "68a5d5cf",
   "metadata": {},
   "source": [
    "Question: Return a list of all key-value pairs in a dictionary as tuples"
   ]
  },
  {
   "cell_type": "code",
   "execution_count": 21,
   "id": "124d8602",
   "metadata": {},
   "outputs": [
    {
     "name": "stdout",
     "output_type": "stream",
     "text": [
      "[('name', 'John'), ('age', 30), ('city', 'New York')]\n"
     ]
    }
   ],
   "source": [
    "my_dict = {'name': 'John', 'age': 30, 'city': 'New York'}\n",
    "\n",
    "# Using items() method to get key-value pairs as tuples\n",
    "tuple_list = list(my_dict.items())\n",
    "\n",
    "print(tuple_list)"
   ]
  },
  {
   "cell_type": "markdown",
   "id": "d98de11d",
   "metadata": {},
   "source": [
    "Question: Remove all key-value pairs from a dictionary except those with specified keys"
   ]
  },
  {
   "cell_type": "code",
   "execution_count": 22,
   "id": "249bdb1d",
   "metadata": {},
   "outputs": [
    {
     "name": "stdout",
     "output_type": "stream",
     "text": [
      "{'name': 'John', 'city': 'New York'}\n"
     ]
    }
   ],
   "source": [
    "my_dict = {'name': 'John', 'age': 30, 'city': 'New York'}\n",
    "\n",
    "# Keep only 'name' and 'city' keys, remove others\n",
    "keys_to_keep = ['name', 'city']\n",
    "filtered_dict = {key: my_dict[key] for key in keys_to_keep}\n",
    "\n",
    "print(filtered_dict)"
   ]
  },
  {
   "cell_type": "markdown",
   "id": "18072f49",
   "metadata": {},
   "source": [
    "Question: Get a list of all dictionary keys as a dictionary view object"
   ]
  },
  {
   "cell_type": "code",
   "execution_count": 23,
   "id": "49f0ad26",
   "metadata": {},
   "outputs": [
    {
     "name": "stdout",
     "output_type": "stream",
     "text": [
      "['name', 'age', 'city']\n"
     ]
    }
   ],
   "source": [
    "my_dict = {'name': 'John', 'age': 30, 'city': 'New York'}\n",
    "\n",
    "# Using keys() method to get a dictionary view object\n",
    "key_view = my_dict.keys()\n",
    "\n",
    "# Convert the dictionary view to a list if needed\n",
    "key_list = list(key_view)\n",
    "\n",
    "print(key_list)"
   ]
  },
  {
   "cell_type": "markdown",
   "id": "acbc1eba",
   "metadata": {},
   "source": [
    "Question: Get a list of all dictionary values as a dictionary view object"
   ]
  },
  {
   "cell_type": "code",
   "execution_count": 24,
   "id": "111ed4be",
   "metadata": {},
   "outputs": [
    {
     "name": "stdout",
     "output_type": "stream",
     "text": [
      "['John', 30, 'New York']\n"
     ]
    }
   ],
   "source": [
    "my_dict = {'name': 'John', 'age': 30, 'city': 'New York'}\n",
    "\n",
    "# Using values() method to get a dictionary view object\n",
    "value_view = my_dict.values()\n",
    "\n",
    "# Convert the dictionary view to a list if needed\n",
    "value_list = list(value_view)\n",
    "\n",
    "print(value_list)"
   ]
  },
  {
   "cell_type": "markdown",
   "id": "f586f480",
   "metadata": {},
   "source": [
    "Question: Remove a specific key-value pair and return its value using the pop() method"
   ]
  },
  {
   "cell_type": "code",
   "execution_count": 25,
   "id": "30f5dd18",
   "metadata": {},
   "outputs": [
    {
     "name": "stdout",
     "output_type": "stream",
     "text": [
      "30\n",
      "{'name': 'John', 'city': 'New York'}\n"
     ]
    }
   ],
   "source": [
    "my_dict = {'name': 'John', 'age': 30, 'city': 'New York'}\n",
    "\n",
    "# Remove and return the 'age' key-value pair\n",
    "removed_value = my_dict.pop('age')\n",
    "\n",
    "print(removed_value)\n",
    "# Output: 30\n",
    "print(my_dict)"
   ]
  },
  {
   "cell_type": "markdown",
   "id": "e699bf1e",
   "metadata": {},
   "source": [
    "Question: Return a copy of the dictionary"
   ]
  },
  {
   "cell_type": "code",
   "execution_count": 26,
   "id": "3ce0f573",
   "metadata": {},
   "outputs": [
    {
     "name": "stdout",
     "output_type": "stream",
     "text": [
      "{'name': 'John', 'age': 30, 'city': 'New York'}\n"
     ]
    }
   ],
   "source": [
    "my_dict = {'name': 'John', 'age': 30, 'city': 'New York'}\n",
    "\n",
    "# Using the copy() method to create a copy\n",
    "copied_dict = my_dict.copy()\n",
    "\n",
    "print(copied_dict)"
   ]
  },
  {
   "cell_type": "markdown",
   "id": "bf10ac2c",
   "metadata": {},
   "source": [
    "Question: Check if a dictionary is empty"
   ]
  },
  {
   "cell_type": "code",
   "execution_count": 27,
   "id": "5a91f068",
   "metadata": {},
   "outputs": [
    {
     "name": "stdout",
     "output_type": "stream",
     "text": [
      "True\n"
     ]
    }
   ],
   "source": [
    "my_dict = {}\n",
    "\n",
    "# Using the bool() function to check if the dictionary is empty\n",
    "is_empty = not bool(my_dict)\n",
    "\n",
    "print(is_empty)"
   ]
  },
  {
   "cell_type": "markdown",
   "id": "4b81d334",
   "metadata": {},
   "source": [
    "Question: Merge two dictionaries"
   ]
  },
  {
   "cell_type": "code",
   "execution_count": 28,
   "id": "3461e389",
   "metadata": {},
   "outputs": [
    {
     "name": "stdout",
     "output_type": "stream",
     "text": [
      "{'name': 'John', 'age': 30, 'city': 'New York', 'job': 'Engineer'}\n"
     ]
    }
   ],
   "source": [
    "dict1 = {'name': 'John', 'age': 30}\n",
    "dict2 = {'city': 'New York', 'job': 'Engineer'}\n",
    "\n",
    "# Using the update() method to merge dict2 into dict1\n",
    "dict1.update(dict2)\n",
    "\n",
    "print(dict1)"
   ]
  }
 ],
 "metadata": {
  "kernelspec": {
   "display_name": "Python 3 (ipykernel)",
   "language": "python",
   "name": "python3"
  },
  "language_info": {
   "codemirror_mode": {
    "name": "ipython",
    "version": 3
   },
   "file_extension": ".py",
   "mimetype": "text/x-python",
   "name": "python",
   "nbconvert_exporter": "python",
   "pygments_lexer": "ipython3",
   "version": "3.9.13"
  },
  "toc": {
   "base_numbering": 1,
   "nav_menu": {},
   "number_sections": true,
   "sideBar": true,
   "skip_h1_title": false,
   "title_cell": "Table of Contents",
   "title_sidebar": "Contents",
   "toc_cell": false,
   "toc_position": {},
   "toc_section_display": true,
   "toc_window_display": false
  }
 },
 "nbformat": 4,
 "nbformat_minor": 5
}
