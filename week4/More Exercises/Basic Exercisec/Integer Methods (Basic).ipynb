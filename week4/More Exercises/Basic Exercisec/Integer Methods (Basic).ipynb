{
 "cells": [
  {
   "cell_type": "markdown",
   "id": "dbee02f3",
   "metadata": {},
   "source": [
    "# Integer Methods (Basic)"
   ]
  },
  {
   "cell_type": "markdown",
   "id": "ca9ffa6b",
   "metadata": {},
   "source": [
    "Question: How do you use the __add__ method to add two integers?"
   ]
  },
  {
   "cell_type": "markdown",
   "id": "fec081fc",
   "metadata": {},
   "source": [
    "The __add__ method is used to add two integers together."
   ]
  },
  {
   "cell_type": "code",
   "execution_count": 1,
   "id": "a8531223",
   "metadata": {},
   "outputs": [
    {
     "name": "stdout",
     "output_type": "stream",
     "text": [
      "Result of addition: 15\n"
     ]
    }
   ],
   "source": [
    "integer1 = 5\n",
    "integer2 = 10\n",
    "result = integer1.__add__(integer2)\n",
    "print(\"Result of addition:\", result)"
   ]
  },
  {
   "cell_type": "markdown",
   "id": "21f46469",
   "metadata": {},
   "source": [
    "Question: What does the __and__ method do for integers?"
   ]
  },
  {
   "cell_type": "markdown",
   "id": "5393f208",
   "metadata": {},
   "source": [
    "The __and__ method performs a bitwise AND operation between two integers."
   ]
  },
  {
   "cell_type": "code",
   "execution_count": 15,
   "id": "20e6967a",
   "metadata": {},
   "outputs": [
    {
     "name": "stdout",
     "output_type": "stream",
     "text": [
      "Bitwise AND result: 1\n",
      "Bitwise AND result: 1\n",
      "Bitwise AND result: 5\n",
      "0\n",
      "False\n"
     ]
    }
   ],
   "source": [
    "integer1 = 3\n",
    "integer2 = 5\n",
    "result = integer1.__and__(integer2)\n",
    "print(\"Bitwise AND result:\", result)\n",
    "print(\"Bitwise AND result:\", integer1 & integer2)\n",
    "print(\"Bitwise AND result:\", integer1 and integer2)\n",
    "\n",
    "\n",
    "a = 3  # Binary representation: 0101\n",
    "b = 5  # Binary representation: 0011\n",
    "result = a & b  # Bitwise AND: 0101 & 0011 = 0001\n",
    "print(result)\n",
    "\n",
    "x = True\n",
    "y = False\n",
    "result = x & y  # Logical AND\n",
    "print(result)  # Output: False"
   ]
  },
  {
   "cell_type": "markdown",
   "id": "113e3482",
   "metadata": {},
   "source": [
    "Question: How can you check if an integer is truthy or falsy using the __bool__ method?"
   ]
  },
  {
   "cell_type": "markdown",
   "id": "5c5c0aec",
   "metadata": {},
   "source": [
    "The __bool__ method returns False for integer 0 and True for non-zero integers."
   ]
  },
  {
   "cell_type": "code",
   "execution_count": 16,
   "id": "2181ab25",
   "metadata": {},
   "outputs": [
    {
     "name": "stdout",
     "output_type": "stream",
     "text": [
      "Is truthy: False\n"
     ]
    }
   ],
   "source": [
    "integer_value = 0\n",
    "is_truthy = bool(integer_value)\n",
    "print(\"Is truthy:\", is_truthy)"
   ]
  },
  {
   "cell_type": "markdown",
   "id": "068d6296",
   "metadata": {},
   "source": [
    "Question: What does the __ceil__ method do?"
   ]
  },
  {
   "cell_type": "markdown",
   "id": "d0280ebe",
   "metadata": {},
   "source": [
    "The __ceil__ method returns the smallest integer greater than or equal to the current integer."
   ]
  },
  {
   "cell_type": "code",
   "execution_count": 17,
   "id": "903ebbf1",
   "metadata": {},
   "outputs": [
    {
     "name": "stdout",
     "output_type": "stream",
     "text": [
      "Ceil value: 5\n"
     ]
    }
   ],
   "source": [
    "import math\n",
    "\n",
    "integer_value = 5\n",
    "ceil_value = math.ceil(integer_value)\n",
    "print(\"Ceil value:\", ceil_value)"
   ]
  },
  {
   "cell_type": "markdown",
   "id": "87c999bd",
   "metadata": {},
   "source": [
    "Question: How can you get the class of an integer using the __class__ attribute?"
   ]
  },
  {
   "cell_type": "markdown",
   "id": "c4f25654",
   "metadata": {},
   "source": [
    "The __class__ attribute returns the class type of the integer."
   ]
  },
  {
   "cell_type": "code",
   "execution_count": 18,
   "id": "697ad70e",
   "metadata": {},
   "outputs": [
    {
     "name": "stdout",
     "output_type": "stream",
     "text": [
      "Class type: <class 'int'>\n"
     ]
    }
   ],
   "source": [
    "integer_value = 42\n",
    "class_type = integer_value.__class__\n",
    "print(\"Class type:\", class_type)"
   ]
  },
  {
   "cell_type": "markdown",
   "id": "2bd19e04",
   "metadata": {},
   "source": [
    "Question: What is the purpose of the __delattr__ method in the int class?"
   ]
  },
  {
   "cell_type": "markdown",
   "id": "f7703bba",
   "metadata": {},
   "source": [
    "The __delattr__ method is used to delete an attribute of an integer object."
   ]
  },
  {
   "cell_type": "code",
   "execution_count": 19,
   "id": "44c4be25",
   "metadata": {},
   "outputs": [
    {
     "ename": "AttributeError",
     "evalue": "'int' object has no attribute 'example_attribute'",
     "output_type": "error",
     "traceback": [
      "\u001b[1;31m---------------------------------------------------------------------------\u001b[0m",
      "\u001b[1;31mAttributeError\u001b[0m                            Traceback (most recent call last)",
      "\u001b[1;32m~\\AppData\\Local\\Temp\\ipykernel_8900\\2628249418.py\u001b[0m in \u001b[0;36m<module>\u001b[1;34m\u001b[0m\n\u001b[0;32m      1\u001b[0m \u001b[0minteger_value\u001b[0m \u001b[1;33m=\u001b[0m \u001b[1;36m42\u001b[0m\u001b[1;33m\u001b[0m\u001b[1;33m\u001b[0m\u001b[0m\n\u001b[0;32m      2\u001b[0m \u001b[1;31m# Attempting to delete an attribute (raises an AttributeError)\u001b[0m\u001b[1;33m\u001b[0m\u001b[1;33m\u001b[0m\u001b[0m\n\u001b[1;32m----> 3\u001b[1;33m \u001b[0minteger_value\u001b[0m\u001b[1;33m.\u001b[0m\u001b[0m__delattr__\u001b[0m\u001b[1;33m(\u001b[0m\u001b[1;34m'example_attribute'\u001b[0m\u001b[1;33m)\u001b[0m\u001b[1;33m\u001b[0m\u001b[1;33m\u001b[0m\u001b[0m\n\u001b[0m",
      "\u001b[1;31mAttributeError\u001b[0m: 'int' object has no attribute 'example_attribute'"
     ]
    }
   ],
   "source": [
    "integer_value = 42\n",
    "# Attempting to delete an attribute (raises an AttributeError)\n",
    "integer_value.__delattr__('example_attribute')"
   ]
  },
  {
   "cell_type": "markdown",
   "id": "506f20b7",
   "metadata": {},
   "source": [
    "Question: How can you get a list of available attributes and methods for an integer using the __dir__ method?"
   ]
  },
  {
   "cell_type": "markdown",
   "id": "3c2aa8ea",
   "metadata": {},
   "source": [
    "The __dir__ method returns a list of attributes and methods available for an integer object."
   ]
  },
  {
   "cell_type": "code",
   "execution_count": 20,
   "id": "b5d378b8",
   "metadata": {},
   "outputs": [
    {
     "name": "stdout",
     "output_type": "stream",
     "text": [
      "Attributes and methods: ['__abs__', '__add__', '__and__', '__bool__', '__ceil__', '__class__', '__delattr__', '__dir__', '__divmod__', '__doc__', '__eq__', '__float__', '__floor__', '__floordiv__', '__format__', '__ge__', '__getattribute__', '__getnewargs__', '__gt__', '__hash__', '__index__', '__init__', '__init_subclass__', '__int__', '__invert__', '__le__', '__lshift__', '__lt__', '__mod__', '__mul__', '__ne__', '__neg__', '__new__', '__or__', '__pos__', '__pow__', '__radd__', '__rand__', '__rdivmod__', '__reduce__', '__reduce_ex__', '__repr__', '__rfloordiv__', '__rlshift__', '__rmod__', '__rmul__', '__ror__', '__round__', '__rpow__', '__rrshift__', '__rshift__', '__rsub__', '__rtruediv__', '__rxor__', '__setattr__', '__sizeof__', '__str__', '__sub__', '__subclasshook__', '__truediv__', '__trunc__', '__xor__', 'as_integer_ratio', 'bit_length', 'conjugate', 'denominator', 'from_bytes', 'imag', 'numerator', 'real', 'to_bytes']\n"
     ]
    }
   ],
   "source": [
    "integer_value = 42\n",
    "attributes_and_methods = dir(integer_value)\n",
    "print(\"Attributes and methods:\", attributes_and_methods)\n"
   ]
  },
  {
   "cell_type": "markdown",
   "id": "36a0ca79",
   "metadata": {},
   "source": [
    "Question: What does the __divmod__ method do for integers?"
   ]
  },
  {
   "cell_type": "markdown",
   "id": "eae0a725",
   "metadata": {},
   "source": [
    "The __divmod__ method returns a tuple containing the quotient and remainder of dividing two integers."
   ]
  },
  {
   "cell_type": "code",
   "execution_count": 21,
   "id": "19e60b1b",
   "metadata": {},
   "outputs": [
    {
     "name": "stdout",
     "output_type": "stream",
     "text": [
      "Quotient: 3\n",
      "Remainder: 3\n"
     ]
    }
   ],
   "source": [
    "integer1 = 15\n",
    "integer2 = 4\n",
    "quotient, remainder = divmod(integer1, integer2)\n",
    "print(\"Quotient:\", quotient)\n",
    "print(\"Remainder:\", remainder)"
   ]
  },
  {
   "cell_type": "markdown",
   "id": "07c0675e",
   "metadata": {},
   "source": [
    "Question: How can you access the documentation string of the int class using the __doc__ attribute?"
   ]
  },
  {
   "cell_type": "markdown",
   "id": "2ec70046",
   "metadata": {},
   "source": [
    "The __doc__ attribute provides access to the documentation string (docstring) of the int class."
   ]
  },
  {
   "cell_type": "code",
   "execution_count": 22,
   "id": "80d693bf",
   "metadata": {},
   "outputs": [
    {
     "name": "stdout",
     "output_type": "stream",
     "text": [
      "Documentation string: int([x]) -> integer\n",
      "int(x, base=10) -> integer\n",
      "\n",
      "Convert a number or string to an integer, or return 0 if no arguments\n",
      "are given.  If x is a number, return x.__int__().  For floating point\n",
      "numbers, this truncates towards zero.\n",
      "\n",
      "If x is not a number or if base is given, then x must be a string,\n",
      "bytes, or bytearray instance representing an integer literal in the\n",
      "given base.  The literal can be preceded by '+' or '-' and be surrounded\n",
      "by whitespace.  The base defaults to 10.  Valid bases are 0 and 2-36.\n",
      "Base 0 means to interpret the base from the string as an integer literal.\n",
      ">>> int('0b100', base=0)\n",
      "4\n"
     ]
    }
   ],
   "source": [
    "docstring = int.__doc__\n",
    "print(\"Documentation string:\", docstring)"
   ]
  },
  {
   "cell_type": "markdown",
   "id": "964d553f",
   "metadata": {},
   "source": [
    "Question: What does the __eq__ method do for integers?"
   ]
  },
  {
   "cell_type": "markdown",
   "id": "c0f61ddf",
   "metadata": {},
   "source": [
    "The __eq__ method checks if two integers are equal."
   ]
  },
  {
   "cell_type": "code",
   "execution_count": 23,
   "id": "16b91163",
   "metadata": {},
   "outputs": [
    {
     "name": "stdout",
     "output_type": "stream",
     "text": [
      "Are equal: True\n"
     ]
    }
   ],
   "source": [
    "integer1 = 5\n",
    "integer2 = 5\n",
    "are_equal = integer1.__eq__(integer2)\n",
    "print(\"Are equal:\", are_equal)"
   ]
  },
  {
   "cell_type": "markdown",
   "id": "fb74b271",
   "metadata": {},
   "source": [
    "Question: How can you convert an integer to a floating-point number using the __float__ method?"
   ]
  },
  {
   "cell_type": "markdown",
   "id": "f152ec5c",
   "metadata": {},
   "source": [
    "The __float__ method converts an integer to a floating-point number."
   ]
  },
  {
   "cell_type": "code",
   "execution_count": 1,
   "id": "09faa1af",
   "metadata": {},
   "outputs": [
    {
     "name": "stdout",
     "output_type": "stream",
     "text": [
      "Float value: 42.0\n"
     ]
    }
   ],
   "source": [
    "integer_value = 42\n",
    "float_value = float(integer_value)\n",
    "print(\"Float value:\", float_value)"
   ]
  },
  {
   "cell_type": "markdown",
   "id": "173ddfec",
   "metadata": {},
   "source": [
    "Question: What does the __floor__ method do?"
   ]
  },
  {
   "cell_type": "markdown",
   "id": "aab641af",
   "metadata": {},
   "source": [
    "The __floor__ method returns the largest integer less than or equal to the current integer."
   ]
  },
  {
   "cell_type": "code",
   "execution_count": 3,
   "id": "d56049cf",
   "metadata": {},
   "outputs": [
    {
     "name": "stdout",
     "output_type": "stream",
     "text": [
      "Floor value: 5\n"
     ]
    }
   ],
   "source": [
    "import math\n",
    "\n",
    "integer_value = 5.3\n",
    "floor_value = math.floor(integer_value)\n",
    "print(\"Floor value:\", floor_value)"
   ]
  },
  {
   "cell_type": "markdown",
   "id": "b3c71956",
   "metadata": {},
   "source": [
    "Question: How can you perform floor division between two integers using the __floordiv__ method?"
   ]
  },
  {
   "cell_type": "markdown",
   "id": "22f71803",
   "metadata": {},
   "source": [
    "The __floordiv__ method is used to perform floor division between two integers."
   ]
  },
  {
   "cell_type": "code",
   "execution_count": 4,
   "id": "f059625c",
   "metadata": {},
   "outputs": [
    {
     "name": "stdout",
     "output_type": "stream",
     "text": [
      "Floor division result: 3\n"
     ]
    }
   ],
   "source": [
    "integer1 = 15\n",
    "integer2 = 4\n",
    "result = integer1.__floordiv__(integer2)\n",
    "print(\"Floor division result:\", result)"
   ]
  },
  {
   "cell_type": "markdown",
   "id": "0363c17d",
   "metadata": {},
   "source": [
    "Question: What does the __format__ method do for integers?"
   ]
  },
  {
   "cell_type": "markdown",
   "id": "767eabd3",
   "metadata": {},
   "source": [
    "The __format__ method returns a formatted string representation of an integer."
   ]
  },
  {
   "cell_type": "code",
   "execution_count": 7,
   "id": "bfd4372e",
   "metadata": {},
   "outputs": [
    {
     "name": "stdout",
     "output_type": "stream",
     "text": [
      "Formatted string: 0042\n"
     ]
    }
   ],
   "source": [
    "integer_value = 42\n",
    "formatted_string = integer_value.__format__(\"04d\")\n",
    "print(\"Formatted string:\", formatted_string)"
   ]
  },
  {
   "cell_type": "markdown",
   "id": "403b3477",
   "metadata": {},
   "source": [
    "Question: How can you check if an integer is greater than or equal to another integer using the __ge__ method?"
   ]
  },
  {
   "cell_type": "markdown",
   "id": "af47bd93",
   "metadata": {},
   "source": [
    "The __ge__ method checks if the current integer is greater than or equal to another integer."
   ]
  },
  {
   "cell_type": "code",
   "execution_count": 8,
   "id": "566c3ed0",
   "metadata": {},
   "outputs": [
    {
     "name": "stdout",
     "output_type": "stream",
     "text": [
      "Is greater than or equal: True\n"
     ]
    }
   ],
   "source": [
    "Question: integer1 = 10\n",
    "integer2 = 5\n",
    "is_greater_or_equal = integer1.__ge__(integer2)\n",
    "print(\"Is greater than or equal:\", is_greater_or_equal)"
   ]
  },
  {
   "cell_type": "markdown",
   "id": "6b60a1e3",
   "metadata": {},
   "source": [
    "Question: What does the __getattribute__ method do in the int class?"
   ]
  },
  {
   "cell_type": "markdown",
   "id": "70d6eae4",
   "metadata": {},
   "source": [
    "The __getattribute__ method is used to retrieve an attribute's value for an integer object."
   ]
  },
  {
   "cell_type": "code",
   "execution_count": 9,
   "id": "f06c9606",
   "metadata": {},
   "outputs": [
    {
     "ename": "AttributeError",
     "evalue": "'int' object has no attribute 'example_attribute'",
     "output_type": "error",
     "traceback": [
      "\u001b[1;31m---------------------------------------------------------------------------\u001b[0m",
      "\u001b[1;31mAttributeError\u001b[0m                            Traceback (most recent call last)",
      "\u001b[1;32m~\\AppData\\Local\\Temp\\ipykernel_11008\\2084152347.py\u001b[0m in \u001b[0;36m<module>\u001b[1;34m\u001b[0m\n\u001b[0;32m      1\u001b[0m \u001b[0minteger_value\u001b[0m \u001b[1;33m=\u001b[0m \u001b[1;36m42\u001b[0m\u001b[1;33m\u001b[0m\u001b[1;33m\u001b[0m\u001b[0m\n\u001b[0;32m      2\u001b[0m \u001b[1;31m# Attempting to retrieve an attribute (raises an AttributeError)\u001b[0m\u001b[1;33m\u001b[0m\u001b[1;33m\u001b[0m\u001b[0m\n\u001b[1;32m----> 3\u001b[1;33m \u001b[0mattribute_value\u001b[0m \u001b[1;33m=\u001b[0m \u001b[0minteger_value\u001b[0m\u001b[1;33m.\u001b[0m\u001b[0m__getattribute__\u001b[0m\u001b[1;33m(\u001b[0m\u001b[1;34m'example_attribute'\u001b[0m\u001b[1;33m)\u001b[0m\u001b[1;33m\u001b[0m\u001b[1;33m\u001b[0m\u001b[0m\n\u001b[0m",
      "\u001b[1;31mAttributeError\u001b[0m: 'int' object has no attribute 'example_attribute'"
     ]
    }
   ],
   "source": [
    "integer_value = 42\n",
    "# Attempting to retrieve an attribute (raises an AttributeError)\n",
    "attribute_value = integer_value.__getattribute__('example_attribute')"
   ]
  },
  {
   "cell_type": "markdown",
   "id": "0b0701fc",
   "metadata": {},
   "source": [
    "Question: How can you create a new integer object using the __getnewargs__ method?"
   ]
  },
  {
   "cell_type": "markdown",
   "id": "df043cec",
   "metadata": {},
   "source": [
    "The __getnewargs__ method returns a tuple of arguments that can be used to create a new integer object."
   ]
  },
  {
   "cell_type": "code",
   "execution_count": 10,
   "id": "2eba2705",
   "metadata": {},
   "outputs": [
    {
     "name": "stdout",
     "output_type": "stream",
     "text": [
      "New arguments: (42,)\n"
     ]
    }
   ],
   "source": [
    "integer_value = 42\n",
    "new_args = integer_value.__getnewargs__()\n",
    "print(\"New arguments:\", new_args)"
   ]
  },
  {
   "cell_type": "markdown",
   "id": "94f3ab76",
   "metadata": {},
   "source": [
    "Question: How can you check if an integer is greater than another integer using the __gt__ method?"
   ]
  },
  {
   "cell_type": "markdown",
   "id": "c1d5a166",
   "metadata": {},
   "source": [
    "The __gt__ method checks if the current integer is greater than another integer."
   ]
  },
  {
   "cell_type": "code",
   "execution_count": 11,
   "id": "11146c23",
   "metadata": {},
   "outputs": [
    {
     "name": "stdout",
     "output_type": "stream",
     "text": [
      "Is greater: True\n"
     ]
    }
   ],
   "source": [
    "integer1 = 10\n",
    "integer2 = 5\n",
    "is_greater = integer1.__gt__(integer2)\n",
    "print(\"Is greater:\", is_greater)"
   ]
  },
  {
   "cell_type": "markdown",
   "id": "cd5fa9b7",
   "metadata": {},
   "source": [
    "Question: What is the purpose of the __hash__ method for integers?"
   ]
  },
  {
   "cell_type": "markdown",
   "id": "97b94c79",
   "metadata": {},
   "source": [
    "The __hash__ method returns a hash value for an integer, allowing it to be used as a dictionary key."
   ]
  },
  {
   "cell_type": "code",
   "execution_count": 12,
   "id": "11308dff",
   "metadata": {},
   "outputs": [
    {
     "name": "stdout",
     "output_type": "stream",
     "text": [
      "Hash value: 42\n"
     ]
    }
   ],
   "source": [
    "integer_value = 42\n",
    "hash_value = integer_value.__hash__()\n",
    "print(\"Hash value:\", hash_value)"
   ]
  },
  {
   "cell_type": "markdown",
   "id": "f631a085",
   "metadata": {},
   "source": [
    "Question: How can you use the __index__ method to return an integer suitable for use as an index?"
   ]
  },
  {
   "cell_type": "markdown",
   "id": "d0911a6a",
   "metadata": {},
   "source": [
    "The __index__ method returns an integer that can be used as an index in sequences like lists or strings."
   ]
  },
  {
   "cell_type": "code",
   "execution_count": 13,
   "id": "db738989",
   "metadata": {},
   "outputs": [
    {
     "name": "stdout",
     "output_type": "stream",
     "text": [
      "Index value: 42\n"
     ]
    }
   ],
   "source": [
    "integer_value = 42\n",
    "index_value = integer_value.__index__()\n",
    "print(\"Index value:\", index_value)"
   ]
  },
  {
   "cell_type": "markdown",
   "id": "c666fd7d",
   "metadata": {},
   "source": [
    "Question: What does the __init__ method do for integers?"
   ]
  },
  {
   "cell_type": "markdown",
   "id": "229e8c7b",
   "metadata": {},
   "source": [
    "The __init__ method initializes an integer object with a given value."
   ]
  },
  {
   "cell_type": "code",
   "execution_count": 17,
   "id": "d541b0ba",
   "metadata": {},
   "outputs": [
    {
     "name": "stdout",
     "output_type": "stream",
     "text": [
      "Initialized value: 0\n"
     ]
    }
   ],
   "source": [
    "integer_value = int()\n",
    "integer_value.__init__(2)\n",
    "print(\"Initialized value:\", integer_value)"
   ]
  },
  {
   "cell_type": "markdown",
   "id": "39835381",
   "metadata": {},
   "source": [
    "Question: How can you perform a bitwise inversion of an integer using the __invert__ method?"
   ]
  },
  {
   "cell_type": "markdown",
   "id": "c0a590bc",
   "metadata": {},
   "source": [
    "The __invert__ method performs a bitwise inversion (bitwise NOT) of an integer."
   ]
  },
  {
   "cell_type": "code",
   "execution_count": 18,
   "id": "2f301686",
   "metadata": {},
   "outputs": [
    {
     "name": "stdout",
     "output_type": "stream",
     "text": [
      "Inverted value: -6\n"
     ]
    }
   ],
   "source": [
    "integer_value = 5\n",
    "inverted_value = integer_value.__invert__()\n",
    "print(\"Inverted value:\", inverted_value)"
   ]
  },
  {
   "cell_type": "markdown",
   "id": "bf42db7c",
   "metadata": {},
   "source": [
    "Question: How do you check if an integer is less than or equal to another integer using the __le__ method?"
   ]
  },
  {
   "cell_type": "markdown",
   "id": "90e6b635",
   "metadata": {},
   "source": [
    "The __le__ method checks if the current integer is less than or equal to another integer."
   ]
  },
  {
   "cell_type": "code",
   "execution_count": 19,
   "id": "3806a6dd",
   "metadata": {},
   "outputs": [
    {
     "name": "stdout",
     "output_type": "stream",
     "text": [
      "Is less than or equal: True\n"
     ]
    }
   ],
   "source": [
    "integer1 = 5\n",
    "integer2 = 10\n",
    "is_less_or_equal = integer1.__le__(integer2)\n",
    "print(\"Is less than or equal:\", is_less_or_equal)"
   ]
  },
  {
   "cell_type": "markdown",
   "id": "1076ab69",
   "metadata": {},
   "source": [
    "Question: What does the __lshift__ method do?"
   ]
  },
  {
   "cell_type": "markdown",
   "id": "1f00e6e5",
   "metadata": {},
   "source": [
    "The __lshift__ method performs a bitwise left shift operation on an integer."
   ]
  },
  {
   "cell_type": "code",
   "execution_count": 20,
   "id": "13257668",
   "metadata": {},
   "outputs": [
    {
     "name": "stdout",
     "output_type": "stream",
     "text": [
      "Shifted value: 20\n"
     ]
    }
   ],
   "source": [
    "integer_value = 5\n",
    "shifted_value = integer_value.__lshift__(2)\n",
    "print(\"Shifted value:\", shifted_value)"
   ]
  },
  {
   "cell_type": "markdown",
   "id": "c439162d",
   "metadata": {},
   "source": [
    "Question: How can you check if an integer is less than another integer using the __lt__ method?"
   ]
  },
  {
   "cell_type": "markdown",
   "id": "2a337620",
   "metadata": {},
   "source": [
    "The __lt__ method checks if the current integer is less than another integer."
   ]
  },
  {
   "cell_type": "code",
   "execution_count": 21,
   "id": "db3cbe5e",
   "metadata": {},
   "outputs": [
    {
     "name": "stdout",
     "output_type": "stream",
     "text": [
      "Is less than: True\n"
     ]
    }
   ],
   "source": [
    "integer1 = 5\n",
    "integer2 = 10\n",
    "is_less = integer1.__lt__(integer2)\n",
    "print(\"Is less than:\", is_less)"
   ]
  },
  {
   "cell_type": "markdown",
   "id": "cca092c1",
   "metadata": {},
   "source": [
    "Question: How can you find the remainder when an integer is divided by another integer using the __mod__ method?"
   ]
  },
  {
   "cell_type": "markdown",
   "id": "08ddbf64",
   "metadata": {},
   "source": [
    "The __mod__ method returns the remainder when the current integer is divided by another integer."
   ]
  },
  {
   "cell_type": "code",
   "execution_count": 22,
   "id": "f6d74b38",
   "metadata": {},
   "outputs": [
    {
     "name": "stdout",
     "output_type": "stream",
     "text": [
      "Remainder: 3\n"
     ]
    }
   ],
   "source": [
    "integer1 = 15\n",
    "integer2 = 4\n",
    "remainder = integer1.__mod__(integer2)\n",
    "print(\"Remainder:\", remainder)"
   ]
  },
  {
   "cell_type": "markdown",
   "id": "bba23e95",
   "metadata": {},
   "source": [
    "Question: How can you multiply two integers using the __mul__ method?"
   ]
  },
  {
   "cell_type": "markdown",
   "id": "35a09fd1",
   "metadata": {},
   "source": [
    "The __mul__ method is used to multiply two integers."
   ]
  },
  {
   "cell_type": "code",
   "execution_count": 24,
   "id": "adb6a09d",
   "metadata": {},
   "outputs": [
    {
     "name": "stdout",
     "output_type": "stream",
     "text": [
      "Multiplication result: 50\n"
     ]
    }
   ],
   "source": [
    "integer1 = 5\n",
    "integer2 = 10\n",
    "result = integer1.__mul__(integer2)\n",
    "print(\"Multiplication result:\", result)"
   ]
  },
  {
   "cell_type": "markdown",
   "id": "2ddd39b2",
   "metadata": {},
   "source": [
    "Question: How can you check if two integers are not equal using the __ne__ method?"
   ]
  },
  {
   "cell_type": "markdown",
   "id": "0bc6976b",
   "metadata": {},
   "source": [
    "The __ne__ method checks if two integers are not equal."
   ]
  },
  {
   "cell_type": "code",
   "execution_count": 25,
   "id": "2764558d",
   "metadata": {},
   "outputs": [
    {
     "name": "stdout",
     "output_type": "stream",
     "text": [
      "Are not equal: True\n"
     ]
    }
   ],
   "source": [
    "integer1 = 5\n",
    "integer2 = 10\n",
    "are_not_equal = integer1.__ne__(integer2)\n",
    "print(\"Are not equal:\", are_not_equal)"
   ]
  },
  {
   "cell_type": "markdown",
   "id": "a274e922",
   "metadata": {},
   "source": [
    "Question: What does the __neg__ method do for integers?"
   ]
  },
  {
   "cell_type": "markdown",
   "id": "c335c87b",
   "metadata": {},
   "source": [
    "The __neg__ method returns the negation (negative value) of an integer."
   ]
  },
  {
   "cell_type": "code",
   "execution_count": 26,
   "id": "366079a9",
   "metadata": {},
   "outputs": [
    {
     "name": "stdout",
     "output_type": "stream",
     "text": [
      "Negation: -5\n"
     ]
    }
   ],
   "source": [
    "integer_value = 5\n",
    "negation = integer_value.__neg__()\n",
    "print(\"Negation:\", negation)"
   ]
  },
  {
   "cell_type": "markdown",
   "id": "7a5ca82b",
   "metadata": {},
   "source": [
    "Question:"
   ]
  },
  {
   "cell_type": "markdown",
   "id": "79d35fea",
   "metadata": {},
   "source": []
  },
  {
   "cell_type": "code",
   "execution_count": null,
   "id": "22c1607d",
   "metadata": {},
   "outputs": [],
   "source": []
  }
 ],
 "metadata": {
  "kernelspec": {
   "display_name": "Python 3 (ipykernel)",
   "language": "python",
   "name": "python3"
  },
  "language_info": {
   "codemirror_mode": {
    "name": "ipython",
    "version": 3
   },
   "file_extension": ".py",
   "mimetype": "text/x-python",
   "name": "python",
   "nbconvert_exporter": "python",
   "pygments_lexer": "ipython3",
   "version": "3.9.13"
  },
  "toc": {
   "base_numbering": 1,
   "nav_menu": {},
   "number_sections": true,
   "sideBar": true,
   "skip_h1_title": false,
   "title_cell": "Table of Contents",
   "title_sidebar": "Contents",
   "toc_cell": false,
   "toc_position": {},
   "toc_section_display": true,
   "toc_window_display": false
  }
 },
 "nbformat": 4,
 "nbformat_minor": 5
}
