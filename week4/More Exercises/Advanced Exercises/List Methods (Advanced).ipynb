{
 "cells": [
  {
   "cell_type": "markdown",
   "id": "dbee02f3",
   "metadata": {},
   "source": [
    "# List Methods (Advanced)"
   ]
  },
  {
   "cell_type": "markdown",
   "id": "ca9ffa6b",
   "metadata": {},
   "source": [
    "Question: Create a list my_list containing numbers. Use a list comprehension to create a new list that squares each element of the original list."
   ]
  },
  {
   "cell_type": "code",
   "execution_count": 2,
   "id": "a8531223",
   "metadata": {},
   "outputs": [
    {
     "name": "stdout",
     "output_type": "stream",
     "text": [
      "[1, 4, 9, 16, 25]\n"
     ]
    }
   ],
   "source": [
    "my_list = [1, 2, 3, 4, 5]\n",
    "squared_list = [x ** 2 for x in my_list]\n",
    "print(squared_list)"
   ]
  },
  {
   "cell_type": "markdown",
   "id": "21f46469",
   "metadata": {},
   "source": [
    "Question: Create a list my_list containing integers. Using the remove method, remove all elements that are divisible by 3 from the list."
   ]
  },
  {
   "cell_type": "code",
   "execution_count": 3,
   "id": "20e6967a",
   "metadata": {},
   "outputs": [
    {
     "name": "stdout",
     "output_type": "stream",
     "text": [
      "[1, 2, 4, 5, 7, 8]\n"
     ]
    }
   ],
   "source": [
    "my_list = [1, 2, 3, 4, 5, 6, 7, 8, 9]\n",
    "my_list = [x for x in my_list if x % 3 != 0]\n",
    "print(my_list)"
   ]
  },
  {
   "cell_type": "markdown",
   "id": "113e3482",
   "metadata": {},
   "source": [
    "Question: Create a list my_list containing strings. Use list comprehension to create a new list that contains the reverse of each string in the original list."
   ]
  },
  {
   "cell_type": "code",
   "execution_count": 4,
   "id": "2181ab25",
   "metadata": {},
   "outputs": [
    {
     "name": "stdout",
     "output_type": "stream",
     "text": [
      "['elppa', 'ananab', 'yrrehc', 'etad', 'sgif']\n"
     ]
    }
   ],
   "source": [
    "my_list = [\"apple\", \"banana\", \"cherry\", \"date\", \"figs\"]\n",
    "reversed_list = [s[::-1] for s in my_list]\n",
    "print(reversed_list)"
   ]
  },
  {
   "cell_type": "markdown",
   "id": "068d6296",
   "metadata": {},
   "source": [
    "Question: Create a list my_list containing tuples of (name, age). Use the sorted method to sort the list based on age in descending order."
   ]
  },
  {
   "cell_type": "code",
   "execution_count": 5,
   "id": "903ebbf1",
   "metadata": {},
   "outputs": [
    {
     "name": "stdout",
     "output_type": "stream",
     "text": [
      "[('Charlie', 35), ('Alice', 30), ('David', 28), ('Bob', 25)]\n"
     ]
    }
   ],
   "source": [
    "my_list = [(\"Alice\", 30), (\"Bob\", 25), (\"Charlie\", 35), (\"David\", 28)]\n",
    "sorted_list = sorted(my_list, key=lambda x: x[1], reverse=True)\n",
    "print(sorted_list)"
   ]
  },
  {
   "cell_type": "markdown",
   "id": "87c999bd",
   "metadata": {},
   "source": [
    "Question: Create a list my_list containing strings. Use the join method to concatenate all the strings in the list into a single string separated by commas."
   ]
  },
  {
   "cell_type": "code",
   "execution_count": 6,
   "id": "ddf5d986",
   "metadata": {},
   "outputs": [
    {
     "name": "stdout",
     "output_type": "stream",
     "text": [
      "apple, banana, cherry, date, figs\n"
     ]
    }
   ],
   "source": [
    "my_list = [\"apple\", \"banana\", \"cherry\", \"date\", \"figs\"]\n",
    "concatenated_string = \", \".join(my_list)\n",
    "print(concatenated_string)"
   ]
  },
  {
   "cell_type": "markdown",
   "id": "2bd19e04",
   "metadata": {},
   "source": [
    "Question: Create a list my_list containing integers. Use the filter method to create a new list that contains only even numbers."
   ]
  },
  {
   "cell_type": "code",
   "execution_count": 7,
   "id": "44c4be25",
   "metadata": {},
   "outputs": [
    {
     "name": "stdout",
     "output_type": "stream",
     "text": [
      "[2, 4, 6, 8]\n"
     ]
    }
   ],
   "source": [
    "my_list = [1, 2, 3, 4, 5, 6, 7, 8, 9]\n",
    "even_numbers = list(filter(lambda x: x % 2 == 0, my_list))\n",
    "print(even_numbers)"
   ]
  },
  {
   "cell_type": "markdown",
   "id": "506f20b7",
   "metadata": {},
   "source": [
    "Question: Create a list my_list containing strings. Use list comprehension to create a new list that contains only strings that start with the letter 'a' (case insensitive)."
   ]
  },
  {
   "cell_type": "code",
   "execution_count": 8,
   "id": "b5d378b8",
   "metadata": {},
   "outputs": [
    {
     "name": "stdout",
     "output_type": "stream",
     "text": [
      "['apple', 'apricot']\n"
     ]
    }
   ],
   "source": [
    "my_list = [\"apple\", \"Banana\", \"apricot\", \"date\", \"Figs\"]\n",
    "filtered_list = [s for s in my_list if s.lower().startswith('a')]\n",
    "print(filtered_list)"
   ]
  },
  {
   "cell_type": "markdown",
   "id": "36a0ca79",
   "metadata": {},
   "source": [
    "Question: Create a list my_list containing strings. Use list comprehension to create a new list that contains only the vowels (case insensitive) from all the strings in the original list."
   ]
  },
  {
   "cell_type": "code",
   "execution_count": 9,
   "id": "4fd74c4f",
   "metadata": {},
   "outputs": [
    {
     "name": "stdout",
     "output_type": "stream",
     "text": [
      "['a', 'e', 'a', 'a', 'a', 'e', 'a', 'e', 'i']\n"
     ]
    }
   ],
   "source": [
    "my_list = [\"apple\", \"Banana\", \"cherry\", \"date\", \"Figs\"]\n",
    "vowels = [char.lower() for s in my_list for char in s if char.lower() in \"aeiou\"]\n",
    "print(vowels)"
   ]
  },
  {
   "cell_type": "markdown",
   "id": "07c0675e",
   "metadata": {},
   "source": [
    "Question: Create a list my_list containing strings. Use list comprehension to create a new list that contains the strings with more than one vowel in them."
   ]
  },
  {
   "cell_type": "code",
   "execution_count": 1,
   "id": "995c9954",
   "metadata": {},
   "outputs": [
    {
     "name": "stdout",
     "output_type": "stream",
     "text": [
      "['apple', 'banana', 'date']\n"
     ]
    }
   ],
   "source": [
    "my_list = [\"apple\", \"banana\", \"cherry\", \"date\", \"figs\"]\n",
    "vowel_strings = [s for s in my_list if sum(1 for c in s if c in \"AEIOUaeiou\") > 1]\n",
    "print(vowel_strings)"
   ]
  },
  {
   "cell_type": "markdown",
   "id": "964d553f",
   "metadata": {},
   "source": [
    "Question: Create two lists, list1 and list2, both containing integers. Use list comprehension and the zip method to create a new list that contains the maximum of corresponding elements from list1 and list2."
   ]
  },
  {
   "cell_type": "code",
   "execution_count": 2,
   "id": "16b91163",
   "metadata": {},
   "outputs": [
    {
     "name": "stdout",
     "output_type": "stream",
     "text": [
      "[4, 7, 6, 8, 9]\n"
     ]
    }
   ],
   "source": [
    "list1 = [1, 7, 3, 5, 9]\n",
    "list2 = [4, 2, 6, 8, 1]\n",
    "max_list = [max(x, y) for x, y in zip(list1, list2)]\n",
    "print(max_list)"
   ]
  },
  {
   "cell_type": "markdown",
   "id": "173ddfec",
   "metadata": {},
   "source": [
    "Question: Create a list of strings. Use list comprehension to create a new list that contains the strings sorted in descending order of length."
   ]
  },
  {
   "cell_type": "code",
   "execution_count": 3,
   "id": "e9f36c02",
   "metadata": {},
   "outputs": [
    {
     "name": "stdout",
     "output_type": "stream",
     "text": [
      "['banana', 'cherry', 'apple', 'date', 'figs']\n"
     ]
    }
   ],
   "source": [
    "my_list = [\"apple\", \"banana\", \"cherry\", \"date\", \"figs\"]\n",
    "sorted_by_length = sorted(my_list, key=lambda x: len(x), reverse=True)\n",
    "print(sorted_by_length)"
   ]
  },
  {
   "cell_type": "markdown",
   "id": "b3c71956",
   "metadata": {},
   "source": [
    "Question: Create a list of numbers. Use the all method to check if all the numbers in the list are greater than 10."
   ]
  },
  {
   "cell_type": "code",
   "execution_count": 4,
   "id": "f059625c",
   "metadata": {},
   "outputs": [
    {
     "name": "stdout",
     "output_type": "stream",
     "text": [
      "True\n"
     ]
    }
   ],
   "source": [
    "my_list = [15, 12, 18, 20, 25]\n",
    "all_greater_than_10 = all(x > 10 for x in my_list)\n",
    "print(all_greater_than_10)"
   ]
  },
  {
   "cell_type": "markdown",
   "id": "0363c17d",
   "metadata": {},
   "source": [
    "Question: Create a list of strings. Use list comprehension to create a new list that contains the strings with the vowels removed."
   ]
  },
  {
   "cell_type": "code",
   "execution_count": 5,
   "id": "bfd4372e",
   "metadata": {},
   "outputs": [
    {
     "name": "stdout",
     "output_type": "stream",
     "text": [
      "['ppl', 'bnn', 'chrry', 'dt', 'fgs']\n"
     ]
    }
   ],
   "source": [
    "my_list = [\"apple\", \"banana\", \"cherry\", \"date\", \"figs\"]\n",
    "without_vowels = [\"\".join(c for c in s if c not in \"AEIOUaeiou\") for s in my_list]\n",
    "print(without_vowels)"
   ]
  },
  {
   "cell_type": "markdown",
   "id": "403b3477",
   "metadata": {},
   "source": [
    "Question: Create a list of dictionaries, each containing 'name' and 'age' keys. Use list comprehension to create a new list that contains only the dictionaries where the age is greater than 30."
   ]
  },
  {
   "cell_type": "code",
   "execution_count": 6,
   "id": "d6b66bcc",
   "metadata": {},
   "outputs": [
    {
     "name": "stdout",
     "output_type": "stream",
     "text": [
      "[{'name': 'Bob', 'age': 35}, {'name': 'Charlie', 'age': 42}]\n"
     ]
    }
   ],
   "source": [
    "my_list = [{\"name\": \"Alice\", \"age\": 28}, {\"name\": \"Bob\", \"age\": 35}, {\"name\": \"Charlie\", \"age\": 42}]\n",
    "over_30 = [d for d in my_list if d[\"age\"] > 30]\n",
    "print(over_30)"
   ]
  },
  {
   "cell_type": "markdown",
   "id": "bb267d0c",
   "metadata": {},
   "source": [
    "Question: Create a list of strings. Use list comprehension to create a new list that contains the strings sorted by the number of vowels in each string."
   ]
  },
  {
   "cell_type": "code",
   "execution_count": 7,
   "id": "b46ffa0c",
   "metadata": {},
   "outputs": [
    {
     "name": "stdout",
     "output_type": "stream",
     "text": [
      "['cherry', 'figs', 'apple', 'date', 'banana']\n"
     ]
    }
   ],
   "source": [
    "my_list = [\"apple\", \"banana\", \"cherry\", \"date\", \"figs\"]\n",
    "sorted_by_vowels = sorted(my_list, key=lambda s: sum(1 for c in s if c in \"AEIOUaeiou\"))\n",
    "print(sorted_by_vowels)"
   ]
  },
  {
   "cell_type": "markdown",
   "id": "6b60a1e3",
   "metadata": {},
   "source": [
    "Question: Create a list of integers. Use the itertools.starmap function to calculate the square of each number in the list, and then use a for loop to print the results."
   ]
  },
  {
   "cell_type": "code",
   "execution_count": 8,
   "id": "f06c9606",
   "metadata": {},
   "outputs": [
    {
     "name": "stdout",
     "output_type": "stream",
     "text": [
      "[1, 81, 15625]\n"
     ]
    }
   ],
   "source": [
    "from itertools import starmap\n",
    "\n",
    "my_list = [(1, 2), (3, 4), (5, 6)]\n",
    "squares = list(starmap(lambda x, y: x**y, my_list))\n",
    "print(squares)"
   ]
  },
  {
   "cell_type": "markdown",
   "id": "0b0701fc",
   "metadata": {},
   "source": [
    "Question: Create a list of integers. Use the itertools.groupby function to group the numbers into even and odd groups."
   ]
  },
  {
   "cell_type": "code",
   "execution_count": 9,
   "id": "b20de82d",
   "metadata": {},
   "outputs": [
    {
     "name": "stdout",
     "output_type": "stream",
     "text": [
      "[1, 2, 3, 1, 2, 3, 1, 2, 3, 1]\n"
     ]
    }
   ],
   "source": [
    "from itertools import cycle, islice\n",
    "\n",
    "my_list = [1, 2, 3]\n",
    "infinite_cycle = cycle(my_list)\n",
    "first_10_elements = list(islice(infinite_cycle, 10))\n",
    "print(first_10_elements)"
   ]
  },
  {
   "cell_type": "markdown",
   "id": "94f3ab76",
   "metadata": {},
   "source": [
    "Question: Create a list of strings. Use the enumerate function and a for loop to create a new list of tuples, where each tuple contains the index and the string from the original list."
   ]
  },
  {
   "cell_type": "code",
   "execution_count": 10,
   "id": "11146c23",
   "metadata": {},
   "outputs": [
    {
     "name": "stdout",
     "output_type": "stream",
     "text": [
      "[(0, 'apple'), (1, 'banana'), (2, 'cherry'), (3, 'date'), (4, 'figs')]\n"
     ]
    }
   ],
   "source": [
    "my_list = [\"apple\", \"banana\", \"cherry\", \"date\", \"figs\"]\n",
    "enumerated_list = [(i, s) for i, s in enumerate(my_list)]\n",
    "print(enumerated_list)"
   ]
  },
  {
   "cell_type": "markdown",
   "id": "cd5fa9b7",
   "metadata": {},
   "source": [
    "Question: Create a list of dictionaries, each containing 'name' and 'age' keys. Use the map function to create a new list that contains only the names of people who are above 30 years old."
   ]
  },
  {
   "cell_type": "code",
   "execution_count": 11,
   "id": "990177f1",
   "metadata": {},
   "outputs": [
    {
     "name": "stdout",
     "output_type": "stream",
     "text": [
      "['Bob', 'Charlie']\n"
     ]
    }
   ],
   "source": [
    "people = [{\"name\": \"Alice\", \"age\": 28}, {\"name\": \"Bob\", \"age\": 35}, {\"name\": \"Charlie\", \"age\": 42}]\n",
    "names_above_30 = list(map(lambda x: x[\"name\"], filter(lambda x: x[\"age\"] > 30, people)))\n",
    "print(names_above_30)"
   ]
  },
  {
   "cell_type": "markdown",
   "id": "a7878f9e",
   "metadata": {},
   "source": [
    "Question: Create a list of strings. Use the functools.partial function to create a custom sorting function that sorts the strings by the number of vowels in descending order."
   ]
  },
  {
   "cell_type": "code",
   "execution_count": 12,
   "id": "1e8bc0ee",
   "metadata": {},
   "outputs": [
    {
     "name": "stdout",
     "output_type": "stream",
     "text": [
      "['banana', 'apple', 'date', 'cherry', 'figs']\n"
     ]
    }
   ],
   "source": [
    "from functools import partial\n",
    "\n",
    "my_list = [\"apple\", \"banana\", \"cherry\", \"date\", \"figs\"]\n",
    "\n",
    "def vowel_count(word):\n",
    "    return sum(1 for char in word if char in \"aeiouAEIOU\")\n",
    "\n",
    "custom_sort = partial(sorted, key=vowel_count, reverse=True)\n",
    "sorted_by_vowels = custom_sort(my_list)\n",
    "print(sorted_by_vowels)"
   ]
  },
  {
   "cell_type": "markdown",
   "id": "36c59ce3",
   "metadata": {},
   "source": [
    "Question: Create a list of dictionaries representing books with 'title' and 'rating' keys. Use the operator.itemgetter function and the sorted function to sort the books by their ratings in descending order."
   ]
  },
  {
   "cell_type": "code",
   "execution_count": 13,
   "id": "44d7fc2b",
   "metadata": {},
   "outputs": [
    {
     "name": "stdout",
     "output_type": "stream",
     "text": [
      "[{'title': 'Book3', 'rating': 4.8}, {'title': 'Book1', 'rating': 4.5}, {'title': 'Book2', 'rating': 4.2}]\n"
     ]
    }
   ],
   "source": [
    "from operator import itemgetter\n",
    "\n",
    "books = [{\"title\": \"Book1\", \"rating\": 4.5}, {\"title\": \"Book2\", \"rating\": 4.2}, {\"title\": \"Book3\", \"rating\": 4.8}]\n",
    "\n",
    "sorted_by_rating = sorted(books, key=itemgetter(\"rating\"), reverse=True)\n",
    "print(sorted_by_rating)"
   ]
  },
  {
   "cell_type": "markdown",
   "id": "a85c2227",
   "metadata": {},
   "source": [
    "Question: Create a list of strings. Use the heapq.nlargest function to find the top 3 longest strings in the list."
   ]
  },
  {
   "cell_type": "code",
   "execution_count": 14,
   "id": "e81cea22",
   "metadata": {},
   "outputs": [
    {
     "name": "stdout",
     "output_type": "stream",
     "text": [
      "['banana', 'cherry', 'apple']\n"
     ]
    }
   ],
   "source": [
    "import heapq\n",
    "\n",
    "my_list = [\"apple\", \"banana\", \"cherry\", \"date\", \"figs\"]\n",
    "\n",
    "top_3_longest = heapq.nlargest(3, my_list, key=len)\n",
    "print(top_3_longest)"
   ]
  },
  {
   "cell_type": "markdown",
   "id": "afff5b2c",
   "metadata": {},
   "source": [
    "Question: Create a list of integers. Use the heapq.nsmallest function to find the 5 smallest numbers in the list."
   ]
  },
  {
   "cell_type": "code",
   "execution_count": 15,
   "id": "49034a09",
   "metadata": {},
   "outputs": [
    {
     "name": "stdout",
     "output_type": "stream",
     "text": [
      "[5, 10, 15, 20, 25]\n"
     ]
    }
   ],
   "source": [
    "import heapq\n",
    "\n",
    "my_list = [15, 10, 25, 30, 5, 20, 35]\n",
    "\n",
    "smallest_5 = heapq.nsmallest(5, my_list)\n",
    "print(smallest_5)"
   ]
  },
  {
   "cell_type": "markdown",
   "id": "3f2d2956",
   "metadata": {},
   "source": [
    "Question: Create two lists of integers, list1 and list2. Use the itertools.chain function to merge the two lists into a single list."
   ]
  },
  {
   "cell_type": "code",
   "execution_count": 16,
   "id": "a0fa89fb",
   "metadata": {},
   "outputs": [
    {
     "name": "stdout",
     "output_type": "stream",
     "text": [
      "[1, 2, 3, 4, 5, 6]\n"
     ]
    }
   ],
   "source": [
    "from itertools import chain\n",
    "\n",
    "list1 = [1, 2, 3]\n",
    "list2 = [4, 5, 6]\n",
    "\n",
    "merged_list = list(chain(list1, list2))\n",
    "print(merged_list)"
   ]
  },
  {
   "cell_type": "markdown",
   "id": "41560e54",
   "metadata": {},
   "source": [
    "Question: Create a list of strings. Use the collections.Counter function to count the frequency of each word in the list."
   ]
  },
  {
   "cell_type": "code",
   "execution_count": 18,
   "id": "7ab2b07b",
   "metadata": {},
   "outputs": [
    {
     "name": "stdout",
     "output_type": "stream",
     "text": [
      "Counter({'apple': 2, 'banana': 2, 'cherry': 1, 'date': 1})\n"
     ]
    }
   ],
   "source": [
    "from collections import Counter\n",
    "\n",
    "my_list = [\"apple\", \"banana\", \"cherry\", \"banana\", \"date\", \"apple\"]\n",
    "\n",
    "word_count = Counter(my_list)\n",
    "print(word_count)"
   ]
  },
  {
   "cell_type": "markdown",
   "id": "12eaaadb",
   "metadata": {},
   "source": [
    "Question: Create a list of dictionaries, each containing 'name' and 'score' keys. Use the operator.attrgetter function and the max function to find the dictionary with the highest 'score'."
   ]
  },
  {
   "cell_type": "code",
   "execution_count": 20,
   "id": "1a2adb95",
   "metadata": {},
   "outputs": [
    {
     "name": "stdout",
     "output_type": "stream",
     "text": [
      "{'name': 'Bob', 'score': 92}\n"
     ]
    }
   ],
   "source": [
    "students = [{\"name\": \"Alice\", \"score\": 85}, {\"name\": \"Bob\", \"score\": 92}, {\"name\": \"Charlie\", \"score\": 78}]\n",
    "\n",
    "highest_score_student = max(students, key=lambda student: student[\"score\"])\n",
    "print(highest_score_student)\n"
   ]
  }
 ],
 "metadata": {
  "kernelspec": {
   "display_name": "Python 3 (ipykernel)",
   "language": "python",
   "name": "python3"
  },
  "language_info": {
   "codemirror_mode": {
    "name": "ipython",
    "version": 3
   },
   "file_extension": ".py",
   "mimetype": "text/x-python",
   "name": "python",
   "nbconvert_exporter": "python",
   "pygments_lexer": "ipython3",
   "version": "3.9.13"
  },
  "toc": {
   "base_numbering": 1,
   "nav_menu": {},
   "number_sections": true,
   "sideBar": true,
   "skip_h1_title": false,
   "title_cell": "Table of Contents",
   "title_sidebar": "Contents",
   "toc_cell": false,
   "toc_position": {},
   "toc_section_display": true,
   "toc_window_display": false
  }
 },
 "nbformat": 4,
 "nbformat_minor": 5
}
