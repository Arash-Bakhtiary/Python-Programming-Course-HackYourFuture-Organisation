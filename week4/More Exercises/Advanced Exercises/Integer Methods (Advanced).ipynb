{
 "cells": [
  {
   "cell_type": "markdown",
   "id": "dbee02f3",
   "metadata": {},
   "source": [
    "# Integer Methods (Advanced)"
   ]
  },
  {
   "cell_type": "markdown",
   "id": "ca9ffa6b",
   "metadata": {},
   "source": [
    "Question: How can you find the binary representation of an integer using the bin() function in combination with __index__?"
   ]
  },
  {
   "cell_type": "markdown",
   "id": "b3a414ff",
   "metadata": {},
   "source": [
    "You can find the binary representation of an integer using the bin() function, which utilizes the __index__ method."
   ]
  },
  {
   "cell_type": "code",
   "execution_count": 1,
   "id": "658f709c",
   "metadata": {},
   "outputs": [
    {
     "name": "stdout",
     "output_type": "stream",
     "text": [
      "Binary representation: 0b101010\n"
     ]
    }
   ],
   "source": [
    "integer_value = 42\n",
    "binary_representation = bin(integer_value.__index__())\n",
    "print(\"Binary representation:\", binary_representation)"
   ]
  },
  {
   "cell_type": "markdown",
   "id": "21f46469",
   "metadata": {},
   "source": [
    "Question: How can you find the hexadecimal representation of an integer using the hex() function in combination with __index__?"
   ]
  },
  {
   "cell_type": "markdown",
   "id": "7cce323e",
   "metadata": {},
   "source": [
    "You can find the hexadecimal representation of an integer using the hex() function, which utilizes the __index__ method."
   ]
  },
  {
   "cell_type": "code",
   "execution_count": 2,
   "id": "6dd7af46",
   "metadata": {},
   "outputs": [
    {
     "name": "stdout",
     "output_type": "stream",
     "text": [
      "Hexadecimal representation: 0xff\n"
     ]
    }
   ],
   "source": [
    "integer_value = 255\n",
    "hexadecimal_representation = hex(integer_value.__index__())\n",
    "print(\"Hexadecimal representation:\", hexadecimal_representation)"
   ]
  },
  {
   "cell_type": "markdown",
   "id": "113e3482",
   "metadata": {},
   "source": [
    "Question: How can you calculate the greatest common divisor (GCD) of two integers using the math.gcd() function?"
   ]
  },
  {
   "cell_type": "markdown",
   "id": "c4ee7f6e",
   "metadata": {},
   "source": [
    "You can calculate the GCD of two integers using the math.gcd() function from the math module."
   ]
  },
  {
   "cell_type": "code",
   "execution_count": 3,
   "id": "e615006a",
   "metadata": {},
   "outputs": [
    {
     "name": "stdout",
     "output_type": "stream",
     "text": [
      "GCD: 12\n"
     ]
    }
   ],
   "source": [
    "import math\n",
    "\n",
    "integer1 = 24\n",
    "integer2 = 36\n",
    "gcd = math.gcd(integer1, integer2)\n",
    "print(\"GCD:\", gcd)"
   ]
  },
  {
   "cell_type": "markdown",
   "id": "068d6296",
   "metadata": {},
   "source": [
    "Question: How can you calculate the least common multiple (LCM) of two integers using the math.lcm() function?"
   ]
  },
  {
   "cell_type": "markdown",
   "id": "543389f2",
   "metadata": {},
   "source": [
    "You can calculate the LCM of two integers using the math.lcm() function from the math module."
   ]
  },
  {
   "cell_type": "code",
   "execution_count": 4,
   "id": "23902c00",
   "metadata": {},
   "outputs": [
    {
     "name": "stdout",
     "output_type": "stream",
     "text": [
      "LCM: 72\n"
     ]
    }
   ],
   "source": [
    "import math\n",
    "\n",
    "integer1 = 24\n",
    "integer2 = 36\n",
    "lcm = math.lcm(integer1, integer2)\n",
    "print(\"LCM:\", lcm)"
   ]
  },
  {
   "cell_type": "markdown",
   "id": "87c999bd",
   "metadata": {},
   "source": [
    "Question: How can you use the int.from_bytes() method to create an integer from a byte representation?"
   ]
  },
  {
   "cell_type": "markdown",
   "id": "10ffd264",
   "metadata": {},
   "source": [
    "You can use the int.from_bytes() method to create an integer from a byte representation."
   ]
  },
  {
   "cell_type": "code",
   "execution_count": 5,
   "id": "398e28a3",
   "metadata": {},
   "outputs": [
    {
     "name": "stdout",
     "output_type": "stream",
     "text": [
      "Integer from bytes: 15\n"
     ]
    }
   ],
   "source": [
    "bytes_data = b'\\x00\\x0F'\n",
    "integer_value = int.from_bytes(bytes_data, byteorder='big')\n",
    "print(\"Integer from bytes:\", integer_value)"
   ]
  },
  {
   "cell_type": "markdown",
   "id": "2bd19e04",
   "metadata": {},
   "source": [
    "Question: How can you use the int.to_bytes() method to convert an integer to a byte representation?"
   ]
  },
  {
   "cell_type": "markdown",
   "id": "19474e6d",
   "metadata": {},
   "source": [
    "You can use the int.to_bytes() method to convert an integer to a byte representation."
   ]
  },
  {
   "cell_type": "code",
   "execution_count": 6,
   "id": "bdedb842",
   "metadata": {},
   "outputs": [
    {
     "name": "stdout",
     "output_type": "stream",
     "text": [
      "Byte representation: b'\\x01\\x00'\n"
     ]
    }
   ],
   "source": [
    "integer_value = 256\n",
    "bytes_data = integer_value.to_bytes(2, byteorder='big')\n",
    "print(\"Byte representation:\", bytes_data)"
   ]
  },
  {
   "cell_type": "markdown",
   "id": "506f20b7",
   "metadata": {},
   "source": [
    "Question: How can you calculate the absolute difference between two integers using the abs() function?"
   ]
  },
  {
   "cell_type": "markdown",
   "id": "8e8427da",
   "metadata": {},
   "source": [
    "You can calculate the absolute difference between two integers using the abs() function."
   ]
  },
  {
   "cell_type": "code",
   "execution_count": 7,
   "id": "2a846864",
   "metadata": {},
   "outputs": [
    {
     "name": "stdout",
     "output_type": "stream",
     "text": [
      "Absolute difference: 3\n"
     ]
    }
   ],
   "source": [
    "integer1 = 10\n",
    "integer2 = 7\n",
    "absolute_difference = abs(integer1 - integer2)\n",
    "print(\"Absolute difference:\", absolute_difference)"
   ]
  },
  {
   "cell_type": "markdown",
   "id": "36a0ca79",
   "metadata": {},
   "source": [
    "Question: How can you use the int.bit_length() method to determine the number of bits required to represent an integer?"
   ]
  },
  {
   "cell_type": "markdown",
   "id": "32a7e63c",
   "metadata": {},
   "source": [
    "You can use the int.bit_length() method to determine the number of bits required to represent an integer."
   ]
  },
  {
   "cell_type": "code",
   "execution_count": 8,
   "id": "4fd74c4f",
   "metadata": {},
   "outputs": [
    {
     "name": "stdout",
     "output_type": "stream",
     "text": [
      "Bit length: 6\n"
     ]
    }
   ],
   "source": [
    "integer_value = 42\n",
    "bit_length = integer_value.bit_length()\n",
    "print(\"Bit length:\", bit_length)"
   ]
  },
  {
   "cell_type": "markdown",
   "id": "07c0675e",
   "metadata": {},
   "source": [
    "Question: How can you check if an integer is even or odd using the & operator with __and__?"
   ]
  },
  {
   "cell_type": "markdown",
   "id": "7ad3936c",
   "metadata": {},
   "source": [
    "You can check if an integer is even or odd by using the & (bitwise AND) operator in combination with the __and__ method."
   ]
  },
  {
   "cell_type": "code",
   "execution_count": 9,
   "id": "e5fcbf49",
   "metadata": {},
   "outputs": [
    {
     "name": "stdout",
     "output_type": "stream",
     "text": [
      "The integer is odd.\n"
     ]
    }
   ],
   "source": [
    "integer_value = 7\n",
    "if integer_value.__and__(1):\n",
    "    print(\"The integer is odd.\")\n",
    "else:\n",
    "    print(\"The integer is even.\")\n"
   ]
  },
  {
   "cell_type": "markdown",
   "id": "964d553f",
   "metadata": {},
   "source": [
    "Question: How can you find the integer part and fractional part of a float using the math.modf() function?"
   ]
  },
  {
   "cell_type": "markdown",
   "id": "7fe02181",
   "metadata": {},
   "source": [
    "You can find the integer part and fractional part of a float using the math.modf() function."
   ]
  },
  {
   "cell_type": "code",
   "execution_count": 10,
   "id": "16b91163",
   "metadata": {},
   "outputs": [
    {
     "name": "stdout",
     "output_type": "stream",
     "text": [
      "Integer part: 0.14158999999999988\n",
      "Fractional part: 3.0\n"
     ]
    }
   ],
   "source": [
    "import math\n",
    "\n",
    "float_value = 3.14159\n",
    "integer_part, fractional_part = math.modf(float_value)\n",
    "print(\"Integer part:\", integer_part)\n",
    "print(\"Fractional part:\", fractional_part)"
   ]
  },
  {
   "cell_type": "markdown",
   "id": "fb74b271",
   "metadata": {},
   "source": [
    "Question: How can you calculate the square of an integer using the __pow__ method?\n"
   ]
  },
  {
   "cell_type": "markdown",
   "id": "ed6aee64",
   "metadata": {},
   "source": [
    "You can calculate the square of an integer using the __pow__ method."
   ]
  },
  {
   "cell_type": "code",
   "execution_count": 11,
   "id": "51411819",
   "metadata": {},
   "outputs": [
    {
     "name": "stdout",
     "output_type": "stream",
     "text": [
      "Square: 25\n"
     ]
    }
   ],
   "source": [
    "integer_value = 5\n",
    "square = integer_value.__pow__(2)\n",
    "print(\"Square:\", square)"
   ]
  },
  {
   "cell_type": "markdown",
   "id": "173ddfec",
   "metadata": {},
   "source": [
    "Question: How can you use the int.from_bytes() method to convert a byte representation with a specified byte order to an integer?"
   ]
  },
  {
   "cell_type": "markdown",
   "id": "1b3ea734",
   "metadata": {},
   "source": [
    "You can use the int.from_bytes() method to convert a byte representation to an integer with a specified byte order."
   ]
  },
  {
   "cell_type": "code",
   "execution_count": 12,
   "id": "e9f36c02",
   "metadata": {},
   "outputs": [
    {
     "name": "stdout",
     "output_type": "stream",
     "text": [
      "Integer from bytes (little-endian): 1\n"
     ]
    }
   ],
   "source": [
    "bytes_data = b'\\x01\\x00'\n",
    "integer_value = int.from_bytes(bytes_data, byteorder='little')\n",
    "print(\"Integer from bytes (little-endian):\", integer_value)"
   ]
  },
  {
   "cell_type": "markdown",
   "id": "b3c71956",
   "metadata": {},
   "source": [
    "Question: How can you use the as_integer_ratio() method to represent a float as a ratio of two integers?"
   ]
  },
  {
   "cell_type": "markdown",
   "id": "67c07310",
   "metadata": {},
   "source": [
    "You can use the as_integer_ratio() method to represent a float as a ratio of two integers."
   ]
  },
  {
   "cell_type": "code",
   "execution_count": 13,
   "id": "1dfbd270",
   "metadata": {},
   "outputs": [
    {
     "name": "stdout",
     "output_type": "stream",
     "text": [
      "Integer ratio: (3537115888337719, 1125899906842624)\n"
     ]
    }
   ],
   "source": [
    "float_value = 3.14159\n",
    "ratio = float_value.as_integer_ratio()\n",
    "print(\"Integer ratio:\", ratio)"
   ]
  },
  {
   "cell_type": "markdown",
   "id": "0363c17d",
   "metadata": {},
   "source": [
    "Question: How can you determine the number of bits needed to represent a positive integer using the bit_length() method?"
   ]
  },
  {
   "cell_type": "markdown",
   "id": "d9f661ec",
   "metadata": {},
   "source": [
    "You can determine the number of bits needed to represent a positive integer using the bit_length() method."
   ]
  },
  {
   "cell_type": "code",
   "execution_count": 14,
   "id": "e5e183c9",
   "metadata": {},
   "outputs": [
    {
     "name": "stdout",
     "output_type": "stream",
     "text": [
      "Number of bits: 8\n"
     ]
    }
   ],
   "source": [
    "integer_value = 255\n",
    "bit_length = integer_value.bit_length()\n",
    "print(\"Number of bits:\", bit_length)"
   ]
  },
  {
   "cell_type": "markdown",
   "id": "403b3477",
   "metadata": {},
   "source": [
    "Question: How can you find the conjugate of a complex number using the conjugate() method?"
   ]
  },
  {
   "cell_type": "markdown",
   "id": "2214e97a",
   "metadata": {},
   "source": [
    "You can find the conjugate of a complex number using the conjugate() method."
   ]
  },
  {
   "cell_type": "code",
   "execution_count": 15,
   "id": "621b4d2a",
   "metadata": {},
   "outputs": [
    {
     "name": "stdout",
     "output_type": "stream",
     "text": [
      "Conjugate: (2-3j)\n"
     ]
    }
   ],
   "source": [
    "complex_number = 2 + 3j\n",
    "conjugate_result = complex_number.conjugate()\n",
    "print(\"Conjugate:\", conjugate_result)"
   ]
  },
  {
   "cell_type": "markdown",
   "id": "bb267d0c",
   "metadata": {},
   "source": [
    "Question: How can you get the numerator and denominator of a rational number using the numerator and denominator attributes?"
   ]
  },
  {
   "cell_type": "markdown",
   "id": "2a0c903b",
   "metadata": {},
   "source": [
    "You can get the numerator and denominator of a rational number using the numerator and denominator attributes."
   ]
  },
  {
   "cell_type": "code",
   "execution_count": 16,
   "id": "570366f2",
   "metadata": {},
   "outputs": [
    {
     "name": "stdout",
     "output_type": "stream",
     "text": [
      "Numerator: 3\n",
      "Denominator: 4\n"
     ]
    }
   ],
   "source": [
    "from fractions import Fraction\n",
    "\n",
    "rational_number = Fraction(3, 4)\n",
    "numerator = rational_number.numerator\n",
    "denominator = rational_number.denominator\n",
    "print(\"Numerator:\", numerator)\n",
    "print(\"Denominator:\", denominator)"
   ]
  },
  {
   "cell_type": "markdown",
   "id": "6b60a1e3",
   "metadata": {},
   "source": [
    "Question: How can you convert an integer to its byte representation using the to_bytes() method?"
   ]
  },
  {
   "cell_type": "markdown",
   "id": "7bc98ce2",
   "metadata": {},
   "source": [
    "You can convert an integer to its byte representation using the to_bytes() method."
   ]
  },
  {
   "cell_type": "code",
   "execution_count": 17,
   "id": "182ff260",
   "metadata": {},
   "outputs": [
    {
     "name": "stdout",
     "output_type": "stream",
     "text": [
      "Byte representation (big-endian): b'\\x01\\x00'\n"
     ]
    }
   ],
   "source": [
    "integer_value = 256\n",
    "byte_representation = integer_value.to_bytes(2, byteorder='big')\n",
    "print(\"Byte representation (big-endian):\", byte_representation)"
   ]
  }
 ],
 "metadata": {
  "kernelspec": {
   "display_name": "Python 3 (ipykernel)",
   "language": "python",
   "name": "python3"
  },
  "language_info": {
   "codemirror_mode": {
    "name": "ipython",
    "version": 3
   },
   "file_extension": ".py",
   "mimetype": "text/x-python",
   "name": "python",
   "nbconvert_exporter": "python",
   "pygments_lexer": "ipython3",
   "version": "3.9.13"
  },
  "toc": {
   "base_numbering": 1,
   "nav_menu": {},
   "number_sections": true,
   "sideBar": true,
   "skip_h1_title": false,
   "title_cell": "Table of Contents",
   "title_sidebar": "Contents",
   "toc_cell": false,
   "toc_position": {},
   "toc_section_display": true,
   "toc_window_display": false
  }
 },
 "nbformat": 4,
 "nbformat_minor": 5
}
