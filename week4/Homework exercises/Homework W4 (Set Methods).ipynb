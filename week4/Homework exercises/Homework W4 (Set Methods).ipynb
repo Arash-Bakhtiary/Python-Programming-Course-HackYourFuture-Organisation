{
 "cells": [
  {
   "cell_type": "markdown",
   "id": "dbee02f3",
   "metadata": {},
   "source": [
    "# Assignments - W4 (Set Methods)"
   ]
  },
  {
   "cell_type": "markdown",
   "id": "19705614",
   "metadata": {},
   "source": [
    "Assignment 1: Symmetric Difference with Multiple Sets"
   ]
  },
  {
   "cell_type": "markdown",
   "id": "c262d171",
   "metadata": {},
   "source": [
    "Task: Create four sets, set1, set2, set3, and set4, with various elements. Find the symmetric difference of all four sets and store the result in a new set, symmetric_result."
   ]
  },
  {
   "cell_type": "markdown",
   "id": "b9d7e5ee",
   "metadata": {},
   "source": [
    "Assignment 2: Complex Set Operations"
   ]
  },
  {
   "cell_type": "markdown",
   "id": "04345813",
   "metadata": {},
   "source": [
    "Task: Create two sets, setA and setB, with a substantial number of elements. Perform various set operations (union, intersection, difference, and finding unique elements) between these sets."
   ]
  },
  {
   "cell_type": "markdown",
   "id": "bb4f0f3e",
   "metadata": {},
   "source": [
    "Assignment 3: Set Comprehensions"
   ]
  },
  {
   "cell_type": "markdown",
   "id": "6f8f94b8",
   "metadata": {},
   "source": [
    "Task: Given a list of integers, create a set comprehension to generate a new set containing only the even numbers from the list."
   ]
  },
  {
   "cell_type": "markdown",
   "id": "e4666890",
   "metadata": {},
   "source": [
    "Assignment 4: Set Operations with Subsets"
   ]
  },
  {
   "cell_type": "markdown",
   "id": "005e2058",
   "metadata": {},
   "source": [
    "Task: Create three sets: setX, setY, and setZ. Check if setX is a proper subset of setY and if setY is a proper subset of setZ. Explain the difference between proper and non-proper subsets."
   ]
  },
  {
   "cell_type": "markdown",
   "id": "8a19ed3b",
   "metadata": {},
   "source": [
    "Assignment 5: Set Operations with Strings"
   ]
  },
  {
   "cell_type": "markdown",
   "id": "fbc4c3a8",
   "metadata": {},
   "source": [
    "Task: Create two sets, setWords1 and setWords2, containing words. Find the common letters (characters) between all the words in each set and store them in separate sets, commonLetters1 and commonLetters2."
   ]
  },
  {
   "cell_type": "markdown",
   "id": "4c1de10c",
   "metadata": {},
   "source": [
    "Assignment 6: Set Intersection with Lists"
   ]
  },
  {
   "cell_type": "markdown",
   "id": "550a22da",
   "metadata": {},
   "source": [
    "Task: Create a set of prime numbers between 1 and 50. Then, create a list of numbers between 20 and 60. Find the intersection of the set of primes and the list of numbers."
   ]
  },
  {
   "cell_type": "markdown",
   "id": "1f9c9aae",
   "metadata": {},
   "source": [
    "Assignment 7: Set Operations with Dictionaries"
   ]
  },
  {
   "cell_type": "markdown",
   "id": "ac477032",
   "metadata": {},
   "source": [
    "Task: Create two dictionaries, dict1 and dict2, where keys represent names, and values represent ages. Convert the keys of both dictionaries into sets and find the common names in both sets."
   ]
  },
  {
   "cell_type": "markdown",
   "id": "c1d89cdd",
   "metadata": {},
   "source": [
    "Assignment 8: Set Operations with Nested Sets"
   ]
  },
  {
   "cell_type": "markdown",
   "id": "b5b85190",
   "metadata": {},
   "source": [
    "Task: Create a set of sets (a set of frozensets) where each inner set represents a group of people. Find the union of all the groups and store the result as a single set containing all unique people."
   ]
  },
  {
   "cell_type": "markdown",
   "id": "203cb12f",
   "metadata": {},
   "source": [
    "Assignment 9: Set Operations with Complex Types"
   ]
  },
  {
   "cell_type": "markdown",
   "id": "979bf824",
   "metadata": {},
   "source": [
    "Task: Create two sets, setComplex1 and setComplex2, containing tuples of (name, age) pairs. Find the intersection of the two sets based on the age of individuals."
   ]
  },
  {
   "cell_type": "markdown",
   "id": "3bce1390",
   "metadata": {},
   "source": [
    "Assignment 10: Set Mutations with User Input"
   ]
  },
  {
   "cell_type": "markdown",
   "id": "9d53c13a",
   "metadata": {},
   "source": [
    "Task: Create an empty set and ask the user to input a series of numbers. Allow the user to add or remove numbers from the set based on their input until they decide to stop. Finally, calculate and display the sum of the numbers in the set."
   ]
  }
 ],
 "metadata": {
  "kernelspec": {
   "display_name": "Python 3 (ipykernel)",
   "language": "python",
   "name": "python3"
  },
  "language_info": {
   "codemirror_mode": {
    "name": "ipython",
    "version": 3
   },
   "file_extension": ".py",
   "mimetype": "text/x-python",
   "name": "python",
   "nbconvert_exporter": "python",
   "pygments_lexer": "ipython3",
   "version": "3.9.13"
  },
  "toc": {
   "base_numbering": 1,
   "nav_menu": {},
   "number_sections": true,
   "sideBar": true,
   "skip_h1_title": false,
   "title_cell": "Table of Contents",
   "title_sidebar": "Contents",
   "toc_cell": false,
   "toc_position": {},
   "toc_section_display": true,
   "toc_window_display": false
  }
 },
 "nbformat": 4,
 "nbformat_minor": 5
}
