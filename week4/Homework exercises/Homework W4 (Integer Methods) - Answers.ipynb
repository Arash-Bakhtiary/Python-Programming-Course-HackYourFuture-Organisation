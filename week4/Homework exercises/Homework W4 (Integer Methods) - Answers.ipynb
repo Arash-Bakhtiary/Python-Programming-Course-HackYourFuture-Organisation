{
 "cells": [
  {
   "cell_type": "markdown",
   "id": "dbee02f3",
   "metadata": {},
   "source": [
    "# Assignments - W4 (Integer Methods)"
   ]
  },
  {
   "cell_type": "markdown",
   "id": "184766df",
   "metadata": {},
   "source": [
    "Assignment 1: Custom Integer Addition"
   ]
  },
  {
   "cell_type": "markdown",
   "id": "794a4f8e",
   "metadata": {},
   "source": [
    "Task: Create a Python program that takes two integer inputs and performs addition using the __add__ method. Implement this within a function called custom_addition(integer1, integer2)."
   ]
  },
  {
   "cell_type": "markdown",
   "id": "a5aba14d",
   "metadata": {},
   "source": [
    "Answer: "
   ]
  },
  {
   "cell_type": "code",
   "execution_count": 3,
   "id": "23c1c42c",
   "metadata": {},
   "outputs": [
    {
     "name": "stdout",
     "output_type": "stream",
     "text": [
      "Result of addition: 15\n"
     ]
    }
   ],
   "source": [
    "def custom_addition(integer1, integer2):\n",
    "    result = integer1.__add__(integer2)\n",
    "    return result\n",
    "\n",
    "# Test the function\n",
    "integer1 = 5\n",
    "integer2 = 10\n",
    "result = custom_addition(integer1, integer2)\n",
    "print(\"Result of addition:\", result)\n"
   ]
  },
  {
   "cell_type": "markdown",
   "id": "0984888b",
   "metadata": {},
   "source": [
    "Assignment 2: Bitwise AND Operation"
   ]
  },
  {
   "cell_type": "markdown",
   "id": "42bc6898",
   "metadata": {},
   "source": [
    "Task: Write a Python program that performs a bitwise AND operation between two integers using the __and__ method. Implement this within a function called bitwise_and(integer1, integer2)."
   ]
  },
  {
   "cell_type": "code",
   "execution_count": null,
   "id": "a1ad8628",
   "metadata": {},
   "outputs": [],
   "source": [
    "Answer: "
   ]
  },
  {
   "cell_type": "code",
   "execution_count": 4,
   "id": "e71e976c",
   "metadata": {},
   "outputs": [
    {
     "name": "stdout",
     "output_type": "stream",
     "text": [
      "Bitwise AND result: 1\n"
     ]
    }
   ],
   "source": [
    "def bitwise_and(integer1, integer2):\n",
    "    result = integer1.__and__(integer2)\n",
    "    return result\n",
    "\n",
    "# Test the function\n",
    "integer1 = 3\n",
    "integer2 = 5\n",
    "result = bitwise_and(integer1, integer2)\n",
    "print(\"Bitwise AND result:\", result)"
   ]
  },
  {
   "cell_type": "markdown",
   "id": "398c79e8",
   "metadata": {},
   "source": [
    "Assignment 3: Truthy or Falsy Check"
   ]
  },
  {
   "cell_type": "markdown",
   "id": "484ddabd",
   "metadata": {},
   "source": [
    "Task: Create a Python program that checks if an integer is truthy or falsy using the bool method. Implement this within a function called check_truthiness(integer_value)."
   ]
  },
  {
   "cell_type": "code",
   "execution_count": null,
   "id": "cc447990",
   "metadata": {},
   "outputs": [],
   "source": [
    "Answer: "
   ]
  },
  {
   "cell_type": "code",
   "execution_count": 6,
   "id": "c46438e3",
   "metadata": {},
   "outputs": [
    {
     "name": "stdout",
     "output_type": "stream",
     "text": [
      "Is truthy: False\n"
     ]
    }
   ],
   "source": [
    "def check_truthiness(integer_value):\n",
    "    is_truthy = bool(integer_value)\n",
    "    return is_truthy\n",
    "\n",
    "# Test the function\n",
    "integer_value = 0\n",
    "is_truthy = check_truthiness(integer_value)\n",
    "print(\"Is truthy:\", is_truthy)"
   ]
  },
  {
   "cell_type": "markdown",
   "id": "2d947ab0",
   "metadata": {},
   "source": [
    "Assignment 4: Ceil Calculation"
   ]
  },
  {
   "cell_type": "markdown",
   "id": "0620cc3e",
   "metadata": {},
   "source": [
    "Task: Write a Python program that calculates the ceil (smallest integer greater than or equal to the current integer) using the math.ceil method. Implement this within a function called calculate_ceil(integer_value)."
   ]
  },
  {
   "cell_type": "markdown",
   "id": "6e119edd",
   "metadata": {},
   "source": [
    "Answer: "
   ]
  },
  {
   "cell_type": "code",
   "execution_count": 7,
   "id": "79dc687f",
   "metadata": {},
   "outputs": [
    {
     "name": "stdout",
     "output_type": "stream",
     "text": [
      "Ceil value: 5\n"
     ]
    }
   ],
   "source": [
    "import math\n",
    "\n",
    "def calculate_ceil(integer_value):\n",
    "    ceil_value = math.ceil(integer_value)\n",
    "    return ceil_value\n",
    "\n",
    "# Test the function\n",
    "integer_value = 5\n",
    "ceil_value = calculate_ceil(integer_value)\n",
    "print(\"Ceil value:\", ceil_value)"
   ]
  },
  {
   "cell_type": "markdown",
   "id": "5a410af1",
   "metadata": {},
   "source": [
    "Assignment 5: Integer Class Type"
   ]
  },
  {
   "cell_type": "markdown",
   "id": "6f93274c",
   "metadata": {},
   "source": [
    "Task: Develop a Python program that retrieves the class type of an integer using the __class__ attribute. Implement this within a function called get_class_type(integer_value)."
   ]
  },
  {
   "cell_type": "markdown",
   "id": "022092b4",
   "metadata": {},
   "source": [
    "Answer: "
   ]
  },
  {
   "cell_type": "code",
   "execution_count": 8,
   "id": "60112c3e",
   "metadata": {},
   "outputs": [
    {
     "name": "stdout",
     "output_type": "stream",
     "text": [
      "Class type: <class 'int'>\n"
     ]
    }
   ],
   "source": [
    "def get_class_type(integer_value):\n",
    "    class_type = integer_value.__class__\n",
    "    return class_type\n",
    "\n",
    "# Test the function\n",
    "integer_value = 42\n",
    "class_type = get_class_type(integer_value)\n",
    "print(\"Class type:\", class_type)"
   ]
  },
  {
   "cell_type": "markdown",
   "id": "7a255668",
   "metadata": {},
   "source": [
    "Assignment 6: Attribute Deletion"
   ]
  },
  {
   "cell_type": "markdown",
   "id": "fa547c9c",
   "metadata": {},
   "source": [
    "Task: Create a Python program that attempts to delete an attribute of an integer object using the __delattr__ method. Implement this within a function called delete_attribute(integer_value, attribute_name)."
   ]
  },
  {
   "cell_type": "markdown",
   "id": "a387d57b",
   "metadata": {},
   "source": [
    "Answer: "
   ]
  },
  {
   "cell_type": "code",
   "execution_count": 9,
   "id": "f287ee98",
   "metadata": {},
   "outputs": [
    {
     "name": "stdout",
     "output_type": "stream",
     "text": [
      "AttributeError: 'int' object has no attribute 'example_attribute'\n"
     ]
    }
   ],
   "source": [
    "def delete_attribute(integer_value, attribute_name):\n",
    "    try:\n",
    "        integer_value.__delattr__(attribute_name)\n",
    "        return f\"Attribute '{attribute_name}' deleted successfully.\"\n",
    "    except AttributeError as e:\n",
    "        return f\"AttributeError: {e}\"\n",
    "\n",
    "# Test the function\n",
    "integer_value = 42\n",
    "attribute_name = 'example_attribute'\n",
    "result = delete_attribute(integer_value, attribute_name)\n",
    "print(result)"
   ]
  },
  {
   "cell_type": "markdown",
   "id": "c4098f91",
   "metadata": {},
   "source": [
    "Assignment 7: List of Attributes and Methods"
   ]
  },
  {
   "cell_type": "markdown",
   "id": "31b1ea28",
   "metadata": {},
   "source": [
    "Task: Write a Python program that retrieves a list of available attributes and methods for an integer object using the dir method. Implement this within a function called get_attributes_and_methods(integer_value)."
   ]
  },
  {
   "cell_type": "markdown",
   "id": "759dea21",
   "metadata": {},
   "source": [
    "Answer: "
   ]
  },
  {
   "cell_type": "code",
   "execution_count": 10,
   "id": "c060670e",
   "metadata": {},
   "outputs": [
    {
     "name": "stdout",
     "output_type": "stream",
     "text": [
      "Attributes and methods: ['__abs__', '__add__', '__and__', '__bool__', '__ceil__', '__class__', '__delattr__', '__dir__', '__divmod__', '__doc__', '__eq__', '__float__', '__floor__', '__floordiv__', '__format__', '__ge__', '__getattribute__', '__getnewargs__', '__gt__', '__hash__', '__index__', '__init__', '__init_subclass__', '__int__', '__invert__', '__le__', '__lshift__', '__lt__', '__mod__', '__mul__', '__ne__', '__neg__', '__new__', '__or__', '__pos__', '__pow__', '__radd__', '__rand__', '__rdivmod__', '__reduce__', '__reduce_ex__', '__repr__', '__rfloordiv__', '__rlshift__', '__rmod__', '__rmul__', '__ror__', '__round__', '__rpow__', '__rrshift__', '__rshift__', '__rsub__', '__rtruediv__', '__rxor__', '__setattr__', '__sizeof__', '__str__', '__sub__', '__subclasshook__', '__truediv__', '__trunc__', '__xor__', 'as_integer_ratio', 'bit_length', 'conjugate', 'denominator', 'from_bytes', 'imag', 'numerator', 'real', 'to_bytes']\n"
     ]
    }
   ],
   "source": [
    "def get_attributes_and_methods(integer_value):\n",
    "    attributes_and_methods = dir(integer_value)\n",
    "    return attributes_and_methods\n",
    "\n",
    "# Test the function\n",
    "integer_value = 42\n",
    "attributes_and_methods = get_attributes_and_methods(integer_value)\n",
    "print(\"Attributes and methods:\", attributes_and_methods)"
   ]
  },
  {
   "cell_type": "markdown",
   "id": "893115ad",
   "metadata": {},
   "source": [
    "Assignment 8: Division and Remainder"
   ]
  },
  {
   "cell_type": "markdown",
   "id": "ab86558d",
   "metadata": {},
   "source": [
    "Task: Develop a Python program that calculates the quotient and remainder when one integer is divided by another using the divmod method. Implement this within a function called calculate_division_remainder(integer1, integer2)."
   ]
  },
  {
   "cell_type": "markdown",
   "id": "a4f9cde3",
   "metadata": {},
   "source": [
    "Answer: "
   ]
  },
  {
   "cell_type": "code",
   "execution_count": 11,
   "id": "7e0ccea0",
   "metadata": {},
   "outputs": [
    {
     "name": "stdout",
     "output_type": "stream",
     "text": [
      "Quotient: 3\n",
      "Remainder: 3\n"
     ]
    }
   ],
   "source": [
    "def calculate_division_remainder(integer1, integer2):\n",
    "    quotient, remainder = divmod(integer1, integer2)\n",
    "    return quotient, remainder\n",
    "\n",
    "# Test the function\n",
    "integer1 = 15\n",
    "integer2 = 4\n",
    "quotient, remainder = calculate_division_remainder(integer1, integer2)\n",
    "print(\"Quotient:\", quotient)\n",
    "print(\"Remainder:\", remainder)"
   ]
  },
  {
   "cell_type": "markdown",
   "id": "94943d13",
   "metadata": {},
   "source": [
    "Assignment 9: Integer to Floating-Point Conversion"
   ]
  },
  {
   "cell_type": "markdown",
   "id": "f474ba28",
   "metadata": {},
   "source": [
    "Task: Create a Python program that converts an integer to a floating-point number using the float method. Implement this within a function called convert_to_float(integer_value)."
   ]
  },
  {
   "cell_type": "markdown",
   "id": "5344357d",
   "metadata": {},
   "source": [
    "Answer: "
   ]
  },
  {
   "cell_type": "code",
   "execution_count": 12,
   "id": "4c4aec6c",
   "metadata": {},
   "outputs": [
    {
     "name": "stdout",
     "output_type": "stream",
     "text": [
      "Float value: 42.0\n"
     ]
    }
   ],
   "source": [
    "def convert_to_float(integer_value):\n",
    "    float_value = float(integer_value)\n",
    "    return float_value\n",
    "\n",
    "# Test the function\n",
    "integer_value = 42\n",
    "float_value = convert_to_float(integer_value)\n",
    "print(\"Float value:\", float_value)\n"
   ]
  },
  {
   "cell_type": "markdown",
   "id": "3efd3b8d",
   "metadata": {},
   "source": [
    "Assignment 10: Less Than or Equal Check"
   ]
  },
  {
   "cell_type": "markdown",
   "id": "fbd18e93",
   "metadata": {},
   "source": [
    "Task: Write a Python program that checks if one integer is less than or equal to another integer using the __le__ method. Implement this within a function called check_less_than_or_equal(integer1, integer2)."
   ]
  },
  {
   "cell_type": "markdown",
   "id": "d18c772c",
   "metadata": {},
   "source": [
    "Answer: "
   ]
  },
  {
   "cell_type": "code",
   "execution_count": 13,
   "id": "5961c764",
   "metadata": {},
   "outputs": [
    {
     "name": "stdout",
     "output_type": "stream",
     "text": [
      "Is less than or equal: False\n"
     ]
    }
   ],
   "source": [
    "def check_less_than_or_equal(integer1, integer2):\n",
    "    is_less_or_equal = integer1.__le__(integer2)\n",
    "    return is_less_or_equal\n",
    "\n",
    "# Test the function\n",
    "integer1 = 10\n",
    "integer2 = 5\n",
    "is_less_or_equal = check_less_than_or_equal(integer1, integer2)\n",
    "print(\"Is less than or equal:\", is_less_or_equal)"
   ]
  }
 ],
 "metadata": {
  "kernelspec": {
   "display_name": "Python 3 (ipykernel)",
   "language": "python",
   "name": "python3"
  },
  "language_info": {
   "codemirror_mode": {
    "name": "ipython",
    "version": 3
   },
   "file_extension": ".py",
   "mimetype": "text/x-python",
   "name": "python",
   "nbconvert_exporter": "python",
   "pygments_lexer": "ipython3",
   "version": "3.9.13"
  },
  "toc": {
   "base_numbering": 1,
   "nav_menu": {},
   "number_sections": true,
   "sideBar": true,
   "skip_h1_title": false,
   "title_cell": "Table of Contents",
   "title_sidebar": "Contents",
   "toc_cell": false,
   "toc_position": {},
   "toc_section_display": true,
   "toc_window_display": false
  }
 },
 "nbformat": 4,
 "nbformat_minor": 5
}
