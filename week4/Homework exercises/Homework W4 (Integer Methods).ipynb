{
 "cells": [
  {
   "cell_type": "markdown",
   "id": "dbee02f3",
   "metadata": {},
   "source": [
    "# Assignments - W4 (Integer Methods)"
   ]
  },
  {
   "cell_type": "markdown",
   "id": "184766df",
   "metadata": {},
   "source": [
    "Assignment 1: Custom Integer Addition"
   ]
  },
  {
   "cell_type": "markdown",
   "id": "794a4f8e",
   "metadata": {},
   "source": [
    "Task: Create a Python program that takes two integer inputs and performs addition using the __add__ method. Implement this within a function called custom_addition(integer1, integer2)."
   ]
  },
  {
   "cell_type": "markdown",
   "id": "0984888b",
   "metadata": {},
   "source": [
    "Assignment 2: Bitwise AND Operation"
   ]
  },
  {
   "cell_type": "markdown",
   "id": "42bc6898",
   "metadata": {},
   "source": [
    "Task: Write a Python program that performs a bitwise AND operation between two integers using the __and__ method. Implement this within a function called bitwise_and(integer1, integer2)."
   ]
  },
  {
   "cell_type": "markdown",
   "id": "398c79e8",
   "metadata": {},
   "source": [
    "Assignment 3: Truthy or Falsy Check"
   ]
  },
  {
   "cell_type": "markdown",
   "id": "484ddabd",
   "metadata": {},
   "source": [
    "Task: Create a Python program that checks if an integer is truthy or falsy using the bool method. Implement this within a function called check_truthiness(integer_value)."
   ]
  },
  {
   "cell_type": "markdown",
   "id": "2d947ab0",
   "metadata": {},
   "source": [
    "Assignment 4: Ceil Calculation"
   ]
  },
  {
   "cell_type": "markdown",
   "id": "0620cc3e",
   "metadata": {},
   "source": [
    "Task: Write a Python program that calculates the ceil (smallest integer greater than or equal to the current integer) using the math.ceil method. Implement this within a function called calculate_ceil(integer_value)."
   ]
  },
  {
   "cell_type": "markdown",
   "id": "5a410af1",
   "metadata": {},
   "source": [
    "Assignment 5: Integer Class Type"
   ]
  },
  {
   "cell_type": "markdown",
   "id": "6f93274c",
   "metadata": {},
   "source": [
    "Task: Develop a Python program that retrieves the class type of an integer using the __class__ attribute. Implement this within a function called get_class_type(integer_value)."
   ]
  },
  {
   "cell_type": "markdown",
   "id": "7a255668",
   "metadata": {},
   "source": [
    "Assignment 6: Attribute Deletion"
   ]
  },
  {
   "cell_type": "markdown",
   "id": "fa547c9c",
   "metadata": {},
   "source": [
    "Task: Create a Python program that attempts to delete an attribute of an integer object using the __delattr__ method. Implement this within a function called delete_attribute(integer_value, attribute_name)."
   ]
  },
  {
   "cell_type": "markdown",
   "id": "c4098f91",
   "metadata": {},
   "source": [
    "Assignment 7: List of Attributes and Methods"
   ]
  },
  {
   "cell_type": "markdown",
   "id": "31b1ea28",
   "metadata": {},
   "source": [
    "Task: Write a Python program that retrieves a list of available attributes and methods for an integer object using the dir method. Implement this within a function called get_attributes_and_methods(integer_value)."
   ]
  },
  {
   "cell_type": "markdown",
   "id": "893115ad",
   "metadata": {},
   "source": [
    "Assignment 8: Division and Remainder"
   ]
  },
  {
   "cell_type": "markdown",
   "id": "ab86558d",
   "metadata": {},
   "source": [
    "Task: Develop a Python program that calculates the quotient and remainder when one integer is divided by another using the divmod method. Implement this within a function called calculate_division_remainder(integer1, integer2)."
   ]
  },
  {
   "cell_type": "markdown",
   "id": "94943d13",
   "metadata": {},
   "source": [
    "Assignment 9: Integer to Floating-Point Conversion"
   ]
  },
  {
   "cell_type": "markdown",
   "id": "f474ba28",
   "metadata": {},
   "source": [
    "Task: Create a Python program that converts an integer to a floating-point number using the float method. Implement this within a function called convert_to_float(integer_value)."
   ]
  },
  {
   "cell_type": "markdown",
   "id": "3efd3b8d",
   "metadata": {},
   "source": [
    "Assignment 10: Less Than or Equal Check"
   ]
  },
  {
   "cell_type": "markdown",
   "id": "fbd18e93",
   "metadata": {},
   "source": [
    "Task: Write a Python program that checks if one integer is less than or equal to another integer using the __le__ method. Implement this within a function called check_less_than_or_equal(integer1, integer2)."
   ]
  }
 ],
 "metadata": {
  "kernelspec": {
   "display_name": "Python 3 (ipykernel)",
   "language": "python",
   "name": "python3"
  },
  "language_info": {
   "codemirror_mode": {
    "name": "ipython",
    "version": 3
   },
   "file_extension": ".py",
   "mimetype": "text/x-python",
   "name": "python",
   "nbconvert_exporter": "python",
   "pygments_lexer": "ipython3",
   "version": "3.9.13"
  },
  "toc": {
   "base_numbering": 1,
   "nav_menu": {},
   "number_sections": true,
   "sideBar": true,
   "skip_h1_title": false,
   "title_cell": "Table of Contents",
   "title_sidebar": "Contents",
   "toc_cell": false,
   "toc_position": {},
   "toc_section_display": true,
   "toc_window_display": false
  }
 },
 "nbformat": 4,
 "nbformat_minor": 5
}
