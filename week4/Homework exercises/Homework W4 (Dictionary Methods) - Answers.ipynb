{
 "cells": [
  {
   "cell_type": "markdown",
   "id": "dbee02f3",
   "metadata": {},
   "source": [
    "# Assignments - W4 (Dictionary Methods)"
   ]
  },
  {
   "cell_type": "markdown",
   "id": "9eb561d4",
   "metadata": {},
   "source": [
    "Assignment 1: Advanced Dictionary Manipulation"
   ]
  },
  {
   "cell_type": "markdown",
   "id": "e6fc7a51",
   "metadata": {},
   "source": [
    "Task: Create a Python program that demonstrates the use of dictionary methods to perform the following tasks:\n",
    "\n",
    "- Add a new key-value pair with a nested dictionary as the value.\n",
    "- Modify the nested dictionary by adding or updating key-value pairs.\n",
    "- Print the entire modified dictionary."
   ]
  },
  {
   "cell_type": "markdown",
   "id": "894ced68",
   "metadata": {},
   "source": [
    "Answer: "
   ]
  },
  {
   "cell_type": "code",
   "execution_count": 1,
   "id": "dcebbb6a",
   "metadata": {},
   "outputs": [
    {
     "name": "stdout",
     "output_type": "stream",
     "text": [
      "{'person': {'name': 'John', 'age': 30, 'city': 'New York'}}\n"
     ]
    }
   ],
   "source": [
    "# Homework 1: Advanced Dictionary Manipulation\n",
    "\n",
    "# Create an empty dictionary\n",
    "my_dict = {}\n",
    "\n",
    "# Add a new key-value pair with a nested dictionary\n",
    "my_dict['person'] = {'name': 'John', 'age': 30}\n",
    "\n",
    "# Modify the nested dictionary\n",
    "my_dict['person']['city'] = 'New York'\n",
    "\n",
    "# Print the modified dictionary\n",
    "print(my_dict)"
   ]
  },
  {
   "cell_type": "markdown",
   "id": "5abfce8d",
   "metadata": {},
   "source": [
    "Assignment 2: Dictionary Key Validation"
   ]
  },
  {
   "cell_type": "markdown",
   "id": "fe65f502",
   "metadata": {},
   "source": [
    "Task: Write a Python program that validates if a key exists in a dictionary and, if it does, removes it. If the key does not exist, print a custom error message."
   ]
  },
  {
   "cell_type": "markdown",
   "id": "3ace8704",
   "metadata": {},
   "source": [
    "Answer:"
   ]
  },
  {
   "cell_type": "code",
   "execution_count": 2,
   "id": "8f07575a",
   "metadata": {},
   "outputs": [
    {
     "name": "stdout",
     "output_type": "stream",
     "text": [
      "Key 'country' not found in the dictionary.\n"
     ]
    }
   ],
   "source": [
    "# Homework 2: Dictionary Key Validation\n",
    "\n",
    "my_dict = {'name': 'John', 'age': 30, 'city': 'New York'}\n",
    "\n",
    "key_to_remove = 'country'\n",
    "\n",
    "if key_to_remove in my_dict:\n",
    "    removed_value = my_dict.pop(key_to_remove)\n",
    "    print(f\"Key '{key_to_remove}' found and removed with value: {removed_value}\")\n",
    "else:\n",
    "    print(f\"Key '{key_to_remove}' not found in the dictionary.\")"
   ]
  },
  {
   "cell_type": "markdown",
   "id": "187bd124",
   "metadata": {},
   "source": [
    "Assignment 3: Recursive Dictionary Sum"
   ]
  },
  {
   "cell_type": "markdown",
   "id": "345178dc",
   "metadata": {},
   "source": [
    "Task: Create a Python program that recursively calculates the sum of all numeric values in a nested dictionary."
   ]
  },
  {
   "cell_type": "markdown",
   "id": "b6612d69",
   "metadata": {},
   "source": [
    "Answer:"
   ]
  },
  {
   "cell_type": "code",
   "execution_count": 3,
   "id": "3eef4de0",
   "metadata": {},
   "outputs": [
    {
     "name": "stdout",
     "output_type": "stream",
     "text": [
      "Sum of numeric values: 15\n"
     ]
    }
   ],
   "source": [
    "# Homework 3: Recursive Dictionary Sum\n",
    "\n",
    "def recursive_dict_sum(d):\n",
    "    total = 0\n",
    "    for key, value in d.items():\n",
    "        if isinstance(value, dict):\n",
    "            total += recursive_dict_sum(value)\n",
    "        elif isinstance(value, (int, float)):\n",
    "            total += value\n",
    "    return total\n",
    "\n",
    "my_dict = {'a': 1, 'b': {'c': 2, 'd': {'e': 3, 'f': 4}}, 'g': 5}\n",
    "\n",
    "# Calculate the sum of all numeric values\n",
    "result = recursive_dict_sum(my_dict)\n",
    "\n",
    "print(\"Sum of numeric values:\", result)"
   ]
  },
  {
   "cell_type": "markdown",
   "id": "20ad4832",
   "metadata": {},
   "source": [
    "Assignment 4: Dictionary Intersection"
   ]
  },
  {
   "cell_type": "markdown",
   "id": "ff024d5e",
   "metadata": {},
   "source": [
    "Task: Write a Python program that finds the intersection of two dictionaries, meaning it keeps only the key-value pairs that exist in both dictionaries."
   ]
  },
  {
   "cell_type": "markdown",
   "id": "a2c271c0",
   "metadata": {},
   "source": [
    "Answer:"
   ]
  },
  {
   "cell_type": "code",
   "execution_count": 4,
   "id": "3840adc9",
   "metadata": {},
   "outputs": [
    {
     "name": "stdout",
     "output_type": "stream",
     "text": [
      "Intersection of dictionaries: {'age': 30}\n"
     ]
    }
   ],
   "source": [
    "# Homework 4: Dictionary Intersection\n",
    "\n",
    "dict1 = {'name': 'John', 'age': 30, 'city': 'New York'}\n",
    "dict2 = {'age': 30, 'country': 'USA'}\n",
    "\n",
    "# Find the intersection of dict1 and dict2\n",
    "intersection_dict = {k: v for k, v in dict1.items() if k in dict2 and dict2[k] == v}\n",
    "\n",
    "print(\"Intersection of dictionaries:\", intersection_dict)"
   ]
  },
  {
   "cell_type": "markdown",
   "id": "d1c877d5",
   "metadata": {},
   "source": [
    "Assignment 5: Merging Dictionaries with Nested Keys"
   ]
  },
  {
   "cell_type": "markdown",
   "id": "909d0c7e",
   "metadata": {},
   "source": [
    "Task: Create a Python program that merges two dictionaries with nested keys by recursively updating the nested dictionaries."
   ]
  },
  {
   "cell_type": "markdown",
   "id": "b0c8bc72",
   "metadata": {},
   "source": [
    "Answer:"
   ]
  },
  {
   "cell_type": "code",
   "execution_count": 5,
   "id": "3542856a",
   "metadata": {},
   "outputs": [
    {
     "name": "stdout",
     "output_type": "stream",
     "text": [
      "Merged dictionary: {'name': 'John', 'details': {'age': 30, 'city': 'New York', 'country': 'USA'}, 'job': 'Engineer'}\n"
     ]
    }
   ],
   "source": [
    "# Homework 5: Merging Dictionaries with Nested Keys\n",
    "\n",
    "def merge_dicts(dict1, dict2):\n",
    "    for key, value in dict2.items():\n",
    "        if key in dict1 and isinstance(dict1[key], dict) and isinstance(value, dict):\n",
    "            merge_dicts(dict1[key], value)\n",
    "        else:\n",
    "            dict1[key] = value\n",
    "\n",
    "dict1 = {'name': 'John', 'details': {'age': 30, 'city': 'New York'}}\n",
    "dict2 = {'details': {'country': 'USA'}, 'job': 'Engineer'}\n",
    "\n",
    "# Merge dict2 into dict1\n",
    "merge_dicts(dict1, dict2)\n",
    "\n",
    "print(\"Merged dictionary:\", dict1)"
   ]
  },
  {
   "cell_type": "markdown",
   "id": "bd47f5fc",
   "metadata": {},
   "source": [
    "Assignment 6: Dictionary Key Validation with Default Values"
   ]
  },
  {
   "cell_type": "markdown",
   "id": "ee471f64",
   "metadata": {},
   "source": [
    "Task: Write a Python program that validates if a key exists in a dictionary. If the key exists, return its value; otherwise, return a default value."
   ]
  },
  {
   "cell_type": "markdown",
   "id": "44ee2bcc",
   "metadata": {},
   "source": [
    "Answer:"
   ]
  },
  {
   "cell_type": "code",
   "execution_count": 6,
   "id": "14e719e6",
   "metadata": {},
   "outputs": [
    {
     "name": "stdout",
     "output_type": "stream",
     "text": [
      "Value for key 'age': 30\n"
     ]
    }
   ],
   "source": [
    "# Homework 6: Dictionary Key Validation with Default Values\n",
    "\n",
    "my_dict = {'name': 'John', 'age': 30, 'city': 'New York'}\n",
    "\n",
    "key_to_check = 'age'\n",
    "default_value = 'Unknown'\n",
    "\n",
    "value = my_dict.get(key_to_check, default_value)\n",
    "\n",
    "print(f\"Value for key '{key_to_check}': {value}\")"
   ]
  },
  {
   "cell_type": "markdown",
   "id": "a1208849",
   "metadata": {},
   "source": [
    "Assignment 7: Dictionary Key Sorting"
   ]
  },
  {
   "cell_type": "markdown",
   "id": "6ffcb7a2",
   "metadata": {},
   "source": [
    "Task: Create a Python program that sorts the keys of a dictionary in descending order and prints the sorted keys."
   ]
  },
  {
   "cell_type": "markdown",
   "id": "b4d78312",
   "metadata": {},
   "source": [
    "Answer:"
   ]
  },
  {
   "cell_type": "code",
   "execution_count": 7,
   "id": "8c4fe278",
   "metadata": {},
   "outputs": [
    {
     "name": "stdout",
     "output_type": "stream",
     "text": [
      "Sorted keys: ['d', 'c', 'b', 'a']\n"
     ]
    }
   ],
   "source": [
    "# Homework 7: Dictionary Key Sorting\n",
    "\n",
    "my_dict = {'b': 2, 'a': 1, 'd': 4, 'c': 3}\n",
    "\n",
    "# Sort dictionary keys in descending order\n",
    "sorted_keys = sorted(my_dict.keys(), reverse=True)\n",
    "\n",
    "print(\"Sorted keys:\", sorted_keys)"
   ]
  },
  {
   "cell_type": "markdown",
   "id": "0afe8107",
   "metadata": {},
   "source": [
    "Assignment 8: Nested Dictionary Flattening"
   ]
  },
  {
   "cell_type": "markdown",
   "id": "7a30307f",
   "metadata": {},
   "source": [
    "Task: Write a Python program that flattens a nested dictionary into a flat dictionary by concatenating the keys with underscores."
   ]
  },
  {
   "cell_type": "markdown",
   "id": "92fd5d1a",
   "metadata": {},
   "source": [
    "Answer:"
   ]
  },
  {
   "cell_type": "code",
   "execution_count": 8,
   "id": "da416557",
   "metadata": {},
   "outputs": [
    {
     "name": "stdout",
     "output_type": "stream",
     "text": [
      "Flattened dictionary: {'a': 1, 'b_c': 2, 'b_d_e': 3, 'b_d_f': 4, 'g': 5}\n"
     ]
    }
   ],
   "source": [
    "# Homework 8: Nested Dictionary Flattening\n",
    "\n",
    "def flatten_dict(d, parent_key='', sep='_'):\n",
    "    flat_dict = {}\n",
    "    for k, v in d.items():\n",
    "        new_key = f\"{parent_key}{sep}{k}\" if parent_key else k\n",
    "        if isinstance(v, dict):\n",
    "            flat_dict.update(flatten_dict(v, new_key, sep=sep))\n",
    "        else:\n",
    "            flat_dict[new_key] = v\n",
    "    return flat_dict\n",
    "\n",
    "nested_dict = {'a': 1, 'b': {'c': 2, 'd': {'e': 3, 'f': 4}}, 'g': 5}\n",
    "\n",
    "# Flatten the nested dictionary\n",
    "flat_dict = flatten_dict(nested_dict)\n",
    "\n",
    "print(\"Flattened dictionary:\", flat_dict)"
   ]
  },
  {
   "cell_type": "markdown",
   "id": "aaf11f54",
   "metadata": {},
   "source": [
    "Assignment 9: Dictionary Filtering by Value"
   ]
  },
  {
   "cell_type": "markdown",
   "id": "a5e7a846",
   "metadata": {},
   "source": [
    "Task: Create a Python program that filters a dictionary to keep only key-value pairs where the value is greater than a specified threshold."
   ]
  },
  {
   "cell_type": "markdown",
   "id": "64090e04",
   "metadata": {},
   "source": [
    "Answer:"
   ]
  },
  {
   "cell_type": "code",
   "execution_count": 9,
   "id": "a0c74f50",
   "metadata": {},
   "outputs": [
    {
     "name": "stdout",
     "output_type": "stream",
     "text": [
      "Filtered dictionary: {'a': 10, 'c': 15}\n"
     ]
    }
   ],
   "source": [
    "# Homework 9: Dictionary Filtering by Value\n",
    "\n",
    "def filter_dict_by_value(d, threshold):\n",
    "    filtered_dict = {k: v for k, v in d.items() if v > threshold}\n",
    "    return filtered_dict\n",
    "\n",
    "my_dict = {'a': 10, 'b': 5, 'c': 15, 'd': 3}\n",
    "threshold_value = 8\n",
    "\n",
    "# Filter the dictionary by value\n",
    "filtered_dict = filter_dict_by_value(my_dict, threshold_value)\n",
    "\n",
    "print(\"Filtered dictionary:\", filtered_dict)"
   ]
  },
  {
   "cell_type": "markdown",
   "id": "2dad1d1b",
   "metadata": {},
   "source": [
    "Assignment 10: Dictionary Key Transformation"
   ]
  },
  {
   "cell_type": "markdown",
   "id": "7a9caf01",
   "metadata": {},
   "source": [
    "Task: Write a Python program that transforms the keys of a dictionary by adding a prefix to each key."
   ]
  },
  {
   "cell_type": "markdown",
   "id": "ca1a311a",
   "metadata": {},
   "source": [
    "Answer:"
   ]
  },
  {
   "cell_type": "code",
   "execution_count": 10,
   "id": "d5d9ad96",
   "metadata": {},
   "outputs": [
    {
     "name": "stdout",
     "output_type": "stream",
     "text": [
      "Transformed dictionary: {'user_name': 'John', 'user_age': 30, 'user_city': 'New York'}\n"
     ]
    }
   ],
   "source": [
    "# Homework 10: Dictionary Key Transformation\n",
    "\n",
    "def transform_dict_keys(d, prefix):\n",
    "    transformed_dict = {f\"{prefix}_{k}\": v for k, v in d.items()}\n",
    "    return transformed_dict\n",
    "\n",
    "my_dict = {'name': 'John', 'age': 30, 'city': 'New York'}\n",
    "key_prefix = 'user'\n",
    "\n",
    "# Transform dictionary keys by adding a prefix\n",
    "transformed_dict = transform_dict_keys(my_dict, key_prefix)\n",
    "\n",
    "print(\"Transformed dictionary:\", transformed_dict)"
   ]
  }
 ],
 "metadata": {
  "kernelspec": {
   "display_name": "Python 3 (ipykernel)",
   "language": "python",
   "name": "python3"
  },
  "language_info": {
   "codemirror_mode": {
    "name": "ipython",
    "version": 3
   },
   "file_extension": ".py",
   "mimetype": "text/x-python",
   "name": "python",
   "nbconvert_exporter": "python",
   "pygments_lexer": "ipython3",
   "version": "3.9.13"
  },
  "toc": {
   "base_numbering": 1,
   "nav_menu": {},
   "number_sections": true,
   "sideBar": true,
   "skip_h1_title": false,
   "title_cell": "Table of Contents",
   "title_sidebar": "Contents",
   "toc_cell": false,
   "toc_position": {},
   "toc_section_display": true,
   "toc_window_display": false
  }
 },
 "nbformat": 4,
 "nbformat_minor": 5
}
