{
 "cells": [
  {
   "cell_type": "markdown",
   "id": "dbee02f3",
   "metadata": {},
   "source": [
    "# Assignments - W4 (Dictionary Methods)"
   ]
  },
  {
   "cell_type": "markdown",
   "id": "9eb561d4",
   "metadata": {},
   "source": [
    "Assignment 1: Advanced Dictionary Manipulation"
   ]
  },
  {
   "cell_type": "markdown",
   "id": "e6fc7a51",
   "metadata": {},
   "source": [
    "Task: Create a Python program that demonstrates the use of dictionary methods to perform the following tasks:\n",
    "\n",
    "- Add a new key-value pair with a nested dictionary as the value.\n",
    "- Modify the nested dictionary by adding or updating key-value pairs.\n",
    "- Print the entire modified dictionary."
   ]
  },
  {
   "cell_type": "markdown",
   "id": "5abfce8d",
   "metadata": {},
   "source": [
    "Assignment 2: Dictionary Key Validation"
   ]
  },
  {
   "cell_type": "markdown",
   "id": "fe65f502",
   "metadata": {},
   "source": [
    "Task: Write a Python program that validates if a key exists in a dictionary and, if it does, removes it. If the key does not exist, print a custom error message."
   ]
  },
  {
   "cell_type": "markdown",
   "id": "187bd124",
   "metadata": {},
   "source": [
    "Assignment 3: Recursive Dictionary Sum"
   ]
  },
  {
   "cell_type": "markdown",
   "id": "345178dc",
   "metadata": {},
   "source": [
    "Task: Create a Python program that recursively calculates the sum of all numeric values in a nested dictionary."
   ]
  },
  {
   "cell_type": "markdown",
   "id": "20ad4832",
   "metadata": {},
   "source": [
    "Assignment 4: Dictionary Intersection"
   ]
  },
  {
   "cell_type": "markdown",
   "id": "ff024d5e",
   "metadata": {},
   "source": [
    "Task: Write a Python program that finds the intersection of two dictionaries, meaning it keeps only the key-value pairs that exist in both dictionaries."
   ]
  },
  {
   "cell_type": "markdown",
   "id": "d1c877d5",
   "metadata": {},
   "source": [
    "Assignment 5: Merging Dictionaries with Nested Keys"
   ]
  },
  {
   "cell_type": "markdown",
   "id": "909d0c7e",
   "metadata": {},
   "source": [
    "Task: Create a Python program that merges two dictionaries with nested keys by recursively updating the nested dictionaries."
   ]
  },
  {
   "cell_type": "markdown",
   "id": "bd47f5fc",
   "metadata": {},
   "source": [
    "Assignment 6: Dictionary Key Validation with Default Values"
   ]
  },
  {
   "cell_type": "markdown",
   "id": "ee471f64",
   "metadata": {},
   "source": [
    "Task: Write a Python program that validates if a key exists in a dictionary. If the key exists, return its value; otherwise, return a default value."
   ]
  },
  {
   "cell_type": "markdown",
   "id": "a1208849",
   "metadata": {},
   "source": [
    "Assignment 7: Dictionary Key Sorting"
   ]
  },
  {
   "cell_type": "markdown",
   "id": "6ffcb7a2",
   "metadata": {},
   "source": [
    "Task: Create a Python program that sorts the keys of a dictionary in descending order and prints the sorted keys."
   ]
  },
  {
   "cell_type": "markdown",
   "id": "0afe8107",
   "metadata": {},
   "source": [
    "Assignment 8: Nested Dictionary Flattening"
   ]
  },
  {
   "cell_type": "markdown",
   "id": "7a30307f",
   "metadata": {},
   "source": [
    "Task: Write a Python program that flattens a nested dictionary into a flat dictionary by concatenating the keys with underscores."
   ]
  },
  {
   "cell_type": "markdown",
   "id": "aaf11f54",
   "metadata": {},
   "source": [
    "Assignment 9: Dictionary Filtering by Value"
   ]
  },
  {
   "cell_type": "markdown",
   "id": "a5e7a846",
   "metadata": {},
   "source": [
    "Task: Create a Python program that filters a dictionary to keep only key-value pairs where the value is greater than a specified threshold."
   ]
  },
  {
   "cell_type": "markdown",
   "id": "2dad1d1b",
   "metadata": {},
   "source": [
    "Assignment 10: Dictionary Key Transformation"
   ]
  },
  {
   "cell_type": "markdown",
   "id": "7a9caf01",
   "metadata": {},
   "source": [
    "Task: Write a Python program that transforms the keys of a dictionary by adding a prefix to each key."
   ]
  }
 ],
 "metadata": {
  "kernelspec": {
   "display_name": "Python 3 (ipykernel)",
   "language": "python",
   "name": "python3"
  },
  "language_info": {
   "codemirror_mode": {
    "name": "ipython",
    "version": 3
   },
   "file_extension": ".py",
   "mimetype": "text/x-python",
   "name": "python",
   "nbconvert_exporter": "python",
   "pygments_lexer": "ipython3",
   "version": "3.9.13"
  },
  "toc": {
   "base_numbering": 1,
   "nav_menu": {},
   "number_sections": true,
   "sideBar": true,
   "skip_h1_title": false,
   "title_cell": "Table of Contents",
   "title_sidebar": "Contents",
   "toc_cell": false,
   "toc_position": {},
   "toc_section_display": true,
   "toc_window_display": false
  }
 },
 "nbformat": 4,
 "nbformat_minor": 5
}
