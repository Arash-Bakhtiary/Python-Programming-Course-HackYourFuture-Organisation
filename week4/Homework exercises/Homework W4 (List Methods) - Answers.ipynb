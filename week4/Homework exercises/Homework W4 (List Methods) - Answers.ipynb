{
 "cells": [
  {
   "cell_type": "markdown",
   "id": "dbee02f3",
   "metadata": {},
   "source": [
    "# Assignments - W4 (List Methods)"
   ]
  },
  {
   "cell_type": "markdown",
   "id": "94dce16a",
   "metadata": {},
   "source": [
    "Assignment 1: List Manipulation"
   ]
  },
  {
   "cell_type": "markdown",
   "id": "7d327588",
   "metadata": {},
   "source": [
    "Task: Create a Python program that takes a list of integers as input and returns a new list containing only the unique elements of the input list. Implement this using a function called unique_elements(input_list)."
   ]
  },
  {
   "cell_type": "code",
   "execution_count": null,
   "id": "5ec426c9",
   "metadata": {},
   "outputs": [],
   "source": [
    "Answer:"
   ]
  },
  {
   "cell_type": "code",
   "execution_count": 3,
   "id": "1b8bfdd0",
   "metadata": {},
   "outputs": [
    {
     "name": "stdout",
     "output_type": "stream",
     "text": [
      "[1, 2, 3, 4, 5]\n"
     ]
    }
   ],
   "source": [
    "def unique_elements(input_list):\n",
    "    unique_list = []\n",
    "    for item in input_list:\n",
    "        if item not in unique_list:\n",
    "            unique_list.append(item)\n",
    "    return unique_list\n",
    "\n",
    "# Test the function\n",
    "input_list = [1, 2, 2, 3, 4, 4, 5]\n",
    "result = unique_elements(input_list)\n",
    "print(result)"
   ]
  },
  {
   "cell_type": "markdown",
   "id": "f2ccfee9",
   "metadata": {},
   "source": [
    "Assignment 2: Matrix Operations"
   ]
  },
  {
   "cell_type": "markdown",
   "id": "dd6d19dd",
   "metadata": {},
   "source": [
    "Task: Write a Python program that performs matrix addition and multiplication. Implement functions matrix_addition(matrix1, matrix2) and matrix_multiplication(matrix1, matrix2) that take two matrices (2D lists) as input and return the result of the respective operation."
   ]
  },
  {
   "cell_type": "markdown",
   "id": "7b8aaaaa",
   "metadata": {},
   "source": [
    "Answer:"
   ]
  },
  {
   "cell_type": "code",
   "execution_count": 5,
   "id": "c2554185",
   "metadata": {},
   "outputs": [
    {
     "name": "stdout",
     "output_type": "stream",
     "text": [
      "[[6, 8], [10, 12]]\n",
      "[[19, 22], [43, 50]]\n"
     ]
    }
   ],
   "source": [
    "def matrix_addition(matrix1, matrix2):\n",
    "    result = []\n",
    "    for i in range(len(matrix1)):\n",
    "        row = []\n",
    "        for j in range(len(matrix1[i])):\n",
    "            row.append(matrix1[i][j] + matrix2[i][j])\n",
    "        result.append(row)\n",
    "    return result\n",
    "\n",
    "def matrix_multiplication(matrix1, matrix2):\n",
    "    result = []\n",
    "    for i in range(len(matrix1)):\n",
    "        row = []\n",
    "        for j in range(len(matrix2[0])):\n",
    "            total = 0\n",
    "            for k in range(len(matrix2)):\n",
    "                total += matrix1[i][k] * matrix2[k][j]\n",
    "            row.append(total)\n",
    "        result.append(row)\n",
    "    return result\n",
    "\n",
    "# Test the functions\n",
    "matrix1 = [[1, 2], [3, 4]]\n",
    "matrix2 = [[5, 6], [7, 8]]\n",
    "addition_result = matrix_addition(matrix1, matrix2)\n",
    "multiplication_result = matrix_multiplication(matrix1, matrix2)\n",
    "print(addition_result)\n",
    "print(multiplication_result)"
   ]
  },
  {
   "cell_type": "markdown",
   "id": "972c8e4b",
   "metadata": {},
   "source": [
    "Assignment 3: Palindrome Checker"
   ]
  },
  {
   "cell_type": "markdown",
   "id": "679eaf7f",
   "metadata": {},
   "source": [
    "Task: Create a Python program that checks whether a given string is a palindrome using a list. Implement this using a function called is_palindrome(input_string)."
   ]
  },
  {
   "cell_type": "markdown",
   "id": "b1f1d1a7",
   "metadata": {},
   "source": [
    "Answer:"
   ]
  },
  {
   "cell_type": "code",
   "execution_count": 7,
   "id": "6167d2e2",
   "metadata": {},
   "outputs": [
    {
     "name": "stdout",
     "output_type": "stream",
     "text": [
      "True\n"
     ]
    }
   ],
   "source": [
    "def is_palindrome(input_string):\n",
    "    input_string = input_string.lower().replace(\" \", \"\")  # Convert to lowercase and remove spaces\n",
    "    return input_string == input_string[::-1]\n",
    "\n",
    "# Test the function\n",
    "input_string = \"A man a plan a canal Panama\"\n",
    "result = is_palindrome(input_string)\n",
    "print(result)"
   ]
  },
  {
   "cell_type": "markdown",
   "id": "9e25acfc",
   "metadata": {},
   "source": [
    "Assignment 4: Merge Sorted Lists"
   ]
  },
  {
   "cell_type": "markdown",
   "id": "aa4ebd84",
   "metadata": {},
   "source": [
    "Task: Write a Python program that takes two sorted lists as input and merges them into a single sorted list. Implement this using a function called merge_sorted_lists(list1, list2)."
   ]
  },
  {
   "cell_type": "markdown",
   "id": "c5a72c7a",
   "metadata": {},
   "source": [
    "Answer:"
   ]
  },
  {
   "cell_type": "code",
   "execution_count": 8,
   "id": "97d55eae",
   "metadata": {},
   "outputs": [
    {
     "name": "stdout",
     "output_type": "stream",
     "text": [
      "[1, 2, 3, 4, 5, 6]\n"
     ]
    }
   ],
   "source": [
    "def merge_sorted_lists(list1, list2):\n",
    "    merged_list = []\n",
    "    i, j = 0, 0\n",
    "\n",
    "    while i < len(list1) and j < len(list2):\n",
    "        if list1[i] < list2[j]:\n",
    "            merged_list.append(list1[i])\n",
    "            i += 1\n",
    "        else:\n",
    "            merged_list.append(list2[j])\n",
    "            j += 1\n",
    "\n",
    "    # Append remaining elements from both lists (if any)\n",
    "    merged_list.extend(list1[i:])\n",
    "    merged_list.extend(list2[j:])\n",
    "    \n",
    "    return merged_list\n",
    "\n",
    "# Test the function\n",
    "list1 = [1, 3, 5]\n",
    "list2 = [2, 4, 6]\n",
    "result = merge_sorted_lists(list1, list2)\n",
    "print(result)"
   ]
  },
  {
   "cell_type": "markdown",
   "id": "a531f9c4",
   "metadata": {},
   "source": [
    "Assignment 5: Custom List Sorting"
   ]
  },
  {
   "cell_type": "markdown",
   "id": "466d1802",
   "metadata": {},
   "source": [
    "Task: Implement a Python program that takes a list of strings as input and sorts them based on the length of each string in descending order. Implement this using a function called sort_strings_by_length(strings)."
   ]
  },
  {
   "cell_type": "markdown",
   "id": "c367141d",
   "metadata": {},
   "source": [
    "Answer:"
   ]
  },
  {
   "cell_type": "code",
   "execution_count": 9,
   "id": "6c16f9c9",
   "metadata": {},
   "outputs": [
    {
     "name": "stdout",
     "output_type": "stream",
     "text": [
      "['banana', 'cherry', 'apple', 'date', 'figs']\n"
     ]
    }
   ],
   "source": [
    "def sort_strings_by_length(strings):\n",
    "    return sorted(strings, key=lambda x: len(x), reverse=True)\n",
    "\n",
    "# Test the function\n",
    "input_strings = [\"apple\", \"banana\", \"cherry\", \"date\", \"figs\"]\n",
    "result = sort_strings_by_length(input_strings)\n",
    "print(result)"
   ]
  },
  {
   "cell_type": "markdown",
   "id": "23909fd7",
   "metadata": {},
   "source": [
    "Assignment 6: List Chunking"
   ]
  },
  {
   "cell_type": "markdown",
   "id": "1ca078b4",
   "metadata": {},
   "source": [
    "Task: Create a Python program that reads a large list of numbers from a file and splits it into smaller chunks, each containing a maximum of 10 numbers. Write these chunks to separate output files. Implement this using a function called chunk_large_list(input_file, output_directory)."
   ]
  },
  {
   "cell_type": "markdown",
   "id": "00f0e4c8",
   "metadata": {},
   "source": [
    "Answer:"
   ]
  },
  {
   "cell_type": "code",
   "execution_count": 11,
   "id": "632817d6",
   "metadata": {},
   "outputs": [
    {
     "name": "stdout",
     "output_type": "stream",
     "text": [
      "File 'large_numbers.txt' not found.\n"
     ]
    }
   ],
   "source": [
    "import os\n",
    "\n",
    "def chunk_large_list(input_file, output_directory):\n",
    "    if not os.path.exists(input_file):\n",
    "        print(f\"File '{input_file}' not found.\")\n",
    "        return\n",
    "\n",
    "    with open(input_file, 'r') as f:\n",
    "        numbers = [int(line.strip()) for line in f.readlines()]\n",
    "\n",
    "    chunk_size = 10\n",
    "    num_chunks = len(numbers) // chunk_size\n",
    "\n",
    "    for i in range(num_chunks + 1):\n",
    "        chunk = numbers[i * chunk_size:(i + 1) * chunk_size]\n",
    "        with open(f'{output_directory}/chunk_{i + 1}.txt', 'w') as f:\n",
    "            for num in chunk:\n",
    "                f.write(str(num) + '\\n')\n",
    "\n",
    "# Test the function\n",
    "input_file = 'large_numbers.txt'\n",
    "output_directory = 'chunks'\n",
    "chunk_large_list(input_file, output_directory)\n"
   ]
  },
  {
   "cell_type": "markdown",
   "id": "3a237fee",
   "metadata": {},
   "source": [
    "Assignment 7: List Intersection"
   ]
  },
  {
   "cell_type": "markdown",
   "id": "125a9e9f",
   "metadata": {},
   "source": [
    "Task: Write a Python program that reads two lists of integers from files and finds their intersection. Implement this using a function called find_intersection(list1_file, list2_file)."
   ]
  },
  {
   "cell_type": "markdown",
   "id": "5dad2afd",
   "metadata": {},
   "source": [
    "Answer:"
   ]
  },
  {
   "cell_type": "code",
   "execution_count": 13,
   "id": "24c286af",
   "metadata": {},
   "outputs": [
    {
     "name": "stdout",
     "output_type": "stream",
     "text": [
      "File 'list1.txt' not found.\n",
      "No intersection found.\n"
     ]
    }
   ],
   "source": [
    "def find_intersection(list1_file, list2_file):\n",
    "    try:\n",
    "        with open(list1_file, 'r') as f1:\n",
    "            list1 = set([int(line.strip()) for line in f1.readlines()])\n",
    "    except FileNotFoundError:\n",
    "        print(f\"File '{list1_file}' not found.\")\n",
    "        return []\n",
    "\n",
    "    try:\n",
    "        with open(list2_file, 'r') as f2:\n",
    "            list2 = set([int(line.strip()) for line in f2.readlines()])\n",
    "    except FileNotFoundError:\n",
    "        print(f\"File '{list2_file}' not found.\")\n",
    "        return []\n",
    "\n",
    "    intersection = list(list1.intersection(list2))\n",
    "    return intersection\n",
    "\n",
    "# Test the function\n",
    "list1_file = 'list1.txt'\n",
    "list2_file = 'list2.txt'\n",
    "result = find_intersection(list1_file, list2_file)\n",
    "\n",
    "if result:\n",
    "    print(\"Intersection:\", result)\n",
    "else:\n",
    "    print(\"No intersection found.\")"
   ]
  },
  {
   "cell_type": "markdown",
   "id": "73fb2b97",
   "metadata": {},
   "source": [
    "Assignment 8: List Rotation"
   ]
  },
  {
   "cell_type": "markdown",
   "id": "55b3e6fc",
   "metadata": {},
   "source": [
    "Task: Develop a Python program that rotates a given list of numbers to the left by a specified number of positions. Implement this using a function called rotate_list_left(input_list, positions)."
   ]
  },
  {
   "cell_type": "markdown",
   "id": "9f951950",
   "metadata": {},
   "source": [
    "Answer:"
   ]
  },
  {
   "cell_type": "code",
   "execution_count": 14,
   "id": "7abebf22",
   "metadata": {},
   "outputs": [
    {
     "name": "stdout",
     "output_type": "stream",
     "text": [
      "[3, 4, 5, 1, 2]\n"
     ]
    }
   ],
   "source": [
    "def rotate_list_left(input_list, positions):\n",
    "    positions = positions % len(input_list)  # Ensure positions is within the list length\n",
    "    return input_list[positions:] + input_list[:positions]\n",
    "\n",
    "# Test the function\n",
    "input_list = [1, 2, 3, 4, 5]\n",
    "positions = 2\n",
    "result = rotate_list_left(input_list, positions)\n",
    "print(result)"
   ]
  },
  {
   "cell_type": "markdown",
   "id": "d6336bae",
   "metadata": {},
   "source": [
    "Assignment 9: List Comprehension"
   ]
  },
  {
   "cell_type": "markdown",
   "id": "b0979fab",
   "metadata": {},
   "source": [
    "Task: Create a Python program that generates a list of prime numbers between two given integers. Implement this using list comprehension and a function called generate_primes_between(start, end)."
   ]
  },
  {
   "cell_type": "markdown",
   "id": "2dc4d0a2",
   "metadata": {},
   "source": [
    "Answer:"
   ]
  },
  {
   "cell_type": "code",
   "execution_count": 15,
   "id": "461913d4",
   "metadata": {},
   "outputs": [
    {
     "name": "stdout",
     "output_type": "stream",
     "text": [
      "[11, 13, 17, 19, 23, 29, 31, 37, 41, 43, 47]\n"
     ]
    }
   ],
   "source": [
    "def is_prime(number):\n",
    "    if number <= 1:\n",
    "        return False\n",
    "    for i in range(2, int(number**0.5) + 1):\n",
    "        if number % i == 0:\n",
    "            return False\n",
    "    return True\n",
    "\n",
    "def generate_primes_between(start, end):\n",
    "    return [x for x in range(start, end + 1) if is_prime(x)]\n",
    "\n",
    "# Test the function\n",
    "start = 10\n",
    "end = 50\n",
    "result = generate_primes_between(start, end)\n",
    "print(result)"
   ]
  },
  {
   "cell_type": "markdown",
   "id": "068dee63",
   "metadata": {},
   "source": [
    "Assignment 10: List Statistics"
   ]
  },
  {
   "cell_type": "markdown",
   "id": "799d5d5b",
   "metadata": {},
   "source": [
    "Task: Write a Python program that reads a list of numbers from a file and calculates various statistics, including the mean, median, mode, and standard deviation. Implement this using functions called calculate_mean(numbers), calculate_median(numbers), calculate_mode(numbers), and calculate_standard_deviation(numbers)."
   ]
  },
  {
   "cell_type": "markdown",
   "id": "9572b87e",
   "metadata": {},
   "source": [
    "Answer:"
   ]
  },
  {
   "cell_type": "code",
   "execution_count": 18,
   "id": "7cda574a",
   "metadata": {},
   "outputs": [
    {
     "name": "stdout",
     "output_type": "stream",
     "text": [
      "File 'numbers.txt' not found. Please check the file path.\n"
     ]
    }
   ],
   "source": [
    "import statistics\n",
    "\n",
    "def calculate_mean(numbers):\n",
    "    return statistics.mean(numbers)\n",
    "\n",
    "def calculate_median(numbers):\n",
    "    return statistics.median(numbers)\n",
    "\n",
    "def calculate_mode(numbers):\n",
    "    return statistics.mode(numbers)\n",
    "\n",
    "def calculate_standard_deviation(numbers):\n",
    "    return statistics.stdev(numbers)\n",
    "\n",
    "# Input file path\n",
    "input_file = 'numbers.txt'\n",
    "\n",
    "try:\n",
    "    with open(input_file, 'r') as f:\n",
    "        numbers = [int(line.strip()) for line in f.readlines()]\n",
    "except FileNotFoundError:\n",
    "    print(f\"File '{input_file}' not found. Please check the file path.\")\n",
    "    numbers = []\n",
    "\n",
    "if numbers:\n",
    "    mean = calculate_mean(numbers)\n",
    "    median = calculate_median(numbers)\n",
    "    mode = calculate_mode(numbers)\n",
    "    std_deviation = calculate_standard_deviation(numbers)\n",
    "\n",
    "    print(f\"Mean: {mean}\")\n",
    "    print(f\"Median: {median}\")\n",
    "    print(f\"Mode: {mode}\")\n",
    "    print(f\"Standard Deviation: {std_deviation}\")\n"
   ]
  }
 ],
 "metadata": {
  "kernelspec": {
   "display_name": "Python 3 (ipykernel)",
   "language": "python",
   "name": "python3"
  },
  "language_info": {
   "codemirror_mode": {
    "name": "ipython",
    "version": 3
   },
   "file_extension": ".py",
   "mimetype": "text/x-python",
   "name": "python",
   "nbconvert_exporter": "python",
   "pygments_lexer": "ipython3",
   "version": "3.9.13"
  },
  "toc": {
   "base_numbering": 1,
   "nav_menu": {},
   "number_sections": true,
   "sideBar": true,
   "skip_h1_title": false,
   "title_cell": "Table of Contents",
   "title_sidebar": "Contents",
   "toc_cell": false,
   "toc_position": {},
   "toc_section_display": true,
   "toc_window_display": false
  }
 },
 "nbformat": 4,
 "nbformat_minor": 5
}
