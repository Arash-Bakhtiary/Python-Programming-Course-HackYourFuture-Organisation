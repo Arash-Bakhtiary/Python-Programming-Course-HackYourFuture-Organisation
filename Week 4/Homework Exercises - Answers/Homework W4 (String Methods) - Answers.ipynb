{
 "cells": [
  {
   "cell_type": "markdown",
   "id": "dbee02f3",
   "metadata": {},
   "source": [
    "# Assignments - W4 (String Methods)"
   ]
  },
  {
   "cell_type": "markdown",
   "id": "aaec2185",
   "metadata": {},
   "source": [
    "Assignment 1: Custom Capitalization"
   ]
  },
  {
   "cell_type": "markdown",
   "id": "73c82466",
   "metadata": {},
   "source": [
    "Task: Create a Python program that takes a string input and capitalizes the first character using a custom function called custom_capitalize(text)."
   ]
  },
  {
   "cell_type": "markdown",
   "id": "8bda551f",
   "metadata": {},
   "source": [
    "Answer:"
   ]
  },
  {
   "cell_type": "code",
   "execution_count": 3,
   "id": "d329279f",
   "metadata": {},
   "outputs": [
    {
     "name": "stdout",
     "output_type": "stream",
     "text": [
      "Capitalized Text: Hello, world\n"
     ]
    }
   ],
   "source": [
    "def custom_capitalize(text):\n",
    "    return text[0].upper() + text[1:]\n",
    "\n",
    "# Test the function\n",
    "text = \"hello, world\"\n",
    "capitalized_text = custom_capitalize(text)\n",
    "print(\"Capitalized Text:\", capitalized_text)"
   ]
  },
  {
   "cell_type": "markdown",
   "id": "f0c3e142",
   "metadata": {},
   "source": [
    "Assignment 2: Character Count"
   ]
  },
  {
   "cell_type": "markdown",
   "id": "041c3864",
   "metadata": {},
   "source": [
    "Task: Write a Python program that counts the number of occurrences of a specified character in a string using a custom function called custom_char_count(text, char)."
   ]
  },
  {
   "cell_type": "markdown",
   "id": "6e64cd3a",
   "metadata": {},
   "source": [
    "Answer:"
   ]
  },
  {
   "cell_type": "code",
   "execution_count": 4,
   "id": "e4febd4b",
   "metadata": {},
   "outputs": [
    {
     "name": "stdout",
     "output_type": "stream",
     "text": [
      "Count of 'o' in text: 2\n"
     ]
    }
   ],
   "source": [
    "def custom_char_count(text, char):\n",
    "    count = 0\n",
    "    for c in text:\n",
    "        if c == char:\n",
    "            count += 1\n",
    "    return count\n",
    "\n",
    "# Test the function\n",
    "text = \"hello, world\"\n",
    "char = 'o'\n",
    "count = custom_char_count(text, char)\n",
    "print(f\"Count of '{char}' in text:\", count)"
   ]
  },
  {
   "cell_type": "markdown",
   "id": "e14fb113",
   "metadata": {},
   "source": [
    "Assignment 3: Custom Split"
   ]
  },
  {
   "cell_type": "markdown",
   "id": "3348ac2f",
   "metadata": {},
   "source": [
    "Task: Create a Python program that splits a string into a list of words using a custom function called custom_split(text)."
   ]
  },
  {
   "cell_type": "markdown",
   "id": "4c1af03b",
   "metadata": {},
   "source": [
    "Answer:"
   ]
  },
  {
   "cell_type": "code",
   "execution_count": 5,
   "id": "f3e15853",
   "metadata": {},
   "outputs": [
    {
     "name": "stdout",
     "output_type": "stream",
     "text": [
      "Word List: ['Python', 'is', 'fun']\n"
     ]
    }
   ],
   "source": [
    "def custom_split(text):\n",
    "    return text.split()\n",
    "\n",
    "# Test the function\n",
    "text = \"Python is fun\"\n",
    "word_list = custom_split(text)\n",
    "print(\"Word List:\", word_list)"
   ]
  },
  {
   "cell_type": "markdown",
   "id": "41bed2b2",
   "metadata": {},
   "source": [
    "Assignment 4: Word Reversal"
   ]
  },
  {
   "cell_type": "markdown",
   "id": "f976dc86",
   "metadata": {},
   "source": [
    "Task: Write a Python program that reverses the order of words in a string using a custom function called reverse_words(text)."
   ]
  },
  {
   "cell_type": "markdown",
   "id": "30f636a2",
   "metadata": {},
   "source": [
    "Answer:"
   ]
  },
  {
   "cell_type": "code",
   "execution_count": 6,
   "id": "fe1c8a42",
   "metadata": {},
   "outputs": [
    {
     "name": "stdout",
     "output_type": "stream",
     "text": [
      "Reversed Text: fun is Python\n"
     ]
    }
   ],
   "source": [
    "def reverse_words(text):\n",
    "    word_list = text.split()\n",
    "    reversed_text = ' '.join(reversed(word_list))\n",
    "    return reversed_text\n",
    "\n",
    "# Test the function\n",
    "text = \"Python is fun\"\n",
    "reversed_text = reverse_words(text)\n",
    "print(\"Reversed Text:\", reversed_text)"
   ]
  },
  {
   "cell_type": "markdown",
   "id": "bdd17c70",
   "metadata": {},
   "source": [
    "Assignment 5: Character Swap"
   ]
  },
  {
   "cell_type": "markdown",
   "id": "5cebbeee",
   "metadata": {},
   "source": [
    "Task: Create a Python program that swaps two specified characters in a string using a custom function called swap_characters(text, char1, char2)."
   ]
  },
  {
   "cell_type": "markdown",
   "id": "93716eed",
   "metadata": {},
   "source": [
    "Answer:"
   ]
  },
  {
   "cell_type": "code",
   "execution_count": 7,
   "id": "0e127ac5",
   "metadata": {},
   "outputs": [
    {
     "name": "stdout",
     "output_type": "stream",
     "text": [
      "Swapped Text: python is Powerful\n"
     ]
    }
   ],
   "source": [
    "def swap_characters(text, char1, char2):\n",
    "    text = text.replace(char1, '$')\n",
    "    text = text.replace(char2, char1)\n",
    "    text = text.replace('$', char2)\n",
    "    return text\n",
    "\n",
    "# Test the function\n",
    "text = \"Python is powerful\"\n",
    "char1 = 'P'\n",
    "char2 = 'p'\n",
    "swapped_text = swap_characters(text, char1, char2)\n",
    "print(\"Swapped Text:\", swapped_text)"
   ]
  },
  {
   "cell_type": "markdown",
   "id": "528f0df1",
   "metadata": {},
   "source": [
    "Assignment 6: Custom Join"
   ]
  },
  {
   "cell_type": "markdown",
   "id": "e4e38db4",
   "metadata": {},
   "source": [
    "Task: Write a Python program that joins a list of words into a single string using a custom function called custom_join(word_list, delimiter)."
   ]
  },
  {
   "cell_type": "markdown",
   "id": "c208a64b",
   "metadata": {},
   "source": [
    "Answer:"
   ]
  },
  {
   "cell_type": "code",
   "execution_count": 8,
   "id": "c3c3fda4",
   "metadata": {},
   "outputs": [
    {
     "name": "stdout",
     "output_type": "stream",
     "text": [
      "Joined Text: Hello, World, Python\n"
     ]
    }
   ],
   "source": [
    "def custom_join(word_list, delimiter):\n",
    "    return delimiter.join(word_list)\n",
    "\n",
    "# Test the function\n",
    "words = [\"Hello\", \"World\", \"Python\"]\n",
    "delimiter = \", \"\n",
    "joined_text = custom_join(words, delimiter)\n",
    "print(\"Joined Text:\", joined_text)"
   ]
  },
  {
   "cell_type": "markdown",
   "id": "9c434193",
   "metadata": {},
   "source": [
    "Assignment 7: Word Count"
   ]
  },
  {
   "cell_type": "markdown",
   "id": "8e19129a",
   "metadata": {},
   "source": [
    "Task: Create a Python program that counts the number of words in a string using a custom function called word_count(text)."
   ]
  },
  {
   "cell_type": "markdown",
   "id": "d19e547c",
   "metadata": {},
   "source": [
    "Answer:"
   ]
  },
  {
   "cell_type": "code",
   "execution_count": 9,
   "id": "9923a659",
   "metadata": {},
   "outputs": [
    {
     "name": "stdout",
     "output_type": "stream",
     "text": [
      "Word Count: 9\n"
     ]
    }
   ],
   "source": [
    "def word_count(text):\n",
    "    word_list = text.split()\n",
    "    return len(word_list)\n",
    "\n",
    "# Test the function\n",
    "text = \"Python is easy to learn and Python is powerful\"\n",
    "count = word_count(text)\n",
    "print(\"Word Count:\", count)"
   ]
  },
  {
   "cell_type": "markdown",
   "id": "b50271de",
   "metadata": {},
   "source": [
    "Assignment 8: Custom Replace"
   ]
  },
  {
   "cell_type": "markdown",
   "id": "b7188632",
   "metadata": {},
   "source": [
    "Task: Write a Python program that replaces all occurrences of a specified substring with another substring using a custom function called custom_replace(text, old, new)."
   ]
  },
  {
   "cell_type": "markdown",
   "id": "20497761",
   "metadata": {},
   "source": [
    "Answer:"
   ]
  },
  {
   "cell_type": "code",
   "execution_count": 10,
   "id": "8f11d7b7",
   "metadata": {},
   "outputs": [
    {
     "name": "stdout",
     "output_type": "stream",
     "text": [
      "Replaced Text: Hello, Python!\n"
     ]
    }
   ],
   "source": [
    "def custom_replace(text, old, new):\n",
    "    return text.replace(old, new)\n",
    "\n",
    "# Test the function\n",
    "text = \"Hello, World!\"\n",
    "old_substring = \"World\"\n",
    "new_substring = \"Python\"\n",
    "replaced_text = custom_replace(text, old_substring, new_substring)\n",
    "print(\"Replaced Text:\", replaced_text)"
   ]
  },
  {
   "cell_type": "markdown",
   "id": "d247e74c",
   "metadata": {},
   "source": [
    "Assignment 9: Sentence Reversal"
   ]
  },
  {
   "cell_type": "markdown",
   "id": "a72dc21b",
   "metadata": {},
   "source": [
    "Task: Develop a Python program that reverses the order of sentences in a string using a custom function called reverse_sentences(text)."
   ]
  },
  {
   "cell_type": "markdown",
   "id": "098bd966",
   "metadata": {},
   "source": [
    "Answer:"
   ]
  },
  {
   "cell_type": "code",
   "execution_count": 11,
   "id": "161db01e",
   "metadata": {},
   "outputs": [
    {
     "name": "stdout",
     "output_type": "stream",
     "text": [
      "Reversed Text: Learning Python is fun.. It is also versatile. Python is powerful\n"
     ]
    }
   ],
   "source": [
    "def reverse_sentences(text):\n",
    "    sentence_list = text.split('. ')\n",
    "    reversed_text = '. '.join(reversed(sentence_list))\n",
    "    return reversed_text\n",
    "\n",
    "# Test the function\n",
    "text = \"Python is powerful. It is also versatile. Learning Python is fun.\"\n",
    "reversed_text = reverse_sentences(text)\n",
    "print(\"Reversed Text:\", reversed_text)"
   ]
  },
  {
   "cell_type": "markdown",
   "id": "78bb31c9",
   "metadata": {},
   "source": [
    "Assignment 10: Vowel Count"
   ]
  },
  {
   "cell_type": "markdown",
   "id": "0eab1ab3",
   "metadata": {},
   "source": [
    "Task: Create a Python program that counts the number of vowels (a, e, i, o, u) in a string using a custom function called count_vowels(text)."
   ]
  },
  {
   "cell_type": "markdown",
   "id": "862ac52c",
   "metadata": {},
   "source": [
    "Answer:"
   ]
  },
  {
   "cell_type": "code",
   "execution_count": 1,
   "id": "681305ad",
   "metadata": {},
   "outputs": [
    {
     "name": "stdout",
     "output_type": "stream",
     "text": [
      "Vowel Count: 9\n"
     ]
    }
   ],
   "source": [
    "def count_vowels(text):\n",
    "    vowels = \"aeiouAEIOU\"\n",
    "    count = 0\n",
    "    for char in text:\n",
    "        if char in vowels:\n",
    "            count += 1\n",
    "    return count\n",
    "\n",
    "# Test the function\n",
    "text = \"Python programming is awesome\"\n",
    "vowel_count = count_vowels(text)\n",
    "print(\"Vowel Count:\", vowel_count)"
   ]
  }
 ],
 "metadata": {
  "kernelspec": {
   "display_name": "Python 3 (ipykernel)",
   "language": "python",
   "name": "python3"
  },
  "language_info": {
   "codemirror_mode": {
    "name": "ipython",
    "version": 3
   },
   "file_extension": ".py",
   "mimetype": "text/x-python",
   "name": "python",
   "nbconvert_exporter": "python",
   "pygments_lexer": "ipython3",
   "version": "3.9.13"
  },
  "toc": {
   "base_numbering": 1,
   "nav_menu": {},
   "number_sections": true,
   "sideBar": true,
   "skip_h1_title": false,
   "title_cell": "Table of Contents",
   "title_sidebar": "Contents",
   "toc_cell": false,
   "toc_position": {},
   "toc_section_display": true,
   "toc_window_display": false
  }
 },
 "nbformat": 4,
 "nbformat_minor": 5
}
