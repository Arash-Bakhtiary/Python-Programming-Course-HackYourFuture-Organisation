{
 "cells": [
  {
   "cell_type": "markdown",
   "id": "dbee02f3",
   "metadata": {},
   "source": [
    "# Float Methods (Advanced)"
   ]
  },
  {
   "cell_type": "markdown",
   "id": "113e3482",
   "metadata": {},
   "source": [
    "Question: How can you calculate the bitwise inverse (complement) of a float using the invert() method?"
   ]
  },
  {
   "cell_type": "code",
   "execution_count": 5,
   "id": "c28d1fdf",
   "metadata": {},
   "outputs": [
    {
     "name": "stdout",
     "output_type": "stream",
     "text": [
      "Original Float Value: 5.0\n",
      "Bitwise Inverse as Integer: -6\n"
     ]
    }
   ],
   "source": [
    "float_value = 5.0\n",
    "\n",
    "# Convert the float to an integer\n",
    "int_value = int(float_value)\n",
    "\n",
    "# Perform the bitwise inversion\n",
    "bitwise_inverse = ~int_value\n",
    "\n",
    "print(\"Original Float Value:\", float_value)\n",
    "print(\"Bitwise Inverse as Integer:\", bitwise_inverse)"
   ]
  },
  {
   "cell_type": "markdown",
   "id": "068d6296",
   "metadata": {},
   "source": [
    "Question: How can you multiply two float values together using the __mul__ method?"
   ]
  },
  {
   "cell_type": "code",
   "execution_count": 6,
   "id": "903ebbf1",
   "metadata": {},
   "outputs": [
    {
     "name": "stdout",
     "output_type": "stream",
     "text": [
      "Product: 7.5\n"
     ]
    }
   ],
   "source": [
    "float_value1 = 3.0\n",
    "float_value2 = 2.5\n",
    "product_result = float_value1.__mul__(float_value2)\n",
    "print(\"Product:\", product_result)"
   ]
  },
  {
   "cell_type": "markdown",
   "id": "87c999bd",
   "metadata": {},
   "source": [
    "Question: What method is used to check if two float values are not equal?"
   ]
  },
  {
   "cell_type": "code",
   "execution_count": 7,
   "id": "ddf5d986",
   "metadata": {},
   "outputs": [
    {
     "name": "stdout",
     "output_type": "stream",
     "text": [
      "Are Not Equal: True\n"
     ]
    }
   ],
   "source": [
    "float_value1 = 5.6\n",
    "float_value2 = 6.8\n",
    "are_not_equal = float_value1.__ne__(float_value2)\n",
    "print(\"Are Not Equal:\", are_not_equal)"
   ]
  },
  {
   "cell_type": "markdown",
   "id": "2bd19e04",
   "metadata": {},
   "source": [
    "Question: How can you get the negative value of a float using the __neg__ method?"
   ]
  },
  {
   "cell_type": "code",
   "execution_count": 8,
   "id": "44c4be25",
   "metadata": {},
   "outputs": [
    {
     "name": "stdout",
     "output_type": "stream",
     "text": [
      "Negative Value: -7.2\n"
     ]
    }
   ],
   "source": [
    "float_value = 7.2\n",
    "negative_value = float_value.__neg__()\n",
    "print(\"Negative Value:\", negative_value)"
   ]
  },
  {
   "cell_type": "markdown",
   "id": "506f20b7",
   "metadata": {},
   "source": [
    "Question: What method is used to create a new float object?"
   ]
  },
  {
   "cell_type": "code",
   "execution_count": 9,
   "id": "b5d378b8",
   "metadata": {},
   "outputs": [
    {
     "name": "stdout",
     "output_type": "stream",
     "text": [
      "New Float: 4.5\n"
     ]
    }
   ],
   "source": [
    "float_value = float.__new__(float, 4.5)\n",
    "print(\"New Float:\", float_value)"
   ]
  },
  {
   "cell_type": "markdown",
   "id": "36a0ca79",
   "metadata": {},
   "source": [
    "Question: What method is used to add a float value to another object on the right side of the addition operation?"
   ]
  },
  {
   "cell_type": "code",
   "execution_count": 10,
   "id": "4fd74c4f",
   "metadata": {},
   "outputs": [
    {
     "name": "stdout",
     "output_type": "stream",
     "text": [
      "Right Addition Result: 6.0\n"
     ]
    }
   ],
   "source": [
    "float_value = 3.7\n",
    "other_value = 2.3\n",
    "sum_result = float_value.__radd__(other_value)\n",
    "print(\"Right Addition Result:\", sum_result)"
   ]
  },
  {
   "cell_type": "markdown",
   "id": "07c0675e",
   "metadata": {},
   "source": [
    "Question: How can you perform division with remainder on two float values using the __rdivmod__ method?"
   ]
  },
  {
   "cell_type": "code",
   "execution_count": 11,
   "id": "995c9954",
   "metadata": {},
   "outputs": [
    {
     "name": "stdout",
     "output_type": "stream",
     "text": [
      "Right Divmod Result: (0.0, 3.2)\n"
     ]
    }
   ],
   "source": [
    "float_value1 = 10.5\n",
    "float_value2 = 3.2\n",
    "divmod_result = float_value1.__rdivmod__(float_value2)\n",
    "print(\"Right Divmod Result:\", divmod_result)"
   ]
  },
  {
   "cell_type": "markdown",
   "id": "964d553f",
   "metadata": {},
   "source": [
    "Question: What method is used to reduce a float to its simplest form in a way that is suitable for pickling?"
   ]
  },
  {
   "cell_type": "code",
   "execution_count": 13,
   "id": "16b91163",
   "metadata": {},
   "outputs": [
    {
     "name": "stdout",
     "output_type": "stream",
     "text": [
      "Original Float Value: 6.0\n"
     ]
    }
   ],
   "source": [
    "import pickle\n",
    "\n",
    "class MyFloatWrapper:\n",
    "    def __init__(self, value):\n",
    "        self.value = value\n",
    "\n",
    "    def __reduce__(self):\n",
    "        # We return a tuple with a callable (constructor) and arguments to recreate the object\n",
    "        return (self.__class__, (self.value,))\n",
    "\n",
    "# Create an instance of MyFloatWrapper\n",
    "float_value = MyFloatWrapper(6.0)\n",
    "\n",
    "# Serialize the object using pickle\n",
    "serialized_data = pickle.dumps(float_value)\n",
    "\n",
    "# Deserialize the object\n",
    "deserialized_float = pickle.loads(serialized_data)\n",
    "\n",
    "print(\"Original Float Value:\", deserialized_float.value)\n"
   ]
  },
  {
   "cell_type": "markdown",
   "id": "fb74b271",
   "metadata": {},
   "source": [
    "Question: What method is used to perform true division on a float value on the right side of the operation?"
   ]
  },
  {
   "cell_type": "code",
   "execution_count": 15,
   "id": "d8c3db2e",
   "metadata": {},
   "outputs": [
    {
     "name": "stdout",
     "output_type": "stream",
     "text": [
      "Right True Division Result: 0.2\n"
     ]
    }
   ],
   "source": [
    "float_value1 = 10.0\n",
    "float_value2 = 2.0\n",
    "true_div_result = float_value1.__rtruediv__(float_value2)\n",
    "print(\"Right True Division Result:\", true_div_result)"
   ]
  },
  {
   "cell_type": "markdown",
   "id": "b3c71956",
   "metadata": {},
   "source": [
    "Question: How can you perform subtraction on a float value on the right side of the subtraction operation using the __rsub__ method?"
   ]
  },
  {
   "cell_type": "code",
   "execution_count": 16,
   "id": "e9f36c02",
   "metadata": {},
   "outputs": [
    {
     "name": "stdout",
     "output_type": "stream",
     "text": [
      "Right Subtraction Result: -2.5\n"
     ]
    }
   ],
   "source": [
    "float_value1 = 7.0\n",
    "float_value2 = 4.5\n",
    "sub_result = float_value1.__rsub__(float_value2)\n",
    "print(\"Right Subtraction Result:\", sub_result)"
   ]
  },
  {
   "cell_type": "markdown",
   "id": "173ddfec",
   "metadata": {},
   "source": [
    "Question: What method is used to multiply a float value to another object on the right side of the multiplication operation?"
   ]
  },
  {
   "cell_type": "code",
   "execution_count": 17,
   "id": "f059625c",
   "metadata": {},
   "outputs": [
    {
     "name": "stdout",
     "output_type": "stream",
     "text": [
      "Right Multiplication Result: 7.5\n"
     ]
    }
   ],
   "source": [
    "float_value = 2.5\n",
    "other_value = 3.0\n",
    "product_result = float_value.__rmul__(other_value)\n",
    "print(\"Right Multiplication Result:\", product_result)"
   ]
  },
  {
   "cell_type": "markdown",
   "id": "0363c17d",
   "metadata": {},
   "source": [
    "Question: How can you perform modulo operation on a float value on the right side of the operation using the __rmod__ method?"
   ]
  },
  {
   "cell_type": "code",
   "execution_count": 18,
   "id": "bfd4372e",
   "metadata": {},
   "outputs": [
    {
     "name": "stdout",
     "output_type": "stream",
     "text": [
      "Right Modulo Result: 5.0\n"
     ]
    }
   ],
   "source": [
    "float_value1 = 12.5\n",
    "float_value2 = 5.0\n",
    "modulo_result = float_value1.__rmod__(float_value2)\n",
    "print(\"Right Modulo Result:\", modulo_result)"
   ]
  },
  {
   "cell_type": "markdown",
   "id": "403b3477",
   "metadata": {},
   "source": [
    "Question: What method is used to perform floor division on a float value on the right side of the operation?"
   ]
  },
  {
   "cell_type": "code",
   "execution_count": 19,
   "id": "d6b66bcc",
   "metadata": {},
   "outputs": [
    {
     "name": "stdout",
     "output_type": "stream",
     "text": [
      "Right Floor Division Result: 0.0\n"
     ]
    }
   ],
   "source": [
    "float_value1 = 10.0\n",
    "float_value2 = 3.0\n",
    "floor_div_result = float_value1.__rfloordiv__(float_value2)\n",
    "print(\"Right Floor Division Result:\", floor_div_result)"
   ]
  }
 ],
 "metadata": {
  "kernelspec": {
   "display_name": "Python 3 (ipykernel)",
   "language": "python",
   "name": "python3"
  },
  "language_info": {
   "codemirror_mode": {
    "name": "ipython",
    "version": 3
   },
   "file_extension": ".py",
   "mimetype": "text/x-python",
   "name": "python",
   "nbconvert_exporter": "python",
   "pygments_lexer": "ipython3",
   "version": "3.9.13"
  },
  "toc": {
   "base_numbering": 1,
   "nav_menu": {},
   "number_sections": true,
   "sideBar": true,
   "skip_h1_title": false,
   "title_cell": "Table of Contents",
   "title_sidebar": "Contents",
   "toc_cell": false,
   "toc_position": {},
   "toc_section_display": true,
   "toc_window_display": false
  }
 },
 "nbformat": 4,
 "nbformat_minor": 5
}
