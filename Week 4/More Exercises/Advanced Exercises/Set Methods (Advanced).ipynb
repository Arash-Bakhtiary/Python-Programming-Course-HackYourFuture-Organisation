{
 "cells": [
  {
   "cell_type": "markdown",
   "id": "dbee02f3",
   "metadata": {},
   "source": [
    "# Set Methods (Advanced)"
   ]
  },
  {
   "cell_type": "markdown",
   "id": "ca9ffa6b",
   "metadata": {},
   "source": [
    "Question: Write a Python function that returns a set of prime numbers within a given range."
   ]
  },
  {
   "cell_type": "code",
   "execution_count": 1,
   "id": "a8531223",
   "metadata": {},
   "outputs": [
    {
     "name": "stdout",
     "output_type": "stream",
     "text": [
      "{37, 41, 11, 43, 13, 47, 17, 19, 23, 29, 31}\n"
     ]
    }
   ],
   "source": [
    "def is_prime(num):\n",
    "    if num <= 1:\n",
    "        return False\n",
    "    if num <= 3:\n",
    "        return True\n",
    "    if num % 2 == 0 or num % 3 == 0:\n",
    "        return False\n",
    "    i = 5\n",
    "    while i * i <= num:\n",
    "        if num % i == 0 or num % (i + 2) == 0:\n",
    "            return False\n",
    "        i += 6\n",
    "    return True\n",
    "\n",
    "def prime_numbers_in_range(start, end):\n",
    "    primes = set()\n",
    "    for num in range(start, end + 1):\n",
    "        if is_prime(num):\n",
    "            primes.add(num)\n",
    "    return primes\n",
    "\n",
    "# Example usage:\n",
    "start_range = 10\n",
    "end_range = 50\n",
    "\n",
    "result = prime_numbers_in_range(start_range, end_range)\n",
    "print(result)"
   ]
  },
  {
   "cell_type": "markdown",
   "id": "21f46469",
   "metadata": {},
   "source": [
    "Question: Write a Python function that checks if a given string is a pangram (contains every letter of the alphabet at least once)."
   ]
  },
  {
   "cell_type": "code",
   "execution_count": 2,
   "id": "20e6967a",
   "metadata": {},
   "outputs": [
    {
     "name": "stdout",
     "output_type": "stream",
     "text": [
      "True\n",
      "False\n"
     ]
    }
   ],
   "source": [
    "def is_pangram(input_string):\n",
    "    alphabet = set('abcdefghijklmnopqrstuvwxyz')\n",
    "    input_set = set(input_string.lower())\n",
    "    \n",
    "    return alphabet.issubset(input_set)\n",
    "\n",
    "# Example usage:\n",
    "text1 = \"The quick brown fox jumps over the lazy dog.\"\n",
    "text2 = \"Hello, World!\"\n",
    "\n",
    "result1 = is_pangram(text1)\n",
    "result2 = is_pangram(text2)\n",
    "\n",
    "print(result1)  # Output: True\n",
    "print(result2)  # Output: False"
   ]
  },
  {
   "cell_type": "markdown",
   "id": "113e3482",
   "metadata": {},
   "source": [
    "Question: You have a list of student objects, each containing their ID and a set of courses they have taken. Write a Python function that returns the set of students who have taken all the specified courses."
   ]
  },
  {
   "cell_type": "code",
   "execution_count": 3,
   "id": "2181ab25",
   "metadata": {},
   "outputs": [
    {
     "name": "stdout",
     "output_type": "stream",
     "text": [
      "{1, 2, 3}\n"
     ]
    }
   ],
   "source": [
    "class Student:\n",
    "    def __init__(self, student_id, courses):\n",
    "        self.student_id = student_id\n",
    "        self.courses = courses\n",
    "\n",
    "def students_with_courses(students, required_courses):\n",
    "    students_with_required_courses = set()\n",
    "    \n",
    "    for student in students:\n",
    "        if required_courses.issubset(student.courses):\n",
    "            students_with_required_courses.add(student.student_id)\n",
    "    \n",
    "    return students_with_required_courses\n",
    "\n",
    "# Example usage:\n",
    "student1 = Student(1, {'Math', 'Physics', 'Chemistry'})\n",
    "student2 = Student(2, {'Math', 'Biology', 'Physics'})\n",
    "student3 = Student(3, {'Math', 'Physics', 'English'})\n",
    "\n",
    "students_list = [student1, student2, student3]\n",
    "required_courses = {'Math', 'Physics'}\n",
    "\n",
    "result = students_with_courses(students_list, required_courses)\n",
    "print(result)"
   ]
  },
  {
   "cell_type": "markdown",
   "id": "068d6296",
   "metadata": {},
   "source": [
    "Question: Write a Python function that takes a list of sets representing people's interests (e.g., hobbies) and returns a set containing the interests that are unique to each person (not shared with anyone else)."
   ]
  },
  {
   "cell_type": "code",
   "execution_count": 4,
   "id": "903ebbf1",
   "metadata": {},
   "outputs": [
    {
     "name": "stdout",
     "output_type": "stream",
     "text": [
      "{'swimming', 'gaming', 'hiking'}\n"
     ]
    }
   ],
   "source": [
    "def unique_interests(people_interests):\n",
    "    interest_count = {}\n",
    "    unique_interests_set = set()\n",
    "    \n",
    "    for interests in people_interests:\n",
    "        for interest in interests:\n",
    "            if interest in interest_count:\n",
    "                interest_count[interest] += 1\n",
    "            else:\n",
    "                interest_count[interest] = 1\n",
    "    \n",
    "    for interests in people_interests:\n",
    "        for interest in interests:\n",
    "            if interest_count[interest] == 1:\n",
    "                unique_interests_set.add(interest)\n",
    "    \n",
    "    return unique_interests_set\n",
    "\n",
    "# Example usage:\n",
    "person1_interests = {'hiking', 'reading', 'cooking'}\n",
    "person2_interests = {'reading', 'swimming', 'painting'}\n",
    "person3_interests = {'cooking', 'painting', 'gaming'}\n",
    "\n",
    "result = unique_interests([person1_interests, person2_interests, person3_interests])\n",
    "print(result)"
   ]
  },
  {
   "cell_type": "markdown",
   "id": "87c999bd",
   "metadata": {},
   "source": [
    "Question: You have a list of sets representing ingredients for various recipes. Write a Python function that returns a set containing ingredients that are common across all recipes."
   ]
  },
  {
   "cell_type": "code",
   "execution_count": 5,
   "id": "ddf5d986",
   "metadata": {},
   "outputs": [
    {
     "name": "stdout",
     "output_type": "stream",
     "text": [
      "{'flour'}\n"
     ]
    }
   ],
   "source": [
    "def common_ingredients(recipes):\n",
    "    if not recipes:\n",
    "        return set()\n",
    "    \n",
    "    common_ingredients_set = set(recipes[0])\n",
    "    \n",
    "    for recipe in recipes[1:]:\n",
    "        common_ingredients_set.intersection_update(recipe)\n",
    "    \n",
    "    return common_ingredients_set\n",
    "\n",
    "# Example usage:\n",
    "recipe1 = {'salt', 'sugar', 'flour', 'water'}\n",
    "recipe2 = {'sugar', 'eggs', 'flour', 'butter'}\n",
    "recipe3 = {'flour', 'water', 'yeast', 'salt'}\n",
    "\n",
    "result = common_ingredients([recipe1, recipe2, recipe3])\n",
    "print(result)"
   ]
  },
  {
   "cell_type": "markdown",
   "id": "2bd19e04",
   "metadata": {},
   "source": [
    "Question: You have a list of words, and you want to find anagrams (words with the same letters but in a different order). Write a Python function that returns a set of sets, where each inner set contains anagrams of each other from the given list of words."
   ]
  },
  {
   "cell_type": "code",
   "execution_count": 6,
   "id": "44c4be25",
   "metadata": {},
   "outputs": [
    {
     "name": "stdout",
     "output_type": "stream",
     "text": [
      "{frozenset({'listen', 'silent', 'enlist'}), frozenset({'integral', 'triangle'})}\n"
     ]
    }
   ],
   "source": [
    "def find_anagrams(words):\n",
    "    anagram_sets = set()\n",
    "    \n",
    "    word_to_sorted = {}\n",
    "    \n",
    "    for word in words:\n",
    "        sorted_word = ''.join(sorted(word))\n",
    "        if sorted_word in word_to_sorted:\n",
    "            word_to_sorted[sorted_word].add(word)\n",
    "        else:\n",
    "            word_to_sorted[sorted_word] = {word}\n",
    "    \n",
    "    for sorted_word, anagrams in word_to_sorted.items():\n",
    "        if len(anagrams) > 1:\n",
    "            anagram_sets.add(frozenset(anagrams))\n",
    "    \n",
    "    return anagram_sets\n",
    "\n",
    "# Example usage:\n",
    "word_list = ['listen', 'silent', 'enlist', 'triangle', 'integral', 'gateman', 'man gate']\n",
    "\n",
    "result = find_anagrams(word_list)\n",
    "print(result)"
   ]
  },
  {
   "cell_type": "markdown",
   "id": "506f20b7",
   "metadata": {},
   "source": [
    "Question: Write a Python function that takes a list of sets representing items in different categories. The function should return a set containing items that belong to exactly one category (i.e., not shared with any other category)."
   ]
  },
  {
   "cell_type": "code",
   "execution_count": 7,
   "id": "b5d378b8",
   "metadata": {},
   "outputs": [
    {
     "name": "stdout",
     "output_type": "stream",
     "text": [
      "{'elderberry', 'fig', 'apple'}\n"
     ]
    }
   ],
   "source": [
    "def unique_category_items(categories):\n",
    "    item_count = {}\n",
    "    unique_items = set()\n",
    "    \n",
    "    for category in categories:\n",
    "        for item in category:\n",
    "            if item in item_count:\n",
    "                item_count[item] += 1\n",
    "            else:\n",
    "                item_count[item] = 1\n",
    "    \n",
    "    for item, count in item_count.items():\n",
    "        if count == 1:\n",
    "            unique_items.add(item)\n",
    "    \n",
    "    return unique_items\n",
    "\n",
    "# Example usage:\n",
    "category1 = {'apple', 'banana', 'cherry'}\n",
    "category2 = {'banana', 'date', 'fig'}\n",
    "category3 = {'cherry', 'date', 'elderberry'}\n",
    "\n",
    "result = unique_category_items([category1, category2, category3])\n",
    "print(result)"
   ]
  },
  {
   "cell_type": "markdown",
   "id": "36a0ca79",
   "metadata": {},
   "source": [
    "Question: You have two sets representing the results of two different surveys. Write a Python function that returns a set containing the survey items that received significantly different responses between the two surveys (e.g., items that were rated very positively in one survey and negatively in the other)."
   ]
  },
  {
   "cell_type": "code",
   "execution_count": 8,
   "id": "4fd74c4f",
   "metadata": {},
   "outputs": [
    {
     "name": "stdout",
     "output_type": "stream",
     "text": [
      "{'item5', 'item3', 'item1'}\n"
     ]
    }
   ],
   "source": [
    "def significant_differences(survey1_results, survey2_results, threshold=2):\n",
    "    significant_items = set()\n",
    "    \n",
    "    for item in survey1_results:\n",
    "        if abs(survey1_results[item] - survey2_results.get(item, 0)) >= threshold:\n",
    "            significant_items.add(item)\n",
    "    \n",
    "    for item in survey2_results:\n",
    "        if abs(survey2_results[item] - survey1_results.get(item, 0)) >= threshold:\n",
    "            significant_items.add(item)\n",
    "    \n",
    "    return significant_items\n",
    "\n",
    "# Example usage:\n",
    "survey1_results = {'item1': 4, 'item2': 5, 'item3': 2, 'item4': 1}\n",
    "survey2_results = {'item1': 1, 'item2': 5, 'item3': 4, 'item5': 3}\n",
    "\n",
    "result = significant_differences(survey1_results, survey2_results, threshold=2)\n",
    "print(result)"
   ]
  },
  {
   "cell_type": "markdown",
   "id": "07c0675e",
   "metadata": {},
   "source": [
    "Question: You have a list of dictionaries, each representing information about customers. Write a Python function that returns a set containing the email addresses of customers who have made multiple purchases."
   ]
  },
  {
   "cell_type": "code",
   "execution_count": 9,
   "id": "995c9954",
   "metadata": {},
   "outputs": [
    {
     "name": "stdout",
     "output_type": "stream",
     "text": [
      "set()\n"
     ]
    }
   ],
   "source": [
    "def repeat_customers(customers):\n",
    "    email_count = {}\n",
    "    repeat_customers_set = set()\n",
    "    \n",
    "    for customer in customers:\n",
    "        email = customer['email']\n",
    "        if email in email_count:\n",
    "            email_count[email] += 1\n",
    "            if email_count[email] > 1:\n",
    "                repeat_customers_set.add(email)\n",
    "        else:\n",
    "            email_count[email] = 1\n",
    "    \n",
    "    return repeat_customers_set\n",
    "\n",
    "# Example usage:\n",
    "customer_data = [\n",
    "    {'name': 'Alice', 'email': 'alice@example.com', 'purchases': 2},\n",
    "    {'name': 'Bob', 'email': 'bob@example.com', 'purchases': 1},\n",
    "    {'name': 'Carol', 'email': 'carol@example.com', 'purchases': 3},\n",
    "    {'name': 'David', 'email': 'david@example.com', 'purchases': 2},\n",
    "]\n",
    "\n",
    "result = repeat_customers(customer_data)\n",
    "print(result)"
   ]
  },
  {
   "cell_type": "markdown",
   "id": "964d553f",
   "metadata": {},
   "source": [
    "Question: Write a Python function that takes two sets representing employees who attended two different training programs. The function should return a set of employees who attended either of the programs but not both."
   ]
  },
  {
   "cell_type": "code",
   "execution_count": 10,
   "id": "16b91163",
   "metadata": {},
   "outputs": [
    {
     "name": "stdout",
     "output_type": "stream",
     "text": [
      "{'Alice', 'Frank', 'Carol', 'Eve'}\n"
     ]
    }
   ],
   "source": [
    "def exclusive_attendees(program1, program2):\n",
    "    exclusive = (program1 | program2) - (program1 & program2)\n",
    "    return exclusive\n",
    "\n",
    "# Example usage:\n",
    "program1 = {'Alice', 'Bob', 'Carol', 'David'}\n",
    "program2 = {'Bob', 'David', 'Eve', 'Frank'}\n",
    "\n",
    "result = exclusive_attendees(program1, program2)\n",
    "print(result)"
   ]
  },
  {
   "cell_type": "markdown",
   "id": "fb74b271",
   "metadata": {},
   "source": [
    "Question: You have a list of sets, each representing the friends of a person. Write a Python function that returns a set containing the friends who are friends of more than one person in the list."
   ]
  },
  {
   "cell_type": "code",
   "execution_count": 11,
   "id": "d8c3db2e",
   "metadata": {},
   "outputs": [
    {
     "name": "stdout",
     "output_type": "stream",
     "text": [
      "set()\n"
     ]
    }
   ],
   "source": [
    "def common_friends(friend_lists):\n",
    "    if not friend_lists:\n",
    "        return set()  # Return an empty set if there are no friend lists\n",
    "    \n",
    "    common = friend_lists[0].copy()  # Start with friends of the first person\n",
    "    \n",
    "    for friends in friend_lists[1:]:\n",
    "        common.intersection_update(friends)  # Update with friends of subsequent persons\n",
    "    \n",
    "    return common\n",
    "\n",
    "# Example usage:\n",
    "friend_lists = [{'Alice', 'Bob', 'Carol'},\n",
    "                {'Bob', 'David', 'Eve'},\n",
    "                {'Alice', 'Eve', 'Grace'}]\n",
    "\n",
    "result = common_friends(friend_lists)\n",
    "print(result)"
   ]
  },
  {
   "cell_type": "markdown",
   "id": "173ddfec",
   "metadata": {},
   "source": [
    "Question: You have two sets representing the courses that two students have taken. Write a Python function that returns a set containing the courses that exactly one of the students has taken (but not both)."
   ]
  },
  {
   "cell_type": "code",
   "execution_count": 12,
   "id": "e9f36c02",
   "metadata": {},
   "outputs": [
    {
     "name": "stdout",
     "output_type": "stream",
     "text": [
      "{'Physics', 'Biology', 'Chemistry', 'Geography'}\n"
     ]
    }
   ],
   "source": [
    "def exclusive_courses(student1_courses, student2_courses):\n",
    "    exclusive = (student1_courses - student2_courses) | (student2_courses - student1_courses)\n",
    "    return exclusive\n",
    "\n",
    "# Example usage:\n",
    "student1_courses = {'Math', 'Physics', 'Chemistry', 'History'}\n",
    "student2_courses = {'Math', 'Biology', 'History', 'Geography'}\n",
    "\n",
    "result = exclusive_courses(student1_courses, student2_courses)\n",
    "print(result)"
   ]
  },
  {
   "cell_type": "markdown",
   "id": "b3c71956",
   "metadata": {},
   "source": [
    "Question: Write a Python function that takes a list of sets and returns a set containing all elements that appear in an odd number of sets in the list."
   ]
  },
  {
   "cell_type": "code",
   "execution_count": 13,
   "id": "f059625c",
   "metadata": {},
   "outputs": [
    {
     "name": "stdout",
     "output_type": "stream",
     "text": [
      "{3, 6}\n"
     ]
    }
   ],
   "source": [
    "def odd_occurrence_elements(sets_list):\n",
    "    occurrence_count = {}\n",
    "    for s in sets_list:\n",
    "        for element in s:\n",
    "            occurrence_count[element] = occurrence_count.get(element, 0) + 1\n",
    "    \n",
    "    odd_occurrence_elements = set()\n",
    "    for element, count in occurrence_count.items():\n",
    "        if count % 2 != 0:\n",
    "            odd_occurrence_elements.add(element)\n",
    "    \n",
    "    return odd_occurrence_elements\n",
    "\n",
    "# Example usage:\n",
    "sets_list = [{1, 2, 3}, {2, 3, 4}, {1, 4, 5}, {3, 5, 6}]\n",
    "\n",
    "result = odd_occurrence_elements(sets_list)\n",
    "print(result)"
   ]
  },
  {
   "cell_type": "markdown",
   "id": "0363c17d",
   "metadata": {},
   "source": [
    "Question: Given two sets of integers, write a function that returns a new set containing only the common elements between the two sets, but without using the intersection method."
   ]
  },
  {
   "cell_type": "code",
   "execution_count": 14,
   "id": "bfd4372e",
   "metadata": {},
   "outputs": [
    {
     "name": "stdout",
     "output_type": "stream",
     "text": [
      "{3, 4, 5}\n"
     ]
    }
   ],
   "source": [
    "def custom_intersection(set1, set2):\n",
    "    common_elements = set()\n",
    "    for element in set1:\n",
    "        if element in set2:\n",
    "            common_elements.add(element)\n",
    "    return common_elements\n",
    "\n",
    "# Example usage:\n",
    "set1 = {1, 2, 3, 4, 5}\n",
    "set2 = {3, 4, 5, 6, 7}\n",
    "\n",
    "result = custom_intersection(set1, set2)\n",
    "print(result)"
   ]
  },
  {
   "cell_type": "markdown",
   "id": "403b3477",
   "metadata": {},
   "source": [
    "Question: You have a list of orders. Each order is represented as a tuple containing the order number and a set of items in that order. Write a Python function that finds the set of items that appear in all orders."
   ]
  },
  {
   "cell_type": "code",
   "execution_count": 15,
   "id": "d6b66bcc",
   "metadata": {},
   "outputs": [
    {
     "name": "stdout",
     "output_type": "stream",
     "text": [
      "set()\n"
     ]
    }
   ],
   "source": [
    "def common_items_in_orders(orders):\n",
    "    if not orders:\n",
    "        return set()  # Return an empty set if there are no orders\n",
    "    \n",
    "    common_items = orders[0][1].copy()  # Start with items from the first order\n",
    "    \n",
    "    for _, items in orders[1:]:\n",
    "        common_items.intersection_update(items)  # Update with items in subsequent orders\n",
    "    \n",
    "    return common_items\n",
    "\n",
    "# Example usage:\n",
    "orders = [(1, {'apple', 'banana', 'cherry'}),\n",
    "          (2, {'banana', 'date'}),\n",
    "          (3, {'cherry', 'date', 'elderberry'})]\n",
    "\n",
    "result = common_items_in_orders(orders)\n",
    "print(result)"
   ]
  },
  {
   "cell_type": "markdown",
   "id": "bb267d0c",
   "metadata": {},
   "source": [
    "Question: Create two sets, set1 and set2, with elements 'apple', 'banana', 'cherry', and 'date'. Using a method, check if set2 is a proper subset of set1 and store the result in a variable is_proper_subset."
   ]
  },
  {
   "cell_type": "code",
   "execution_count": 16,
   "id": "b46ffa0c",
   "metadata": {},
   "outputs": [
    {
     "name": "stdout",
     "output_type": "stream",
     "text": [
      "True\n"
     ]
    }
   ],
   "source": [
    "# Creating sets\n",
    "set1 = {'apple', 'banana', 'cherry', 'date'}\n",
    "set2 = {'banana', 'date'}\n",
    "\n",
    "# Checking if set2 is a proper subset of set1\n",
    "is_proper_subset = set2.issubset(set1) and set1 != set2\n",
    "print(is_proper_subset)"
   ]
  },
  {
   "cell_type": "markdown",
   "id": "6b60a1e3",
   "metadata": {},
   "source": [
    "Question: Create a set fruits with elements 'apple', 'banana', 'cherry', and 'date'. Using methods, remove all elements from the set fruits that are not fruits (i.e., not 'apple', 'banana', or 'cherry') and store the result in fruits."
   ]
  },
  {
   "cell_type": "code",
   "execution_count": 17,
   "id": "f06c9606",
   "metadata": {},
   "outputs": [
    {
     "name": "stdout",
     "output_type": "stream",
     "text": [
      "{'banana', 'cherry', 'apple'}\n"
     ]
    }
   ],
   "source": [
    "# Creating a set\n",
    "fruits = {'apple', 'banana', 'cherry', 'date'}\n",
    "\n",
    "# Removing non-fruit elements from the set\n",
    "non_fruits = {'date'}\n",
    "fruits.difference_update(non_fruits)\n",
    "\n",
    "print(fruits)"
   ]
  },
  {
   "cell_type": "markdown",
   "id": "0b0701fc",
   "metadata": {},
   "source": [
    "Question: Create three sets, set1, set2, and set3, with elements 'apple', 'banana', 'cherry', and 'date'. Using methods, find the elements that are unique to each set (not present in the other sets) and store the results in three separate sets."
   ]
  },
  {
   "cell_type": "code",
   "execution_count": 18,
   "id": "b20de82d",
   "metadata": {},
   "outputs": [
    {
     "name": "stdout",
     "output_type": "stream",
     "text": [
      "{'apple'}\n",
      "{'elderberry'}\n",
      "{'grape', 'fig'}\n"
     ]
    }
   ],
   "source": [
    "# Creating sets\n",
    "set1 = {'apple', 'banana', 'cherry', 'date'}\n",
    "set2 = {'banana', 'date', 'elderberry'}\n",
    "set3 = {'cherry', 'fig', 'grape'}\n",
    "\n",
    "# Finding unique elements in each set\n",
    "unique_set1 = set1.difference(set2.union(set3))\n",
    "unique_set2 = set2.difference(set1.union(set3))\n",
    "unique_set3 = set3.difference(set1.union(set2))\n",
    "\n",
    "print(unique_set1)\n",
    "print(unique_set2)\n",
    "print(unique_set3)"
   ]
  },
  {
   "cell_type": "markdown",
   "id": "94f3ab76",
   "metadata": {},
   "source": [
    "Question: Create two sets, set1 and set2, with elements 'apple', 'banana', 'cherry', and 'date'. Using a method, find the elements that are common between the two sets and store the result in a new set called common_elements."
   ]
  },
  {
   "cell_type": "code",
   "execution_count": 19,
   "id": "11146c23",
   "metadata": {},
   "outputs": [
    {
     "name": "stdout",
     "output_type": "stream",
     "text": [
      "{'date', 'banana'}\n"
     ]
    }
   ],
   "source": [
    "# Creating sets\n",
    "set1 = {'apple', 'banana', 'cherry', 'date'}\n",
    "set2 = {'banana', 'date', 'elderberry'}\n",
    "\n",
    "# Finding common elements between set1 and set2\n",
    "common_elements = set1.intersection(set2)\n",
    "print(common_elements)"
   ]
  },
  {
   "cell_type": "markdown",
   "id": "cd5fa9b7",
   "metadata": {},
   "source": [
    "Question: Create a set fruits with elements 'apple', 'banana', and 'cherry'. Using a method, remove 'banana' from the set fruits if it exists, otherwise, do nothing."
   ]
  },
  {
   "cell_type": "code",
   "execution_count": 20,
   "id": "990177f1",
   "metadata": {},
   "outputs": [
    {
     "name": "stdout",
     "output_type": "stream",
     "text": [
      "{'cherry', 'apple'}\n"
     ]
    }
   ],
   "source": [
    "# Creating a set\n",
    "fruits = {'apple', 'banana', 'cherry'}\n",
    "\n",
    "# Removing 'banana' if it exists\n",
    "fruits.discard('banana')\n",
    "print(fruits)"
   ]
  },
  {
   "cell_type": "markdown",
   "id": "2093c7ef",
   "metadata": {},
   "source": [
    "Question: Create two sets, set1 and set2, with elements 'apple', 'banana', 'cherry', and 'date'. Using a method, update set1 to contain all elements from both set1 and set2, but only those that are not common between them."
   ]
  },
  {
   "cell_type": "code",
   "execution_count": 21,
   "id": "4af0f23e",
   "metadata": {},
   "outputs": [
    {
     "name": "stdout",
     "output_type": "stream",
     "text": [
      "{'date', 'cherry', 'apple'}\n"
     ]
    }
   ],
   "source": [
    "# Creating sets\n",
    "set1 = {'apple', 'banana', 'cherry'}\n",
    "set2 = {'banana', 'date'}\n",
    "\n",
    "# Updating set1 with elements not common between set1 and set2\n",
    "set1.symmetric_difference_update(set2)\n",
    "print(set1)"
   ]
  },
  {
   "cell_type": "markdown",
   "id": "0b1d7f1a",
   "metadata": {},
   "source": [
    "Question: Create three sets, set1, set2, and set3, with elements 'apple', 'banana', 'cherry', 'date', and 'elderberry'. Using a method, find the union of set1 and set2, and then find the intersection of the result with set3."
   ]
  },
  {
   "cell_type": "code",
   "execution_count": 22,
   "id": "db444bd0",
   "metadata": {},
   "outputs": [
    {
     "name": "stdout",
     "output_type": "stream",
     "text": [
      "{'cherry'}\n"
     ]
    }
   ],
   "source": [
    "# Creating sets\n",
    "set1 = {'apple', 'banana', 'cherry'}\n",
    "set2 = {'banana', 'date'}\n",
    "set3 = {'cherry', 'elderberry'}\n",
    "\n",
    "# Finding union of set1 and set2, then intersecting with set3\n",
    "result = (set1.union(set2)).intersection(set3)\n",
    "print(result)"
   ]
  },
  {
   "cell_type": "markdown",
   "id": "6e006055",
   "metadata": {},
   "source": [
    "Question: Write a Python function that finds the intersection of multiple sets."
   ]
  },
  {
   "cell_type": "code",
   "execution_count": 24,
   "id": "19fb4004",
   "metadata": {},
   "outputs": [
    {
     "name": "stdout",
     "output_type": "stream",
     "text": [
      "{5}\n"
     ]
    }
   ],
   "source": [
    "def intersection_of_sets(*args):\n",
    "    if not args:\n",
    "        return set()\n",
    "    \n",
    "    result = args[0]\n",
    "    \n",
    "    for s in args[1:]:\n",
    "        result = result.intersection(s)\n",
    "    \n",
    "    return result\n",
    "\n",
    "# Example usage:\n",
    "set1 = {1, 2, 3, 4, 5}\n",
    "set2 = {3, 4, 5, 6, 7}\n",
    "set3 = {5, 6, 7, 8, 9}\n",
    "\n",
    "result = intersection_of_sets(set1, set2, set3)\n",
    "print(result)"
   ]
  },
  {
   "cell_type": "markdown",
   "id": "39f49970",
   "metadata": {},
   "source": [
    "Question: Write a Python function that calculates the Jaccard similarity coefficient between two sets."
   ]
  },
  {
   "cell_type": "code",
   "execution_count": 25,
   "id": "4b387694",
   "metadata": {},
   "outputs": [
    {
     "name": "stdout",
     "output_type": "stream",
     "text": [
      "0.42857142857142855\n"
     ]
    }
   ],
   "source": [
    "def jaccard_similarity(set1, set2):\n",
    "    intersection = len(set1.intersection(set2))\n",
    "    union = len(set1.union(set2))\n",
    "    \n",
    "    if union == 0:\n",
    "        return 0.0\n",
    "    \n",
    "    return intersection / union\n",
    "\n",
    "# Example usage:\n",
    "setA = {1, 2, 3, 4, 5}\n",
    "setB = {3, 4, 5, 6, 7}\n",
    "\n",
    "similarity = jaccard_similarity(setA, setB)\n",
    "print(similarity)"
   ]
  },
  {
   "cell_type": "markdown",
   "id": "bd9ec437",
   "metadata": {},
   "source": [
    "Question: Write a Python function that removes duplicate elements from a list while preserving the order."
   ]
  },
  {
   "cell_type": "code",
   "execution_count": 26,
   "id": "6ed6d530",
   "metadata": {},
   "outputs": [
    {
     "name": "stdout",
     "output_type": "stream",
     "text": [
      "[1, 2, 3, 4, 5]\n"
     ]
    }
   ],
   "source": [
    "def remove_duplicates(input_list):\n",
    "    seen = set()\n",
    "    result = []\n",
    "    \n",
    "    for item in input_list:\n",
    "        if item not in seen:\n",
    "            result.append(item)\n",
    "            seen.add(item)\n",
    "    \n",
    "    return result\n",
    "\n",
    "# Example usage:\n",
    "my_list = [1, 2, 2, 3, 4, 4, 5]\n",
    "unique_list = remove_duplicates(my_list)\n",
    "print(unique_list)"
   ]
  },
  {
   "cell_type": "markdown",
   "id": "2f83e225",
   "metadata": {},
   "source": [
    "Question: Write a Python function that finds the symmetric difference of multiple sets."
   ]
  },
  {
   "cell_type": "code",
   "execution_count": 27,
   "id": "3b83e15a",
   "metadata": {},
   "outputs": [
    {
     "name": "stdout",
     "output_type": "stream",
     "text": [
      "{1, 2, 5, 8, 9}\n"
     ]
    }
   ],
   "source": [
    "def symmetric_difference_of_sets(*args):\n",
    "    if not args:\n",
    "        return set()\n",
    "    \n",
    "    result = args[0]\n",
    "    \n",
    "    for s in args[1:]:\n",
    "        result = result.symmetric_difference(s)\n",
    "    \n",
    "    return result\n",
    "\n",
    "# Example usage:\n",
    "set1 = {1, 2, 3, 4, 5}\n",
    "set2 = {3, 4, 5, 6, 7}\n",
    "set3 = {5, 6, 7, 8, 9}\n",
    "\n",
    "result = symmetric_difference_of_sets(set1, set2, set3)\n",
    "print(result)"
   ]
  },
  {
   "cell_type": "markdown",
   "id": "6ec1f0e7",
   "metadata": {},
   "source": [
    "Question: Write a Python function that checks if one set is a proper subset of another set (not equal)."
   ]
  },
  {
   "cell_type": "code",
   "execution_count": 28,
   "id": "e797c02a",
   "metadata": {},
   "outputs": [
    {
     "name": "stdout",
     "output_type": "stream",
     "text": [
      "True\n"
     ]
    }
   ],
   "source": [
    "def is_proper_subset(set1, set2):\n",
    "    return set1.issubset(set2) and set1 != set2\n",
    "\n",
    "# Example usage:\n",
    "setA = {1, 2, 3}\n",
    "setB = {1, 2, 3, 4, 5}\n",
    "\n",
    "result = is_proper_subset(setA, setB)\n",
    "print(result)"
   ]
  },
  {
   "cell_type": "markdown",
   "id": "4a5ded82",
   "metadata": {},
   "source": [
    "Question: Write a Python function that generates the power set of a given set (all possible subsets, including the empty set and the set itself)."
   ]
  },
  {
   "cell_type": "code",
   "execution_count": 29,
   "id": "f9df55a0",
   "metadata": {},
   "outputs": [
    {
     "name": "stdout",
     "output_type": "stream",
     "text": [
      "[set(), {1}, {2}, {3}, {1, 2}, {1, 3}, {2, 3}, {1, 2, 3}]\n"
     ]
    }
   ],
   "source": [
    "def power_set(input_set):\n",
    "    from itertools import chain, combinations\n",
    "    \n",
    "    input_list = list(input_set)\n",
    "    subsets = []\n",
    "    \n",
    "    for subset_length in range(len(input_list) + 1):\n",
    "        for subset in combinations(input_list, subset_length):\n",
    "            subsets.append(set(subset))\n",
    "    \n",
    "    return subsets\n",
    "\n",
    "# Example usage:\n",
    "my_set = {1, 2, 3}\n",
    "all_subsets = power_set(my_set)\n",
    "print(all_subsets)"
   ]
  },
  {
   "cell_type": "markdown",
   "id": "9b1f176a",
   "metadata": {},
   "source": [
    "Question: Write a Python function that calculates the Jaccard similarity between two sets."
   ]
  },
  {
   "cell_type": "code",
   "execution_count": 30,
   "id": "5f220285",
   "metadata": {},
   "outputs": [
    {
     "name": "stdout",
     "output_type": "stream",
     "text": [
      "0.3333333333333333\n"
     ]
    }
   ],
   "source": [
    "def jaccard_similarity(set1, set2):\n",
    "    intersection = len(set1.intersection(set2))\n",
    "    union = len(set1.union(set2))\n",
    "    return intersection / union\n",
    "\n",
    "# Example usage:\n",
    "setA = {1, 2, 3, 4}\n",
    "setB = {3, 4, 5, 6}\n",
    "\n",
    "similarity = jaccard_similarity(setA, setB)\n",
    "print(similarity)"
   ]
  },
  {
   "cell_type": "markdown",
   "id": "e702b190",
   "metadata": {},
   "source": [
    "Question: Write a Python function that calculates the symmetric difference of a list of sets and stores the result in a new set."
   ]
  },
  {
   "cell_type": "code",
   "execution_count": 31,
   "id": "ce11535a",
   "metadata": {},
   "outputs": [
    {
     "name": "stdout",
     "output_type": "stream",
     "text": [
      "{1, 2, 7, 8}\n"
     ]
    }
   ],
   "source": [
    "def symmetric_difference_of_sets(sets):\n",
    "    if not sets:\n",
    "        return set()\n",
    "    \n",
    "    result = sets[0].copy()\n",
    "    \n",
    "    for s in sets[1:]:\n",
    "        result.symmetric_difference_update(s)\n",
    "    \n",
    "    return result\n",
    "\n",
    "# Example usage:\n",
    "set1 = {1, 2, 3, 4}\n",
    "set2 = {3, 4, 5, 6}\n",
    "set3 = {5, 6, 7, 8}\n",
    "\n",
    "result = symmetric_difference_of_sets([set1, set2, set3])\n",
    "print(result)"
   ]
  },
  {
   "cell_type": "markdown",
   "id": "6172df48",
   "metadata": {},
   "source": [
    "Question: Write a Python function that returns the Cartesian product of multiple sets."
   ]
  },
  {
   "cell_type": "code",
   "execution_count": 32,
   "id": "79ccfaa3",
   "metadata": {},
   "outputs": [
    {
     "name": "stdout",
     "output_type": "stream",
     "text": [
      "{(2, 'a', False), (1, 'a', True), (2, 'b', False), (1, 'a', False), (1, 'b', True), (2, 'a', True), (1, 'b', False), (2, 'b', True)}\n"
     ]
    }
   ],
   "source": [
    "def cartesian_product(sets):\n",
    "    from itertools import product\n",
    "    return set(product(*sets))\n",
    "\n",
    "# Example usage:\n",
    "setA = {1, 2}\n",
    "setB = {'a', 'b'}\n",
    "setC = {True, False}\n",
    "\n",
    "result = cartesian_product([setA, setB, setC])\n",
    "print(result)"
   ]
  },
  {
   "cell_type": "markdown",
   "id": "54e0d387",
   "metadata": {},
   "source": [
    "Question: Write a Python function that finds the intersection of multiple sets."
   ]
  },
  {
   "cell_type": "code",
   "execution_count": 33,
   "id": "4a40c2e0",
   "metadata": {},
   "outputs": [
    {
     "name": "stdout",
     "output_type": "stream",
     "text": [
      "{4}\n"
     ]
    }
   ],
   "source": [
    "def intersection_of_sets(sets):\n",
    "    if not sets:\n",
    "        return set()\n",
    "    \n",
    "    result = sets[0].copy()\n",
    "    \n",
    "    for s in sets[1:]:\n",
    "        result.intersection_update(s)\n",
    "    \n",
    "    return result\n",
    "\n",
    "# Example usage:\n",
    "set1 = {1, 2, 3, 4}\n",
    "set2 = {3, 4, 5, 6}\n",
    "set3 = {4, 5, 6, 7}\n",
    "\n",
    "result = intersection_of_sets([set1, set2, set3])\n",
    "print(result)"
   ]
  },
  {
   "cell_type": "markdown",
   "id": "2aa7ad08",
   "metadata": {},
   "source": [
    "Question: Write a Python function that checks if one set is a subset of all other sets in a list."
   ]
  },
  {
   "cell_type": "code",
   "execution_count": 34,
   "id": "4b26b082",
   "metadata": {},
   "outputs": [
    {
     "name": "stdout",
     "output_type": "stream",
     "text": [
      "False\n"
     ]
    }
   ],
   "source": [
    "def is_subset_of_all(subset, sets):\n",
    "    return all(subset.issubset(s) for s in sets)\n",
    "\n",
    "# Example usage:\n",
    "setA = {1, 2}\n",
    "setB = {1, 2, 3, 4}\n",
    "setC = {2, 3}\n",
    "\n",
    "result = is_subset_of_all(setA, [setB, setC])\n",
    "print(result)"
   ]
  },
  {
   "cell_type": "markdown",
   "id": "ba87b97f",
   "metadata": {},
   "source": [
    "Question: Write a Python function that calculates the power set (all possible subsets) of a given set."
   ]
  },
  {
   "cell_type": "code",
   "execution_count": 35,
   "id": "6e84e647",
   "metadata": {},
   "outputs": [
    {
     "name": "stdout",
     "output_type": "stream",
     "text": [
      "[(), (1,), (2,), (3,), (1, 2), (1, 3), (2, 3), (1, 2, 3)]\n"
     ]
    }
   ],
   "source": [
    "def power_set(input_set):\n",
    "    from itertools import chain, combinations\n",
    "    input_list = list(input_set)\n",
    "    return list(chain.from_iterable(combinations(input_list, r) for r in range(len(input_list) + 1)))\n",
    "\n",
    "# Example usage:\n",
    "input_set = {1, 2, 3}\n",
    "\n",
    "result = power_set(input_set)\n",
    "print(result)"
   ]
  },
  {
   "cell_type": "markdown",
   "id": "dbd1ccb5",
   "metadata": {},
   "source": [
    "Question: Write a Python function that finds the symmetric difference of multiple sets."
   ]
  },
  {
   "cell_type": "code",
   "execution_count": 36,
   "id": "1b1c998b",
   "metadata": {},
   "outputs": [
    {
     "name": "stdout",
     "output_type": "stream",
     "text": [
      "{1, 2, 4, 7}\n"
     ]
    }
   ],
   "source": [
    "def symmetric_difference_of_sets(sets):\n",
    "    if not sets:\n",
    "        return set()\n",
    "    \n",
    "    result = sets[0].copy()\n",
    "    \n",
    "    for s in sets[1:]:\n",
    "        result.symmetric_difference_update(s)\n",
    "    \n",
    "    return result\n",
    "\n",
    "# Example usage:\n",
    "set1 = {1, 2, 3, 4}\n",
    "set2 = {3, 4, 5, 6}\n",
    "set3 = {4, 5, 6, 7}\n",
    "\n",
    "result = symmetric_difference_of_sets([set1, set2, set3])\n",
    "print(result)"
   ]
  },
  {
   "cell_type": "markdown",
   "id": "2884333a",
   "metadata": {},
   "source": [
    "Question: Write a Python function that checks if two sets are disjoint (have no common elements)."
   ]
  },
  {
   "cell_type": "code",
   "execution_count": 37,
   "id": "2eb3763d",
   "metadata": {},
   "outputs": [
    {
     "name": "stdout",
     "output_type": "stream",
     "text": [
      "True\n"
     ]
    }
   ],
   "source": [
    "def are_disjoint(set1, set2):\n",
    "    return set1.isdisjoint(set2)\n",
    "\n",
    "# Example usage:\n",
    "setA = {1, 2, 3}\n",
    "setB = {4, 5, 6}\n",
    "\n",
    "result = are_disjoint(setA, setB)\n",
    "print(result)"
   ]
  },
  {
   "cell_type": "markdown",
   "id": "4bca10a8",
   "metadata": {},
   "source": [
    "Question: Write a Python function that calculates the Jaccard similarity coefficient between two sets."
   ]
  },
  {
   "cell_type": "code",
   "execution_count": 38,
   "id": "b217f04c",
   "metadata": {},
   "outputs": [
    {
     "name": "stdout",
     "output_type": "stream",
     "text": [
      "0.3333333333333333\n"
     ]
    }
   ],
   "source": [
    "def jaccard_similarity(set1, set2):\n",
    "    intersection = len(set1.intersection(set2))\n",
    "    union = len(set1.union(set2))\n",
    "    return intersection / union if union != 0 else 0\n",
    "\n",
    "# Example usage:\n",
    "setA = {1, 2, 3, 4}\n",
    "setB = {3, 4, 5, 6}\n",
    "\n",
    "result = jaccard_similarity(setA, setB)\n",
    "print(result)"
   ]
  },
  {
   "cell_type": "markdown",
   "id": "47eb41cc",
   "metadata": {},
   "source": [
    "Question: Write a Python function that returns the set with the maximum number of elements from a list of sets."
   ]
  },
  {
   "cell_type": "code",
   "execution_count": 39,
   "id": "425657f5",
   "metadata": {},
   "outputs": [
    {
     "name": "stdout",
     "output_type": "stream",
     "text": [
      "{8, 9, 6, 7}\n"
     ]
    }
   ],
   "source": [
    "def max_set(sets):\n",
    "    return max(sets, key=len) if sets else set()\n",
    "\n",
    "# Example usage:\n",
    "set1 = {1, 2, 3}\n",
    "set2 = {4, 5}\n",
    "set3 = {6, 7, 8, 9}\n",
    "\n",
    "result = max_set([set1, set2, set3])\n",
    "print(result)"
   ]
  },
  {
   "cell_type": "markdown",
   "id": "7b19c4e6",
   "metadata": {},
   "source": [
    "Question: Write a Python function that computes the Cartesian product of two sets."
   ]
  },
  {
   "cell_type": "code",
   "execution_count": 40,
   "id": "a888c116",
   "metadata": {},
   "outputs": [
    {
     "name": "stdout",
     "output_type": "stream",
     "text": [
      "{(2, 'A'), (1, 'B'), (1, 'A'), (2, 'B')}\n"
     ]
    }
   ],
   "source": [
    "def cartesian_product(set1, set2):\n",
    "    from itertools import product\n",
    "    return set(product(set1, set2))\n",
    "\n",
    "# Example usage:\n",
    "setA = {1, 2}\n",
    "setB = {'A', 'B'}\n",
    "\n",
    "result = cartesian_product(setA, setB)\n",
    "print(result)"
   ]
  },
  {
   "cell_type": "markdown",
   "id": "fd22ff06",
   "metadata": {},
   "source": [
    "Question: Write a Python function that finds the difference between two sets but retains only elements that are multiples of 3."
   ]
  },
  {
   "cell_type": "code",
   "execution_count": 41,
   "id": "a281050f",
   "metadata": {},
   "outputs": [
    {
     "name": "stdout",
     "output_type": "stream",
     "text": [
      "{3, 6}\n"
     ]
    }
   ],
   "source": [
    "def difference_with_condition(set1, set2):\n",
    "    return {x for x in set1.difference(set2) if x % 3 == 0}\n",
    "\n",
    "# Example usage:\n",
    "setA = {1, 2, 3, 4, 5, 6}\n",
    "setB = {4, 5}\n",
    "\n",
    "result = difference_with_condition(setA, setB)\n",
    "print(result)"
   ]
  },
  {
   "cell_type": "markdown",
   "id": "01f1df44",
   "metadata": {},
   "source": [
    "Question: Write a Python function that finds the union of multiple sets."
   ]
  },
  {
   "cell_type": "code",
   "execution_count": 42,
   "id": "9f0df392",
   "metadata": {},
   "outputs": [
    {
     "name": "stdout",
     "output_type": "stream",
     "text": [
      "{1, 2, 3, 4, 5, 6, 7}\n"
     ]
    }
   ],
   "source": [
    "def union_of_sets(sets):\n",
    "    result = set()\n",
    "    \n",
    "    for s in sets:\n",
    "        result.update(s)\n",
    "    \n",
    "    return result\n",
    "\n",
    "# Example usage:\n",
    "set1 = {1, 2, 3}\n",
    "set2 = {3, 4, 5}\n",
    "set3 = {5, 6, 7}\n",
    "\n",
    "result = union_of_sets([set1, set2, set3])\n",
    "print(result)"
   ]
  },
  {
   "cell_type": "markdown",
   "id": "fa4ae984",
   "metadata": {},
   "source": [
    "Question: Write a Python function that calculates the Jaccard similarity between two sets. The Jaccard similarity is defined as the size of the intersection divided by the size of the union of two sets."
   ]
  },
  {
   "cell_type": "code",
   "execution_count": 43,
   "id": "deef0e68",
   "metadata": {},
   "outputs": [
    {
     "name": "stdout",
     "output_type": "stream",
     "text": [
      "0.3333333333333333\n"
     ]
    }
   ],
   "source": [
    "def jaccard_similarity(set1, set2):\n",
    "    intersection = len(set1.intersection(set2))\n",
    "    union = len(set1.union(set2))\n",
    "    return intersection / union\n",
    "\n",
    "# Example usage:\n",
    "setA = {1, 2, 3, 4}\n",
    "setB = {3, 4, 5, 6}\n",
    "\n",
    "result = jaccard_similarity(setA, setB)\n",
    "print(result)"
   ]
  },
  {
   "cell_type": "markdown",
   "id": "9f3bf576",
   "metadata": {},
   "source": [
    "Question: Write a Python function that returns a set containing all elements that occur an odd number of times in a list."
   ]
  },
  {
   "cell_type": "code",
   "execution_count": 44,
   "id": "59373e1e",
   "metadata": {},
   "outputs": [
    {
     "name": "stdout",
     "output_type": "stream",
     "text": [
      "{1, 3}\n"
     ]
    }
   ],
   "source": [
    "def odd_occurrences(elements):\n",
    "    count_dict = {}\n",
    "    \n",
    "    for element in elements:\n",
    "        if element in count_dict:\n",
    "            count_dict[element] += 1\n",
    "        else:\n",
    "            count_dict[element] = 1\n",
    "\n",
    "    result = {element for element, count in count_dict.items() if count % 2 != 0}\n",
    "    return result\n",
    "\n",
    "# Example usage:\n",
    "my_list = [1, 2, 2, 3, 3, 3, 4, 4]\n",
    "\n",
    "result = odd_occurrences(my_list)\n",
    "print(result)"
   ]
  },
  {
   "cell_type": "markdown",
   "id": "e5a95dc4",
   "metadata": {},
   "source": [
    "Question: Write a Python function that checks if a set is a proper subset of another set. A proper subset is a subset that is not equal to the original set."
   ]
  },
  {
   "cell_type": "code",
   "execution_count": 45,
   "id": "9e01e695",
   "metadata": {},
   "outputs": [
    {
     "name": "stdout",
     "output_type": "stream",
     "text": [
      "True\n"
     ]
    }
   ],
   "source": [
    "def is_proper_subset(set1, set2):\n",
    "    return set1.issubset(set2) and set1 != set2\n",
    "\n",
    "# Example usage:\n",
    "setA = {1, 2}\n",
    "setB = {1, 2, 3, 4}\n",
    "\n",
    "result = is_proper_subset(setA, setB)\n",
    "print(result)"
   ]
  },
  {
   "cell_type": "markdown",
   "id": "43c6bc7f",
   "metadata": {},
   "source": [
    "Question: Write a Python function that generates the power set (set of all subsets) of a given set."
   ]
  },
  {
   "cell_type": "code",
   "execution_count": 46,
   "id": "b333158e",
   "metadata": {},
   "outputs": [
    {
     "name": "stdout",
     "output_type": "stream",
     "text": [
      "{frozenset({2}), frozenset({2, 3}), frozenset({1, 2, 3}), frozenset({1, 2}), frozenset({3}), frozenset({1}), frozenset(), frozenset({1, 3})}\n"
     ]
    }
   ],
   "source": [
    "def power_set(input_set):\n",
    "    if not input_set:\n",
    "        return {frozenset()}\n",
    "    \n",
    "    element = input_set.pop()\n",
    "    subsets = power_set(input_set)\n",
    "    return subsets.union({s.union({element}) for s in subsets})\n",
    "\n",
    "# Example usage:\n",
    "my_set = {1, 2, 3}\n",
    "\n",
    "result = power_set(my_set)\n",
    "print(result)"
   ]
  },
  {
   "cell_type": "markdown",
   "id": "1404dfa8",
   "metadata": {},
   "source": [
    "Question: Write a Python function that finds the symmetric difference between two sets but retains only elements that are prime numbers."
   ]
  },
  {
   "cell_type": "code",
   "execution_count": 47,
   "id": "87dc23e9",
   "metadata": {},
   "outputs": [
    {
     "name": "stdout",
     "output_type": "stream",
     "text": [
      "{2, 3, 7}\n"
     ]
    }
   ],
   "source": [
    "def symmetric_difference_with_primes(set1, set2):\n",
    "    def is_prime(num):\n",
    "        if num < 2:\n",
    "            return False\n",
    "        for i in range(2, int(num**0.5) + 1):\n",
    "            if num % i == 0:\n",
    "                return False\n",
    "        return True\n",
    "\n",
    "    symmetric_diff = set1.symmetric_difference(set2)\n",
    "    result = {x for x in symmetric_diff if is_prime(x)}\n",
    "    return result\n",
    "\n",
    "# Example usage:\n",
    "setA = {1, 2, 3, 4, 5}\n",
    "setB = {4, 5, 6, 7, 8}\n",
    "\n",
    "result = symmetric_difference_with_primes(setA, setB)\n",
    "print(result)"
   ]
  }
 ],
 "metadata": {
  "kernelspec": {
   "display_name": "Python 3 (ipykernel)",
   "language": "python",
   "name": "python3"
  },
  "language_info": {
   "codemirror_mode": {
    "name": "ipython",
    "version": 3
   },
   "file_extension": ".py",
   "mimetype": "text/x-python",
   "name": "python",
   "nbconvert_exporter": "python",
   "pygments_lexer": "ipython3",
   "version": "3.9.13"
  },
  "toc": {
   "base_numbering": 1,
   "nav_menu": {},
   "number_sections": true,
   "sideBar": true,
   "skip_h1_title": false,
   "title_cell": "Table of Contents",
   "title_sidebar": "Contents",
   "toc_cell": false,
   "toc_position": {},
   "toc_section_display": true,
   "toc_window_display": false
  }
 },
 "nbformat": 4,
 "nbformat_minor": 5
}
