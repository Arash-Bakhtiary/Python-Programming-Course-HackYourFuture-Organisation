{
 "cells": [
  {
   "cell_type": "markdown",
   "id": "dbee02f3",
   "metadata": {},
   "source": [
    "# Set Methods (Basic)"
   ]
  },
  {
   "cell_type": "markdown",
   "id": "ca9ffa6b",
   "metadata": {},
   "source": [
    "Question: Add 'orange' to the set."
   ]
  },
  {
   "cell_type": "code",
   "execution_count": 1,
   "id": "a8531223",
   "metadata": {},
   "outputs": [
    {
     "name": "stdout",
     "output_type": "stream",
     "text": [
      "{'cherry', 'banana', 'orange', 'apple'}\n"
     ]
    }
   ],
   "source": [
    "fruits = {'apple', 'banana', 'cherry'}\n",
    "fruits.add('orange')\n",
    "print(fruits)"
   ]
  },
  {
   "cell_type": "markdown",
   "id": "21f46469",
   "metadata": {},
   "source": [
    "Question: Remove 'cherry' from the set."
   ]
  },
  {
   "cell_type": "code",
   "execution_count": 2,
   "id": "20e6967a",
   "metadata": {},
   "outputs": [
    {
     "name": "stdout",
     "output_type": "stream",
     "text": [
      "{'banana', 'apple'}\n"
     ]
    }
   ],
   "source": [
    "fruits = {'apple', 'banana', 'cherry'}\n",
    "fruits.remove('cherry')\n",
    "print(fruits)"
   ]
  },
  {
   "cell_type": "markdown",
   "id": "113e3482",
   "metadata": {},
   "source": [
    "Question: Create a copy of the set."
   ]
  },
  {
   "cell_type": "code",
   "execution_count": 3,
   "id": "2181ab25",
   "metadata": {},
   "outputs": [
    {
     "name": "stdout",
     "output_type": "stream",
     "text": [
      "{'cherry', 'banana', 'apple'}\n"
     ]
    }
   ],
   "source": [
    "fruits = {'apple', 'banana', 'cherry'}\n",
    "fruits_copy = fruits.copy()\n",
    "print(fruits_copy)"
   ]
  },
  {
   "cell_type": "markdown",
   "id": "068d6296",
   "metadata": {},
   "source": [
    "Question: Clear all elements from the set."
   ]
  },
  {
   "cell_type": "code",
   "execution_count": 4,
   "id": "903ebbf1",
   "metadata": {},
   "outputs": [
    {
     "name": "stdout",
     "output_type": "stream",
     "text": [
      "set()\n"
     ]
    }
   ],
   "source": [
    "fruits = {'apple', 'banana', 'cherry'}\n",
    "fruits.clear()\n",
    "print(fruits)"
   ]
  },
  {
   "cell_type": "markdown",
   "id": "87c999bd",
   "metadata": {},
   "source": [
    "Question: Create a new set with elements 'banana', 'cherry', and 'date'. Find the union of the two sets."
   ]
  },
  {
   "cell_type": "code",
   "execution_count": 5,
   "id": "ddf5d986",
   "metadata": {},
   "outputs": [
    {
     "name": "stdout",
     "output_type": "stream",
     "text": [
      "{'date', 'apple', 'cherry', 'banana'}\n"
     ]
    }
   ],
   "source": [
    "new_fruits = {'banana', 'cherry', 'date'}\n",
    "\n",
    "# Finding the union of the two sets\n",
    "union_result = fruits_copy.union(new_fruits)\n",
    "print(union_result)"
   ]
  },
  {
   "cell_type": "markdown",
   "id": "2bd19e04",
   "metadata": {},
   "source": [
    "Question: Question: Create a new set with elements 'banana' and 'cherry'. Find the intersection of the two sets."
   ]
  },
  {
   "cell_type": "code",
   "execution_count": 6,
   "id": "44c4be25",
   "metadata": {},
   "outputs": [
    {
     "name": "stdout",
     "output_type": "stream",
     "text": [
      "{'cherry', 'banana'}\n"
     ]
    }
   ],
   "source": [
    "new_fruits = {'banana', 'cherry'}\n",
    "# Finding the intersection of the two sets\n",
    "intersection_result = fruits_copy.intersection(new_fruits)\n",
    "print(intersection_result)"
   ]
  },
  {
   "cell_type": "markdown",
   "id": "506f20b7",
   "metadata": {},
   "source": [
    "Question: Create a new set with elements 'date' and 'elderberry'. Find the symmetric difference of the two sets."
   ]
  },
  {
   "cell_type": "code",
   "execution_count": 7,
   "id": "b5d378b8",
   "metadata": {},
   "outputs": [
    {
     "name": "stdout",
     "output_type": "stream",
     "text": [
      "{'date', 'cherry', 'banana', 'elderberry', 'apple'}\n"
     ]
    }
   ],
   "source": [
    "new_fruits = {'date', 'elderberry'}\n",
    "# Finding the symmetric difference of the two sets\n",
    "symmetric_difference_result = fruits_copy.symmetric_difference(new_fruits)\n",
    "print(symmetric_difference_result)"
   ]
  },
  {
   "cell_type": "markdown",
   "id": "36a0ca79",
   "metadata": {},
   "source": [
    "Question: Create a new set with elements 'banana' and 'cherry'. Update the original set with the elements from the new set."
   ]
  },
  {
   "cell_type": "code",
   "execution_count": 8,
   "id": "4fd74c4f",
   "metadata": {},
   "outputs": [
    {
     "name": "stdout",
     "output_type": "stream",
     "text": [
      "{'apple', 'cherry', 'banana'}\n"
     ]
    }
   ],
   "source": [
    "new_fruits = {'banana', 'cherry'}\n",
    "\n",
    "fruits_copy.update(new_fruits)\n",
    "print(fruits_copy)"
   ]
  },
  {
   "cell_type": "markdown",
   "id": "07c0675e",
   "metadata": {},
   "source": [
    "Question: Check if the original set is a subset of the new set."
   ]
  },
  {
   "cell_type": "code",
   "execution_count": 9,
   "id": "995c9954",
   "metadata": {},
   "outputs": [
    {
     "name": "stdout",
     "output_type": "stream",
     "text": [
      "True\n"
     ]
    }
   ],
   "source": [
    "new_fruits = {'apple', 'banana', 'cherry', 'date', 'elderberry'}\n",
    "\n",
    "# Checking if the original set is a subset\n",
    "is_subset = fruits_copy.issubset(new_fruits)\n",
    "print(is_subset)"
   ]
  },
  {
   "cell_type": "markdown",
   "id": "964d553f",
   "metadata": {},
   "source": [
    "Question: Check if the original set is disjoint from the new set."
   ]
  },
  {
   "cell_type": "code",
   "execution_count": 11,
   "id": "16b91163",
   "metadata": {},
   "outputs": [
    {
     "name": "stdout",
     "output_type": "stream",
     "text": [
      "True\n"
     ]
    }
   ],
   "source": [
    "new_fruits = {'date', 'elderberry'}\n",
    "# Checking if the sets are disjoint\n",
    "is_disjoint = fruits_copy.isdisjoint(new_fruits)\n",
    "print(is_disjoint)"
   ]
  },
  {
   "cell_type": "markdown",
   "id": "fb74b271",
   "metadata": {},
   "source": [
    "Question: Create a new set with elements 'cherry' and 'date'. Find the difference between the original set and the new set."
   ]
  },
  {
   "cell_type": "code",
   "execution_count": 12,
   "id": "d8c3db2e",
   "metadata": {},
   "outputs": [
    {
     "name": "stdout",
     "output_type": "stream",
     "text": [
      "{'banana', 'apple'}\n"
     ]
    }
   ],
   "source": [
    "new_fruits = {'cherry', 'date'}\n",
    "# Finding the difference between the sets\n",
    "difference_result = fruits_copy.difference(new_fruits)\n",
    "print(difference_result)"
   ]
  },
  {
   "cell_type": "markdown",
   "id": "173ddfec",
   "metadata": {},
   "source": [
    "Question: Create a new set with elements 'banana' and 'cherry'. Update the original set with the elements from the new set."
   ]
  },
  {
   "cell_type": "code",
   "execution_count": 13,
   "id": "e9f36c02",
   "metadata": {},
   "outputs": [
    {
     "name": "stdout",
     "output_type": "stream",
     "text": [
      "{'apple'}\n"
     ]
    }
   ],
   "source": [
    "new_fruits = {'banana', 'cherry'}\n",
    "# Updating the original set with the difference\n",
    "fruits_copy.difference_update(new_fruits)\n",
    "print(fruits_copy)"
   ]
  },
  {
   "cell_type": "markdown",
   "id": "b3c71956",
   "metadata": {},
   "source": [
    "Question: Question: Create a new set with elements 'cherry' and 'date'. Find the symmetric difference between the original set and the new set."
   ]
  },
  {
   "cell_type": "code",
   "execution_count": 14,
   "id": "f059625c",
   "metadata": {},
   "outputs": [
    {
     "name": "stdout",
     "output_type": "stream",
     "text": [
      "{'cherry', 'date', 'apple'}\n"
     ]
    }
   ],
   "source": [
    "new_fruits = {'cherry', 'date'}\n",
    "# Finding the symmetric difference between the sets\n",
    "fruits_copy.symmetric_difference_update(new_fruits)\n",
    "print(fruits_copy)"
   ]
  },
  {
   "cell_type": "markdown",
   "id": "0363c17d",
   "metadata": {},
   "source": [
    "Question: Remove an element from the set using the discard method."
   ]
  },
  {
   "cell_type": "code",
   "execution_count": 16,
   "id": "bfd4372e",
   "metadata": {},
   "outputs": [
    {
     "name": "stdout",
     "output_type": "stream",
     "text": [
      "{'cherry', 'date'}\n"
     ]
    }
   ],
   "source": [
    "fruits_copy = {'cherry', 'date'}\n",
    "# Removing an element using discard\n",
    "fruits_copy.discard('apple')\n",
    "print(fruits_copy)"
   ]
  },
  {
   "cell_type": "markdown",
   "id": "403b3477",
   "metadata": {},
   "source": [
    "Question: Remove an element from the set using the pop method.: "
   ]
  },
  {
   "cell_type": "code",
   "execution_count": 17,
   "id": "d6b66bcc",
   "metadata": {},
   "outputs": [
    {
     "name": "stdout",
     "output_type": "stream",
     "text": [
      "cherry\n"
     ]
    }
   ],
   "source": [
    "fruits_copy = {'cherry', 'date'}\n",
    "# Removing an element using pop\n",
    "popped_element = fruits_copy.pop()\n",
    "print(popped_element)"
   ]
  },
  {
   "cell_type": "markdown",
   "id": "bb267d0c",
   "metadata": {},
   "source": [
    "Question: Create two sets, set1 and set2, with elements 'apple', 'banana', 'cherry' in set1 and 'banana', 'date', 'elderberry' in set2. Find the elements that are in set1 but not in set2."
   ]
  },
  {
   "cell_type": "code",
   "execution_count": 18,
   "id": "b46ffa0c",
   "metadata": {},
   "outputs": [
    {
     "name": "stdout",
     "output_type": "stream",
     "text": [
      "{'cherry', 'apple'}\n"
     ]
    }
   ],
   "source": [
    "# Creating sets\n",
    "set1 = {'apple', 'banana', 'cherry'}\n",
    "set2 = {'banana', 'date', 'elderberry'}\n",
    "\n",
    "# Finding elements in set1 but not in set2\n",
    "result = set1.difference(set2)\n",
    "print(result)"
   ]
  },
  {
   "cell_type": "markdown",
   "id": "6b60a1e3",
   "metadata": {},
   "source": [
    "Question: Create a set fruits with elements 'apple', 'banana', and 'cherry'. Find the intersection of fruits and set2."
   ]
  },
  {
   "cell_type": "code",
   "execution_count": 19,
   "id": "f06c9606",
   "metadata": {},
   "outputs": [
    {
     "name": "stdout",
     "output_type": "stream",
     "text": [
      "{'banana'}\n"
     ]
    }
   ],
   "source": [
    "# Creating a set\n",
    "fruits = {'apple', 'banana', 'cherry'}\n",
    "\n",
    "# Finding the intersection with set2\n",
    "intersection_result = fruits.intersection(set2)\n",
    "print(intersection_result)"
   ]
  },
  {
   "cell_type": "markdown",
   "id": "0b0701fc",
   "metadata": {},
   "source": [
    "Question: Create a set fruits with elements 'apple', 'banana', and 'cherry'. Remove 'banana' from fruits using the discard method."
   ]
  },
  {
   "cell_type": "code",
   "execution_count": 20,
   "id": "b20de82d",
   "metadata": {},
   "outputs": [
    {
     "name": "stdout",
     "output_type": "stream",
     "text": [
      "{'cherry', 'apple'}\n"
     ]
    }
   ],
   "source": [
    "# Creating a set\n",
    "fruits = {'apple', 'banana', 'cherry'}\n",
    "\n",
    "# Removing 'banana' using discard\n",
    "fruits.discard('banana')\n",
    "print(fruits)"
   ]
  },
  {
   "cell_type": "markdown",
   "id": "94f3ab76",
   "metadata": {},
   "source": [
    "Question: Create a set fruits with elements 'apple', 'banana', and 'cherry'. Check if it is disjoint from set2."
   ]
  },
  {
   "cell_type": "code",
   "execution_count": 21,
   "id": "11146c23",
   "metadata": {},
   "outputs": [
    {
     "name": "stdout",
     "output_type": "stream",
     "text": [
      "False\n"
     ]
    }
   ],
   "source": [
    "# Creating a set\n",
    "fruits = {'apple', 'banana', 'cherry'}\n",
    "\n",
    "# Checking if it is disjoint from set2\n",
    "is_disjoint = fruits.isdisjoint(set2)\n",
    "print(is_disjoint)"
   ]
  },
  {
   "cell_type": "markdown",
   "id": "cd5fa9b7",
   "metadata": {},
   "source": [
    "Question: Create two sets, set1 and set2, with elements 'apple', 'banana', 'cherry' in set1 and 'banana', 'date', 'elderberry' in set2. Find the symmetric difference between set1 and set2, and store the result in result_set."
   ]
  },
  {
   "cell_type": "code",
   "execution_count": 22,
   "id": "990177f1",
   "metadata": {},
   "outputs": [
    {
     "name": "stdout",
     "output_type": "stream",
     "text": [
      "{'date', 'cherry', 'elderberry', 'apple'}\n"
     ]
    }
   ],
   "source": [
    "# Creating sets\n",
    "set1 = {'apple', 'banana', 'cherry'}\n",
    "set2 = {'banana', 'date', 'elderberry'}\n",
    "\n",
    "# Finding the symmetric difference\n",
    "result_set = set1.symmetric_difference(set2)\n",
    "print(result_set)"
   ]
  },
  {
   "cell_type": "markdown",
   "id": "ec54439e",
   "metadata": {},
   "source": [
    "Question: Create a set set1 with elements 'apple', 'banana', and 'cherry'. Create another set set2 with elements 'banana', 'date', and 'elderberry'. Find the union of set1 and set2."
   ]
  },
  {
   "cell_type": "code",
   "execution_count": 23,
   "id": "2729a1ff",
   "metadata": {},
   "outputs": [
    {
     "name": "stdout",
     "output_type": "stream",
     "text": [
      "{'elderberry', 'date', 'apple', 'cherry', 'banana'}\n"
     ]
    }
   ],
   "source": [
    "# Creating sets\n",
    "set1 = {'apple', 'banana', 'cherry'}\n",
    "set2 = {'banana', 'date', 'elderberry'}\n",
    "\n",
    "# Finding the union of set1 and set2\n",
    "union_result = set1.union(set2)\n",
    "print(union_result)"
   ]
  },
  {
   "cell_type": "markdown",
   "id": "b74851f9",
   "metadata": {},
   "source": [
    "Question: Create a set fruits with elements 'apple', 'banana', and 'cherry'. Create another set berries with elements 'strawberry', 'blueberry', and 'cherry'. Find the intersection of fruits and berries."
   ]
  },
  {
   "cell_type": "code",
   "execution_count": 24,
   "id": "f6e63893",
   "metadata": {},
   "outputs": [
    {
     "name": "stdout",
     "output_type": "stream",
     "text": [
      "{'cherry'}\n"
     ]
    }
   ],
   "source": [
    "# Creating sets\n",
    "fruits = {'apple', 'banana', 'cherry'}\n",
    "berries = {'strawberry', 'blueberry', 'cherry'}\n",
    "\n",
    "# Finding the intersection of fruits and berries\n",
    "intersection_result = fruits.intersection(berries)\n",
    "print(intersection_result)"
   ]
  },
  {
   "cell_type": "markdown",
   "id": "fd5c0ddd",
   "metadata": {},
   "source": [
    "Question: Create a set set1 with elements 'apple', 'banana', and 'cherry'. Create another set set2 with elements 'banana', 'date', and 'elderberry'. Update set1 with elements from set2 that are not in set1."
   ]
  },
  {
   "cell_type": "code",
   "execution_count": 25,
   "id": "c607b398",
   "metadata": {},
   "outputs": [
    {
     "name": "stdout",
     "output_type": "stream",
     "text": [
      "{'elderberry', 'date', 'apple', 'cherry', 'banana'}\n"
     ]
    }
   ],
   "source": [
    "# Creating sets\n",
    "set1 = {'apple', 'banana', 'cherry'}\n",
    "set2 = {'banana', 'date', 'elderberry'}\n",
    "\n",
    "# Updating set1 with elements not in set1 from set2\n",
    "set1.update(set2.difference(set1))\n",
    "print(set1)"
   ]
  },
  {
   "cell_type": "markdown",
   "id": "91a02e76",
   "metadata": {},
   "source": [
    "Question: Create a set fruits with elements 'apple', 'banana', and 'cherry'. Check if it is a subset of set2."
   ]
  },
  {
   "cell_type": "code",
   "execution_count": 27,
   "id": "5661a5a1",
   "metadata": {},
   "outputs": [
    {
     "name": "stdout",
     "output_type": "stream",
     "text": [
      "False\n"
     ]
    }
   ],
   "source": [
    "# Creating a set\n",
    "fruits = {'apple', 'banana', 'cherry'}\n",
    "\n",
    "# Checking if it is a subset of set2\n",
    "is_subset = fruits.issubset(set2)\n",
    "print(is_subset)"
   ]
  },
  {
   "cell_type": "markdown",
   "id": "094829a5",
   "metadata": {},
   "source": [
    "Question: Create two sets set1 and set2 with elements 'apple', 'banana', and 'cherry'. Find the intersection of set1 and set2 using a method, and then update set1 with the result."
   ]
  },
  {
   "cell_type": "code",
   "execution_count": 28,
   "id": "c3ff57aa",
   "metadata": {},
   "outputs": [
    {
     "name": "stdout",
     "output_type": "stream",
     "text": [
      "{'banana'}\n"
     ]
    }
   ],
   "source": [
    "# Creating sets\n",
    "set1 = {'apple', 'banana', 'cherry'}\n",
    "set2 = {'banana', 'date', 'elderberry'}\n",
    "\n",
    "# Finding the intersection of set1 and set2 and updating set1\n",
    "set1.intersection_update(set2)\n",
    "print(set1)"
   ]
  },
  {
   "cell_type": "markdown",
   "id": "eadb66e3",
   "metadata": {},
   "source": [
    "Question: Create two sets set1 and set2 with elements 'apple', 'banana', and 'cherry'. Check if set1 is a superset of set2 using a method."
   ]
  },
  {
   "cell_type": "code",
   "execution_count": 29,
   "id": "0dc21f60",
   "metadata": {},
   "outputs": [
    {
     "name": "stdout",
     "output_type": "stream",
     "text": [
      "True\n"
     ]
    }
   ],
   "source": [
    "# Creating sets\n",
    "set1 = {'apple', 'banana', 'cherry'}\n",
    "set2 = {'banana', 'cherry'}\n",
    "\n",
    "# Checking if set1 is a superset of set2\n",
    "is_superset = set1.issuperset(set2)\n",
    "print(is_superset)"
   ]
  },
  {
   "cell_type": "markdown",
   "id": "26a88e29",
   "metadata": {},
   "source": [
    "Question: Create two sets set1 and set2 with elements 'apple', 'banana', 'cherry', and 'date'. Using a method, find the elements that are unique to each set (i.e., not common between them) and store them in separate sets unique_set1 and unique_set2."
   ]
  },
  {
   "cell_type": "code",
   "execution_count": 30,
   "id": "94e810b8",
   "metadata": {},
   "outputs": [
    {
     "name": "stdout",
     "output_type": "stream",
     "text": [
      "{'cherry', 'apple'}\n",
      "{'date'}\n"
     ]
    }
   ],
   "source": [
    "# Creating sets\n",
    "set1 = {'apple', 'banana', 'cherry'}\n",
    "set2 = {'banana', 'date'}\n",
    "\n",
    "# Finding unique elements in each set\n",
    "unique_set1 = set1.difference(set2)\n",
    "unique_set2 = set2.difference(set1)\n",
    "print(unique_set1)\n",
    "print(unique_set2)"
   ]
  },
  {
   "cell_type": "markdown",
   "id": "ac5b8d1e",
   "metadata": {},
   "source": [
    "Question: Create two sets set1 and set2 with elements 'apple', 'banana', 'cherry', and 'date'. Using a method, update set1 to contain all elements from both set1 and set2, but without any duplicates."
   ]
  },
  {
   "cell_type": "code",
   "execution_count": 31,
   "id": "785d9056",
   "metadata": {},
   "outputs": [
    {
     "name": "stdout",
     "output_type": "stream",
     "text": [
      "{'date', 'apple', 'cherry', 'banana'}\n"
     ]
    }
   ],
   "source": [
    "# Creating sets\n",
    "set1 = {'apple', 'banana', 'cherry'}\n",
    "set2 = {'banana', 'date'}\n",
    "\n",
    "# Updating set1 with elements from set2, removing duplicates\n",
    "set1.update(set2)\n",
    "print(set1)"
   ]
  },
  {
   "cell_type": "markdown",
   "id": "429a5c31",
   "metadata": {},
   "source": [
    "Question: Create three sets, set1, set2, and set3, with elements 'apple', 'banana', 'cherry', 'date', and 'elderberry'. Using a method, find the union of set1 and set2, and then find the intersection of the result with set3."
   ]
  },
  {
   "cell_type": "code",
   "execution_count": 32,
   "id": "521e4446",
   "metadata": {},
   "outputs": [
    {
     "name": "stdout",
     "output_type": "stream",
     "text": [
      "{'cherry'}\n"
     ]
    }
   ],
   "source": [
    "# Creating sets\n",
    "set1 = {'apple', 'banana', 'cherry'}\n",
    "set2 = {'banana', 'date'}\n",
    "set3 = {'cherry', 'elderberry'}\n",
    "\n",
    "# Finding union of set1 and set2, then intersecting with set3\n",
    "result = (set1.union(set2)).intersection(set3)\n",
    "print(result)"
   ]
  }
 ],
 "metadata": {
  "kernelspec": {
   "display_name": "Python 3 (ipykernel)",
   "language": "python",
   "name": "python3"
  },
  "language_info": {
   "codemirror_mode": {
    "name": "ipython",
    "version": 3
   },
   "file_extension": ".py",
   "mimetype": "text/x-python",
   "name": "python",
   "nbconvert_exporter": "python",
   "pygments_lexer": "ipython3",
   "version": "3.9.13"
  },
  "toc": {
   "base_numbering": 1,
   "nav_menu": {},
   "number_sections": true,
   "sideBar": true,
   "skip_h1_title": false,
   "title_cell": "Table of Contents",
   "title_sidebar": "Contents",
   "toc_cell": false,
   "toc_position": {},
   "toc_section_display": true,
   "toc_window_display": false
  }
 },
 "nbformat": 4,
 "nbformat_minor": 5
}
