{
 "cells": [
  {
   "cell_type": "markdown",
   "id": "dbee02f3",
   "metadata": {},
   "source": [
    "# Float Methods (Basic)"
   ]
  },
  {
   "cell_type": "markdown",
   "id": "ba201b76",
   "metadata": {},
   "source": [
    "Question: How can you convert a float to a complex number using the as_integer_ratio() method?Question: "
   ]
  },
  {
   "cell_type": "markdown",
   "id": "ca9ffa6b",
   "metadata": {},
   "source": [
    "You can convert a float to a complex number using the as_integer_ratio() method."
   ]
  },
  {
   "cell_type": "code",
   "execution_count": 3,
   "id": "a8531223",
   "metadata": {},
   "outputs": [
    {
     "name": "stdout",
     "output_type": "stream",
     "text": [
      "Complex Value: (7070651414971679, 2251799813685248)\n"
     ]
    }
   ],
   "source": [
    "float_value = 3.14\n",
    "complex_value = float_value.as_integer_ratio()\n",
    "print(\"Complex Value:\", complex_value)"
   ]
  },
  {
   "cell_type": "markdown",
   "id": "21f46469",
   "metadata": {},
   "source": [
    "Question: How can you get the hexadecimal representation of a float using the hex() method?"
   ]
  },
  {
   "cell_type": "markdown",
   "id": "f72e9652",
   "metadata": {},
   "source": [
    "You can get the hexadecimal representation of a float using the hex() method."
   ]
  },
  {
   "cell_type": "code",
   "execution_count": 4,
   "id": "20e6967a",
   "metadata": {},
   "outputs": [
    {
     "name": "stdout",
     "output_type": "stream",
     "text": [
      "Hexadecimal Representation: 0x1.5000000000000p+3\n"
     ]
    }
   ],
   "source": [
    "float_value = 10.5\n",
    "hex_representation = float_value.hex()\n",
    "print(\"Hexadecimal Representation:\", hex_representation)"
   ]
  },
  {
   "cell_type": "markdown",
   "id": "113e3482",
   "metadata": {},
   "source": [
    "Question: How can you check if a float is an integer using the is_integer() method?"
   ]
  },
  {
   "cell_type": "markdown",
   "id": "06ac76bc",
   "metadata": {},
   "source": [
    "You can check if a float is an integer using the is_integer() method."
   ]
  },
  {
   "cell_type": "code",
   "execution_count": 5,
   "id": "2181ab25",
   "metadata": {},
   "outputs": [
    {
     "name": "stdout",
     "output_type": "stream",
     "text": [
      "The float is an integer.\n"
     ]
    }
   ],
   "source": [
    "float_value = 7.0\n",
    "if float_value.is_integer():\n",
    "    print(\"The float is an integer.\")\n",
    "else:\n",
    "    print(\"The float is not an integer.\")"
   ]
  },
  {
   "cell_type": "markdown",
   "id": "068d6296",
   "metadata": {},
   "source": [
    "Question: How can you convert a float to a string using the str() method?"
   ]
  },
  {
   "cell_type": "markdown",
   "id": "9680d151",
   "metadata": {},
   "source": [
    "You can convert a float to a string using the str() method."
   ]
  },
  {
   "cell_type": "code",
   "execution_count": 6,
   "id": "6c483666",
   "metadata": {},
   "outputs": [
    {
     "name": "stdout",
     "output_type": "stream",
     "text": [
      "String Value: 42.5\n"
     ]
    }
   ],
   "source": [
    "float_value = 42.5\n",
    "string_value = str(float_value)\n",
    "print(\"String Value:\", string_value)"
   ]
  },
  {
   "cell_type": "markdown",
   "id": "87c999bd",
   "metadata": {},
   "source": [
    "Question: How can you get the integer part of a float using the int() constructor?"
   ]
  },
  {
   "cell_type": "markdown",
   "id": "308a5536",
   "metadata": {},
   "source": [
    "You can get the integer part of a float using the int() constructor."
   ]
  },
  {
   "cell_type": "code",
   "execution_count": 7,
   "id": "1d164821",
   "metadata": {},
   "outputs": [
    {
     "name": "stdout",
     "output_type": "stream",
     "text": [
      "Integer Part: 7\n"
     ]
    }
   ],
   "source": [
    "float_value = 7.8\n",
    "integer_part = int(float_value)\n",
    "print(\"Integer Part:\", integer_part)"
   ]
  },
  {
   "cell_type": "markdown",
   "id": "2bd19e04",
   "metadata": {},
   "source": [
    "Question: How can you check if a float is positive using the __gt__() method for comparison?"
   ]
  },
  {
   "cell_type": "markdown",
   "id": "da502d9e",
   "metadata": {},
   "source": [
    "You can check if a float is positive using the __gt__() method for comparison."
   ]
  },
  {
   "cell_type": "code",
   "execution_count": 8,
   "id": "6db8c678",
   "metadata": {},
   "outputs": [
    {
     "name": "stdout",
     "output_type": "stream",
     "text": [
      "The float is positive.\n"
     ]
    }
   ],
   "source": [
    "float_value = 5.0\n",
    "if float_value.__gt__(0.0):\n",
    "    print(\"The float is positive.\")\n",
    "else:\n",
    "    print(\"The float is not positive.\")"
   ]
  },
  {
   "cell_type": "markdown",
   "id": "506f20b7",
   "metadata": {},
   "source": [
    "Question: How can you check if a float is less than or equal to another float using the __le__() method for comparison?"
   ]
  },
  {
   "cell_type": "markdown",
   "id": "10b81693",
   "metadata": {},
   "source": [
    "You can check if a float is less than or equal to another float using the __le__() method for comparison."
   ]
  },
  {
   "cell_type": "code",
   "execution_count": 9,
   "id": "90d67d1d",
   "metadata": {},
   "outputs": [
    {
     "name": "stdout",
     "output_type": "stream",
     "text": [
      "Float 1 is less than or equal to Float 2.\n"
     ]
    }
   ],
   "source": [
    "float_value1 = 3.5\n",
    "float_value2 = 4.0\n",
    "if float_value1.__le__(float_value2):\n",
    "    print(\"Float 1 is less than or equal to Float 2.\")\n",
    "else:\n",
    "    print(\"Float 1 is not less than or equal to Float 2.\")"
   ]
  },
  {
   "cell_type": "markdown",
   "id": "36a0ca79",
   "metadata": {},
   "source": [
    "Question: How can you raise a float to a power using the __pow__() method?"
   ]
  },
  {
   "cell_type": "markdown",
   "id": "13492159",
   "metadata": {},
   "source": [
    "You can raise a float to a power using the __pow__() method."
   ]
  },
  {
   "cell_type": "code",
   "execution_count": 10,
   "id": "6a653321",
   "metadata": {},
   "outputs": [
    {
     "name": "stdout",
     "output_type": "stream",
     "text": [
      "Result: 8.0\n"
     ]
    }
   ],
   "source": [
    "float_value = 2.0\n",
    "power = float_value.__pow__(3)\n",
    "print(\"Result:\", power)"
   ]
  },
  {
   "cell_type": "markdown",
   "id": "07c0675e",
   "metadata": {},
   "source": [
    "Question: How can you calculate the floor division of two floats using the __floordiv__() method?"
   ]
  },
  {
   "cell_type": "markdown",
   "id": "90e2797a",
   "metadata": {},
   "source": [
    "You can calculate the floor division of two floats using the __floordiv__() method."
   ]
  },
  {
   "cell_type": "code",
   "execution_count": 11,
   "id": "995c9954",
   "metadata": {},
   "outputs": [
    {
     "name": "stdout",
     "output_type": "stream",
     "text": [
      "Result: 3.0\n"
     ]
    }
   ],
   "source": [
    "float_value1 = 10.0\n",
    "float_value2 = 3.0\n",
    "result = float_value1.__floordiv__(float_value2)\n",
    "print(\"Result:\", result)"
   ]
  },
  {
   "cell_type": "markdown",
   "id": "964d553f",
   "metadata": {},
   "source": [
    "Question: How can you calculate the modulus of two floats using the __mod__() method?"
   ]
  },
  {
   "cell_type": "markdown",
   "id": "cf2747ea",
   "metadata": {},
   "source": [
    "You can calculate the modulus of two floats using the __mod__() method."
   ]
  },
  {
   "cell_type": "code",
   "execution_count": 13,
   "id": "16b91163",
   "metadata": {},
   "outputs": [
    {
     "name": "stdout",
     "output_type": "stream",
     "text": [
      "Result: 1.0\n"
     ]
    }
   ],
   "source": [
    "float_value1 = 10.0\n",
    "float_value2 = 3.0\n",
    "result = float_value1.__mod__(float_value2)\n",
    "print(\"Result:\", result)"
   ]
  },
  {
   "cell_type": "markdown",
   "id": "fb74b271",
   "metadata": {},
   "source": [
    "Question: How can you check if a float is equal to another float using the __eq__() method for comparison?"
   ]
  },
  {
   "cell_type": "markdown",
   "id": "f4a9fc00",
   "metadata": {},
   "source": [
    "You can check if a float is equal to another float using the __eq__() method for comparison."
   ]
  },
  {
   "cell_type": "code",
   "execution_count": 14,
   "id": "d8c3db2e",
   "metadata": {},
   "outputs": [
    {
     "name": "stdout",
     "output_type": "stream",
     "text": [
      "Float 1 is not equal to Float 2.\n"
     ]
    }
   ],
   "source": [
    "float_value1 = 3.14\n",
    "float_value2 = 3.14159265359\n",
    "if float_value1.__eq__(float_value2):\n",
    "    print(\"Float 1 is equal to Float 2.\")\n",
    "else:\n",
    "    print(\"Float 1 is not equal to Float 2.\")"
   ]
  },
  {
   "cell_type": "markdown",
   "id": "173ddfec",
   "metadata": {},
   "source": [
    "Question: How can you calculate the absolute value of a float using the __abs__() method?"
   ]
  },
  {
   "cell_type": "markdown",
   "id": "905bf39a",
   "metadata": {},
   "source": [
    "You can calculate the absolute value of a float using the __abs__() method."
   ]
  },
  {
   "cell_type": "code",
   "execution_count": 15,
   "id": "e9f36c02",
   "metadata": {},
   "outputs": [
    {
     "name": "stdout",
     "output_type": "stream",
     "text": [
      "Absolute Value: 5.6\n"
     ]
    }
   ],
   "source": [
    "float_value = -5.6\n",
    "abs_value = float_value.__abs__()\n",
    "print(\"Absolute Value:\", abs_value)"
   ]
  },
  {
   "cell_type": "markdown",
   "id": "b3c71956",
   "metadata": {},
   "source": [
    "Question: How can you convert a float to its hexadecimal representation using the hex() method?"
   ]
  },
  {
   "cell_type": "markdown",
   "id": "81421f83",
   "metadata": {},
   "source": [
    "You can convert a float to its hexadecimal representation using the hex() method."
   ]
  },
  {
   "cell_type": "code",
   "execution_count": 16,
   "id": "f059625c",
   "metadata": {},
   "outputs": [
    {
     "name": "stdout",
     "output_type": "stream",
     "text": [
      "Hexadecimal Representation: 0x1.8400000000000p+3\n"
     ]
    }
   ],
   "source": [
    "float_value = 12.125\n",
    "hex_representation = float_value.hex()\n",
    "print(\"Hexadecimal Representation:\", hex_representation)"
   ]
  },
  {
   "cell_type": "markdown",
   "id": "0363c17d",
   "metadata": {},
   "source": [
    "Question: How can you check if a float is a whole number (integer) using the is_integer() method?"
   ]
  },
  {
   "cell_type": "markdown",
   "id": "2ea3d4d6",
   "metadata": {},
   "source": [
    "You can check if a float is a whole number (integer) using the is_integer() method."
   ]
  },
  {
   "cell_type": "code",
   "execution_count": 17,
   "id": "bfd4372e",
   "metadata": {},
   "outputs": [
    {
     "name": "stdout",
     "output_type": "stream",
     "text": [
      "Float is a whole number.\n"
     ]
    }
   ],
   "source": [
    "float_value = 7.0\n",
    "if float_value.is_integer():\n",
    "    print(\"Float is a whole number.\")\n",
    "else:\n",
    "    print(\"Float is not a whole number.\")"
   ]
  },
  {
   "cell_type": "markdown",
   "id": "403b3477",
   "metadata": {},
   "source": [
    "Question: How can you check if a float is greater than or equal to another float using the __ge__() method for comparison?"
   ]
  },
  {
   "cell_type": "markdown",
   "id": "af524603",
   "metadata": {},
   "source": [
    "You can check if a float is greater than or equal to another float using the __ge__() method for comparison."
   ]
  },
  {
   "cell_type": "code",
   "execution_count": 18,
   "id": "d6b66bcc",
   "metadata": {},
   "outputs": [
    {
     "name": "stdout",
     "output_type": "stream",
     "text": [
      "Float 1 is greater than or equal to Float 2.\n"
     ]
    }
   ],
   "source": [
    "float_value1 = 5.5\n",
    "float_value2 = 4.0\n",
    "if float_value1.__ge__(float_value2):\n",
    "    print(\"Float 1 is greater than or equal to Float 2.\")\n",
    "else:\n",
    "    print(\"Float 1 is not greater than or equal to Float 2.\")"
   ]
  },
  {
   "cell_type": "markdown",
   "id": "bb267d0c",
   "metadata": {},
   "source": [
    "Question: How can you check if a float is less than another float using the __lt__() method for comparison?"
   ]
  },
  {
   "cell_type": "markdown",
   "id": "5d8783d4",
   "metadata": {},
   "source": [
    "You can check if a float is less than another float using the __lt__() method for comparison."
   ]
  },
  {
   "cell_type": "code",
   "execution_count": 19,
   "id": "b46ffa0c",
   "metadata": {},
   "outputs": [
    {
     "name": "stdout",
     "output_type": "stream",
     "text": [
      "Float 1 is less than Float 2.\n"
     ]
    }
   ],
   "source": [
    "float_value1 = 3.5\n",
    "float_value2 = 4.0\n",
    "if float_value1.__lt__(float_value2):\n",
    "    print(\"Float 1 is less than Float 2.\")\n",
    "else:\n",
    "    print(\"Float 1 is not less than Float 2.\")"
   ]
  },
  {
   "cell_type": "markdown",
   "id": "6b60a1e3",
   "metadata": {},
   "source": [
    "Question: How can you get the string representation of a float using the __str__() method?"
   ]
  },
  {
   "cell_type": "markdown",
   "id": "0ca78c8c",
   "metadata": {},
   "source": [
    "You can get the string representation of a float using the __str__() method."
   ]
  },
  {
   "cell_type": "code",
   "execution_count": 20,
   "id": "f06c9606",
   "metadata": {},
   "outputs": [
    {
     "name": "stdout",
     "output_type": "stream",
     "text": [
      "String Representation: 123.456\n"
     ]
    }
   ],
   "source": [
    "float_value = 123.456\n",
    "string_representation = float_value.__str__()\n",
    "print(\"String Representation:\", string_representation)"
   ]
  },
  {
   "cell_type": "markdown",
   "id": "0b0701fc",
   "metadata": {},
   "source": [
    "Question: How can you round a float to the nearest integer using the __round__() method?"
   ]
  },
  {
   "cell_type": "markdown",
   "id": "3265a59d",
   "metadata": {},
   "source": [
    "You can round a float to the nearest integer using the __round__() method."
   ]
  },
  {
   "cell_type": "code",
   "execution_count": 21,
   "id": "b20de82d",
   "metadata": {},
   "outputs": [
    {
     "name": "stdout",
     "output_type": "stream",
     "text": [
      "Rounded Value: 4\n"
     ]
    }
   ],
   "source": [
    "float_value = 3.6\n",
    "rounded_value = float_value.__round__()\n",
    "print(\"Rounded Value:\", rounded_value)"
   ]
  },
  {
   "cell_type": "markdown",
   "id": "94f3ab76",
   "metadata": {},
   "source": [
    "Question: How can you convert a float to a complex number with a zero imaginary part using the conjugate() method?"
   ]
  },
  {
   "cell_type": "markdown",
   "id": "75591c28",
   "metadata": {},
   "source": [
    "You can convert a float to a complex number with a zero imaginary part using the conjugate() method."
   ]
  },
  {
   "cell_type": "code",
   "execution_count": 22,
   "id": "11146c23",
   "metadata": {},
   "outputs": [
    {
     "name": "stdout",
     "output_type": "stream",
     "text": [
      "Complex Number: 5.0\n"
     ]
    }
   ],
   "source": [
    "float_value = 5.0\n",
    "complex_number = float_value.conjugate()\n",
    "print(\"Complex Number:\", complex_number)"
   ]
  },
  {
   "cell_type": "markdown",
   "id": "cd5fa9b7",
   "metadata": {},
   "source": [
    "Question: How can you convert a float to its binary representation using the float.hex() method?"
   ]
  },
  {
   "cell_type": "markdown",
   "id": "2fa0b604",
   "metadata": {},
   "source": [
    "You can convert a float to its binary representation using the float.hex() method."
   ]
  },
  {
   "cell_type": "code",
   "execution_count": 23,
   "id": "990177f1",
   "metadata": {},
   "outputs": [
    {
     "name": "stdout",
     "output_type": "stream",
     "text": [
      "Binary Representation: 0x1.3800000000000p+3\n"
     ]
    }
   ],
   "source": [
    "float_value = 9.75\n",
    "binary_representation = float.hex(float_value)\n",
    "print(\"Binary Representation:\", binary_representation)"
   ]
  },
  {
   "cell_type": "markdown",
   "id": "ee6b84b5",
   "metadata": {},
   "source": [
    "Question: How can you check if a float is greater than another float using the __gt__() method for comparison?"
   ]
  },
  {
   "cell_type": "markdown",
   "id": "d696e091",
   "metadata": {},
   "source": [
    "You can check if a float is greater than another float using the __gt__() method for comparison."
   ]
  },
  {
   "cell_type": "code",
   "execution_count": 24,
   "id": "52d2976c",
   "metadata": {},
   "outputs": [
    {
     "name": "stdout",
     "output_type": "stream",
     "text": [
      "Float 1 is greater than Float 2.\n"
     ]
    }
   ],
   "source": [
    "float_value1 = 6.0\n",
    "float_value2 = 4.5\n",
    "if float_value1.__gt__(float_value2):\n",
    "    print(\"Float 1 is greater than Float 2.\")\n",
    "else:\n",
    "    print(\"Float 1 is not greater than Float 2.\")"
   ]
  },
  {
   "cell_type": "markdown",
   "id": "38f92fc0",
   "metadata": {},
   "source": [
    "Question: How can you convert a float to a boolean value using the __bool__() method?"
   ]
  },
  {
   "cell_type": "markdown",
   "id": "db049c54",
   "metadata": {},
   "source": [
    "You can convert a float to a boolean value using the __bool__() method."
   ]
  },
  {
   "cell_type": "code",
   "execution_count": 28,
   "id": "8219b979",
   "metadata": {},
   "outputs": [
    {
     "name": "stdout",
     "output_type": "stream",
     "text": [
      "Bool Value 1: False\n",
      "Bool Value 2: True\n"
     ]
    }
   ],
   "source": [
    "float_value1 = 0.0\n",
    "float_value2 = 3.14159\n",
    "bool_value1 = float_value1.__bool__()\n",
    "bool_value2 = float_value2.__bool__()\n",
    "print(\"Bool Value 1:\", bool_value1)\n",
    "print(\"Bool Value 2:\", bool_value2)"
   ]
  },
  {
   "cell_type": "markdown",
   "id": "276bbe6e",
   "metadata": {},
   "source": [
    "Question: How can you calculate the bitwise OR of two floats using the __or__() method?"
   ]
  },
  {
   "cell_type": "markdown",
   "id": "10ed1def",
   "metadata": {},
   "source": [
    "You can calculate the bitwise OR of two floats using the __or__() method."
   ]
  },
  {
   "cell_type": "code",
   "execution_count": 30,
   "id": "f98a1d35",
   "metadata": {},
   "outputs": [
    {
     "name": "stdout",
     "output_type": "stream",
     "text": [
      "Original Float Value 1: 7.5\n",
      "Original Float Value 2: 3.0\n",
      "Bitwise OR Result as Integer: 7\n",
      "Bitwise OR Result as Float: 7.0\n"
     ]
    }
   ],
   "source": [
    "float_value1 = 7.5\n",
    "float_value2 = 3.0\n",
    "\n",
    "# Convert the float values to integers\n",
    "int_value1 = int(float_value1)\n",
    "int_value2 = int(float_value2)\n",
    "\n",
    "# Perform the bitwise OR operation\n",
    "bitwise_or_result = int_value1 | int_value2\n",
    "\n",
    "# Convert the result back to a float if needed\n",
    "bitwise_or_result_as_float = float(bitwise_or_result)\n",
    "\n",
    "print(\"Original Float Value 1:\", float_value1)\n",
    "print(\"Original Float Value 2:\", float_value2)\n",
    "print(\"Bitwise OR Result as Integer:\", bitwise_or_result)\n",
    "print(\"Bitwise OR Result as Float:\", bitwise_or_result_as_float)\n"
   ]
  },
  {
   "cell_type": "markdown",
   "id": "c7fb9037",
   "metadata": {},
   "source": [
    "Question: How can you convert a float to a string with a specific format using the __format__() method?"
   ]
  },
  {
   "cell_type": "markdown",
   "id": "5cc38f92",
   "metadata": {},
   "source": [
    "You can convert a float to a string with a specific format using the __format__() method."
   ]
  },
  {
   "cell_type": "code",
   "execution_count": 31,
   "id": "c6279b3f",
   "metadata": {},
   "outputs": [
    {
     "name": "stdout",
     "output_type": "stream",
     "text": [
      "Formatted String: 1234.57\n"
     ]
    }
   ],
   "source": [
    "float_value = 1234.5678\n",
    "formatted_string = float_value.__format__(\".2f\")\n",
    "print(\"Formatted String:\", formatted_string)"
   ]
  },
  {
   "cell_type": "markdown",
   "id": "f81e1b3e",
   "metadata": {},
   "source": [
    "Question: How do you add two float values together?"
   ]
  },
  {
   "cell_type": "code",
   "execution_count": 33,
   "id": "6f953c0b",
   "metadata": {},
   "outputs": [
    {
     "name": "stdout",
     "output_type": "stream",
     "text": [
      "Sum: 5.9\n"
     ]
    }
   ],
   "source": [
    "float_value1 = 3.7\n",
    "float_value2 = 2.2\n",
    "sum_result = float_value1.__add__(float_value2)\n",
    "print(\"Sum:\", sum_result)"
   ]
  },
  {
   "cell_type": "markdown",
   "id": "aa33082e",
   "metadata": {},
   "source": [
    "Question: How can you determine the class of a float object?"
   ]
  },
  {
   "cell_type": "code",
   "execution_count": 34,
   "id": "9834a988",
   "metadata": {},
   "outputs": [
    {
     "name": "stdout",
     "output_type": "stream",
     "text": [
      "Class Name: float\n"
     ]
    }
   ],
   "source": [
    "float_value = 3.14\n",
    "class_name = float_value.__class__.__name__\n",
    "print(\"Class Name:\", class_name)\n"
   ]
  },
  {
   "cell_type": "markdown",
   "id": "1303bfb7",
   "metadata": {},
   "source": [
    "Question: How can you access the docstring (documentation) of a float object?"
   ]
  },
  {
   "cell_type": "code",
   "execution_count": 35,
   "id": "e56faf62",
   "metadata": {},
   "outputs": [
    {
     "name": "stdout",
     "output_type": "stream",
     "text": [
      "Docstring: Convert a string or number to a floating point number, if possible.\n"
     ]
    }
   ],
   "source": [
    "float_value = 42.0\n",
    "docstring = float_value.__doc__\n",
    "print(\"Docstring:\", docstring)"
   ]
  },
  {
   "cell_type": "markdown",
   "id": "2add5fac",
   "metadata": {},
   "source": [
    "Question: How can you get the attribute dictionary for a float object?"
   ]
  },
  {
   "cell_type": "code",
   "execution_count": 36,
   "id": "1a80ec25",
   "metadata": {},
   "outputs": [
    {
     "ename": "AttributeError",
     "evalue": "'float' object has no attribute '__dict__'",
     "output_type": "error",
     "traceback": [
      "\u001b[1;31m---------------------------------------------------------------------------\u001b[0m",
      "\u001b[1;31mAttributeError\u001b[0m                            Traceback (most recent call last)",
      "\u001b[1;32m~\\AppData\\Local\\Temp\\ipykernel_16860\\2940037056.py\u001b[0m in \u001b[0;36m<module>\u001b[1;34m\u001b[0m\n\u001b[0;32m      1\u001b[0m \u001b[0mfloat_value\u001b[0m \u001b[1;33m=\u001b[0m \u001b[1;36m3.1416\u001b[0m\u001b[1;33m\u001b[0m\u001b[1;33m\u001b[0m\u001b[0m\n\u001b[1;32m----> 2\u001b[1;33m \u001b[0mattribute_dict\u001b[0m \u001b[1;33m=\u001b[0m \u001b[0mfloat_value\u001b[0m\u001b[1;33m.\u001b[0m\u001b[0m__getattribute__\u001b[0m\u001b[1;33m(\u001b[0m\u001b[1;34m'__dict__'\u001b[0m\u001b[1;33m)\u001b[0m\u001b[1;33m\u001b[0m\u001b[1;33m\u001b[0m\u001b[0m\n\u001b[0m\u001b[0;32m      3\u001b[0m \u001b[0mprint\u001b[0m\u001b[1;33m(\u001b[0m\u001b[1;34m\"Attribute Dictionary:\"\u001b[0m\u001b[1;33m,\u001b[0m \u001b[0mattribute_dict\u001b[0m\u001b[1;33m)\u001b[0m\u001b[1;33m\u001b[0m\u001b[1;33m\u001b[0m\u001b[0m\n",
      "\u001b[1;31mAttributeError\u001b[0m: 'float' object has no attribute '__dict__'"
     ]
    }
   ],
   "source": [
    "float_value = 3.1416\n",
    "attribute_dict = float_value.__getattribute__('__dict__')\n",
    "print(\"Attribute Dictionary:\", attribute_dict)"
   ]
  },
  {
   "cell_type": "markdown",
   "id": "51d77ca9",
   "metadata": {},
   "source": [
    "Question: What method is used to get the format of a float value as a string?"
   ]
  },
  {
   "cell_type": "code",
   "execution_count": 37,
   "id": "be46af5b",
   "metadata": {},
   "outputs": [
    {
     "name": "stdout",
     "output_type": "stream",
     "text": [
      "Format String: IEEE, little-endian\n"
     ]
    }
   ],
   "source": [
    "float_value = 123.456\n",
    "format_string = float_value.__getformat__('float')\n",
    "print(\"Format String:\", format_string)"
   ]
  },
  {
   "cell_type": "markdown",
   "id": "2bf76974",
   "metadata": {},
   "source": [
    "Question: How do you get a tuple of arguments that can be used to create a float object with float()?"
   ]
  },
  {
   "cell_type": "code",
   "execution_count": 39,
   "id": "9c216947",
   "metadata": {},
   "outputs": [
    {
     "name": "stdout",
     "output_type": "stream",
     "text": [
      "New Args Tuple: (3.14,)\n"
     ]
    }
   ],
   "source": [
    "float_value = 3.14\n",
    "args_tuple = float_value.__getnewargs__()\n",
    "print(\"New Args Tuple:\", args_tuple)"
   ]
  },
  {
   "cell_type": "markdown",
   "id": "17289a5a",
   "metadata": {},
   "source": [
    "Question: How can you get the hash value of a float?"
   ]
  },
  {
   "cell_type": "code",
   "execution_count": 40,
   "id": "1d51cad8",
   "metadata": {},
   "outputs": [
    {
     "name": "stdout",
     "output_type": "stream",
     "text": [
      "Hash Value: 42\n"
     ]
    }
   ],
   "source": [
    "float_value = 42.0\n",
    "hash_value = float_value.__hash__()\n",
    "print(\"Hash Value:\", hash_value)"
   ]
  },
  {
   "cell_type": "markdown",
   "id": "5d0afcee",
   "metadata": {},
   "source": [
    "Question: What method is used to initialize a float object?"
   ]
  },
  {
   "cell_type": "code",
   "execution_count": 42,
   "id": "931053f7",
   "metadata": {},
   "outputs": [
    {
     "name": "stdout",
     "output_type": "stream",
     "text": [
      "Initialized Float: None\n"
     ]
    }
   ],
   "source": [
    "float_value = float.__init__(3.14)\n",
    "print(\"Initialized Float:\", float_value)"
   ]
  }
 ],
 "metadata": {
  "kernelspec": {
   "display_name": "Python 3 (ipykernel)",
   "language": "python",
   "name": "python3"
  },
  "language_info": {
   "codemirror_mode": {
    "name": "ipython",
    "version": 3
   },
   "file_extension": ".py",
   "mimetype": "text/x-python",
   "name": "python",
   "nbconvert_exporter": "python",
   "pygments_lexer": "ipython3",
   "version": "3.9.13"
  },
  "toc": {
   "base_numbering": 1,
   "nav_menu": {},
   "number_sections": true,
   "sideBar": true,
   "skip_h1_title": false,
   "title_cell": "Table of Contents",
   "title_sidebar": "Contents",
   "toc_cell": false,
   "toc_position": {},
   "toc_section_display": true,
   "toc_window_display": false
  }
 },
 "nbformat": 4,
 "nbformat_minor": 5
}
