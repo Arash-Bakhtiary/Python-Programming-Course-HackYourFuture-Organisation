{
 "cells": [
  {
   "cell_type": "markdown",
   "id": "dbee02f3",
   "metadata": {},
   "source": [
    "# String Methods (Basic)"
   ]
  },
  {
   "cell_type": "markdown",
   "id": "ca9ffa6b",
   "metadata": {},
   "source": [
    "Question: How can you capitalize the first character of a string using the capitalize() method?"
   ]
  },
  {
   "cell_type": "code",
   "execution_count": 1,
   "id": "a8531223",
   "metadata": {},
   "outputs": [
    {
     "name": "stdout",
     "output_type": "stream",
     "text": [
      "Capitalized Text: Hello, world\n"
     ]
    }
   ],
   "source": [
    "text = \"hello, world\"\n",
    "capitalized_text = text.capitalize()\n",
    "print(\"Capitalized Text:\", capitalized_text)"
   ]
  },
  {
   "cell_type": "markdown",
   "id": "21f46469",
   "metadata": {},
   "source": [
    "Question: What method is used to center-align a string within a specified width and fill with a character using center()?"
   ]
  },
  {
   "cell_type": "code",
   "execution_count": 4,
   "id": "20e6967a",
   "metadata": {},
   "outputs": [
    {
     "name": "stdout",
     "output_type": "stream",
     "text": [
      "Centered Text: **Python**\n"
     ]
    }
   ],
   "source": [
    "text = \"Python\"\n",
    "centered_text = text.center(10, '*')\n",
    "print(\"Centered Text:\", centered_text)"
   ]
  },
  {
   "cell_type": "markdown",
   "id": "113e3482",
   "metadata": {},
   "source": [
    "Question: How do you count the number of occurrences of a substring within a string using count()?"
   ]
  },
  {
   "cell_type": "code",
   "execution_count": 5,
   "id": "2181ab25",
   "metadata": {},
   "outputs": [
    {
     "name": "stdout",
     "output_type": "stream",
     "text": [
      "Count: 2\n"
     ]
    }
   ],
   "source": [
    "text = \"python programming is fun, python is versatile\"\n",
    "count = text.count(\"python\")\n",
    "print(\"Count:\", count)"
   ]
  },
  {
   "cell_type": "markdown",
   "id": "068d6296",
   "metadata": {},
   "source": [
    "Question: What method is used to check if a string ends with a specified suffix using endswith()?"
   ]
  },
  {
   "cell_type": "code",
   "execution_count": 6,
   "id": "903ebbf1",
   "metadata": {},
   "outputs": [
    {
     "name": "stdout",
     "output_type": "stream",
     "text": [
      "Ends with Exclamation: True\n"
     ]
    }
   ],
   "source": [
    "text = \"Hello, world!\"\n",
    "ends_with_exclamation = text.endswith(\"!\")\n",
    "print(\"Ends with Exclamation:\", ends_with_exclamation)"
   ]
  },
  {
   "cell_type": "markdown",
   "id": "87c999bd",
   "metadata": {},
   "source": [
    "Question: How can you find the index of the first occurrence of a substring using find()?"
   ]
  },
  {
   "cell_type": "code",
   "execution_count": 7,
   "id": "ddf5d986",
   "metadata": {},
   "outputs": [
    {
     "name": "stdout",
     "output_type": "stream",
     "text": [
      "Index of 'Python': 0\n"
     ]
    }
   ],
   "source": [
    "text = \"Python is easy to learn and Python is powerful\"\n",
    "index = text.find(\"Python\")\n",
    "print(\"Index of 'Python':\", index)"
   ]
  },
  {
   "cell_type": "markdown",
   "id": "2bd19e04",
   "metadata": {},
   "source": [
    "Question: What method is used to format a string by replacing placeholders with values using format()?"
   ]
  },
  {
   "cell_type": "code",
   "execution_count": 8,
   "id": "44c4be25",
   "metadata": {},
   "outputs": [
    {
     "name": "stdout",
     "output_type": "stream",
     "text": [
      "Formatted Text: My name is Alice and I am 30 years old.\n"
     ]
    }
   ],
   "source": [
    "name = \"Alice\"\n",
    "age = 30\n",
    "formatted_text = \"My name is {} and I am {} years old.\".format(name, age)\n",
    "print(\"Formatted Text:\", formatted_text)"
   ]
  },
  {
   "cell_type": "markdown",
   "id": "506f20b7",
   "metadata": {},
   "source": [
    "Question: How do you check if a string contains only alphanumeric characters using isalnum()?"
   ]
  },
  {
   "cell_type": "code",
   "execution_count": 9,
   "id": "b5d378b8",
   "metadata": {},
   "outputs": [
    {
     "name": "stdout",
     "output_type": "stream",
     "text": [
      "Is Alphanumeric: True\n"
     ]
    }
   ],
   "source": [
    "text = \"Python3\"\n",
    "is_alphanumeric = text.isalnum()\n",
    "print(\"Is Alphanumeric:\", is_alphanumeric)"
   ]
  },
  {
   "cell_type": "markdown",
   "id": "36a0ca79",
   "metadata": {},
   "source": [
    "Question: What method is used to check if a string contains only alphabetic characters using isalpha()?"
   ]
  },
  {
   "cell_type": "code",
   "execution_count": 10,
   "id": "4fd74c4f",
   "metadata": {},
   "outputs": [
    {
     "name": "stdout",
     "output_type": "stream",
     "text": [
      "Is Alpha: True\n"
     ]
    }
   ],
   "source": [
    "text = \"Python\"\n",
    "is_alpha = text.isalpha()\n",
    "print(\"Is Alpha:\", is_alpha)"
   ]
  },
  {
   "cell_type": "markdown",
   "id": "07c0675e",
   "metadata": {},
   "source": [
    "Question: How can you check if a string contains only decimal characters using isdecimal()?"
   ]
  },
  {
   "cell_type": "code",
   "execution_count": 11,
   "id": "995c9954",
   "metadata": {},
   "outputs": [
    {
     "name": "stdout",
     "output_type": "stream",
     "text": [
      "Is Decimal: True\n"
     ]
    }
   ],
   "source": [
    "text = \"12345\"\n",
    "is_decimal = text.isdecimal()\n",
    "print(\"Is Decimal:\", is_decimal)"
   ]
  },
  {
   "cell_type": "markdown",
   "id": "964d553f",
   "metadata": {},
   "source": [
    "Question: What method is used to check if a string contains only digits using isdigit()?"
   ]
  },
  {
   "cell_type": "code",
   "execution_count": 12,
   "id": "16b91163",
   "metadata": {},
   "outputs": [
    {
     "name": "stdout",
     "output_type": "stream",
     "text": [
      "Is Digit: True\n"
     ]
    }
   ],
   "source": [
    "text = \"12345\"\n",
    "is_digit = text.isdigit()\n",
    "print(\"Is Digit:\", is_digit)"
   ]
  },
  {
   "cell_type": "markdown",
   "id": "fb74b271",
   "metadata": {},
   "source": [
    "Question: How do you check if a string contains only lowercase characters using islower()?"
   ]
  },
  {
   "cell_type": "code",
   "execution_count": 13,
   "id": "d8c3db2e",
   "metadata": {},
   "outputs": [
    {
     "name": "stdout",
     "output_type": "stream",
     "text": [
      "Is Lowercase: True\n"
     ]
    }
   ],
   "source": [
    "text = \"python\"\n",
    "is_lower = text.islower()\n",
    "print(\"Is Lowercase:\", is_lower)"
   ]
  },
  {
   "cell_type": "markdown",
   "id": "173ddfec",
   "metadata": {},
   "source": [
    "Question: What method is used to check if a string contains only numeric characters using isnumeric()?"
   ]
  },
  {
   "cell_type": "code",
   "execution_count": 15,
   "id": "e9f36c02",
   "metadata": {},
   "outputs": [
    {
     "name": "stdout",
     "output_type": "stream",
     "text": [
      "Is Numeric: True\n"
     ]
    }
   ],
   "source": [
    "text = \"12345\"\n",
    "is_numeric = text.isnumeric()\n",
    "print(\"Is Numeric:\", is_numeric)"
   ]
  },
  {
   "cell_type": "markdown",
   "id": "b3c71956",
   "metadata": {},
   "source": [
    "Question: How can you check if a string contains only printable characters using isprintable()?"
   ]
  },
  {
   "cell_type": "code",
   "execution_count": 16,
   "id": "f059625c",
   "metadata": {},
   "outputs": [
    {
     "name": "stdout",
     "output_type": "stream",
     "text": [
      "Is Printable: True\n"
     ]
    }
   ],
   "source": [
    "text = \"Hello, world!\"\n",
    "is_printable = text.isprintable()\n",
    "print(\"Is Printable:\", is_printable)"
   ]
  },
  {
   "cell_type": "markdown",
   "id": "0363c17d",
   "metadata": {},
   "source": [
    "Question: What method is used to check if a string contains only whitespace characters using isspace()?"
   ]
  },
  {
   "cell_type": "code",
   "execution_count": 17,
   "id": "bfd4372e",
   "metadata": {},
   "outputs": [
    {
     "name": "stdout",
     "output_type": "stream",
     "text": [
      "Is Space: True\n"
     ]
    }
   ],
   "source": [
    "text = \"     \"\n",
    "is_space = text.isspace()\n",
    "print(\"Is Space:\", is_space)"
   ]
  },
  {
   "cell_type": "markdown",
   "id": "403b3477",
   "metadata": {},
   "source": [
    "Question: How can you check if a string is titlecased (each word's first letter is capitalized) using istitle()?"
   ]
  },
  {
   "cell_type": "code",
   "execution_count": 18,
   "id": "d6b66bcc",
   "metadata": {},
   "outputs": [
    {
     "name": "stdout",
     "output_type": "stream",
     "text": [
      "Is Titlecased: True\n"
     ]
    }
   ],
   "source": [
    "text = \"Python Is Fun\"\n",
    "is_titlecased = text.istitle()\n",
    "print(\"Is Titlecased:\", is_titlecased)"
   ]
  },
  {
   "cell_type": "markdown",
   "id": "bb267d0c",
   "metadata": {},
   "source": [
    "Question: What method is used to check if a string contains only uppercase characters using isupper()?"
   ]
  },
  {
   "cell_type": "code",
   "execution_count": 19,
   "id": "b46ffa0c",
   "metadata": {},
   "outputs": [
    {
     "name": "stdout",
     "output_type": "stream",
     "text": [
      "Is Uppercase: True\n"
     ]
    }
   ],
   "source": [
    "text = \"PYTHON\"\n",
    "is_upper = text.isupper()\n",
    "print(\"Is Uppercase:\", is_upper)"
   ]
  },
  {
   "cell_type": "markdown",
   "id": "6b60a1e3",
   "metadata": {},
   "source": [
    "Question: How do you check if all characters in a string are whitespace using isspace()?"
   ]
  },
  {
   "cell_type": "code",
   "execution_count": 20,
   "id": "f06c9606",
   "metadata": {},
   "outputs": [
    {
     "name": "stdout",
     "output_type": "stream",
     "text": [
      "All Whitespace: True\n"
     ]
    }
   ],
   "source": [
    "text = \"\\t \\n\"\n",
    "all_whitespace = text.isspace()\n",
    "print(\"All Whitespace:\", all_whitespace)"
   ]
  },
  {
   "cell_type": "markdown",
   "id": "0b0701fc",
   "metadata": {},
   "source": [
    "Question: What method is used to join elements of a list into a single string using a specified delimiter join()?"
   ]
  },
  {
   "cell_type": "code",
   "execution_count": 21,
   "id": "b20de82d",
   "metadata": {},
   "outputs": [
    {
     "name": "stdout",
     "output_type": "stream",
     "text": [
      "Joined Text: Hello, World, Python\n"
     ]
    }
   ],
   "source": [
    "words = [\"Hello\", \"World\", \"Python\"]\n",
    "joined_text = \", \".join(words)\n",
    "print(\"Joined Text:\", joined_text)"
   ]
  },
  {
   "cell_type": "markdown",
   "id": "94f3ab76",
   "metadata": {},
   "source": [
    "Question: How can you left-align a string within a specified width and fill with a character using ljust()?"
   ]
  },
  {
   "cell_type": "code",
   "execution_count": 22,
   "id": "11146c23",
   "metadata": {},
   "outputs": [
    {
     "name": "stdout",
     "output_type": "stream",
     "text": [
      "Left Aligned Text: Python****\n"
     ]
    }
   ],
   "source": [
    "text = \"Python\"\n",
    "left_aligned_text = text.ljust(10, '*')\n",
    "print(\"Left Aligned Text:\", left_aligned_text)"
   ]
  },
  {
   "cell_type": "markdown",
   "id": "cd5fa9b7",
   "metadata": {},
   "source": [
    "Question: What method is used to strip leading whitespace characters from a string using lstrip()?"
   ]
  },
  {
   "cell_type": "code",
   "execution_count": 23,
   "id": "990177f1",
   "metadata": {},
   "outputs": [
    {
     "name": "stdout",
     "output_type": "stream",
     "text": [
      "Stripped Text: Python   \n"
     ]
    }
   ],
   "source": [
    "text = \"   Python   \"\n",
    "stripped_text = text.lstrip()\n",
    "print(\"Stripped Text:\", stripped_text)"
   ]
  },
  {
   "cell_type": "markdown",
   "id": "73a8972d",
   "metadata": {},
   "source": [
    "Question: How do you replace occurrences of a substring in a string using replace()?"
   ]
  },
  {
   "cell_type": "code",
   "execution_count": 25,
   "id": "e7661bf1",
   "metadata": {},
   "outputs": [
    {
     "name": "stdout",
     "output_type": "stream",
     "text": [
      "Replaced Text: Hello, Python!\n"
     ]
    }
   ],
   "source": [
    "text = \"Hello, World!\"\n",
    "replaced_text = text.replace(\"World\", \"Python\")\n",
    "print(\"Replaced Text:\", replaced_text)"
   ]
  },
  {
   "cell_type": "markdown",
   "id": "9998e691",
   "metadata": {},
   "source": [
    "Question: What method is used to split a string into a list of substrings using split()?"
   ]
  },
  {
   "cell_type": "code",
   "execution_count": 26,
   "id": "897675f1",
   "metadata": {},
   "outputs": [
    {
     "name": "stdout",
     "output_type": "stream",
     "text": [
      "Word List: ['Python', 'is', 'fun']\n"
     ]
    }
   ],
   "source": [
    "text = \"Python is fun\"\n",
    "word_list = text.split()\n",
    "print(\"Word List:\", word_list)"
   ]
  },
  {
   "cell_type": "markdown",
   "id": "b1949e29",
   "metadata": {},
   "source": [
    "Question: How can you remove trailing whitespace characters from a string using rstrip()?"
   ]
  },
  {
   "cell_type": "code",
   "execution_count": 27,
   "id": "7f1309b5",
   "metadata": {},
   "outputs": [
    {
     "name": "stdout",
     "output_type": "stream",
     "text": [
      "Trimmed Text:    Python\n"
     ]
    }
   ],
   "source": [
    "text = \"   Python   \"\n",
    "trimmed_text = text.rstrip()\n",
    "print(\"Trimmed Text:\", trimmed_text)"
   ]
  },
  {
   "cell_type": "markdown",
   "id": "b075bac8",
   "metadata": {},
   "source": [
    "Question: What method is used to check if a string starts with a specified prefix using startswith()?"
   ]
  },
  {
   "cell_type": "code",
   "execution_count": 28,
   "id": "5f2f1c7f",
   "metadata": {},
   "outputs": [
    {
     "name": "stdout",
     "output_type": "stream",
     "text": [
      "Starts with Python: True\n"
     ]
    }
   ],
   "source": [
    "text = \"Python is great\"\n",
    "starts_with_python = text.startswith(\"Python\")\n",
    "print(\"Starts with Python:\", starts_with_python)"
   ]
  },
  {
   "cell_type": "markdown",
   "id": "8c9730d8",
   "metadata": {},
   "source": [
    "Question: How do you swap the case of characters in a string using swapcase()?"
   ]
  },
  {
   "cell_type": "code",
   "execution_count": 29,
   "id": "d2d391df",
   "metadata": {},
   "outputs": [
    {
     "name": "stdout",
     "output_type": "stream",
     "text": [
      "Swapped Case Text: pYtHoN iS fUn\n"
     ]
    }
   ],
   "source": [
    "text = \"PyThOn Is FuN\"\n",
    "swapped_case_text = text.swapcase()\n",
    "print(\"Swapped Case Text:\", swapped_case_text)"
   ]
  },
  {
   "cell_type": "markdown",
   "id": "46a6d5fc",
   "metadata": {},
   "source": [
    "Question: What method is used to convert the first character of each word to uppercase using title()?"
   ]
  },
  {
   "cell_type": "code",
   "execution_count": 30,
   "id": "265cbf60",
   "metadata": {},
   "outputs": [
    {
     "name": "stdout",
     "output_type": "stream",
     "text": [
      "Title Text: Python Programming\n"
     ]
    }
   ],
   "source": [
    "text = \"python programming\"\n",
    "title_text = text.title()\n",
    "print(\"Title Text:\", title_text)"
   ]
  },
  {
   "cell_type": "markdown",
   "id": "87b05abe",
   "metadata": {},
   "source": [
    "Question: How can you convert all characters in a string to lowercase using lower()?"
   ]
  },
  {
   "cell_type": "code",
   "execution_count": 31,
   "id": "e939dd1c",
   "metadata": {},
   "outputs": [
    {
     "name": "stdout",
     "output_type": "stream",
     "text": [
      "Lowercase Text: python\n"
     ]
    }
   ],
   "source": [
    "text = \"PYTHON\"\n",
    "lowercase_text = text.lower()\n",
    "print(\"Lowercase Text:\", lowercase_text)"
   ]
  },
  {
   "cell_type": "markdown",
   "id": "06229ee3",
   "metadata": {},
   "source": [
    "Question: What method is used to convert all characters in a string to uppercase using upper()?"
   ]
  },
  {
   "cell_type": "code",
   "execution_count": 32,
   "id": "627fb443",
   "metadata": {},
   "outputs": [
    {
     "name": "stdout",
     "output_type": "stream",
     "text": [
      "Uppercase Text: PYTHON\n"
     ]
    }
   ],
   "source": [
    "text = \"python\"\n",
    "uppercase_text = text.upper()\n",
    "print(\"Uppercase Text:\", uppercase_text)"
   ]
  },
  {
   "cell_type": "markdown",
   "id": "f1b5233e",
   "metadata": {},
   "source": [
    "Question: How do you remove leading and trailing whitespace characters from a string using strip()?"
   ]
  },
  {
   "cell_type": "code",
   "execution_count": 33,
   "id": "d291eee8",
   "metadata": {},
   "outputs": [
    {
     "name": "stdout",
     "output_type": "stream",
     "text": [
      "Stripped Text: Python\n"
     ]
    }
   ],
   "source": [
    "text = \"   Python   \"\n",
    "stripped_text = text.strip()\n",
    "print(\"Stripped Text:\", stripped_text)"
   ]
  },
  {
   "cell_type": "markdown",
   "id": "4e75573e",
   "metadata": {},
   "source": [
    "Question: What method is used to check if a string consists of only decimal characters (0-9) using isdecimal()?"
   ]
  },
  {
   "cell_type": "code",
   "execution_count": 34,
   "id": "c1611982",
   "metadata": {},
   "outputs": [
    {
     "name": "stdout",
     "output_type": "stream",
     "text": [
      "Is Decimal: True\n"
     ]
    }
   ],
   "source": [
    "text = \"12345\"\n",
    "is_decimal = text.isdecimal()\n",
    "print(\"Is Decimal:\", is_decimal)"
   ]
  },
  {
   "cell_type": "markdown",
   "id": "59c90e2f",
   "metadata": {},
   "source": [
    "Question: How can you check if a string contains only numeric characters (0-9 and additional numeric characters from other scripts) using isnumeric()?"
   ]
  },
  {
   "cell_type": "code",
   "execution_count": 35,
   "id": "7d792f71",
   "metadata": {},
   "outputs": [
    {
     "name": "stdout",
     "output_type": "stream",
     "text": [
      "Is Numeric: False\n"
     ]
    }
   ],
   "source": [
    "text = \"① ⒈ ⒉ ⒊ ⒋\"\n",
    "is_numeric = text.isnumeric()\n",
    "print(\"Is Numeric:\", is_numeric)"
   ]
  },
  {
   "cell_type": "markdown",
   "id": "958e2fb4",
   "metadata": {},
   "source": [
    "Question: What method is used to check if a string is valid as an identifier in Python using isidentifier()?"
   ]
  },
  {
   "cell_type": "code",
   "execution_count": 36,
   "id": "87557a6f",
   "metadata": {},
   "outputs": [
    {
     "name": "stdout",
     "output_type": "stream",
     "text": [
      "Is Identifier: True\n"
     ]
    }
   ],
   "source": [
    "text = \"my_variable\"\n",
    "is_identifier = text.isidentifier()\n",
    "print(\"Is Identifier:\", is_identifier)"
   ]
  },
  {
   "cell_type": "markdown",
   "id": "169f519f",
   "metadata": {},
   "source": [
    "Question: How can you check if a string is composed of printable characters using isprintable()?"
   ]
  },
  {
   "cell_type": "code",
   "execution_count": 37,
   "id": "d8fb3d93",
   "metadata": {},
   "outputs": [
    {
     "name": "stdout",
     "output_type": "stream",
     "text": [
      "Is Printable: True\n"
     ]
    }
   ],
   "source": [
    "text = \"Hello, world!\"\n",
    "is_printable = text.isprintable()\n",
    "print(\"Is Printable:\", is_printable)"
   ]
  },
  {
   "cell_type": "markdown",
   "id": "271eca91",
   "metadata": {},
   "source": [
    "Question: What method is used to check if a string consists of only uppercase letters using isupper()?"
   ]
  },
  {
   "cell_type": "code",
   "execution_count": 38,
   "id": "9a1d6e2d",
   "metadata": {},
   "outputs": [
    {
     "name": "stdout",
     "output_type": "stream",
     "text": [
      "Is Uppercase: True\n"
     ]
    }
   ],
   "source": [
    "text = \"UPPERCASE\"\n",
    "is_upper = text.isupper()\n",
    "print(\"Is Uppercase:\", is_upper)"
   ]
  },
  {
   "cell_type": "markdown",
   "id": "588cefd0",
   "metadata": {},
   "source": [
    "Question: How do you check if a string consists of only lowercase letters using islower()?"
   ]
  },
  {
   "cell_type": "code",
   "execution_count": 39,
   "id": "3f4f290b",
   "metadata": {},
   "outputs": [
    {
     "name": "stdout",
     "output_type": "stream",
     "text": [
      "Is Lowercase: True\n"
     ]
    }
   ],
   "source": [
    "text = \"lowercase\"\n",
    "is_lower = text.islower()\n",
    "print(\"Is Lowercase:\", is_lower)"
   ]
  },
  {
   "cell_type": "markdown",
   "id": "ca84e6da",
   "metadata": {},
   "source": [
    "Question: What method is used to replace specified characters in a string with their Unicode escape sequences using encode()?"
   ]
  },
  {
   "cell_type": "code",
   "execution_count": 40,
   "id": "ad64b3e5",
   "metadata": {},
   "outputs": [
    {
     "name": "stdout",
     "output_type": "stream",
     "text": [
      "Encoded Text: b'Python is awesome!'\n"
     ]
    }
   ],
   "source": [
    "text = \"Python is awesome!\"\n",
    "encoded_text = text.encode('unicode_escape')\n",
    "print(\"Encoded Text:\", encoded_text)"
   ]
  },
  {
   "cell_type": "markdown",
   "id": "350a74ce",
   "metadata": {},
   "source": [
    "Question: How can you check if a string consists of only ASCII characters using isascii()?"
   ]
  },
  {
   "cell_type": "code",
   "execution_count": 41,
   "id": "8718577e",
   "metadata": {},
   "outputs": [
    {
     "name": "stdout",
     "output_type": "stream",
     "text": [
      "Is ASCII: True\n"
     ]
    }
   ],
   "source": [
    "text = \"Hello, World!\"\n",
    "is_ascii = text.isascii()\n",
    "print(\"Is ASCII:\", is_ascii)"
   ]
  },
  {
   "cell_type": "markdown",
   "id": "07fbfe62",
   "metadata": {},
   "source": [
    "Question: What method is used to expand tabs in a string using expandtabs()?"
   ]
  },
  {
   "cell_type": "code",
   "execution_count": 42,
   "id": "e72bb6b7",
   "metadata": {},
   "outputs": [
    {
     "name": "stdout",
     "output_type": "stream",
     "text": [
      "Expanded Text: Python  is  great\n"
     ]
    }
   ],
   "source": [
    "text = \"Python\\tis\\tgreat\"\n",
    "expanded_text = text.expandtabs(4)\n",
    "print(\"Expanded Text:\", expanded_text)"
   ]
  },
  {
   "cell_type": "markdown",
   "id": "6b83a83a",
   "metadata": {},
   "source": [
    "Question: How do you check if a string contains only letters and numbers using isalnum()?"
   ]
  },
  {
   "cell_type": "code",
   "execution_count": 43,
   "id": "a308d418",
   "metadata": {},
   "outputs": [
    {
     "name": "stdout",
     "output_type": "stream",
     "text": [
      "Is Alphanumeric: True\n"
     ]
    }
   ],
   "source": [
    "text = \"Python3\"\n",
    "is_alphanumeric = text.isalnum()\n",
    "print(\"Is Alphanumeric:\", is_alphanumeric)"
   ]
  },
  {
   "cell_type": "markdown",
   "id": "0e3394ef",
   "metadata": {},
   "source": [
    "Question: What method is used to align a string to the right within a specified width using rjust()?"
   ]
  },
  {
   "cell_type": "code",
   "execution_count": 44,
   "id": "e356ec82",
   "metadata": {},
   "outputs": [
    {
     "name": "stdout",
     "output_type": "stream",
     "text": [
      "Right Aligned Text:     Python\n"
     ]
    }
   ],
   "source": [
    "text = \"Python\"\n",
    "right_aligned_text = text.rjust(10)\n",
    "print(\"Right Aligned Text:\", right_aligned_text)"
   ]
  }
 ],
 "metadata": {
  "kernelspec": {
   "display_name": "Python 3 (ipykernel)",
   "language": "python",
   "name": "python3"
  },
  "language_info": {
   "codemirror_mode": {
    "name": "ipython",
    "version": 3
   },
   "file_extension": ".py",
   "mimetype": "text/x-python",
   "name": "python",
   "nbconvert_exporter": "python",
   "pygments_lexer": "ipython3",
   "version": "3.9.13"
  },
  "toc": {
   "base_numbering": 1,
   "nav_menu": {},
   "number_sections": true,
   "sideBar": true,
   "skip_h1_title": false,
   "title_cell": "Table of Contents",
   "title_sidebar": "Contents",
   "toc_cell": false,
   "toc_position": {},
   "toc_section_display": true,
   "toc_window_display": false
  }
 },
 "nbformat": 4,
 "nbformat_minor": 5
}
