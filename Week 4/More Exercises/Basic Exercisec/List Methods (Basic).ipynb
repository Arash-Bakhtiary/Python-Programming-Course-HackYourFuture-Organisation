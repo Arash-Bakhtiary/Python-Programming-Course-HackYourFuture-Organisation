{
 "cells": [
  {
   "cell_type": "markdown",
   "id": "dbee02f3",
   "metadata": {},
   "source": [
    "# List Methods (Basic)"
   ]
  },
  {
   "cell_type": "markdown",
   "id": "ca9ffa6b",
   "metadata": {},
   "source": [
    "Question: How can you use the append method to add an element to a list?"
   ]
  },
  {
   "cell_type": "code",
   "execution_count": 2,
   "id": "a8531223",
   "metadata": {},
   "outputs": [
    {
     "name": "stdout",
     "output_type": "stream",
     "text": [
      "[1, 2, 3, 4]\n"
     ]
    }
   ],
   "source": [
    "my_list = [1, 2, 3]\n",
    "my_list.append(4)\n",
    "print(my_list)"
   ]
  },
  {
   "cell_type": "markdown",
   "id": "21f46469",
   "metadata": {},
   "source": [
    "Question: How can you use the extend method to add multiple elements to a list?"
   ]
  },
  {
   "cell_type": "code",
   "execution_count": 3,
   "id": "20e6967a",
   "metadata": {},
   "outputs": [
    {
     "name": "stdout",
     "output_type": "stream",
     "text": [
      "[1, 2, 3, 4, 5, 6]\n"
     ]
    }
   ],
   "source": [
    "list1 = [1, 2, 3]\n",
    "list2 = [4, 5, 6]\n",
    "list1.extend(list2)\n",
    "print(list1)"
   ]
  },
  {
   "cell_type": "markdown",
   "id": "113e3482",
   "metadata": {},
   "source": [
    "Question: How can you use the insert method to insert an element at a specific position in a list?"
   ]
  },
  {
   "cell_type": "code",
   "execution_count": 4,
   "id": "2181ab25",
   "metadata": {},
   "outputs": [
    {
     "name": "stdout",
     "output_type": "stream",
     "text": [
      "[1, 4, 2, 3]\n"
     ]
    }
   ],
   "source": [
    "my_list = [1, 2, 3]\n",
    "my_list.insert(1, 4)\n",
    "print(my_list)\n"
   ]
  },
  {
   "cell_type": "markdown",
   "id": "068d6296",
   "metadata": {},
   "source": [
    "Question: How can you use the remove method to remove a specific element from a list?"
   ]
  },
  {
   "cell_type": "code",
   "execution_count": 5,
   "id": "903ebbf1",
   "metadata": {},
   "outputs": [
    {
     "name": "stdout",
     "output_type": "stream",
     "text": [
      "[1, 3, 2]\n"
     ]
    }
   ],
   "source": [
    "my_list = [1, 2, 3, 2]\n",
    "my_list.remove(2)\n",
    "print(my_list)"
   ]
  },
  {
   "cell_type": "markdown",
   "id": "87c999bd",
   "metadata": {},
   "source": [
    "Question: How can you use the pop method to remove and return an element at a specific index from a list?"
   ]
  },
  {
   "cell_type": "code",
   "execution_count": 6,
   "id": "ddf5d986",
   "metadata": {},
   "outputs": [
    {
     "name": "stdout",
     "output_type": "stream",
     "text": [
      "2\n"
     ]
    }
   ],
   "source": [
    "my_list = [1, 2, 3]\n",
    "popped_element = my_list.pop(1)\n",
    "print(popped_element)"
   ]
  },
  {
   "cell_type": "markdown",
   "id": "2bd19e04",
   "metadata": {},
   "source": [
    "Question: How can you use the clear method to remove all elements from a list?"
   ]
  },
  {
   "cell_type": "code",
   "execution_count": 7,
   "id": "44c4be25",
   "metadata": {},
   "outputs": [
    {
     "name": "stdout",
     "output_type": "stream",
     "text": [
      "[]\n"
     ]
    }
   ],
   "source": [
    "my_list = [1, 2, 3]\n",
    "my_list.clear()\n",
    "print(my_list)"
   ]
  },
  {
   "cell_type": "markdown",
   "id": "506f20b7",
   "metadata": {},
   "source": [
    "Question: How can you use the count method to count the number of occurrences of a specific element in a list?"
   ]
  },
  {
   "cell_type": "code",
   "execution_count": 8,
   "id": "b5d378b8",
   "metadata": {},
   "outputs": [
    {
     "name": "stdout",
     "output_type": "stream",
     "text": [
      "3\n"
     ]
    }
   ],
   "source": [
    "my_list = [1, 2, 2, 3, 2, 4]\n",
    "count = my_list.count(2)\n",
    "print(count)"
   ]
  },
  {
   "cell_type": "markdown",
   "id": "36a0ca79",
   "metadata": {},
   "source": [
    "Question: How can you use the index method to find the index of the first occurrence of a specific element in a list?"
   ]
  },
  {
   "cell_type": "code",
   "execution_count": 9,
   "id": "4fd74c4f",
   "metadata": {},
   "outputs": [
    {
     "name": "stdout",
     "output_type": "stream",
     "text": [
      "2\n"
     ]
    }
   ],
   "source": [
    "my_list = [1, 2, 3, 4, 3]\n",
    "index = my_list.index(3)\n",
    "print(index)"
   ]
  },
  {
   "cell_type": "markdown",
   "id": "07c0675e",
   "metadata": {},
   "source": [
    "Question: How can you use the reverse method to reverse the elements of a list in-place?"
   ]
  },
  {
   "cell_type": "code",
   "execution_count": 10,
   "id": "995c9954",
   "metadata": {},
   "outputs": [
    {
     "name": "stdout",
     "output_type": "stream",
     "text": [
      "[3, 2, 1]\n"
     ]
    }
   ],
   "source": [
    "my_list = [1, 2, 3]\n",
    "my_list.reverse()\n",
    "print(my_list)"
   ]
  },
  {
   "cell_type": "markdown",
   "id": "964d553f",
   "metadata": {},
   "source": [
    "Question: How can you use the sort method to sort the elements of a list in ascending order in-place?"
   ]
  },
  {
   "cell_type": "code",
   "execution_count": 11,
   "id": "16b91163",
   "metadata": {},
   "outputs": [
    {
     "name": "stdout",
     "output_type": "stream",
     "text": [
      "[1, 2, 3]\n"
     ]
    }
   ],
   "source": [
    "my_list = [3, 1, 2]\n",
    "my_list.sort()\n",
    "print(my_list)"
   ]
  },
  {
   "cell_type": "markdown",
   "id": "fb74b271",
   "metadata": {},
   "source": [
    "Question: How can you use the sort method to sort the elements of a list in descending order in-place?"
   ]
  },
  {
   "cell_type": "code",
   "execution_count": 12,
   "id": "d8c3db2e",
   "metadata": {},
   "outputs": [
    {
     "name": "stdout",
     "output_type": "stream",
     "text": [
      "[3, 2, 1]\n"
     ]
    }
   ],
   "source": [
    "my_list = [3, 1, 2]\n",
    "my_list.sort(reverse=True)\n",
    "print(my_list)"
   ]
  },
  {
   "cell_type": "markdown",
   "id": "173ddfec",
   "metadata": {},
   "source": [
    "Question: How can you use the copy method to create a shallow copy of a list?"
   ]
  },
  {
   "cell_type": "code",
   "execution_count": 13,
   "id": "b92b036e",
   "metadata": {},
   "outputs": [
    {
     "name": "stdout",
     "output_type": "stream",
     "text": [
      "[1, 2, 3]\n"
     ]
    }
   ],
   "source": [
    "my_list = [1, 2, 3]\n",
    "copied_list = my_list.copy()\n",
    "print(copied_list)"
   ]
  },
  {
   "cell_type": "markdown",
   "id": "b3c71956",
   "metadata": {},
   "source": [
    "Question: How can you use the __len__ method to find the length (number of elements) of a list?"
   ]
  },
  {
   "cell_type": "code",
   "execution_count": 14,
   "id": "f059625c",
   "metadata": {},
   "outputs": [
    {
     "name": "stdout",
     "output_type": "stream",
     "text": [
      "5\n"
     ]
    }
   ],
   "source": [
    "my_list = [1, 2, 3, 4, 5]\n",
    "length = len(my_list)\n",
    "print(length)"
   ]
  },
  {
   "cell_type": "markdown",
   "id": "0363c17d",
   "metadata": {},
   "source": [
    "Question: How can you use the __getitem__ method to access an element of a list by index?"
   ]
  },
  {
   "cell_type": "code",
   "execution_count": 15,
   "id": "bfd4372e",
   "metadata": {},
   "outputs": [
    {
     "name": "stdout",
     "output_type": "stream",
     "text": [
      "2\n"
     ]
    }
   ],
   "source": [
    "my_list = [1, 2, 3]\n",
    "element = my_list[1]\n",
    "print(element)"
   ]
  },
  {
   "cell_type": "markdown",
   "id": "403b3477",
   "metadata": {},
   "source": [
    "Question: How can you use the __setitem__ method to change the value of an element in a list by index?"
   ]
  },
  {
   "cell_type": "code",
   "execution_count": 16,
   "id": "d6b66bcc",
   "metadata": {},
   "outputs": [
    {
     "name": "stdout",
     "output_type": "stream",
     "text": [
      "[1, 4, 3]\n"
     ]
    }
   ],
   "source": [
    "my_list = [1, 2, 3]\n",
    "my_list[1] = 4\n",
    "print(my_list)"
   ]
  },
  {
   "cell_type": "markdown",
   "id": "bb267d0c",
   "metadata": {},
   "source": [
    "Question: How can you use the __delitem__ method to remove an element from a list by index?"
   ]
  },
  {
   "cell_type": "code",
   "execution_count": 17,
   "id": "b46ffa0c",
   "metadata": {},
   "outputs": [
    {
     "name": "stdout",
     "output_type": "stream",
     "text": [
      "[1, 3]\n"
     ]
    }
   ],
   "source": [
    "my_list = [1, 2, 3]\n",
    "del my_list[1]\n",
    "print(my_list)"
   ]
  },
  {
   "cell_type": "markdown",
   "id": "9750d3f3",
   "metadata": {},
   "source": [
    "Question: Using the remove method, remove the element 2 from the list my_list. Print the updated list."
   ]
  },
  {
   "cell_type": "code",
   "execution_count": 43,
   "id": "8d8a57e7",
   "metadata": {},
   "outputs": [
    {
     "name": "stdout",
     "output_type": "stream",
     "text": [
      "[1, 3, 4, 5, 2]\n"
     ]
    }
   ],
   "source": [
    "my_list = [1, 2, 3, 4, 5, 2]\n",
    "my_list.remove(2)\n",
    "print(my_list)"
   ]
  },
  {
   "cell_type": "markdown",
   "id": "6b60a1e3",
   "metadata": {},
   "source": [
    "Question: How can you use the __contains__ method to check if a specific element is present in a list?"
   ]
  },
  {
   "cell_type": "code",
   "execution_count": 18,
   "id": "f06c9606",
   "metadata": {},
   "outputs": [
    {
     "name": "stdout",
     "output_type": "stream",
     "text": [
      "True\n"
     ]
    }
   ],
   "source": [
    "my_list = [1, 2, 3]\n",
    "is_present = 2 in my_list\n",
    "print(is_present)"
   ]
  },
  {
   "cell_type": "markdown",
   "id": "0b0701fc",
   "metadata": {},
   "source": [
    "Question: How can you use the __eq__ method to compare two lists for equality?"
   ]
  },
  {
   "cell_type": "code",
   "execution_count": 19,
   "id": "b20de82d",
   "metadata": {},
   "outputs": [
    {
     "name": "stdout",
     "output_type": "stream",
     "text": [
      "True\n"
     ]
    }
   ],
   "source": [
    "list1 = [1, 2, 3]\n",
    "list2 = [1, 2, 3]\n",
    "are_equal = list1 == list2\n",
    "print(are_equal)"
   ]
  },
  {
   "cell_type": "markdown",
   "id": "94f3ab76",
   "metadata": {},
   "source": [
    "Question: How can you use the __add__ method to concatenate two lists?"
   ]
  },
  {
   "cell_type": "code",
   "execution_count": 20,
   "id": "11146c23",
   "metadata": {},
   "outputs": [
    {
     "name": "stdout",
     "output_type": "stream",
     "text": [
      "[1, 2, 3, 4]\n"
     ]
    }
   ],
   "source": [
    "list1 = [1, 2]\n",
    "list2 = [3, 4]\n",
    "concatenated_list = list1 + list2\n",
    "print(concatenated_list)"
   ]
  },
  {
   "cell_type": "markdown",
   "id": "cd5fa9b7",
   "metadata": {},
   "source": [
    "Question: How can you use the __mul__ method to repeat a list multiple times?"
   ]
  },
  {
   "cell_type": "code",
   "execution_count": 21,
   "id": "990177f1",
   "metadata": {},
   "outputs": [
    {
     "name": "stdout",
     "output_type": "stream",
     "text": [
      "[1, 2, 1, 2, 1, 2]\n"
     ]
    }
   ],
   "source": [
    "my_list = [1, 2]\n",
    "repeated_list = my_list * 3\n",
    "print(repeated_list)"
   ]
  },
  {
   "cell_type": "markdown",
   "id": "3687b3fa",
   "metadata": {},
   "source": [
    "Question: How can you use the __iadd__ method to add elements to a list in-place?"
   ]
  },
  {
   "cell_type": "code",
   "execution_count": 23,
   "id": "9798001c",
   "metadata": {},
   "outputs": [
    {
     "name": "stdout",
     "output_type": "stream",
     "text": [
      "[1, 2, 3, 4]\n"
     ]
    }
   ],
   "source": [
    "my_list = [1, 2]\n",
    "my_list += [3, 4]\n",
    "print(my_list)"
   ]
  },
  {
   "cell_type": "markdown",
   "id": "c61c4a87",
   "metadata": {},
   "source": [
    "Question: How can you use the __imul__ method to repeat a list multiple times in-place?"
   ]
  },
  {
   "cell_type": "code",
   "execution_count": 24,
   "id": "08543522",
   "metadata": {},
   "outputs": [
    {
     "name": "stdout",
     "output_type": "stream",
     "text": [
      "[1, 2, 1, 2, 1, 2]\n"
     ]
    }
   ],
   "source": [
    "my_list = [1, 2]\n",
    "my_list *= 3\n",
    "print(my_list)"
   ]
  },
  {
   "cell_type": "markdown",
   "id": "9bd09a77",
   "metadata": {},
   "source": [
    "Question: How can you use the __str__ method to get a string representation of a list?"
   ]
  },
  {
   "cell_type": "code",
   "execution_count": 26,
   "id": "02b6bc9f",
   "metadata": {},
   "outputs": [
    {
     "name": "stdout",
     "output_type": "stream",
     "text": [
      "[1, 2, 3]\n"
     ]
    }
   ],
   "source": [
    "my_list = [1, 2, 3]\n",
    "str_representation = str(my_list)\n",
    "print(str_representation)"
   ]
  },
  {
   "cell_type": "markdown",
   "id": "ffa4bb13",
   "metadata": {},
   "source": [
    "Question: How can you use the __repr__ method to get a string representation of a list for debugging?"
   ]
  },
  {
   "cell_type": "code",
   "execution_count": 27,
   "id": "491da1c7",
   "metadata": {},
   "outputs": [
    {
     "name": "stdout",
     "output_type": "stream",
     "text": [
      "[1, 2, 3]\n"
     ]
    }
   ],
   "source": [
    "my_list = [1, 2, 3]\n",
    "repr_representation = repr(my_list)\n",
    "print(repr_representation)"
   ]
  },
  {
   "cell_type": "markdown",
   "id": "185055cd",
   "metadata": {},
   "source": [
    "Question: How can you use the __class__ method to get the class of a list?"
   ]
  },
  {
   "cell_type": "code",
   "execution_count": 28,
   "id": "aff34dc5",
   "metadata": {},
   "outputs": [
    {
     "name": "stdout",
     "output_type": "stream",
     "text": [
      "<class 'list'>\n"
     ]
    }
   ],
   "source": [
    "my_list = [1, 2, 3]\n",
    "class_of_list = my_list.__class__\n",
    "print(class_of_list)"
   ]
  },
  {
   "cell_type": "markdown",
   "id": "d3524a1d",
   "metadata": {},
   "source": [
    "Question: How can you use the __iter__ method to iterate through the elements of a list?"
   ]
  },
  {
   "cell_type": "code",
   "execution_count": 29,
   "id": "73534ab1",
   "metadata": {},
   "outputs": [
    {
     "name": "stdout",
     "output_type": "stream",
     "text": [
      "1\n",
      "2\n",
      "3\n"
     ]
    }
   ],
   "source": [
    "my_list = [1, 2, 3]\n",
    "for item in my_list:\n",
    "    print(item)"
   ]
  },
  {
   "cell_type": "markdown",
   "id": "e23f2c4f",
   "metadata": {},
   "source": [
    "Question: How can you use the __getitem__ method to access elements of a list using slicing?"
   ]
  },
  {
   "cell_type": "code",
   "execution_count": 30,
   "id": "3c8a3899",
   "metadata": {},
   "outputs": [
    {
     "name": "stdout",
     "output_type": "stream",
     "text": [
      "[2, 3, 4]\n"
     ]
    }
   ],
   "source": [
    "my_list = [1, 2, 3, 4, 5]\n",
    "sliced_list = my_list[1:4]\n",
    "print(sliced_list)"
   ]
  },
  {
   "cell_type": "markdown",
   "id": "04480275",
   "metadata": {},
   "source": [
    "Question: How can you use the __setitem__ method to change elements of a list using slicing?"
   ]
  },
  {
   "cell_type": "code",
   "execution_count": 31,
   "id": "cc6026d3",
   "metadata": {},
   "outputs": [
    {
     "name": "stdout",
     "output_type": "stream",
     "text": [
      "[1, 6, 7, 8, 5]\n"
     ]
    }
   ],
   "source": [
    "my_list = [1, 2, 3, 4, 5]\n",
    "my_list[1:4] = [6, 7, 8]\n",
    "print(my_list)"
   ]
  },
  {
   "cell_type": "markdown",
   "id": "dda7fbc9",
   "metadata": {},
   "source": [
    "Question: How can you use the __delitem__ method to delete elements of a list using slicing?"
   ]
  },
  {
   "cell_type": "code",
   "execution_count": 32,
   "id": "5b945cc6",
   "metadata": {},
   "outputs": [
    {
     "name": "stdout",
     "output_type": "stream",
     "text": [
      "[1, 5]\n"
     ]
    }
   ],
   "source": [
    "my_list = [1, 2, 3, 4, 5]\n",
    "del my_list[1:4]\n",
    "print(my_list)"
   ]
  },
  {
   "cell_type": "markdown",
   "id": "e1dbf213",
   "metadata": {},
   "source": [
    "Question: How can you use the __eq__ method to compare two lists for equality?"
   ]
  },
  {
   "cell_type": "code",
   "execution_count": 33,
   "id": "1540430e",
   "metadata": {},
   "outputs": [
    {
     "name": "stdout",
     "output_type": "stream",
     "text": [
      "True\n"
     ]
    }
   ],
   "source": [
    "list1 = [1, 2, 3]\n",
    "list2 = [1, 2, 3]\n",
    "are_equal = list1.__eq__(list2)\n",
    "print(are_equal)"
   ]
  },
  {
   "cell_type": "markdown",
   "id": "f6bf89ad",
   "metadata": {},
   "source": [
    "Question: How can you use the __ne__ method to compare two lists for inequality?"
   ]
  },
  {
   "cell_type": "code",
   "execution_count": 34,
   "id": "621dacb6",
   "metadata": {},
   "outputs": [
    {
     "name": "stdout",
     "output_type": "stream",
     "text": [
      "True\n"
     ]
    }
   ],
   "source": [
    "list1 = [1, 2, 3]\n",
    "list2 = [4, 5, 6]\n",
    "not_equal = list1.__ne__(list2)\n",
    "print(not_equal)"
   ]
  },
  {
   "cell_type": "markdown",
   "id": "9a42f426",
   "metadata": {},
   "source": [
    "Question: How can you use the __lt__ method to check if one list is less than another list lexicographically?"
   ]
  },
  {
   "cell_type": "code",
   "execution_count": 35,
   "id": "e63b614f",
   "metadata": {},
   "outputs": [
    {
     "name": "stdout",
     "output_type": "stream",
     "text": [
      "True\n"
     ]
    }
   ],
   "source": [
    "list1 = [1, 2, 3]\n",
    "list2 = [4, 5, 6]\n",
    "is_less = list1.__lt__(list2)\n",
    "print(is_less)"
   ]
  },
  {
   "cell_type": "markdown",
   "id": "074c9b96",
   "metadata": {},
   "source": [
    "Question: How can you use the __le__ method to check if one list is less than or equal to another list lexicographically?"
   ]
  },
  {
   "cell_type": "code",
   "execution_count": 36,
   "id": "2adcaac4",
   "metadata": {},
   "outputs": [
    {
     "name": "stdout",
     "output_type": "stream",
     "text": [
      "True\n"
     ]
    }
   ],
   "source": [
    "list1 = [1, 2, 3]\n",
    "list2 = [4, 5, 6]\n",
    "is_less_or_equal = list1.__le__(list2)\n",
    "print(is_less_or_equal)"
   ]
  },
  {
   "cell_type": "markdown",
   "id": "436a46f6",
   "metadata": {},
   "source": [
    "Question: How can you use the __gt__ method to check if one list is greater than another list lexicographically?"
   ]
  },
  {
   "cell_type": "code",
   "execution_count": 37,
   "id": "bcf6a132",
   "metadata": {},
   "outputs": [
    {
     "name": "stdout",
     "output_type": "stream",
     "text": [
      "True\n"
     ]
    }
   ],
   "source": [
    "list1 = [4, 5, 6]\n",
    "list2 = [1, 2, 3]\n",
    "is_greater = list1.__gt__(list2)\n",
    "print(is_greater)"
   ]
  },
  {
   "cell_type": "markdown",
   "id": "13aa68fd",
   "metadata": {},
   "source": [
    "Question: How can you use the __ge__ method to check if one list is greater than or equal to another list lexicographically?"
   ]
  },
  {
   "cell_type": "code",
   "execution_count": 38,
   "id": "450d74cb",
   "metadata": {},
   "outputs": [
    {
     "name": "stdout",
     "output_type": "stream",
     "text": [
      "True\n"
     ]
    }
   ],
   "source": [
    "list1 = [4, 5, 6]\n",
    "list2 = [1, 2, 3]\n",
    "is_greater_or_equal = list1.__ge__(list2)\n",
    "print(is_greater_or_equal)"
   ]
  },
  {
   "cell_type": "markdown",
   "id": "8b867c02",
   "metadata": {},
   "source": [
    "Question: How can you use the __str__ method to get a string representation of a list?"
   ]
  },
  {
   "cell_type": "code",
   "execution_count": 39,
   "id": "0663bd07",
   "metadata": {},
   "outputs": [
    {
     "name": "stdout",
     "output_type": "stream",
     "text": [
      "[1, 2, 3]\n"
     ]
    }
   ],
   "source": [
    "my_list = [1, 2, 3]\n",
    "str_representation = my_list.__str__()\n",
    "print(str_representation)"
   ]
  },
  {
   "cell_type": "markdown",
   "id": "602fc07a",
   "metadata": {},
   "source": [
    "Question: How can you use the __repr__ method to get a string representation of a list for debugging?"
   ]
  },
  {
   "cell_type": "code",
   "execution_count": 40,
   "id": "245b6769",
   "metadata": {},
   "outputs": [
    {
     "name": "stdout",
     "output_type": "stream",
     "text": [
      "[1, 2, 3]\n"
     ]
    }
   ],
   "source": [
    "my_list = [1, 2, 3]\n",
    "repr_representation = my_list.__repr__()\n",
    "print(repr_representation)"
   ]
  },
  {
   "cell_type": "markdown",
   "id": "65ba3043",
   "metadata": {},
   "source": [
    "Question: How can you use the __class__ method to get the class of a list?"
   ]
  },
  {
   "cell_type": "code",
   "execution_count": 41,
   "id": "a73d8f55",
   "metadata": {},
   "outputs": [
    {
     "name": "stdout",
     "output_type": "stream",
     "text": [
      "<class 'list'>\n"
     ]
    }
   ],
   "source": [
    "my_list = [1, 2, 3]\n",
    "class_of_list = my_list.__class__\n",
    "print(class_of_list)"
   ]
  },
  {
   "cell_type": "markdown",
   "id": "53142ccf",
   "metadata": {},
   "source": [
    "Question: Create a list my_list containing strings with different lengths. Using the sort method, sort the strings based on their lengths in ascending order."
   ]
  },
  {
   "cell_type": "code",
   "execution_count": 44,
   "id": "bfe687c6",
   "metadata": {},
   "outputs": [
    {
     "name": "stdout",
     "output_type": "stream",
     "text": [
      "['date', 'figs', 'apple', 'banana', 'cherry']\n"
     ]
    }
   ],
   "source": [
    "my_list = [\"apple\", \"banana\", \"cherry\", \"date\", \"figs\"]\n",
    "my_list.sort(key=len)\n",
    "print(my_list)"
   ]
  }
 ],
 "metadata": {
  "kernelspec": {
   "display_name": "Python 3 (ipykernel)",
   "language": "python",
   "name": "python3"
  },
  "language_info": {
   "codemirror_mode": {
    "name": "ipython",
    "version": 3
   },
   "file_extension": ".py",
   "mimetype": "text/x-python",
   "name": "python",
   "nbconvert_exporter": "python",
   "pygments_lexer": "ipython3",
   "version": "3.9.13"
  },
  "toc": {
   "base_numbering": 1,
   "nav_menu": {},
   "number_sections": true,
   "sideBar": true,
   "skip_h1_title": false,
   "title_cell": "Table of Contents",
   "title_sidebar": "Contents",
   "toc_cell": false,
   "toc_position": {},
   "toc_section_display": true,
   "toc_window_display": false
  }
 },
 "nbformat": 4,
 "nbformat_minor": 5
}
