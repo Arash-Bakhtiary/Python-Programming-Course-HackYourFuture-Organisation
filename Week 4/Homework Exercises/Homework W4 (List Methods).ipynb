{
 "cells": [
  {
   "cell_type": "markdown",
   "id": "dbee02f3",
   "metadata": {},
   "source": [
    "# Assignments - W4 (List Methods)"
   ]
  },
  {
   "cell_type": "markdown",
   "id": "84cb9deb",
   "metadata": {},
   "source": [
    "Assignment 1: List Manipulation"
   ]
  },
  {
   "cell_type": "markdown",
   "id": "e5915e65",
   "metadata": {},
   "source": [
    "Task: Create a Python program that takes a list of integers as input and returns a new list containing only the unique elements of the input list. Implement this using a function called unique_elements(input_list)."
   ]
  },
  {
   "cell_type": "markdown",
   "id": "c4cb6f3a",
   "metadata": {},
   "source": [
    "Assignment 2: Matrix Operations"
   ]
  },
  {
   "cell_type": "markdown",
   "id": "82a69a8c",
   "metadata": {},
   "source": [
    "Task: Write a Python program that performs matrix addition and multiplication. Implement functions matrix_addition(matrix1, matrix2) and matrix_multiplication(matrix1, matrix2) that take two matrices (2D lists) as input and return the result of the respective operation."
   ]
  },
  {
   "cell_type": "markdown",
   "id": "969c3346",
   "metadata": {},
   "source": [
    "Assignment 3: Palindrome Checker"
   ]
  },
  {
   "cell_type": "markdown",
   "id": "15008b0a",
   "metadata": {},
   "source": [
    "Task: Create a Python program that checks whether a given string is a palindrome using a list. Implement this using a function called is_palindrome(input_string)."
   ]
  },
  {
   "cell_type": "markdown",
   "id": "1df8eaaf",
   "metadata": {},
   "source": [
    "Assignment 4: Merge Sorted Lists"
   ]
  },
  {
   "cell_type": "markdown",
   "id": "0554b73e",
   "metadata": {},
   "source": [
    "Task: Write a Python program that takes two sorted lists as input and merges them into a single sorted list. Implement this using a function called merge_sorted_lists(list1, list2)."
   ]
  },
  {
   "cell_type": "markdown",
   "id": "bc2b575a",
   "metadata": {},
   "source": [
    "Assignment 5: Custom List Sorting"
   ]
  },
  {
   "cell_type": "markdown",
   "id": "4cefb86f",
   "metadata": {},
   "source": [
    "Task: Implement a Python program that takes a list of strings as input and sorts them based on the length of each string in descending order. Implement this using a function called sort_strings_by_length(strings)."
   ]
  },
  {
   "cell_type": "markdown",
   "id": "b4628fdf",
   "metadata": {},
   "source": [
    "Assignment 6: List Chunking"
   ]
  },
  {
   "cell_type": "markdown",
   "id": "1a83cbd5",
   "metadata": {},
   "source": [
    "Task: Create a Python program that reads a large list of numbers from a file and splits it into smaller chunks, each containing a maximum of 10 numbers. Write these chunks to separate output files. Implement this using a function called chunk_large_list(input_file, output_directory)."
   ]
  },
  {
   "cell_type": "markdown",
   "id": "5db1d296",
   "metadata": {},
   "source": [
    "Assignment 7: List Intersection"
   ]
  },
  {
   "cell_type": "markdown",
   "id": "de2893b1",
   "metadata": {},
   "source": [
    "Task: Write a Python program that reads two lists of integers from files and finds their intersection. Implement this using a function called find_intersection(list1_file, list2_file)."
   ]
  },
  {
   "cell_type": "markdown",
   "id": "4ce7368b",
   "metadata": {},
   "source": [
    "Assignment 8: List Rotation"
   ]
  },
  {
   "cell_type": "markdown",
   "id": "5160d95b",
   "metadata": {},
   "source": [
    "Task: Develop a Python program that rotates a given list of numbers to the left by a specified number of positions. Implement this using a function called rotate_list_left(input_list, positions)."
   ]
  },
  {
   "cell_type": "markdown",
   "id": "e3565636",
   "metadata": {},
   "source": [
    "Assignment 9: List Comprehension"
   ]
  },
  {
   "cell_type": "markdown",
   "id": "2af909bd",
   "metadata": {},
   "source": [
    "Task: Create a Python program that generates a list of prime numbers between two given integers. Implement this using list comprehension and a function called generate_primes_between(start, end)."
   ]
  },
  {
   "cell_type": "markdown",
   "id": "2d4e9b63",
   "metadata": {},
   "source": [
    "Assignment 10: List Statistics"
   ]
  },
  {
   "cell_type": "markdown",
   "id": "b48d523a",
   "metadata": {},
   "source": [
    "Task: Write a Python program that reads a list of numbers from a file and calculates various statistics, including the mean, median, mode, and standard deviation. Implement this using functions called calculate_mean(numbers), calculate_median(numbers), calculate_mode(numbers), and calculate_standard_deviation(numbers)."
   ]
  }
 ],
 "metadata": {
  "kernelspec": {
   "display_name": "Python 3 (ipykernel)",
   "language": "python",
   "name": "python3"
  },
  "language_info": {
   "codemirror_mode": {
    "name": "ipython",
    "version": 3
   },
   "file_extension": ".py",
   "mimetype": "text/x-python",
   "name": "python",
   "nbconvert_exporter": "python",
   "pygments_lexer": "ipython3",
   "version": "3.9.13"
  },
  "toc": {
   "base_numbering": 1,
   "nav_menu": {},
   "number_sections": true,
   "sideBar": true,
   "skip_h1_title": false,
   "title_cell": "Table of Contents",
   "title_sidebar": "Contents",
   "toc_cell": false,
   "toc_position": {},
   "toc_section_display": true,
   "toc_window_display": false
  }
 },
 "nbformat": 4,
 "nbformat_minor": 5
}
