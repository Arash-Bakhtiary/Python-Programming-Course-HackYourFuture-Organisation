{
 "cells": [
  {
   "cell_type": "markdown",
   "id": "dbee02f3",
   "metadata": {},
   "source": [
    "# Assignments - W4 (Float Methods)"
   ]
  },
  {
   "cell_type": "markdown",
   "id": "b9df9250",
   "metadata": {},
   "source": [
    "Assignment 1: Handling Precision in Financial Calculations"
   ]
  },
  {
   "cell_type": "markdown",
   "id": "0b3f738c",
   "metadata": {},
   "source": [
    "Task: Create a Python program that simulates a financial calculation involving floating-point numbers and then introduces the decimal module to handle precision issues that might arise in financial applications.\n",
    "\n",
    "1) Start by performing a simple interest calculation using regular floats.\n",
    "\n",
    "2) Calculate the interest for a principal amount of $1000 at an annual interest rate of 5 percent for one year. Use regular floats.\n",
    "\n",
    "3) Then, implement the same calculation using the decimal module with a precision of 4 decimal places.\n",
    "\n",
    "4) Compare the results and discuss any differences, emphasizing the importance of precision in financial calculations."
   ]
  },
  {
   "cell_type": "markdown",
   "id": "ce30a01d",
   "metadata": {},
   "source": [
    "Assignment 2: Precision Loss Analysis"
   ]
  },
  {
   "cell_type": "markdown",
   "id": "3e1f398f",
   "metadata": {},
   "source": [
    "Task: Write a Python program that demonstrates precision loss when converting a large float to a hexadecimal representation using the hex() method. Discuss the reasons behind the precision loss."
   ]
  },
  {
   "cell_type": "markdown",
   "id": "da47ca7c",
   "metadata": {},
   "source": [
    "Assignment 3: Float to Integer Conversion"
   ]
  },
  {
   "cell_type": "markdown",
   "id": "ac9aaecc",
   "metadata": {},
   "source": [
    "Task: Create a Python program that converts a floating-point number to an integer using the float.as_integer_ratio() method and mathematically analyzes the potential loss of precision."
   ]
  },
  {
   "cell_type": "markdown",
   "id": "f218ec66",
   "metadata": {},
   "source": [
    "Assignment 4: Rounding Analysis"
   ]
  },
  {
   "cell_type": "markdown",
   "id": "bcc5f0a0",
   "metadata": {},
   "source": [
    "Task: Write a Python program that explores different rounding methods for floats, including rounding up, rounding down, and rounding to the nearest integer. Discuss when each method is appropriate."
   ]
  },
  {
   "cell_type": "markdown",
   "id": "35e9f6eb",
   "metadata": {},
   "source": [
    "Assignment 5: Floating-Point Comparison"
   ]
  },
  {
   "cell_type": "markdown",
   "id": "0a74f2ae",
   "metadata": {},
   "source": [
    "Task: Create a Python program that demonstrates the challenges of comparing floating-point numbers for equality using the == operator. Discuss the use of epsilon values for tolerance."
   ]
  },
  {
   "cell_type": "markdown",
   "id": "b43be580",
   "metadata": {},
   "source": [
    "Assignment 6: Floating-Point Arithmetic"
   ]
  },
  {
   "cell_type": "markdown",
   "id": "355c3324",
   "metadata": {},
   "source": [
    "Task: Write a Python program that demonstrates floating-point arithmetic issues, such as loss of significance, by performing subtraction between two nearly equal numbers."
   ]
  },
  {
   "cell_type": "markdown",
   "id": "22a96507",
   "metadata": {},
   "source": [
    "Assignment 7: Decimal Precision"
   ]
  },
  {
   "cell_type": "markdown",
   "id": "b0375e7c",
   "metadata": {},
   "source": [
    "Task: Create a Python program that showcases the advantages of using the decimal module for precise decimal calculations as opposed to using regular floats. Perform a calculation with high precision."
   ]
  },
  {
   "cell_type": "markdown",
   "id": "d5432807",
   "metadata": {},
   "source": [
    "Assignment 8: Overflow and Underflow"
   ]
  },
  {
   "cell_type": "markdown",
   "id": "bed8286d",
   "metadata": {},
   "source": [
    "Task: Write a Python program that demonstrates the concepts of overflow and underflow in floating-point numbers. Calculate a large exponent to showcase overflow and a very small exponent to showcase underflow."
   ]
  },
  {
   "cell_type": "markdown",
   "id": "eb4eb89f",
   "metadata": {},
   "source": [
    "Assignment 9: NaN and Infinity Handling"
   ]
  },
  {
   "cell_type": "markdown",
   "id": "fe2433dc",
   "metadata": {},
   "source": [
    "Task: Create a Python program that shows how to handle NaN (Not-a-Number) and Infinity values in floating-point arithmetic. Perform operations that result in these special values and demonstrate proper checks."
   ]
  },
  {
   "cell_type": "markdown",
   "id": "7cdce067",
   "metadata": {},
   "source": [
    "Assignment 10: Floating-Point Exceptions"
   ]
  },
  {
   "cell_type": "markdown",
   "id": "afe04e4f",
   "metadata": {},
   "source": [
    "Task: Write a Python program that demonstrates how to handle floating-point exceptions, such as division by zero and invalid operations, using the try and except statements."
   ]
  }
 ],
 "metadata": {
  "kernelspec": {
   "display_name": "Python 3 (ipykernel)",
   "language": "python",
   "name": "python3"
  },
  "language_info": {
   "codemirror_mode": {
    "name": "ipython",
    "version": 3
   },
   "file_extension": ".py",
   "mimetype": "text/x-python",
   "name": "python",
   "nbconvert_exporter": "python",
   "pygments_lexer": "ipython3",
   "version": "3.9.13"
  },
  "toc": {
   "base_numbering": 1,
   "nav_menu": {},
   "number_sections": true,
   "sideBar": true,
   "skip_h1_title": false,
   "title_cell": "Table of Contents",
   "title_sidebar": "Contents",
   "toc_cell": false,
   "toc_position": {},
   "toc_section_display": true,
   "toc_window_display": false
  }
 },
 "nbformat": 4,
 "nbformat_minor": 5
}
