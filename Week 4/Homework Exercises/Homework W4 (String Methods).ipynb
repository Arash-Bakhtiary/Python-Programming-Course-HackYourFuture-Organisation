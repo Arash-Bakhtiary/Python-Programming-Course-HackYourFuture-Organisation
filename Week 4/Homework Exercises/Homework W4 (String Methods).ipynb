{
 "cells": [
  {
   "cell_type": "markdown",
   "id": "dbee02f3",
   "metadata": {},
   "source": [
    "# Assignments - W4 (String Methods)"
   ]
  },
  {
   "cell_type": "markdown",
   "id": "aaec2185",
   "metadata": {},
   "source": [
    "Assignment 1: Custom Capitalization"
   ]
  },
  {
   "cell_type": "markdown",
   "id": "73c82466",
   "metadata": {},
   "source": [
    "Task: Create a Python program that takes a string input and capitalizes the first character using a custom function called custom_capitalize(text)."
   ]
  },
  {
   "cell_type": "markdown",
   "id": "f0c3e142",
   "metadata": {},
   "source": [
    "Assignment 2: Character Count"
   ]
  },
  {
   "cell_type": "markdown",
   "id": "041c3864",
   "metadata": {},
   "source": [
    "Task: Write a Python program that counts the number of occurrences of a specified character in a string using a custom function called custom_char_count(text, char)."
   ]
  },
  {
   "cell_type": "markdown",
   "id": "e14fb113",
   "metadata": {},
   "source": [
    "Assignment 3: Custom Split"
   ]
  },
  {
   "cell_type": "markdown",
   "id": "3348ac2f",
   "metadata": {},
   "source": [
    "Task: Create a Python program that splits a string into a list of words using a custom function called custom_split(text)."
   ]
  },
  {
   "cell_type": "markdown",
   "id": "41bed2b2",
   "metadata": {},
   "source": [
    "Assignment 4: Word Reversal"
   ]
  },
  {
   "cell_type": "markdown",
   "id": "f976dc86",
   "metadata": {},
   "source": [
    "Task: Write a Python program that reverses the order of words in a string using a custom function called reverse_words(text)."
   ]
  },
  {
   "cell_type": "markdown",
   "id": "bdd17c70",
   "metadata": {},
   "source": [
    "Assignment 5: Character Swap"
   ]
  },
  {
   "cell_type": "markdown",
   "id": "5cebbeee",
   "metadata": {},
   "source": [
    "Task: Create a Python program that swaps two specified characters in a string using a custom function called swap_characters(text, char1, char2)."
   ]
  },
  {
   "cell_type": "markdown",
   "id": "528f0df1",
   "metadata": {},
   "source": [
    "Assignment 6: Custom Join"
   ]
  },
  {
   "cell_type": "markdown",
   "id": "e4e38db4",
   "metadata": {},
   "source": [
    "Task: Write a Python program that joins a list of words into a single string using a custom function called custom_join(word_list, delimiter)."
   ]
  },
  {
   "cell_type": "markdown",
   "id": "9c434193",
   "metadata": {},
   "source": [
    "Assignment 7: Word Count"
   ]
  },
  {
   "cell_type": "markdown",
   "id": "8e19129a",
   "metadata": {},
   "source": [
    "Task: Create a Python program that counts the number of words in a string using a custom function called word_count(text)."
   ]
  },
  {
   "cell_type": "markdown",
   "id": "b50271de",
   "metadata": {},
   "source": [
    "Assignment 8: Custom Replace"
   ]
  },
  {
   "cell_type": "markdown",
   "id": "b7188632",
   "metadata": {},
   "source": [
    "Task: Write a Python program that replaces all occurrences of a specified substring with another substring using a custom function called custom_replace(text, old, new)."
   ]
  },
  {
   "cell_type": "markdown",
   "id": "d247e74c",
   "metadata": {},
   "source": [
    "Assignment 9: Sentence Reversal"
   ]
  },
  {
   "cell_type": "markdown",
   "id": "a72dc21b",
   "metadata": {},
   "source": [
    "Task: Develop a Python program that reverses the order of sentences in a string using a custom function called reverse_sentences(text)."
   ]
  },
  {
   "cell_type": "markdown",
   "id": "78bb31c9",
   "metadata": {},
   "source": [
    "Assignment 10: Vowel Count"
   ]
  },
  {
   "cell_type": "markdown",
   "id": "0eab1ab3",
   "metadata": {},
   "source": [
    "Task: Create a Python program that counts the number of vowels (a, e, i, o, u) in a string using a custom function called count_vowels(text)."
   ]
  }
 ],
 "metadata": {
  "kernelspec": {
   "display_name": "Python 3 (ipykernel)",
   "language": "python",
   "name": "python3"
  },
  "language_info": {
   "codemirror_mode": {
    "name": "ipython",
    "version": 3
   },
   "file_extension": ".py",
   "mimetype": "text/x-python",
   "name": "python",
   "nbconvert_exporter": "python",
   "pygments_lexer": "ipython3",
   "version": "3.9.13"
  },
  "toc": {
   "base_numbering": 1,
   "nav_menu": {},
   "number_sections": true,
   "sideBar": true,
   "skip_h1_title": false,
   "title_cell": "Table of Contents",
   "title_sidebar": "Contents",
   "toc_cell": false,
   "toc_position": {},
   "toc_section_display": true,
   "toc_window_display": false
  }
 },
 "nbformat": 4,
 "nbformat_minor": 5
}
