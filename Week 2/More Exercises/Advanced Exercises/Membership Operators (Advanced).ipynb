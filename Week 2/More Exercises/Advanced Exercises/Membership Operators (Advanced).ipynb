{
 "cells": [
  {
   "cell_type": "markdown",
   "id": "dbee02f3",
   "metadata": {},
   "source": [
    "# Membership Operators (Advanced)"
   ]
  },
  {
   "cell_type": "markdown",
   "id": "ca9ffa6b",
   "metadata": {},
   "source": [
    "Question: Check if a specific substring exists in a list of strings."
   ]
  },
  {
   "cell_type": "code",
   "execution_count": 1,
   "id": "7c572c48",
   "metadata": {},
   "outputs": [
    {
     "name": "stdout",
     "output_type": "stream",
     "text": [
      "True\n"
     ]
    }
   ],
   "source": [
    "string_list = [\"apple\", \"banana\", \"cherry\", \"date\"]\n",
    "substring = \"an\"\n",
    "result = any(substring in string for string in string_list)\n",
    "print(result)"
   ]
  },
  {
   "cell_type": "markdown",
   "id": "f1f0fe98",
   "metadata": {},
   "source": [
    "Question: Check if a specific sequence of elements exists in a list."
   ]
  },
  {
   "cell_type": "code",
   "execution_count": 2,
   "id": "c3dfe6c1",
   "metadata": {},
   "outputs": [
    {
     "name": "stdout",
     "output_type": "stream",
     "text": [
      "True\n"
     ]
    }
   ],
   "source": [
    "my_list = [1, 2, 3, 4, 5]\n",
    "sequence = [3, 4]\n",
    "result = any(my_list[i:i+len(sequence)] == sequence for i in range(len(my_list) - len(sequence) + 1))\n",
    "print(result)"
   ]
  },
  {
   "cell_type": "markdown",
   "id": "3138a94f",
   "metadata": {},
   "source": [
    "Question: Check if all characters in a string exist in a set of allowed characters."
   ]
  },
  {
   "cell_type": "code",
   "execution_count": 3,
   "id": "103aed36",
   "metadata": {},
   "outputs": [
    {
     "name": "stdout",
     "output_type": "stream",
     "text": [
      "True\n"
     ]
    }
   ],
   "source": [
    "allowed_chars = {'a', 'b', 'c', 'd', 'e'}\n",
    "input_string = \"abcde\"\n",
    "result = all(char in allowed_chars for char in input_string)\n",
    "print(result)"
   ]
  },
  {
   "cell_type": "markdown",
   "id": "2906b064",
   "metadata": {},
   "source": [
    "Question: Check if any element in the list [2, 4, 6, 8] is even using the any() function."
   ]
  },
  {
   "cell_type": "code",
   "execution_count": 4,
   "id": "dd476632",
   "metadata": {},
   "outputs": [
    {
     "name": "stdout",
     "output_type": "stream",
     "text": [
      "True\n"
     ]
    }
   ],
   "source": [
    "num_list = [2, 4, 6, 8]\n",
    "result = any(num % 2 == 0 for num in num_list)\n",
    "print(result)  # Output: True"
   ]
  },
  {
   "cell_type": "markdown",
   "id": "9c3fcf56",
   "metadata": {},
   "source": [
    "Question: Check if all elements in the list of strings [\"apple\", \"banana\", \"cherry\"] have a length greater than 3 using the all() function."
   ]
  },
  {
   "cell_type": "code",
   "execution_count": 5,
   "id": "89e63c21",
   "metadata": {},
   "outputs": [
    {
     "name": "stdout",
     "output_type": "stream",
     "text": [
      "True\n"
     ]
    }
   ],
   "source": [
    "fruit_list = [\"apple\", \"banana\", \"cherry\"]\n",
    "result = all(len(fruit) > 3 for fruit in fruit_list)\n",
    "print(result)  # Output: True"
   ]
  },
  {
   "cell_type": "markdown",
   "id": "2b0a9078",
   "metadata": {},
   "source": [
    "Question: Given a list of strings ['apple', 'banana', 'cherry'], use a list comprehension to create a new list containing only the fruits that have more than 5 characters."
   ]
  },
  {
   "cell_type": "code",
   "execution_count": 6,
   "id": "5272904e",
   "metadata": {},
   "outputs": [
    {
     "name": "stdout",
     "output_type": "stream",
     "text": [
      "['banana', 'cherry']\n"
     ]
    }
   ],
   "source": [
    "fruits = ['apple', 'banana', 'cherry']\n",
    "filtered_fruits = [fruit for fruit in fruits if len(fruit) > 5]\n",
    "print(filtered_fruits)  # Output: ['banana', 'cherry']"
   ]
  },
  {
   "cell_type": "markdown",
   "id": "ec44cb36",
   "metadata": {},
   "source": [
    "Question: Create a function common_elements that takes two lists as input and returns a list of elements that are common in both lists."
   ]
  },
  {
   "cell_type": "code",
   "execution_count": 7,
   "id": "cb63cfce",
   "metadata": {},
   "outputs": [
    {
     "name": "stdout",
     "output_type": "stream",
     "text": [
      "[4, 5]\n"
     ]
    }
   ],
   "source": [
    "def common_elements(list1, list2):\n",
    "    return [element for element in list1 if element in list2]\n",
    "\n",
    "list1 = [1, 2, 3, 4, 5]\n",
    "list2 = [4, 5, 6, 7, 8]\n",
    "result = common_elements(list1, list2)\n",
    "print(result)  # Output: [4, 5]"
   ]
  },
  {
   "cell_type": "markdown",
   "id": "4342938b",
   "metadata": {},
   "source": [
    "Question: Given a dictionary student_scores with student names as keys and their scores as values, create a new dictionary passed_students containing only the students who scored more than 70."
   ]
  },
  {
   "cell_type": "code",
   "execution_count": 8,
   "id": "232a67b9",
   "metadata": {},
   "outputs": [
    {
     "name": "stdout",
     "output_type": "stream",
     "text": [
      "{'Alice': 85, 'Charlie': 75, 'David': 90}\n"
     ]
    }
   ],
   "source": [
    "student_scores = {'Alice': 85, 'Bob': 60, 'Charlie': 75, 'David': 90}\n",
    "passed_students = {name: score for name, score in student_scores.items() if score > 70}\n",
    "print(passed_students)  # Output: {'Alice': 85, 'Charlie': 75, 'David': 90}"
   ]
  },
  {
   "cell_type": "markdown",
   "id": "51589251",
   "metadata": {},
   "source": [
    "Question: Create a function even_numbers that takes a list of numbers as input and returns a list of even numbers using a list comprehension."
   ]
  },
  {
   "cell_type": "code",
   "execution_count": 9,
   "id": "78cc7f74",
   "metadata": {},
   "outputs": [
    {
     "name": "stdout",
     "output_type": "stream",
     "text": [
      "[2, 4, 6, 8, 10]\n"
     ]
    }
   ],
   "source": [
    "def even_numbers(numbers):\n",
    "    return [num for num in numbers if num % 2 == 0]\n",
    "\n",
    "numbers = [1, 2, 3, 4, 5, 6, 7, 8, 9, 10]\n",
    "result = even_numbers(numbers)\n",
    "print(result)  # Output: [2, 4, 6, 8, 10]"
   ]
  },
  {
   "cell_type": "markdown",
   "id": "e077aaaf",
   "metadata": {},
   "source": [
    "Question: Create a function common_characters that takes two strings as input and returns a set of characters that are common in both strings."
   ]
  },
  {
   "cell_type": "code",
   "execution_count": 10,
   "id": "99984f94",
   "metadata": {},
   "outputs": [
    {
     "name": "stdout",
     "output_type": "stream",
     "text": [
      "{'o', 'n', 'p'}\n"
     ]
    }
   ],
   "source": [
    "def common_characters(str1, str2):\n",
    "    return {char for char in str1 if char in str2}\n",
    "\n",
    "string1 = \"programming\"\n",
    "string2 = \"python\"\n",
    "result = common_characters(string1, string2)\n",
    "print(result)  # Output: {'p', 'o', 'g'}\n"
   ]
  }
 ],
 "metadata": {
  "kernelspec": {
   "display_name": "Python 3 (ipykernel)",
   "language": "python",
   "name": "python3"
  },
  "language_info": {
   "codemirror_mode": {
    "name": "ipython",
    "version": 3
   },
   "file_extension": ".py",
   "mimetype": "text/x-python",
   "name": "python",
   "nbconvert_exporter": "python",
   "pygments_lexer": "ipython3",
   "version": "3.9.13"
  },
  "toc": {
   "base_numbering": 1,
   "nav_menu": {},
   "number_sections": true,
   "sideBar": true,
   "skip_h1_title": false,
   "title_cell": "Table of Contents",
   "title_sidebar": "Contents",
   "toc_cell": false,
   "toc_position": {},
   "toc_section_display": true,
   "toc_window_display": false
  }
 },
 "nbformat": 4,
 "nbformat_minor": 5
}
