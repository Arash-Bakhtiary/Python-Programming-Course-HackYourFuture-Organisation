{
 "cells": [
  {
   "cell_type": "markdown",
   "id": "dbee02f3",
   "metadata": {},
   "source": [
    "# Short Hand If ... Else (Advanced)"
   ]
  },
  {
   "cell_type": "markdown",
   "id": "ca9ffa6b",
   "metadata": {},
   "source": [
    "Question: Write a program that calculates the factorial of a given number using a short-hand if statement and a recursive function."
   ]
  },
  {
   "cell_type": "code",
   "execution_count": 1,
   "id": "0e39a3bd",
   "metadata": {},
   "outputs": [
    {
     "name": "stdout",
     "output_type": "stream",
     "text": [
      "Enter a number: 7\n",
      "The factorial of 7 is 5040\n"
     ]
    }
   ],
   "source": [
    "def factorial(n):\n",
    "    return 1 if n == 0 else n * factorial(n - 1)\n",
    "\n",
    "number = int(input(\"Enter a number: \"))\n",
    "result = factorial(number)\n",
    "print(f\"The factorial of {number} is {result}\")"
   ]
  },
  {
   "cell_type": "markdown",
   "id": "a2023047",
   "metadata": {},
   "source": [
    "Question: Create a program that determines if a given number is a palindrome using a short-hand if statement and string manipulation."
   ]
  },
  {
   "cell_type": "code",
   "execution_count": 2,
   "id": "6d776d03",
   "metadata": {},
   "outputs": [
    {
     "name": "stdout",
     "output_type": "stream",
     "text": [
      "Enter a number: 7\n",
      "Palindrome\n"
     ]
    }
   ],
   "source": [
    "number = int(input(\"Enter a number: \"))\n",
    "original_number = number\n",
    "reversed_number = int(str(number)[::-1])\n",
    "is_palindrome = \"Palindrome\" if original_number == reversed_number else \"Not Palindrome\"\n",
    "print(is_palindrome)"
   ]
  },
  {
   "cell_type": "markdown",
   "id": "3948410f",
   "metadata": {},
   "source": [
    "Question: Write a program that checks if a given string is a pangram using a short-hand if statement and a set."
   ]
  },
  {
   "cell_type": "code",
   "execution_count": 3,
   "id": "3beaddfc",
   "metadata": {},
   "outputs": [
    {
     "name": "stdout",
     "output_type": "stream",
     "text": [
      "Enter a sentence: how are you?\n",
      "Not Pangram\n"
     ]
    }
   ],
   "source": [
    "import string\n",
    "\n",
    "sentence = input(\"Enter a sentence: \").lower()\n",
    "alphabet = set(string.ascii_lowercase)\n",
    "is_pangram = \"Pangram\" if set(sentence) >= alphabet else \"Not Pangram\"\n",
    "print(is_pangram)"
   ]
  },
  {
   "cell_type": "markdown",
   "id": "8c4de881",
   "metadata": {},
   "source": [
    "Question: Create a program that calculates the sum of the digits of a given number using a short-hand if statement and list comprehension."
   ]
  },
  {
   "cell_type": "code",
   "execution_count": 4,
   "id": "79a77823",
   "metadata": {},
   "outputs": [
    {
     "name": "stdout",
     "output_type": "stream",
     "text": [
      "Enter a number: 123\n",
      "The sum of the digits of 123 is 6\n"
     ]
    }
   ],
   "source": [
    "number = int(input(\"Enter a number: \"))\n",
    "sum_digits = sum(int(digit) for digit in str(abs(number)))\n",
    "print(f\"The sum of the digits of {number} is {sum_digits}\")"
   ]
  },
  {
   "cell_type": "markdown",
   "id": "3edfc4af",
   "metadata": {},
   "source": [
    "Question: Write a program that generates a list of prime numbers up to a given limit using a short-hand if statement and list comprehension."
   ]
  },
  {
   "cell_type": "code",
   "execution_count": 5,
   "id": "69c2947b",
   "metadata": {},
   "outputs": [
    {
     "name": "stdout",
     "output_type": "stream",
     "text": [
      "Enter a limit: 34\n",
      "Prime numbers: [2, 3, 5, 7, 11, 13, 17, 19, 23, 29, 31]\n"
     ]
    }
   ],
   "source": [
    "limit = int(input(\"Enter a limit: \"))\n",
    "primes = [num for num in range(2, limit + 1) if all(num % i != 0 for i in range(2, int(num ** 0.5) + 1))]\n",
    "print(\"Prime numbers:\", primes)"
   ]
  },
  {
   "cell_type": "markdown",
   "id": "7915bbf2",
   "metadata": {},
   "source": [
    "Question: Write a program that determines the mode of a given list of numbers using a short-hand if statement and a dictionary."
   ]
  },
  {
   "cell_type": "code",
   "execution_count": 7,
   "id": "bd2a6063",
   "metadata": {},
   "outputs": [
    {
     "name": "stdout",
     "output_type": "stream",
     "text": [
      "Enter a list of numbers separated by spaces: 1 7 2 4 9 4 1 10\n",
      "Mode: [1, 4]\n"
     ]
    }
   ],
   "source": [
    "numbers = [int(x) for x in input(\"Enter a list of numbers separated by spaces: \").split()]\n",
    "frequency = {}\n",
    "mode = None\n",
    "\n",
    "for number in numbers:\n",
    "    frequency[number] = frequency.get(number, 0) + 1\n",
    "\n",
    "max_frequency = max(frequency.values())\n",
    "mode = [number for number, freq in frequency.items() if freq == max_frequency]\n",
    "\n",
    "print(\"Mode:\", mode)"
   ]
  },
  {
   "cell_type": "markdown",
   "id": "058bb299",
   "metadata": {},
   "source": [
    "Question: Create a program that sorts a list of numbers in ascending order using a short-hand if statement and the sorted() function."
   ]
  },
  {
   "cell_type": "code",
   "execution_count": 8,
   "id": "1184b996",
   "metadata": {},
   "outputs": [
    {
     "name": "stdout",
     "output_type": "stream",
     "text": [
      "Enter a list of numbers separated by spaces: 1 2 3 8 2 6 3\n",
      "Sorted numbers: [1, 2, 2, 3, 3, 6, 8]\n"
     ]
    }
   ],
   "source": [
    "numbers = [int(x) for x in input(\"Enter a list of numbers separated by spaces: \").split()]\n",
    "sorted_numbers = sorted(numbers)\n",
    "print(\"Sorted numbers:\", sorted_numbers)"
   ]
  },
  {
   "cell_type": "markdown",
   "id": "54c0b0c6",
   "metadata": {},
   "source": [
    "Question: Write a program that simulates a simple calculator using a short-hand if statement and functions."
   ]
  },
  {
   "cell_type": "code",
   "execution_count": 9,
   "id": "2c1dbe35",
   "metadata": {},
   "outputs": [
    {
     "name": "stdout",
     "output_type": "stream",
     "text": [
      "Select operation:\n",
      "1. Add\n",
      "2. Subtract\n",
      "3. Multiply\n",
      "4. Divide\n",
      "Enter choice (1/2/3/4): 2\n",
      "Enter first number: 4\n",
      "Enter second number: 7\n",
      "Result: -3.0\n"
     ]
    }
   ],
   "source": [
    "def add(x, y): return x + y\n",
    "def subtract(x, y): return x - y\n",
    "def multiply(x, y): return x * y\n",
    "def divide(x, y): return x / y\n",
    "\n",
    "print(\"Select operation:\")\n",
    "print(\"1. Add\")\n",
    "print(\"2. Subtract\")\n",
    "print(\"3. Multiply\")\n",
    "print(\"4. Divide\")\n",
    "\n",
    "choice = int(input(\"Enter choice (1/2/3/4): \"))\n",
    "\n",
    "num1 = float(input(\"Enter first number: \"))\n",
    "num2 = float(input(\"Enter second number: \"))\n",
    "\n",
    "result = add(num1, num2) if choice == 1 else subtract(num1, num2) if choice == 2 else multiply(num1, num2) if choice == 3 else divide(num1, num2)\n",
    "print(\"Result:\", result)"
   ]
  },
  {
   "cell_type": "markdown",
   "id": "2b3a553c",
   "metadata": {},
   "source": [
    "Question: Create a program that generates a random password using a short-hand if statement, string manipulation, and the random module."
   ]
  },
  {
   "cell_type": "code",
   "execution_count": 10,
   "id": "095165b7",
   "metadata": {},
   "outputs": [
    {
     "name": "stdout",
     "output_type": "stream",
     "text": [
      "Enter the length of the password: 8\n",
      "Generated password: R5Ae?[n[\n"
     ]
    }
   ],
   "source": [
    "import random\n",
    "import string\n",
    "\n",
    "length = int(input(\"Enter the length of the password: \"))\n",
    "characters = string.ascii_letters + string.digits + string.punctuation\n",
    "password = ''.join(random.choice(characters) for _ in range(length))\n",
    "print(\"Generated password:\", password)"
   ]
  },
  {
   "cell_type": "markdown",
   "id": "9878908e",
   "metadata": {},
   "source": [
    "Question: Create a program that finds the longest word in a given sentence using a short-hand if statement and list comprehension."
   ]
  },
  {
   "cell_type": "code",
   "execution_count": 11,
   "id": "5c7e7d39",
   "metadata": {},
   "outputs": [
    {
     "name": "stdout",
     "output_type": "stream",
     "text": [
      "Enter a sentence: how are you?\n",
      "Longest word: you?\n"
     ]
    }
   ],
   "source": [
    "sentence = input(\"Enter a sentence: \")\n",
    "longest_word = max((word for word in sentence.split()), key=len)\n",
    "print(\"Longest word:\", longest_word)"
   ]
  },
  {
   "cell_type": "markdown",
   "id": "2ccca78d",
   "metadata": {},
   "source": [
    "Question: Write a program that calculates the sum of all even numbers in a given list using a short-hand if statement and list comprehension."
   ]
  },
  {
   "cell_type": "code",
   "execution_count": 12,
   "id": "b5c1929b",
   "metadata": {},
   "outputs": [
    {
     "name": "stdout",
     "output_type": "stream",
     "text": [
      "Enter a list of numbers separated by spaces: 1 2 3 4 5 7 2 5\n",
      "Sum of even numbers: 8\n"
     ]
    }
   ],
   "source": [
    "numbers = [int(x) for x in input(\"Enter a list of numbers separated by spaces: \").split()]\n",
    "sum_even = sum(num for num in numbers if num % 2 == 0)\n",
    "print(\"Sum of even numbers:\", sum_even)"
   ]
  },
  {
   "cell_type": "markdown",
   "id": "8cb96ca0",
   "metadata": {},
   "source": [
    "Question: Write a program that calculates the area of a rectangle or triangle based on user input using a short-hand if statement."
   ]
  },
  {
   "cell_type": "code",
   "execution_count": 13,
   "id": "c5536740",
   "metadata": {},
   "outputs": [
    {
     "name": "stdout",
     "output_type": "stream",
     "text": [
      "Enter the shape (rectangle/triangle): rectangle\n",
      "Enter the base: 3\n",
      "Enter the height: 4\n",
      "Area of rectangle: 12.0\n"
     ]
    }
   ],
   "source": [
    "shape = input(\"Enter the shape (rectangle/triangle): \")\n",
    "base = float(input(\"Enter the base: \"))\n",
    "height = float(input(\"Enter the height: \"))\n",
    "area = (base * height) if shape == \"rectangle\" else (base * height) / 2 if shape == \"triangle\" else \"Invalid shape\"\n",
    "print(f\"Area of {shape}: {area}\")"
   ]
  },
  {
   "cell_type": "markdown",
   "id": "5f4cf9dc",
   "metadata": {},
   "source": [
    "Question: Create a program that generates a list of all prime numbers within a given range using a short-hand if statement and a list comprehension."
   ]
  },
  {
   "cell_type": "code",
   "execution_count": 14,
   "id": "eb845c4a",
   "metadata": {},
   "outputs": [
    {
     "name": "stdout",
     "output_type": "stream",
     "text": [
      "Enter the starting number: 7\n",
      "Enter the ending number: 20\n",
      "Prime numbers: [7, 11, 13, 17, 19]\n"
     ]
    }
   ],
   "source": [
    "start = int(input(\"Enter the starting number: \"))\n",
    "end = int(input(\"Enter the ending number: \"))\n",
    "primes = [num for num in range(start, end + 1) if all(num % i != 0 for i in range(2, int(num ** 0.5) + 1))]\n",
    "print(\"Prime numbers:\", primes)"
   ]
  },
  {
   "cell_type": "markdown",
   "id": "27a6ec20",
   "metadata": {},
   "source": [
    "Question: Write a program that calculates the total price of items in a shopping cart, including tax and discount, using a short-hand if statement."
   ]
  },
  {
   "cell_type": "code",
   "execution_count": 15,
   "id": "707544a9",
   "metadata": {},
   "outputs": [
    {
     "name": "stdout",
     "output_type": "stream",
     "text": [
      "Total price: 95\n",
      "Total price with tax: 104.5\n",
      "Final price after discount: 88.825\n"
     ]
    }
   ],
   "source": [
    "cart = {\n",
    "    \"item1\": {\"price\": 10, \"quantity\": 2},\n",
    "    \"item2\": {\"price\": 15, \"quantity\": 1},\n",
    "    \"item3\": {\"price\": 20, \"quantity\": 3}\n",
    "}\n",
    "\n",
    "tax_rate = 0.1\n",
    "discount = 0.15\n",
    "\n",
    "total_price = sum(item[\"price\"] * item[\"quantity\"] for item in cart.values())\n",
    "total_price_with_tax = total_price + (total_price * tax_rate)\n",
    "final_price = total_price_with_tax - (total_price_with_tax * discount)\n",
    "\n",
    "print(\"Total price:\", total_price)\n",
    "print(\"Total price with tax:\", total_price_with_tax)\n",
    "print(\"Final price after discount:\", final_price)"
   ]
  },
  {
   "cell_type": "markdown",
   "id": "6fc4c86c",
   "metadata": {},
   "source": [
    "Question: Create a program that converts a decimal number to its binary representation using a short-hand if statement and string formatting."
   ]
  },
  {
   "cell_type": "code",
   "execution_count": 16,
   "id": "d5344b8f",
   "metadata": {},
   "outputs": [
    {
     "name": "stdout",
     "output_type": "stream",
     "text": [
      "Enter a decimal number: 23\n",
      "Binary representation: 10111\n"
     ]
    }
   ],
   "source": [
    "decimal_number = int(input(\"Enter a decimal number: \"))\n",
    "binary_representation = \"{0:b}\".format(decimal_number)\n",
    "print(\"Binary representation:\", binary_representation)"
   ]
  },
  {
   "cell_type": "markdown",
   "id": "7e75dbd3",
   "metadata": {},
   "source": [
    "Question: Write a program that checks if a given year is a leap year using a short-hand if statement and a combination of conditions."
   ]
  },
  {
   "cell_type": "code",
   "execution_count": 17,
   "id": "7a3b0067",
   "metadata": {},
   "outputs": [
    {
     "name": "stdout",
     "output_type": "stream",
     "text": [
      "Enter a year: 1987\n",
      "1987 is a leap year: False\n"
     ]
    }
   ],
   "source": [
    "year = int(input(\"Enter a year: \"))\n",
    "is_leap_year = (year % 4 == 0) and (year % 100 != 0 or year % 400 == 0)\n",
    "print(f\"{year} is a leap year: {is_leap_year}\")"
   ]
  },
  {
   "cell_type": "markdown",
   "id": "5f100e6f",
   "metadata": {},
   "source": [
    "Question: Create a program that performs basic calculator operations (add, subtract, multiply, divide) based on user input using a short-hand if statement."
   ]
  },
  {
   "cell_type": "code",
   "execution_count": 18,
   "id": "4f5e4112",
   "metadata": {},
   "outputs": [
    {
     "name": "stdout",
     "output_type": "stream",
     "text": [
      "Enter the operation (+, -, *, /): *\n",
      "Enter the first number: 2\n",
      "Enter the second number: 5\n",
      "Result: 10.0\n"
     ]
    }
   ],
   "source": [
    "operation = input(\"Enter the operation (+, -, *, /): \")\n",
    "num1 = float(input(\"Enter the first number: \"))\n",
    "num2 = float(input(\"Enter the second number: \"))\n",
    "\n",
    "result = num1 + num2 if operation == \"+\" else num1 - num2 if operation == \"-\" else num1 * num2 if operation == \"*\" else num1 / num2 if operation == \"/\" else \"Invalid operation\"\n",
    "print(\"Result:\", result)"
   ]
  },
  {
   "cell_type": "markdown",
   "id": "d10bd51e",
   "metadata": {},
   "source": [
    "Question: Write a program that calculates the sum of the squares of even numbers and the cubes of odd numbers in a given list using a short-hand if statement and list comprehension."
   ]
  },
  {
   "cell_type": "code",
   "execution_count": 19,
   "id": "26cff7d3",
   "metadata": {},
   "outputs": [
    {
     "name": "stdout",
     "output_type": "stream",
     "text": [
      "Enter a list of numbers separated by spaces: 1 4 7 8 9 12 34 2 6 7\n",
      "Sum of squares of even numbers: 1420\n",
      "Sum of cubes of odd numbers: 1416\n"
     ]
    }
   ],
   "source": [
    "numbers = [int(x) for x in input(\"Enter a list of numbers separated by spaces: \").split()]\n",
    "sum_squares = sum(num ** 2 for num in numbers if num % 2 == 0)\n",
    "sum_cubes = sum(num ** 3 for num in numbers if num % 2 != 0)\n",
    "print(\"Sum of squares of even numbers:\", sum_squares)\n",
    "print(\"Sum of cubes of odd numbers:\", sum_cubes)"
   ]
  },
  {
   "cell_type": "markdown",
   "id": "70a9d4d0",
   "metadata": {},
   "source": [
    "Question: Create a program that generates a list of Fibonacci numbers (even and odd) up to a given limit using a short-hand if statement and a generator function."
   ]
  },
  {
   "cell_type": "code",
   "execution_count": 20,
   "id": "27901023",
   "metadata": {},
   "outputs": [
    {
     "name": "stdout",
     "output_type": "stream",
     "text": [
      "Enter a limit: 7\n",
      "Fibonacci numbers: [0, 1, 1, 2, 3, 5]\n",
      "Even Fibonacci numbers: [0, 2]\n",
      "Odd Fibonacci numbers: [1, 1, 3, 5]\n"
     ]
    }
   ],
   "source": [
    "def fibonacci(limit):\n",
    "    a, b = 0, 1\n",
    "    while a <= limit:\n",
    "        yield a\n",
    "        a, b = b, a + b\n",
    "\n",
    "limit = int(input(\"Enter a limit: \"))\n",
    "fibonacci_numbers = list(fibonacci(limit))\n",
    "even_fibonacci = [num for num in fibonacci_numbers if num % 2 == 0]\n",
    "odd_fibonacci = [num for num in fibonacci_numbers if num % 2 != 0]\n",
    "\n",
    "print(\"Fibonacci numbers:\", fibonacci_numbers)\n",
    "print(\"Even Fibonacci numbers:\", even_fibonacci)\n",
    "print(\"Odd Fibonacci numbers:\", odd_fibonacci)"
   ]
  }
 ],
 "metadata": {
  "kernelspec": {
   "display_name": "Python 3 (ipykernel)",
   "language": "python",
   "name": "python3"
  },
  "language_info": {
   "codemirror_mode": {
    "name": "ipython",
    "version": 3
   },
   "file_extension": ".py",
   "mimetype": "text/x-python",
   "name": "python",
   "nbconvert_exporter": "python",
   "pygments_lexer": "ipython3",
   "version": "3.9.13"
  },
  "toc": {
   "base_numbering": 1,
   "nav_menu": {},
   "number_sections": true,
   "sideBar": true,
   "skip_h1_title": false,
   "title_cell": "Table of Contents",
   "title_sidebar": "Contents",
   "toc_cell": false,
   "toc_position": {},
   "toc_section_display": true,
   "toc_window_display": false
  }
 },
 "nbformat": 4,
 "nbformat_minor": 5
}
