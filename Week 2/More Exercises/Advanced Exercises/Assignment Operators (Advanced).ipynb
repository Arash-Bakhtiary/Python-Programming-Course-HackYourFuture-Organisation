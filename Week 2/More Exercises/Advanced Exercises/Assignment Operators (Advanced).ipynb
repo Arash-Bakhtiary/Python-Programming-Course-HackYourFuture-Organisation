{
 "cells": [
  {
   "cell_type": "markdown",
   "id": "dbee02f3",
   "metadata": {},
   "source": [
    "# Assignment Operators (Advanced)"
   ]
  },
  {
   "cell_type": "markdown",
   "id": "ca9ffa6b",
   "metadata": {},
   "source": [
    "Question: Create a list items containing dictionaries with item names and quantities. Add 2 to the quantity of each item using the assignment operator."
   ]
  },
  {
   "cell_type": "code",
   "execution_count": 2,
   "id": "0a062fdc",
   "metadata": {},
   "outputs": [
    {
     "data": {
      "text/plain": [
       "[{'item': 'apple', 'quantity': 12}, {'item': 'banana', 'quantity': 17}]"
      ]
     },
     "execution_count": 2,
     "metadata": {},
     "output_type": "execute_result"
    }
   ],
   "source": [
    "items = [{'item': 'apple', 'quantity': 10}, {'item': 'banana', 'quantity': 15}]\n",
    "for item in items:\n",
    "    item['quantity'] += 2\n",
    "items"
   ]
  },
  {
   "cell_type": "markdown",
   "id": "2494ddfb",
   "metadata": {},
   "source": [
    "Question: Create a dictionary inventory containing items and their quantities. Simulate sales by subtracting a random quantity between 1 and 5 from each item's quantity using the assignment operator."
   ]
  },
  {
   "cell_type": "code",
   "execution_count": 4,
   "id": "facb1f6c",
   "metadata": {},
   "outputs": [
    {
     "data": {
      "text/plain": [
       "{'item1': 19, 'item2': 11, 'item3': 27, 'item4': 9}"
      ]
     },
     "execution_count": 4,
     "metadata": {},
     "output_type": "execute_result"
    }
   ],
   "source": [
    "import random\n",
    "\n",
    "inventory = {'item1': 20, 'item2': 15, 'item3': 30, 'item4': 10}\n",
    "for item in inventory:\n",
    "    inventory[item] -= random.randint(1, 5)\n",
    "inventory"
   ]
  },
  {
   "cell_type": "markdown",
   "id": "2d95836d",
   "metadata": {},
   "source": [
    "Question: Create a dictionary scores with student names as keys and their exam scores as values. Update the dictionary by removing students who scored less than 60 using the assignment operator."
   ]
  },
  {
   "cell_type": "code",
   "execution_count": 6,
   "id": "94b72eea",
   "metadata": {},
   "outputs": [
    {
     "data": {
      "text/plain": [
       "{'Alice': 85, 'Charlie': 70}"
      ]
     },
     "execution_count": 6,
     "metadata": {},
     "output_type": "execute_result"
    }
   ],
   "source": [
    "scores = {'Alice': 85, 'Bob': 45, 'Charlie': 70, 'David': 55}\n",
    "scores = {student: score for student, score in scores.items() if score >= 60}\n",
    "scores"
   ]
  },
  {
   "cell_type": "markdown",
   "id": "eea538a0",
   "metadata": {},
   "source": [
    "Question: Create a list numbers containing integers. Compute the running total and store it in a new list using the assignment operator."
   ]
  },
  {
   "cell_type": "code",
   "execution_count": 8,
   "id": "0c225a0a",
   "metadata": {},
   "outputs": [
    {
     "data": {
      "text/plain": [
       "[5, 15, 30, 50, 75]"
      ]
     },
     "execution_count": 8,
     "metadata": {},
     "output_type": "execute_result"
    }
   ],
   "source": [
    "numbers = [5, 10, 15, 20, 25]\n",
    "running_total = []\n",
    "total = 0\n",
    "for num in numbers:\n",
    "    total += num\n",
    "    running_total.append(total)\n",
    "running_total"
   ]
  },
  {
   "cell_type": "markdown",
   "id": "18031387",
   "metadata": {},
   "source": [
    "Question: Given a string text, count the occurrences of each character and store the results in a dictionary using the assignment operator."
   ]
  },
  {
   "cell_type": "code",
   "execution_count": 10,
   "id": "d048a9c2",
   "metadata": {},
   "outputs": [
    {
     "data": {
      "text/plain": [
       "{'p': 2,\n",
       " 'y': 1,\n",
       " 't': 1,\n",
       " 'h': 1,\n",
       " 'o': 2,\n",
       " 'n': 2,\n",
       " ' ': 1,\n",
       " 'r': 2,\n",
       " 'g': 2,\n",
       " 'a': 1,\n",
       " 'm': 2,\n",
       " 'i': 1}"
      ]
     },
     "execution_count": 10,
     "metadata": {},
     "output_type": "execute_result"
    }
   ],
   "source": [
    "text = \"python programming\"\n",
    "char_count = {}\n",
    "for char in text:\n",
    "    if char in char_count:\n",
    "        char_count[char] += 1\n",
    "    else:\n",
    "        char_count[char] = 1\n",
    "char_count"
   ]
  },
  {
   "cell_type": "markdown",
   "id": "bebcc753",
   "metadata": {},
   "source": [
    "Question: Create a list expenses containing dictionaries with expense details. Use the assignment operator to add a new key 'category' to each dictionary and assign a random category from a predefined list."
   ]
  },
  {
   "cell_type": "code",
   "execution_count": 12,
   "id": "4d94eed6",
   "metadata": {},
   "outputs": [
    {
     "data": {
      "text/plain": [
       "{'amount': 200, 'description': 'Utilities', 'category': 'Utilities'}"
      ]
     },
     "execution_count": 12,
     "metadata": {},
     "output_type": "execute_result"
    }
   ],
   "source": [
    "import random\n",
    "\n",
    "categories = ['Groceries', 'Entertainment', 'Utilities', 'Transportation']\n",
    "expenses = [{'amount': 100, 'description': 'Groceries'},\n",
    "            {'amount': 50, 'description': 'Entertainment'},\n",
    "            {'amount': 200, 'description': 'Utilities'}]\n",
    "\n",
    "for expense in expenses:\n",
    "    expense['category'] = random.choice(categories)\n",
    "expense"
   ]
  },
  {
   "cell_type": "markdown",
   "id": "93a0a208",
   "metadata": {},
   "source": [
    "Question: Given a list of student names students, create a new list roll_numbers by assigning each student a roll number in sequential order."
   ]
  },
  {
   "cell_type": "code",
   "execution_count": 14,
   "id": "9e1d4919",
   "metadata": {},
   "outputs": [
    {
     "data": {
      "text/plain": [
       "[{'name': 'Alice', 'roll_number': 1},\n",
       " {'name': 'Bob', 'roll_number': 2},\n",
       " {'name': 'Charlie', 'roll_number': 3},\n",
       " {'name': 'David', 'roll_number': 4}]"
      ]
     },
     "execution_count": 14,
     "metadata": {},
     "output_type": "execute_result"
    }
   ],
   "source": [
    "students = ['Alice', 'Bob', 'Charlie', 'David']\n",
    "roll_numbers = []\n",
    "for i, student in enumerate(students, start=1):\n",
    "    roll_numbers.append({'name': student, 'roll_number': i})\n",
    "roll_numbers"
   ]
  },
  {
   "cell_type": "markdown",
   "id": "683c1a8b",
   "metadata": {},
   "source": [
    "Question: Create a list matrix representing a 2D matrix. Use the assignment operator to transpose the matrix, i.e., swap rows with columns."
   ]
  },
  {
   "cell_type": "code",
   "execution_count": 16,
   "id": "220acf84",
   "metadata": {},
   "outputs": [
    {
     "data": {
      "text/plain": [
       "[[1, 4, 7], [2, 5, 8], [3, 6, 9]]"
      ]
     },
     "execution_count": 16,
     "metadata": {},
     "output_type": "execute_result"
    }
   ],
   "source": [
    "matrix = [[1, 2, 3], [4, 5, 6], [7, 8, 9]]\n",
    "transposed_matrix = [[row[i] for row in matrix] for i in range(len(matrix[0]))]\n",
    "transposed_matrix"
   ]
  },
  {
   "cell_type": "markdown",
   "id": "7a06a78a",
   "metadata": {},
   "source": [
    "Question: Given a list data containing dictionaries, where each dictionary represents a person with attributes like 'name', 'age', and 'salary', use the assignment operator to sort the list of dictionaries based on the 'salary' key."
   ]
  },
  {
   "cell_type": "code",
   "execution_count": null,
   "id": "367967bf",
   "metadata": {},
   "outputs": [],
   "source": [
    "data = [{'name': 'Alice', 'age': 25, 'salary': 60000},\n",
    "        {'name': 'Bob', 'age': 30, 'salary': 80000},\n",
    "        {'name': 'Charlie', 'age': 28, 'salary': 70000}]\n",
    "sorted_data = sorted(data, key=lambda x: x['salary'])\n"
   ]
  },
  {
   "cell_type": "markdown",
   "id": "92896dac",
   "metadata": {},
   "source": [
    "Question: Create a dictionary inventory with item names as keys and quantities as values. Simulate sales by reading sales data from another dictionary sales and subtracting sold quantities from the inventory using the assignment operator."
   ]
  },
  {
   "cell_type": "code",
   "execution_count": 18,
   "id": "88be9e18",
   "metadata": {},
   "outputs": [
    {
     "data": {
      "text/plain": [
       "{'item1': 15, 'item2': 15, 'item3': 20, 'item4': 10}"
      ]
     },
     "execution_count": 18,
     "metadata": {},
     "output_type": "execute_result"
    }
   ],
   "source": [
    "inventory = {'item1': 20, 'item2': 15, 'item3': 30, 'item4': 10}\n",
    "sales = {'item1': 5, 'item3': 10}\n",
    "for item, quantity in sales.items():\n",
    "    if item in inventory:\n",
    "        inventory[item] -= quantity\n",
    "inventory"
   ]
  },
  {
   "cell_type": "markdown",
   "id": "86cc8b0e",
   "metadata": {},
   "source": [
    "Question: Initialize a list data containing dictionaries. Use the assignment operator to update a specific key's value in each dictionary based on a condition."
   ]
  },
  {
   "cell_type": "code",
   "execution_count": 19,
   "id": "4717a261",
   "metadata": {},
   "outputs": [
    {
     "data": {
      "text/plain": [
       "{'name': 'Charlie', 'age': 28, 'score': 92, 'grade': 'A'}"
      ]
     },
     "execution_count": 19,
     "metadata": {},
     "output_type": "execute_result"
    }
   ],
   "source": [
    "data = [{'name': 'Alice', 'age': 25, 'score': 85},\n",
    "        {'name': 'Bob', 'age': 30, 'score': 70},\n",
    "        {'name': 'Charlie', 'age': 28, 'score': 92}]\n",
    "for person in data:\n",
    "    if person['score'] >= 90:\n",
    "        person['grade'] = 'A'\n",
    "    elif person['score'] >= 80:\n",
    "        person['grade'] = 'B'\n",
    "    else:\n",
    "        person['grade'] = 'C'\n",
    "person"
   ]
  },
  {
   "cell_type": "markdown",
   "id": "558db24d",
   "metadata": {},
   "source": [
    "Question: Create a list data containing dictionaries representing students and their subjects. Use the assignment operator to add a new subject and its score to each student's dictionary."
   ]
  },
  {
   "cell_type": "code",
   "execution_count": 20,
   "id": "68f3ae7f",
   "metadata": {},
   "outputs": [
    {
     "data": {
      "text/plain": [
       "{'name': 'Charlie', 'subjects': {'English': 95, 'History': 73}}"
      ]
     },
     "execution_count": 20,
     "metadata": {},
     "output_type": "execute_result"
    }
   ],
   "source": [
    "data = [{'name': 'Alice', 'subjects': {'Math': 90, 'English': 85}},\n",
    "        {'name': 'Bob', 'subjects': {'Math': 75, 'Science': 80}},\n",
    "        {'name': 'Charlie', 'subjects': {'English': 95}}]\n",
    "for student in data:\n",
    "    student['subjects']['History'] = random.randint(70, 100)\n",
    "student"
   ]
  },
  {
   "cell_type": "markdown",
   "id": "449395f8",
   "metadata": {},
   "source": [
    "Question: Create a list numbers containing integers. Use the assignment operator to find the difference between consecutive elements and store the differences in a new list."
   ]
  },
  {
   "cell_type": "code",
   "execution_count": 22,
   "id": "7aea3559",
   "metadata": {},
   "outputs": [
    {
     "data": {
      "text/plain": [
       "[4, 5, 7, 9]"
      ]
     },
     "execution_count": 22,
     "metadata": {},
     "output_type": "execute_result"
    }
   ],
   "source": [
    "numbers = [5, 9, 14, 21, 30]\n",
    "differences = [numbers[i] - numbers[i - 1] for i in range(1, len(numbers))]\n",
    "differences"
   ]
  },
  {
   "cell_type": "markdown",
   "id": "1af1e3a7",
   "metadata": {},
   "source": [
    "Question: Given a list data containing dictionaries with 'name' and 'score' keys, use the assignment operator to sort the list based on the 'score' key in descending order."
   ]
  },
  {
   "cell_type": "code",
   "execution_count": 24,
   "id": "bcd71a77",
   "metadata": {},
   "outputs": [
    {
     "data": {
      "text/plain": [
       "[{'name': 'Charlie', 'score': 92},\n",
       " {'name': 'Alice', 'score': 85},\n",
       " {'name': 'Bob', 'score': 70}]"
      ]
     },
     "execution_count": 24,
     "metadata": {},
     "output_type": "execute_result"
    }
   ],
   "source": [
    "data = [{'name': 'Alice', 'score': 85},\n",
    "        {'name': 'Bob', 'score': 70},\n",
    "        {'name': 'Charlie', 'score': 92}]\n",
    "data.sort(key=lambda x: x['score'], reverse=True)\n",
    "data"
   ]
  },
  {
   "cell_type": "markdown",
   "id": "1e1e948f",
   "metadata": {},
   "source": [
    "Question: Initialize a dictionary grades containing student names as keys and their scores as values. Use the assignment operator to convert the scores to letter grades based on a predefined grading scale."
   ]
  },
  {
   "cell_type": "code",
   "execution_count": 26,
   "id": "0fcbba2b",
   "metadata": {},
   "outputs": [
    {
     "data": {
      "text/plain": [
       "{'Alice': 'B', 'Bob': 'C', 'Charlie': 'A'}"
      ]
     },
     "execution_count": 26,
     "metadata": {},
     "output_type": "execute_result"
    }
   ],
   "source": [
    "grades = {'Alice': 85, 'Bob': 70, 'Charlie': 92}\n",
    "for student, score in grades.items():\n",
    "    if score >= 90:\n",
    "        grades[student] = 'A'\n",
    "    elif score >= 80:\n",
    "        grades[student] = 'B'\n",
    "    else:\n",
    "        grades[student] = 'C'\n",
    "grades"
   ]
  }
 ],
 "metadata": {
  "kernelspec": {
   "display_name": "Python 3 (ipykernel)",
   "language": "python",
   "name": "python3"
  },
  "language_info": {
   "codemirror_mode": {
    "name": "ipython",
    "version": 3
   },
   "file_extension": ".py",
   "mimetype": "text/x-python",
   "name": "python",
   "nbconvert_exporter": "python",
   "pygments_lexer": "ipython3",
   "version": "3.9.13"
  },
  "toc": {
   "base_numbering": 1,
   "nav_menu": {},
   "number_sections": true,
   "sideBar": true,
   "skip_h1_title": false,
   "title_cell": "Table of Contents",
   "title_sidebar": "Contents",
   "toc_cell": false,
   "toc_position": {},
   "toc_section_display": true,
   "toc_window_display": false
  }
 },
 "nbformat": 4,
 "nbformat_minor": 5
}
