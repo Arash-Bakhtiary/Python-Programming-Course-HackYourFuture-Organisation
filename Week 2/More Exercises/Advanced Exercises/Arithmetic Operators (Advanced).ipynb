{
 "cells": [
  {
   "cell_type": "markdown",
   "id": "dbee02f3",
   "metadata": {},
   "source": [
    "# Arithmetic Operators (Advanced)"
   ]
  },
  {
   "cell_type": "markdown",
   "id": "ca9ffa6b",
   "metadata": {},
   "source": [
    "Question: Write a program that calculates the value of the mathematical constant \"e\" (Euler's number) using its infinite series expansion."
   ]
  },
  {
   "cell_type": "code",
   "execution_count": 1,
   "id": "2f4234e1",
   "metadata": {},
   "outputs": [
    {
     "name": "stdout",
     "output_type": "stream",
     "text": [
      "Approximate Value of e: 2.7182818284590455\n"
     ]
    }
   ],
   "source": [
    "def calculate_e(iterations):\n",
    "    e_approx = 1\n",
    "    factorial = 1\n",
    "    for i in range(1, iterations):\n",
    "        factorial *= i\n",
    "        e_approx += 1 / factorial\n",
    "    return e_approx\n",
    "\n",
    "num_iterations = 1000\n",
    "e_value = calculate_e(num_iterations)\n",
    "print(\"Approximate Value of e:\", e_value)"
   ]
  },
  {
   "cell_type": "markdown",
   "id": "a97d482d",
   "metadata": {},
   "source": [
    "Question: Write a program to perform exponentiation using the fast exponentiation (exponentiation by squaring) algorithm."
   ]
  },
  {
   "cell_type": "code",
   "execution_count": 2,
   "id": "acf8e6d4",
   "metadata": {},
   "outputs": [
    {
     "name": "stdout",
     "output_type": "stream",
     "text": [
      "2 ^ 10 = 1024\n"
     ]
    }
   ],
   "source": [
    "def fast_exponentiation(base, exponent):\n",
    "    if exponent == 0:\n",
    "        return 1\n",
    "    elif exponent % 2 == 0:\n",
    "        temp = fast_exponentiation(base, exponent // 2)\n",
    "        return temp * temp\n",
    "    else:\n",
    "        temp = fast_exponentiation(base, (exponent - 1) // 2)\n",
    "        return base * temp * temp\n",
    "\n",
    "base_value = 2\n",
    "exponent_value = 10\n",
    "result = fast_exponentiation(base_value, exponent_value)\n",
    "print(f\"{base_value} ^ {exponent_value} =\", result)"
   ]
  },
  {
   "cell_type": "markdown",
   "id": "ed1bbec4",
   "metadata": {},
   "source": [
    "Question: Write a program that calculates the value of a continued fraction representation of a square root."
   ]
  },
  {
   "cell_type": "code",
   "execution_count": 3,
   "id": "4345cad7",
   "metadata": {},
   "outputs": [
    {
     "name": "stdout",
     "output_type": "stream",
     "text": [
      "Continued Fraction Representation of sqrt( 7 ): [2, 1, 0, 0, 0, 0, 0, 0, 0, 0, 0]\n"
     ]
    }
   ],
   "source": [
    "def continued_fraction_sqrt(n, iterations):\n",
    "    a = int(n ** 0.5)\n",
    "    fraction = [a]\n",
    "    for i in range(1, iterations + 1):\n",
    "        numerator = 1\n",
    "        denominator = n - a ** 2\n",
    "        a = int((n ** 0.5 + a) / denominator)\n",
    "        fraction.append(a)\n",
    "    return fraction\n",
    "\n",
    "num = 7\n",
    "num_iterations = 10\n",
    "sqrt_fraction = continued_fraction_sqrt(num, num_iterations)\n",
    "print(\"Continued Fraction Representation of sqrt(\", num, \"):\", sqrt_fraction)"
   ]
  },
  {
   "cell_type": "markdown",
   "id": "25b8d732",
   "metadata": {},
   "source": [
    "Question: Write a program to perform long division to calculate the decimal expansion of a fraction."
   ]
  },
  {
   "cell_type": "code",
   "execution_count": 4,
   "id": "2037f3b9",
   "metadata": {},
   "outputs": [
    {
     "name": "stdout",
     "output_type": "stream",
     "text": [
      "Decimal Expansion of 22/7: 3.14285714285714285714\n"
     ]
    }
   ],
   "source": [
    "def long_division(numerator, denominator, precision):\n",
    "    quotient = numerator // denominator\n",
    "    decimal = str(quotient) + \".\"\n",
    "    remainder = numerator % denominator\n",
    "\n",
    "    for _ in range(precision):\n",
    "        remainder *= 10\n",
    "        quotient = remainder // denominator\n",
    "        decimal += str(quotient)\n",
    "        remainder %= denominator\n",
    "\n",
    "    return decimal\n",
    "\n",
    "numerator_val = 22\n",
    "denominator_val = 7\n",
    "precision_val = 20\n",
    "decimal_expansion = long_division(numerator_val, denominator_val, precision_val)\n",
    "print(f\"Decimal Expansion of {numerator_val}/{denominator_val}:\", decimal_expansion)"
   ]
  },
  {
   "cell_type": "markdown",
   "id": "7c464fd7",
   "metadata": {},
   "source": [
    "Question: Write a program that simulates a simple calculator supporting addition, subtraction, multiplication, and division operations."
   ]
  },
  {
   "cell_type": "code",
   "execution_count": 5,
   "id": "c7247616",
   "metadata": {},
   "outputs": [
    {
     "name": "stdout",
     "output_type": "stream",
     "text": [
      "Simple Calculator\n",
      "1. Add\n",
      "2. Subtract\n",
      "3. Multiply\n",
      "4. Divide\n",
      "Enter your choice: 2\n",
      "Enter first number: 4\n",
      "Enter second number: 4\n",
      "Result: 0.0\n"
     ]
    }
   ],
   "source": [
    "def calculator():\n",
    "    print(\"Simple Calculator\")\n",
    "    print(\"1. Add\")\n",
    "    print(\"2. Subtract\")\n",
    "    print(\"3. Multiply\")\n",
    "    print(\"4. Divide\")\n",
    "    \n",
    "    choice = int(input(\"Enter your choice: \"))\n",
    "    num1 = float(input(\"Enter first number: \"))\n",
    "    num2 = float(input(\"Enter second number: \"))\n",
    "    \n",
    "    if choice == 1:\n",
    "        result = num1 + num2\n",
    "    elif choice == 2:\n",
    "        result = num1 - num2\n",
    "    elif choice == 3:\n",
    "        result = num1 * num2\n",
    "    elif choice == 4:\n",
    "        result = num1 / num2\n",
    "    else:\n",
    "        result = \"Invalid choice\"\n",
    "    \n",
    "    print(\"Result:\", result)\n",
    "\n",
    "calculator()\n"
   ]
  },
  {
   "cell_type": "markdown",
   "id": "156e9916",
   "metadata": {},
   "source": [
    "Question: Write a program that simulates a simple calculator supporting addition, subtraction, multiplication, and division operations."
   ]
  },
  {
   "cell_type": "code",
   "execution_count": 6,
   "id": "7d1b4428",
   "metadata": {},
   "outputs": [
    {
     "name": "stdout",
     "output_type": "stream",
     "text": [
      "Simple Calculator\n",
      "1. Add\n",
      "2. Subtract\n",
      "3. Multiply\n",
      "4. Divide\n",
      "Enter your choice: 1\n",
      "Enter first number: 20\n",
      "Enter second number: 30\n",
      "Result: 50.0\n"
     ]
    }
   ],
   "source": [
    "def calculator():\n",
    "    print(\"Simple Calculator\")\n",
    "    print(\"1. Add\")\n",
    "    print(\"2. Subtract\")\n",
    "    print(\"3. Multiply\")\n",
    "    print(\"4. Divide\")\n",
    "    \n",
    "    choice = int(input(\"Enter your choice: \"))\n",
    "    num1 = float(input(\"Enter first number: \"))\n",
    "    num2 = float(input(\"Enter second number: \"))\n",
    "    \n",
    "    if choice == 1:\n",
    "        result = num1 + num2\n",
    "    elif choice == 2:\n",
    "        result = num1 - num2\n",
    "    elif choice == 3:\n",
    "        result = num1 * num2\n",
    "    elif choice == 4:\n",
    "        result = num1 / num2\n",
    "    else:\n",
    "        result = \"Invalid choice\"\n",
    "    \n",
    "    print(\"Result:\", result)\n",
    "\n",
    "calculator()"
   ]
  },
  {
   "cell_type": "markdown",
   "id": "fd64db0f",
   "metadata": {},
   "source": [
    "Question: Write a program to approximate the value of π (pi) using the Leibniz formula for π."
   ]
  },
  {
   "cell_type": "code",
   "execution_count": 8,
   "id": "90707442",
   "metadata": {},
   "outputs": [
    {
     "name": "stdout",
     "output_type": "stream",
     "text": [
      "Approximate Value of π: 3.1415916535897743\n"
     ]
    }
   ],
   "source": [
    "def calculate_pi(iterations):\n",
    "    pi_approx = 0\n",
    "    for i in range(iterations):\n",
    "        term = (-1) ** i / (2 * i + 1)\n",
    "        pi_approx += term\n",
    "    return 4 * pi_approx\n",
    "\n",
    "num_iterations = 1000000\n",
    "pi_value = calculate_pi(num_iterations)\n",
    "print(\"Approximate Value of π:\", pi_value)"
   ]
  },
  {
   "cell_type": "markdown",
   "id": "6e18bc76",
   "metadata": {},
   "source": [
    "Question: Implement a program that calculates the factorial of a large number using the Stirling's approximation formula for factorials."
   ]
  },
  {
   "cell_type": "code",
   "execution_count": 9,
   "id": "aac78460",
   "metadata": {},
   "outputs": [
    {
     "name": "stdout",
     "output_type": "stream",
     "text": [
      "Stirling Approximation of 100!: 9.32484762526942e+157\n",
      "Exact 100!: 93326215443944152681699238856266700490715968264381621468592963895217599993229915608941463976156518286253697920827223758251185210916864000000000000000000000000\n"
     ]
    }
   ],
   "source": [
    "import math\n",
    "\n",
    "def stirling_factorial(n):\n",
    "    return math.sqrt(2 * math.pi * n) * (n / math.e) ** n\n",
    "\n",
    "number = 100\n",
    "approx_factorial = stirling_factorial(number)\n",
    "exact_factorial = math.factorial(number)\n",
    "print(f\"Stirling Approximation of {number}!:\", approx_factorial)\n",
    "print(f\"Exact {number}!:\", exact_factorial)"
   ]
  },
  {
   "cell_type": "markdown",
   "id": "c2771651",
   "metadata": {},
   "source": [
    "Question: Create a program that calculates the value of the mathematical constant \"γ\" (Euler's gamma) using the limit definition."
   ]
  },
  {
   "cell_type": "code",
   "execution_count": 10,
   "id": "2b398653",
   "metadata": {},
   "outputs": [
    {
     "name": "stdout",
     "output_type": "stream",
     "text": [
      "Approximate Value of Euler's Gamma: -1051287.1317529764\n"
     ]
    }
   ],
   "source": [
    "def calculate_euler_gamma(limit):\n",
    "    euler_gamma = 0\n",
    "    for i in range(1, limit + 1):\n",
    "        euler_gamma += 1 / i - math.log(i)\n",
    "    return euler_gamma\n",
    "\n",
    "num_limit = 100000\n",
    "gamma_value = calculate_euler_gamma(num_limit)\n",
    "print(\"Approximate Value of Euler's Gamma:\", gamma_value)"
   ]
  },
  {
   "cell_type": "markdown",
   "id": "4a04def3",
   "metadata": {},
   "source": [
    "Question: Write a program to perform matrix multiplication using nested lists."
   ]
  },
  {
   "cell_type": "code",
   "execution_count": 13,
   "id": "d4ea14eb",
   "metadata": {},
   "outputs": [
    {
     "name": "stdout",
     "output_type": "stream",
     "text": [
      "[19, 22]\n",
      "[43, 50]\n"
     ]
    }
   ],
   "source": [
    "def matrix_multiplication(matrix1, matrix2):\n",
    "    result = []\n",
    "    for i in range(len(matrix1)):\n",
    "        row = []\n",
    "        for j in range(len(matrix2[0])):\n",
    "            sum = 0\n",
    "            for k in range(len(matrix2)):\n",
    "                sum += matrix1[i][k] * matrix2[k][j]\n",
    "            row.append(sum)\n",
    "        result.append(row)\n",
    "    return result\n",
    "\n",
    "matrix1 = [[1, 2], [3, 4]]\n",
    "matrix2 = [[5, 6], [7, 8]]\n",
    "result_matrix = matrix_multiplication(matrix1, matrix2)\n",
    "for row in result_matrix:\n",
    "    print(row)"
   ]
  },
  {
   "cell_type": "markdown",
   "id": "8f0e9597",
   "metadata": {},
   "source": [
    "Question: Implement a program that calculates the square root of a number using the Newton-Raphson method."
   ]
  },
  {
   "cell_type": "code",
   "execution_count": 15,
   "id": "4cbe5a62",
   "metadata": {},
   "outputs": [
    {
     "name": "stdout",
     "output_type": "stream",
     "text": [
      "Square Root of 25: 5.000000000016778\n"
     ]
    }
   ],
   "source": [
    "def newton_sqrt(number, tolerance):\n",
    "    guess = number / 2\n",
    "    while abs(guess ** 2 - number) > tolerance:\n",
    "        guess = (guess + number / guess) / 2\n",
    "    return guess\n",
    "\n",
    "num_to_sqrt = 25\n",
    "tolerance_value = 1e-6\n",
    "sqrt_result = newton_sqrt(num_to_sqrt, tolerance_value)\n",
    "print(f\"Square Root of {num_to_sqrt}:\", sqrt_result)"
   ]
  },
  {
   "cell_type": "markdown",
   "id": "95f41f25",
   "metadata": {},
   "source": [
    "Question: Write a program that computes the value of the exponential function e^x using its Taylor series expansion."
   ]
  },
  {
   "cell_type": "code",
   "execution_count": 16,
   "id": "2daf9533",
   "metadata": {},
   "outputs": [
    {
     "name": "stdout",
     "output_type": "stream",
     "text": [
      "e^2: 7.3887125220458545\n"
     ]
    }
   ],
   "source": [
    "def compute_exponential(x, num_terms):\n",
    "    result = 1\n",
    "    term = 1\n",
    "    for i in range(1, num_terms):\n",
    "        term *= x / i\n",
    "        result += term\n",
    "    return result\n",
    "\n",
    "x_value = 2\n",
    "num_terms = 10\n",
    "exp_result = compute_exponential(x_value, num_terms)\n",
    "print(f\"e^{x_value}:\", exp_result)"
   ]
  },
  {
   "cell_type": "markdown",
   "id": "f372a714",
   "metadata": {},
   "source": [
    "Question: Implement a program that calculates the value of the hyperbolic sine function (sinh(x)) using its Maclaurin series expansion."
   ]
  },
  {
   "cell_type": "code",
   "execution_count": 17,
   "id": "d910a550",
   "metadata": {},
   "outputs": [
    {
     "name": "stdout",
     "output_type": "stream",
     "text": [
      "sinh(1.5): 2.1292794550948178\n"
     ]
    }
   ],
   "source": [
    "def compute_sinh(x, num_terms):\n",
    "    result = x\n",
    "    term = x\n",
    "    for i in range(1, num_terms):\n",
    "        term *= x**2 / (2 * i * (2 * i + 1))\n",
    "        result += term\n",
    "    return result\n",
    "\n",
    "x_value = 1.5\n",
    "num_terms = 10\n",
    "sinh_result = compute_sinh(x_value, num_terms)\n",
    "print(f\"sinh({x_value}):\", sinh_result)"
   ]
  },
  {
   "cell_type": "markdown",
   "id": "3ff95f12",
   "metadata": {},
   "source": [
    "Question: Create a program that calculates the value of the natural logarithm (ln(x)) using the Taylor series expansion."
   ]
  },
  {
   "cell_type": "code",
   "execution_count": 18,
   "id": "6c0eb3b9",
   "metadata": {},
   "outputs": [
    {
     "name": "stdout",
     "output_type": "stream",
     "text": [
      "ln(3): -2.6385750678872366\n"
     ]
    }
   ],
   "source": [
    "def compute_ln(x, num_terms):\n",
    "    result = 0\n",
    "    term = x - 1\n",
    "    for i in range(1, num_terms):\n",
    "        term *= (x - 1) * (-1)\n",
    "        term /= i\n",
    "        result += term / i\n",
    "    return result\n",
    "\n",
    "x_value = 3\n",
    "num_terms = 10\n",
    "ln_result = compute_ln(x_value, num_terms)\n",
    "print(f\"ln({x_value}):\", ln_result)"
   ]
  },
  {
   "cell_type": "markdown",
   "id": "6b552f40",
   "metadata": {},
   "source": [
    "Question: Create a program that calculates the value of the sine function (sin(x)) using its Maclaurin series expansion."
   ]
  },
  {
   "cell_type": "code",
   "execution_count": 22,
   "id": "928d3e4e",
   "metadata": {},
   "outputs": [
    {
     "name": "stdout",
     "output_type": "stream",
     "text": [
      "sin(0.5235987755982988): 0.49999999999999994\n"
     ]
    }
   ],
   "source": [
    "def compute_sin(x, num_terms):\n",
    "    result = x\n",
    "    term = x\n",
    "    for i in range(1, num_terms):\n",
    "        term *= -1 * x**2 / ((2 * i) * (2 * i + 1))\n",
    "        result += term\n",
    "    return result\n",
    "\n",
    "x_value = math.radians(30)\n",
    "num_terms = 10\n",
    "sin_result = compute_sin(x_value, num_terms)\n",
    "print(f\"sin({x_value}):\", sin_result)"
   ]
  }
 ],
 "metadata": {
  "kernelspec": {
   "display_name": "Python 3 (ipykernel)",
   "language": "python",
   "name": "python3"
  },
  "language_info": {
   "codemirror_mode": {
    "name": "ipython",
    "version": 3
   },
   "file_extension": ".py",
   "mimetype": "text/x-python",
   "name": "python",
   "nbconvert_exporter": "python",
   "pygments_lexer": "ipython3",
   "version": "3.9.13"
  },
  "toc": {
   "base_numbering": 1,
   "nav_menu": {},
   "number_sections": true,
   "sideBar": true,
   "skip_h1_title": false,
   "title_cell": "Table of Contents",
   "title_sidebar": "Contents",
   "toc_cell": false,
   "toc_position": {},
   "toc_section_display": true,
   "toc_window_display": false
  }
 },
 "nbformat": 4,
 "nbformat_minor": 5
}
