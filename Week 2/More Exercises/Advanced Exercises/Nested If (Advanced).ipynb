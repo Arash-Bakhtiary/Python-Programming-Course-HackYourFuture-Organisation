{
 "cells": [
  {
   "cell_type": "markdown",
   "id": "dbee02f3",
   "metadata": {},
   "source": [
    "# Nested If  (Advanced)"
   ]
  },
  {
   "cell_type": "markdown",
   "id": "767f1dc4",
   "metadata": {},
   "source": [
    "Question: Write a program that determines whether a person is eligible to vote and whether they are also eligible to run for office.\n",
    "\n",
    "- If the age is 18 or older, they are eligible to vote.\n",
    "- If the age is 25 or older, they are eligible to run for office.\n",
    "- If they are eligible to run for office, check if they have a criminal record (yes/no)."
   ]
  },
  {
   "cell_type": "code",
   "execution_count": 1,
   "id": "eb7d0b93",
   "metadata": {},
   "outputs": [
    {
     "name": "stdout",
     "output_type": "stream",
     "text": [
      "Enter your age: 12\n",
      "You are not eligible to vote or run for office.\n",
      "You are not eligible to run for office.\n"
     ]
    }
   ],
   "source": [
    "age = int(input(\"Enter your age: \"))\n",
    "vote_eligible = False\n",
    "office_eligible = False\n",
    "criminal_record = \"\"\n",
    "\n",
    "if age >= 18:\n",
    "    vote_eligible = True\n",
    "    if age >= 25:\n",
    "        office_eligible = True\n",
    "        criminal_record = input(\"Do you have a criminal record? (yes/no): \")\n",
    "else:\n",
    "    print(\"You are not eligible to vote or run for office.\")\n",
    "\n",
    "if vote_eligible:\n",
    "    print(\"You are eligible to vote.\")\n",
    "    if office_eligible:\n",
    "        if criminal_record.lower() == \"no\":\n",
    "            print(\"You are eligible to run for office.\")\n",
    "        else:\n",
    "            print(\"You are eligible to run for office, but with a criminal record.\")\n",
    "else:\n",
    "    print(\"You are not eligible to run for office.\")\n"
   ]
  },
  {
   "cell_type": "markdown",
   "id": "2a32c819",
   "metadata": {},
   "source": [
    "Question: Create a program to determine the eligibility of a person for voting in an election.\n",
    "\n",
    "- Ask the user for their age.\n",
    "- If the age is 18 or above, check if they are registered to vote.\n",
    "- If they are registered, print \"You are eligible to vote.\"\n",
    "- If they are not registered, print \"Please register to vote.\"\n",
    "- If the age is below 18, print \"You are not eligible to vote.\""
   ]
  },
  {
   "cell_type": "code",
   "execution_count": 2,
   "id": "b924176e",
   "metadata": {},
   "outputs": [
    {
     "name": "stdout",
     "output_type": "stream",
     "text": [
      "Enter your age: 37\n",
      "Are you registered to vote? (yes/no): yes\n",
      "You are eligible to vote.\n"
     ]
    }
   ],
   "source": [
    "age = int(input(\"Enter your age: \"))\n",
    "registered = input(\"Are you registered to vote? (yes/no): \").lower() == \"yes\"\n",
    "\n",
    "if age >= 18:\n",
    "    if registered:\n",
    "        eligibility = \"You are eligible to vote.\"\n",
    "    else:\n",
    "        eligibility = \"Please register to vote.\"\n",
    "else:\n",
    "    eligibility = \"You are not eligible to vote.\"\n",
    "\n",
    "print(eligibility)"
   ]
  }
 ],
 "metadata": {
  "kernelspec": {
   "display_name": "Python 3 (ipykernel)",
   "language": "python",
   "name": "python3"
  },
  "language_info": {
   "codemirror_mode": {
    "name": "ipython",
    "version": 3
   },
   "file_extension": ".py",
   "mimetype": "text/x-python",
   "name": "python",
   "nbconvert_exporter": "python",
   "pygments_lexer": "ipython3",
   "version": "3.9.13"
  },
  "toc": {
   "base_numbering": 1,
   "nav_menu": {},
   "number_sections": true,
   "sideBar": true,
   "skip_h1_title": false,
   "title_cell": "Table of Contents",
   "title_sidebar": "Contents",
   "toc_cell": false,
   "toc_position": {},
   "toc_section_display": true,
   "toc_window_display": false
  }
 },
 "nbformat": 4,
 "nbformat_minor": 5
}
