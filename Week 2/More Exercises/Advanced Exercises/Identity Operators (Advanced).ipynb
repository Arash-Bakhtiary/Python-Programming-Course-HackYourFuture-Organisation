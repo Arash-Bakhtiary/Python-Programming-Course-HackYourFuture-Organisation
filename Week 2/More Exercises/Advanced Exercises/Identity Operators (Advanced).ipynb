{
 "cells": [
  {
   "cell_type": "markdown",
   "id": "dbee02f3",
   "metadata": {},
   "source": [
    "# Identity Operators (Advanced)"
   ]
  },
  {
   "cell_type": "markdown",
   "id": "ca9ffa6b",
   "metadata": {},
   "source": [
    "Question: Check if a custom class instance is the same as its own copy using the is operator."
   ]
  },
  {
   "cell_type": "code",
   "execution_count": null,
   "id": "583e9319",
   "metadata": {},
   "outputs": [],
   "source": [
    "class MyClass:\n",
    "    def __init__(self, value):\n",
    "        self.value = value\n",
    "\n",
    "obj1 = MyClass(10)\n",
    "obj2 = obj1\n",
    "result = obj1 is obj2\n",
    "print(result)\n"
   ]
  },
  {
   "cell_type": "markdown",
   "id": "6c3821b1",
   "metadata": {},
   "source": [
    "Question: Check if two variables referencing the same list are still the same after modifying the list."
   ]
  },
  {
   "cell_type": "code",
   "execution_count": 1,
   "id": "da84856b",
   "metadata": {},
   "outputs": [
    {
     "name": "stdout",
     "output_type": "stream",
     "text": [
      "True\n"
     ]
    }
   ],
   "source": [
    "list1 = [1, 2, 3]\n",
    "list2 = list1\n",
    "list1.append(4)\n",
    "result = list1 is list2\n",
    "print(result)"
   ]
  },
  {
   "cell_type": "markdown",
   "id": "b1ef392e",
   "metadata": {},
   "source": [
    "Question: Check if two different instances of the same class are equal but not identical using the is operator."
   ]
  },
  {
   "cell_type": "code",
   "execution_count": 2,
   "id": "e39a189e",
   "metadata": {},
   "outputs": [
    {
     "name": "stdout",
     "output_type": "stream",
     "text": [
      "False\n"
     ]
    }
   ],
   "source": [
    "class Person:\n",
    "    def __init__(self, name):\n",
    "        self.name = name\n",
    "\n",
    "person1 = Person(\"Alice\")\n",
    "person2 = Person(\"Alice\")\n",
    "result = person1 == person2 and person1 is not person2\n",
    "print(result)"
   ]
  },
  {
   "cell_type": "markdown",
   "id": "41d10b60",
   "metadata": {},
   "source": [
    "Question: Check if two variables referencing the same dictionary are still the same after modifying the dictionary."
   ]
  },
  {
   "cell_type": "code",
   "execution_count": 3,
   "id": "bcae15af",
   "metadata": {},
   "outputs": [
    {
     "name": "stdout",
     "output_type": "stream",
     "text": [
      "True\n"
     ]
    }
   ],
   "source": [
    "dict1 = {\"a\": 1, \"b\": 2}\n",
    "dict2 = dict1\n",
    "dict1[\"c\"] = 3\n",
    "result = dict1 is dict2\n",
    "print(result)"
   ]
  },
  {
   "cell_type": "markdown",
   "id": "14590878",
   "metadata": {},
   "source": [
    "Question: Check if two instances of a custom class are the same reference after modifying one instance."
   ]
  },
  {
   "cell_type": "code",
   "execution_count": 4,
   "id": "d7b56367",
   "metadata": {},
   "outputs": [
    {
     "name": "stdout",
     "output_type": "stream",
     "text": [
      "True\n"
     ]
    }
   ],
   "source": [
    "class Point:\n",
    "    def __init__(self, x, y):\n",
    "        self.x = x\n",
    "        self.y = y\n",
    "\n",
    "point1 = Point(1, 2)\n",
    "point2 = point1\n",
    "point1.x = 3\n",
    "result = point1 is point2\n",
    "print(result)"
   ]
  },
  {
   "cell_type": "markdown",
   "id": "c7db271b",
   "metadata": {},
   "source": [
    "Question: Check if two different instances of a custom class share the same instance dictionary."
   ]
  },
  {
   "cell_type": "code",
   "execution_count": 5,
   "id": "0a898ac4",
   "metadata": {},
   "outputs": [
    {
     "name": "stdout",
     "output_type": "stream",
     "text": [
      "True\n"
     ]
    }
   ],
   "source": [
    "class Singleton:\n",
    "    _instances = {}\n",
    "\n",
    "    def __new__(cls, *args, **kwargs):\n",
    "        if cls not in cls._instances:\n",
    "            cls._instances[cls] = super().__new__(cls)\n",
    "        return cls._instances[cls]\n",
    "\n",
    "instance1 = Singleton()\n",
    "instance2 = Singleton()\n",
    "result = instance1 is instance2\n",
    "print(result)"
   ]
  },
  {
   "cell_type": "markdown",
   "id": "5eb03b14",
   "metadata": {},
   "source": [
    "Question: Check if two variables referencing the same function are still the same after modifying the function."
   ]
  },
  {
   "cell_type": "code",
   "execution_count": 6,
   "id": "a071fe3b",
   "metadata": {},
   "outputs": [
    {
     "name": "stdout",
     "output_type": "stream",
     "text": [
      "False\n"
     ]
    }
   ],
   "source": [
    "def my_function():\n",
    "    return 42\n",
    "\n",
    "func1 = my_function\n",
    "def my_function():\n",
    "    return \"Hello\"\n",
    "\n",
    "func2 = my_function\n",
    "result = func1 is func2\n",
    "print(result)"
   ]
  },
  {
   "cell_type": "markdown",
   "id": "ecec2c8f",
   "metadata": {},
   "source": [
    "Question: Check if a variable referencing a generator expression is the same as another generator expression."
   ]
  },
  {
   "cell_type": "code",
   "execution_count": 7,
   "id": "6c57399b",
   "metadata": {},
   "outputs": [
    {
     "name": "stdout",
     "output_type": "stream",
     "text": [
      "False\n"
     ]
    }
   ],
   "source": [
    "gen1 = (x for x in range(5))\n",
    "gen2 = (x for x in range(5))\n",
    "result = gen1 is gen2\n",
    "print(result)"
   ]
  },
  {
   "cell_type": "markdown",
   "id": "857d42e4",
   "metadata": {},
   "source": [
    "Question: Check if two variables referencing the same set are still the same after adding elements."
   ]
  },
  {
   "cell_type": "code",
   "execution_count": 8,
   "id": "c82ffcd1",
   "metadata": {},
   "outputs": [
    {
     "name": "stdout",
     "output_type": "stream",
     "text": [
      "True\n"
     ]
    }
   ],
   "source": [
    "set1 = {1, 2, 3}\n",
    "set2 = set1\n",
    "set1.add(4)\n",
    "result = set1 is set2\n",
    "print(result)"
   ]
  },
  {
   "cell_type": "markdown",
   "id": "fdafaea8",
   "metadata": {},
   "source": [
    "Question: Check if two separate instances of a custom class share the same internal state."
   ]
  },
  {
   "cell_type": "code",
   "execution_count": 9,
   "id": "f36551a6",
   "metadata": {},
   "outputs": [
    {
     "name": "stdout",
     "output_type": "stream",
     "text": [
      "False\n"
     ]
    }
   ],
   "source": [
    "class SharedState:\n",
    "    def __init__(self):\n",
    "        self.data = []\n",
    "\n",
    "state1 = SharedState()\n",
    "state2 = SharedState()\n",
    "state1.data.append(1)\n",
    "result = state1.data is state2.data\n",
    "print(result)"
   ]
  },
  {
   "cell_type": "markdown",
   "id": "eda432e3",
   "metadata": {},
   "source": [
    "Question: Check if a variable referencing a lambda function is the same as another lambda function."
   ]
  },
  {
   "cell_type": "code",
   "execution_count": 10,
   "id": "c44fb393",
   "metadata": {},
   "outputs": [
    {
     "name": "stdout",
     "output_type": "stream",
     "text": [
      "False\n"
     ]
    }
   ],
   "source": [
    "func1 = lambda x: x * 2\n",
    "func2 = lambda x: x * 2\n",
    "result = func1 is func2\n",
    "print(result)"
   ]
  },
  {
   "cell_type": "markdown",
   "id": "4cbcf1bb",
   "metadata": {},
   "source": [
    "Question: Check if two variables referencing the same module attribute are still the same after reassigning."
   ]
  },
  {
   "cell_type": "code",
   "execution_count": 11,
   "id": "5433c470",
   "metadata": {},
   "outputs": [
    {
     "name": "stdout",
     "output_type": "stream",
     "text": [
      "False\n"
     ]
    }
   ],
   "source": [
    "import math\n",
    "\n",
    "attr1 = math.sqrt\n",
    "math.sqrt = lambda x: x * 2\n",
    "attr2 = math.sqrt\n",
    "result = attr1 is attr2\n",
    "print(result)\n"
   ]
  },
  {
   "cell_type": "markdown",
   "id": "95265f6f",
   "metadata": {},
   "source": [
    "Question: Check if two instances of a custom metaclass share the same instance dictionary."
   ]
  },
  {
   "cell_type": "code",
   "execution_count": 12,
   "id": "ff941092",
   "metadata": {},
   "outputs": [
    {
     "name": "stdout",
     "output_type": "stream",
     "text": [
      "True\n"
     ]
    }
   ],
   "source": [
    "class MyMeta(type):\n",
    "    _instances = {}\n",
    "\n",
    "    def __call__(cls, *args, **kwargs):\n",
    "        if cls not in cls._instances:\n",
    "            cls._instances[cls] = super().__call__(*args, **kwargs)\n",
    "        return cls._instances[cls]\n",
    "\n",
    "class MyClass(metaclass=MyMeta):\n",
    "    pass\n",
    "\n",
    "obj1 = MyClass()\n",
    "obj2 = MyClass()\n",
    "result = obj1 is obj2\n",
    "print(result)"
   ]
  },
  {
   "cell_type": "markdown",
   "id": "3cff2f15",
   "metadata": {},
   "source": [
    "Question: Check if a custom class instance's __dict__ is the same as its class's __dict__."
   ]
  },
  {
   "cell_type": "code",
   "execution_count": 14,
   "id": "258947b2",
   "metadata": {},
   "outputs": [
    {
     "name": "stdout",
     "output_type": "stream",
     "text": [
      "False\n"
     ]
    }
   ],
   "source": [
    "class MyClass:\n",
    "    def __init__(self):\n",
    "        self.value = 42\n",
    "\n",
    "obj = MyClass()\n",
    "result = obj.__dict__ is MyClass.__dict__\n",
    "print(result)"
   ]
  },
  {
   "cell_type": "markdown",
   "id": "7aaa1e13",
   "metadata": {},
   "source": [
    "Question: Check if two different instances of a built-in type share the same type object."
   ]
  },
  {
   "cell_type": "code",
   "execution_count": 16,
   "id": "a05cd982",
   "metadata": {},
   "outputs": [
    {
     "name": "stdout",
     "output_type": "stream",
     "text": [
      "True\n"
     ]
    }
   ],
   "source": [
    "int1 = 10\n",
    "int2 = 20\n",
    "result = type(int1) is type(int2)\n",
    "print(result)\n"
   ]
  },
  {
   "cell_type": "markdown",
   "id": "bca00fab",
   "metadata": {},
   "source": [
    "Question: Check if two different instances of a custom class share the same class object."
   ]
  },
  {
   "cell_type": "code",
   "execution_count": 17,
   "id": "1457812f",
   "metadata": {},
   "outputs": [
    {
     "name": "stdout",
     "output_type": "stream",
     "text": [
      "True\n"
     ]
    }
   ],
   "source": [
    "class MyCustomClass:\n",
    "    pass\n",
    "\n",
    "obj1 = MyCustomClass()\n",
    "obj2 = MyCustomClass()\n",
    "result = obj1.__class__ is obj2.__class__\n",
    "print(result)"
   ]
  },
  {
   "cell_type": "markdown",
   "id": "89a4e276",
   "metadata": {},
   "source": [
    "Question: Check if two instances of the same custom class share the same instance dictionary."
   ]
  },
  {
   "cell_type": "code",
   "execution_count": 18,
   "id": "75efe21b",
   "metadata": {},
   "outputs": [
    {
     "name": "stdout",
     "output_type": "stream",
     "text": [
      "True\n"
     ]
    }
   ],
   "source": [
    "class Singleton:\n",
    "    _instances = {}\n",
    "\n",
    "    def __new__(cls):\n",
    "        if cls not in cls._instances:\n",
    "            cls._instances[cls] = super().__new__(cls)\n",
    "        return cls._instances[cls]\n",
    "\n",
    "instance1 = Singleton()\n",
    "instance2 = Singleton()\n",
    "result = instance1.__dict__ is instance2.__dict__\n",
    "print(result)"
   ]
  },
  {
   "cell_type": "markdown",
   "id": "242ec263",
   "metadata": {},
   "source": [
    "Question: Check if a variable referencing a bound method is the same as another bound method."
   ]
  },
  {
   "cell_type": "code",
   "execution_count": 20,
   "id": "3a84d870",
   "metadata": {},
   "outputs": [
    {
     "name": "stdout",
     "output_type": "stream",
     "text": [
      "False\n"
     ]
    }
   ],
   "source": [
    "class MyClass:\n",
    "    def my_method(self):\n",
    "        pass\n",
    "\n",
    "obj1 = MyClass()\n",
    "obj2 = MyClass()\n",
    "method1 = obj1.my_method\n",
    "method2 = obj2.my_method\n",
    "result = method1 is method2\n",
    "print(result)"
   ]
  },
  {
   "cell_type": "markdown",
   "id": "86278a19",
   "metadata": {},
   "source": [
    "Question: Check if a variable referencing a module's attribute is the same as another module's attribute."
   ]
  },
  {
   "cell_type": "code",
   "execution_count": 21,
   "id": "06cb78b6",
   "metadata": {},
   "outputs": [
    {
     "name": "stdout",
     "output_type": "stream",
     "text": [
      "False\n"
     ]
    }
   ],
   "source": [
    "import math\n",
    "\n",
    "attr1 = math.sqrt\n",
    "import numpy as np\n",
    "attr2 = np.sqrt\n",
    "result = attr1 is attr2\n",
    "print(result)\n"
   ]
  },
  {
   "cell_type": "markdown",
   "id": "6e42e979",
   "metadata": {},
   "source": [
    "Question: Check if a variable referencing an instance's attribute is the same as another instance's attribute."
   ]
  },
  {
   "cell_type": "code",
   "execution_count": 23,
   "id": "cec3ee82",
   "metadata": {},
   "outputs": [
    {
     "name": "stdout",
     "output_type": "stream",
     "text": [
      "True\n"
     ]
    }
   ],
   "source": [
    "class MyClass:\n",
    "    pass\n",
    "\n",
    "obj1 = MyClass()\n",
    "obj2 = MyClass()\n",
    "obj1.value = 42\n",
    "obj2.value = 42\n",
    "result = obj1.value is obj2.value\n",
    "print(result)"
   ]
  },
  {
   "cell_type": "markdown",
   "id": "f0de8f22",
   "metadata": {},
   "source": [
    "Question: Check if a variable referencing a generator expression is the same as another generator expression."
   ]
  },
  {
   "cell_type": "code",
   "execution_count": 24,
   "id": "d9baf020",
   "metadata": {},
   "outputs": [
    {
     "name": "stdout",
     "output_type": "stream",
     "text": [
      "False\n"
     ]
    }
   ],
   "source": [
    "gen1 = (x for x in range(5))\n",
    "gen2 = (x for x in range(5))\n",
    "result = gen1.__iter__() is gen2.__iter__()\n",
    "print(result)"
   ]
  },
  {
   "cell_type": "markdown",
   "id": "5dfaf291",
   "metadata": {},
   "source": [
    "Question: Check if two different instances of a custom class share the same weakref."
   ]
  },
  {
   "cell_type": "code",
   "execution_count": 25,
   "id": "05c483eb",
   "metadata": {},
   "outputs": [
    {
     "name": "stdout",
     "output_type": "stream",
     "text": [
      "False\n"
     ]
    }
   ],
   "source": [
    "import weakref\n",
    "\n",
    "class MyObject:\n",
    "    pass\n",
    "\n",
    "obj1 = MyObject()\n",
    "obj2 = MyObject()\n",
    "weakref1 = weakref.ref(obj1)\n",
    "weakref2 = weakref.ref(obj2)\n",
    "result = weakref1 is weakref2\n",
    "print(result)"
   ]
  },
  {
   "cell_type": "markdown",
   "id": "6e693596",
   "metadata": {},
   "source": [
    "Question: Check if a variable referencing a function's closure is the same as another function's closure."
   ]
  },
  {
   "cell_type": "code",
   "execution_count": 26,
   "id": "f8eebf71",
   "metadata": {},
   "outputs": [
    {
     "name": "stdout",
     "output_type": "stream",
     "text": [
      "False\n"
     ]
    }
   ],
   "source": [
    "def outer_function(x):\n",
    "    def inner_function(y):\n",
    "        return x + y\n",
    "    return inner_function\n",
    "\n",
    "closure1 = outer_function(10)\n",
    "closure2 = outer_function(20)\n",
    "result = closure1.__closure__[0] is closure2.__closure__[0]\n",
    "print(result)"
   ]
  }
 ],
 "metadata": {
  "kernelspec": {
   "display_name": "Python 3 (ipykernel)",
   "language": "python",
   "name": "python3"
  },
  "language_info": {
   "codemirror_mode": {
    "name": "ipython",
    "version": 3
   },
   "file_extension": ".py",
   "mimetype": "text/x-python",
   "name": "python",
   "nbconvert_exporter": "python",
   "pygments_lexer": "ipython3",
   "version": "3.9.13"
  },
  "toc": {
   "base_numbering": 1,
   "nav_menu": {},
   "number_sections": true,
   "sideBar": true,
   "skip_h1_title": false,
   "title_cell": "Table of Contents",
   "title_sidebar": "Contents",
   "toc_cell": false,
   "toc_position": {},
   "toc_section_display": true,
   "toc_window_display": false
  }
 },
 "nbformat": 4,
 "nbformat_minor": 5
}
