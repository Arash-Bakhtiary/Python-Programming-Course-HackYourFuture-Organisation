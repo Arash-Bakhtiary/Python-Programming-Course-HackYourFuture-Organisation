{
 "cells": [
  {
   "cell_type": "markdown",
   "id": "dbee02f3",
   "metadata": {},
   "source": [
    "# Membership Operators (Basic)"
   ]
  },
  {
   "cell_type": "markdown",
   "id": "ca9ffa6b",
   "metadata": {},
   "source": [
    "Question: Check if an element exists in a list."
   ]
  },
  {
   "cell_type": "code",
   "execution_count": 1,
   "id": "c3ba1bdc",
   "metadata": {},
   "outputs": [
    {
     "name": "stdout",
     "output_type": "stream",
     "text": [
      "True\n"
     ]
    }
   ],
   "source": [
    "my_list = [10, 20, 30, 40, 50]\n",
    "element = 30\n",
    "result = element in my_list\n",
    "print(result)"
   ]
  },
  {
   "cell_type": "markdown",
   "id": "84ef7e1a",
   "metadata": {},
   "source": [
    "Question: Check if a key exists in a dictionary."
   ]
  },
  {
   "cell_type": "code",
   "execution_count": 3,
   "id": "afdfd3c4",
   "metadata": {},
   "outputs": [
    {
     "name": "stdout",
     "output_type": "stream",
     "text": [
      "True\n"
     ]
    }
   ],
   "source": [
    "my_dict = {'a': 1, 'b': 2, 'c': 3}\n",
    "key = 'b'\n",
    "result = key in my_dict\n",
    "print(result)"
   ]
  },
  {
   "cell_type": "markdown",
   "id": "02641f42",
   "metadata": {},
   "source": [
    "Question: Check if an item exists in a tuple."
   ]
  },
  {
   "cell_type": "code",
   "execution_count": 4,
   "id": "da0d2633",
   "metadata": {},
   "outputs": [
    {
     "name": "stdout",
     "output_type": "stream",
     "text": [
      "True\n"
     ]
    }
   ],
   "source": [
    "my_tuple = (10, 20, 30, 40, 50)\n",
    "item = 20\n",
    "result = item in my_tuple\n",
    "print(result)"
   ]
  },
  {
   "cell_type": "markdown",
   "id": "b334463d",
   "metadata": {},
   "source": [
    "Question: Check if a substring exists in a string."
   ]
  },
  {
   "cell_type": "code",
   "execution_count": 5,
   "id": "d5d1eb63",
   "metadata": {},
   "outputs": [
    {
     "name": "stdout",
     "output_type": "stream",
     "text": [
      "True\n"
     ]
    }
   ],
   "source": [
    "my_string = \"Hello, World!\"\n",
    "substring = \"World\"\n",
    "result = substring in my_string\n",
    "print(result)\n"
   ]
  },
  {
   "cell_type": "markdown",
   "id": "09de2da0",
   "metadata": {},
   "source": [
    "Question: Check if a key does not exist in a dictionary."
   ]
  },
  {
   "cell_type": "code",
   "execution_count": 7,
   "id": "baa2b3b4",
   "metadata": {},
   "outputs": [
    {
     "name": "stdout",
     "output_type": "stream",
     "text": [
      "True\n"
     ]
    }
   ],
   "source": [
    "my_dict = {'a': 1, 'b': 2, 'c': 3}\n",
    "key = 'd'\n",
    "result = key not in my_dict\n",
    "print(result)"
   ]
  },
  {
   "cell_type": "markdown",
   "id": "84e9cab5",
   "metadata": {},
   "source": [
    "Question: Check if a value exists as a value in a dictionary."
   ]
  },
  {
   "cell_type": "code",
   "execution_count": 8,
   "id": "aae27d89",
   "metadata": {},
   "outputs": [
    {
     "name": "stdout",
     "output_type": "stream",
     "text": [
      "True\n"
     ]
    }
   ],
   "source": [
    "my_dict = {'a': 10, 'b': 20, 'c': 30}\n",
    "value = 20\n",
    "result = value in my_dict.values()\n",
    "print(result)\n"
   ]
  }
 ],
 "metadata": {
  "kernelspec": {
   "display_name": "Python 3 (ipykernel)",
   "language": "python",
   "name": "python3"
  },
  "language_info": {
   "codemirror_mode": {
    "name": "ipython",
    "version": 3
   },
   "file_extension": ".py",
   "mimetype": "text/x-python",
   "name": "python",
   "nbconvert_exporter": "python",
   "pygments_lexer": "ipython3",
   "version": "3.9.13"
  },
  "toc": {
   "base_numbering": 1,
   "nav_menu": {},
   "number_sections": true,
   "sideBar": true,
   "skip_h1_title": false,
   "title_cell": "Table of Contents",
   "title_sidebar": "Contents",
   "toc_cell": false,
   "toc_position": {},
   "toc_section_display": true,
   "toc_window_display": false
  }
 },
 "nbformat": 4,
 "nbformat_minor": 5
}
