{
 "cells": [
  {
   "cell_type": "markdown",
   "id": "dbee02f3",
   "metadata": {},
   "source": [
    "# Operator Precedence (Basic)"
   ]
  },
  {
   "cell_type": "markdown",
   "id": "ca9ffa6b",
   "metadata": {},
   "source": [
    "Question: What is the result of the following expression?"
   ]
  },
  {
   "cell_type": "code",
   "execution_count": 1,
   "id": "9d4d7f24",
   "metadata": {},
   "outputs": [
    {
     "name": "stdout",
     "output_type": "stream",
     "text": [
      "22\n"
     ]
    }
   ],
   "source": [
    "result = 5 + 10 * 2 - 3\n",
    "print(result)  "
   ]
  },
  {
   "cell_type": "markdown",
   "id": "f5566e5e",
   "metadata": {},
   "source": [
    "Question: Evaluate the value of the expression:"
   ]
  },
  {
   "cell_type": "code",
   "execution_count": 2,
   "id": "8769147a",
   "metadata": {},
   "outputs": [
    {
     "name": "stdout",
     "output_type": "stream",
     "text": [
      "10.0\n"
     ]
    }
   ],
   "source": [
    "value = 15 / 3 * 2\n",
    "print(value)  "
   ]
  },
  {
   "cell_type": "markdown",
   "id": "4cc8dbdc",
   "metadata": {},
   "source": [
    "Question: Predict the output"
   ]
  },
  {
   "cell_type": "code",
   "execution_count": 5,
   "id": "3885da37",
   "metadata": {},
   "outputs": [
    {
     "name": "stdout",
     "output_type": "stream",
     "text": [
      "512\n"
     ]
    }
   ],
   "source": [
    "x = 2\n",
    "y = 3\n",
    "result = x ** y ** 2  # (2**(3**2))\n",
    "print(result)  "
   ]
  },
  {
   "cell_type": "markdown",
   "id": "2b107538",
   "metadata": {},
   "source": [
    "Question: What will be the value of result?"
   ]
  },
  {
   "cell_type": "code",
   "execution_count": 7,
   "id": "88cf9abc",
   "metadata": {},
   "outputs": [
    {
     "name": "stdout",
     "output_type": "stream",
     "text": [
      "4\n"
     ]
    }
   ],
   "source": [
    "result = (10 + 4) % 3 * 2\n",
    "print(result)  "
   ]
  },
  {
   "cell_type": "markdown",
   "id": "737cdfd7",
   "metadata": {},
   "source": [
    "Question: Calculate the output:"
   ]
  },
  {
   "cell_type": "code",
   "execution_count": 8,
   "id": "d2548b5d",
   "metadata": {},
   "outputs": [
    {
     "name": "stdout",
     "output_type": "stream",
     "text": [
      "3.5\n"
     ]
    }
   ],
   "source": [
    "x = 5\n",
    "y = 3\n",
    "result = x / 2 + y // 2\n",
    "print(result)  "
   ]
  },
  {
   "cell_type": "markdown",
   "id": "d05627c9",
   "metadata": {},
   "source": [
    "Question: Determine the value of result:"
   ]
  },
  {
   "cell_type": "code",
   "execution_count": 9,
   "id": "9022e8d0",
   "metadata": {},
   "outputs": [
    {
     "name": "stdout",
     "output_type": "stream",
     "text": [
      "4\n"
     ]
    }
   ],
   "source": [
    "result = 15 % 4 + 3 // 2\n",
    "print(result)  "
   ]
  },
  {
   "cell_type": "markdown",
   "id": "d8492810",
   "metadata": {},
   "source": [
    "Question: What is the output of the following code?"
   ]
  },
  {
   "cell_type": "code",
   "execution_count": 11,
   "id": "b1571bf6",
   "metadata": {},
   "outputs": [
    {
     "name": "stdout",
     "output_type": "stream",
     "text": [
      "45\n"
     ]
    }
   ],
   "source": [
    "result = 2 * 3 ** 3 - (8 + 1)\n",
    "print(result)  "
   ]
  },
  {
   "cell_type": "markdown",
   "id": "766db643",
   "metadata": {},
   "source": [
    "Question: Calculate the result"
   ]
  },
  {
   "cell_type": "code",
   "execution_count": 12,
   "id": "19e2c9d2",
   "metadata": {},
   "outputs": [
    {
     "name": "stdout",
     "output_type": "stream",
     "text": [
      "64\n"
     ]
    }
   ],
   "source": [
    "x = 3\n",
    "y = 5\n",
    "result = (x + y) ** 2\n",
    "print(result)  "
   ]
  },
  {
   "cell_type": "markdown",
   "id": "e58adcc1",
   "metadata": {},
   "source": [
    "Question: What is the value of output?"
   ]
  },
  {
   "cell_type": "code",
   "execution_count": 13,
   "id": "c472b265",
   "metadata": {},
   "outputs": [
    {
     "name": "stdout",
     "output_type": "stream",
     "text": [
      "12.0\n"
     ]
    }
   ],
   "source": [
    "output = 8 / 2 * 3\n",
    "print(output)  "
   ]
  },
  {
   "cell_type": "markdown",
   "id": "35781963",
   "metadata": {},
   "source": [
    "Question: Evaluate the expression"
   ]
  },
  {
   "cell_type": "code",
   "execution_count": 14,
   "id": "12aa84a0",
   "metadata": {},
   "outputs": [
    {
     "name": "stdout",
     "output_type": "stream",
     "text": [
      "32\n"
     ]
    }
   ],
   "source": [
    "x = 4\n",
    "y = 2\n",
    "z = 3\n",
    "result = x * y ** z\n",
    "print(result) "
   ]
  },
  {
   "cell_type": "markdown",
   "id": "6f0c3043",
   "metadata": {},
   "source": [
    "Question: What will be the result?"
   ]
  },
  {
   "cell_type": "code",
   "execution_count": 17,
   "id": "cdda2a6d",
   "metadata": {},
   "outputs": [
    {
     "name": "stdout",
     "output_type": "stream",
     "text": [
      "10\n"
     ]
    }
   ],
   "source": [
    "result = 5 + 4 * 3 // 2 - 1\n",
    "print(result)"
   ]
  },
  {
   "cell_type": "code",
   "execution_count": null,
   "id": "711c4308",
   "metadata": {},
   "outputs": [],
   "source": []
  }
 ],
 "metadata": {
  "kernelspec": {
   "display_name": "Python 3 (ipykernel)",
   "language": "python",
   "name": "python3"
  },
  "language_info": {
   "codemirror_mode": {
    "name": "ipython",
    "version": 3
   },
   "file_extension": ".py",
   "mimetype": "text/x-python",
   "name": "python",
   "nbconvert_exporter": "python",
   "pygments_lexer": "ipython3",
   "version": "3.9.13"
  },
  "toc": {
   "base_numbering": 1,
   "nav_menu": {},
   "number_sections": true,
   "sideBar": true,
   "skip_h1_title": false,
   "title_cell": "Table of Contents",
   "title_sidebar": "Contents",
   "toc_cell": false,
   "toc_position": {},
   "toc_section_display": true,
   "toc_window_display": false
  }
 },
 "nbformat": 4,
 "nbformat_minor": 5
}
