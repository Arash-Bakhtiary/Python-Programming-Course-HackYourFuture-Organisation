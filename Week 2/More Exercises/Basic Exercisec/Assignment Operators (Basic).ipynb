{
 "cells": [
  {
   "cell_type": "markdown",
   "id": "dbee02f3",
   "metadata": {},
   "source": [
    "# Assignment Operators (Basic)"
   ]
  },
  {
   "cell_type": "markdown",
   "id": "ca9ffa6b",
   "metadata": {},
   "source": [
    "Question: Write a program to increment an integer variable x by 5 using the += assignment operator."
   ]
  },
  {
   "cell_type": "code",
   "execution_count": 5,
   "id": "78ed1c6e",
   "metadata": {},
   "outputs": [
    {
     "name": "stdout",
     "output_type": "stream",
     "text": [
      "15\n"
     ]
    }
   ],
   "source": [
    "x = 10\n",
    "x += 5\n",
    "print(x)"
   ]
  },
  {
   "cell_type": "markdown",
   "id": "6950a384",
   "metadata": {},
   "source": [
    "Question: Create a program that decrements a float variable y by 2.5 using the -= assignment operator."
   ]
  },
  {
   "cell_type": "code",
   "execution_count": 6,
   "id": "88e6afe7",
   "metadata": {},
   "outputs": [
    {
     "name": "stdout",
     "output_type": "stream",
     "text": [
      "12.5\n"
     ]
    }
   ],
   "source": [
    "y = 15.0\n",
    "y -= 2.5\n",
    "print(y)"
   ]
  },
  {
   "cell_type": "markdown",
   "id": "02517901",
   "metadata": {},
   "source": [
    "Question: Write a program that multiplies an integer variable a by 3 using the *= assignment operator."
   ]
  },
  {
   "cell_type": "code",
   "execution_count": 9,
   "id": "296fc924",
   "metadata": {},
   "outputs": [
    {
     "name": "stdout",
     "output_type": "stream",
     "text": [
      "21\n"
     ]
    }
   ],
   "source": [
    "a = 7\n",
    "a *= 3\n",
    "print(a)"
   ]
  },
  {
   "cell_type": "markdown",
   "id": "a5d10ef8",
   "metadata": {},
   "source": [
    "Question: Write a program to calculate the remainder of a division of an integer variable c by 4 using the %= assignment operator."
   ]
  },
  {
   "cell_type": "code",
   "execution_count": 10,
   "id": "42a43379",
   "metadata": {},
   "outputs": [
    {
     "name": "stdout",
     "output_type": "stream",
     "text": [
      "1\n"
     ]
    }
   ],
   "source": [
    "c = 17\n",
    "c %= 4\n",
    "print(c)"
   ]
  },
  {
   "cell_type": "markdown",
   "id": "f64e8b3c",
   "metadata": {},
   "source": [
    "Question: Create a program that performs an exponentiation of a float variable d by 3 using the **= assignment operator."
   ]
  },
  {
   "cell_type": "code",
   "execution_count": 11,
   "id": "2e8a3d35",
   "metadata": {},
   "outputs": [
    {
     "name": "stdout",
     "output_type": "stream",
     "text": [
      "8.0\n"
     ]
    }
   ],
   "source": [
    "d = 2.0\n",
    "d **= 3\n",
    "print(d)"
   ]
  },
  {
   "cell_type": "markdown",
   "id": "22570b15",
   "metadata": {},
   "source": [
    "Question: Write a program that performs floor division on an integer variable e by 5 using the //= assignment operator."
   ]
  },
  {
   "cell_type": "code",
   "execution_count": 12,
   "id": "a898fb93",
   "metadata": {},
   "outputs": [
    {
     "name": "stdout",
     "output_type": "stream",
     "text": [
      "5\n"
     ]
    }
   ],
   "source": [
    "e = 26\n",
    "e //= 5\n",
    "print(e)"
   ]
  },
  {
   "cell_type": "markdown",
   "id": "fb562465",
   "metadata": {},
   "source": [
    "Question: Create a program that performs a bitwise AND operation between two integer variables f and g using the &= assignment operator."
   ]
  },
  {
   "cell_type": "code",
   "execution_count": 13,
   "id": "801ca47c",
   "metadata": {},
   "outputs": [
    {
     "name": "stdout",
     "output_type": "stream",
     "text": [
      "2\n"
     ]
    }
   ],
   "source": [
    "f = 10\n",
    "g = 7\n",
    "f &= g\n",
    "print(f)"
   ]
  },
  {
   "cell_type": "markdown",
   "id": "45357246",
   "metadata": {},
   "source": [
    "Question: Write a program that performs a bitwise OR operation between two integer variables h and i using the |= assignment operator."
   ]
  },
  {
   "cell_type": "code",
   "execution_count": 14,
   "id": "5dd25e58",
   "metadata": {},
   "outputs": [
    {
     "name": "stdout",
     "output_type": "stream",
     "text": [
      "15\n"
     ]
    }
   ],
   "source": [
    "h = 15\n",
    "i = 3\n",
    "h |= i\n",
    "print(h)"
   ]
  },
  {
   "cell_type": "markdown",
   "id": "1abd36a4",
   "metadata": {},
   "source": [
    "Question: Create a program that performs a bitwise XOR operation between two integer variables j and k using the ^= assignment operator."
   ]
  },
  {
   "cell_type": "code",
   "execution_count": 15,
   "id": "53d88c5f",
   "metadata": {},
   "outputs": [
    {
     "name": "stdout",
     "output_type": "stream",
     "text": [
      "11\n"
     ]
    }
   ],
   "source": [
    "j = 12\n",
    "k = 7\n",
    "j ^= k\n",
    "print(j)"
   ]
  },
  {
   "cell_type": "markdown",
   "id": "679cc832",
   "metadata": {},
   "source": [
    "Question: Write a program to concatenate a string variable text with another string ' is fun!' using the += assignment operator."
   ]
  },
  {
   "cell_type": "code",
   "execution_count": 16,
   "id": "b44192c6",
   "metadata": {},
   "outputs": [
    {
     "name": "stdout",
     "output_type": "stream",
     "text": [
      "Python is fun!\n"
     ]
    }
   ],
   "source": [
    "text = \"Python\"\n",
    "text += \" is fun!\"\n",
    "print(text)"
   ]
  },
  {
   "cell_type": "markdown",
   "id": "d353825d",
   "metadata": {},
   "source": [
    "Question: Create a program that appends an integer value n to a list variable numbers using the += assignment operator."
   ]
  },
  {
   "cell_type": "code",
   "execution_count": null,
   "id": "bf0b4f9e",
   "metadata": {},
   "outputs": [],
   "source": [
    "numbers = [1, 2, 3]\n",
    "n = 4\n",
    "numbers += [n]\n",
    "print(numbers)"
   ]
  },
  {
   "cell_type": "markdown",
   "id": "0175b54b",
   "metadata": {},
   "source": [
    "Question: Write a program to extend a list variable list1 with the elements of another list [5, 6, 7] using the += assignment operator."
   ]
  },
  {
   "cell_type": "code",
   "execution_count": 17,
   "id": "f2f5415c",
   "metadata": {},
   "outputs": [
    {
     "name": "stdout",
     "output_type": "stream",
     "text": [
      "[1, 2, 3, 4, 5, 6, 7]\n"
     ]
    }
   ],
   "source": [
    "list1 = [1, 2, 3, 4]\n",
    "list1 += [5, 6, 7]\n",
    "print(list1)"
   ]
  },
  {
   "cell_type": "markdown",
   "id": "d1e90e6d",
   "metadata": {},
   "source": [
    "Question: Create a program that updates a dictionary variable info by adding a new key-value pair ('age', 25) using the += assignment operator."
   ]
  },
  {
   "cell_type": "code",
   "execution_count": 18,
   "id": "8d1c5191",
   "metadata": {},
   "outputs": [
    {
     "name": "stdout",
     "output_type": "stream",
     "text": [
      "{'name': 'Alice', 'age': 25}\n"
     ]
    }
   ],
   "source": [
    "info = {'name': 'Alice'}\n",
    "info['age'] = 25\n",
    "print(info)"
   ]
  },
  {
   "cell_type": "markdown",
   "id": "72fbfdba",
   "metadata": {},
   "source": [
    "Question: Write a program to update a set variable set1 by adding the element 5 using the |= assignment operator."
   ]
  },
  {
   "cell_type": "code",
   "execution_count": 19,
   "id": "f4528c3c",
   "metadata": {},
   "outputs": [
    {
     "name": "stdout",
     "output_type": "stream",
     "text": [
      "{1, 2, 3, 5}\n"
     ]
    }
   ],
   "source": [
    "set1 = {1, 2, 3}\n",
    "set1 |= {5}\n",
    "print(set1)"
   ]
  },
  {
   "cell_type": "markdown",
   "id": "38def94b",
   "metadata": {},
   "source": [
    "Question: Create a program that appends a value item to a deque variable queue using the += assignment operator."
   ]
  },
  {
   "cell_type": "code",
   "execution_count": 20,
   "id": "0b81fc6a",
   "metadata": {},
   "outputs": [
    {
     "name": "stdout",
     "output_type": "stream",
     "text": [
      "deque([1, 2, 3, 4])\n"
     ]
    }
   ],
   "source": [
    "from collections import deque\n",
    "\n",
    "queue = deque([1, 2, 3])\n",
    "item = 4\n",
    "queue += [item]\n",
    "print(queue)\n"
   ]
  },
  {
   "cell_type": "markdown",
   "id": "90f2bcd4",
   "metadata": {},
   "source": [
    "Question: Write a program to update a complex number variable z by adding another complex number 3 + 2j using the += assignment operator."
   ]
  },
  {
   "cell_type": "code",
   "execution_count": 21,
   "id": "e57fc6de",
   "metadata": {},
   "outputs": [
    {
     "name": "stdout",
     "output_type": "stream",
     "text": [
      "(4+3j)\n"
     ]
    }
   ],
   "source": [
    "z = 1 + 1j\n",
    "z += 3 + 2j\n",
    "print(z)\n"
   ]
  },
  {
   "cell_type": "markdown",
   "id": "3414c619",
   "metadata": {},
   "source": [
    "Question: Create a program that updates a byte array variable data by appending the bytes b'\\x10\\x20' using the += assignment operator."
   ]
  },
  {
   "cell_type": "code",
   "execution_count": 23,
   "id": "320451ff",
   "metadata": {},
   "outputs": [
    {
     "name": "stdout",
     "output_type": "stream",
     "text": [
      "bytearray(b'\\x01\\x02\\x10 ')\n"
     ]
    }
   ],
   "source": [
    "data = bytearray(b'\\x01\\x02')\n",
    "data += b'\\x10\\x20'\n",
    "print(data)"
   ]
  },
  {
   "cell_type": "markdown",
   "id": "32184112",
   "metadata": {},
   "source": [
    "Question: Write a program to update a boolean variable flag by performing a logical OR operation with another boolean variable other_flag using the |= assignment operator."
   ]
  },
  {
   "cell_type": "code",
   "execution_count": 24,
   "id": "070c126b",
   "metadata": {},
   "outputs": [
    {
     "name": "stdout",
     "output_type": "stream",
     "text": [
      "True\n"
     ]
    }
   ],
   "source": [
    "flag = True\n",
    "other_flag = False\n",
    "flag |= other_flag\n",
    "print(flag)"
   ]
  }
 ],
 "metadata": {
  "kernelspec": {
   "display_name": "Python 3 (ipykernel)",
   "language": "python",
   "name": "python3"
  },
  "language_info": {
   "codemirror_mode": {
    "name": "ipython",
    "version": 3
   },
   "file_extension": ".py",
   "mimetype": "text/x-python",
   "name": "python",
   "nbconvert_exporter": "python",
   "pygments_lexer": "ipython3",
   "version": "3.9.13"
  },
  "toc": {
   "base_numbering": 1,
   "nav_menu": {},
   "number_sections": true,
   "sideBar": true,
   "skip_h1_title": false,
   "title_cell": "Table of Contents",
   "title_sidebar": "Contents",
   "toc_cell": false,
   "toc_position": {},
   "toc_section_display": true,
   "toc_window_display": false
  }
 },
 "nbformat": 4,
 "nbformat_minor": 5
}
