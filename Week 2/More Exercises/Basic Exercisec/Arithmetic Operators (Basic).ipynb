{
 "cells": [
  {
   "cell_type": "markdown",
   "id": "dbee02f3",
   "metadata": {},
   "source": [
    "# Arithmetic Operators (Basic)"
   ]
  },
  {
   "cell_type": "markdown",
   "id": "ca9ffa6b",
   "metadata": {},
   "source": [
    "Question: Write a program that calculates the sum of two integers and prints the result."
   ]
  },
  {
   "cell_type": "code",
   "execution_count": 1,
   "id": "b2ff1aac",
   "metadata": {},
   "outputs": [
    {
     "name": "stdout",
     "output_type": "stream",
     "text": [
      "Sum: 15\n"
     ]
    }
   ],
   "source": [
    "num1 = 5\n",
    "num2 = 10\n",
    "sum_result = num1 + num2\n",
    "print(\"Sum:\", sum_result)\n"
   ]
  },
  {
   "cell_type": "markdown",
   "id": "a97d482d",
   "metadata": {},
   "source": [
    "Question: Write a program that calculates the difference between two floating-point numbers and prints the result."
   ]
  },
  {
   "cell_type": "code",
   "execution_count": 2,
   "id": "428a7274",
   "metadata": {},
   "outputs": [
    {
     "name": "stdout",
     "output_type": "stream",
     "text": [
      "Difference: 8.3\n"
     ]
    }
   ],
   "source": [
    "num1 = 15.5\n",
    "num2 = 7.2\n",
    "difference_result = num1 - num2\n",
    "print(\"Difference:\", difference_result)\n"
   ]
  },
  {
   "cell_type": "markdown",
   "id": "ed1bbec4",
   "metadata": {},
   "source": [
    "Question: Write a program that calculates the quotient of two floating-point numbers and prints the result."
   ]
  },
  {
   "cell_type": "code",
   "execution_count": 3,
   "id": "c1b3bb0b",
   "metadata": {},
   "outputs": [
    {
     "name": "stdout",
     "output_type": "stream",
     "text": [
      "Quotient: 4.0\n"
     ]
    }
   ],
   "source": [
    "num1 = 20.0\n",
    "num2 = 5.0\n",
    "quotient_result = num1 / num2\n",
    "print(\"Quotient:\", quotient_result)\n"
   ]
  },
  {
   "cell_type": "markdown",
   "id": "04614ac6",
   "metadata": {},
   "source": [
    "Question: Write a program that calculates the remainder of dividing two integers and prints the result."
   ]
  },
  {
   "cell_type": "code",
   "execution_count": 5,
   "id": "cfb86c94",
   "metadata": {},
   "outputs": [
    {
     "name": "stdout",
     "output_type": "stream",
     "text": [
      "Remainder: 3\n"
     ]
    }
   ],
   "source": [
    "num1 = 27\n",
    "num2 = 4\n",
    "remainder_result = num1 % num2\n",
    "print(\"Remainder:\", remainder_result)"
   ]
  },
  {
   "cell_type": "markdown",
   "id": "1ca1dfec",
   "metadata": {},
   "source": [
    "Question: Write a program that calculates the result of raising an integer to a power and prints the result."
   ]
  },
  {
   "cell_type": "code",
   "execution_count": 6,
   "id": "54b478b8",
   "metadata": {},
   "outputs": [
    {
     "name": "stdout",
     "output_type": "stream",
     "text": [
      "Power: 256\n"
     ]
    }
   ],
   "source": [
    "base = 2\n",
    "exponent = 8\n",
    "power_result = base ** exponent\n",
    "print(\"Power:\", power_result)"
   ]
  },
  {
   "cell_type": "markdown",
   "id": "2322a007",
   "metadata": {},
   "source": [
    "Question: Write a program that calculates the floor division of two integers and prints the result."
   ]
  },
  {
   "cell_type": "code",
   "execution_count": 7,
   "id": "c93b3f06",
   "metadata": {},
   "outputs": [
    {
     "name": "stdout",
     "output_type": "stream",
     "text": [
      "Floor Division: 6\n"
     ]
    }
   ],
   "source": [
    "num1 = 27\n",
    "num2 = 4\n",
    "floor_division_result = num1 // num2\n",
    "print(\"Floor Division:\", floor_division_result)"
   ]
  },
  {
   "cell_type": "markdown",
   "id": "03e5e3d4",
   "metadata": {},
   "source": [
    "Question: Write a program that calculates the average of three integers and prints the result."
   ]
  },
  {
   "cell_type": "code",
   "execution_count": 9,
   "id": "5e64397c",
   "metadata": {},
   "outputs": [
    {
     "name": "stdout",
     "output_type": "stream",
     "text": [
      "Average: 11.666666666666666\n"
     ]
    }
   ],
   "source": [
    "num1 = 12\n",
    "num2 = 8\n",
    "num3 = 15\n",
    "average_result = (num1 + num2 + num3) / 3\n",
    "print(\"Average:\", average_result)"
   ]
  },
  {
   "cell_type": "markdown",
   "id": "96c428b9",
   "metadata": {},
   "source": [
    "Question: Write a program that calculates the square root of a positive floating-point number and prints the result."
   ]
  },
  {
   "cell_type": "code",
   "execution_count": 10,
   "id": "9a0e1c4e",
   "metadata": {},
   "outputs": [
    {
     "name": "stdout",
     "output_type": "stream",
     "text": [
      "Square Root: 5.0\n"
     ]
    }
   ],
   "source": [
    "import math\n",
    "\n",
    "num = 25.0\n",
    "square_root_result = math.sqrt(num)\n",
    "print(\"Square Root:\", square_root_result)"
   ]
  },
  {
   "cell_type": "markdown",
   "id": "a5e7da5c",
   "metadata": {},
   "source": [
    "Question: Write a program that calculates the area of a rectangle given its length and width."
   ]
  },
  {
   "cell_type": "code",
   "execution_count": 11,
   "id": "f26a465a",
   "metadata": {},
   "outputs": [
    {
     "name": "stdout",
     "output_type": "stream",
     "text": [
      "Area: 50\n"
     ]
    }
   ],
   "source": [
    "length = 10\n",
    "width = 5\n",
    "area = length * width\n",
    "print(\"Area:\", area)"
   ]
  },
  {
   "cell_type": "markdown",
   "id": "266ad576",
   "metadata": {},
   "source": [
    "Question: Write a program that calculates the perimeter of a triangle given the lengths of its three sides."
   ]
  },
  {
   "cell_type": "code",
   "execution_count": 12,
   "id": "17ce0cc4",
   "metadata": {},
   "outputs": [
    {
     "name": "stdout",
     "output_type": "stream",
     "text": [
      "Perimeter: 18\n"
     ]
    }
   ],
   "source": [
    "side1 = 5\n",
    "side2 = 6\n",
    "side3 = 7\n",
    "perimeter = side1 + side2 + side3\n",
    "print(\"Perimeter:\", perimeter)\n"
   ]
  },
  {
   "cell_type": "markdown",
   "id": "026e6c82",
   "metadata": {},
   "source": [
    "Question: Write a program that calculates the volume of a cylinder given its radius and height."
   ]
  },
  {
   "cell_type": "code",
   "execution_count": 13,
   "id": "c94e01c7",
   "metadata": {},
   "outputs": [
    {
     "name": "stdout",
     "output_type": "stream",
     "text": [
      "Volume: 502.6548245743669\n"
     ]
    }
   ],
   "source": [
    "import math\n",
    "\n",
    "radius = 4\n",
    "height = 10\n",
    "volume = math.pi * radius ** 2 * height\n",
    "print(\"Volume:\", volume)"
   ]
  },
  {
   "cell_type": "markdown",
   "id": "a4fd1e98",
   "metadata": {},
   "source": [
    "Question: Write a program that calculates the area of a circle given its radius."
   ]
  },
  {
   "cell_type": "code",
   "execution_count": 14,
   "id": "b6b0bed6",
   "metadata": {},
   "outputs": [
    {
     "name": "stdout",
     "output_type": "stream",
     "text": [
      "Area: 153.93804002589985\n"
     ]
    }
   ],
   "source": [
    "import math\n",
    "\n",
    "radius = 7\n",
    "area = math.pi * radius ** 2\n",
    "print(\"Area:\", area)"
   ]
  },
  {
   "cell_type": "markdown",
   "id": "5f8a8f1b",
   "metadata": {},
   "source": [
    "Question: Write a program that calculates the hypotenuse of a right triangle given the lengths of its two shorter sides."
   ]
  },
  {
   "cell_type": "code",
   "execution_count": 15,
   "id": "ad456be9",
   "metadata": {},
   "outputs": [
    {
     "name": "stdout",
     "output_type": "stream",
     "text": [
      "Hypotenuse: 5.0\n"
     ]
    }
   ],
   "source": [
    "side1 = 3\n",
    "side2 = 4\n",
    "hypotenuse = math.sqrt(side1 ** 2 + side2 ** 2)\n",
    "print(\"Hypotenuse:\", hypotenuse)"
   ]
  },
  {
   "cell_type": "markdown",
   "id": "ade504ce",
   "metadata": {},
   "source": [
    "Question: Write a program that calculates the compound interest for a given principal amount, interest rate, and time period."
   ]
  },
  {
   "cell_type": "code",
   "execution_count": null,
   "id": "000485ae",
   "metadata": {},
   "outputs": [],
   "source": [
    "principal = 1000\n",
    "rate = 0.05\n",
    "time = 3\n",
    "compound_interest = principal * (1 + rate) ** time - principal\n",
    "print(\"Compound Interest:\", compound_interest)"
   ]
  },
  {
   "cell_type": "markdown",
   "id": "6717d06a",
   "metadata": {},
   "source": [
    "Question: Write a program that converts a temperature in Celsius to Fahrenheit."
   ]
  },
  {
   "cell_type": "code",
   "execution_count": 16,
   "id": "6f586da6",
   "metadata": {},
   "outputs": [
    {
     "name": "stdout",
     "output_type": "stream",
     "text": [
      "Temperature in Fahrenheit: 86.0\n"
     ]
    }
   ],
   "source": [
    "celsius = 30\n",
    "fahrenheit = celsius * 9/5 + 32\n",
    "print(\"Temperature in Fahrenheit:\", fahrenheit)"
   ]
  },
  {
   "cell_type": "markdown",
   "id": "918e8ea5",
   "metadata": {},
   "source": [
    "Question: Write a program that converts a distance in kilometers to miles."
   ]
  },
  {
   "cell_type": "code",
   "execution_count": 17,
   "id": "f48a7939",
   "metadata": {},
   "outputs": [
    {
     "name": "stdout",
     "output_type": "stream",
     "text": [
      "Distance in Miles: 31.068550000000002\n"
     ]
    }
   ],
   "source": [
    "kilometers = 50\n",
    "miles = kilometers * 0.621371\n",
    "print(\"Distance in Miles:\", miles)"
   ]
  },
  {
   "cell_type": "markdown",
   "id": "49470c5c",
   "metadata": {},
   "source": [
    "Question: Write a program that calculates the future value of an investment given the principal amount, interest rate, and time period."
   ]
  },
  {
   "cell_type": "code",
   "execution_count": 18,
   "id": "36fe8e64",
   "metadata": {},
   "outputs": [
    {
     "name": "stdout",
     "output_type": "stream",
     "text": [
      "Future Value: 1469.3280768000006\n"
     ]
    }
   ],
   "source": [
    "principal = 1000\n",
    "rate = 0.08\n",
    "time = 5\n",
    "future_value = principal * (1 + rate) ** time\n",
    "print(\"Future Value:\", future_value)"
   ]
  },
  {
   "cell_type": "markdown",
   "id": "60081c61",
   "metadata": {},
   "source": [
    "Question: Write a program that calculates the sum of the first n natural numbers."
   ]
  },
  {
   "cell_type": "code",
   "execution_count": 19,
   "id": "1bf4279b",
   "metadata": {},
   "outputs": [
    {
     "name": "stdout",
     "output_type": "stream",
     "text": [
      "Sum of Natural Numbers: 55\n"
     ]
    }
   ],
   "source": [
    "n = 10\n",
    "sum_of_natural_numbers = n * (n + 1) // 2\n",
    "print(\"Sum of Natural Numbers:\", sum_of_natural_numbers)"
   ]
  }
 ],
 "metadata": {
  "kernelspec": {
   "display_name": "Python 3 (ipykernel)",
   "language": "python",
   "name": "python3"
  },
  "language_info": {
   "codemirror_mode": {
    "name": "ipython",
    "version": 3
   },
   "file_extension": ".py",
   "mimetype": "text/x-python",
   "name": "python",
   "nbconvert_exporter": "python",
   "pygments_lexer": "ipython3",
   "version": "3.9.13"
  },
  "toc": {
   "base_numbering": 1,
   "nav_menu": {},
   "number_sections": true,
   "sideBar": true,
   "skip_h1_title": false,
   "title_cell": "Table of Contents",
   "title_sidebar": "Contents",
   "toc_cell": false,
   "toc_position": {},
   "toc_section_display": true,
   "toc_window_display": false
  }
 },
 "nbformat": 4,
 "nbformat_minor": 5
}
