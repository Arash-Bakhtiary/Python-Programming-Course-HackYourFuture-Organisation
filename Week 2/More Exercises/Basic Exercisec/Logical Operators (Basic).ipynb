{
 "cells": [
  {
   "cell_type": "markdown",
   "id": "dbee02f3",
   "metadata": {},
   "source": [
    "# Logical Operators (Basic)"
   ]
  },
  {
   "cell_type": "markdown",
   "id": "ca9ffa6b",
   "metadata": {},
   "source": [
    "Question: Check if a given number is both divisible by 2 and 3."
   ]
  },
  {
   "cell_type": "code",
   "execution_count": 1,
   "id": "733f4961",
   "metadata": {},
   "outputs": [
    {
     "name": "stdout",
     "output_type": "stream",
     "text": [
      "True\n"
     ]
    }
   ],
   "source": [
    "number = 6\n",
    "result = number % 2 == 0 and number % 3 == 0\n",
    "print(result)"
   ]
  },
  {
   "cell_type": "markdown",
   "id": "0f1c510a",
   "metadata": {},
   "source": [
    "Question: Check if a student's score is greater than or equal to 60 and less than 90."
   ]
  },
  {
   "cell_type": "code",
   "execution_count": 2,
   "id": "8a32ea11",
   "metadata": {},
   "outputs": [
    {
     "name": "stdout",
     "output_type": "stream",
     "text": [
      "True\n"
     ]
    }
   ],
   "source": [
    "score = 75\n",
    "result = 60 <= score < 90\n",
    "print(result)"
   ]
  },
  {
   "cell_type": "markdown",
   "id": "22096cbe",
   "metadata": {},
   "source": [
    "Question: Check if a string contains both \"python\" and \"programming\"."
   ]
  },
  {
   "cell_type": "code",
   "execution_count": 3,
   "id": "b56702d2",
   "metadata": {},
   "outputs": [
    {
     "name": "stdout",
     "output_type": "stream",
     "text": [
      "True\n"
     ]
    }
   ],
   "source": [
    "text = \"I love python programming.\"\n",
    "result = \"python\" in text and \"programming\" in text\n",
    "print(result)"
   ]
  },
  {
   "cell_type": "markdown",
   "id": "2a3b1c46",
   "metadata": {},
   "source": [
    "Question: Check if a given year is a leap year and not a century year."
   ]
  },
  {
   "cell_type": "code",
   "execution_count": 4,
   "id": "72f00722",
   "metadata": {},
   "outputs": [
    {
     "name": "stdout",
     "output_type": "stream",
     "text": [
      "True\n"
     ]
    }
   ],
   "source": [
    "year = 2024\n",
    "result = (year % 4 == 0 and year % 100 != 0)\n",
    "print(result)"
   ]
  },
  {
   "cell_type": "markdown",
   "id": "80dd2312",
   "metadata": {},
   "source": [
    "Question: Check if a user's age is either less than 18 or greater than 65."
   ]
  },
  {
   "cell_type": "code",
   "execution_count": 5,
   "id": "bded5365",
   "metadata": {},
   "outputs": [
    {
     "name": "stdout",
     "output_type": "stream",
     "text": [
      "False\n"
     ]
    }
   ],
   "source": [
    "age = 25\n",
    "result = age < 18 or age > 65\n",
    "print(result)"
   ]
  },
  {
   "cell_type": "markdown",
   "id": "9f6d5973",
   "metadata": {},
   "source": [
    "Question: Check if a number is positive and not equal to 0."
   ]
  },
  {
   "cell_type": "code",
   "execution_count": 7,
   "id": "0fdb6d34",
   "metadata": {},
   "outputs": [
    {
     "name": "stdout",
     "output_type": "stream",
     "text": [
      "True\n"
     ]
    }
   ],
   "source": [
    "number = 5\n",
    "result = number > 0 and number != 0\n",
    "print(result)"
   ]
  },
  {
   "cell_type": "markdown",
   "id": "10ab8e4d",
   "metadata": {},
   "source": [
    "Question: Check if a given number is not divisible by 5."
   ]
  },
  {
   "cell_type": "code",
   "execution_count": 11,
   "id": "4181b634",
   "metadata": {},
   "outputs": [
    {
     "name": "stdout",
     "output_type": "stream",
     "text": [
      "True\n"
     ]
    }
   ],
   "source": [
    "number = 27\n",
    "result = number % 5 != 0\n",
    "print(result)"
   ]
  },
  {
   "cell_type": "markdown",
   "id": "82161ac4",
   "metadata": {},
   "source": [
    "Question: Check if a list of names contains both \"Alice\" and \"Bob\"."
   ]
  },
  {
   "cell_type": "code",
   "execution_count": 13,
   "id": "63e66909",
   "metadata": {},
   "outputs": [
    {
     "name": "stdout",
     "output_type": "stream",
     "text": [
      "True\n"
     ]
    }
   ],
   "source": [
    "names = [\"Alice\", \"Charlie\", \"Bob\", \"David\"]\n",
    "result = \"Alice\" in names and \"Bob\" in names\n",
    "print(result)\n"
   ]
  },
  {
   "cell_type": "markdown",
   "id": "be6df4fc",
   "metadata": {},
   "source": [
    "Question: Check if a given number is outside the range of 20 to 50."
   ]
  },
  {
   "cell_type": "code",
   "execution_count": 14,
   "id": "c5eb9b84",
   "metadata": {},
   "outputs": [
    {
     "name": "stdout",
     "output_type": "stream",
     "text": [
      "True\n"
     ]
    }
   ],
   "source": [
    "number = 15\n",
    "result = number < 20 or number > 50\n",
    "print(result)"
   ]
  },
  {
   "cell_type": "markdown",
   "id": "fb0403c0",
   "metadata": {},
   "source": [
    "Question: Check if a string starts with \"Hello\" and ends with \"World\"."
   ]
  },
  {
   "cell_type": "code",
   "execution_count": 15,
   "id": "2d5f68e9",
   "metadata": {},
   "outputs": [
    {
     "name": "stdout",
     "output_type": "stream",
     "text": [
      "True\n"
     ]
    }
   ],
   "source": [
    "string = \"Hello, Python World\"\n",
    "result = string.startswith(\"Hello\") and string.endswith(\"World\")\n",
    "print(result)"
   ]
  },
  {
   "cell_type": "markdown",
   "id": "9cb4263f",
   "metadata": {},
   "source": [
    "Question: Check if a given number is divisible by 3 or 5."
   ]
  },
  {
   "cell_type": "code",
   "execution_count": 16,
   "id": "7845dae4",
   "metadata": {},
   "outputs": [
    {
     "name": "stdout",
     "output_type": "stream",
     "text": [
      "True\n"
     ]
    }
   ],
   "source": [
    "number = 18\n",
    "result = number % 3 == 0 or number % 5 == 0\n",
    "print(result)"
   ]
  },
  {
   "cell_type": "markdown",
   "id": "ab1ae6ad",
   "metadata": {},
   "source": [
    "Question: Check if a string contains either \"python\" or \"programming\", but not both."
   ]
  },
  {
   "cell_type": "code",
   "execution_count": 17,
   "id": "6802b42a",
   "metadata": {},
   "outputs": [
    {
     "name": "stdout",
     "output_type": "stream",
     "text": [
      "True\n"
     ]
    }
   ],
   "source": [
    "text = \"I love programming in Python.\"\n",
    "result = (\"python\" in text) != (\"programming\" in text)\n",
    "print(result)"
   ]
  },
  {
   "cell_type": "markdown",
   "id": "4f214aea",
   "metadata": {},
   "source": [
    "Question: Check if a list contains no repeated elements."
   ]
  },
  {
   "cell_type": "code",
   "execution_count": 19,
   "id": "e92affaa",
   "metadata": {},
   "outputs": [
    {
     "name": "stdout",
     "output_type": "stream",
     "text": [
      "True\n"
     ]
    }
   ],
   "source": [
    "numbers = [3, 7, 2, 9, 4, 5]\n",
    "result = len(numbers) == len(set(numbers))\n",
    "print(result)"
   ]
  }
 ],
 "metadata": {
  "kernelspec": {
   "display_name": "Python 3 (ipykernel)",
   "language": "python",
   "name": "python3"
  },
  "language_info": {
   "codemirror_mode": {
    "name": "ipython",
    "version": 3
   },
   "file_extension": ".py",
   "mimetype": "text/x-python",
   "name": "python",
   "nbconvert_exporter": "python",
   "pygments_lexer": "ipython3",
   "version": "3.9.13"
  },
  "toc": {
   "base_numbering": 1,
   "nav_menu": {},
   "number_sections": true,
   "sideBar": true,
   "skip_h1_title": false,
   "title_cell": "Table of Contents",
   "title_sidebar": "Contents",
   "toc_cell": false,
   "toc_position": {},
   "toc_section_display": true,
   "toc_window_display": false
  }
 },
 "nbformat": 4,
 "nbformat_minor": 5
}
