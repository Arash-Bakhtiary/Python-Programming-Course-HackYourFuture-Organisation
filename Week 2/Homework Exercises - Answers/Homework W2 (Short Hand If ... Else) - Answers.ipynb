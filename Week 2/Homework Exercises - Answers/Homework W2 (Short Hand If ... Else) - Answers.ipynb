{
 "cells": [
  {
   "cell_type": "markdown",
   "id": "dbee02f3",
   "metadata": {},
   "source": [
    "# Assignments - W2 (Short Hand If ... Else)"
   ]
  },
  {
   "cell_type": "markdown",
   "id": "bb95fe9e",
   "metadata": {},
   "source": [
    "Assignment 1: Advanced Leap Year Check"
   ]
  },
  {
   "cell_type": "markdown",
   "id": "8f2542e9",
   "metadata": {},
   "source": [
    "Task: Write a program that checks if a given year is a leap year, and if so, whether it falls on a Sunday, using short-hand if-else statements."
   ]
  },
  {
   "cell_type": "markdown",
   "id": "99ccd96f",
   "metadata": {},
   "source": [
    "Answer: "
   ]
  },
  {
   "cell_type": "code",
   "execution_count": 11,
   "id": "23bfceac",
   "metadata": {},
   "outputs": [
    {
     "name": "stdout",
     "output_type": "stream",
     "text": [
      "Enter a year: 1987\n",
      "1987 is a Not Leap year and the first day is N/A.\n"
     ]
    }
   ],
   "source": [
    "import calendar\n",
    "\n",
    "year = int(input(\"Enter a year: \"))\n",
    "\n",
    "leap = \"Leap\" if (year % 4 == 0 and year % 100 != 0) or (year % 400 == 0) else \"Not Leap\"\n",
    "day_name = \"Sunday\" if leap == \"Leap\" and calendar.weekday(year, 1, 1) == 6 else \"N/A\"\n",
    "\n",
    "print(f\"{year} is a {leap} year and the first day is {day_name}.\")"
   ]
  },
  {
   "cell_type": "markdown",
   "id": "88bdd140",
   "metadata": {},
   "source": [
    "Assignment 2: Ticket Pricing"
   ]
  },
  {
   "cell_type": "markdown",
   "id": "75f21a28",
   "metadata": {},
   "source": [
    "Task: Create a program that calculates the cost of a movie ticket based on age and day of the week using short-hand if-else statements."
   ]
  },
  {
   "cell_type": "markdown",
   "id": "01eeb0c8",
   "metadata": {},
   "source": [
    "Answer: "
   ]
  },
  {
   "cell_type": "code",
   "execution_count": 10,
   "id": "d82012a3",
   "metadata": {},
   "outputs": [
    {
     "name": "stdout",
     "output_type": "stream",
     "text": [
      "Enter your age: 37\n",
      "Enter the day of the week: 4\n",
      "Ticket cost: 10\n"
     ]
    }
   ],
   "source": [
    "age = int(input(\"Enter your age: \"))\n",
    "day = input(\"Enter the day of the week: \").lower()\n",
    "\n",
    "cost = 5 if age < 18 and (day == \"saturday\" or day == \"sunday\") else 4 if age < 18 else 8 if day == \"wednesday\" else 10\n",
    "\n",
    "print(\"Ticket cost:\", cost)"
   ]
  },
  {
   "cell_type": "markdown",
   "id": "37095431",
   "metadata": {},
   "source": [
    "Assignment 3: Quadrilateral Type"
   ]
  },
  {
   "cell_type": "markdown",
   "id": "1433b40b",
   "metadata": {},
   "source": [
    "Task: Write a program that determines the type of quadrilateral based on the angles using short-hand if-else statements."
   ]
  },
  {
   "cell_type": "markdown",
   "id": "7e3c5dbd",
   "metadata": {},
   "source": [
    "Answer: "
   ]
  },
  {
   "cell_type": "code",
   "execution_count": 9,
   "id": "97d3bab4",
   "metadata": {},
   "outputs": [
    {
     "name": "stdout",
     "output_type": "stream",
     "text": [
      "Enter the first angle: 20\n",
      "Enter the second angle: 30\n",
      "Enter the third angle: 40\n",
      "Enter the fourth angle: 50\n",
      "Quadrilateral type: Invalid\n"
     ]
    }
   ],
   "source": [
    "angle1 = int(input(\"Enter the first angle: \"))\n",
    "angle2 = int(input(\"Enter the second angle: \"))\n",
    "angle3 = int(input(\"Enter the third angle: \"))\n",
    "angle4 = int(input(\"Enter the fourth angle: \"))\n",
    "\n",
    "quadrilateral_type = \"Rectangle\" if angle1 == angle2 == angle3 == angle4 == 90 else \"Square\" if angle1 == angle2 == angle3 == angle4 else \"Quadrilateral\" if angle1 + angle2 + angle3 + angle4 == 360 else \"Invalid\"\n",
    "\n",
    "print(\"Quadrilateral type:\", quadrilateral_type)"
   ]
  },
  {
   "cell_type": "markdown",
   "id": "09dfc6c6",
   "metadata": {},
   "source": [
    "Assignment 4: Leap Year Check with Next Year"
   ]
  },
  {
   "cell_type": "markdown",
   "id": "3e201eb0",
   "metadata": {},
   "source": [
    "Task: Write a program that checks if a given year is a leap year and if the next year is also a leap year, using short-hand if-else statements."
   ]
  },
  {
   "cell_type": "markdown",
   "id": "7b41ca07",
   "metadata": {},
   "source": [
    "Answer: "
   ]
  },
  {
   "cell_type": "code",
   "execution_count": 8,
   "id": "631e4c6d",
   "metadata": {},
   "outputs": [
    {
     "name": "stdout",
     "output_type": "stream",
     "text": [
      "Enter a year: 1987\n",
      "1987 is a Not Leap year and the next year is a Leap year: second year only\n"
     ]
    }
   ],
   "source": [
    "year = int(input(\"Enter a year: \"))\n",
    "\n",
    "leap = \"Leap\" if (year % 4 == 0 and year % 100 != 0) or (year % 400 == 0) else \"Not Leap\"\n",
    "next_year = year + 1\n",
    "next_leap = \"Leap\" if (next_year % 4 == 0 and next_year % 100 != 0) or (next_year % 400 == 0) else \"Not Leap\"\n",
    "\n",
    "leap_status = \"both\" if leap == \"Leap\" and next_leap == \"Leap\" else \"first year only\" if leap == \"Leap\" else \"second year only\" if next_leap == \"Leap\" else \"neither\"\n",
    "\n",
    "print(f\"{year} is a {leap} year and the next year is a {next_leap} year: {leap_status}\")"
   ]
  },
  {
   "cell_type": "markdown",
   "id": "cbcbb425",
   "metadata": {},
   "source": [
    "Assignment 5: Perfect Number Check"
   ]
  },
  {
   "cell_type": "markdown",
   "id": "f84a7d76",
   "metadata": {},
   "source": [
    "Task: Create a program that checks if a given number is a perfect number using short-hand if-else statements."
   ]
  },
  {
   "cell_type": "markdown",
   "id": "6fe275e7",
   "metadata": {},
   "source": [
    "Answer: "
   ]
  },
  {
   "cell_type": "code",
   "execution_count": 7,
   "id": "73b483f7",
   "metadata": {},
   "outputs": [
    {
     "name": "stdout",
     "output_type": "stream",
     "text": [
      "Enter a number: 34\n",
      "34 is a Not Perfect number.\n"
     ]
    }
   ],
   "source": [
    "number = int(input(\"Enter a number: \"))\n",
    "divisors = [1]\n",
    "\n",
    "divisors.extend(i for i in range(2, number) if number % i == 0)\n",
    "perfect_number = \"Perfect\" if sum(divisors) == number else \"Not Perfect\"\n",
    "\n",
    "print(f\"{number} is a {perfect_number} number.\")"
   ]
  },
  {
   "cell_type": "markdown",
   "id": "2db5a6f5",
   "metadata": {},
   "source": [
    "Assignment 6: Double Leap Year Check"
   ]
  },
  {
   "cell_type": "markdown",
   "id": "83cfe4ad",
   "metadata": {},
   "source": [
    "Task: Write a program that checks if a given year is a leap year and if it is also a \"double leap year\" (leap year after the next year), using short-hand if-else statements."
   ]
  },
  {
   "cell_type": "markdown",
   "id": "cd7a0da9",
   "metadata": {},
   "source": [
    "Answer: "
   ]
  },
  {
   "cell_type": "code",
   "execution_count": 6,
   "id": "f40f5807",
   "metadata": {},
   "outputs": [
    {
     "name": "stdout",
     "output_type": "stream",
     "text": [
      "Enter a year: 1987\n",
      "1987 is a Not Leap year and it is a Not Double Leap year.\n"
     ]
    }
   ],
   "source": [
    "year = int(input(\"Enter a year: \"))\n",
    "\n",
    "leap = \"Leap\" if (year % 4 == 0 and year % 100 != 0) or (year % 400 == 0) else \"Not Leap\"\n",
    "next_year = year + 1\n",
    "next_leap = \"Leap\" if (next_year % 4 == 0 and next_year % 100 != 0) or (next_year % 400 == 0) else \"Not Leap\"\n",
    "\n",
    "double_leap_year = \"Double Leap\" if leap == \"Leap\" and next_leap == \"Leap\" else \"Not Double Leap\"\n",
    "\n",
    "print(f\"{year} is a {leap} year and it is a {double_leap_year} year.\")"
   ]
  },
  {
   "cell_type": "markdown",
   "id": "11c25cf0",
   "metadata": {},
   "source": [
    "Assignment 7: Prime Number Check"
   ]
  },
  {
   "cell_type": "markdown",
   "id": "cb2f2fe5",
   "metadata": {},
   "source": [
    "Task: Create a program that checks if a given number is a prime number using short-hand if-else statements."
   ]
  },
  {
   "cell_type": "markdown",
   "id": "cf6aa719",
   "metadata": {},
   "source": [
    "Answer: "
   ]
  },
  {
   "cell_type": "code",
   "execution_count": 5,
   "id": "c033dcde",
   "metadata": {},
   "outputs": [
    {
     "name": "stdout",
     "output_type": "stream",
     "text": [
      "Enter a number: 56\n",
      "56 is a Not Prime number.\n"
     ]
    }
   ],
   "source": [
    "number = int(input(\"Enter a number: \"))\n",
    "is_prime = all(number % i != 0 for i in range(2, int(number**0.5) + 1))\n",
    "result = \"Prime\" if is_prime and number > 1 else \"Not Prime\"\n",
    "\n",
    "print(f\"{number} is a {result} number.\")"
   ]
  },
  {
   "cell_type": "markdown",
   "id": "cdc4ddf2",
   "metadata": {},
   "source": [
    "Assignment 8: Square of a Number"
   ]
  },
  {
   "cell_type": "markdown",
   "id": "3bac4af1",
   "metadata": {},
   "source": [
    "Task: Write a program that calculates the square of a number using a short-hand if statement."
   ]
  },
  {
   "cell_type": "markdown",
   "id": "9df6be8c",
   "metadata": {},
   "source": [
    "Answer: "
   ]
  },
  {
   "cell_type": "code",
   "execution_count": 4,
   "id": "8c9aaab4",
   "metadata": {},
   "outputs": [
    {
     "name": "stdout",
     "output_type": "stream",
     "text": [
      "Enter a number: 4\n",
      "Square: 16.0\n"
     ]
    }
   ],
   "source": [
    "number = float(input(\"Enter a number: \"))\n",
    "square = number ** 2 if number > 0 else 0\n",
    "print(\"Square:\", square)"
   ]
  },
  {
   "cell_type": "markdown",
   "id": "e43e041d",
   "metadata": {},
   "source": [
    "Assignment 9: Divisibility Check"
   ]
  },
  {
   "cell_type": "markdown",
   "id": "3abf243f",
   "metadata": {},
   "source": [
    "Task: Create a program that checks if a given number is divisible by both 3 and 5 using a short-hand if statement."
   ]
  },
  {
   "cell_type": "markdown",
   "id": "eb634cfb",
   "metadata": {},
   "source": [
    "Answer: "
   ]
  },
  {
   "cell_type": "code",
   "execution_count": 2,
   "id": "f3678f70",
   "metadata": {},
   "outputs": [
    {
     "name": "stdout",
     "output_type": "stream",
     "text": [
      "Enter a number: 3\n",
      "Not Divisible\n"
     ]
    }
   ],
   "source": [
    "number = int(input(\"Enter a number: \"))\n",
    "result = \"Divisible\" if number % 3 == 0 and number % 5 == 0 else \"Not Divisible\"\n",
    "print(result)"
   ]
  },
  {
   "cell_type": "markdown",
   "id": "9a09b603",
   "metadata": {},
   "source": [
    "Assignment 10: Temperature Category"
   ]
  },
  {
   "cell_type": "markdown",
   "id": "d5165bcf",
   "metadata": {},
   "source": [
    "Task: Write a program that categorizes a given temperature into \"Hot,\" \"Moderate,\" or \"Cold\" using short-hand if-else statements."
   ]
  },
  {
   "cell_type": "markdown",
   "id": "0fbc0b8c",
   "metadata": {},
   "source": [
    "Answer: "
   ]
  },
  {
   "cell_type": "code",
   "execution_count": 1,
   "id": "0cdeaedb",
   "metadata": {},
   "outputs": [
    {
     "name": "stdout",
     "output_type": "stream",
     "text": [
      "Enter the temperature: 30\n",
      "Category: Moderate\n"
     ]
    }
   ],
   "source": [
    "temperature = float(input(\"Enter the temperature: \"))\n",
    "category = \"Hot\" if temperature > 30 else \"Moderate\" if temperature > 15 else \"Cold\"\n",
    "print(\"Category:\", category)"
   ]
  }
 ],
 "metadata": {
  "kernelspec": {
   "display_name": "Python 3 (ipykernel)",
   "language": "python",
   "name": "python3"
  },
  "language_info": {
   "codemirror_mode": {
    "name": "ipython",
    "version": 3
   },
   "file_extension": ".py",
   "mimetype": "text/x-python",
   "name": "python",
   "nbconvert_exporter": "python",
   "pygments_lexer": "ipython3",
   "version": "3.9.13"
  },
  "toc": {
   "base_numbering": 1,
   "nav_menu": {},
   "number_sections": true,
   "sideBar": true,
   "skip_h1_title": false,
   "title_cell": "Table of Contents",
   "title_sidebar": "Contents",
   "toc_cell": false,
   "toc_position": {},
   "toc_section_display": true,
   "toc_window_display": false
  }
 },
 "nbformat": 4,
 "nbformat_minor": 5
}
