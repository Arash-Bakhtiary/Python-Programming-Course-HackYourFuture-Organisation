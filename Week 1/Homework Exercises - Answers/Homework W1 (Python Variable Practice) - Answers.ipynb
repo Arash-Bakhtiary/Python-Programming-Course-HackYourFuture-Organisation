{
 "cells": [
  {
   "cell_type": "markdown",
   "id": "dbee02f3",
   "metadata": {},
   "source": [
    "# Assignments - W1 (Python Variable Practice)"
   ]
  },
  {
   "cell_type": "markdown",
   "id": "3671de93",
   "metadata": {},
   "source": [
    "Assignment 1: Temperature Conversion"
   ]
  },
  {
   "cell_type": "markdown",
   "id": "1e915636",
   "metadata": {},
   "source": [
    "Task: Create two variables, temperature_celsius and temperature_fahrenheit. Assign a temperature in Celsius to temperature_celsius, and then calculate and assign its equivalent temperature in Fahrenheit to temperature_fahrenheit. Print both temperatures."
   ]
  },
  {
   "cell_type": "markdown",
   "id": "28639160",
   "metadata": {},
   "source": [
    "Answer:"
   ]
  },
  {
   "cell_type": "code",
   "execution_count": 10,
   "id": "63d71946",
   "metadata": {},
   "outputs": [
    {
     "name": "stdout",
     "output_type": "stream",
     "text": [
      "32°C is equal to 89.60°F\n"
     ]
    }
   ],
   "source": [
    "temperature_celsius = 32\n",
    "temperature_fahrenheit = (temperature_celsius * 9/5) + 32\n",
    "print(f\"{temperature_celsius}°C is equal to {temperature_fahrenheit:.2f}°F\")"
   ]
  },
  {
   "cell_type": "markdown",
   "id": "a287b124",
   "metadata": {},
   "source": [
    "Assignment 2: Currency Conversion"
   ]
  },
  {
   "cell_type": "markdown",
   "id": "d38d075e",
   "metadata": {},
   "source": [
    "Task: Create variables usd_amount and exchange_rate. Assign an amount in USD to usd_amount and the current exchange rate to exchange_rate. Calculate and print the equivalent amount in EUR."
   ]
  },
  {
   "cell_type": "markdown",
   "id": "5830a402",
   "metadata": {},
   "source": [
    "Answer:"
   ]
  },
  {
   "cell_type": "code",
   "execution_count": 9,
   "id": "2d5b294b",
   "metadata": {},
   "outputs": [
    {
     "name": "stdout",
     "output_type": "stream",
     "text": [
      "100 USD is equal to 85.0 EUR.\n"
     ]
    }
   ],
   "source": [
    "usd_amount = 100\n",
    "exchange_rate = 0.85  # 1 USD to EUR\n",
    "eur_amount = usd_amount * exchange_rate\n",
    "print(f\"{usd_amount} USD is equal to {eur_amount} EUR.\")\n"
   ]
  },
  {
   "cell_type": "markdown",
   "id": "7f4a572d",
   "metadata": {},
   "source": [
    "Assignment 3: User Input and Computation"
   ]
  },
  {
   "cell_type": "markdown",
   "id": "33b37cdf",
   "metadata": {},
   "source": [
    "Task: Create a variable user_input and assign a numeric value entered by the user. Calculate the square of the user's input and assign it to a variable result. Print the result."
   ]
  },
  {
   "cell_type": "markdown",
   "id": "abd4292f",
   "metadata": {},
   "source": [
    "Answer:"
   ]
  },
  {
   "cell_type": "code",
   "execution_count": 8,
   "id": "6ce264c0",
   "metadata": {},
   "outputs": [
    {
     "name": "stdout",
     "output_type": "stream",
     "text": [
      "Enter a number: 12\n",
      "The square of 12.0 is 144.0.\n"
     ]
    }
   ],
   "source": [
    "user_input = float(input(\"Enter a number: \"))\n",
    "result = user_input ** 2\n",
    "print(f\"The square of {user_input} is {result}.\")"
   ]
  },
  {
   "cell_type": "markdown",
   "id": "0a4681f9",
   "metadata": {},
   "source": [
    "Assignment 4: Character Count"
   ]
  },
  {
   "cell_type": "markdown",
   "id": "ba329f64",
   "metadata": {},
   "source": [
    "Task: Create a variable text and assign a sentence to it. Count and assign the number of characters in the sentence to a variable char_count. Print the character count."
   ]
  },
  {
   "cell_type": "markdown",
   "id": "c14297fa",
   "metadata": {},
   "source": [
    "Answer:"
   ]
  },
  {
   "cell_type": "code",
   "execution_count": 7,
   "id": "f6059a30",
   "metadata": {},
   "outputs": [
    {
     "name": "stdout",
     "output_type": "stream",
     "text": [
      "The sentence has 26 characters.\n"
     ]
    }
   ],
   "source": [
    "text = \"This is a sample sentence.\"\n",
    "char_count = len(text)\n",
    "print(f\"The sentence has {char_count} characters.\")"
   ]
  },
  {
   "cell_type": "markdown",
   "id": "d686f19a",
   "metadata": {},
   "source": [
    "Assignment 5: Discount Calculation"
   ]
  },
  {
   "cell_type": "markdown",
   "id": "c9b12a6c",
   "metadata": {},
   "source": [
    "Task: Create variables original_price and discount_percentage. Assign an original price and a discount percentage. Calculate and print the discounted price."
   ]
  },
  {
   "cell_type": "markdown",
   "id": "357c5e52",
   "metadata": {},
   "source": [
    "Answer:"
   ]
  },
  {
   "cell_type": "code",
   "execution_count": 6,
   "id": "53b55065",
   "metadata": {},
   "outputs": [
    {
     "name": "stdout",
     "output_type": "stream",
     "text": [
      "The discounted price is $80.00.\n"
     ]
    }
   ],
   "source": [
    "original_price = 100\n",
    "discount_percentage = 20  # 20% discount\n",
    "discounted_price = original_price - (original_price * discount_percentage / 100)\n",
    "print(f\"The discounted price is ${discounted_price:.2f}.\")"
   ]
  },
  {
   "cell_type": "markdown",
   "id": "8db5508c",
   "metadata": {},
   "source": [
    "Assignment 6: BMI Calculation"
   ]
  },
  {
   "cell_type": "markdown",
   "id": "8996f774",
   "metadata": {},
   "source": [
    "Task: Create variables weight_kg and height_m. Assign a weight in kilograms and height in meters. Calculate and print the BMI (Body Mass Index)."
   ]
  },
  {
   "cell_type": "markdown",
   "id": "1428a9b2",
   "metadata": {},
   "source": [
    "Answer:"
   ]
  },
  {
   "cell_type": "code",
   "execution_count": 5,
   "id": "66efecea",
   "metadata": {},
   "outputs": [
    {
     "name": "stdout",
     "output_type": "stream",
     "text": [
      "Your BMI is 22.86.\n"
     ]
    }
   ],
   "source": [
    "weight_kg = 70\n",
    "height_m = 1.75\n",
    "bmi = weight_kg / (height_m ** 2)\n",
    "print(f\"Your BMI is {bmi:.2f}.\")\n"
   ]
  },
  {
   "cell_type": "markdown",
   "id": "269f5d79",
   "metadata": {},
   "source": [
    "Assignment 7: Time Conversion"
   ]
  },
  {
   "cell_type": "markdown",
   "id": "30bc4594",
   "metadata": {},
   "source": [
    "Task: Create a variable hours and assign the number of hours. Convert this value into minutes and seconds, then print the result."
   ]
  },
  {
   "cell_type": "markdown",
   "id": "fb44915a",
   "metadata": {},
   "source": [
    "Answer:"
   ]
  },
  {
   "cell_type": "code",
   "execution_count": 4,
   "id": "de525fb0",
   "metadata": {},
   "outputs": [
    {
     "name": "stdout",
     "output_type": "stream",
     "text": [
      "3 hours is equal to 180 minutes or 10800 seconds.\n"
     ]
    }
   ],
   "source": [
    "hours = 3\n",
    "minutes = hours * 60\n",
    "seconds = hours * 3600\n",
    "print(f\"{hours} hours is equal to {minutes} minutes or {seconds} seconds.\")\n"
   ]
  },
  {
   "cell_type": "markdown",
   "id": "4f43f6d7",
   "metadata": {},
   "source": [
    "Assignment 8: Area Calculation"
   ]
  },
  {
   "cell_type": "markdown",
   "id": "ab7b1033",
   "metadata": {},
   "source": [
    "Task: Create a variable base and height representing the base and height of a triangle. Calculate and print the area of the triangle."
   ]
  },
  {
   "cell_type": "markdown",
   "id": "904ed3a0",
   "metadata": {},
   "source": [
    "Answer:"
   ]
  },
  {
   "cell_type": "code",
   "execution_count": 3,
   "id": "85186bbe",
   "metadata": {},
   "outputs": [
    {
     "name": "stdout",
     "output_type": "stream",
     "text": [
      "The area of the triangle is 20.0.\n"
     ]
    }
   ],
   "source": [
    "base = 8\n",
    "height = 5\n",
    "area = 0.5 * base * height\n",
    "print(f\"The area of the triangle is {area}.\")"
   ]
  },
  {
   "cell_type": "markdown",
   "id": "195b8cfe",
   "metadata": {},
   "source": [
    "Assignment 9: Interest Calculation"
   ]
  },
  {
   "cell_type": "markdown",
   "id": "be40cf6e",
   "metadata": {},
   "source": [
    "Task: Create variables principal, rate, and time. Assign values to represent a principal amount, interest rate, and time (in years). Calculate and print the simple interest."
   ]
  },
  {
   "cell_type": "markdown",
   "id": "5d5c0da4",
   "metadata": {},
   "source": [
    "Answer:"
   ]
  },
  {
   "cell_type": "code",
   "execution_count": 2,
   "id": "5775faab",
   "metadata": {},
   "outputs": [
    {
     "name": "stdout",
     "output_type": "stream",
     "text": [
      "The simple interest is $150.00.\n"
     ]
    }
   ],
   "source": [
    "principal = 1000\n",
    "rate = 5  # 5% interest rate\n",
    "time = 3\n",
    "simple_interest = (principal * rate * time) / 100\n",
    "print(f\"The simple interest is ${simple_interest:.2f}.\")"
   ]
  },
  {
   "cell_type": "markdown",
   "id": "57fa13de",
   "metadata": {},
   "source": [
    "Assignment 10: String Concatenation"
   ]
  },
  {
   "cell_type": "markdown",
   "id": "2bd141d8",
   "metadata": {},
   "source": [
    "Task: Create variables first_name and last_name. Assign your first name and last name to these variables. Concatenate them and print a greeting message."
   ]
  },
  {
   "cell_type": "markdown",
   "id": "c8602acd",
   "metadata": {},
   "source": [
    "Answer:"
   ]
  },
  {
   "cell_type": "code",
   "execution_count": 1,
   "id": "31c7c24f",
   "metadata": {},
   "outputs": [
    {
     "name": "stdout",
     "output_type": "stream",
     "text": [
      "Hello, John Doe!\n"
     ]
    }
   ],
   "source": [
    "first_name = \"John\"\n",
    "last_name = \"Doe\"\n",
    "full_name = first_name + \" \" + last_name\n",
    "print(f\"Hello, {full_name}!\")"
   ]
  }
 ],
 "metadata": {
  "kernelspec": {
   "display_name": "Python 3 (ipykernel)",
   "language": "python",
   "name": "python3"
  },
  "language_info": {
   "codemirror_mode": {
    "name": "ipython",
    "version": 3
   },
   "file_extension": ".py",
   "mimetype": "text/x-python",
   "name": "python",
   "nbconvert_exporter": "python",
   "pygments_lexer": "ipython3",
   "version": "3.9.13"
  },
  "toc": {
   "base_numbering": 1,
   "nav_menu": {},
   "number_sections": true,
   "sideBar": true,
   "skip_h1_title": false,
   "title_cell": "Table of Contents",
   "title_sidebar": "Contents",
   "toc_cell": false,
   "toc_position": {},
   "toc_section_display": true,
   "toc_window_display": false
  }
 },
 "nbformat": 4,
 "nbformat_minor": 5
}
