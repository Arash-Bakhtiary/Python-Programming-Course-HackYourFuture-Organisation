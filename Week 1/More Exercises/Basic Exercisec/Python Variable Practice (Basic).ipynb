{
 "cells": [
  {
   "cell_type": "markdown",
   "id": "dbee02f3",
   "metadata": {},
   "source": [
    "# Python Variable Practice (Basic)"
   ]
  },
  {
   "cell_type": "markdown",
   "id": "ca9ffa6b",
   "metadata": {},
   "source": [
    "Question: Create two variables num1 and num2 and assign them integer values. Swap the values of the variables without using a temporary variable."
   ]
  },
  {
   "cell_type": "code",
   "execution_count": 1,
   "id": "a1bf828d",
   "metadata": {},
   "outputs": [
    {
     "name": "stdout",
     "output_type": "stream",
     "text": [
      "num1: 20\n",
      "num2: 10\n"
     ]
    }
   ],
   "source": [
    "num1 = 10\n",
    "num2 = 20\n",
    "num1, num2 = num2, num1\n",
    "print(\"num1:\", num1)\n",
    "print(\"num2:\", num2)"
   ]
  },
  {
   "cell_type": "markdown",
   "id": "c03ac9ca",
   "metadata": {},
   "source": [
    "Question: Create a variable product_name and assign the name of a product. Create another variable price and assign a price to it. Print a message including both variables."
   ]
  },
  {
   "cell_type": "code",
   "execution_count": 4,
   "id": "3f5e7632",
   "metadata": {},
   "outputs": [
    {
     "name": "stdout",
     "output_type": "stream",
     "text": [
      "The Laptop costs $999.99\n"
     ]
    }
   ],
   "source": [
    "product_name = \"Laptop\"\n",
    "price = 999.99\n",
    "print(f\"The {product_name} costs ${price:.2f}\")"
   ]
  },
  {
   "cell_type": "markdown",
   "id": "131b06c6",
   "metadata": {},
   "source": [
    "Question: Create a variable user_input and assign a string entered by the user. Print the input with all uppercase letters."
   ]
  },
  {
   "cell_type": "code",
   "execution_count": 3,
   "id": "a907dfcf",
   "metadata": {},
   "outputs": [
    {
     "name": "stdout",
     "output_type": "stream",
     "text": [
      "Enter a string: ali\n",
      "Uppercase: ALI\n"
     ]
    }
   ],
   "source": [
    "user_input = input(\"Enter a string: \")\n",
    "uppercase_input = user_input.upper()\n",
    "print(\"Uppercase:\", uppercase_input)"
   ]
  },
  {
   "cell_type": "markdown",
   "id": "4a881e08",
   "metadata": {},
   "source": [
    "Question: Create a variable sentence and assign a long sentence to it. Count the number of words in the sentence."
   ]
  },
  {
   "cell_type": "code",
   "execution_count": 6,
   "id": "7c350f99",
   "metadata": {},
   "outputs": [
    {
     "name": "stdout",
     "output_type": "stream",
     "text": [
      "The sentence has 8 words.\n"
     ]
    }
   ],
   "source": [
    "sentence = \"This is a long sentence with many words.\"\n",
    "word_count = len(sentence.split())\n",
    "print(f\"The sentence has {word_count} words.\")"
   ]
  },
  {
   "cell_type": "markdown",
   "id": "f0b561fc",
   "metadata": {},
   "source": [
    "Question: Create a variable temperature and assign a temperature in Celsius to it. Convert it to Fahrenheit using the formula (C * 9/5) + 32 and print the result."
   ]
  },
  {
   "cell_type": "code",
   "execution_count": 8,
   "id": "5277d967",
   "metadata": {},
   "outputs": [
    {
     "name": "stdout",
     "output_type": "stream",
     "text": [
      "25°C is equal to 77.00°F\n"
     ]
    }
   ],
   "source": [
    "temperature_celsius = 25\n",
    "temperature_fahrenheit = (temperature_celsius * 9/5) + 32\n",
    "print(f\"{temperature_celsius}°C is equal to {temperature_fahrenheit:.2f}°F\")"
   ]
  },
  {
   "cell_type": "markdown",
   "id": "b5099ee6",
   "metadata": {},
   "source": [
    "Question: Create a variable named pi and assign the value of pi (3.14159) to it. Calculate the area of a circle with a radius of 5 using this variable."
   ]
  },
  {
   "cell_type": "code",
   "execution_count": 9,
   "id": "a1e8b4e6",
   "metadata": {},
   "outputs": [
    {
     "name": "stdout",
     "output_type": "stream",
     "text": [
      "The area of the circle is 78.54\n"
     ]
    }
   ],
   "source": [
    "pi = 3.14159\n",
    "radius = 5\n",
    "area = pi * radius ** 2\n",
    "print(f\"The area of the circle is {area:.2f}\")"
   ]
  }
 ],
 "metadata": {
  "kernelspec": {
   "display_name": "Python 3 (ipykernel)",
   "language": "python",
   "name": "python3"
  },
  "language_info": {
   "codemirror_mode": {
    "name": "ipython",
    "version": 3
   },
   "file_extension": ".py",
   "mimetype": "text/x-python",
   "name": "python",
   "nbconvert_exporter": "python",
   "pygments_lexer": "ipython3",
   "version": "3.9.13"
  },
  "toc": {
   "base_numbering": 1,
   "nav_menu": {},
   "number_sections": true,
   "sideBar": true,
   "skip_h1_title": false,
   "title_cell": "Table of Contents",
   "title_sidebar": "Contents",
   "toc_cell": false,
   "toc_position": {},
   "toc_section_display": true,
   "toc_window_display": false
  }
 },
 "nbformat": 4,
 "nbformat_minor": 5
}
