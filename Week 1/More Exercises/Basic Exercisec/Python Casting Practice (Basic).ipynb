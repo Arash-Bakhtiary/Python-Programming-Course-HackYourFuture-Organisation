{
 "cells": [
  {
   "cell_type": "markdown",
   "id": "2bed22f6",
   "metadata": {},
   "source": [
    "# Python Casting (Basic)"
   ]
  },
  {
   "cell_type": "markdown",
   "id": "0079f40f",
   "metadata": {},
   "source": [
    "Question: Convert the integer 42 to a floating-point number."
   ]
  },
  {
   "cell_type": "code",
   "execution_count": 1,
   "id": "e30457a7",
   "metadata": {},
   "outputs": [
    {
     "name": "stdout",
     "output_type": "stream",
     "text": [
      "42.0\n"
     ]
    }
   ],
   "source": [
    "integer_value = 42\n",
    "float_value = float(integer_value)\n",
    "print(float_value)"
   ]
  },
  {
   "cell_type": "markdown",
   "id": "4290af95",
   "metadata": {},
   "source": [
    "Question: Convert the string \"123\" to an integer."
   ]
  },
  {
   "cell_type": "code",
   "execution_count": 2,
   "id": "9e28d0be",
   "metadata": {},
   "outputs": [
    {
     "name": "stdout",
     "output_type": "stream",
     "text": [
      "123\n"
     ]
    }
   ],
   "source": [
    "string_value = \"123\"\n",
    "integer_value = int(string_value)\n",
    "print(integer_value)"
   ]
  },
  {
   "cell_type": "markdown",
   "id": "24043794",
   "metadata": {},
   "source": [
    "Question: Convert the string \"3.14\" to a floating-point number."
   ]
  },
  {
   "cell_type": "code",
   "execution_count": 3,
   "id": "09e3cd29",
   "metadata": {},
   "outputs": [
    {
     "name": "stdout",
     "output_type": "stream",
     "text": [
      "3.14\n"
     ]
    }
   ],
   "source": [
    "string_value = \"3.14\"\n",
    "float_value = float(string_value)\n",
    "print(float_value)"
   ]
  },
  {
   "cell_type": "markdown",
   "id": "eb371171",
   "metadata": {},
   "source": [
    "Question: Convert the boolean True to an integer."
   ]
  },
  {
   "cell_type": "code",
   "execution_count": 4,
   "id": "3bd7b364",
   "metadata": {},
   "outputs": [
    {
     "name": "stdout",
     "output_type": "stream",
     "text": [
      "1\n"
     ]
    }
   ],
   "source": [
    "boolean_value = True\n",
    "integer_value = int(boolean_value)\n",
    "print(integer_value)"
   ]
  },
  {
   "cell_type": "markdown",
   "id": "a36de155",
   "metadata": {},
   "source": [
    "Question: Convert the boolean False to a string."
   ]
  },
  {
   "cell_type": "code",
   "execution_count": 5,
   "id": "c0da5ef0",
   "metadata": {},
   "outputs": [
    {
     "name": "stdout",
     "output_type": "stream",
     "text": [
      "False\n"
     ]
    }
   ],
   "source": [
    "boolean_value = False\n",
    "string_value = str(boolean_value)\n",
    "print(string_value)"
   ]
  },
  {
   "cell_type": "markdown",
   "id": "dcebefc0",
   "metadata": {},
   "source": [
    "Question: Convert the string \"42\" to an integer and then add 10 to it."
   ]
  },
  {
   "cell_type": "code",
   "execution_count": 6,
   "id": "68cae119",
   "metadata": {},
   "outputs": [
    {
     "name": "stdout",
     "output_type": "stream",
     "text": [
      "52\n"
     ]
    }
   ],
   "source": [
    "string_value = \"42\"\n",
    "integer_value = int(string_value)\n",
    "result = integer_value + 10\n",
    "print(result)"
   ]
  },
  {
   "cell_type": "markdown",
   "id": "a2d3d005",
   "metadata": {},
   "source": [
    "Question: Convert the floating-point number 3.14 to an integer and then multiply it by 2."
   ]
  },
  {
   "cell_type": "code",
   "execution_count": 9,
   "id": "66ca9d8b",
   "metadata": {},
   "outputs": [
    {
     "name": "stdout",
     "output_type": "stream",
     "text": [
      "6\n"
     ]
    }
   ],
   "source": [
    "float_value = 3.14\n",
    "integer_value = int(float_value)\n",
    "result = integer_value * 2\n",
    "print(result)"
   ]
  },
  {
   "cell_type": "markdown",
   "id": "1264b4d4",
   "metadata": {},
   "source": [
    "Question: Convert the integer 10 to a boolean."
   ]
  },
  {
   "cell_type": "code",
   "execution_count": 11,
   "id": "ccfbfc66",
   "metadata": {},
   "outputs": [
    {
     "name": "stdout",
     "output_type": "stream",
     "text": [
      "True\n"
     ]
    }
   ],
   "source": [
    "integer_value = 10\n",
    "boolean_value = bool(integer_value)\n",
    "print(boolean_value)"
   ]
  },
  {
   "cell_type": "markdown",
   "id": "d8e2aa75",
   "metadata": {},
   "source": [
    "Question: Convert the floating-point number 0.0 to a boolean."
   ]
  },
  {
   "cell_type": "code",
   "execution_count": 12,
   "id": "3a87d869",
   "metadata": {},
   "outputs": [
    {
     "name": "stdout",
     "output_type": "stream",
     "text": [
      "False\n"
     ]
    }
   ],
   "source": [
    "float_value = 0.0\n",
    "boolean_value = bool(float_value)\n",
    "print(boolean_value)"
   ]
  },
  {
   "cell_type": "markdown",
   "id": "63378d73",
   "metadata": {},
   "source": [
    "Question: Convert the string \"Hello\" to a boolean."
   ]
  },
  {
   "cell_type": "code",
   "execution_count": 13,
   "id": "226e51b0",
   "metadata": {},
   "outputs": [
    {
     "name": "stdout",
     "output_type": "stream",
     "text": [
      "True\n"
     ]
    }
   ],
   "source": [
    "string_value = \"Hello\"\n",
    "boolean_value = bool(string_value)\n",
    "print(boolean_value)"
   ]
  },
  {
   "cell_type": "markdown",
   "id": "e158887b",
   "metadata": {},
   "source": [
    "Question: Convert the integer 0 to a boolean."
   ]
  },
  {
   "cell_type": "code",
   "execution_count": 14,
   "id": "103a8794",
   "metadata": {},
   "outputs": [
    {
     "name": "stdout",
     "output_type": "stream",
     "text": [
      "False\n"
     ]
    }
   ],
   "source": [
    "integer_value = 0\n",
    "boolean_value = bool(integer_value)\n",
    "print(boolean_value)"
   ]
  },
  {
   "cell_type": "markdown",
   "id": "9cd302ce",
   "metadata": {},
   "source": [
    "Question: Convert the integer 42 to a hexadecimal string."
   ]
  },
  {
   "cell_type": "code",
   "execution_count": 15,
   "id": "574a34ad",
   "metadata": {},
   "outputs": [
    {
     "name": "stdout",
     "output_type": "stream",
     "text": [
      "0x2a\n"
     ]
    }
   ],
   "source": [
    "integer_value = 42\n",
    "hex_string = hex(integer_value)\n",
    "print(hex_string)"
   ]
  }
 ],
 "metadata": {
  "kernelspec": {
   "display_name": "Python 3 (ipykernel)",
   "language": "python",
   "name": "python3"
  },
  "language_info": {
   "codemirror_mode": {
    "name": "ipython",
    "version": 3
   },
   "file_extension": ".py",
   "mimetype": "text/x-python",
   "name": "python",
   "nbconvert_exporter": "python",
   "pygments_lexer": "ipython3",
   "version": "3.9.13"
  },
  "toc": {
   "base_numbering": 1,
   "nav_menu": {},
   "number_sections": true,
   "sideBar": true,
   "skip_h1_title": false,
   "title_cell": "Table of Contents",
   "title_sidebar": "Contents",
   "toc_cell": false,
   "toc_position": {},
   "toc_section_display": true,
   "toc_window_display": false
  }
 },
 "nbformat": 4,
 "nbformat_minor": 5
}
