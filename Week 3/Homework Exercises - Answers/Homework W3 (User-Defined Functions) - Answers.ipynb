{
 "cells": [
  {
   "cell_type": "markdown",
   "id": "dbee02f3",
   "metadata": {},
   "source": [
    "# Assignments - W3 (User-Defined Functions)"
   ]
  },
  {
   "cell_type": "markdown",
   "id": "bb95fe9e",
   "metadata": {},
   "source": [
    "Assignment 1: Calculate the Median"
   ]
  },
  {
   "cell_type": "markdown",
   "id": "8f2542e9",
   "metadata": {},
   "source": [
    "Task: Write a Python function that calculates the median of a list of numbers. The median is the middle value in a sorted list. If the list has an even number of elements, return the average of the two middle values."
   ]
  },
  {
   "cell_type": "markdown",
   "id": "99ccd96f",
   "metadata": {},
   "source": [
    "Answer: "
   ]
  },
  {
   "cell_type": "code",
   "execution_count": 10,
   "id": "23bfceac",
   "metadata": {},
   "outputs": [
    {
     "name": "stdout",
     "output_type": "stream",
     "text": [
      "Median: 4.5\n"
     ]
    }
   ],
   "source": [
    "def median(numbers):\n",
    "    sorted_numbers = sorted(numbers)\n",
    "    n = len(sorted_numbers)\n",
    "    if n % 2 == 1:\n",
    "        return sorted_numbers[n // 2]\n",
    "    else:\n",
    "        middle1 = sorted_numbers[n // 2 - 1]\n",
    "        middle2 = sorted_numbers[n // 2]\n",
    "        return (middle1 + middle2) / 2\n",
    "\n",
    "numbers = [5, 2, 8, 3, 9, 1, 7, 4]\n",
    "print(\"Median:\", median(numbers))"
   ]
  },
  {
   "cell_type": "markdown",
   "id": "88bdd140",
   "metadata": {},
   "source": [
    "Assignment 2: Find the Longest Substring Without Repeating Characters"
   ]
  },
  {
   "cell_type": "markdown",
   "id": "75f21a28",
   "metadata": {},
   "source": [
    "Task: Write a Python function that finds and returns the length of the longest substring without repeating characters in a given string."
   ]
  },
  {
   "cell_type": "markdown",
   "id": "01eeb0c8",
   "metadata": {},
   "source": [
    "Answer: "
   ]
  },
  {
   "cell_type": "code",
   "execution_count": 9,
   "id": "d82012a3",
   "metadata": {},
   "outputs": [
    {
     "name": "stdout",
     "output_type": "stream",
     "text": [
      "Length of the longest substring: 3\n"
     ]
    }
   ],
   "source": [
    "def longest_substring(s):\n",
    "    max_length = 0\n",
    "    start = 0\n",
    "    char_index = {}\n",
    "    \n",
    "    for end, char in enumerate(s):\n",
    "        if char in char_index and char_index[char] >= start:\n",
    "            start = char_index[char] + 1\n",
    "        char_index[char] = end\n",
    "        max_length = max(max_length, end - start + 1)\n",
    "    \n",
    "    return max_length\n",
    "\n",
    "s = \"abcabcbb\"\n",
    "print(\"Length of the longest substring:\", longest_substring(s))"
   ]
  },
  {
   "cell_type": "markdown",
   "id": "37095431",
   "metadata": {},
   "source": [
    "Assignment 3: Calculate the Power Set"
   ]
  },
  {
   "cell_type": "markdown",
   "id": "1433b40b",
   "metadata": {},
   "source": [
    "Task: Write a Python function that generates and returns the power set (all possible subsets) of a given list."
   ]
  },
  {
   "cell_type": "markdown",
   "id": "7e3c5dbd",
   "metadata": {},
   "source": [
    "Answer: "
   ]
  },
  {
   "cell_type": "code",
   "execution_count": 8,
   "id": "97d3bab4",
   "metadata": {},
   "outputs": [
    {
     "name": "stdout",
     "output_type": "stream",
     "text": [
      "Power set: [[], [1], [2], [1, 2], [3], [1, 3], [2, 3], [1, 2, 3]]\n"
     ]
    }
   ],
   "source": [
    "def power_set(lst):\n",
    "    n = len(lst)\n",
    "    subsets = []\n",
    "    \n",
    "    for i in range(2 ** n):\n",
    "        subset = [lst[j] for j in range(n) if (i & (1 << j)) != 0]\n",
    "        subsets.append(subset)\n",
    "    \n",
    "    return subsets\n",
    "\n",
    "lst = [1, 2, 3]\n",
    "print(\"Power set:\", power_set(lst))"
   ]
  },
  {
   "cell_type": "markdown",
   "id": "09dfc6c6",
   "metadata": {},
   "source": [
    "Assignment 4: Determine If a String Is an Anagram"
   ]
  },
  {
   "cell_type": "markdown",
   "id": "3e201eb0",
   "metadata": {},
   "source": [
    "Task: Create a Python function that checks if two strings are anagrams of each other (contain the same characters in a different order)."
   ]
  },
  {
   "cell_type": "markdown",
   "id": "7b41ca07",
   "metadata": {},
   "source": [
    "Answer: "
   ]
  },
  {
   "cell_type": "code",
   "execution_count": 7,
   "id": "631e4c6d",
   "metadata": {},
   "outputs": [
    {
     "name": "stdout",
     "output_type": "stream",
     "text": [
      "Are the strings anagrams? True\n"
     ]
    }
   ],
   "source": [
    "def is_anagram(s1, s2):\n",
    "    s1 = s1.replace(\" \", \"\").lower()\n",
    "    s2 = s2.replace(\" \", \"\").lower()\n",
    "    return sorted(s1) == sorted(s2)\n",
    "\n",
    "string1 = \"listen\"\n",
    "string2 = \"silent\"\n",
    "print(\"Are the strings anagrams?\", is_anagram(string1, string2))"
   ]
  },
  {
   "cell_type": "markdown",
   "id": "cbcbb425",
   "metadata": {},
   "source": [
    "Assignment 5: Calculate the Combinations"
   ]
  },
  {
   "cell_type": "markdown",
   "id": "f84a7d76",
   "metadata": {},
   "source": [
    "Task: Write a Python function that calculates and returns the number of combinations of n items taken k at a time (nCk)."
   ]
  },
  {
   "cell_type": "markdown",
   "id": "6fe275e7",
   "metadata": {},
   "source": [
    "Answer: "
   ]
  },
  {
   "cell_type": "code",
   "execution_count": 6,
   "id": "73b483f7",
   "metadata": {},
   "outputs": [
    {
     "name": "stdout",
     "output_type": "stream",
     "text": [
      "5C2 = 10\n"
     ]
    }
   ],
   "source": [
    "import math\n",
    "\n",
    "def combinations(n, k):\n",
    "    return math.comb(n, k)\n",
    "\n",
    "n = 5\n",
    "k = 2\n",
    "print(f\"{n}C{k} =\", combinations(n, k))"
   ]
  },
  {
   "cell_type": "markdown",
   "id": "2db5a6f5",
   "metadata": {},
   "source": [
    "Assignment 6: Detect a Cycle in a Directed Graph"
   ]
  },
  {
   "cell_type": "markdown",
   "id": "83cfe4ad",
   "metadata": {},
   "source": [
    "Task: Create a Python function that detects if a directed graph represented as an adjacency list has a cycle."
   ]
  },
  {
   "cell_type": "markdown",
   "id": "cd7a0da9",
   "metadata": {},
   "source": [
    "Answer: "
   ]
  },
  {
   "cell_type": "code",
   "execution_count": 5,
   "id": "f40f5807",
   "metadata": {},
   "outputs": [
    {
     "name": "stdout",
     "output_type": "stream",
     "text": [
      "Does the graph have a cycle? True\n"
     ]
    }
   ],
   "source": [
    "def has_cycle(graph):\n",
    "    def dfs(node, visited, rec_stack):\n",
    "        visited[node] = True\n",
    "        rec_stack[node] = True\n",
    "        \n",
    "        for neighbor in graph[node]:\n",
    "            if not visited[neighbor]:\n",
    "                if dfs(neighbor, visited, rec_stack):\n",
    "                    return True\n",
    "            elif rec_stack[neighbor]:\n",
    "                return True\n",
    "        \n",
    "        rec_stack[node] = False\n",
    "        return False\n",
    "    \n",
    "    num_nodes = len(graph)\n",
    "    visited = [False] * num_nodes\n",
    "    rec_stack = [False] * num_nodes\n",
    "    \n",
    "    for node in range(num_nodes):\n",
    "        if not visited[node]:\n",
    "            if dfs(node, visited, rec_stack):\n",
    "                return True\n",
    "    \n",
    "    return False\n",
    "\n",
    "# Example adjacency list representation of a directed graph\n",
    "graph = {\n",
    "    0: [1],\n",
    "    1: [2],\n",
    "    2: [0]\n",
    "}\n",
    "print(\"Does the graph have a cycle?\", has_cycle(graph))"
   ]
  },
  {
   "cell_type": "markdown",
   "id": "11c25cf0",
   "metadata": {},
   "source": [
    "Assignment 7: Implement a Queue Using Stacks"
   ]
  },
  {
   "cell_type": "markdown",
   "id": "cb2f2fe5",
   "metadata": {},
   "source": [
    "Task: Write a Python function that implements a queue using two stacks."
   ]
  },
  {
   "cell_type": "markdown",
   "id": "cf6aa719",
   "metadata": {},
   "source": [
    "Answer: "
   ]
  },
  {
   "cell_type": "code",
   "execution_count": 4,
   "id": "c033dcde",
   "metadata": {},
   "outputs": [
    {
     "name": "stdout",
     "output_type": "stream",
     "text": [
      "1\n",
      "2\n"
     ]
    }
   ],
   "source": [
    "class QueueUsingStacks:\n",
    "    def __init__(self):\n",
    "        self.stack1 = []\n",
    "        self.stack2 = []\n",
    "\n",
    "    def enqueue(self, item):\n",
    "        self.stack1.append(item)\n",
    "\n",
    "    def dequeue(self):\n",
    "        if not self.stack2:\n",
    "            while self.stack1:\n",
    "                self.stack2.append(self.stack1.pop())\n",
    "        if self.stack2:\n",
    "            return self.stack2.pop()\n",
    "        else:\n",
    "            return None\n",
    "\n",
    "queue = QueueUsingStacks()\n",
    "queue.enqueue(1)\n",
    "queue.enqueue(2)\n",
    "queue.enqueue(3)\n",
    "print(queue.dequeue())  # Output: 1\n",
    "print(queue.dequeue())  # Output: 2"
   ]
  },
  {
   "cell_type": "markdown",
   "id": "cdc4ddf2",
   "metadata": {},
   "source": [
    "Assignment 8: Determine If a Number Is a Perfect Cube"
   ]
  },
  {
   "cell_type": "markdown",
   "id": "3bac4af1",
   "metadata": {},
   "source": [
    "Task: Write a Python function that checks if a given integer is a perfect cube."
   ]
  },
  {
   "cell_type": "markdown",
   "id": "9df6be8c",
   "metadata": {},
   "source": [
    "Answer: "
   ]
  },
  {
   "cell_type": "code",
   "execution_count": 3,
   "id": "8c9aaab4",
   "metadata": {},
   "outputs": [
    {
     "name": "stdout",
     "output_type": "stream",
     "text": [
      "Is the number a perfect cube? True\n"
     ]
    }
   ],
   "source": [
    "def is_perfect_cube(n):\n",
    "    cube_root = round(n ** (1/3))\n",
    "    return cube_root ** 3 == n\n",
    "\n",
    "number = 27\n",
    "print(\"Is the number a perfect cube?\", is_perfect_cube(number))"
   ]
  },
  {
   "cell_type": "markdown",
   "id": "e43e041d",
   "metadata": {},
   "source": [
    "Assignment 9: Implement Depth-First Search (DFS)"
   ]
  },
  {
   "cell_type": "markdown",
   "id": "3abf243f",
   "metadata": {},
   "source": [
    "Task: Create a Python function that performs a depth-first search (DFS) on a graph represented as an adjacency list and returns the order of visited nodes."
   ]
  },
  {
   "cell_type": "markdown",
   "id": "eb634cfb",
   "metadata": {},
   "source": [
    "Answer: "
   ]
  },
  {
   "cell_type": "code",
   "execution_count": 2,
   "id": "f3678f70",
   "metadata": {},
   "outputs": [
    {
     "name": "stdout",
     "output_type": "stream",
     "text": [
      "DFS order: [0, 1, 3, 4, 2]\n"
     ]
    }
   ],
   "source": [
    "def dfs(graph, node, visited, result):\n",
    "    visited[node] = True\n",
    "    result.append(node)\n",
    "    \n",
    "    for neighbor in graph[node]:\n",
    "        if not visited[neighbor]:\n",
    "            dfs(graph, neighbor, visited, result)\n",
    "\n",
    "# Example adjacency list representation of a graph\n",
    "graph = {\n",
    "    0: [1, 2],\n",
    "    1: [3],\n",
    "    2: [],\n",
    "    3: [4],\n",
    "    4: []\n",
    "}\n",
    "visited = [False] * len(graph)\n",
    "dfs_result = []\n",
    "dfs(graph, 0, visited, dfs_result)\n",
    "print(\"DFS order:\", dfs_result)"
   ]
  },
  {
   "cell_type": "markdown",
   "id": "9a09b603",
   "metadata": {},
   "source": [
    "Assignment 10: Implement a Priority Queue"
   ]
  },
  {
   "cell_type": "markdown",
   "id": "d5165bcf",
   "metadata": {},
   "source": [
    "Task: Write a Python class that implements a priority queue using a binary heap data structure."
   ]
  },
  {
   "cell_type": "markdown",
   "id": "0fbc0b8c",
   "metadata": {},
   "source": [
    "Answer: "
   ]
  },
  {
   "cell_type": "code",
   "execution_count": 1,
   "id": "0cdeaedb",
   "metadata": {},
   "outputs": [
    {
     "name": "stdout",
     "output_type": "stream",
     "text": [
      "C\n",
      "B\n"
     ]
    }
   ],
   "source": [
    "class PriorityQueue:\n",
    "    def __init__(self):\n",
    "        self.heap = []\n",
    "\n",
    "    def push(self, item, priority):\n",
    "        self.heap.append((item, priority))\n",
    "        self._heapify_up(len(self.heap) - 1)\n",
    "\n",
    "    def pop(self):\n",
    "        if not self.heap:\n",
    "            return None\n",
    "\n",
    "        if len(self.heap) == 1:\n",
    "            return self.heap.pop()[0]\n",
    "\n",
    "        top_item = self.heap[0]\n",
    "        self.heap[0] = self.heap.pop()\n",
    "        self._heapify_down(0)\n",
    "        return top_item[0]\n",
    "\n",
    "    def _heapify_up(self, index):\n",
    "        while index > 0:\n",
    "            parent_index = (index - 1) // 2\n",
    "            if self.heap[index][1] < self.heap[parent_index][1]:\n",
    "                self.heap[index], self.heap[parent_index] = self.heap[parent_index], self.heap[index]\n",
    "                index = parent_index\n",
    "            else:\n",
    "                break\n",
    "\n",
    "    def _heapify_down(self, index):\n",
    "        left_child_index = 2 * index + 1\n",
    "        right_child_index = 2 * index + 2\n",
    "        smallest = index\n",
    "\n",
    "        if (\n",
    "            left_child_index < len(self.heap)\n",
    "            and self.heap[left_child_index][1] < self.heap[smallest][1]\n",
    "        ):\n",
    "            smallest = left_child_index\n",
    "\n",
    "        if (\n",
    "            right_child_index < len(self.heap)\n",
    "            and self.heap[right_child_index][1] < self.heap[smallest][1]\n",
    "        ):\n",
    "            smallest = right_child_index\n",
    "\n",
    "        if smallest != index:\n",
    "            self.heap[index], self.heap[smallest] = self.heap[smallest], self.heap[index]\n",
    "            self._heapify_down(smallest)\n",
    "\n",
    "# Example usage\n",
    "pq = PriorityQueue()\n",
    "pq.push(\"A\", 3)\n",
    "pq.push(\"B\", 2)\n",
    "pq.push(\"C\", 1)\n",
    "print(pq.pop())  # Output: \"C\"\n",
    "print(pq.pop())  # Output: \"B\""
   ]
  }
 ],
 "metadata": {
  "kernelspec": {
   "display_name": "Python 3 (ipykernel)",
   "language": "python",
   "name": "python3"
  },
  "language_info": {
   "codemirror_mode": {
    "name": "ipython",
    "version": 3
   },
   "file_extension": ".py",
   "mimetype": "text/x-python",
   "name": "python",
   "nbconvert_exporter": "python",
   "pygments_lexer": "ipython3",
   "version": "3.9.13"
  },
  "toc": {
   "base_numbering": 1,
   "nav_menu": {},
   "number_sections": true,
   "sideBar": true,
   "skip_h1_title": false,
   "title_cell": "Table of Contents",
   "title_sidebar": "Contents",
   "toc_cell": false,
   "toc_position": {},
   "toc_section_display": true,
   "toc_window_display": false
  }
 },
 "nbformat": 4,
 "nbformat_minor": 5
}
