{
 "cells": [
  {
   "cell_type": "markdown",
   "id": "dbee02f3",
   "metadata": {},
   "source": [
    "# User-Defined Functions (Advanced)"
   ]
  },
  {
   "cell_type": "markdown",
   "id": "ca9ffa6b",
   "metadata": {},
   "source": [
    "Question: Create a function that calculates the sum of all even numbers in a list."
   ]
  },
  {
   "cell_type": "code",
   "execution_count": 1,
   "id": "9ec72bf5",
   "metadata": {},
   "outputs": [
    {
     "data": {
      "text/plain": [
       "20"
      ]
     },
     "execution_count": 1,
     "metadata": {},
     "output_type": "execute_result"
    }
   ],
   "source": [
    "def sum_even_numbers(numbers):\n",
    "    return sum([num for num in numbers if num % 2 == 0])\n",
    "sum_even_numbers([1,2,3,4,5,6,7,8])"
   ]
  },
  {
   "cell_type": "markdown",
   "id": "6cc7fe78",
   "metadata": {},
   "source": [
    "Question: Create a function that finds and returns the mode (most frequently occurring element) in a list."
   ]
  },
  {
   "cell_type": "code",
   "execution_count": 3,
   "id": "00bc61e4",
   "metadata": {},
   "outputs": [
    {
     "data": {
      "text/plain": [
       "[2, 3]"
      ]
     },
     "execution_count": 3,
     "metadata": {},
     "output_type": "execute_result"
    }
   ],
   "source": [
    "def find_mode(numbers):\n",
    "    from collections import Counter\n",
    "    count = Counter(numbers)\n",
    "    max_count = max(count.values())\n",
    "    mode = [num for num, freq in count.items() if freq == max_count]\n",
    "    return mode\n",
    "find_mode([1,2,3,4,5,5,5,6,7,3,2,1,2,3,4,2,3,3,2])"
   ]
  },
  {
   "cell_type": "markdown",
   "id": "49d2753d",
   "metadata": {},
   "source": [
    "Question: Create a function that sorts a list of strings in alphabetical order, ignoring case."
   ]
  },
  {
   "cell_type": "code",
   "execution_count": 4,
   "id": "c004da39",
   "metadata": {},
   "outputs": [
    {
     "data": {
      "text/plain": [
       "[' ', 'a', 'a', 'a', 'a', 'b', 'h', 'h', 'i', 'k', 'r', 'r', 's', 't', 'y']"
      ]
     },
     "execution_count": 4,
     "metadata": {},
     "output_type": "execute_result"
    }
   ],
   "source": [
    "def case_insensitive_sort(strings):\n",
    "    return sorted(strings, key=lambda s: s.lower())\n",
    "case_insensitive_sort(\"arash bakhtiary\")"
   ]
  },
  {
   "cell_type": "markdown",
   "id": "0ac094bd",
   "metadata": {},
   "source": [
    "Question: Write a function that generates the nth prime number."
   ]
  },
  {
   "cell_type": "code",
   "execution_count": 5,
   "id": "de74b6e2",
   "metadata": {},
   "outputs": [
    {
     "data": {
      "text/plain": [
       "11"
      ]
     },
     "execution_count": 5,
     "metadata": {},
     "output_type": "execute_result"
    }
   ],
   "source": [
    "def nth_prime(n):\n",
    "    primes = [2]\n",
    "    num = 3\n",
    "    while len(primes) < n:\n",
    "        if all(num % prime != 0 for prime in primes):\n",
    "            primes.append(num)\n",
    "        num += 2\n",
    "    return primes[-1]\n",
    "nth_prime(5)"
   ]
  },
  {
   "cell_type": "markdown",
   "id": "859796a4",
   "metadata": {},
   "source": [
    "Question: Create a function that returns the reverse of a given string without using string slicing."
   ]
  },
  {
   "cell_type": "code",
   "execution_count": 6,
   "id": "f92c809e",
   "metadata": {},
   "outputs": [
    {
     "data": {
      "text/plain": [
       "'hsara'"
      ]
     },
     "execution_count": 6,
     "metadata": {},
     "output_type": "execute_result"
    }
   ],
   "source": [
    "def reverse_string(s):\n",
    "    return ''.join(s[i] for i in range(len(s) - 1, -1, -1))\n",
    "reverse_string(\"arash\")"
   ]
  },
  {
   "cell_type": "markdown",
   "id": "e4c7155b",
   "metadata": {},
   "source": [
    "Question: Write a function that finds the longest common prefix among an array of strings."
   ]
  },
  {
   "cell_type": "code",
   "execution_count": 27,
   "id": "7d3a2495",
   "metadata": {},
   "outputs": [
    {
     "name": "stdout",
     "output_type": "stream",
     "text": [
      "hello\n",
      "h\n"
     ]
    }
   ],
   "source": [
    "def longest_common_prefix(strings):\n",
    "    if not strings:\n",
    "        return \"\"\n",
    "    prefix = strings[0]\n",
    "    for string in strings[1:]:\n",
    "        while string.find(prefix) != 0:\n",
    "            prefix = prefix[:-1]\n",
    "    return prefix\n",
    "print(longest_common_prefix([\"hello how are you\" , \"hello\" , \"hello\"]))\n",
    "print (longest_common_prefix([\"hello how are you\" , \"how\" , \"how\"]))"
   ]
  },
  {
   "cell_type": "markdown",
   "id": "f3c2745a",
   "metadata": {},
   "source": [
    "Question: Create a function that computes the power of a number using exponentiation by squaring."
   ]
  },
  {
   "cell_type": "code",
   "execution_count": 28,
   "id": "4eff352f",
   "metadata": {},
   "outputs": [
    {
     "data": {
      "text/plain": [
       "8"
      ]
     },
     "execution_count": 28,
     "metadata": {},
     "output_type": "execute_result"
    }
   ],
   "source": [
    "def power(base, exponent):\n",
    "    if exponent == 0:\n",
    "        return 1\n",
    "    if exponent % 2 == 0:\n",
    "        half_power = power(base, exponent // 2)\n",
    "        return half_power * half_power\n",
    "    else:\n",
    "        return base * power(base, exponent - 1)\n",
    "power(2, 3)"
   ]
  },
  {
   "cell_type": "markdown",
   "id": "01cc06a4",
   "metadata": {},
   "source": [
    "Question: Create a function that checks if a string is an anagram of another string (e.g., \"listen\" and \"silent\" are anagrams)."
   ]
  },
  {
   "cell_type": "code",
   "execution_count": 29,
   "id": "89d11acc",
   "metadata": {},
   "outputs": [
    {
     "data": {
      "text/plain": [
       "True"
      ]
     },
     "execution_count": 29,
     "metadata": {},
     "output_type": "execute_result"
    }
   ],
   "source": [
    "def are_anagrams(str1, str2):\n",
    "    return sorted(str1) == sorted(str2)\n",
    "are_anagrams(\"arash\", \"shara\")"
   ]
  },
  {
   "cell_type": "markdown",
   "id": "e4c106f0",
   "metadata": {},
   "source": [
    "Question: Write a function that calculates the area of a polygon given its vertices as a list of coordinates."
   ]
  },
  {
   "cell_type": "code",
   "execution_count": 35,
   "id": "5fb8079a",
   "metadata": {},
   "outputs": [
    {
     "data": {
      "text/plain": [
       "5.0"
      ]
     },
     "execution_count": 35,
     "metadata": {},
     "output_type": "execute_result"
    }
   ],
   "source": [
    "def polygon_area(vertices):\n",
    "    n = len(vertices)\n",
    "    area = 0.0\n",
    "    for i in range(n):\n",
    "        x1, y1 = vertices[i]\n",
    "        x2, y2 = vertices[(i + 1) % n]\n",
    "        area += (x1 * y2 - x2 * y1)\n",
    "    return abs(area) / 2.0\n",
    "polygon_area([(1,8),(6,4),(5,6),(3,8)])"
   ]
  },
  {
   "cell_type": "markdown",
   "id": "88a37d90",
   "metadata": {},
   "source": [
    "Question: Write a function that computes the n-th term of the Fibonacci sequence using matrix exponentiation for optimization."
   ]
  },
  {
   "cell_type": "code",
   "execution_count": 36,
   "id": "191aa1a8",
   "metadata": {},
   "outputs": [
    {
     "data": {
      "text/plain": [
       "2"
      ]
     },
     "execution_count": 36,
     "metadata": {},
     "output_type": "execute_result"
    }
   ],
   "source": [
    "import numpy as np\n",
    "\n",
    "def fibonacci(n):\n",
    "    if n == 0:\n",
    "        return 0\n",
    "    F = np.array([[1, 1], [1, 0]], dtype=object)\n",
    "    return np.linalg.matrix_power(F, n - 1)[0, 0]\n",
    "fibonacci(3)"
   ]
  },
  {
   "cell_type": "markdown",
   "id": "08d5581a",
   "metadata": {},
   "source": [
    "Question: Write a function that generates a list of all prime numbers within a given range."
   ]
  },
  {
   "cell_type": "code",
   "execution_count": 37,
   "id": "85e349b5",
   "metadata": {},
   "outputs": [
    {
     "data": {
      "text/plain": [
       "[3, 4, 5, 7]"
      ]
     },
     "execution_count": 37,
     "metadata": {},
     "output_type": "execute_result"
    }
   ],
   "source": [
    "def primes_in_range(start, end):\n",
    "    primes = []\n",
    "    for num in range(max(2, start), end + 1):\n",
    "        if all(num % prime != 0 for prime in primes):\n",
    "            primes.append(num)\n",
    "    return primes\n",
    "primes_in_range (3, 7)"
   ]
  }
 ],
 "metadata": {
  "kernelspec": {
   "display_name": "Python 3 (ipykernel)",
   "language": "python",
   "name": "python3"
  },
  "language_info": {
   "codemirror_mode": {
    "name": "ipython",
    "version": 3
   },
   "file_extension": ".py",
   "mimetype": "text/x-python",
   "name": "python",
   "nbconvert_exporter": "python",
   "pygments_lexer": "ipython3",
   "version": "3.9.13"
  },
  "toc": {
   "base_numbering": 1,
   "nav_menu": {},
   "number_sections": true,
   "sideBar": true,
   "skip_h1_title": false,
   "title_cell": "Table of Contents",
   "title_sidebar": "Contents",
   "toc_cell": false,
   "toc_position": {},
   "toc_section_display": true,
   "toc_window_display": false
  }
 },
 "nbformat": 4,
 "nbformat_minor": 5
}
