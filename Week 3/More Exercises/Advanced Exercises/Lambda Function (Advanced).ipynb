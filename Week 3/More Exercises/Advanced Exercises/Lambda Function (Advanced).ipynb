{
 "cells": [
  {
   "cell_type": "markdown",
   "id": "dbee02f3",
   "metadata": {},
   "source": [
    "# Lambda Function (Advanced)"
   ]
  },
  {
   "cell_type": "markdown",
   "id": "ca9ffa6b",
   "metadata": {},
   "source": [
    "Question: You have a list of dictionaries containing student information (name, age, and grade). Use lambda functions to sort the list first by grade (in descending order) and then by name (in ascending order)."
   ]
  },
  {
   "cell_type": "code",
   "execution_count": 1,
   "id": "a48f26ab",
   "metadata": {},
   "outputs": [
    {
     "data": {
      "text/plain": [
       "[{'name': 'Charlie', 'age': 19, 'grade': 95},\n",
       " {'name': 'Alice', 'age': 18, 'grade': 90},\n",
       " {'name': 'Bob', 'age': 17, 'grade': 85}]"
      ]
     },
     "execution_count": 1,
     "metadata": {},
     "output_type": "execute_result"
    }
   ],
   "source": [
    "students = [\n",
    "    {'name': 'Alice', 'age': 18, 'grade': 90},\n",
    "    {'name': 'Bob', 'age': 17, 'grade': 85},\n",
    "    {'name': 'Charlie', 'age': 19, 'grade': 95}\n",
    "]\n",
    "\n",
    "sorted_students = sorted(students, key=lambda x: (-x['grade'], x['name']))\n",
    "sorted_students"
   ]
  },
  {
   "cell_type": "markdown",
   "id": "9da6d4bd",
   "metadata": {},
   "source": [
    "Question: You have a list of file names. Use a lambda function with filter() to extract all the .txt files from the list."
   ]
  },
  {
   "cell_type": "code",
   "execution_count": 2,
   "id": "8ba7d3c4",
   "metadata": {},
   "outputs": [
    {
     "data": {
      "text/plain": [
       "['report.txt', 'notes.txt']"
      ]
     },
     "execution_count": 2,
     "metadata": {},
     "output_type": "execute_result"
    }
   ],
   "source": [
    "file_names = ['document.pdf', 'report.txt', 'data.csv', 'notes.txt']\n",
    "\n",
    "txt_files = list(filter(lambda x: x.endswith('.txt'), file_names))\n",
    "txt_files"
   ]
  },
  {
   "cell_type": "markdown",
   "id": "472f622e",
   "metadata": {},
   "source": [
    "Question: Create a lambda function that takes two numbers and an operator ('+', '-', '*', '/') as arguments and performs the corresponding mathematical operation."
   ]
  },
  {
   "cell_type": "code",
   "execution_count": 3,
   "id": "166df99d",
   "metadata": {},
   "outputs": [
    {
     "data": {
      "text/plain": [
       "15"
      ]
     },
     "execution_count": 3,
     "metadata": {},
     "output_type": "execute_result"
    }
   ],
   "source": [
    "calculator = lambda x, y, operator: x + y if operator == '+' else x - y if operator == '-' else x * y if operator == '*' else x / y if operator == '/' else 'Invalid operator'\n",
    "\n",
    "result = calculator(10, 5, '+')  # Should return 15\n",
    "result"
   ]
  },
  {
   "cell_type": "markdown",
   "id": "bb168d42",
   "metadata": {},
   "source": [
    "Question: Implement a lambda function that checks if a given password is strong. A strong password should contain at least one uppercase letter, one lowercase letter, one digit, and be at least eight characters long."
   ]
  },
  {
   "cell_type": "code",
   "execution_count": 4,
   "id": "4a8c669e",
   "metadata": {},
   "outputs": [
    {
     "data": {
      "text/plain": [
       "True"
      ]
     },
     "execution_count": 4,
     "metadata": {},
     "output_type": "execute_result"
    }
   ],
   "source": [
    "is_strong_password = lambda password: any(c.isupper() for c in password) and any(c.islower() for c in password) and any(c.isdigit() for c in password) and len(password) >= 8\n",
    "\n",
    "result = is_strong_password('Passw0rd')  # Should return True\n",
    "result"
   ]
  },
  {
   "cell_type": "markdown",
   "id": "358811fb",
   "metadata": {},
   "source": [
    "Question: Write a lambda function that accepts a string and returns the same string with spaces replaced by hyphens and all letters converted to uppercase."
   ]
  },
  {
   "cell_type": "code",
   "execution_count": 5,
   "id": "e6bc75c6",
   "metadata": {},
   "outputs": [
    {
     "data": {
      "text/plain": [
       "'HELLO-WORLD'"
      ]
     },
     "execution_count": 5,
     "metadata": {},
     "output_type": "execute_result"
    }
   ],
   "source": [
    "transform_string = lambda s: s.replace(' ', '-').upper()\n",
    "\n",
    "result = transform_string('Hello World')  # Should return 'HELLO-WORLD'\n",
    "result"
   ]
  },
  {
   "cell_type": "markdown",
   "id": "be5b539e",
   "metadata": {},
   "source": [
    "Question: Generate the first 10 Fibonacci numbers using a lambda function and reduce() from the functools module."
   ]
  },
  {
   "cell_type": "code",
   "execution_count": 6,
   "id": "2d256e20",
   "metadata": {},
   "outputs": [
    {
     "data": {
      "text/plain": [
       "[0, 1, 1, 2, 3, 5, 8, 13, 21, 34]"
      ]
     },
     "execution_count": 6,
     "metadata": {},
     "output_type": "execute_result"
    }
   ],
   "source": [
    "from functools import reduce\n",
    "fibonacci = lambda n: reduce(lambda x, _: x + [x[-1] + x[-2]], range(n - 2), [0, 1])\n",
    "result = fibonacci(10)\n",
    "result"
   ]
  },
  {
   "cell_type": "markdown",
   "id": "132f6ad7",
   "metadata": {},
   "source": [
    "Question: Calculate the factorial of a number using a lambda function and reduce()."
   ]
  },
  {
   "cell_type": "code",
   "execution_count": 7,
   "id": "0365f717",
   "metadata": {},
   "outputs": [
    {
     "data": {
      "text/plain": [
       "120"
      ]
     },
     "execution_count": 7,
     "metadata": {},
     "output_type": "execute_result"
    }
   ],
   "source": [
    "from functools import reduce\n",
    "factorial = lambda n: reduce(lambda x, y: x * y, range(1, n + 1))\n",
    "result = factorial(5) \n",
    "result"
   ]
  },
  {
   "cell_type": "markdown",
   "id": "2b2cd6bb",
   "metadata": {},
   "source": [
    "Question: Find the word with the maximum length in a list using a lambda function with max()."
   ]
  },
  {
   "cell_type": "code",
   "execution_count": 8,
   "id": "cdf7d706",
   "metadata": {},
   "outputs": [
    {
     "data": {
      "text/plain": [
       "'elderberry'"
      ]
     },
     "execution_count": 8,
     "metadata": {},
     "output_type": "execute_result"
    }
   ],
   "source": [
    "words = ['apple', 'banana', 'cherry', 'date', 'elderberry']\n",
    "max_length_word = max(words, key=lambda x: len(x))\n",
    "max_length_word"
   ]
  },
  {
   "cell_type": "markdown",
   "id": "18709fa3",
   "metadata": {},
   "source": [
    "Question: Remove duplicates from a list while preserving the original order using a lambda function."
   ]
  },
  {
   "cell_type": "code",
   "execution_count": 9,
   "id": "adbea8b6",
   "metadata": {},
   "outputs": [
    {
     "data": {
      "text/plain": [
       "[1, 2, 3, 4, 5]"
      ]
     },
     "execution_count": 9,
     "metadata": {},
     "output_type": "execute_result"
    }
   ],
   "source": [
    "numbers = [1, 2, 2, 3, 4, 4, 5]\n",
    "unique_numbers = list(dict.fromkeys(numbers))\n",
    "unique_numbers"
   ]
  },
  {
   "cell_type": "markdown",
   "id": "d5e6e17c",
   "metadata": {},
   "source": [
    "Question: Calculate the sum of squares of all even numbers in a list using a lambda function with reduce()."
   ]
  },
  {
   "cell_type": "code",
   "execution_count": 10,
   "id": "94df69f5",
   "metadata": {},
   "outputs": [
    {
     "data": {
      "text/plain": [
       "56"
      ]
     },
     "execution_count": 10,
     "metadata": {},
     "output_type": "execute_result"
    }
   ],
   "source": [
    "from functools import reduce\n",
    "numbers = [1, 2, 3, 4, 5, 6]\n",
    "sum_of_squares = reduce(lambda x, y: x + y**2, filter(lambda x: x % 2 == 0, numbers), 0)\n",
    "sum_of_squares"
   ]
  },
  {
   "cell_type": "markdown",
   "id": "6a893f36",
   "metadata": {},
   "source": [
    "Question: Capitalize the first letter of each word in a sentence using a lambda function."
   ]
  },
  {
   "cell_type": "code",
   "execution_count": 11,
   "id": "c205c1bb",
   "metadata": {},
   "outputs": [
    {
     "data": {
      "text/plain": [
       "'This Is A Sample Sentence.'"
      ]
     },
     "execution_count": 11,
     "metadata": {},
     "output_type": "execute_result"
    }
   ],
   "source": [
    "sentence = 'this is a sample sentence.'\n",
    "capitalized_sentence = ' '.join(map(lambda x: x.capitalize(), sentence.split()))\n",
    "capitalized_sentence"
   ]
  },
  {
   "cell_type": "markdown",
   "id": "a3af5804",
   "metadata": {},
   "source": [
    "Question: Given a list of names, extract the initials of each name using a lambda function."
   ]
  },
  {
   "cell_type": "code",
   "execution_count": 12,
   "id": "47fdfc7b",
   "metadata": {},
   "outputs": [
    {
     "data": {
      "text/plain": [
       "['JD', 'AS', 'BJ']"
      ]
     },
     "execution_count": 12,
     "metadata": {},
     "output_type": "execute_result"
    }
   ],
   "source": [
    "names = ['John Doe', 'Alice Smith', 'Bob Johnson']\n",
    "initials = list(map(lambda x: ''.join(word[0] for word in x.split()), names))\n",
    "initials"
   ]
  },
  {
   "cell_type": "markdown",
   "id": "1ed0c73a",
   "metadata": {},
   "source": [
    "Question: Sort a list of words based on a custom order using a lambda function with sorted()."
   ]
  },
  {
   "cell_type": "code",
   "execution_count": 13,
   "id": "a9474377",
   "metadata": {},
   "outputs": [
    {
     "data": {
      "text/plain": [
       "['apple', 'banana', 'cherry', 'date', 'elderberry']"
      ]
     },
     "execution_count": 13,
     "metadata": {},
     "output_type": "execute_result"
    }
   ],
   "source": [
    "words = ['banana', 'cherry', 'apple', 'date', 'elderberry']\n",
    "custom_order = {'apple': 0, 'banana': 1, 'cherry': 2, 'date': 3, 'elderberry': 4}\n",
    "custom_sorted_words = sorted(words, key=lambda x: custom_order.get(x, float('inf')))\n",
    "custom_sorted_words"
   ]
  },
  {
   "cell_type": "markdown",
   "id": "6fd2682c",
   "metadata": {},
   "source": [
    "Question: Filter out words shorter than a given length from a list of words using a lambda function."
   ]
  },
  {
   "cell_type": "code",
   "execution_count": 14,
   "id": "3ef9e5e5",
   "metadata": {},
   "outputs": [
    {
     "data": {
      "text/plain": [
       "['banana', 'cherry', 'elderberry']"
      ]
     },
     "execution_count": 14,
     "metadata": {},
     "output_type": "execute_result"
    }
   ],
   "source": [
    "words = ['apple', 'banana', 'cherry', 'date', 'elderberry']\n",
    "min_length = 6\n",
    "long_words = list(filter(lambda x: len(x) >= min_length, words))\n",
    "long_words"
   ]
  },
  {
   "cell_type": "markdown",
   "id": "3d98660f",
   "metadata": {},
   "source": [
    "Question: Count the frequency of each character in a string using a lambda function and collections.Counter."
   ]
  },
  {
   "cell_type": "code",
   "execution_count": 16,
   "id": "8e0bc4bc",
   "metadata": {},
   "outputs": [
    {
     "data": {
      "text/plain": [
       "Counter({'h': 1, 'e': 1, 'l': 3, 'o': 2, 'w': 1, 'r': 1, 'd': 1})"
      ]
     },
     "execution_count": 16,
     "metadata": {},
     "output_type": "execute_result"
    }
   ],
   "source": [
    "from collections import Counter\n",
    "text = 'hello world'\n",
    "char_frequency = Counter(filter(lambda x: x.isalpha(), text))\n",
    "char_frequency"
   ]
  },
  {
   "cell_type": "markdown",
   "id": "9f2daff9",
   "metadata": {},
   "source": [
    "Question: Remove all whitespace characters from a string using a lambda function."
   ]
  },
  {
   "cell_type": "code",
   "execution_count": 18,
   "id": "64ba8bb7",
   "metadata": {},
   "outputs": [
    {
     "data": {
      "text/plain": [
       "'Thisisasentencewithspaces.'"
      ]
     },
     "execution_count": 18,
     "metadata": {},
     "output_type": "execute_result"
    }
   ],
   "source": [
    "sentence = '  This is a sentence with   spaces.  '\n",
    "no_whitespace = ''.join(filter(lambda x: not x.isspace(), sentence))\n",
    "no_whitespace"
   ]
  }
 ],
 "metadata": {
  "kernelspec": {
   "display_name": "Python 3 (ipykernel)",
   "language": "python",
   "name": "python3"
  },
  "language_info": {
   "codemirror_mode": {
    "name": "ipython",
    "version": 3
   },
   "file_extension": ".py",
   "mimetype": "text/x-python",
   "name": "python",
   "nbconvert_exporter": "python",
   "pygments_lexer": "ipython3",
   "version": "3.9.13"
  },
  "toc": {
   "base_numbering": 1,
   "nav_menu": {},
   "number_sections": true,
   "sideBar": true,
   "skip_h1_title": false,
   "title_cell": "Table of Contents",
   "title_sidebar": "Contents",
   "toc_cell": false,
   "toc_position": {},
   "toc_section_display": true,
   "toc_window_display": false
  }
 },
 "nbformat": 4,
 "nbformat_minor": 5
}
