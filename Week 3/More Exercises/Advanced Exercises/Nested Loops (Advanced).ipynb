{
 "cells": [
  {
   "cell_type": "markdown",
   "id": "dbee02f3",
   "metadata": {},
   "source": [
    "# Nested Loops (Advanced)"
   ]
  },
  {
   "cell_type": "markdown",
   "id": "ca9ffa6b",
   "metadata": {},
   "source": [
    "Question: Write a Python program to implement a tic-tac-toe game using nested loops."
   ]
  },
  {
   "cell_type": "code",
   "execution_count": 2,
   "id": "e542d2e4",
   "metadata": {},
   "outputs": [
    {
     "name": "stdout",
     "output_type": "stream",
     "text": [
      "  |   |  \n",
      "---------\n",
      "  |   |  \n",
      "---------\n",
      "  |   |  \n",
      "---------\n",
      "Player X, enter your move (row and column): 1 3\n",
      "Invalid move. Try again.\n",
      "  |   |  \n",
      "---------\n",
      "  |   |  \n",
      "---------\n",
      "  |   |  \n",
      "---------\n",
      "Player X, enter your move (row and column): 1 1\n",
      "  |   |  \n",
      "---------\n",
      "  | X |  \n",
      "---------\n",
      "  |   |  \n",
      "---------\n",
      "Player O, enter your move (row and column): 1 0\n",
      "  |   |  \n",
      "---------\n",
      "O | X |  \n",
      "---------\n",
      "  |   |  \n",
      "---------\n",
      "Player X, enter your move (row and column): 2 1\n",
      "  |   |  \n",
      "---------\n",
      "O | X |  \n",
      "---------\n",
      "  | X |  \n",
      "---------\n",
      "Player O, enter your move (row and column): 1 2\n",
      "  |   |  \n",
      "---------\n",
      "O | X | O\n",
      "---------\n",
      "  | X |  \n",
      "---------\n",
      "Player X, enter your move (row and column): 0 1\n",
      "  | X |  \n",
      "---------\n",
      "O | X | O\n",
      "---------\n",
      "  | X |  \n",
      "---------\n",
      "Player X wins!\n"
     ]
    }
   ],
   "source": [
    "def print_board(board):\n",
    "    for row in board:\n",
    "        print(' | '.join(row))\n",
    "        print('-' * 9)\n",
    "\n",
    "def check_winner(board):\n",
    "    for row in board:\n",
    "        if row.count(row[0]) == len(row) and row[0] != ' ':\n",
    "            return True\n",
    "    for col in range(len(board)):\n",
    "        check = []\n",
    "        for row in board:\n",
    "            check.append(row[col])\n",
    "        if check.count(check[0]) == len(check) and check[0] != ' ':\n",
    "            return True\n",
    "    if board[0][0] == board[1][1] == board[2][2] != ' ':\n",
    "        return True\n",
    "    if board[0][2] == board[1][1] == board[2][0] != ' ':\n",
    "        return True\n",
    "    return False\n",
    "\n",
    "def tic_tac_toe():\n",
    "    board = [[' ' for _ in range(3)] for _ in range(3)]\n",
    "    player = 'X'\n",
    "    moves = 0\n",
    "    while True:\n",
    "        print_board(board)\n",
    "        row, col = map(int, input(f\"Player {player}, enter your move (row and column): \").split())\n",
    "        if row < 0 or row > 2 or col < 0 or col > 2 or board[row][col] != ' ':\n",
    "            print(\"Invalid move. Try again.\")\n",
    "            continue\n",
    "        board[row][col] = player\n",
    "        moves += 1\n",
    "        if moves >= 5 and check_winner(board):\n",
    "            print_board(board)\n",
    "            print(f\"Player {player} wins!\")\n",
    "            break\n",
    "        if moves == 9:\n",
    "            print_board(board)\n",
    "            print(\"It's a draw!\")\n",
    "            break\n",
    "        player = 'O' if player == 'X' else 'X'\n",
    "\n",
    "tic_tac_toe()"
   ]
  },
  {
   "cell_type": "markdown",
   "id": "8ee9f856",
   "metadata": {},
   "source": [
    "Question: Write a Python program to print all Armstrong numbers in a given range."
   ]
  },
  {
   "cell_type": "code",
   "execution_count": 4,
   "id": "f9d41934",
   "metadata": {},
   "outputs": [
    {
     "name": "stdout",
     "output_type": "stream",
     "text": [
      "[153, 370, 371, 407]\n"
     ]
    }
   ],
   "source": [
    "start = 100\n",
    "end = 1000\n",
    "armstrong_numbers = []\n",
    "for num in range(start, end + 1):\n",
    "    order = len(str(num))\n",
    "    sum_of_powers = sum(int(digit) ** order for digit in str(num))\n",
    "    if num == sum_of_powers:\n",
    "        armstrong_numbers.append(num)\n",
    "print(armstrong_numbers)"
   ]
  },
  {
   "cell_type": "markdown",
   "id": "24ee005d",
   "metadata": {},
   "source": [
    "Question: Write a Python program to print a pattern of numbers in a pyramid shape."
   ]
  },
  {
   "cell_type": "code",
   "execution_count": 5,
   "id": "f4b6c67e",
   "metadata": {},
   "outputs": [
    {
     "name": "stdout",
     "output_type": "stream",
     "text": [
      "    1\n",
      "   212\n",
      "  32123\n",
      " 4321234\n",
      "543212345\n"
     ]
    }
   ],
   "source": [
    "n = 5\n",
    "for i in range(1, n + 1):\n",
    "    print(' ' * (n - i) + ''.join(str(j) for j in range(i, 0, -1)) + ''.join(str(j) for j in range(2, i + 1)))"
   ]
  },
  {
   "cell_type": "markdown",
   "id": "a6d0678a",
   "metadata": {},
   "source": [
    "Question: Write a Python program to generate and print all possible valid expressions formed by placing operators (+, -, *, /) between the digits 1 to 9."
   ]
  },
  {
   "cell_type": "code",
   "execution_count": null,
   "id": "c3e75134",
   "metadata": {},
   "outputs": [],
   "source": [
    "from itertools import permutations, product\n",
    "\n",
    "def evaluate_expression(expression):\n",
    "    try:\n",
    "        return eval(expression)\n",
    "    except ZeroDivisionError:\n",
    "        return None\n",
    "\n",
    "def generate_expressions(digits):\n",
    "    operators = ['+', '-', '*', '/']\n",
    "    valid_expressions = []\n",
    "    for perm_digits in permutations(digits):\n",
    "        for ops in product(operators, repeat=len(digits) - 1):\n",
    "            expression = ''.join([str(perm_digits[i]) + ops[i] for i in range(len(digits) - 1)]) + str(perm_digits[-1])\n",
    "            if evaluate_expression(expression) is not None:\n",
    "                valid_expressions.append(expression)\n",
    "    return valid_expressions\n",
    "\n",
    "digits = '123456789'\n",
    "expressions = generate_expressions(digits)\n",
    "print(expressions)"
   ]
  },
  {
   "cell_type": "markdown",
   "id": "5aa4767f",
   "metadata": {},
   "source": [
    "Question: Create a program to generate a magic square of odd order (e.g., 3x3, 5x5) using nested loops."
   ]
  },
  {
   "cell_type": "code",
   "execution_count": 1,
   "id": "a8195791",
   "metadata": {},
   "outputs": [
    {
     "name": "stdout",
     "output_type": "stream",
     "text": [
      "[8, 1, 6]\n",
      "[3, 5, 7]\n",
      "[4, 9, 2]\n"
     ]
    }
   ],
   "source": [
    "def generate_magic_square(n):\n",
    "    magic_square = [[0] * n for _ in range(n)]\n",
    "    num = 1\n",
    "    row, col = 0, n // 2\n",
    "    while num <= n * n:\n",
    "        magic_square[row][col] = num\n",
    "        num += 1\n",
    "        new_row, new_col = (row - 1) % n, (col + 1) % n\n",
    "        if magic_square[new_row][new_col]:\n",
    "            row = (row + 1) % n\n",
    "        else:\n",
    "            row, col = new_row, new_col\n",
    "    return magic_square\n",
    "\n",
    "order = 3\n",
    "magic_square = generate_magic_square(order)\n",
    "for row in magic_square:\n",
    "    print(row)"
   ]
  },
  {
   "cell_type": "markdown",
   "id": "ff49f1fc",
   "metadata": {},
   "source": [
    "Question: Write a Python program to find and print all the common elements between three lists."
   ]
  },
  {
   "cell_type": "code",
   "execution_count": 1,
   "id": "2898728f",
   "metadata": {},
   "outputs": [
    {
     "name": "stdout",
     "output_type": "stream",
     "text": [
      "[5]\n"
     ]
    }
   ],
   "source": [
    "list1 = [1, 2, 3, 4, 5]\n",
    "list2 = [3, 4, 5, 6, 7]\n",
    "list3 = [5, 6, 7, 8, 9]\n",
    "common_elements = [x for x in list1 if x in list2 and x in list3]\n",
    "print(common_elements)"
   ]
  },
  {
   "cell_type": "markdown",
   "id": "485fa2db",
   "metadata": {},
   "source": [
    "Question: Write a Python program to find and print all the pairs of prime numbers whose sum is also a prime number within a specified range."
   ]
  },
  {
   "cell_type": "code",
   "execution_count": 2,
   "id": "fe06458e",
   "metadata": {},
   "outputs": [
    {
     "name": "stdout",
     "output_type": "stream",
     "text": [
      "[(2, 3), (2, 5), (2, 11), (2, 17), (2, 29), (2, 41), (2, 59), (2, 71)]\n"
     ]
    }
   ],
   "source": [
    "def is_prime(num):\n",
    "    if num < 2:\n",
    "        return False\n",
    "    for i in range(2, int(num ** 0.5) + 1):\n",
    "        if num % i == 0:\n",
    "            return False\n",
    "    return True\n",
    "\n",
    "def prime_pairs_with_prime_sum(start, end):\n",
    "    prime_pairs = []\n",
    "    for num1 in range(start, end + 1):\n",
    "        if is_prime(num1):\n",
    "            for num2 in range(num1 + 1, end + 1):\n",
    "                if is_prime(num2):\n",
    "                    if is_prime(num1 + num2):\n",
    "                        prime_pairs.append((num1, num2))\n",
    "    return prime_pairs\n",
    "\n",
    "start_range, end_range = 1, 100\n",
    "result = prime_pairs_with_prime_sum(start_range, end_range)\n",
    "print(result)"
   ]
  }
 ],
 "metadata": {
  "kernelspec": {
   "display_name": "Python 3 (ipykernel)",
   "language": "python",
   "name": "python3"
  },
  "language_info": {
   "codemirror_mode": {
    "name": "ipython",
    "version": 3
   },
   "file_extension": ".py",
   "mimetype": "text/x-python",
   "name": "python",
   "nbconvert_exporter": "python",
   "pygments_lexer": "ipython3",
   "version": "3.9.13"
  },
  "toc": {
   "base_numbering": 1,
   "nav_menu": {},
   "number_sections": true,
   "sideBar": true,
   "skip_h1_title": false,
   "title_cell": "Table of Contents",
   "title_sidebar": "Contents",
   "toc_cell": false,
   "toc_position": {},
   "toc_section_display": true,
   "toc_window_display": false
  }
 },
 "nbformat": 4,
 "nbformat_minor": 5
}
