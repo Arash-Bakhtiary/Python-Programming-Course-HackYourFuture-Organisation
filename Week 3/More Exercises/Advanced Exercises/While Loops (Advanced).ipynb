{
 "cells": [
  {
   "cell_type": "markdown",
   "id": "dbee02f3",
   "metadata": {},
   "source": [
    "# While Loops (Advanced)"
   ]
  },
  {
   "cell_type": "markdown",
   "id": "ca9ffa6b",
   "metadata": {},
   "source": [
    "Question: Write a Python program to find the smallest positive integer that is evenly divisible by all numbers from 1 to N using a while loop."
   ]
  },
  {
   "cell_type": "code",
   "execution_count": 1,
   "id": "3b3c4d5c",
   "metadata": {},
   "outputs": [
    {
     "name": "stdout",
     "output_type": "stream",
     "text": [
      "Enter a number: 5\n",
      "Smallest divisible: 60\n"
     ]
    }
   ],
   "source": [
    "N = int(input(\"Enter a number: \"))\n",
    "num = N\n",
    "while True:\n",
    "    divisible = True\n",
    "    for i in range(1, N + 1):\n",
    "        if num % i != 0:\n",
    "            divisible = False\n",
    "            break\n",
    "    if divisible:\n",
    "        print(\"Smallest divisible:\", num)\n",
    "        break\n",
    "    num += N"
   ]
  },
  {
   "cell_type": "markdown",
   "id": "86fbbbfe",
   "metadata": {},
   "source": [
    "Question: Write a Python program to check if a given number is an Armstrong number using a while loop. "
   ]
  },
  {
   "cell_type": "code",
   "execution_count": 2,
   "id": "ada0734b",
   "metadata": {},
   "outputs": [
    {
     "name": "stdout",
     "output_type": "stream",
     "text": [
      "Enter a number: 5\n",
      "Armstrong number\n"
     ]
    }
   ],
   "source": [
    "num = int(input(\"Enter a number: \"))\n",
    "original_num = num\n",
    "num_of_digits = len(str(num))\n",
    "sum_of_digits_cubed = 0\n",
    "while num > 0:\n",
    "    digit = num % 10\n",
    "    sum_of_digits_cubed += digit ** num_of_digits\n",
    "    num //= 10\n",
    "if sum_of_digits_cubed == original_num:\n",
    "    print(\"Armstrong number\")\n",
    "else:\n",
    "    print(\"Not an Armstrong number\")"
   ]
  },
  {
   "cell_type": "markdown",
   "id": "e02bceb5",
   "metadata": {},
   "source": [
    "Question: Write a Python program to implement the Newton-Raphson method to find the square root of a given number using a while loop."
   ]
  },
  {
   "cell_type": "code",
   "execution_count": 3,
   "id": "ade528e3",
   "metadata": {},
   "outputs": [
    {
     "name": "stdout",
     "output_type": "stream",
     "text": [
      "Enter a number: 7\n",
      "Square root of 7.0 is approximately 2.645751\n"
     ]
    }
   ],
   "source": [
    "def newton_sqrt(num, epsilon=1e-6):\n",
    "    guess = num / 2\n",
    "    while abs(guess**2 - num) > epsilon:\n",
    "        guess = (guess + num / guess) / 2\n",
    "    return guess\n",
    "\n",
    "num = float(input(\"Enter a number: \"))\n",
    "sqrt = newton_sqrt(num)\n",
    "print(f\"Square root of {num} is approximately {sqrt:.6f}\")"
   ]
  },
  {
   "cell_type": "markdown",
   "id": "64eb8a1e",
   "metadata": {},
   "source": [
    "Question: Write a Python program that generates a random number and asks the user to guess it. Provide hints if the guess is too high or too low. Repeat until the user guesses correctly."
   ]
  },
  {
   "cell_type": "code",
   "execution_count": 4,
   "id": "3dacaa58",
   "metadata": {},
   "outputs": [
    {
     "name": "stdout",
     "output_type": "stream",
     "text": [
      "Guess a number between 1 and 100: 5\n",
      "Too low!\n",
      "Guess a number between 1 and 100: 60\n",
      "Too high!\n",
      "Guess a number between 1 and 100: 30\n",
      "Too low!\n",
      "Guess a number between 1 and 100: 50\n",
      "Too high!\n",
      "Guess a number between 1 and 100: 40\n",
      "Too high!\n",
      "Guess a number between 1 and 100: 35\n",
      "Too high!\n",
      "Guess a number between 1 and 100: 34\n",
      "Too high!\n",
      "Guess a number between 1 and 100: 32\n",
      "Congratulations, you guessed it!\n"
     ]
    }
   ],
   "source": [
    "import random\n",
    "\n",
    "target = random.randint(1, 100)\n",
    "guess = -1\n",
    "while guess != target:\n",
    "    guess = int(input(\"Guess a number between 1 and 100: \"))\n",
    "    if guess < target:\n",
    "        print(\"Too low!\")\n",
    "    elif guess > target:\n",
    "        print(\"Too high!\")\n",
    "print(\"Congratulations, you guessed it!\")"
   ]
  },
  {
   "cell_type": "markdown",
   "id": "d1c1f2ea",
   "metadata": {},
   "source": [
    "Question: Write a Python program that simulates a simple text-based game where the player has to make choices. Use a while loop to keep the game running until the player decides to quit."
   ]
  },
  {
   "cell_type": "code",
   "execution_count": 6,
   "id": "331d9a32",
   "metadata": {},
   "outputs": [
    {
     "name": "stdout",
     "output_type": "stream",
     "text": [
      "Welcome to the Adventure Game!\n",
      "Do you want to go left or right? (type 'quit' to exit): left\n",
      "You found a treasure chest!\n",
      "Welcome to the Adventure Game!\n",
      "Do you want to go left or right? (type 'quit' to exit): left\n",
      "You found a treasure chest!\n",
      "Welcome to the Adventure Game!\n",
      "Do you want to go left or right? (type 'quit' to exit): right\n",
      "Uh-oh, you fell into a pit!\n",
      "Welcome to the Adventure Game!\n",
      "Do you want to go left or right? (type 'quit' to exit): quit\n",
      "Thanks for playing!\n"
     ]
    }
   ],
   "source": [
    "while True:\n",
    "    print(\"Welcome to the Adventure Game!\")\n",
    "    choice = input(\"Do you want to go left or right? (type 'quit' to exit): \")\n",
    "    if choice == \"quit\":\n",
    "        print(\"Thanks for playing!\")\n",
    "        break\n",
    "    elif choice == \"left\":\n",
    "        print(\"You found a treasure chest!\")\n",
    "    elif choice == \"right\":\n",
    "        print(\"Uh-oh, you fell into a pit!\")\n",
    "    else:\n",
    "        print(\"Invalid choice, try again.\")"
   ]
  },
  {
   "cell_type": "markdown",
   "id": "99704de6",
   "metadata": {},
   "source": [
    "Question: Write a Python program that calculates the sum of digits of a given integer using a while loop.Python"
   ]
  },
  {
   "cell_type": "code",
   "execution_count": 7,
   "id": "6ccad827",
   "metadata": {},
   "outputs": [
    {
     "name": "stdout",
     "output_type": "stream",
     "text": [
      "Enter an integer: 12\n",
      "The sum of digits of 12 is 3\n"
     ]
    }
   ],
   "source": [
    "def sum_of_digits(num):\n",
    "    total = 0\n",
    "    while num > 0:\n",
    "        total += num % 10\n",
    "        num //= 10\n",
    "    return total\n",
    "\n",
    "num = int(input(\"Enter an integer: \"))\n",
    "print(f\"The sum of digits of {num} is {sum_of_digits(num)}\")"
   ]
  },
  {
   "cell_type": "markdown",
   "id": "0911d6aa",
   "metadata": {},
   "source": [
    "Question: Write a Python program that uses a while loop to print the first n prime numbers."
   ]
  },
  {
   "cell_type": "code",
   "execution_count": 8,
   "id": "0f83d699",
   "metadata": {},
   "outputs": [
    {
     "name": "stdout",
     "output_type": "stream",
     "text": [
      "Enter the number of prime numbers you want: 4\n",
      "Prime numbers: [2, 3, 5, 7]\n"
     ]
    }
   ],
   "source": [
    "def is_prime(num):\n",
    "    if num <= 1:\n",
    "        return False\n",
    "    for i in range(2, int(num ** 0.5) + 1):\n",
    "        if num % i == 0:\n",
    "            return False\n",
    "    return True\n",
    "\n",
    "def generate_primes(n):\n",
    "    primes = []\n",
    "    num = 2\n",
    "    while len(primes) < n:\n",
    "        if is_prime(num):\n",
    "            primes.append(num)\n",
    "        num += 1\n",
    "    return primes\n",
    "\n",
    "count = int(input(\"Enter the number of prime numbers you want: \"))\n",
    "prime_numbers = generate_primes(count)\n",
    "print(\"Prime numbers:\", prime_numbers)"
   ]
  },
  {
   "cell_type": "markdown",
   "id": "6710d179",
   "metadata": {},
   "source": [
    "Question: Write a Python program that uses a while loop to generate the first n even numbers and stores them in a list using list comprehension."
   ]
  },
  {
   "cell_type": "code",
   "execution_count": 1,
   "id": "e1154197",
   "metadata": {},
   "outputs": [
    {
     "name": "stdout",
     "output_type": "stream",
     "text": [
      "Enter the number of even numbers you want: 3\n",
      "Even numbers: [2, 4, 6]\n"
     ]
    }
   ],
   "source": [
    "def generate_even_numbers(n):\n",
    "    even_numbers = []\n",
    "    num = 2\n",
    "    while len(even_numbers) < n:\n",
    "        even_numbers.append(num)\n",
    "        num += 2\n",
    "    return even_numbers\n",
    "\n",
    "count = int(input(\"Enter the number of even numbers you want: \"))\n",
    "even_numbers = generate_even_numbers(count)\n",
    "print(\"Even numbers:\", even_numbers)"
   ]
  },
  {
   "cell_type": "markdown",
   "id": "25ea60a2",
   "metadata": {},
   "source": [
    "Question: Write a Python program that implements a basic shopping cart system. The program should present the user with a list of items and their prices. The user can select items to add to their cart along with the quantity. Use a while loop and list comprehension to manage the shopping cart and calculate the total cost. The loop should continue until the user chooses to check out."
   ]
  },
  {
   "cell_type": "code",
   "execution_count": 3,
   "id": "c07c26e1",
   "metadata": {},
   "outputs": [
    {
     "name": "stdout",
     "output_type": "stream",
     "text": [
      "Available items:\n",
      "1. Apple - $1.00\n",
      "2. Banana - $0.50\n",
      "3. Orange - $1.20\n",
      "4. Grapes - $2.50\n",
      "Enter the number of the item to add or 'checkout' to finish: checkout\n",
      "Shopping cart contents:\n",
      "Total cost: $0.00\n"
     ]
    }
   ],
   "source": [
    "items = [\n",
    "    {\"name\": \"Apple\", \"price\": 1.0},\n",
    "    {\"name\": \"Banana\", \"price\": 0.5},\n",
    "    {\"name\": \"Orange\", \"price\": 1.2},\n",
    "    {\"name\": \"Grapes\", \"price\": 2.5}\n",
    "]\n",
    "\n",
    "shopping_cart = []\n",
    "\n",
    "while True:\n",
    "    print(\"Available items:\")\n",
    "    for idx, item in enumerate(items, start=1):\n",
    "        print(f\"{idx}. {item['name']} - ${item['price']:.2f}\")\n",
    "    \n",
    "    choice = input(\"Enter the number of the item to add or 'checkout' to finish: \")\n",
    "    \n",
    "    if choice == \"checkout\":\n",
    "        break\n",
    "    elif choice.isdigit():\n",
    "        index = int(choice) - 1\n",
    "        if 0 <= index < len(items):\n",
    "            quantity = int(input(f\"Enter quantity of {items[index]['name']} to add: \"))\n",
    "            shopping_cart.append((items[index], quantity))\n",
    "        else:\n",
    "            print(\"Invalid item number. Try again.\")\n",
    "    else:\n",
    "        print(\"Invalid input. Try again.\")\n",
    "\n",
    "total_cost = sum(item['price'] * quantity for item, quantity in shopping_cart)\n",
    "print(\"Shopping cart contents:\")\n",
    "for item, quantity in shopping_cart:\n",
    "    print(f\"{item['name']} - {quantity} x ${item['price']:.2f}\")\n",
    "print(f\"Total cost: ${total_cost:.2f}\")"
   ]
  },
  {
   "cell_type": "markdown",
   "id": "093b9681",
   "metadata": {},
   "source": [
    "Question: Write a Python program that simulates a simple text-based RPG game. The game has multiple rooms, and the player can move between rooms using commands like \"north,\" \"south,\" \"east,\" and \"west.\" Use a  Python program that simulates a simple text-based RPG game. The game has multiple rooms, and the player canwhile loop and list comprehension to manage the game's state, including the current room, player's inventory, and available actions. The loop should continue until the player chooses to exit."
   ]
  },
  {
   "cell_type": "code",
   "execution_count": 4,
   "id": "f954cc8a",
   "metadata": {},
   "outputs": [
    {
     "name": "stdout",
     "output_type": "stream",
     "text": [
      "You are in a dimly lit room. There are doors to the north and east.\n",
      "Available directions: north, east\n",
      "Enter a direction to move or 'exit' to quit: north\n",
      "You are in a narrow hallway. There are doors to the south and east.\n",
      "Available directions: south, east\n",
      "Enter a direction to move or 'exit' to quit: exit\n"
     ]
    }
   ],
   "source": [
    "rooms = {\n",
    "    \"start\": {\n",
    "        \"description\": \"You are in a dimly lit room. There are doors to the north and east.\",\n",
    "        \"north\": \"hallway\",\n",
    "        \"east\": \"kitchen\"\n",
    "    },\n",
    "    \"hallway\": {\n",
    "        \"description\": \"You are in a narrow hallway. There are doors to the south and east.\",\n",
    "        \"south\": \"start\",\n",
    "        \"east\": \"bedroom\"\n",
    "    },\n",
    "    \"kitchen\": {\n",
    "        \"description\": \"You are in a cozy kitchen. There is a door to the west.\",\n",
    "        \"west\": \"start\",\n",
    "        \"action\": \"You find a delicious pie on the table!\"\n",
    "    },\n",
    "    \"bedroom\": {\n",
    "        \"description\": \"You are in a comfortable bedroom. There is a door to the west.\",\n",
    "        \"west\": \"hallway\",\n",
    "        \"action\": \"You find a treasure chest under the bed!\"\n",
    "    }\n",
    "}\n",
    "\n",
    "current_room = \"start\"\n",
    "inventory = []\n",
    "\n",
    "while True:\n",
    "    print(rooms[current_room][\"description\"])\n",
    "    if \"action\" in rooms[current_room]:\n",
    "        print(rooms[current_room][\"action\"])\n",
    "    \n",
    "    available_directions = [direction for direction in rooms[current_room] if direction != \"description\" and direction != \"action\"]\n",
    "    print(\"Available directions:\", \", \".join(available_directions))\n",
    "    \n",
    "    choice = input(\"Enter a direction to move or 'exit' to quit: \").lower()\n",
    "    \n",
    "    if choice == \"exit\":\n",
    "        break\n",
    "    elif choice in available_directions:\n",
    "        current_room = rooms[current_room][choice]\n",
    "    else:\n",
    "        print(\"Invalid choice. Try again.\")"
   ]
  },
  {
   "cell_type": "markdown",
   "id": "ad600a30",
   "metadata": {},
   "source": [
    "Question: Write a Python program that simulates a basic text-based adventure game. The game should have a map with different locations and challenges. The player can navigate through the locations using commands like \"go north,\" \"go south,\" \"go east,\" and \"go west.\" Each location may have items to collect and enemies to defeat. Use a combination of nested dictionaries, loops, and conditional statements to implement the game logic."
   ]
  },
  {
   "cell_type": "code",
   "execution_count": 5,
   "id": "6acec9b1",
   "metadata": {},
   "outputs": [
    {
     "name": "stdout",
     "output_type": "stream",
     "text": [
      "You find yourself in a dense forest. There are paths leading in all directions.\n",
      "Available paths: north, east, south\n",
      "Enter a path to take: north\n",
      "Your inventory is empty.\n",
      "Do you want to continue exploring? (yes/no): yes\n",
      "You stand by a serene river. There's a bridge leading west and a path going south.\n",
      "You find a water bottle.\n",
      "Do you want to pick it up? (yes/no): no\n",
      "Available paths: south, west\n",
      "Enter a path to take: south\n",
      "Your inventory is empty.\n",
      "Do you want to continue exploring? (yes/no): no\n",
      "Thanks for playing!\n"
     ]
    }
   ],
   "source": [
    "locations = {\n",
    "    \"start\": {\n",
    "        \"description\": \"You find yourself in a dense forest. There are paths leading in all directions.\",\n",
    "        \"paths\": {\n",
    "            \"north\": \"river\",\n",
    "            \"east\": \"cave\",\n",
    "            \"south\": \"village\"\n",
    "        }\n",
    "    },\n",
    "    \"river\": {\n",
    "        \"description\": \"You stand by a serene river. There's a bridge leading west and a path going south.\",\n",
    "        \"paths\": {\n",
    "            \"south\": \"start\",\n",
    "            \"west\": \"bridge\"\n",
    "        },\n",
    "        \"items\": [\"water bottle\"]\n",
    "    },\n",
    "    \"bridge\": {\n",
    "        \"description\": \"You're on a rickety bridge. You can go east to return to the river.\",\n",
    "        \"paths\": {\n",
    "            \"east\": \"river\"\n",
    "        }\n",
    "    },\n",
    "    \"cave\": {\n",
    "        \"description\": \"You enter a dark cave. There's a path leading east.\",\n",
    "        \"paths\": {\n",
    "            \"east\": \"start\"\n",
    "        },\n",
    "        \"items\": [\"torch\"]\n",
    "    },\n",
    "    \"village\": {\n",
    "        \"description\": \"You arrive in a peaceful village. There's a path leading north.\",\n",
    "        \"paths\": {\n",
    "            \"north\": \"start\"\n",
    "        },\n",
    "        \"items\": [\"coins\"],\n",
    "        \"npc\": \"vendor\"\n",
    "    }\n",
    "}\n",
    "\n",
    "inventory = []\n",
    "\n",
    "def show_inventory():\n",
    "    if inventory:\n",
    "        print(\"Inventory:\", \", \".join(inventory))\n",
    "    else:\n",
    "        print(\"Your inventory is empty.\")\n",
    "\n",
    "def enter_location(location):\n",
    "    print(locations[location][\"description\"])\n",
    "    \n",
    "    if \"items\" in locations[location]:\n",
    "        for item in locations[location][\"items\"]:\n",
    "            print(f\"You find a {item}.\")\n",
    "            action = input(\"Do you want to pick it up? (yes/no): \").lower()\n",
    "            if action == \"yes\":\n",
    "                inventory.append(item)\n",
    "                print(f\"You added {item} to your inventory.\")\n",
    "    \n",
    "    if \"npc\" in locations[location]:\n",
    "        if locations[location][\"npc\"] == \"vendor\":\n",
    "            print(\"You meet a friendly vendor.\")\n",
    "            action = input(\"Do you want to buy something? (yes/no): \").lower()\n",
    "            if action == \"yes\":\n",
    "                print(\"Vendor: We have potions and weapons for sale.\")\n",
    "    \n",
    "    available_directions = locations[location][\"paths\"]\n",
    "    print(\"Available paths:\", \", \".join(available_directions))\n",
    "    choice = input(\"Enter a path to take: \").lower()\n",
    "    \n",
    "    if choice in available_directions:\n",
    "        return available_directions[choice]\n",
    "    else:\n",
    "        print(\"Invalid choice. Try again.\")\n",
    "        return location\n",
    "\n",
    "current_location = \"start\"\n",
    "\n",
    "while True:\n",
    "    current_location = enter_location(current_location)\n",
    "    show_inventory()\n",
    "    action = input(\"Do you want to continue exploring? (yes/no): \").lower()\n",
    "    if action == \"no\":\n",
    "        print(\"Thanks for playing!\")\n",
    "        break\n"
   ]
  },
  {
   "cell_type": "markdown",
   "id": "2d121c56",
   "metadata": {},
   "source": [
    "Question: Write a Python program that simulates a basic bank account management system. The program should allow users to create new accounts, deposit and withdraw funds, and check their balance. Use a while loop and dictionaries to manage multiple user accounts and their details."
   ]
  },
  {
   "cell_type": "code",
   "execution_count": 6,
   "id": "a121129d",
   "metadata": {},
   "outputs": [
    {
     "name": "stdout",
     "output_type": "stream",
     "text": [
      "Bank Account Management System\n",
      "1. Create Account\n",
      "2. Deposit\n",
      "3. Withdraw\n",
      "4. Check Balance\n",
      "5. Exit\n",
      "Enter your choice: 1\n",
      "Enter account number: 3\n",
      "Enter account holder's name: Deposit\n",
      "Account 3 created for Deposit.\n",
      "Bank Account Management System\n",
      "1. Create Account\n",
      "2. Deposit\n",
      "3. Withdraw\n",
      "4. Check Balance\n",
      "5. Exit\n",
      "Enter your choice: 3\n",
      "Enter account number: 3\n",
      "Enter withdrawal amount: 2\n",
      "Insufficient balance.\n",
      "Bank Account Management System\n",
      "1. Create Account\n",
      "2. Deposit\n",
      "3. Withdraw\n",
      "4. Check Balance\n",
      "5. Exit\n",
      "Enter your choice: 5\n",
      "Exiting the program.\n"
     ]
    }
   ],
   "source": [
    "accounts = {}\n",
    "\n",
    "def create_account(account_number, name, initial_balance=0):\n",
    "    accounts[account_number] = {\n",
    "        \"name\": name,\n",
    "        \"balance\": initial_balance\n",
    "    }\n",
    "\n",
    "def deposit(account_number, amount):\n",
    "    if account_number in accounts:\n",
    "        accounts[account_number][\"balance\"] += amount\n",
    "        print(f\"Deposited ${amount:.2f} into account {account_number}.\")\n",
    "    else:\n",
    "        print(\"Account not found.\")\n",
    "\n",
    "def withdraw(account_number, amount):\n",
    "    if account_number in accounts:\n",
    "        if accounts[account_number][\"balance\"] >= amount:\n",
    "            accounts[account_number][\"balance\"] -= amount\n",
    "            print(f\"Withdrew ${amount:.2f} from account {account_number}.\")\n",
    "        else:\n",
    "            print(\"Insufficient balance.\")\n",
    "    else:\n",
    "        print(\"Account not found.\")\n",
    "\n",
    "def check_balance(account_number):\n",
    "    if account_number in accounts:\n",
    "        balance = accounts[account_number][\"balance\"]\n",
    "        print(f\"Account {account_number} balance: ${balance:.2f}\")\n",
    "    else:\n",
    "        print(\"Account not found.\")\n",
    "\n",
    "while True:\n",
    "    print(\"Bank Account Management System\")\n",
    "    print(\"1. Create Account\")\n",
    "    print(\"2. Deposit\")\n",
    "    print(\"3. Withdraw\")\n",
    "    print(\"4. Check Balance\")\n",
    "    print(\"5. Exit\")\n",
    "    \n",
    "    choice = input(\"Enter your choice: \")\n",
    "    \n",
    "    if choice == \"1\":\n",
    "        account_number = input(\"Enter account number: \")\n",
    "        name = input(\"Enter account holder's name: \")\n",
    "        create_account(account_number, name)\n",
    "        print(f\"Account {account_number} created for {name}.\")\n",
    "    elif choice == \"2\":\n",
    "        account_number = input(\"Enter account number: \")\n",
    "        amount = float(input(\"Enter deposit amount: \"))\n",
    "        deposit(account_number, amount)\n",
    "    elif choice == \"3\":\n",
    "        account_number = input(\"Enter account number: \")\n",
    "        amount = float(input(\"Enter withdrawal amount: \"))\n",
    "        withdraw(account_number, amount)\n",
    "    elif choice == \"4\":\n",
    "        account_number = input(\"Enter account number: \")\n",
    "        check_balance(account_number)\n",
    "    elif choice == \"5\":\n",
    "        print(\"Exiting the program.\")\n",
    "        break\n",
    "    else:\n",
    "        print(\"Invalid choice. Try again.\")"
   ]
  }
 ],
 "metadata": {
  "kernelspec": {
   "display_name": "Python 3 (ipykernel)",
   "language": "python",
   "name": "python3"
  },
  "language_info": {
   "codemirror_mode": {
    "name": "ipython",
    "version": 3
   },
   "file_extension": ".py",
   "mimetype": "text/x-python",
   "name": "python",
   "nbconvert_exporter": "python",
   "pygments_lexer": "ipython3",
   "version": "3.9.13"
  },
  "toc": {
   "base_numbering": 1,
   "nav_menu": {},
   "number_sections": true,
   "sideBar": true,
   "skip_h1_title": false,
   "title_cell": "Table of Contents",
   "title_sidebar": "Contents",
   "toc_cell": false,
   "toc_position": {},
   "toc_section_display": true,
   "toc_window_display": false
  }
 },
 "nbformat": 4,
 "nbformat_minor": 5
}
