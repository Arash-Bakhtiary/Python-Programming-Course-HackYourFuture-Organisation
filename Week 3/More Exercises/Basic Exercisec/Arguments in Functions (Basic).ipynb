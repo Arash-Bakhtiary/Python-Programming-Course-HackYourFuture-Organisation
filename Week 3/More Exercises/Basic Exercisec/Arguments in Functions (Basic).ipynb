{
 "cells": [
  {
   "cell_type": "markdown",
   "id": "dbee02f3",
   "metadata": {},
   "source": [
    "# Arguments in Functions (Basic)"
   ]
  },
  {
   "cell_type": "markdown",
   "id": "6e77cf23",
   "metadata": {},
   "source": [
    "Question: Write a function that calculates the area of a rectangle using default arguments for length and width."
   ]
  },
  {
   "cell_type": "code",
   "execution_count": 6,
   "id": "46bf9d27",
   "metadata": {},
   "outputs": [
    {
     "name": "stdout",
     "output_type": "stream",
     "text": [
      "15\n",
      "9\n"
     ]
    }
   ],
   "source": [
    "def rectangle_area(length=5, width=3):\n",
    "    return length * width\n",
    "print(rectangle_area())\n",
    "print(rectangle_area(length=3, width=3))"
   ]
  },
  {
   "cell_type": "markdown",
   "id": "ed1cc953",
   "metadata": {},
   "source": [
    "Question: Create a function that accepts three keyword arguments (first_name, last_name, and age) and returns a formatted string."
   ]
  },
  {
   "cell_type": "code",
   "execution_count": 7,
   "id": "a996059c",
   "metadata": {},
   "outputs": [
    {
     "data": {
      "text/plain": [
       "'arash bakhtiary, 37 years old'"
      ]
     },
     "execution_count": 7,
     "metadata": {},
     "output_type": "execute_result"
    }
   ],
   "source": [
    "def format_person_info(first_name, last_name, age):\n",
    "    return f\"{first_name} {last_name}, {age} years old\"\n",
    "format_person_info(\"arash\", \"bakhtiary\", 37)"
   ]
  },
  {
   "cell_type": "markdown",
   "id": "7924c0fc",
   "metadata": {},
   "source": [
    "Question: Write a function that accepts a list of numbers and calculates their sum using arbitrary positional arguments."
   ]
  },
  {
   "cell_type": "code",
   "execution_count": 11,
   "id": "086e0890",
   "metadata": {},
   "outputs": [
    {
     "data": {
      "text/plain": [
       "15"
      ]
     },
     "execution_count": 11,
     "metadata": {},
     "output_type": "execute_result"
    }
   ],
   "source": [
    "def sum_numbers(*args):\n",
    "    return sum(args)\n",
    "sum_numbers(1,2,3,4,5)"
   ]
  },
  {
   "cell_type": "markdown",
   "id": "578ef8fd",
   "metadata": {},
   "source": [
    "Question: Create a function that accepts arbitrary keyword arguments and prints them as key-value pairs."
   ]
  },
  {
   "cell_type": "code",
   "execution_count": 15,
   "id": "696cfc0c",
   "metadata": {},
   "outputs": [
    {
     "name": "stdout",
     "output_type": "stream",
     "text": [
      "name: John\n",
      "age: 30\n",
      "city: New York\n"
     ]
    }
   ],
   "source": [
    "def print_kwargs(**kwargs):\n",
    "    for key, value in kwargs.items():\n",
    "        print(f\"{key}: {value}\")\n",
    "print_kwargs(name=\"John\", age=30, city=\"New York\")"
   ]
  },
  {
   "cell_type": "markdown",
   "id": "68f19487",
   "metadata": {},
   "source": [
    "Question: Write a function that calculates the volume of a cube using a default side length of 5."
   ]
  },
  {
   "cell_type": "code",
   "execution_count": 16,
   "id": "5ab1a403",
   "metadata": {},
   "outputs": [
    {
     "data": {
      "text/plain": [
       "125"
      ]
     },
     "execution_count": 16,
     "metadata": {},
     "output_type": "execute_result"
    }
   ],
   "source": [
    "def cube_volume(side_length=5):\n",
    "    return side_length ** 3\n",
    "cube_volume()"
   ]
  },
  {
   "cell_type": "markdown",
   "id": "e4cb7fd3",
   "metadata": {},
   "source": [
    "Question: Create a function that accepts a list of names and returns a formatted string with a custom separator using a default value."
   ]
  },
  {
   "cell_type": "code",
   "execution_count": 18,
   "id": "bdcdc1c3",
   "metadata": {},
   "outputs": [
    {
     "data": {
      "text/plain": [
       "'john, frank, sekineh'"
      ]
     },
     "execution_count": 18,
     "metadata": {},
     "output_type": "execute_result"
    }
   ],
   "source": [
    "def join_names(names, separator=', '):\n",
    "    return separator.join(names)\n",
    "join_names([\"john\",\"frank\", \"sekineh\"], separator=', ')"
   ]
  },
  {
   "cell_type": "markdown",
   "id": "3efd53ec",
   "metadata": {},
   "source": [
    "Question: Write a function that calculates the factorial of a number using recursion and a default value of 1 for the initial result."
   ]
  },
  {
   "cell_type": "code",
   "execution_count": 19,
   "id": "522c21ba",
   "metadata": {},
   "outputs": [
    {
     "data": {
      "text/plain": [
       "6"
      ]
     },
     "execution_count": 19,
     "metadata": {},
     "output_type": "execute_result"
    }
   ],
   "source": [
    "def factorial(n, result=1):\n",
    "    if n <= 1:\n",
    "        return result\n",
    "    else:\n",
    "        return factorial(n - 1, n * result)\n",
    "factorial(3)"
   ]
  },
  {
   "cell_type": "markdown",
   "id": "e66accac",
   "metadata": {},
   "source": [
    "Question: Write a function that accepts a list of numbers and returns the product of all non-zero values using arbitrary positional arguments."
   ]
  },
  {
   "cell_type": "code",
   "execution_count": 21,
   "id": "13fd70d0",
   "metadata": {},
   "outputs": [
    {
     "data": {
      "text/plain": [
       "120"
      ]
     },
     "execution_count": 21,
     "metadata": {},
     "output_type": "execute_result"
    }
   ],
   "source": [
    "def product_of_nonzero(*args):\n",
    "    result = 1\n",
    "    for num in args:\n",
    "        if num != 0:\n",
    "            result *= num\n",
    "    return result\n",
    "product_of_nonzero(1,2,3,4,5)"
   ]
  },
  {
   "cell_type": "markdown",
   "id": "1b5afb37",
   "metadata": {},
   "source": [
    "Question: Create a function that accepts a list of words and a keyword argument that specifies a minimum word length. The function should return a list of words longer than the specified length."
   ]
  },
  {
   "cell_type": "code",
   "execution_count": 23,
   "id": "c5513ba2",
   "metadata": {},
   "outputs": [
    {
     "data": {
      "text/plain": [
       "['hello']"
      ]
     },
     "execution_count": 23,
     "metadata": {},
     "output_type": "execute_result"
    }
   ],
   "source": [
    "def filter_words_by_length(words, min_length=4):\n",
    "    return [word for word in words if len(word) > min_length]\n",
    "filter_words_by_length([\"hello\", \"how\", \"are\", \"you\"])"
   ]
  },
  {
   "cell_type": "markdown",
   "id": "f86f20e3",
   "metadata": {},
   "source": [
    "Question: Write a function that accepts a dictionary of items and their prices. It should calculate the total cost of items based on their quantities provided as keyword arguments."
   ]
  },
  {
   "cell_type": "code",
   "execution_count": 27,
   "id": "4824c4dc",
   "metadata": {},
   "outputs": [
    {
     "data": {
      "text/plain": [
       "4.75"
      ]
     },
     "execution_count": 27,
     "metadata": {},
     "output_type": "execute_result"
    }
   ],
   "source": [
    "def calculate_total_cost(prices, **quantities):\n",
    "    total = 0\n",
    "    for item, quantity in quantities.items():\n",
    "        total += prices.get(item, 0) * quantity\n",
    "    return total\n",
    "\n",
    "prices = {\"apple\": 0.5,\"banana\": 0.25,\"orange\": 0.75,}\n",
    "total_cost = calculate_total_cost(prices, apple=5, banana=3, orange=2)\n",
    "total_cost"
   ]
  },
  {
   "cell_type": "markdown",
   "id": "312625db",
   "metadata": {},
   "source": [
    "Question: Create a function that accepts two lists as keyword arguments and returns a new list containing common elements from both lists."
   ]
  },
  {
   "cell_type": "code",
   "execution_count": 28,
   "id": "d4c71cd3",
   "metadata": {},
   "outputs": [
    {
     "data": {
      "text/plain": [
       "[3, 4, 5]"
      ]
     },
     "execution_count": 28,
     "metadata": {},
     "output_type": "execute_result"
    }
   ],
   "source": [
    "def find_common_elements(**lists):\n",
    "    return list(set(lists['list1']).intersection(lists['list2']))\n",
    "list1 = [1, 2, 3, 4, 5]\n",
    "list2 = [3, 4, 5, 6, 7]\n",
    "common_elements = find_common_elements(list1=list1, list2=list2)\n",
    "common_elements"
   ]
  },
  {
   "cell_type": "markdown",
   "id": "ca61c64b",
   "metadata": {},
   "source": [
    "Question: Create a function that accepts a list of numbers and returns the median value using arbitrary positional arguments."
   ]
  },
  {
   "cell_type": "code",
   "execution_count": 31,
   "id": "a9cf6efa",
   "metadata": {},
   "outputs": [
    {
     "data": {
      "text/plain": [
       "4.5"
      ]
     },
     "execution_count": 31,
     "metadata": {},
     "output_type": "execute_result"
    }
   ],
   "source": [
    "import statistics\n",
    "\n",
    "def calculate_median(*args):\n",
    "    return statistics.median(args)\n",
    "calculate_median (1,2,3,4,5,5,56,56)"
   ]
  }
 ],
 "metadata": {
  "kernelspec": {
   "display_name": "Python 3 (ipykernel)",
   "language": "python",
   "name": "python3"
  },
  "language_info": {
   "codemirror_mode": {
    "name": "ipython",
    "version": 3
   },
   "file_extension": ".py",
   "mimetype": "text/x-python",
   "name": "python",
   "nbconvert_exporter": "python",
   "pygments_lexer": "ipython3",
   "version": "3.9.13"
  },
  "toc": {
   "base_numbering": 1,
   "nav_menu": {},
   "number_sections": true,
   "sideBar": true,
   "skip_h1_title": false,
   "title_cell": "Table of Contents",
   "title_sidebar": "Contents",
   "toc_cell": false,
   "toc_position": {},
   "toc_section_display": true,
   "toc_window_display": false
  }
 },
 "nbformat": 4,
 "nbformat_minor": 5
}
