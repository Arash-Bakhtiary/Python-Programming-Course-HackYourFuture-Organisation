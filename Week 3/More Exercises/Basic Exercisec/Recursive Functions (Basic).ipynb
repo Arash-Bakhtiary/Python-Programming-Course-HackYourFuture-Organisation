{
 "cells": [
  {
   "cell_type": "markdown",
   "id": "dbee02f3",
   "metadata": {},
   "source": [
    "# Recursive Functions (Basic)"
   ]
  },
  {
   "cell_type": "markdown",
   "id": "6e77cf23",
   "metadata": {},
   "source": [
    "Question: Write a recursive function to calculate the factorial of a non-negative integer n."
   ]
  },
  {
   "cell_type": "code",
   "execution_count": 2,
   "id": "26a0dc01",
   "metadata": {},
   "outputs": [
    {
     "data": {
      "text/plain": [
       "6"
      ]
     },
     "execution_count": 2,
     "metadata": {},
     "output_type": "execute_result"
    }
   ],
   "source": [
    "def factorial(n):\n",
    "    if n == 0:\n",
    "        return 1\n",
    "    else:\n",
    "        return n * factorial(n - 1)\n",
    "factorial(3)"
   ]
  },
  {
   "cell_type": "markdown",
   "id": "74b18e96",
   "metadata": {},
   "source": [
    "Question: Create a recursive function to calculate the nth Fibonacci number."
   ]
  },
  {
   "cell_type": "code",
   "execution_count": 3,
   "id": "9fc1083c",
   "metadata": {},
   "outputs": [
    {
     "data": {
      "text/plain": [
       "3"
      ]
     },
     "execution_count": 3,
     "metadata": {},
     "output_type": "execute_result"
    }
   ],
   "source": [
    "def fibonacci(n):\n",
    "    if n <= 0:\n",
    "        return 0\n",
    "    elif n == 1:\n",
    "        return 1\n",
    "    else:\n",
    "        return fibonacci(n - 1) + fibonacci(n - 2)\n",
    "fibonacci(4)"
   ]
  },
  {
   "cell_type": "markdown",
   "id": "6024888f",
   "metadata": {},
   "source": [
    "Question: Write a recursive function to find the sum of all elements in a list."
   ]
  },
  {
   "cell_type": "code",
   "execution_count": 4,
   "id": "6ac3fa5b",
   "metadata": {},
   "outputs": [
    {
     "data": {
      "text/plain": [
       "15"
      ]
     },
     "execution_count": 4,
     "metadata": {},
     "output_type": "execute_result"
    }
   ],
   "source": [
    "def sum_list(lst):\n",
    "    if not lst:\n",
    "        return 0\n",
    "    else:\n",
    "        return lst[0] + sum_list(lst[1:])\n",
    "sum_list([1,2,3,4,5])"
   ]
  },
  {
   "cell_type": "markdown",
   "id": "a242bbef",
   "metadata": {},
   "source": [
    "Question: Create a recursive function to find the greatest common divisor (GCD) of two integers."
   ]
  },
  {
   "cell_type": "code",
   "execution_count": 5,
   "id": "1d7fc1d1",
   "metadata": {},
   "outputs": [
    {
     "data": {
      "text/plain": [
       "4"
      ]
     },
     "execution_count": 5,
     "metadata": {},
     "output_type": "execute_result"
    }
   ],
   "source": [
    "def gcd(a, b):\n",
    "    if b == 0:\n",
    "        return a\n",
    "    else:\n",
    "        return gcd(b, a % b)\n",
    "gcd(4, 12)"
   ]
  },
  {
   "cell_type": "markdown",
   "id": "885a9122",
   "metadata": {},
   "source": [
    "Question: Write a recursive function to check if a string is a palindrome."
   ]
  },
  {
   "cell_type": "code",
   "execution_count": 6,
   "id": "9b188f96",
   "metadata": {},
   "outputs": [
    {
     "data": {
      "text/plain": [
       "False"
      ]
     },
     "execution_count": 6,
     "metadata": {},
     "output_type": "execute_result"
    }
   ],
   "source": [
    "def is_palindrome(s):\n",
    "    s = s.lower()\n",
    "    if len(s) <= 1:\n",
    "        return True\n",
    "    elif s[0] != s[-1]:\n",
    "        return False\n",
    "    else:\n",
    "        return is_palindrome(s[1:-1])\n",
    "is_palindrome(\"arash\")"
   ]
  },
  {
   "cell_type": "markdown",
   "id": "e55d972d",
   "metadata": {},
   "source": [
    "Question: Create a recursive function to calculate the sum of digits in a positive integer."
   ]
  },
  {
   "cell_type": "code",
   "execution_count": 10,
   "id": "ca5076b1",
   "metadata": {},
   "outputs": [
    {
     "data": {
      "text/plain": [
       "6"
      ]
     },
     "execution_count": 10,
     "metadata": {},
     "output_type": "execute_result"
    }
   ],
   "source": [
    "def sum_digits(n):\n",
    "    if n < 10:\n",
    "        return n\n",
    "    else:\n",
    "        return n % 10 + sum_digits(n // 10)\n",
    "sum_digits(15)"
   ]
  },
  {
   "cell_type": "markdown",
   "id": "b2da8a22",
   "metadata": {},
   "source": [
    "Question: Write a recursive function to calculate the power of a number x raised to an integer n."
   ]
  },
  {
   "cell_type": "code",
   "execution_count": null,
   "id": "91753a80",
   "metadata": {},
   "outputs": [],
   "source": [
    "def power(x, n):\n",
    "    if n == 0:\n",
    "        return 1\n",
    "    else:\n",
    "        return x * power(x, n - 1)\n",
    "power(x, n)"
   ]
  },
  {
   "cell_type": "markdown",
   "id": "4cd5e1c9",
   "metadata": {},
   "source": [
    "Question: Create a recursive function to reverse a string."
   ]
  },
  {
   "cell_type": "code",
   "execution_count": 11,
   "id": "8ead42ec",
   "metadata": {},
   "outputs": [
    {
     "data": {
      "text/plain": [
       "'hsara'"
      ]
     },
     "execution_count": 11,
     "metadata": {},
     "output_type": "execute_result"
    }
   ],
   "source": [
    "def reverse_string(s):\n",
    "    if len(s) <= 1:\n",
    "        return s\n",
    "    else:\n",
    "        return reverse_string(s[1:]) + s[0]\n",
    "reverse_string(\"arash\")"
   ]
  },
  {
   "cell_type": "markdown",
   "id": "ab08af0f",
   "metadata": {},
   "source": [
    "Question: Write a recursive function to find the nth term of the geometric sequence a, ar, ar^2, ar^3, ..."
   ]
  },
  {
   "cell_type": "code",
   "execution_count": 14,
   "id": "d4566fbb",
   "metadata": {},
   "outputs": [
    {
     "data": {
      "text/plain": [
       "18"
      ]
     },
     "execution_count": 14,
     "metadata": {},
     "output_type": "execute_result"
    }
   ],
   "source": [
    "def geometric_sequence(n, a, r):\n",
    "    if n == 0:\n",
    "        return a\n",
    "    else:\n",
    "        return r * geometric_sequence(n - 1, a, r)\n",
    "geometric_sequence (2,2,3)"
   ]
  },
  {
   "cell_type": "markdown",
   "id": "f2355a5f",
   "metadata": {},
   "source": [
    "Question: Create a recursive function to generate all permutations of a list."
   ]
  },
  {
   "cell_type": "code",
   "execution_count": 15,
   "id": "435dfe12",
   "metadata": {},
   "outputs": [
    {
     "data": {
      "text/plain": [
       "[[1, 2, 3], [1, 3, 2], [2, 1, 3], [2, 3, 1], [3, 1, 2], [3, 2, 1]]"
      ]
     },
     "execution_count": 15,
     "metadata": {},
     "output_type": "execute_result"
    }
   ],
   "source": [
    "def permutations(lst):\n",
    "    if len(lst) <= 1:\n",
    "        return [lst]\n",
    "    else:\n",
    "        perms = []\n",
    "        for i in range(len(lst)):\n",
    "            rest = lst[:i] + lst[i + 1:]\n",
    "            for p in permutations(rest):\n",
    "                perms.append([lst[i]] + p)\n",
    "        return perms\n",
    "permutations([1,2,3])"
   ]
  }
 ],
 "metadata": {
  "kernelspec": {
   "display_name": "Python 3 (ipykernel)",
   "language": "python",
   "name": "python3"
  },
  "language_info": {
   "codemirror_mode": {
    "name": "ipython",
    "version": 3
   },
   "file_extension": ".py",
   "mimetype": "text/x-python",
   "name": "python",
   "nbconvert_exporter": "python",
   "pygments_lexer": "ipython3",
   "version": "3.9.13"
  },
  "toc": {
   "base_numbering": 1,
   "nav_menu": {},
   "number_sections": true,
   "sideBar": true,
   "skip_h1_title": false,
   "title_cell": "Table of Contents",
   "title_sidebar": "Contents",
   "toc_cell": false,
   "toc_position": {},
   "toc_section_display": true,
   "toc_window_display": false
  }
 },
 "nbformat": 4,
 "nbformat_minor": 5
}
