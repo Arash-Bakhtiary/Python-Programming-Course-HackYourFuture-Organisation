{
 "cells": [
  {
   "cell_type": "markdown",
   "id": "dbee02f3",
   "metadata": {},
   "source": [
    "# Lambda Function (Basic)"
   ]
  },
  {
   "cell_type": "markdown",
   "id": "ca9ffa6b",
   "metadata": {},
   "source": [
    "Question: Create lambda functions to calculate the area and perimeter of different geometric shapes like rectangles, circles, and triangles."
   ]
  },
  {
   "cell_type": "code",
   "execution_count": 1,
   "id": "e9456b20",
   "metadata": {},
   "outputs": [],
   "source": [
    "area_rectangle = lambda length, width: length * width\n",
    "perimeter_rectangle = lambda length, width: 2 * (length + width)\n",
    "\n",
    "area_circle = lambda radius: 3.141592653589793 * radius**2\n",
    "circumference_circle = lambda radius: 2 * 3.141592653589793 * radius\n",
    "\n",
    "area_triangle = lambda base, height: 0.5 * base * height\n",
    "perimeter_triangle = lambda side1, side2, side3: side1 + side2 + side3"
   ]
  },
  {
   "cell_type": "markdown",
   "id": "50af0f0e",
   "metadata": {},
   "source": [
    "Question: Use a lambda function with filter() to extract all the odd numbers from a list of integers."
   ]
  },
  {
   "cell_type": "code",
   "execution_count": 2,
   "id": "1f6f9d6d",
   "metadata": {},
   "outputs": [
    {
     "data": {
      "text/plain": [
       "[1, 3, 5, 7, 9]"
      ]
     },
     "execution_count": 2,
     "metadata": {},
     "output_type": "execute_result"
    }
   ],
   "source": [
    "numbers = [1, 2, 3, 4, 5, 6, 7, 8, 9]\n",
    "odd_numbers = list(filter(lambda x: x % 2 != 0, numbers))\n",
    "odd_numbers"
   ]
  },
  {
   "cell_type": "markdown",
   "id": "2dbf3f5e",
   "metadata": {},
   "source": [
    "Question: Create a lambda function that takes a number and returns a tuple containing the number doubled and its square."
   ]
  },
  {
   "cell_type": "code",
   "execution_count": 4,
   "id": "9568dacf",
   "metadata": {},
   "outputs": [
    {
     "data": {
      "text/plain": [
       "(10, 25)"
      ]
     },
     "execution_count": 4,
     "metadata": {},
     "output_type": "execute_result"
    }
   ],
   "source": [
    "transform = lambda x: (x * 2, x**2)\n",
    "result = transform(5)  \n",
    "result"
   ]
  },
  {
   "cell_type": "markdown",
   "id": "9cc89339",
   "metadata": {},
   "source": [
    "Question: Sort a list of words by their length using a lambda function with sorted()."
   ]
  },
  {
   "cell_type": "code",
   "execution_count": 5,
   "id": "4930a2e9",
   "metadata": {},
   "outputs": [
    {
     "data": {
      "text/plain": [
       "['date', 'apple', 'banana', 'cherry', 'elderberry']"
      ]
     },
     "execution_count": 5,
     "metadata": {},
     "output_type": "execute_result"
    }
   ],
   "source": [
    "words = ['apple', 'banana', 'cherry', 'date', 'elderberry']\n",
    "sorted_words = sorted(words, key=lambda x: len(x))\n",
    "sorted_words"
   ]
  },
  {
   "cell_type": "markdown",
   "id": "94a8d959",
   "metadata": {},
   "source": [
    "Question: Check the strength of a password using a lambda function. A strong password should contain at least one uppercase letter, one lowercase letter, one digit, and be at least eight characters long."
   ]
  },
  {
   "cell_type": "code",
   "execution_count": 6,
   "id": "1994aea3",
   "metadata": {},
   "outputs": [
    {
     "data": {
      "text/plain": [
       "True"
      ]
     },
     "execution_count": 6,
     "metadata": {},
     "output_type": "execute_result"
    }
   ],
   "source": [
    "is_strong_password = lambda password: any(c.isupper() for c in password) and any(c.islower() for c in password) and any(c.isdigit() for c in password) and len(password) >= 8\n",
    "result = is_strong_password('Passw0rd')  # Should return True\n",
    "result"
   ]
  },
  {
   "cell_type": "markdown",
   "id": "63888cce",
   "metadata": {},
   "source": [
    "Question: Create a lambda function that performs a custom math operation (e.g., (x^2 + 2y) / 3z) on three input values."
   ]
  },
  {
   "cell_type": "code",
   "execution_count": 7,
   "id": "3ae604a4",
   "metadata": {},
   "outputs": [
    {
     "data": {
      "text/plain": [
       "0.8333333333333334"
      ]
     },
     "execution_count": 7,
     "metadata": {},
     "output_type": "execute_result"
    }
   ],
   "source": [
    "custom_operation = lambda x, y, z: (x**2 + 2*y) / (3*z)\n",
    "result = custom_operation(2, 3, 4)  # Replace with actual values\n",
    "result"
   ]
  },
  {
   "cell_type": "markdown",
   "id": "3af40c38",
   "metadata": {},
   "source": [
    "Question: Group a list of words by their length using a lambda function with itertools.groupby()."
   ]
  },
  {
   "cell_type": "code",
   "execution_count": 8,
   "id": "a6498596",
   "metadata": {},
   "outputs": [
    {
     "data": {
      "text/plain": [
       "{5: ['apple'], 6: ['banana', 'cherry'], 4: ['date'], 10: ['elderberry']}"
      ]
     },
     "execution_count": 8,
     "metadata": {},
     "output_type": "execute_result"
    }
   ],
   "source": [
    "from itertools import groupby\n",
    "words = ['apple', 'banana', 'cherry', 'date', 'elderberry']\n",
    "grouped_words = {k: list(g) for k, g in groupby(words, key=lambda x: len(x))}\n",
    "grouped_words"
   ]
  },
  {
   "cell_type": "markdown",
   "id": "24ac2810",
   "metadata": {},
   "source": [
    "Question: Transpose a given matrix (list of lists) using a lambda function."
   ]
  },
  {
   "cell_type": "code",
   "execution_count": 9,
   "id": "a337fa2b",
   "metadata": {},
   "outputs": [
    {
     "data": {
      "text/plain": [
       "[[1, 4, 7], [2, 5, 8], [3, 6, 9]]"
      ]
     },
     "execution_count": 9,
     "metadata": {},
     "output_type": "execute_result"
    }
   ],
   "source": [
    "matrix = [[1, 2, 3], [4, 5, 6], [7, 8, 9]]\n",
    "transposed_matrix = list(map(lambda *row: list(row), *matrix))\n",
    "transposed_matrix"
   ]
  },
  {
   "cell_type": "markdown",
   "id": "78d706a9",
   "metadata": {},
   "source": [
    "Question: Remove all punctuation characters from a string using a lambda function."
   ]
  },
  {
   "cell_type": "code",
   "execution_count": 10,
   "id": "727c4213",
   "metadata": {},
   "outputs": [
    {
     "data": {
      "text/plain": [
       "'Hello World This is a test'"
      ]
     },
     "execution_count": 10,
     "metadata": {},
     "output_type": "execute_result"
    }
   ],
   "source": [
    "import string\n",
    "text = \"Hello, World! This is a test.\"\n",
    "no_punctuation = ''.join(filter(lambda x: x not in string.punctuation, text))\n",
    "no_punctuation"
   ]
  },
  {
   "cell_type": "markdown",
   "id": "9d8aebcb",
   "metadata": {},
   "source": [
    "Question: Rearrange a list of dictionaries by a specific key using a lambda function."
   ]
  },
  {
   "cell_type": "code",
   "execution_count": 11,
   "id": "400a4ca9",
   "metadata": {},
   "outputs": [
    {
     "data": {
      "text/plain": [
       "[{'name': 'Bob', 'age': 25},\n",
       " {'name': 'Alice', 'age': 30},\n",
       " {'name': 'Charlie', 'age': 35}]"
      ]
     },
     "execution_count": 11,
     "metadata": {},
     "output_type": "execute_result"
    }
   ],
   "source": [
    "data = [{'name': 'Alice', 'age': 30}, {'name': 'Bob', 'age': 25}, {'name': 'Charlie', 'age': 35}]\n",
    "rearranged_data = sorted(data, key=lambda x: x['age'])\n",
    "rearranged_data"
   ]
  },
  {
   "cell_type": "markdown",
   "id": "537d7e67",
   "metadata": {},
   "source": [
    "Question: Calculate the Euclidean distance between two points represented as tuples using a lambda function."
   ]
  },
  {
   "cell_type": "code",
   "execution_count": 12,
   "id": "09427b11",
   "metadata": {},
   "outputs": [
    {
     "data": {
      "text/plain": [
       "5.0"
      ]
     },
     "execution_count": 12,
     "metadata": {},
     "output_type": "execute_result"
    }
   ],
   "source": [
    "euclidean_distance = lambda p1, p2: ((p1[0] - p2[0])**2 + (p1[1] - p2[1])**2)**0.5\n",
    "result = euclidean_distance((1, 2), (4, 6))\n",
    "result"
   ]
  },
  {
   "cell_type": "markdown",
   "id": "2ce89f22",
   "metadata": {},
   "source": [
    "Question: Filter a list of numbers to include only those within a specified range using a lambda function."
   ]
  },
  {
   "cell_type": "code",
   "execution_count": 13,
   "id": "cfdee603",
   "metadata": {},
   "outputs": [
    {
     "data": {
      "text/plain": [
       "[10, 15, 20]"
      ]
     },
     "execution_count": 13,
     "metadata": {},
     "output_type": "execute_result"
    }
   ],
   "source": [
    "numbers = [5, 10, 15, 20, 25, 30]\n",
    "filtered_numbers = list(filter(lambda x: 10 <= x <= 20, numbers))\n",
    "filtered_numbers"
   ]
  },
  {
   "cell_type": "markdown",
   "id": "6a6ea644",
   "metadata": {},
   "source": [
    "Question: Create a lambda function that partially applies an argument to a function."
   ]
  },
  {
   "cell_type": "code",
   "execution_count": 14,
   "id": "d878a6d5",
   "metadata": {},
   "outputs": [
    {
     "data": {
      "text/plain": [
       "25"
      ]
     },
     "execution_count": 14,
     "metadata": {},
     "output_type": "execute_result"
    }
   ],
   "source": [
    "from functools import partial\n",
    "power = lambda x, y: x**y\n",
    "square = partial(power, y=2)\n",
    "result = square(5)  # Should return 25\n",
    "result"
   ]
  },
  {
   "cell_type": "markdown",
   "id": "02bbfa6b",
   "metadata": {},
   "source": [
    "Question: Check if a given substring exists in a list of strings using a lambda function."
   ]
  },
  {
   "cell_type": "code",
   "execution_count": 15,
   "id": "02e242a7",
   "metadata": {},
   "outputs": [
    {
     "data": {
      "text/plain": [
       "True"
      ]
     },
     "execution_count": 15,
     "metadata": {},
     "output_type": "execute_result"
    }
   ],
   "source": [
    "words = ['apple', 'banana', 'cherry', 'date', 'elderberry']\n",
    "substring = 'ban'\n",
    "contains_substring = any(map(lambda x: substring in x, words))\n",
    "contains_substring"
   ]
  },
  {
   "cell_type": "markdown",
   "id": "de5c5837",
   "metadata": {},
   "source": [
    "Question: Filter out outliers from a list of numbers using a lambda function based on a custom threshold."
   ]
  },
  {
   "cell_type": "code",
   "execution_count": 16,
   "id": "3e6f4efc",
   "metadata": {},
   "outputs": [
    {
     "data": {
      "text/plain": [
       "[50, 55, 60, 120, 125, 130]"
      ]
     },
     "execution_count": 16,
     "metadata": {},
     "output_type": "execute_result"
    }
   ],
   "source": [
    "numbers = [50, 55, 60, 120, 125, 130, 2000]\n",
    "threshold = 150\n",
    "filtered_numbers = list(filter(lambda x: x <= threshold, numbers))\n",
    "filtered_numbers"
   ]
  },
  {
   "cell_type": "markdown",
   "id": "45b3bf5d",
   "metadata": {},
   "source": [
    "Question: Remove leading zeros from a list of strings representing numbers using a lambda function."
   ]
  },
  {
   "cell_type": "code",
   "execution_count": 18,
   "id": "112063c8",
   "metadata": {},
   "outputs": [
    {
     "data": {
      "text/plain": [
       "['1', '10', '100', '2', '20', '200']"
      ]
     },
     "execution_count": 18,
     "metadata": {},
     "output_type": "execute_result"
    }
   ],
   "source": [
    "numbers = ['001', '010', '100', '002', '020', '200']\n",
    "remove_zeros = lambda x: str(int(x))\n",
    "no_leading_zeros = list(map(remove_zeros, numbers))\n",
    "no_leading_zeros"
   ]
  },
  {
   "cell_type": "markdown",
   "id": "0832d7aa",
   "metadata": {},
   "source": [
    "Question: Check if a number is prime using a lambda function."
   ]
  },
  {
   "cell_type": "code",
   "execution_count": 19,
   "id": "86bdbaf4",
   "metadata": {},
   "outputs": [
    {
     "data": {
      "text/plain": [
       "True"
      ]
     },
     "execution_count": 19,
     "metadata": {},
     "output_type": "execute_result"
    }
   ],
   "source": [
    "is_prime = lambda n: n > 1 and all(n % i != 0 for i in range(2, int(n**0.5) + 1))\n",
    "result = is_prime(17)  # Should return True\n",
    "result"
   ]
  },
  {
   "cell_type": "markdown",
   "id": "d5165529",
   "metadata": {},
   "source": [
    "Question: Convert a list of decimal numbers to binary using a lambda function and bin()."
   ]
  },
  {
   "cell_type": "code",
   "execution_count": 20,
   "id": "7b1a104f",
   "metadata": {},
   "outputs": [
    {
     "data": {
      "text/plain": [
       "['1010', '10100', '11110', '101000', '110010']"
      ]
     },
     "execution_count": 20,
     "metadata": {},
     "output_type": "execute_result"
    }
   ],
   "source": [
    "decimal_numbers = [10, 20, 30, 40, 50]\n",
    "to_binary = lambda x: bin(x)[2:]\n",
    "binary_numbers = list(map(to_binary, decimal_numbers))\n",
    "binary_numbers"
   ]
  },
  {
   "cell_type": "markdown",
   "id": "8a10ee69",
   "metadata": {},
   "source": [
    "Question: Reverse the words in a sentence using a lambda function."
   ]
  },
  {
   "cell_type": "code",
   "execution_count": 21,
   "id": "9feda864",
   "metadata": {},
   "outputs": [
    {
     "data": {
      "text/plain": [
       "'sentence. sample a is This'"
      ]
     },
     "execution_count": 21,
     "metadata": {},
     "output_type": "execute_result"
    }
   ],
   "source": [
    "sentence = \"This is a sample sentence.\"\n",
    "reversed_sentence = ' '.join(reversed(sentence.split()))\n",
    "reversed_sentence"
   ]
  },
  {
   "cell_type": "markdown",
   "id": "93330342",
   "metadata": {},
   "source": [
    "Question: Calculate the tip amount based on a bill amount and tip percentage using a lambda function."
   ]
  },
  {
   "cell_type": "code",
   "execution_count": 22,
   "id": "df888c9c",
   "metadata": {},
   "outputs": [
    {
     "data": {
      "text/plain": [
       "7.5"
      ]
     },
     "execution_count": 22,
     "metadata": {},
     "output_type": "execute_result"
    }
   ],
   "source": [
    "calculate_tip = lambda bill, tip_percentage: bill * (tip_percentage / 100)\n",
    "tip_amount = calculate_tip(50, 15)  # Should return 7.5\n",
    "tip_amount"
   ]
  },
  {
   "cell_type": "markdown",
   "id": "ad1106f8",
   "metadata": {},
   "source": [
    "Question: Filter out words with even lengths from a list of words using a lambda function."
   ]
  },
  {
   "cell_type": "code",
   "execution_count": 23,
   "id": "7f6b9e27",
   "metadata": {},
   "outputs": [
    {
     "data": {
      "text/plain": [
       "['apple']"
      ]
     },
     "execution_count": 23,
     "metadata": {},
     "output_type": "execute_result"
    }
   ],
   "source": [
    "words = ['apple', 'banana', 'cherry', 'date', 'elderberry']\n",
    "odd_length_words = list(filter(lambda x: len(x) % 2 != 0, words))\n",
    "odd_length_words"
   ]
  },
  {
   "cell_type": "markdown",
   "id": "90574463",
   "metadata": {},
   "source": [
    "Question: Given a list of email addresses, extract the domains using a lambda function."
   ]
  },
  {
   "cell_type": "code",
   "execution_count": 24,
   "id": "3a46ccab",
   "metadata": {},
   "outputs": [
    {
     "data": {
      "text/plain": [
       "['example.com', 'example.net', 'gmail.com']"
      ]
     },
     "execution_count": 24,
     "metadata": {},
     "output_type": "execute_result"
    }
   ],
   "source": [
    "emails = ['user1@example.com', 'user2@example.net', 'user3@gmail.com']\n",
    "extract_domain = lambda email: email.split('@')[1]\n",
    "domains = list(map(extract_domain, emails))\n",
    "domains"
   ]
  }
 ],
 "metadata": {
  "kernelspec": {
   "display_name": "Python 3 (ipykernel)",
   "language": "python",
   "name": "python3"
  },
  "language_info": {
   "codemirror_mode": {
    "name": "ipython",
    "version": 3
   },
   "file_extension": ".py",
   "mimetype": "text/x-python",
   "name": "python",
   "nbconvert_exporter": "python",
   "pygments_lexer": "ipython3",
   "version": "3.9.13"
  },
  "toc": {
   "base_numbering": 1,
   "nav_menu": {},
   "number_sections": true,
   "sideBar": true,
   "skip_h1_title": false,
   "title_cell": "Table of Contents",
   "title_sidebar": "Contents",
   "toc_cell": false,
   "toc_position": {},
   "toc_section_display": true,
   "toc_window_display": false
  }
 },
 "nbformat": 4,
 "nbformat_minor": 5
}
