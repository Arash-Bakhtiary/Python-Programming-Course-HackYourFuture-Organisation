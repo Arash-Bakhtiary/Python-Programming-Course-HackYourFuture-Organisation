{
 "cells": [
  {
   "cell_type": "markdown",
   "id": "dbee02f3",
   "metadata": {},
   "source": [
    "# The Continue Statement (Basic)"
   ]
  },
  {
   "cell_type": "markdown",
   "id": "ca9ffa6b",
   "metadata": {},
   "source": [
    "Question: Write a Python program to print all even numbers between 1 and 50 using the continue statement."
   ]
  },
  {
   "cell_type": "code",
   "execution_count": null,
   "id": "26b6ce07",
   "metadata": {},
   "outputs": [],
   "source": [
    "for num in range(1, 51):\n",
    "    if num % 2 != 0:\n",
    "        continue\n",
    "    print(num)"
   ]
  },
  {
   "cell_type": "markdown",
   "id": "fc029b40",
   "metadata": {},
   "source": [
    "Question: Create a program that prints the first 10 positive integers except for the number 5 using the continue statement."
   ]
  },
  {
   "cell_type": "code",
   "execution_count": 1,
   "id": "d4427504",
   "metadata": {},
   "outputs": [
    {
     "name": "stdout",
     "output_type": "stream",
     "text": [
      "1\n",
      "2\n",
      "3\n",
      "4\n",
      "6\n",
      "7\n",
      "8\n",
      "9\n",
      "10\n"
     ]
    }
   ],
   "source": [
    "for num in range(1, 11):\n",
    "    if num == 5:\n",
    "        continue\n",
    "    print(num)"
   ]
  },
  {
   "cell_type": "markdown",
   "id": "bf69ed53",
   "metadata": {},
   "source": [
    "Question: Write a program that calculates the sum of all numbers between 1 and 100, excluding those divisible by 3."
   ]
  },
  {
   "cell_type": "code",
   "execution_count": 2,
   "id": "d8494a1f",
   "metadata": {},
   "outputs": [
    {
     "name": "stdout",
     "output_type": "stream",
     "text": [
      "3367\n"
     ]
    }
   ],
   "source": [
    "total = 0\n",
    "for num in range(1, 101):\n",
    "    if num % 3 == 0:\n",
    "        continue\n",
    "    total += num\n",
    "print(total)"
   ]
  },
  {
   "cell_type": "markdown",
   "id": "fd448c25",
   "metadata": {},
   "source": [
    "Question: Generate a list of squares for numbers from 1 to 10, but skip squares that are divisible by 4."
   ]
  },
  {
   "cell_type": "code",
   "execution_count": 3,
   "id": "7541b858",
   "metadata": {},
   "outputs": [
    {
     "name": "stdout",
     "output_type": "stream",
     "text": [
      "[1, 9, 25, 49, 81]\n"
     ]
    }
   ],
   "source": [
    "squares = []\n",
    "for num in range(1, 11):\n",
    "    square = num ** 2\n",
    "    if square % 4 == 0:\n",
    "        continue\n",
    "    squares.append(square)\n",
    "print(squares)"
   ]
  },
  {
   "cell_type": "markdown",
   "id": "556c117b",
   "metadata": {},
   "source": [
    "Question: Create a program that prints the characters of a string one by one, skipping any vowels."
   ]
  },
  {
   "cell_type": "code",
   "execution_count": 4,
   "id": "039316ca",
   "metadata": {},
   "outputs": [
    {
     "name": "stdout",
     "output_type": "stream",
     "text": [
      "h\n",
      "l\n",
      "l\n",
      " \n",
      "w\n",
      "r\n",
      "l\n",
      "d\n"
     ]
    }
   ],
   "source": [
    "text = \"hello world\"\n",
    "for char in text:\n",
    "    if char in \"aeiou\":\n",
    "        continue\n",
    "    print(char)"
   ]
  },
  {
   "cell_type": "markdown",
   "id": "fc597187",
   "metadata": {},
   "source": [
    "Question: Write a Python program to print all prime numbers between 1 and 50, using the continue statement."
   ]
  },
  {
   "cell_type": "code",
   "execution_count": 5,
   "id": "f34e7917",
   "metadata": {},
   "outputs": [
    {
     "name": "stdout",
     "output_type": "stream",
     "text": [
      "2\n",
      "3\n",
      "5\n",
      "7\n",
      "11\n",
      "13\n",
      "17\n",
      "19\n",
      "23\n",
      "29\n",
      "31\n",
      "37\n",
      "41\n",
      "43\n",
      "47\n"
     ]
    }
   ],
   "source": [
    "for num in range(1, 51):\n",
    "    if num < 2:\n",
    "        continue\n",
    "    prime = True\n",
    "    for i in range(2, int(num ** 0.5) + 1):\n",
    "        if num % i == 0:\n",
    "            prime = False\n",
    "            break\n",
    "    if prime:\n",
    "        print(num)"
   ]
  },
  {
   "cell_type": "markdown",
   "id": "9a49ef52",
   "metadata": {},
   "source": [
    "Question: Create a program that calculates the factorial of a number but skips even numbers."
   ]
  },
  {
   "cell_type": "code",
   "execution_count": 6,
   "id": "28b7a161",
   "metadata": {},
   "outputs": [
    {
     "name": "stdout",
     "output_type": "stream",
     "text": [
      "15\n"
     ]
    }
   ],
   "source": [
    "def factorial(n):\n",
    "    result = 1\n",
    "    for num in range(1, n + 1):\n",
    "        if num % 2 == 0:\n",
    "            continue\n",
    "        result *= num\n",
    "    return result\n",
    "\n",
    "print(factorial(5))"
   ]
  },
  {
   "cell_type": "markdown",
   "id": "2557ddfb",
   "metadata": {},
   "source": [
    "Question: Generate a list of numbers from 1 to 20, but skip multiples of 3 using the continue statement."
   ]
  },
  {
   "cell_type": "code",
   "execution_count": 7,
   "id": "06195b3a",
   "metadata": {},
   "outputs": [
    {
     "name": "stdout",
     "output_type": "stream",
     "text": [
      "[1, 2, 4, 5, 7, 8, 10, 11, 13, 14, 16, 17, 19, 20]\n"
     ]
    }
   ],
   "source": [
    "numbers = []\n",
    "for num in range(1, 21):\n",
    "    if num % 3 == 0:\n",
    "        continue\n",
    "    numbers.append(num)\n",
    "print(numbers)"
   ]
  },
  {
   "cell_type": "markdown",
   "id": "cbe70120",
   "metadata": {},
   "source": [
    "Question: Write a program to find the first 10 numbers that are both multiples of 5 and 7."
   ]
  },
  {
   "cell_type": "code",
   "execution_count": 8,
   "id": "f14aca49",
   "metadata": {},
   "outputs": [
    {
     "name": "stdout",
     "output_type": "stream",
     "text": [
      "35\n",
      "70\n",
      "105\n",
      "140\n",
      "175\n",
      "210\n",
      "245\n",
      "280\n",
      "315\n",
      "350\n"
     ]
    }
   ],
   "source": [
    "count = 0\n",
    "num = 1\n",
    "while count < 10:\n",
    "    if num % 5 == 0 and num % 7 == 0:\n",
    "        print(num)\n",
    "        count += 1\n",
    "    num += 1"
   ]
  },
  {
   "cell_type": "markdown",
   "id": "cff1ed0e",
   "metadata": {},
   "source": [
    "Question: Create a program that iterates through a list of words and prints each word's length, but skip words that contain the letter 'a'."
   ]
  },
  {
   "cell_type": "code",
   "execution_count": 10,
   "id": "2962fa51",
   "metadata": {},
   "outputs": [
    {
     "name": "stdout",
     "output_type": "stream",
     "text": [
      "6\n",
      "3\n"
     ]
    }
   ],
   "source": [
    "words = [\"apple\", \"banana\", \"cherry\", \"date\", \"fig\"]\n",
    "for word in words:\n",
    "    if 'a' in word:\n",
    "        continue\n",
    "    print(len(word))"
   ]
  },
  {
   "cell_type": "markdown",
   "id": "cd37ea8f",
   "metadata": {},
   "source": [
    "Question: Write a Python program to print all numbers from 1 to 100. But for multiples of 3, print \"Fizz\" instead of the number, and for the multiples of 5, print \"Buzz.\" For numbers that are multiples of both 3 and 5, print \"FizzBuzz.\""
   ]
  },
  {
   "cell_type": "code",
   "execution_count": 11,
   "id": "7c325a08",
   "metadata": {},
   "outputs": [
    {
     "name": "stdout",
     "output_type": "stream",
     "text": [
      "1\n",
      "2\n",
      "Fizz\n",
      "4\n",
      "Buzz\n",
      "Fizz\n",
      "7\n",
      "8\n",
      "Fizz\n",
      "Buzz\n",
      "11\n",
      "Fizz\n",
      "13\n",
      "14\n",
      "FizzBuzz\n",
      "16\n",
      "17\n",
      "Fizz\n",
      "19\n",
      "Buzz\n",
      "Fizz\n",
      "22\n",
      "23\n",
      "Fizz\n",
      "Buzz\n",
      "26\n",
      "Fizz\n",
      "28\n",
      "29\n",
      "FizzBuzz\n",
      "31\n",
      "32\n",
      "Fizz\n",
      "34\n",
      "Buzz\n",
      "Fizz\n",
      "37\n",
      "38\n",
      "Fizz\n",
      "Buzz\n",
      "41\n",
      "Fizz\n",
      "43\n",
      "44\n",
      "FizzBuzz\n",
      "46\n",
      "47\n",
      "Fizz\n",
      "49\n",
      "Buzz\n",
      "Fizz\n",
      "52\n",
      "53\n",
      "Fizz\n",
      "Buzz\n",
      "56\n",
      "Fizz\n",
      "58\n",
      "59\n",
      "FizzBuzz\n",
      "61\n",
      "62\n",
      "Fizz\n",
      "64\n",
      "Buzz\n",
      "Fizz\n",
      "67\n",
      "68\n",
      "Fizz\n",
      "Buzz\n",
      "71\n",
      "Fizz\n",
      "73\n",
      "74\n",
      "FizzBuzz\n",
      "76\n",
      "77\n",
      "Fizz\n",
      "79\n",
      "Buzz\n",
      "Fizz\n",
      "82\n",
      "83\n",
      "Fizz\n",
      "Buzz\n",
      "86\n",
      "Fizz\n",
      "88\n",
      "89\n",
      "FizzBuzz\n",
      "91\n",
      "92\n",
      "Fizz\n",
      "94\n",
      "Buzz\n",
      "Fizz\n",
      "97\n",
      "98\n",
      "Fizz\n",
      "Buzz\n"
     ]
    }
   ],
   "source": [
    "for num in range(1, 101):\n",
    "    if num % 3 == 0 and num % 5 == 0:\n",
    "        print(\"FizzBuzz\")\n",
    "    elif num % 3 == 0:\n",
    "        print(\"Fizz\")\n",
    "    elif num % 5 == 0:\n",
    "        print(\"Buzz\")\n",
    "    else:\n",
    "        print(num)"
   ]
  },
  {
   "cell_type": "markdown",
   "id": "e2997777",
   "metadata": {},
   "source": [
    "Question: Create a program that generates a list of Fibonacci numbers up to the nth term, but skip any number that is divisible by 2."
   ]
  },
  {
   "cell_type": "code",
   "execution_count": null,
   "id": "23b9921d",
   "metadata": {},
   "outputs": [],
   "source": [
    "def generate_fibonacci(n):\n",
    "    fibonacci = [0,1]\n",
    "    while len(fibonacci) < n:\n",
    "        next_term = fibonacci[-1] + fibonacci[-2]\n",
    "        if next_term % 2 == 0:\n",
    "            continue\n",
    "        fibonacci.append(next_term)\n",
    "    return fibonacci\n",
    "\n",
    "print(generate_fibonacci(10))"
   ]
  },
  {
   "cell_type": "markdown",
   "id": "7c82d3bc",
   "metadata": {},
   "source": [
    "Question: Write a program to print the numbers from 1 to 50, but replace numbers divisible by 7 with \"Seven.\""
   ]
  },
  {
   "cell_type": "code",
   "execution_count": 1,
   "id": "dd8b59c7",
   "metadata": {},
   "outputs": [
    {
     "name": "stdout",
     "output_type": "stream",
     "text": [
      "1\n",
      "2\n",
      "3\n",
      "4\n",
      "5\n",
      "6\n",
      "Seven\n",
      "8\n",
      "9\n",
      "10\n",
      "11\n",
      "12\n",
      "13\n",
      "Seven\n",
      "15\n",
      "16\n",
      "17\n",
      "18\n",
      "19\n",
      "20\n",
      "Seven\n",
      "22\n",
      "23\n",
      "24\n",
      "25\n",
      "26\n",
      "27\n",
      "Seven\n",
      "29\n",
      "30\n",
      "31\n",
      "32\n",
      "33\n",
      "34\n",
      "Seven\n",
      "36\n",
      "37\n",
      "38\n",
      "39\n",
      "40\n",
      "41\n",
      "Seven\n",
      "43\n",
      "44\n",
      "45\n",
      "46\n",
      "47\n",
      "48\n",
      "Seven\n",
      "50\n"
     ]
    }
   ],
   "source": [
    "for num in range(1, 51):\n",
    "    if num % 7 == 0:\n",
    "        print(\"Seven\")\n",
    "    else:\n",
    "        print(num)"
   ]
  },
  {
   "cell_type": "markdown",
   "id": "0ea579c4",
   "metadata": {},
   "source": [
    "Question: Create a program that calculates the sum of all multiples of 4 or 7 from 1 to 1000."
   ]
  },
  {
   "cell_type": "code",
   "execution_count": 1,
   "id": "1ed90719",
   "metadata": {},
   "outputs": [
    {
     "name": "stdout",
     "output_type": "stream",
     "text": [
      "178931\n"
     ]
    }
   ],
   "source": [
    "total = 0\n",
    "for num in range(1, 1001):\n",
    "    if num % 4 == 0 or num % 7 == 0:\n",
    "        total += num\n",
    "print(total)"
   ]
  },
  {
   "cell_type": "markdown",
   "id": "07e365b7",
   "metadata": {},
   "source": [
    "Question: Write a Python program to find and print all the prime numbers up to 100, skipping multiples of 2."
   ]
  },
  {
   "cell_type": "code",
   "execution_count": 2,
   "id": "d278af0a",
   "metadata": {},
   "outputs": [
    {
     "name": "stdout",
     "output_type": "stream",
     "text": [
      "3\n",
      "5\n",
      "7\n",
      "11\n",
      "13\n",
      "17\n",
      "19\n",
      "23\n",
      "29\n",
      "31\n",
      "37\n",
      "41\n",
      "43\n",
      "47\n",
      "53\n",
      "59\n",
      "61\n",
      "67\n",
      "71\n",
      "73\n",
      "79\n",
      "83\n",
      "89\n",
      "97\n"
     ]
    }
   ],
   "source": [
    "for num in range(3, 101):\n",
    "    if num % 2 == 0:\n",
    "        continue\n",
    "    prime = True\n",
    "    for i in range(3, int(num ** 0.5) + 1, 2):\n",
    "        if num % i == 0:\n",
    "            prime = False\n",
    "            break\n",
    "    if prime:\n",
    "        print(num)"
   ]
  },
  {
   "cell_type": "markdown",
   "id": "3ec7ebc1",
   "metadata": {},
   "source": [
    "Question: Create a program that iterates through a list of numbers and prints \"Even\" for even numbers and \"Odd\" for odd numbers, skipping multiples of 5."
   ]
  },
  {
   "cell_type": "code",
   "execution_count": 3,
   "id": "de6acb65",
   "metadata": {},
   "outputs": [
    {
     "name": "stdout",
     "output_type": "stream",
     "text": [
      "2: Even\n",
      "8: Even\n",
      "11: Odd\n",
      "24: Even\n",
      "29: Odd\n"
     ]
    }
   ],
   "source": [
    "numbers = [2, 5, 8, 11, 15, 20, 24, 29, 30]\n",
    "for num in numbers:\n",
    "    if num % 5 == 0:\n",
    "        continue\n",
    "    if num % 2 == 0:\n",
    "        print(f\"{num}: Even\")\n",
    "    else:\n",
    "        print(f\"{num}: Odd\")"
   ]
  },
  {
   "cell_type": "markdown",
   "id": "2f95aa45",
   "metadata": {},
   "source": [
    "Question: Write a program that calculates the sum of the squares of numbers from 1 to 50, but skip squares that are divisible by 3."
   ]
  },
  {
   "cell_type": "code",
   "execution_count": 4,
   "id": "3bf6f77e",
   "metadata": {},
   "outputs": [
    {
     "name": "stdout",
     "output_type": "stream",
     "text": [
      "29461\n"
     ]
    }
   ],
   "source": [
    "total = 0\n",
    "for num in range(1, 51):\n",
    "    square = num ** 2\n",
    "    if square % 3 == 0:\n",
    "        continue\n",
    "    total += square\n",
    "print(total)"
   ]
  },
  {
   "cell_type": "markdown",
   "id": "07f3eb34",
   "metadata": {},
   "source": [
    "Question: Generate a list of all two-digit prime numbers (numbers between 10 and 99), skipping multiples of 5."
   ]
  },
  {
   "cell_type": "code",
   "execution_count": 5,
   "id": "fc38b918",
   "metadata": {},
   "outputs": [
    {
     "name": "stdout",
     "output_type": "stream",
     "text": [
      "[11, 13, 17, 19, 23, 29, 31, 37, 41, 43, 47, 53, 59, 61, 67, 71, 73, 79, 83, 89, 97]\n"
     ]
    }
   ],
   "source": [
    "prime_numbers = []\n",
    "for num in range(10, 100):\n",
    "    if num % 5 == 0:\n",
    "        continue\n",
    "    prime = True\n",
    "    for i in range(2, int(num ** 0.5) + 1):\n",
    "        if num % i == 0:\n",
    "            prime = False\n",
    "            break\n",
    "    if prime:\n",
    "        prime_numbers.append(num)\n",
    "print(prime_numbers)"
   ]
  },
  {
   "cell_type": "markdown",
   "id": "9c2c0895",
   "metadata": {},
   "source": [
    "Question: Create a program that prints the numbers from 1 to 100, but for multiples of 3, print \"Three,\" and for multiples of 4, print \"Four.\""
   ]
  },
  {
   "cell_type": "code",
   "execution_count": 6,
   "id": "08c5f4fa",
   "metadata": {},
   "outputs": [
    {
     "name": "stdout",
     "output_type": "stream",
     "text": [
      "1\n",
      "2\n",
      "Three\n",
      "Four\n",
      "5\n",
      "Three\n",
      "7\n",
      "Four\n",
      "Three\n",
      "10\n",
      "11\n",
      "Three\n",
      "13\n",
      "14\n",
      "Three\n",
      "Four\n",
      "17\n",
      "Three\n",
      "19\n",
      "Four\n",
      "Three\n",
      "22\n",
      "23\n",
      "Three\n",
      "25\n",
      "26\n",
      "Three\n",
      "Four\n",
      "29\n",
      "Three\n",
      "31\n",
      "Four\n",
      "Three\n",
      "34\n",
      "35\n",
      "Three\n",
      "37\n",
      "38\n",
      "Three\n",
      "Four\n",
      "41\n",
      "Three\n",
      "43\n",
      "Four\n",
      "Three\n",
      "46\n",
      "47\n",
      "Three\n",
      "49\n",
      "50\n",
      "Three\n",
      "Four\n",
      "53\n",
      "Three\n",
      "55\n",
      "Four\n",
      "Three\n",
      "58\n",
      "59\n",
      "Three\n",
      "61\n",
      "62\n",
      "Three\n",
      "Four\n",
      "65\n",
      "Three\n",
      "67\n",
      "Four\n",
      "Three\n",
      "70\n",
      "71\n",
      "Three\n",
      "73\n",
      "74\n",
      "Three\n",
      "Four\n",
      "77\n",
      "Three\n",
      "79\n",
      "Four\n",
      "Three\n",
      "82\n",
      "83\n",
      "Three\n",
      "85\n",
      "86\n",
      "Three\n",
      "Four\n",
      "89\n",
      "Three\n",
      "91\n",
      "Four\n",
      "Three\n",
      "94\n",
      "95\n",
      "Three\n",
      "97\n",
      "98\n",
      "Three\n",
      "Four\n"
     ]
    }
   ],
   "source": [
    "for num in range(1, 101):\n",
    "    if num % 3 == 0:\n",
    "        print(\"Three\")\n",
    "    elif num % 4 == 0:\n",
    "        print(\"Four\")\n",
    "    else:\n",
    "        print(num)"
   ]
  },
  {
   "cell_type": "markdown",
   "id": "906fdf14",
   "metadata": {},
   "source": [
    "Question: Write a Python program to print the elements of a list of words one by one, skipping words that start with a vowel."
   ]
  },
  {
   "cell_type": "code",
   "execution_count": 8,
   "id": "f748665b",
   "metadata": {},
   "outputs": [
    {
     "name": "stdout",
     "output_type": "stream",
     "text": [
      "banana\n",
      "cherry\n",
      "date\n",
      "fig\n"
     ]
    }
   ],
   "source": [
    "words = [\"apple\", \"banana\", \"cherry\", \"date\", \"fig\"]\n",
    "for word in words:\n",
    "    if word[0].lower() in \"aeiou\":\n",
    "        continue\n",
    "    print(word)"
   ]
  }
 ],
 "metadata": {
  "kernelspec": {
   "display_name": "Python 3 (ipykernel)",
   "language": "python",
   "name": "python3"
  },
  "language_info": {
   "codemirror_mode": {
    "name": "ipython",
    "version": 3
   },
   "file_extension": ".py",
   "mimetype": "text/x-python",
   "name": "python",
   "nbconvert_exporter": "python",
   "pygments_lexer": "ipython3",
   "version": "3.9.13"
  },
  "toc": {
   "base_numbering": 1,
   "nav_menu": {},
   "number_sections": true,
   "sideBar": true,
   "skip_h1_title": false,
   "title_cell": "Table of Contents",
   "title_sidebar": "Contents",
   "toc_cell": false,
   "toc_position": {},
   "toc_section_display": true,
   "toc_window_display": false
  }
 },
 "nbformat": 4,
 "nbformat_minor": 5
}
