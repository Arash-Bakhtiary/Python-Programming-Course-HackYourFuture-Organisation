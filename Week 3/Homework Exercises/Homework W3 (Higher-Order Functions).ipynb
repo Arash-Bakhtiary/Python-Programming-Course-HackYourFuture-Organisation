{
 "cells": [
  {
   "cell_type": "markdown",
   "id": "dbee02f3",
   "metadata": {},
   "source": [
    "# Assignments - W3 (Higher-Order Functions)"
   ]
  },
  {
   "cell_type": "markdown",
   "id": "bb95fe9e",
   "metadata": {},
   "source": [
    "Assignment 1: Filtering and Mapping"
   ]
  },
  {
   "cell_type": "markdown",
   "id": "8f2542e9",
   "metadata": {},
   "source": [
    "Task: Create a Python program that takes a list of integers and filters out the odd numbers using filter(), then squares the remaining numbers using map()."
   ]
  },
  {
   "cell_type": "markdown",
   "id": "99ccd96f",
   "metadata": {},
   "source": [
    "Answer: "
   ]
  },
  {
   "cell_type": "code",
   "execution_count": 2,
   "id": "23bfceac",
   "metadata": {},
   "outputs": [
    {
     "name": "stdout",
     "output_type": "stream",
     "text": [
      "Filtered and squared numbers: [4, 16, 36, 64]\n"
     ]
    }
   ],
   "source": [
    "numbers = [1, 2, 3, 4, 5, 6, 7, 8, 9]\n",
    "filtered_numbers = list(filter(lambda x: x % 2 == 0, numbers))\n",
    "squared_numbers = list(map(lambda x: x ** 2, filtered_numbers))\n",
    "print(\"Filtered and squared numbers:\", squared_numbers)"
   ]
  },
  {
   "cell_type": "markdown",
   "id": "88bdd140",
   "metadata": {},
   "source": [
    "Assignment 2: Custom Reduce Function"
   ]
  },
  {
   "cell_type": "markdown",
   "id": "75f21a28",
   "metadata": {},
   "source": [
    "Task: Implement a custom reduce() function that calculates the product of elements in a list. Then, use it to find the product of a list of numbers."
   ]
  },
  {
   "cell_type": "markdown",
   "id": "01eeb0c8",
   "metadata": {},
   "source": [
    "Answer: "
   ]
  },
  {
   "cell_type": "code",
   "execution_count": 3,
   "id": "d82012a3",
   "metadata": {},
   "outputs": [
    {
     "name": "stdout",
     "output_type": "stream",
     "text": [
      "Product: 120\n"
     ]
    }
   ],
   "source": [
    "def custom_reduce(func, lst, initial):\n",
    "    result = initial\n",
    "    for item in lst:\n",
    "        result = func(result, item)\n",
    "    return result\n",
    "\n",
    "numbers = [1, 2, 3, 4, 5]\n",
    "product = custom_reduce(lambda x, y: x * y, numbers, 1)\n",
    "print(\"Product:\", product)"
   ]
  },
  {
   "cell_type": "markdown",
   "id": "37095431",
   "metadata": {},
   "source": [
    "Assignment 3: Sorting by Key Length"
   ]
  },
  {
   "cell_type": "markdown",
   "id": "1433b40b",
   "metadata": {},
   "source": [
    "Task: Write a Python program that sorts a list of strings by their length using sorted() and a custom key function."
   ]
  },
  {
   "cell_type": "markdown",
   "id": "7e3c5dbd",
   "metadata": {},
   "source": [
    "Answer: "
   ]
  },
  {
   "cell_type": "code",
   "execution_count": 4,
   "id": "97d3bab4",
   "metadata": {},
   "outputs": [
    {
     "name": "stdout",
     "output_type": "stream",
     "text": [
      "Sorted words by length: ['fig', 'date', 'apple', 'banana', 'cherry']\n"
     ]
    }
   ],
   "source": [
    "words = [\"apple\", \"banana\", \"cherry\", \"date\", \"fig\"]\n",
    "sorted_words = sorted(words, key=lambda x: len(x))\n",
    "print(\"Sorted words by length:\", sorted_words)"
   ]
  },
  {
   "cell_type": "markdown",
   "id": "09dfc6c6",
   "metadata": {},
   "source": [
    "Assignment 4: Filtering by Substring"
   ]
  },
  {
   "cell_type": "markdown",
   "id": "3e201eb0",
   "metadata": {},
   "source": [
    "Task: Create a Python program that uses filter() to find all strings in a list that contain a specific substring."
   ]
  },
  {
   "cell_type": "markdown",
   "id": "7b41ca07",
   "metadata": {},
   "source": [
    "Answer: "
   ]
  },
  {
   "cell_type": "code",
   "execution_count": 5,
   "id": "631e4c6d",
   "metadata": {},
   "outputs": [
    {
     "name": "stdout",
     "output_type": "stream",
     "text": [
      "Words containing substring: ['banana']\n"
     ]
    }
   ],
   "source": [
    "words = [\"apple\", \"banana\", \"cherry\", \"date\", \"fig\"]\n",
    "substring = \"an\"\n",
    "filtered_words = list(filter(lambda x: substring in x, words))\n",
    "print(\"Words containing substring:\", filtered_words)"
   ]
  },
  {
   "cell_type": "markdown",
   "id": "cbcbb425",
   "metadata": {},
   "source": [
    "Assignment 5: Custom Map Function"
   ]
  },
  {
   "cell_type": "markdown",
   "id": "f84a7d76",
   "metadata": {},
   "source": [
    "Task: Implement a custom map() function that applies a given function to each element of a list. Then, use it to calculate the square of each number in a list."
   ]
  },
  {
   "cell_type": "markdown",
   "id": "6fe275e7",
   "metadata": {},
   "source": [
    "Answer: "
   ]
  },
  {
   "cell_type": "code",
   "execution_count": 6,
   "id": "73b483f7",
   "metadata": {},
   "outputs": [
    {
     "name": "stdout",
     "output_type": "stream",
     "text": [
      "Squared numbers: [1, 4, 9, 16, 25]\n"
     ]
    }
   ],
   "source": [
    "def custom_map(func, lst):\n",
    "    result = []\n",
    "    for item in lst:\n",
    "        result.append(func(item))\n",
    "    return result\n",
    "\n",
    "numbers = [1, 2, 3, 4, 5]\n",
    "squared_numbers = custom_map(lambda x: x ** 2, numbers)\n",
    "print(\"Squared numbers:\", squared_numbers)"
   ]
  },
  {
   "cell_type": "markdown",
   "id": "2db5a6f5",
   "metadata": {},
   "source": [
    "Assignment 6: Finding Unique Elements"
   ]
  },
  {
   "cell_type": "markdown",
   "id": "83cfe4ad",
   "metadata": {},
   "source": [
    "Task: Write a Python program that uses filter() to find all unique elements in a list (remove duplicates)."
   ]
  },
  {
   "cell_type": "markdown",
   "id": "cd7a0da9",
   "metadata": {},
   "source": [
    "Answer: "
   ]
  },
  {
   "cell_type": "code",
   "execution_count": 7,
   "id": "f40f5807",
   "metadata": {},
   "outputs": [
    {
     "name": "stdout",
     "output_type": "stream",
     "text": [
      "Unique numbers: [5, 6]\n"
     ]
    }
   ],
   "source": [
    "numbers = [2, 3, 2, 4, 5, 3, 6, 4]\n",
    "unique_numbers = list(filter(lambda x: numbers.count(x) == 1, numbers))\n",
    "print(\"Unique numbers:\", unique_numbers)"
   ]
  },
  {
   "cell_type": "markdown",
   "id": "11c25cf0",
   "metadata": {},
   "source": [
    "Assignment 7: Sorting by Sum of Digits"
   ]
  },
  {
   "cell_type": "markdown",
   "id": "cb2f2fe5",
   "metadata": {},
   "source": [
    "Task: Create a Python program that sorts a list of integers by the sum of their digits using sorted() and a custom key function."
   ]
  },
  {
   "cell_type": "markdown",
   "id": "cf6aa719",
   "metadata": {},
   "source": [
    "Answer: "
   ]
  },
  {
   "cell_type": "code",
   "execution_count": 8,
   "id": "c033dcde",
   "metadata": {},
   "outputs": [
    {
     "name": "stdout",
     "output_type": "stream",
     "text": [
      "Sorted numbers by sum of digits: [12, 123, 45, 555, 789]\n"
     ]
    }
   ],
   "source": [
    "numbers = [123, 45, 789, 12, 555]\n",
    "sorted_numbers = sorted(numbers, key=lambda x: sum(int(digit) for digit in str(x)))\n",
    "print(\"Sorted numbers by sum of digits:\", sorted_numbers)"
   ]
  },
  {
   "cell_type": "markdown",
   "id": "cdc4ddf2",
   "metadata": {},
   "source": [
    "Assignment 8: Filtering and Mapping with Strings"
   ]
  },
  {
   "cell_type": "markdown",
   "id": "3bac4af1",
   "metadata": {},
   "source": [
    "Task: Implement a Python program that uses map() and filter() together. Convert a list of words to uppercase using map(), and then filter out words containing a specific letter."
   ]
  },
  {
   "cell_type": "markdown",
   "id": "9df6be8c",
   "metadata": {},
   "source": [
    "Answer: "
   ]
  },
  {
   "cell_type": "code",
   "execution_count": 9,
   "id": "8c9aaab4",
   "metadata": {},
   "outputs": [
    {
     "name": "stdout",
     "output_type": "stream",
     "text": [
      "Filtered and mapped words: ['HELLO', 'WORLD', 'PYTHON', 'PROGRAMMING']\n"
     ]
    }
   ],
   "source": [
    "words = [\"hello\", \"world\", \"PYTHON\", \"programming\"]\n",
    "letter = \"o\"\n",
    "filtered_words = list(filter(lambda x: letter not in x, map(lambda x: x.upper(), words)))\n",
    "print(\"Filtered and mapped words:\", filtered_words)"
   ]
  },
  {
   "cell_type": "markdown",
   "id": "e43e041d",
   "metadata": {},
   "source": [
    "Assignment 9: Recursive Reduce Function"
   ]
  },
  {
   "cell_type": "markdown",
   "id": "3abf243f",
   "metadata": {},
   "source": [
    "Task: Implement a recursive version of the reduce() function that calculates the sum of elements in a list."
   ]
  },
  {
   "cell_type": "markdown",
   "id": "eb634cfb",
   "metadata": {},
   "source": [
    "Answer: "
   ]
  },
  {
   "cell_type": "code",
   "execution_count": 10,
   "id": "f3678f70",
   "metadata": {
    "scrolled": true
   },
   "outputs": [
    {
     "name": "stdout",
     "output_type": "stream",
     "text": [
      "Total: 15\n"
     ]
    }
   ],
   "source": [
    "def recursive_reduce(func, lst):\n",
    "    if len(lst) == 1:\n",
    "        return lst[0]\n",
    "    else:\n",
    "        return func(lst[0], recursive_reduce(func, lst[1:]))\n",
    "\n",
    "numbers = [1, 2, 3, 4, 5]\n",
    "total = recursive_reduce(lambda x, y: x + y, numbers)\n",
    "print(\"Total:\", total)"
   ]
  },
  {
   "cell_type": "markdown",
   "id": "9a09b603",
   "metadata": {},
   "source": [
    "Assignment 10: Grouping by Length"
   ]
  },
  {
   "cell_type": "markdown",
   "id": "d5165bcf",
   "metadata": {},
   "source": [
    "Task: Write a Python program that groups a list of strings by their length using itertools.groupby()."
   ]
  },
  {
   "cell_type": "markdown",
   "id": "0fbc0b8c",
   "metadata": {},
   "source": [
    "Answer: "
   ]
  },
  {
   "cell_type": "code",
   "execution_count": 11,
   "id": "0cdeaedb",
   "metadata": {},
   "outputs": [
    {
     "name": "stdout",
     "output_type": "stream",
     "text": [
      "Words grouped by length: {3: ['fig'], 4: ['date'], 5: ['apple'], 6: ['banana', 'cherry']}\n"
     ]
    }
   ],
   "source": [
    "from itertools import groupby\n",
    "\n",
    "words = [\"apple\", \"banana\", \"cherry\", \"date\", \"fig\"]\n",
    "words.sort(key=lambda x: len(x))\n",
    "groups = {key: list(group) for key, group in groupby(words, key=len)}\n",
    "print(\"Words grouped by length:\", groups)"
   ]
  }
 ],
 "metadata": {
  "kernelspec": {
   "display_name": "Python 3 (ipykernel)",
   "language": "python",
   "name": "python3"
  },
  "language_info": {
   "codemirror_mode": {
    "name": "ipython",
    "version": 3
   },
   "file_extension": ".py",
   "mimetype": "text/x-python",
   "name": "python",
   "nbconvert_exporter": "python",
   "pygments_lexer": "ipython3",
   "version": "3.9.13"
  },
  "toc": {
   "base_numbering": 1,
   "nav_menu": {},
   "number_sections": true,
   "sideBar": true,
   "skip_h1_title": false,
   "title_cell": "Table of Contents",
   "title_sidebar": "Contents",
   "toc_cell": false,
   "toc_position": {},
   "toc_section_display": true,
   "toc_window_display": false
  }
 },
 "nbformat": 4,
 "nbformat_minor": 5
}
