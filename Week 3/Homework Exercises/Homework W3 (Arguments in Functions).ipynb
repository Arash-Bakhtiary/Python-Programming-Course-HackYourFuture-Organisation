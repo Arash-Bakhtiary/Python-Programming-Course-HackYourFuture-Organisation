{
 "cells": [
  {
   "cell_type": "markdown",
   "id": "dbee02f3",
   "metadata": {},
   "source": [
    "# Assignments - W3 (Arguments in Functions)"
   ]
  },
  {
   "cell_type": "markdown",
   "id": "09015915",
   "metadata": {},
   "source": [
    "Assignment 1: Custom Rectangle Area Calculator"
   ]
  },
  {
   "cell_type": "markdown",
   "id": "e2008798",
   "metadata": {},
   "source": [
    "Task: Write a Python function custom_rectangle_area() that calculates the area of a rectangle using arbitrary positional arguments for length and width. If no arguments are provided, use default values of length=5 and width=3."
   ]
  },
  {
   "cell_type": "markdown",
   "id": "51e567bd",
   "metadata": {},
   "source": [
    "Answer: "
   ]
  },
  {
   "cell_type": "code",
   "execution_count": 10,
   "id": "42da651c",
   "metadata": {},
   "outputs": [
    {
     "name": "stdout",
     "output_type": "stream",
     "text": [
      "15\n",
      "9\n"
     ]
    }
   ],
   "source": [
    "def custom_rectangle_area(*args):\n",
    "    if len(args) == 2:\n",
    "        length, width = args\n",
    "    else:\n",
    "        length, width = 5, 3\n",
    "    return length * width\n",
    "\n",
    "# Test the function\n",
    "print(custom_rectangle_area())\n",
    "print(custom_rectangle_area(3, 3))"
   ]
  },
  {
   "cell_type": "markdown",
   "id": "39629627",
   "metadata": {},
   "source": [
    "Assignment 2: Format Person Info"
   ]
  },
  {
   "cell_type": "markdown",
   "id": "49379db2",
   "metadata": {},
   "source": [
    "Task: Create a Python function format_person_info() that accepts three keyword arguments (first_name, last_name, and age) and returns a formatted string in the format \"First Name Last Name, Age years old.\""
   ]
  },
  {
   "cell_type": "markdown",
   "id": "679d2fdb",
   "metadata": {},
   "source": [
    "Answer: "
   ]
  },
  {
   "cell_type": "code",
   "execution_count": 9,
   "id": "3f8a8692",
   "metadata": {},
   "outputs": [
    {
     "name": "stdout",
     "output_type": "stream",
     "text": [
      "John Doe, 30 years old\n"
     ]
    }
   ],
   "source": [
    "def format_person_info(first_name, last_name, age):\n",
    "    return f\"{first_name} {last_name}, {age} years old\"\n",
    "\n",
    "# Test the function\n",
    "print(format_person_info(first_name=\"John\", last_name=\"Doe\", age=30))"
   ]
  },
  {
   "cell_type": "markdown",
   "id": "b324969f",
   "metadata": {},
   "source": [
    "Assignment 3: Custom Cube Volume Calculator"
   ]
  },
  {
   "cell_type": "markdown",
   "id": "10417b5c",
   "metadata": {},
   "source": [
    "Task: Write a Python function custom_cube_volume() that calculates the volume of a cube using arbitrary keyword arguments for side_length. If no argument is provided, use a default value of side_length=5."
   ]
  },
  {
   "cell_type": "markdown",
   "id": "65c67b74",
   "metadata": {},
   "source": [
    "Answer: "
   ]
  },
  {
   "cell_type": "code",
   "execution_count": 8,
   "id": "d00b56ed",
   "metadata": {},
   "outputs": [
    {
     "name": "stdout",
     "output_type": "stream",
     "text": [
      "125\n",
      "27\n"
     ]
    }
   ],
   "source": [
    "def custom_cube_volume(**kwargs):\n",
    "    side_length = kwargs.get('side_length', 5)\n",
    "    return side_length ** 3\n",
    "\n",
    "# Test the function\n",
    "print(custom_cube_volume())\n",
    "print(custom_cube_volume(side_length=3))"
   ]
  },
  {
   "cell_type": "markdown",
   "id": "6f8d473c",
   "metadata": {},
   "source": [
    "Assignment 4: Find Common Elements"
   ]
  },
  {
   "cell_type": "markdown",
   "id": "c7044460",
   "metadata": {},
   "source": [
    "Task: Create a Python function find_common_elements() that accepts two lists as keyword arguments (list1 and list2) and returns a new list containing common elements from both lists."
   ]
  },
  {
   "cell_type": "markdown",
   "id": "6289f841",
   "metadata": {},
   "source": [
    "Answer: "
   ]
  },
  {
   "cell_type": "code",
   "execution_count": 7,
   "id": "776a9a80",
   "metadata": {},
   "outputs": [
    {
     "name": "stdout",
     "output_type": "stream",
     "text": [
      "[3, 4, 5]\n"
     ]
    }
   ],
   "source": [
    "def find_common_elements(**lists):\n",
    "    list1 = lists.get('list1', [])\n",
    "    list2 = lists.get('list2', [])\n",
    "    common_elements = list(set(list1).intersection(list2))\n",
    "    return common_elements\n",
    "\n",
    "# Test the function\n",
    "list1 = [1, 2, 3, 4, 5]\n",
    "list2 = [3, 4, 5, 6, 7]\n",
    "print(find_common_elements(list1=list1, list2=list2))"
   ]
  },
  {
   "cell_type": "markdown",
   "id": "eea46a68",
   "metadata": {},
   "source": [
    "Assignment 5: Calculate Total Cost"
   ]
  },
  {
   "cell_type": "markdown",
   "id": "c50c78e7",
   "metadata": {},
   "source": [
    "Task: Write a Python function calculate_total_cost() that accepts a dictionary of items and their prices and calculates the total cost of items based on their quantities provided as keyword arguments."
   ]
  },
  {
   "cell_type": "markdown",
   "id": "cae9b8fd",
   "metadata": {},
   "source": [
    "Answer: "
   ]
  },
  {
   "cell_type": "code",
   "execution_count": 6,
   "id": "45dea9e0",
   "metadata": {},
   "outputs": [
    {
     "name": "stdout",
     "output_type": "stream",
     "text": [
      "4.75\n"
     ]
    }
   ],
   "source": [
    "def calculate_total_cost(prices, **quantities):\n",
    "    total = 0\n",
    "    for item, quantity in quantities.items():\n",
    "        total += prices.get(item, 0) * quantity\n",
    "    return total\n",
    "\n",
    "# Test the function\n",
    "prices = {\"apple\": 0.5, \"banana\": 0.25, \"orange\": 0.75}\n",
    "total_cost = calculate_total_cost(prices, apple=5, banana=3, orange=2)\n",
    "print(total_cost)"
   ]
  },
  {
   "cell_type": "markdown",
   "id": "38ebfcf4",
   "metadata": {},
   "source": [
    "Assignment 6: Custom Median Calculator"
   ]
  },
  {
   "cell_type": "markdown",
   "id": "ce080a1c",
   "metadata": {},
   "source": [
    "Task: Create a Python function custom_median() that accepts arbitrary positional arguments and returns the median value using the statistics.median() function."
   ]
  },
  {
   "cell_type": "markdown",
   "id": "5b2d65a5",
   "metadata": {},
   "source": [
    "Answer: "
   ]
  },
  {
   "cell_type": "code",
   "execution_count": 5,
   "id": "af1af7a4",
   "metadata": {},
   "outputs": [
    {
     "name": "stdout",
     "output_type": "stream",
     "text": [
      "4.5\n"
     ]
    }
   ],
   "source": [
    "import statistics\n",
    "\n",
    "def custom_median(*args):\n",
    "    return statistics.median(args)\n",
    "\n",
    "# Test the function\n",
    "print(custom_median(1, 2, 3, 4, 5, 5, 56, 56))"
   ]
  },
  {
   "cell_type": "markdown",
   "id": "17775b6f",
   "metadata": {},
   "source": [
    "Assignment 7: Filter Words by Length"
   ]
  },
  {
   "cell_type": "markdown",
   "id": "8b52f611",
   "metadata": {},
   "source": [
    "Task: Write a Python function filter_words_by_length() that accepts a list of words and a keyword argument min_length (default value=4). The function should return a list of words longer than the specified length."
   ]
  },
  {
   "cell_type": "markdown",
   "id": "43763fe5",
   "metadata": {},
   "source": [
    "Answer: "
   ]
  },
  {
   "cell_type": "code",
   "execution_count": 4,
   "id": "73ac1486",
   "metadata": {},
   "outputs": [
    {
     "name": "stdout",
     "output_type": "stream",
     "text": [
      "['hello']\n"
     ]
    }
   ],
   "source": [
    "def filter_words_by_length(words, min_length=4):\n",
    "    return [word for word in words if len(word) > min_length]\n",
    "\n",
    "# Test the function\n",
    "word_list = [\"hello\", \"how\", \"are\", \"you\"]\n",
    "print(filter_words_by_length(word_list))"
   ]
  },
  {
   "cell_type": "markdown",
   "id": "67a19973",
   "metadata": {},
   "source": [
    "Assignment 8: Product of Non-Zero Numbers"
   ]
  },
  {
   "cell_type": "markdown",
   "id": "a4397dc2",
   "metadata": {},
   "source": [
    "Task: Create a Python function product_of_nonzero() that accepts arbitrary positional arguments and returns the product of all non-zero values."
   ]
  },
  {
   "cell_type": "markdown",
   "id": "5e2978a2",
   "metadata": {},
   "source": [
    "Answer: "
   ]
  },
  {
   "cell_type": "code",
   "execution_count": 3,
   "id": "5591a82b",
   "metadata": {},
   "outputs": [
    {
     "name": "stdout",
     "output_type": "stream",
     "text": [
      "120\n"
     ]
    }
   ],
   "source": [
    "def product_of_nonzero(*args):\n",
    "    result = 1\n",
    "    for num in args:\n",
    "        if num != 0:\n",
    "            result *= num\n",
    "    return result\n",
    "\n",
    "# Test the function\n",
    "print(product_of_nonzero(1, 2, 3, 4, 5))"
   ]
  },
  {
   "cell_type": "markdown",
   "id": "bd3a0ef5",
   "metadata": {},
   "source": [
    "Assignment 9: Custom Join with Custom Separator"
   ]
  },
  {
   "cell_type": "markdown",
   "id": "83d9ec84",
   "metadata": {},
   "source": [
    "Task: Develop a Python function custom_join() that accepts a list of names and a keyword argument separator (default value=', '). The function should return a formatted string with a custom separator."
   ]
  },
  {
   "cell_type": "markdown",
   "id": "eeb38154",
   "metadata": {},
   "source": [
    "Answer: "
   ]
  },
  {
   "cell_type": "code",
   "execution_count": 2,
   "id": "a675711a",
   "metadata": {},
   "outputs": [
    {
     "name": "stdout",
     "output_type": "stream",
     "text": [
      "John, Frank, Sekineh\n"
     ]
    }
   ],
   "source": [
    "def custom_join(names, separator=', '):\n",
    "    return separator.join(names)\n",
    "\n",
    "# Test the function\n",
    "name_list = [\"John\", \"Frank\", \"Sekineh\"]\n",
    "print(custom_join(name_list, separator=', '))"
   ]
  },
  {
   "cell_type": "markdown",
   "id": "242ae550",
   "metadata": {},
   "source": [
    "Assignment 10: Recursive Factorial Calculation"
   ]
  },
  {
   "cell_type": "markdown",
   "id": "0eb18f90",
   "metadata": {},
   "source": [
    "Task: Write a Python function recursive_factorial() that calculates the factorial of a number using recursion and a default value of 1 for the initial result."
   ]
  },
  {
   "cell_type": "markdown",
   "id": "eb3fa97c",
   "metadata": {},
   "source": [
    "Answer: "
   ]
  },
  {
   "cell_type": "code",
   "execution_count": 1,
   "id": "15a79283",
   "metadata": {},
   "outputs": [
    {
     "name": "stdout",
     "output_type": "stream",
     "text": [
      "6\n"
     ]
    }
   ],
   "source": [
    "def recursive_factorial(n, result=1):\n",
    "    if n <= 1:\n",
    "        return result\n",
    "    else:\n",
    "        return recursive_factorial(n - 1, n * result)\n",
    "\n",
    "# Test the function\n",
    "print(recursive_factorial(3))"
   ]
  }
 ],
 "metadata": {
  "kernelspec": {
   "display_name": "Python 3 (ipykernel)",
   "language": "python",
   "name": "python3"
  },
  "language_info": {
   "codemirror_mode": {
    "name": "ipython",
    "version": 3
   },
   "file_extension": ".py",
   "mimetype": "text/x-python",
   "name": "python",
   "nbconvert_exporter": "python",
   "pygments_lexer": "ipython3",
   "version": "3.9.13"
  },
  "toc": {
   "base_numbering": 1,
   "nav_menu": {},
   "number_sections": true,
   "sideBar": true,
   "skip_h1_title": false,
   "title_cell": "Table of Contents",
   "title_sidebar": "Contents",
   "toc_cell": false,
   "toc_position": {},
   "toc_section_display": true,
   "toc_window_display": false
  }
 },
 "nbformat": 4,
 "nbformat_minor": 5
}
