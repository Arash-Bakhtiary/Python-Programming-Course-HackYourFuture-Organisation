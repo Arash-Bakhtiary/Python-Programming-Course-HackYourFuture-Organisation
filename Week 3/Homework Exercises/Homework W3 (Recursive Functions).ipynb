{
 "cells": [
  {
   "cell_type": "markdown",
   "id": "dbee02f3",
   "metadata": {},
   "source": [
    "# Assignments - W3 (Recursive Functions)"
   ]
  },
  {
   "cell_type": "markdown",
   "id": "bb95fe9e",
   "metadata": {},
   "source": [
    "Assignment 1: Ackermann Function"
   ]
  },
  {
   "cell_type": "markdown",
   "id": "8f2542e9",
   "metadata": {},
   "source": [
    "Task: Write a recursive function to calculate the Ackermann function, which is a more complex mathematical function that grows rapidly."
   ]
  },
  {
   "cell_type": "markdown",
   "id": "99ccd96f",
   "metadata": {},
   "source": [
    "Answer: "
   ]
  },
  {
   "cell_type": "code",
   "execution_count": 10,
   "id": "23bfceac",
   "metadata": {},
   "outputs": [
    {
     "name": "stdout",
     "output_type": "stream",
     "text": [
      "125\n"
     ]
    }
   ],
   "source": [
    "def ackermann(m, n):\n",
    "    if m == 0:\n",
    "        return n + 1\n",
    "    elif m > 0 and n == 0:\n",
    "        return ackermann(m - 1, 1)\n",
    "    elif m > 0 and n > 0:\n",
    "        return ackermann(m - 1, ackermann(m, n - 1))\n",
    "\n",
    "result = ackermann(3, 4)\n",
    "print(result)"
   ]
  },
  {
   "cell_type": "markdown",
   "id": "88bdd140",
   "metadata": {},
   "source": [
    "Assignment 2: Recursive Binary Search"
   ]
  },
  {
   "cell_type": "markdown",
   "id": "75f21a28",
   "metadata": {},
   "source": [
    "Task: Implement a recursive binary search algorithm to find the position of a target element in a sorted list."
   ]
  },
  {
   "cell_type": "markdown",
   "id": "01eeb0c8",
   "metadata": {},
   "source": [
    "Answer: "
   ]
  },
  {
   "cell_type": "code",
   "execution_count": 9,
   "id": "d82012a3",
   "metadata": {},
   "outputs": [
    {
     "name": "stdout",
     "output_type": "stream",
     "text": [
      "The target 7 is at position 3\n"
     ]
    }
   ],
   "source": [
    "def binary_search(arr, target, low, high):\n",
    "    if low > high:\n",
    "        return -1\n",
    "    mid = (low + high) // 2\n",
    "    if arr[mid] == target:\n",
    "        return mid\n",
    "    elif arr[mid] > target:\n",
    "        return binary_search(arr, target, low, mid - 1)\n",
    "    else:\n",
    "        return binary_search(arr, target, mid + 1, high)\n",
    "\n",
    "my_list = [1, 3, 5, 7, 9, 11, 13]\n",
    "target = 7\n",
    "position = binary_search(my_list, target, 0, len(my_list) - 1)\n",
    "print(f\"The target {target} is at position {position}\")"
   ]
  },
  {
   "cell_type": "markdown",
   "id": "37095431",
   "metadata": {},
   "source": [
    "Assignment 3: Recursive Merge Sort"
   ]
  },
  {
   "cell_type": "markdown",
   "id": "1433b40b",
   "metadata": {},
   "source": [
    "Task: Implement a recursive merge sort algorithm to sort a list of integers."
   ]
  },
  {
   "cell_type": "markdown",
   "id": "7e3c5dbd",
   "metadata": {},
   "source": [
    "Answer: "
   ]
  },
  {
   "cell_type": "code",
   "execution_count": 8,
   "id": "97d3bab4",
   "metadata": {},
   "outputs": [
    {
     "name": "stdout",
     "output_type": "stream",
     "text": [
      "[1, 2, 3, 4, 5, 6, 7, 8]\n"
     ]
    }
   ],
   "source": [
    "def merge_sort(arr):\n",
    "    if len(arr) <= 1:\n",
    "        return arr\n",
    "    mid = len(arr) // 2\n",
    "    left = merge_sort(arr[:mid])\n",
    "    right = merge_sort(arr[mid:])\n",
    "    return merge(left, right)\n",
    "\n",
    "def merge(left, right):\n",
    "    result = []\n",
    "    i, j = 0, 0\n",
    "    while i < len(left) and j < len(right):\n",
    "        if left[i] < right[j]:\n",
    "            result.append(left[i])\n",
    "            i += 1\n",
    "        else:\n",
    "            result.append(right[j])\n",
    "            j += 1\n",
    "    result.extend(left[i:])\n",
    "    result.extend(right[j:])\n",
    "    return result\n",
    "\n",
    "my_list = [4, 1, 7, 3, 8, 2, 6, 5]\n",
    "sorted_list = merge_sort(my_list)\n",
    "print(sorted_list)"
   ]
  },
  {
   "cell_type": "markdown",
   "id": "09dfc6c6",
   "metadata": {},
   "source": [
    "Assignment 4: Recursive Quick Sort"
   ]
  },
  {
   "cell_type": "markdown",
   "id": "3e201eb0",
   "metadata": {},
   "source": [
    "Task: Implement a recursive quicksort algorithm to sort a list of integers."
   ]
  },
  {
   "cell_type": "markdown",
   "id": "7b41ca07",
   "metadata": {},
   "source": [
    "Answer: "
   ]
  },
  {
   "cell_type": "code",
   "execution_count": 7,
   "id": "631e4c6d",
   "metadata": {},
   "outputs": [
    {
     "name": "stdout",
     "output_type": "stream",
     "text": [
      "[1, 2, 3, 4, 5, 6, 7, 8]\n"
     ]
    }
   ],
   "source": [
    "def quick_sort(arr):\n",
    "    if len(arr) <= 1:\n",
    "        return arr\n",
    "    pivot = arr[len(arr) // 2]\n",
    "    left = [x for x in arr if x < pivot]\n",
    "    middle = [x for x in arr if x == pivot]\n",
    "    right = [x for x in arr if x > pivot]\n",
    "    return quick_sort(left) + middle + quick_sort(right)\n",
    "\n",
    "my_list = [4, 1, 7, 3, 8, 2, 6, 5]\n",
    "sorted_list = quick_sort(my_list)\n",
    "print(sorted_list)"
   ]
  },
  {
   "cell_type": "markdown",
   "id": "cbcbb425",
   "metadata": {},
   "source": [
    "Assignment 5: Recursive Tower of Hanoi"
   ]
  },
  {
   "cell_type": "markdown",
   "id": "f84a7d76",
   "metadata": {},
   "source": [
    "Task: Solve the Tower of Hanoi puzzle using a recursive algorithm to move a stack of disks from one peg to another."
   ]
  },
  {
   "cell_type": "markdown",
   "id": "6fe275e7",
   "metadata": {},
   "source": [
    "Answer: "
   ]
  },
  {
   "cell_type": "code",
   "execution_count": 6,
   "id": "73b483f7",
   "metadata": {},
   "outputs": [
    {
     "name": "stdout",
     "output_type": "stream",
     "text": [
      "Move disk 1 from peg A to peg C\n",
      "Move disk 2 from peg A to peg B\n",
      "Move disk 1 from peg C to peg B\n",
      "Move disk 3 from peg A to peg C\n",
      "Move disk 1 from peg B to peg A\n",
      "Move disk 2 from peg B to peg C\n",
      "Move disk 1 from peg A to peg C\n"
     ]
    }
   ],
   "source": [
    "def tower_of_hanoi(n, source, auxiliary, target):\n",
    "    if n == 1:\n",
    "        print(f\"Move disk 1 from peg {source} to peg {target}\")\n",
    "        return\n",
    "    tower_of_hanoi(n - 1, source, target, auxiliary)\n",
    "    print(f\"Move disk {n} from peg {source} to peg {target}\")\n",
    "    tower_of_hanoi(n - 1, auxiliary, source, target)\n",
    "\n",
    "tower_of_hanoi(3, 'A', 'B', 'C')"
   ]
  },
  {
   "cell_type": "markdown",
   "id": "2db5a6f5",
   "metadata": {},
   "source": [
    "Assignment 6: Recursive Combinations"
   ]
  },
  {
   "cell_type": "markdown",
   "id": "83cfe4ad",
   "metadata": {},
   "source": [
    "Task: Write a recursive function to generate all unique combinations of k elements from a given list."
   ]
  },
  {
   "cell_type": "markdown",
   "id": "cd7a0da9",
   "metadata": {},
   "source": [
    "Answer: "
   ]
  },
  {
   "cell_type": "code",
   "execution_count": 5,
   "id": "f40f5807",
   "metadata": {},
   "outputs": [
    {
     "name": "stdout",
     "output_type": "stream",
     "text": [
      "[[3, 4], [2, 4], [2, 3], [1, 4], [1, 3], [1, 2]]\n"
     ]
    }
   ],
   "source": [
    "def combinations(arr, k):\n",
    "    if k == 0:\n",
    "        return [[]]\n",
    "    if not arr:\n",
    "        return []\n",
    "    head, tail = arr[0], arr[1:]\n",
    "    without_head = combinations(tail, k)\n",
    "    with_head = [([head] + combo) for combo in combinations(tail, k - 1)]\n",
    "    return without_head + with_head\n",
    "\n",
    "my_list = [1, 2, 3, 4]\n",
    "k = 2\n",
    "combinations_list = combinations(my_list, k)\n",
    "print(combinations_list)"
   ]
  },
  {
   "cell_type": "markdown",
   "id": "11c25cf0",
   "metadata": {},
   "source": [
    "Assignment 7: Recursive Maze Solver"
   ]
  },
  {
   "cell_type": "markdown",
   "id": "cb2f2fe5",
   "metadata": {},
   "source": [
    "Task: Write a recursive algorithm to solve a maze and find the path from the start to the end."
   ]
  },
  {
   "cell_type": "markdown",
   "id": "cf6aa719",
   "metadata": {},
   "source": [
    "Answer: "
   ]
  },
  {
   "cell_type": "code",
   "execution_count": null,
   "id": "c033dcde",
   "metadata": {},
   "outputs": [],
   "source": [
    "def solve_maze(maze, x, y, solution):\n",
    "    if x < 0 or x >= len(maze) or y < 0 or y >= len(maze[0]) or maze[x][y] == 0:\n",
    "        return False\n",
    "    if x == len(maze) - 1 and y == len(maze[0]) - 1:\n",
    "        solution[x][y] = 1\n",
    "        return True\n",
    "    if solve_maze(maze, x + 1, y, solution) or solve_maze(maze, x, y + 1, solution):\n",
    "        solution[x][y] = 1\n",
    "        return True\n",
    "    return False\n",
    "\n",
    "maze = [\n",
    "    [1, 0, 0, 0],\n",
    "    [1, 1, 0, 1],\n",
    "    [0, 1, 0, 0],\n",
    "    [1, 1, 1, 1]\n",
    "]\n",
    "\n",
    "solution = [[0] * len(maze[0]) for _ in range(len(maze))]\n",
    "if solve_maze(maze, 0, 0, solution):\n",
    "    for row in solution:\n",
    "        print(row)\n",
    "else:\n",
    "    print(\"No solution found\")"
   ]
  },
  {
   "cell_type": "markdown",
   "id": "cdc4ddf2",
   "metadata": {},
   "source": [
    "Assignment 8: Recursive Palindromic Substrings"
   ]
  },
  {
   "cell_type": "markdown",
   "id": "3bac4af1",
   "metadata": {},
   "source": [
    "Task: Write a recursive function to find all palindromic substrings in a given string."
   ]
  },
  {
   "cell_type": "markdown",
   "id": "9df6be8c",
   "metadata": {},
   "source": [
    "Answer: "
   ]
  },
  {
   "cell_type": "code",
   "execution_count": 4,
   "id": "8c9aaab4",
   "metadata": {},
   "outputs": [
    {
     "name": "stdout",
     "output_type": "stream",
     "text": [
      "['a', 'abccba', 'b', 'bccb', 'c', 'cc', 'c', 'b', 'a']\n"
     ]
    }
   ],
   "source": [
    "def is_palindrome(s):\n",
    "    return s == s[::-1]\n",
    "\n",
    "def palindromic_substrings(s):\n",
    "    substrings = []\n",
    "    for i in range(len(s)):\n",
    "        for j in range(i + 1, len(s) + 1):\n",
    "            substring = s[i:j]\n",
    "            if is_palindrome(substring):\n",
    "                substrings.append(substring)\n",
    "    return substrings\n",
    "\n",
    "input_string = \"abccba\"\n",
    "result = palindromic_substrings(input_string)\n",
    "print(result)"
   ]
  },
  {
   "cell_type": "markdown",
   "id": "e43e041d",
   "metadata": {},
   "source": [
    "Assignment 9: Recursive Permutations with Duplicates"
   ]
  },
  {
   "cell_type": "markdown",
   "id": "3abf243f",
   "metadata": {},
   "source": [
    "Task: Create a recursive function to generate all permutations of a list with duplicate elements."
   ]
  },
  {
   "cell_type": "markdown",
   "id": "eb634cfb",
   "metadata": {},
   "source": [
    "Answer: "
   ]
  },
  {
   "cell_type": "code",
   "execution_count": 3,
   "id": "f3678f70",
   "metadata": {},
   "outputs": [
    {
     "name": "stdout",
     "output_type": "stream",
     "text": [
      "[[1, 2, 2], [2, 1, 2], [2, 2, 1]]\n"
     ]
    }
   ],
   "source": [
    "def permutations_with_duplicates(arr):\n",
    "    if len(arr) <= 1:\n",
    "        return [arr]\n",
    "    perms = []\n",
    "    for i in range(len(arr)):\n",
    "        if i > 0 and arr[i] == arr[i - 1]:\n",
    "            continue\n",
    "        rest = arr[:i] + arr[i + 1:]\n",
    "        for p in permutations_with_duplicates(rest):\n",
    "            perms.append([arr[i]] + p)\n",
    "    return perms\n",
    "\n",
    "my_list = [1, 2, 2]\n",
    "permutations_list = permutations_with_duplicates(my_list)\n",
    "print(permutations_list)"
   ]
  },
  {
   "cell_type": "markdown",
   "id": "9a09b603",
   "metadata": {},
   "source": [
    "Assignment 10: Recursive Maze Shortest Path"
   ]
  },
  {
   "cell_type": "markdown",
   "id": "d5165bcf",
   "metadata": {},
   "source": [
    "Task: Write a recursive algorithm to find the shortest path through a maze from the start to the end."
   ]
  },
  {
   "cell_type": "markdown",
   "id": "0fbc0b8c",
   "metadata": {},
   "source": [
    "Answer: "
   ]
  },
  {
   "cell_type": "code",
   "execution_count": 2,
   "id": "0cdeaedb",
   "metadata": {},
   "outputs": [
    {
     "name": "stdout",
     "output_type": "stream",
     "text": [
      "[(0, 0), (1, 0), (1, 1), (2, 1), (3, 1), (3, 2), (3, 3)]\n"
     ]
    }
   ],
   "source": [
    "def find_shortest_path(maze, x, y, path, shortest_path):\n",
    "    if x < 0 or x >= len(maze) or y < 0 or y >= len(maze[0]) or maze[x][y] == 0:\n",
    "        return\n",
    "    if x == len(maze) - 1 and y == len(maze[0]) - 1:\n",
    "        path.append((x, y))\n",
    "        if len(shortest_path) == 0 or len(path) < len(shortest_path):\n",
    "            shortest_path[:] = path[:]\n",
    "        path.pop()\n",
    "        return\n",
    "    maze[x][y] = 0\n",
    "    path.append((x, y))\n",
    "    find_shortest_path(maze, x + 1, y, path, shortest_path)\n",
    "    find_shortest_path(maze, x, y + 1, path, shortest_path)\n",
    "    path.pop()\n",
    "    maze[x][y] = 1\n",
    "\n",
    "maze = [\n",
    "    [1, 0, 0, 0],\n",
    "    [1, 1, 0, 1],\n",
    "    [0, 1, 0, 0],\n",
    "    [1, 1, 1, 1]\n",
    "]\n",
    "\n",
    "shortest_path = []\n",
    "find_shortest_path(maze, 0, 0, [], shortest_path)\n",
    "print(shortest_path)"
   ]
  }
 ],
 "metadata": {
  "kernelspec": {
   "display_name": "Python 3 (ipykernel)",
   "language": "python",
   "name": "python3"
  },
  "language_info": {
   "codemirror_mode": {
    "name": "ipython",
    "version": 3
   },
   "file_extension": ".py",
   "mimetype": "text/x-python",
   "name": "python",
   "nbconvert_exporter": "python",
   "pygments_lexer": "ipython3",
   "version": "3.9.13"
  },
  "toc": {
   "base_numbering": 1,
   "nav_menu": {},
   "number_sections": true,
   "sideBar": true,
   "skip_h1_title": false,
   "title_cell": "Table of Contents",
   "title_sidebar": "Contents",
   "toc_cell": false,
   "toc_position": {},
   "toc_section_display": true,
   "toc_window_display": false
  }
 },
 "nbformat": 4,
 "nbformat_minor": 5
}
